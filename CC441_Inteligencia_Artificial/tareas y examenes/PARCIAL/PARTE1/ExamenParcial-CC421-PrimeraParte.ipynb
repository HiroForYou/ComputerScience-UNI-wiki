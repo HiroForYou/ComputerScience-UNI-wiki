{
 "cells": [
  {
   "cell_type": "markdown",
   "metadata": {},
   "source": [
    "## Examen Parcial de Inteligencia Artificial \n",
    "\n",
    "Esta es la primera parte del examen parcial de Inteligencia Artificial que abarca aspectos teóricos del curso.\n",
    "\n",
    "* Tienes 150 minutos como máximo para responder tantas preguntas como sea posible. No se ́admiten examenes fuera de tiempo. ́\n",
    "\n",
    "* Escribe en este cuaderno todas tus respuestas. No se admiten otros tipos de archivos.\n",
    "\n",
    "* Si  no  cuentas  con  una  herramienta  para  dibujar  tablas  o  alguna  otra  cosa  solicitada  en  la prueba,  puedes  presentar  imagenes  hechas  a  mano  que  justifiquen  tus  respuestas. Es tu responsabilidad si se pueden ver o leer.  No se admiten figuras como respuesta. \n",
    "\n",
    "* No se admiten copias. Cualquier evidencia de copia de otra fuente no serán consideradas y el puntaje será cero. Si la copia implica varias preguntas (por lo menos dos) se anulará el examen con OA. \n",
    "\n",
    "* Responder las preguntas en orden.\n",
    "\n",
    "* **Solo se puntua si se han respondido todos las ítem de las preguntas, no se tomará en cuenta las preguntas incompletas**.\n",
    "\n",
    "* Escribe tus respuestas lo mas precisas posible, utilizando todos los conceptos aprendidos en ́clase. \n",
    "\n",
    "#### Nombre y Apellidos: Sánchez Sauñe Cristhian Wiki\n"
   ]
  },
  {
   "cell_type": "markdown",
   "metadata": {},
   "source": [
    "1. ¿Cuál de las siguientes proposiciones no es equivalente a las demás? \n",
    "\n",
    "    a) La oración $\\alpha$ entails con la oración $\\beta$. \n",
    "    \n",
    "    b)  $\\alpha$ es verdadera en todos los modelos donde $\\beta$ es verdadera. \n",
    "    \n",
    "    c)  $\\beta$ sigue lógicamente de $\\alpha$. \n",
    "    \n",
    "    d) $\\alpha \\models \\beta$.\n"
   ]
  },
  {
   "cell_type": "markdown",
   "metadata": {},
   "source": [
    "b, porque si 𝛼 es verdadera en todos los modelos donde 𝛽 lo es, quiere decir que 𝛽 implica 𝛼 (𝛽 => 𝛼 ). Esto no se cumple en las demás proposiciones ya que presentan a 𝛽 y 𝛼 como equivalente atómicos, no como una proposición condicional."
   ]
  },
  {
   "cell_type": "markdown",
   "metadata": {},
   "source": [
    "2. ¿Cuál de las siguientes proposiciones no es equivalente a las demás?\n",
    "\n",
    "    a) $\\forall\\ x,y,P(x,y)= P(x)P(y)$\n",
    "\n",
    "    b) $\\forall\\ x,y,z,P(x)P(z|x,y)P(y) =P(x,y,z)$\n",
    "\n",
    "    c) $X \\bot Y$\n",
    "\n",
    "    d) $X=f(Y)$ (se lee como la variable aleatoria $X$ es una función de la variable aleatoria $Y$).\n",
    "\n"
   ]
  },
  {
   "cell_type": "markdown",
   "metadata": {},
   "source": [
    "'d' es la respuesta incorrecta, en las demás alternativas se muestra que x e y son independientes. En a  ∀ 𝑥,𝑦, 𝑃(𝑥,𝑦)=𝑃(𝑥)𝑃(𝑦), dicha propiedad se cumple si los eventos x e y son independiente uno respecto al otro. En 'b' usando 'a', podemos hacer lo siguiente:\n",
    "\n",
    "                ∀ 𝑥,𝑦,𝑧,         𝑃(𝑥)𝑃(𝑧|𝑥,𝑦)𝑃(𝑦) = 𝑃(𝑥,𝑦,𝑧)\n",
    "                                 𝑃(𝑧|𝑥,𝑦)𝑃(𝑥)𝑃(𝑦) = 𝑃(𝑥,𝑦,𝑧)\n",
    "                                 𝑃(𝑧|𝑥,𝑦)𝑃(𝑥,𝑦) = 𝑃(𝑥,𝑦,𝑧)\n",
    "                                 𝑃(𝑥,𝑦,𝑧) = 𝑃(𝑥,𝑦,𝑧)\n",
    "                                 \n",
    "Mientras que 'c' nos dice que tanto X como Y son variables aleatorias independientes, ya que pueden ser interpretadas como variables perpendiculares entre si, y que no presentan correlación entre ellas.\n",
    "\n",
    "En cambio la 'd' nos dice que la variable X e Y estan relacionadas por una función f."
   ]
  },
  {
   "cell_type": "markdown",
   "metadata": {},
   "source": [
    "3. Para cada uno de los siguientes algoritmos de búsqueda, indica el orden en el que se expanden los estados, así como la ruta final devuelta por el algoritmo. Si dos nodos compiten por expandirse, el conflicto se resuelve por orden alfabético. Explica tu respuesta.\n",
    "\n",
    "![](Search-algorithm.png)\n",
    "\n",
    "1. DFS (Depth-First search)\n",
    "2. BFS (Breadth-First search)\n",
    "3. Búsqueda de costo uniforme\n",
    "4. Búsqueda greedy\n",
    "5. ¿$A^*$ (¿es admisible la heurística?)\n"
   ]
  },
  {
   "cell_type": "markdown",
   "metadata": {},
   "source": [
    "1.\n",
    "2.\n",
    "3.\n",
    "4.\n",
    "5.\n"
   ]
  },
  {
   "cell_type": "markdown",
   "metadata": {},
   "source": [
    "4. Depth Limited Search (DLS) es una variante del DFS en la que los nodos a una profundidad L determinada se tratan como si no tuvieran sucesores. Llamamos L el límite de profundidad. Si suponemos que todos los bordes tienen un peso uniforme. \n",
    "\n",
    "    a) Describe brevemente una ventaja del DLS sobre un DFS simple que explora todo el árbol de búsqueda.\n",
    "    \n",
    "    b) Describe brevemente una desventaja del DLS en comparación con DFS simple que explora todo el árbol de búsqueda. \n",
    "    \n",
    "    c) ¿DLS óptimo?\n",
    "    \n",
    "    d) ¿DLS es completo?"
   ]
  },
  {
   "cell_type": "code",
   "execution_count": null,
   "metadata": {},
   "outputs": [],
   "source": [
    "## Tu solución"
   ]
  },
  {
   "cell_type": "markdown",
   "metadata": {},
   "source": [
    "5. En un entorno estocástico y parcialmente observable, un agente racional es..."
   ]
  },
  {
   "cell_type": "markdown",
   "metadata": {},
   "source": [
    "Una entidad capaz de tomar decisiones en base a motor de inferencia y una base de conocimientos previamente establecida. El agente puede tomar decisiones en base al entorno en el que se desenvuelve de manera correcta y con una tendencia a maximizar un determiando resultado esperado."
   ]
  },
  {
   "cell_type": "markdown",
   "metadata": {},
   "source": [
    "6. Se te contrató para construir un sistema de control de calidad para decidir si los motores de los automóviles que salen de una línea de ensamblaje están `ok` `bad`. Sin embargo, esta decisión debe basarse en tres observaciones booleanas ruidosas: el motor puede vibrar (sensor de movimiento), vibrar (sensor de sonido) o estar caliente (sensor de calor). Cada sensor da una observación booleana:`true` o `false`. \n",
    "\n",
    "    Si formalizas el problema usando las siguientes variables y dominios: \n",
    "    \n",
    "    Causa: $B \\in \\{bad, ok\\}$ \n",
    "    \n",
    "    Evidencia: $W, R, H \\in \\{true, false\\}$ \n",
    "    \n",
    "    Si razonas que un clasificador Naive Bayes es apropiado  y construyes uno que prediga $P(B | W, R, H)$. \n",
    "    \n",
    "   a) Si la empresa tiene registros de varios motores que salieron recientemente de la línea de montaje:\n",
    "   \n",
    "   \n",
    "   ![](NB1.png)\n",
    "   \n",
    "   Dados estos datos, indica cual de las dos fila de tablas indican los parámetros correctos de máxima verosimilitud para el modelo de Naives Bayes de este dominio.\n",
    "   \n",
    "   ![](NB2.png)\n",
    "   \n",
    "   b) Suponga que recibe una observación de un nuevo motor: `W = false, R = true, H = false`. ¿Qué predicción haría el clasificador: `bad` o `ok`?.\n",
    "\n",
    "   c) ¿Cuál sería la probabilidad posterior de esa predicción?.\n"
   ]
  },
  {
   "cell_type": "markdown",
   "metadata": {},
   "source": [
    "a) Observando los datos, la segunda fila es la que guarda concordancia con la tabla inicial. Lo que determina el valor del denominador (3 o 5) será determinado por la segunda variable aleatoria de la condicional.\n",
    "\n",
    "b) Usando la suposición Naive Bayes, de que las variables son independientes..\n",
    "\n",
    "--> Hallamos la probabilidad condicional para B=bad\n",
    "\n",
    "𝑃(𝐵|𝑊,𝑅,𝐻) = P(B)𝑃(𝑊|B)𝑃(R|B)𝑃(H|B)\n",
    "P(B=bad |𝑊 = false, 𝑅=true , 𝐻=false) = P(B=bad)𝑃(𝑊=false|B=bad)𝑃(R=true|B=bad)𝑃(H=false|B=bad) \n",
    "\n",
    "usando los datos de 'a':\n",
    "\n",
    "P(B=bad)𝑃(𝑊=false|B=bad)𝑃(R=true|B=bad)𝑃(H=false|B=bad) = (3/8) (1/3) (2/3) (2/3) = 0.05\n",
    "\n",
    "--> Hallamos la probabilidad condicional para B=ok\n",
    "\n",
    "P(B=ok)𝑃(𝑊=false|B=ok)𝑃(R=true|B=ok)𝑃(H=false|B=ok) = (5/8) (4/5) (2/5) (4/5) = 0.16\n",
    "\n",
    "\n",
    ".. Entonces el clasificador predicirá 'ok' porque es tiene la probabilidad más alta*.\n",
    "\n",
    "c) Usando al regla de bayes para calcular el posteriori. "
   ]
  },
  {
   "cell_type": "markdown",
   "metadata": {},
   "source": [
    "7. Explica los siguientes resultados si son verdaderos o falsos.\n",
    "\n",
    "    * Para la regresión logística, con parámetros optimizados mediante un método de gradiente estocástico, establecer los parámetros en $0$ es una inicialización aceptable.\n",
    "\n",
    "    * El uso de la validación cruzada para seleccionar hiperparámetros garantizará que nuestro modelo no se sobreajuste.\n",
    "\n",
    "    * Un bosque aleatorio es un método de aprendizaje ensamblado que intenta reducir el error de sesgo de los árboles de decisión.\n",
    "\n",
    "    * Considera un problema de clasificación de diagnóstico de cáncer en el que casi todas las personas a las que se les diagnostica no tienen cáncer. La probabilidad de clasificación correcta es la métrica más importante para optimizar."
   ]
  },
  {
   "cell_type": "markdown",
   "metadata": {},
   "source": [
    "i.- Verdadero, esto se cumple para la regresión logistica debido a que los parámetros pueden ajustaste hasta los óptimos mediante algún proceso iterativo como SGD. Esto no se cumple cuando ya se trata con redes neuronales profundas, pues impide que el proceso de backpropagation trabaje correctamente (no se puede ejecutar porque las gradientes desaparecerán).\n",
    "\n",
    "ii.- Falso, esto no siempre es cierto, pues el dataset con el que se debe hacer validación cruzada necesarimente debe ser muy representativo respecto a todos los casos habidos y por haber, y esto solo es algo ideal. En el mundo real suele haber pocos datos, y además sesgados.\n",
    "\n",
    "iii.- Verdadero, los bosques aleatorios se construyen sobre los árboles de decisión, donde cada árbol se entrenada con una porción de los datos, construyendo de esta forma un modelo sólido de bosque cuya clasificación se basa en lo que mayoría de los estudiantes débiles (árboles) clasifiquen indiviualmente. Bosques aleatorios es una forma de Bagging.\n",
    "\n",
    "iv.- Falso. Vemos un exceso de Falsos positivos, pero ni nos centramos en reducir este número, también estaríamos descuidando los Falsos Negativos, por ende la métrica que compensa entre precision y recall, es F1-score, asi que debemos intentar optimizarla, no solamente la probabilidad de clasificación correcta."
   ]
  },
  {
   "cell_type": "markdown",
   "metadata": {},
   "source": [
    "8. Responde las siguientes preguntas:\n",
    "\n",
    " a) En un sistema experto que realiza diagnósticos, el encadenamiento backward sería una estrategia eficiente si existieran potencialmente muchas causas posibles de observaciones.\n",
    " \n",
    " b) Acabas de terminar de entrenar un árbol de decisiones para la clasificación de spam y estás obteniendo un rendimiento raro y malo tanto en tu entrenamiento como en tus conjuntos de prueba. Sabes que tu implementación no tiene errores, entonces, ¿qué podría estar causando el problema?\n",
    " \n",
    " c) Sea $X$ una distribución uniforme:\n",
    "\n",
    "    $$\n",
    "        p(x, \\theta) = \\begin{cases}\n",
    "        \\frac{1}{q}\\ 0 \\leq x \\leq \\theta \\\\\n",
    "        0 \\ \\text{en otros casos}\n",
    "        \\end{cases}\n",
    "        $$\n",
    " \n",
    "   Supongamos que $n$ muestras $x_1,\\dots, x_n$ que son independientemente de acuerdo con $p(x, \\theta)$.\n",
    "\n",
    "    * La estimación de máxima verosimilitud de $\\theta$ es $x_{(n)} = \\max(x_1, x_2,\\dots, x_n)$. Demuestra que esta estimación de $\\theta$ es sesgada. \n",
    "    \n",
    "    * Escribe una expresión para un estimador insesgado de $\\theta$."
   ]
  },
  {
   "cell_type": "markdown",
   "metadata": {},
   "source": [
    "b) En este caso, se esperarían dos posibilidades: que los datos sean muy sesgados y lleno de ruido, o que sean escasos. O también puede deberse a que nuestro modelo es muy simple (underfitting), por lo que deberiamos añadir más profundidad a nuestro árbol o cambiar a un modelo más complejo*. "
   ]
  },
  {
   "cell_type": "code",
   "execution_count": null,
   "metadata": {},
   "outputs": [],
   "source": []
  }
 ],
 "metadata": {
  "kernelspec": {
   "display_name": "Python 3",
   "language": "python",
   "name": "python3"
  },
  "language_info": {
   "codemirror_mode": {
    "name": "ipython",
    "version": 3
   },
   "file_extension": ".py",
   "mimetype": "text/x-python",
   "name": "python",
   "nbconvert_exporter": "python",
   "pygments_lexer": "ipython3",
   "version": "3.6.9"
  }
 },
 "nbformat": 4,
 "nbformat_minor": 4
}

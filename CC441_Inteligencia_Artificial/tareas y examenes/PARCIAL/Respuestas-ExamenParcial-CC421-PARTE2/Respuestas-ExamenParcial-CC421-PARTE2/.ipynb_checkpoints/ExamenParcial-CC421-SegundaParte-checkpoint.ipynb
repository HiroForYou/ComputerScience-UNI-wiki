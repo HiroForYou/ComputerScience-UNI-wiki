{
 "cells": [
  {
   "cell_type": "markdown",
   "metadata": {},
   "source": [
    "## Examen Parcial de Inteligencia Artificial \n",
    "\n",
    "Esta es la segunda parte del examen parcial de Inteligencia Artificial que abarca aspectos teóricos del curso.\n",
    "\n",
    "* Tienes 180 minutos como máximo para responder tantas preguntas como sea posible. No se ́admiten examenes fuera de tiempo. ́\n",
    "\n",
    "* Escribe en este cuaderno todas tus respuestas. No se admiten otros tipos de archivos.\n",
    "\n",
    "* No se admiten copias. Cualquier evidencia de copia de otra fuente no serán consideradas y el puntaje será cero. Si la copia implica varias preguntas (por lo menos dos) se anulará el examen con OA. \n",
    "\n",
    "* Responder las preguntas en orden y coloca comentarios a tu código. Si vas a utilizar código desde otras fuentes indicarlo en los comentarios, pero asegurate de modificarlo o reutilizarlo.\n",
    "\n",
    "* **Solo se puntua si se han respondido todos las ítem de las preguntas, no se tomará en cuenta las preguntas incompletas**.\n",
    "\n",
    "\n",
    "#### Nombre y Apellidos:"
   ]
  },
  {
   "cell_type": "markdown",
   "metadata": {},
   "source": [
    "1. Considera una elección en la que votarán un millón de personas. $490.000$ personas votarán por el candidato $A$ y $510.000$ personas votarán por el candidato $B$. Un día antes de las elecciones, la compañía 'Z' realiza una encuesta entre $1000$ votantes elegidos al azar. Calcule si 'Z' predecirá el ganador correctamente con una semilla de 2.\n",
    "\n",
    "    Realiza la encuesta $1000$ veces. Cuenta cuántas veces el resultado de la encuesta indica que el candidato $A$ gana y cuántas veces el resultado de la encuesta dice que el candidato $B$ gana. ¿Cuál es la probabilidad de que 'Z' prediga al ganador correcto basándose en estas $1000$ encuestas de $1000$ personas?\n",
    "\n",
    "    Calcula la probabilidad de que 'Z'  prediga al ganador correcto basándose en $1000$ encuestas de $5000$ personas. ¿La probabilidad de que 'Z' prediga al ganador correcto aumenta significativamente cuando se encuesta a $5000$ personas?.\n",
    "    \n",
    "Sugerencia: Revisa el siguiente código, que responde el primer ítem de la pregunta.\n"
   ]
  },
  {
   "cell_type": "code",
   "execution_count": 1,
   "metadata": {},
   "outputs": [
    {
     "name": "stdout",
     "output_type": "stream",
     "text": [
      "Encuesta por A: 522\n",
      "Z predice el ganador equivocado\n"
     ]
    }
   ],
   "source": [
    "%matplotlib inline\n",
    "import numpy as np\n",
    "import matplotlib.pyplot as plt\n",
    "import numpy.random as rnd\n",
    "\n",
    "rnd.seed(2)\n",
    "encuesta = rnd.choice([0, 1], 1000, p=[0.49, 0.51]) \n",
    "encuesta_A = np.count_nonzero(encuesta == 0)\n",
    "print('Encuesta por A:', encuesta_A)\n",
    "if encuesta_A > 500: \n",
    "    print('Z predice el ganador equivocado')\n",
    "else:\n",
    "    print('Z predice el ganador correcto')"
   ]
  },
  {
   "cell_type": "code",
   "execution_count": 2,
   "metadata": {},
   "outputs": [],
   "source": [
    "## Tus soluciones"
   ]
  },
  {
   "cell_type": "markdown",
   "metadata": {},
   "source": [
    "2.Carga el conjunto de datos `bank-campaign.csv`\n",
    "\n",
    "Este conjunto de datos es el éxito del marketing de una campaña de promoción telefónica hecha por un banco. El objetivo es predecir el  resultado binario, de que es si un cliente se suscribió a un nuevo producto.\n",
    "\n",
    "Divide los datos en un conjunto de entrenamiento y de prueba usando `train_test_split`. Utiliza la validación cruzada para evaluar un `RandomForestClassifier` en la parte de entrenamiento. Luego use `GridSearchCV` para ajustar los parámetros `max_features` y `max_depth`. Crea un mapa de calor con los resultados de la validación cruzada para todo el grid.\n",
    "\n",
    "Dado que el conjunto de datos es un poco más grande, podría ser útil submuestrear el conjunto de datos, ya sea manualmente o dentro de `train_test_split`. Por lo general, es una buena idea crear un prototipo de tu código con un subconjunto de datos.\n"
   ]
  },
  {
   "cell_type": "code",
   "execution_count": 3,
   "metadata": {},
   "outputs": [],
   "source": [
    "## Tu solución"
   ]
  },
  {
   "cell_type": "markdown",
   "metadata": {},
   "source": [
    "3. Programa alguno de los siguientes algoritmos, BSF, DSF, búsqueda de costo uniforme o A* en el lenguaje de tu elección y realiza una prueba con el ejemplo de 8-puzzle dado en en las notas de clase."
   ]
  },
  {
   "cell_type": "code",
   "execution_count": 4,
   "metadata": {},
   "outputs": [],
   "source": [
    "## Tu solución"
   ]
  },
  {
   "cell_type": "markdown",
   "metadata": {},
   "source": [
    "4. Dadas las entradas,$A, b$,  un valor inicial $x$, un número máximo de iteraciones $i_{\\max}$, y una tolerancia de error $\\epsilon < 1$, implementa el siguiente pseudocódigo (puedes acoplar a algunas cambios), tomada desde el tutorial de `An Introduction to the Conjugate Gradient Method Without the Agonizing Pain` de Jonathan Richard Shewchuk.\n",
    "\n",
    "![](GD.png)\n",
    "\n",
    "Este algoritmo termina cuando se excede el número máximo de iteraciones $i_{\\max}$ o cuando $\\Vert r_{(i)}\\Vert \\leq \\epsilon \\Vert r_{(0)}\\Vert$."
   ]
  },
  {
   "cell_type": "code",
   "execution_count": 5,
   "metadata": {},
   "outputs": [],
   "source": [
    "## Tu solución"
   ]
  },
  {
   "cell_type": "markdown",
   "metadata": {},
   "source": [
    "5. En este ejercicio usaremos el script `dArbol.py` y el conjunto de datos `party.data`. Usando el algoritmo ID3 en esta sección construimo un árbol de decisiones orientado a la clasificación para decidir qué hacer por la noche, en un conjunto de datos que enumera todo lo que hemos hecho durante los últimos 10 días. Calcula la entropía y encuentra qué característica tiene la máxima ganancia de información. Realiza el mismo procedimiento con el conjunto de datos `tennis.csv`."
   ]
  },
  {
   "cell_type": "code",
   "execution_count": 6,
   "metadata": {},
   "outputs": [],
   "source": [
    "## Tu solucion"
   ]
  },
  {
   "cell_type": "markdown",
   "metadata": {},
   "source": [
    "6. Realiza una comparación de Naive Bayes multinomiales y gaussianos, para ello utiliza la documentación [sklearn.naive_bayes.MultinomialNB](https://scikit-learn.org/stable/modules/generated/sklearn.naive_bayes.MultinomialNB.html) y [sklearn.naive_bayes.GaussianNB](https://scikit-learn.org/stable/modules/generated/sklearn.naive_bayes.GaussianNB.html) y el conjunto de datos `diabetes.csv`. Explica tus resultados."
   ]
  },
  {
   "cell_type": "code",
   "execution_count": 7,
   "metadata": {},
   "outputs": [
    {
     "data": {
      "text/html": [
       "<div>\n",
       "<style scoped>\n",
       "    .dataframe tbody tr th:only-of-type {\n",
       "        vertical-align: middle;\n",
       "    }\n",
       "\n",
       "    .dataframe tbody tr th {\n",
       "        vertical-align: top;\n",
       "    }\n",
       "\n",
       "    .dataframe thead th {\n",
       "        text-align: right;\n",
       "    }\n",
       "</style>\n",
       "<table border=\"1\" class=\"dataframe\">\n",
       "  <thead>\n",
       "    <tr style=\"text-align: right;\">\n",
       "      <th></th>\n",
       "      <th>Glucose</th>\n",
       "      <th>BloodPressure</th>\n",
       "      <th>SkinThickness</th>\n",
       "      <th>Insulin</th>\n",
       "      <th>BMI</th>\n",
       "      <th>DiabetesPedigreeFunction</th>\n",
       "      <th>Age</th>\n",
       "      <th>Outcome</th>\n",
       "    </tr>\n",
       "    <tr>\n",
       "      <th>Pregnancies</th>\n",
       "      <th></th>\n",
       "      <th></th>\n",
       "      <th></th>\n",
       "      <th></th>\n",
       "      <th></th>\n",
       "      <th></th>\n",
       "      <th></th>\n",
       "      <th></th>\n",
       "    </tr>\n",
       "  </thead>\n",
       "  <tbody>\n",
       "    <tr>\n",
       "      <th>6</th>\n",
       "      <td>148</td>\n",
       "      <td>72</td>\n",
       "      <td>35</td>\n",
       "      <td>0</td>\n",
       "      <td>33.6</td>\n",
       "      <td>0.627</td>\n",
       "      <td>50</td>\n",
       "      <td>1</td>\n",
       "    </tr>\n",
       "    <tr>\n",
       "      <th>1</th>\n",
       "      <td>85</td>\n",
       "      <td>66</td>\n",
       "      <td>29</td>\n",
       "      <td>0</td>\n",
       "      <td>26.6</td>\n",
       "      <td>0.351</td>\n",
       "      <td>31</td>\n",
       "      <td>0</td>\n",
       "    </tr>\n",
       "    <tr>\n",
       "      <th>8</th>\n",
       "      <td>183</td>\n",
       "      <td>64</td>\n",
       "      <td>0</td>\n",
       "      <td>0</td>\n",
       "      <td>23.3</td>\n",
       "      <td>0.672</td>\n",
       "      <td>32</td>\n",
       "      <td>1</td>\n",
       "    </tr>\n",
       "    <tr>\n",
       "      <th>1</th>\n",
       "      <td>89</td>\n",
       "      <td>66</td>\n",
       "      <td>23</td>\n",
       "      <td>94</td>\n",
       "      <td>28.1</td>\n",
       "      <td>0.167</td>\n",
       "      <td>21</td>\n",
       "      <td>0</td>\n",
       "    </tr>\n",
       "    <tr>\n",
       "      <th>0</th>\n",
       "      <td>137</td>\n",
       "      <td>40</td>\n",
       "      <td>35</td>\n",
       "      <td>168</td>\n",
       "      <td>43.1</td>\n",
       "      <td>2.288</td>\n",
       "      <td>33</td>\n",
       "      <td>1</td>\n",
       "    </tr>\n",
       "  </tbody>\n",
       "</table>\n",
       "</div>"
      ],
      "text/plain": [
       "             Glucose  BloodPressure  SkinThickness  Insulin   BMI  \\\n",
       "Pregnancies                                                         \n",
       "6                148             72             35        0  33.6   \n",
       "1                 85             66             29        0  26.6   \n",
       "8                183             64              0        0  23.3   \n",
       "1                 89             66             23       94  28.1   \n",
       "0                137             40             35      168  43.1   \n",
       "\n",
       "             DiabetesPedigreeFunction  Age  Outcome  \n",
       "Pregnancies                                          \n",
       "6                               0.627   50        1  \n",
       "1                               0.351   31        0  \n",
       "8                               0.672   32        1  \n",
       "1                               0.167   21        0  \n",
       "0                               2.288   33        1  "
      ]
     },
     "execution_count": 7,
     "metadata": {},
     "output_type": "execute_result"
    }
   ],
   "source": [
    "import pandas as pd\n",
    "\n",
    "pima = pd.read_csv('diabetes.csv', index_col = 0)\n",
    "pima.head()"
   ]
  },
  {
   "cell_type": "markdown",
   "metadata": {},
   "source": [
    "7. Carga los valores $x$, $y$ de $20$ puntos de datos del archivo `xydata.dat`. Ajusta una línea recta a través de los datos usando la función `linregress` de `scipy.stats`. Ten en cuenta que la función `linregress` devuelve otros $3$ valores más allá de la pendiente y la intersección (use linregress?. Traza los datos y la línea recta ajustada. Agrega una leyenda. Agrega el RMSE como título del gráfico. Imprime los valores óptimos para la pendiente y la intersección de la línea recta en la pantalla.\n",
    "\n",
    "    Realiza el procedimiento anterior con un polinomio de segundo grado (una parábola) a través de los datos usando la función `np.polyfit`.¿Mejoró el RMSE? \n",
    "\n",
    "    Ahora realiza el mismo procedimiento con la función `f(x)=Aexp (ax) + b` a través de los datos usando la función `curve_fit` de `scipy.optimize`. ¿Mejoró el MSE?\n",
    "\n",
    "     Calcula los valores óptimos (en el sentido de mínimos cuadrados) de $a$ y $b$ usando la suma de errores cuadrados (usando las matrices `xdata` e `ydata` para los tres puntos dados:\n",
    "\n",
    "    ```\n",
    "    xdata = np.array([5.0, 10.0, 15.0])\n",
    "    ydata = np.array([3.0, 6.0, 7.0])\n",
    "    ```\n",
    "      A continuación, usa la función `linregress` del paquete `scipy.stats` para calcular los valores óptimos y verifique que la función `linregress` dé las mismas respuestas. Crea una gráfica que muestra los tres puntos de datos y la línea recta ajustada.\n",
    "      \n",
    "Sugerencia: se puede utilizar `np.loadtxt('xydata.dat')` para cargar los datos. "
   ]
  },
  {
   "cell_type": "code",
   "execution_count": 8,
   "metadata": {},
   "outputs": [],
   "source": [
    "# Tus soluciones"
   ]
  },
  {
   "cell_type": "markdown",
   "metadata": {},
   "source": [
    "8. Opcional (no tiene puntaje): Explora la página [https://aipaygrad.es/](https://aipaygrad.es/)."
   ]
  },
  {
   "cell_type": "code",
   "execution_count": null,
   "metadata": {},
   "outputs": [],
   "source": []
  }
 ],
 "metadata": {
  "kernelspec": {
   "display_name": "Python 3",
   "language": "python",
   "name": "python3"
  },
  "language_info": {
   "codemirror_mode": {
    "name": "ipython",
    "version": 3
   },
   "file_extension": ".py",
   "mimetype": "text/x-python",
   "name": "python",
   "nbconvert_exporter": "python",
   "pygments_lexer": "ipython3",
   "version": "3.7.6"
  }
 },
 "nbformat": 4,
 "nbformat_minor": 4
}

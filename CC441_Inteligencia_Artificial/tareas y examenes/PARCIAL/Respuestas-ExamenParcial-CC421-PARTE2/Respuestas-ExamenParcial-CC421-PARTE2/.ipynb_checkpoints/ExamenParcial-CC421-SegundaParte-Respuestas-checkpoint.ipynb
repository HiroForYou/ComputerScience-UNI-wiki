{
 "cells": [
  {
   "cell_type": "markdown",
   "metadata": {},
   "source": [
    "##  Respuestas del Examen Parcial de Inteligencia Artificial \n"
   ]
  },
  {
   "cell_type": "markdown",
   "metadata": {},
   "source": [
    "1. Considera una elección en la que votarán un millón de personas. $490.000$ personas votarán por el candidato $A$ y $510.000$ personas votarán por el candidato $B$. Un día antes de las elecciones, la compañía 'Z' realiza una encuesta entre $1000$ votantes elegidos al azar. Calcule si 'Z' predecirá el ganador correctamente con una semilla de 2.\n",
    "\n",
    "    Realiza la encuesta $1000$ veces. Cuenta cuántas veces el resultado de la encuesta indica que el candidato $A$ gana y cuántas veces el resultado de la encuesta dice que el candidato $B$ gana. ¿Cuál es la probabilidad de que 'Z' prediga al ganador correcto basándose en estas $1000$ encuestas de $1000$ personas?\n",
    "\n",
    "    Calcula la probabilidad de que 'Z'  prediga al ganador correcto basándose en $1000$ encuestas de $5000$ personas. ¿La probabilidad de que 'Z' prediga al ganador correcto aumenta significativamente cuando se encuesta a $5000$ personas?.\n",
    "    \n",
    "Sugerencia: Revisa el siguiente código, que responde el primer ítem de la pregunta.\n"
   ]
  },
  {
   "cell_type": "code",
   "execution_count": 1,
   "metadata": {},
   "outputs": [],
   "source": [
    "import warnings\n",
    "warnings.filterwarnings(\"ignore\")"
   ]
  },
  {
   "cell_type": "code",
   "execution_count": 2,
   "metadata": {},
   "outputs": [
    {
     "name": "stdout",
     "output_type": "stream",
     "text": [
      "Encuesta por A: 522\n",
      "Z predice el ganador equivocado\n"
     ]
    }
   ],
   "source": [
    "%matplotlib inline\n",
    "import numpy as np\n",
    "import matplotlib.pyplot as plt\n",
    "import numpy.random as rnd\n",
    "\n",
    "rnd.seed(2)\n",
    "encuesta = rnd.choice([0, 1], 1000, p=[0.49, 0.51]) \n",
    "encuesta_A = np.count_nonzero(encuesta == 0)\n",
    "print('Encuesta por A:', encuesta_A)\n",
    "if encuesta_A > 500: \n",
    "    print('Z predice el ganador equivocado')\n",
    "else:\n",
    "    print('Z predice el ganador correcto')"
   ]
  },
  {
   "cell_type": "code",
   "execution_count": 3,
   "metadata": {},
   "outputs": [
    {
     "name": "stdout",
     "output_type": "stream",
     "text": [
      "1000 encuestas de 1000 personas\n",
      "Probabilidad que Z predice que A es el ganador: 0.262\n"
     ]
    }
   ],
   "source": [
    "Agana = 0\n",
    "Bgana = 0\n",
    "for i in range(1000):\n",
    "    encuesta = rnd.choice([0, 1], 1000, p=[0.49, 0.51])\n",
    "    encuesta_A = np.count_nonzero(encuesta == 0)\n",
    "    if encuesta_A > 500: \n",
    "        Agana += 1\n",
    "    else:\n",
    "        Bgana += 1\n",
    "print('1000 encuestas de 1000 personas')\n",
    "print('Probabilidad que Z predice que A es el ganador:', Agana / 1000)"
   ]
  },
  {
   "cell_type": "code",
   "execution_count": 4,
   "metadata": {},
   "outputs": [
    {
     "name": "stdout",
     "output_type": "stream",
     "text": [
      "1000 encuestas de 1000 personas\n",
      "Probabilidad que Z predice que A es el ganador: 0.071\n"
     ]
    }
   ],
   "source": [
    "Agana = 0\n",
    "Bgana = 0\n",
    "for i in range(1000):\n",
    "    encuesta = rnd.choice([0, 1], 5000, p=[0.49, 0.51])\n",
    "    encuesta_A = np.count_nonzero(encuesta == 0)\n",
    "    if encuesta_A > 2500: \n",
    "        Agana += 1\n",
    "    else:\n",
    "        Bgana += 1\n",
    "print('1000 encuestas de 1000 personas')\n",
    "print('Probabilidad que Z predice que A es el ganador:', Agana / 1000)"
   ]
  },
  {
   "cell_type": "markdown",
   "metadata": {},
   "source": [
    "2.Carga el conjunto de datos `bank-campaign.csv`\n",
    "\n",
    "Este conjunto de datos es el éxito del marketing de una campaña de promoción telefónica hecha por un banco. El objetivo es predecir el  resultado binario, de que es si un cliente se suscribió a un nuevo producto.\n",
    "\n",
    "Divide los datos en un conjunto de entrenamiento y de prueba usando `train_test_split`. Utiliza la validación cruzada para evaluar un `RandomForestClassifier` en la parte de entrenamiento. Luego use `GridSearchCV` para ajustar los parámetros `max_features` y `max_depth`. Crea un mapa de calor con los resultados de la validación cruzada para todo el grid.\n",
    "\n",
    "Dado que el conjunto de datos es un poco más grande, podría ser útil submuestrear el conjunto de datos, ya sea manualmente o dentro de `train_test_split`. Por lo general, es una buena idea crear un prototipo de tu código con un subconjunto de datos.\n"
   ]
  },
  {
   "cell_type": "code",
   "execution_count": 5,
   "metadata": {},
   "outputs": [
    {
     "data": {
      "text/html": [
       "<div>\n",
       "<style scoped>\n",
       "    .dataframe tbody tr th:only-of-type {\n",
       "        vertical-align: middle;\n",
       "    }\n",
       "\n",
       "    .dataframe tbody tr th {\n",
       "        vertical-align: top;\n",
       "    }\n",
       "\n",
       "    .dataframe thead th {\n",
       "        text-align: right;\n",
       "    }\n",
       "</style>\n",
       "<table border=\"1\" class=\"dataframe\">\n",
       "  <thead>\n",
       "    <tr style=\"text-align: right;\">\n",
       "      <th></th>\n",
       "      <th>age</th>\n",
       "      <th>duration</th>\n",
       "      <th>campaign</th>\n",
       "      <th>pdays</th>\n",
       "      <th>previous</th>\n",
       "      <th>emp.var.rate</th>\n",
       "      <th>cons.price.idx</th>\n",
       "      <th>cons.conf.idx</th>\n",
       "      <th>euribor3m</th>\n",
       "      <th>nr.employed</th>\n",
       "      <th>...</th>\n",
       "      <th>month_sep</th>\n",
       "      <th>day_of_week_fri</th>\n",
       "      <th>day_of_week_mon</th>\n",
       "      <th>day_of_week_thu</th>\n",
       "      <th>day_of_week_tue</th>\n",
       "      <th>day_of_week_wed</th>\n",
       "      <th>poutcome_failure</th>\n",
       "      <th>poutcome_nonexistent</th>\n",
       "      <th>poutcome_success</th>\n",
       "      <th>target</th>\n",
       "    </tr>\n",
       "  </thead>\n",
       "  <tbody>\n",
       "    <tr>\n",
       "      <th>0</th>\n",
       "      <td>56</td>\n",
       "      <td>261</td>\n",
       "      <td>1</td>\n",
       "      <td>999</td>\n",
       "      <td>0</td>\n",
       "      <td>1.1</td>\n",
       "      <td>93.994</td>\n",
       "      <td>-36.4</td>\n",
       "      <td>4.857</td>\n",
       "      <td>5191.0</td>\n",
       "      <td>...</td>\n",
       "      <td>0.0</td>\n",
       "      <td>0.0</td>\n",
       "      <td>1.0</td>\n",
       "      <td>0.0</td>\n",
       "      <td>0.0</td>\n",
       "      <td>0.0</td>\n",
       "      <td>0.0</td>\n",
       "      <td>1.0</td>\n",
       "      <td>0.0</td>\n",
       "      <td>no</td>\n",
       "    </tr>\n",
       "    <tr>\n",
       "      <th>1</th>\n",
       "      <td>57</td>\n",
       "      <td>149</td>\n",
       "      <td>1</td>\n",
       "      <td>999</td>\n",
       "      <td>0</td>\n",
       "      <td>1.1</td>\n",
       "      <td>93.994</td>\n",
       "      <td>-36.4</td>\n",
       "      <td>4.857</td>\n",
       "      <td>5191.0</td>\n",
       "      <td>...</td>\n",
       "      <td>0.0</td>\n",
       "      <td>0.0</td>\n",
       "      <td>1.0</td>\n",
       "      <td>0.0</td>\n",
       "      <td>0.0</td>\n",
       "      <td>0.0</td>\n",
       "      <td>0.0</td>\n",
       "      <td>1.0</td>\n",
       "      <td>0.0</td>\n",
       "      <td>no</td>\n",
       "    </tr>\n",
       "    <tr>\n",
       "      <th>2</th>\n",
       "      <td>37</td>\n",
       "      <td>226</td>\n",
       "      <td>1</td>\n",
       "      <td>999</td>\n",
       "      <td>0</td>\n",
       "      <td>1.1</td>\n",
       "      <td>93.994</td>\n",
       "      <td>-36.4</td>\n",
       "      <td>4.857</td>\n",
       "      <td>5191.0</td>\n",
       "      <td>...</td>\n",
       "      <td>0.0</td>\n",
       "      <td>0.0</td>\n",
       "      <td>1.0</td>\n",
       "      <td>0.0</td>\n",
       "      <td>0.0</td>\n",
       "      <td>0.0</td>\n",
       "      <td>0.0</td>\n",
       "      <td>1.0</td>\n",
       "      <td>0.0</td>\n",
       "      <td>no</td>\n",
       "    </tr>\n",
       "    <tr>\n",
       "      <th>3</th>\n",
       "      <td>40</td>\n",
       "      <td>151</td>\n",
       "      <td>1</td>\n",
       "      <td>999</td>\n",
       "      <td>0</td>\n",
       "      <td>1.1</td>\n",
       "      <td>93.994</td>\n",
       "      <td>-36.4</td>\n",
       "      <td>4.857</td>\n",
       "      <td>5191.0</td>\n",
       "      <td>...</td>\n",
       "      <td>0.0</td>\n",
       "      <td>0.0</td>\n",
       "      <td>1.0</td>\n",
       "      <td>0.0</td>\n",
       "      <td>0.0</td>\n",
       "      <td>0.0</td>\n",
       "      <td>0.0</td>\n",
       "      <td>1.0</td>\n",
       "      <td>0.0</td>\n",
       "      <td>no</td>\n",
       "    </tr>\n",
       "    <tr>\n",
       "      <th>4</th>\n",
       "      <td>56</td>\n",
       "      <td>307</td>\n",
       "      <td>1</td>\n",
       "      <td>999</td>\n",
       "      <td>0</td>\n",
       "      <td>1.1</td>\n",
       "      <td>93.994</td>\n",
       "      <td>-36.4</td>\n",
       "      <td>4.857</td>\n",
       "      <td>5191.0</td>\n",
       "      <td>...</td>\n",
       "      <td>0.0</td>\n",
       "      <td>0.0</td>\n",
       "      <td>1.0</td>\n",
       "      <td>0.0</td>\n",
       "      <td>0.0</td>\n",
       "      <td>0.0</td>\n",
       "      <td>0.0</td>\n",
       "      <td>1.0</td>\n",
       "      <td>0.0</td>\n",
       "      <td>no</td>\n",
       "    </tr>\n",
       "  </tbody>\n",
       "</table>\n",
       "<p>5 rows × 64 columns</p>\n",
       "</div>"
      ],
      "text/plain": [
       "   age  duration  campaign  pdays  previous  emp.var.rate  cons.price.idx  \\\n",
       "0   56       261         1    999         0           1.1          93.994   \n",
       "1   57       149         1    999         0           1.1          93.994   \n",
       "2   37       226         1    999         0           1.1          93.994   \n",
       "3   40       151         1    999         0           1.1          93.994   \n",
       "4   56       307         1    999         0           1.1          93.994   \n",
       "\n",
       "   cons.conf.idx  euribor3m  nr.employed  ...  month_sep  day_of_week_fri  \\\n",
       "0          -36.4      4.857       5191.0  ...        0.0              0.0   \n",
       "1          -36.4      4.857       5191.0  ...        0.0              0.0   \n",
       "2          -36.4      4.857       5191.0  ...        0.0              0.0   \n",
       "3          -36.4      4.857       5191.0  ...        0.0              0.0   \n",
       "4          -36.4      4.857       5191.0  ...        0.0              0.0   \n",
       "\n",
       "   day_of_week_mon  day_of_week_thu  day_of_week_tue  day_of_week_wed  \\\n",
       "0              1.0              0.0              0.0              0.0   \n",
       "1              1.0              0.0              0.0              0.0   \n",
       "2              1.0              0.0              0.0              0.0   \n",
       "3              1.0              0.0              0.0              0.0   \n",
       "4              1.0              0.0              0.0              0.0   \n",
       "\n",
       "   poutcome_failure  poutcome_nonexistent  poutcome_success  target  \n",
       "0               0.0                   1.0               0.0      no  \n",
       "1               0.0                   1.0               0.0      no  \n",
       "2               0.0                   1.0               0.0      no  \n",
       "3               0.0                   1.0               0.0      no  \n",
       "4               0.0                   1.0               0.0      no  \n",
       "\n",
       "[5 rows x 64 columns]"
      ]
     },
     "metadata": {},
     "output_type": "display_data"
    }
   ],
   "source": [
    "import pandas as pd\n",
    "data = pd.read_csv(\"bank-campaign.csv\")\n",
    "display(data.head())"
   ]
  },
  {
   "cell_type": "code",
   "execution_count": 6,
   "metadata": {},
   "outputs": [],
   "source": [
    "y = data.target\n",
    "X = data.drop(\"target\", axis=1)"
   ]
  },
  {
   "cell_type": "code",
   "execution_count": 7,
   "metadata": {},
   "outputs": [
    {
     "name": "stdout",
     "output_type": "stream",
     "text": [
      "Proporcion de etiquetas:\n",
      " no     0.887346\n",
      "yes    0.112654\n",
      "Name: target, dtype: float64\n"
     ]
    }
   ],
   "source": [
    "from sklearn.model_selection import train_test_split\n",
    "X_train, X_test, y_train, y_test = train_test_split(X, y, stratify=y)\n",
    "\n",
    "print(\"Proporcion de etiquetas:\\n\", y.value_counts(normalize=True))"
   ]
  },
  {
   "cell_type": "code",
   "execution_count": 8,
   "metadata": {},
   "outputs": [
    {
     "name": "stdout",
     "output_type": "stream",
     "text": [
      "n_caracteristicas:  63\n"
     ]
    }
   ],
   "source": [
    "from sklearn.tree import DecisionTreeClassifier\n",
    "arbol = DecisionTreeClassifier().fit(X_train, y_train)\n",
    "#print(\"Profundidad de arbol: \", arbol. get_depth())\n",
    "print(\"n_caracteristicas: \", X.shape[1])"
   ]
  },
  {
   "cell_type": "code",
   "execution_count": 9,
   "metadata": {},
   "outputs": [],
   "source": [
    "from sklearn.model_selection import GridSearchCV\n",
    "from sklearn.ensemble import RandomForestClassifier\n",
    "\n",
    "param_grid = {'max_depth': [3, 5, 8, 10, 15, 20, 30],\n",
    "              'max_features': [4, 8, 16, 20, 25, 40]}\n",
    "grid = GridSearchCV(RandomForestClassifier(),\n",
    "                    param_grid=param_grid)"
   ]
  },
  {
   "cell_type": "code",
   "execution_count": 10,
   "metadata": {},
   "outputs": [
    {
     "data": {
      "text/plain": [
       "GridSearchCV(cv='warn', error_score='raise-deprecating',\n",
       "       estimator=RandomForestClassifier(bootstrap=True, class_weight=None, criterion='gini',\n",
       "            max_depth=None, max_features='auto', max_leaf_nodes=None,\n",
       "            min_impurity_decrease=0.0, min_impurity_split=None,\n",
       "            min_samples_leaf=1, min_samples_split=2,\n",
       "            min_weight_fraction_leaf=0.0, n_estimators='warn', n_jobs=None,\n",
       "            oob_score=False, random_state=None, verbose=0,\n",
       "            warm_start=False),\n",
       "       fit_params=None, iid='warn', n_jobs=None,\n",
       "       param_grid={'max_depth': [3, 5, 8, 10, 15, 20, 30], 'max_features': [4, 8, 16, 20, 25, 40]},\n",
       "       pre_dispatch='2*n_jobs', refit=True, return_train_score='warn',\n",
       "       scoring=None, verbose=0)"
      ]
     },
     "execution_count": 10,
     "metadata": {},
     "output_type": "execute_result"
    }
   ],
   "source": [
    "grid.fit(X_train[::10], y_train[::10])"
   ]
  },
  {
   "cell_type": "code",
   "execution_count": 11,
   "metadata": {},
   "outputs": [
    {
     "name": "stdout",
     "output_type": "stream",
     "text": [
      "Index(['mean_fit_time', 'std_fit_time', 'mean_score_time', 'std_score_time',\n",
      "       'param_max_depth', 'param_max_features', 'params', 'split0_test_score',\n",
      "       'split1_test_score', 'split2_test_score', 'mean_test_score',\n",
      "       'std_test_score', 'rank_test_score', 'split0_train_score',\n",
      "       'split1_train_score', 'split2_train_score', 'mean_train_score',\n",
      "       'std_train_score'],\n",
      "      dtype='object')\n"
     ]
    }
   ],
   "source": [
    "res = pd.DataFrame(grid.cv_results_)\n",
    "print(res.keys())\n",
    "res_piv = pd.pivot_table(\n",
    "    res, values='mean_test_score', index='param_max_depth',\n",
    "    columns='param_max_features')"
   ]
  },
  {
   "cell_type": "code",
   "execution_count": 12,
   "metadata": {},
   "outputs": [
    {
     "data": {
      "text/html": [
       "<div>\n",
       "<style scoped>\n",
       "    .dataframe tbody tr th:only-of-type {\n",
       "        vertical-align: middle;\n",
       "    }\n",
       "\n",
       "    .dataframe tbody tr th {\n",
       "        vertical-align: top;\n",
       "    }\n",
       "\n",
       "    .dataframe thead th {\n",
       "        text-align: right;\n",
       "    }\n",
       "</style>\n",
       "<table border=\"1\" class=\"dataframe\">\n",
       "  <thead>\n",
       "    <tr style=\"text-align: right;\">\n",
       "      <th>param_max_features</th>\n",
       "      <th>4</th>\n",
       "      <th>8</th>\n",
       "      <th>16</th>\n",
       "      <th>20</th>\n",
       "      <th>25</th>\n",
       "      <th>40</th>\n",
       "    </tr>\n",
       "    <tr>\n",
       "      <th>param_max_depth</th>\n",
       "      <th></th>\n",
       "      <th></th>\n",
       "      <th></th>\n",
       "      <th></th>\n",
       "      <th></th>\n",
       "      <th></th>\n",
       "    </tr>\n",
       "  </thead>\n",
       "  <tbody>\n",
       "    <tr>\n",
       "      <th>3</th>\n",
       "      <td>0.888997</td>\n",
       "      <td>0.893851</td>\n",
       "      <td>0.899353</td>\n",
       "      <td>0.898706</td>\n",
       "      <td>0.901294</td>\n",
       "      <td>0.900971</td>\n",
       "    </tr>\n",
       "    <tr>\n",
       "      <th>5</th>\n",
       "      <td>0.893528</td>\n",
       "      <td>0.898706</td>\n",
       "      <td>0.902265</td>\n",
       "      <td>0.902265</td>\n",
       "      <td>0.906472</td>\n",
       "      <td>0.899353</td>\n",
       "    </tr>\n",
       "    <tr>\n",
       "      <th>8</th>\n",
       "      <td>0.892880</td>\n",
       "      <td>0.900647</td>\n",
       "      <td>0.903236</td>\n",
       "      <td>0.901942</td>\n",
       "      <td>0.904854</td>\n",
       "      <td>0.903236</td>\n",
       "    </tr>\n",
       "    <tr>\n",
       "      <th>10</th>\n",
       "      <td>0.900324</td>\n",
       "      <td>0.907767</td>\n",
       "      <td>0.898382</td>\n",
       "      <td>0.902589</td>\n",
       "      <td>0.905502</td>\n",
       "      <td>0.905502</td>\n",
       "    </tr>\n",
       "    <tr>\n",
       "      <th>15</th>\n",
       "      <td>0.894175</td>\n",
       "      <td>0.900647</td>\n",
       "      <td>0.903883</td>\n",
       "      <td>0.901294</td>\n",
       "      <td>0.900971</td>\n",
       "      <td>0.899029</td>\n",
       "    </tr>\n",
       "    <tr>\n",
       "      <th>20</th>\n",
       "      <td>0.900000</td>\n",
       "      <td>0.900647</td>\n",
       "      <td>0.900971</td>\n",
       "      <td>0.904207</td>\n",
       "      <td>0.902589</td>\n",
       "      <td>0.897735</td>\n",
       "    </tr>\n",
       "    <tr>\n",
       "      <th>30</th>\n",
       "      <td>0.895469</td>\n",
       "      <td>0.899676</td>\n",
       "      <td>0.902265</td>\n",
       "      <td>0.898706</td>\n",
       "      <td>0.900971</td>\n",
       "      <td>0.907443</td>\n",
       "    </tr>\n",
       "  </tbody>\n",
       "</table>\n",
       "</div>"
      ],
      "text/plain": [
       "param_max_features        4         8         16        20        25        40\n",
       "param_max_depth                                                               \n",
       "3                   0.888997  0.893851  0.899353  0.898706  0.901294  0.900971\n",
       "5                   0.893528  0.898706  0.902265  0.902265  0.906472  0.899353\n",
       "8                   0.892880  0.900647  0.903236  0.901942  0.904854  0.903236\n",
       "10                  0.900324  0.907767  0.898382  0.902589  0.905502  0.905502\n",
       "15                  0.894175  0.900647  0.903883  0.901294  0.900971  0.899029\n",
       "20                  0.900000  0.900647  0.900971  0.904207  0.902589  0.897735\n",
       "30                  0.895469  0.899676  0.902265  0.898706  0.900971  0.907443"
      ]
     },
     "metadata": {},
     "output_type": "display_data"
    }
   ],
   "source": [
    "display(res_piv)"
   ]
  },
  {
   "cell_type": "code",
   "execution_count": 13,
   "metadata": {},
   "outputs": [
    {
     "data": {
      "text/plain": [
       "<matplotlib.colorbar.Colorbar at 0x7f9598fdad90>"
      ]
     },
     "execution_count": 13,
     "metadata": {},
     "output_type": "execute_result"
    },
    {
     "data": {
      "image/png": "[encoded data removed]",
      "text/plain": [
       "<Figure size 288x336 with 2 Axes>"
      ]
     },
     "metadata": {
      "needs_background": "light"
     },
     "output_type": "display_data"
    }
   ],
   "source": [
    "import matplotlib.pyplot as plt\n",
    "%matplotlib inline\n",
    "plt.matshow(res_piv.values)\n",
    "plt.xlabel(res_piv.columns.name)\n",
    "plt.xticks(range(res_piv.shape[1]), res_piv.columns)\n",
    "plt.ylabel(res_piv.index.name)\n",
    "plt.yticks(range(res_piv.shape[0]), res_piv.index)\n",
    "plt.colorbar()"
   ]
  },
  {
   "cell_type": "markdown",
   "metadata": {},
   "source": [
    "3. Programa alguno de los siguientes algoritmos, BSF, DSF, búsqueda de costo uniforme o A* en el lenguaje de tu elección y realiza una prueba con el ejemplo de 8-puzzle dado en en las notas de clase."
   ]
  },
  {
   "cell_type": "markdown",
   "metadata": {},
   "source": [
    "Para este ejercicio elegiremos DFS, basado en la solución de Prajwal Raj Basnet:https://github.com/Prajwalrajbasnet/8-puzzle-game."
   ]
  },
  {
   "cell_type": "code",
   "execution_count": 14,
   "metadata": {},
   "outputs": [],
   "source": [
    "class Pila(): ## Estructura de datos a usar\n",
    "    def __init__(self, inicial):\n",
    "        self.items = [inicial]\n",
    "    def is_empty(self):\n",
    "        return self.items == []\n",
    "    def push(self, item):\n",
    "        self.items.append(item)\n",
    "    def pop(self):\n",
    "        return self.items.pop()\n",
    "    def size(self):\n",
    "        return len(self.items)"
   ]
  },
  {
   "cell_type": "code",
   "execution_count": 15,
   "metadata": {},
   "outputs": [],
   "source": [
    "class Estado():\n",
    "    derecha = {0, 1, 3, 4, 6, 7}\n",
    "    izquierda = {1, 2, 4, 5, 7, 8}\n",
    "    arriba = {3, 4, 5, 6, 7, 8}\n",
    "    abajo = {0, 1, 2, 3, 4, 5}\n",
    "    \n",
    "    def __init__(self, board_config, padre, movimiento):\n",
    "        self.board_config = board_config\n",
    "        self.board_config_list = list(map(int,board_config.split(','))) \n",
    "        self.i = self.board_config_list.index(0)\n",
    "        self.padre = padre\n",
    "        self.movimiento = movimiento \n",
    "        \n",
    "    def obtener_hijos(self):\n",
    "        hijos = []\n",
    "        if self.i in Estado.arriba:\n",
    "            nboard_config = self.board_config_list[:]\n",
    "            nboard_config[self.i], nboard_config[self.i-3] = nboard_config[self.i-3], nboard_config[self.i]\n",
    "            hijos.append(Estado(','.join(map(str,nboard_config)), self.board_config,'arriba'))\n",
    "        if self.i in Estado.abajo:\n",
    "            nboard_config = self.board_config_list[:]\n",
    "            nboard_config[self.i], nboard_config[self.i+3] = nboard_config[self.i+3], nboard_config[self.i]\n",
    "            hijos.append(Estado(','.join(map(str,nboard_config)), self.board_config,'abajo'))\n",
    "        if self.i in Estado.izquierda:\n",
    "            nboard_config = self.board_config_list[:]\n",
    "            nboard_config[self.i], nboard_config[self.i-1] = nboard_config[self.i-1], nboard_config[self.i]\n",
    "            hijos.append(Estado(','.join(map(str,nboard_config)), self.board_config,'izquierda'))\n",
    "        if self.i in Estado.derecha:\n",
    "            nboard_config = self.board_config_list[:]\n",
    "            nboard_config[self.i], nboard_config[self.i+1] = nboard_config[self.i+1], nboard_config[self.i]\n",
    "            hijos.append(Estado(','.join(map(str,nboard_config)), self.board_config,'derecha'))\n",
    "        return hijos\n",
    "\n",
    "    def __str__(self):\n",
    "        return self.board_config"
   ]
  },
  {
   "cell_type": "code",
   "execution_count": 16,
   "metadata": {},
   "outputs": [],
   "source": [
    "def dfs(inicial,objetivo):\n",
    "    limite = Pila(inicial)\n",
    "    lista_board_config_limite = {inicial.board_config}\n",
    "    explorado = set()\n",
    "    espacio_busqueda = {}\n",
    "\n",
    "    while not limite.is_empty():\n",
    "        estado = limite.pop()\n",
    "        explorado.add(estado.board_config)\n",
    "        espacio_busqueda[estado.board_config] = estado\n",
    "        \n",
    "        if objetivo == estado.board_config:\n",
    "            mejor_ruta = []\n",
    "            estado_actual = estado\n",
    "\n",
    "            while not estado_actual.padre == None:\n",
    "                mejor_ruta.insert(0, estado_actual.movimiento)\n",
    "                estado_actual = espacio_busqueda[estado_actual.padre]\n",
    "            \n",
    "            return mejor_ruta, len(mejor_ruta)\n",
    "    \n",
    "        for hijo in estado.obtener_hijos():\n",
    "            if hijo.board_config not in explorado and hijo not in lista_board_config_limite:\n",
    "                limite.push(hijo)\n",
    "                lista_board_config_limite.add(hijo.board_config)\n",
    "    \n",
    "    return \"Error\""
   ]
  },
  {
   "cell_type": "code",
   "execution_count": 17,
   "metadata": {},
   "outputs": [
    {
     "ename": "AttributeError",
     "evalue": "'Estado' object has no attribute 'move'",
     "output_type": "error",
     "traceback": [
      "\u001b[0;31m---------------------------------------------------------------------------\u001b[0m",
      "\u001b[0;31mAttributeError\u001b[0m                            Traceback (most recent call last)",
      "\u001b[0;32m<ipython-input-17-7d8df8910d25>\u001b[0m in \u001b[0;36m<module>\u001b[0;34m\u001b[0m\n\u001b[1;32m      3\u001b[0m \u001b[0mestado_inicial\u001b[0m \u001b[0;34m=\u001b[0m \u001b[0mEstado\u001b[0m\u001b[0;34m(\u001b[0m\u001b[0minicio\u001b[0m\u001b[0;34m,\u001b[0m \u001b[0;32mNone\u001b[0m\u001b[0;34m,\u001b[0m \u001b[0;32mNone\u001b[0m\u001b[0;34m)\u001b[0m\u001b[0;34m\u001b[0m\u001b[0;34m\u001b[0m\u001b[0m\n\u001b[1;32m      4\u001b[0m \u001b[0;34m\u001b[0m\u001b[0m\n\u001b[0;32m----> 5\u001b[0;31m \u001b[0mprint\u001b[0m\u001b[0;34m(\u001b[0m\u001b[0mdfs\u001b[0m\u001b[0;34m(\u001b[0m\u001b[0mestado_inicial\u001b[0m\u001b[0;34m,\u001b[0m \u001b[0mobjetivo\u001b[0m\u001b[0;34m)\u001b[0m\u001b[0;34m)\u001b[0m\u001b[0;34m\u001b[0m\u001b[0;34m\u001b[0m\u001b[0m\n\u001b[0m",
      "\u001b[0;32m<ipython-input-16-959c9b289ac4>\u001b[0m in \u001b[0;36mdfs\u001b[0;34m(inicial, objetivo)\u001b[0m\n\u001b[1;32m     15\u001b[0m \u001b[0;34m\u001b[0m\u001b[0m\n\u001b[1;32m     16\u001b[0m             \u001b[0;32mwhile\u001b[0m \u001b[0;32mnot\u001b[0m \u001b[0mestado_actual\u001b[0m\u001b[0;34m.\u001b[0m\u001b[0mpadre\u001b[0m \u001b[0;34m==\u001b[0m \u001b[0;32mNone\u001b[0m\u001b[0;34m:\u001b[0m\u001b[0;34m\u001b[0m\u001b[0;34m\u001b[0m\u001b[0m\n\u001b[0;32m---> 17\u001b[0;31m                 \u001b[0mmejor_ruta\u001b[0m\u001b[0;34m.\u001b[0m\u001b[0minsert\u001b[0m\u001b[0;34m(\u001b[0m\u001b[0;36m0\u001b[0m\u001b[0;34m,\u001b[0m \u001b[0mestado_actual\u001b[0m\u001b[0;34m.\u001b[0m\u001b[0mmove\u001b[0m\u001b[0;34m)\u001b[0m\u001b[0;34m\u001b[0m\u001b[0;34m\u001b[0m\u001b[0m\n\u001b[0m\u001b[1;32m     18\u001b[0m                 \u001b[0mestado_actual\u001b[0m \u001b[0;34m=\u001b[0m \u001b[0mespacio_busqueda\u001b[0m\u001b[0;34m[\u001b[0m\u001b[0mestado_actual\u001b[0m\u001b[0;34m.\u001b[0m\u001b[0mpadre\u001b[0m\u001b[0;34m]\u001b[0m\u001b[0;34m\u001b[0m\u001b[0;34m\u001b[0m\u001b[0m\n\u001b[1;32m     19\u001b[0m \u001b[0;34m\u001b[0m\u001b[0m\n",
      "\u001b[0;31mAttributeError\u001b[0m: 'Estado' object has no attribute 'move'"
     ]
    }
   ],
   "source": [
    "inicio = '5,3,0,7,1,2,8,4,6' \n",
    "objetivo = '0,1,2,3,4,5,6,7,8'\n",
    "estado_inicial = Estado(inicio, None, None)\n",
    "\n",
    "print(dfs(estado_inicial, objetivo))"
   ]
  },
  {
   "cell_type": "markdown",
   "metadata": {},
   "source": [
    "4. Dadas las entradas,$A, b$,  un valor inicial $x$, un número máximo de iteraciones $i_{\\max}$, y una tolerancia de error $\\epsilon < 1$, implementa el siguiente pseudocódigo (puedes acoplar a algunas cambios), tomada desde el tutorial de `An Introduction to the Conjugate Gradient Method Without the Agonizing Pain` de Jonathan Richard Shewchuk.\n",
    "\n",
    "![](GD.png)\n",
    "\n",
    "Este algoritmo termina cuando se excede el número máximo de iteraciones $i_{\\max}$ o cuando $\\Vert r_{(i)}\\Vert \\leq \\epsilon \\Vert r_{(0)}\\Vert$."
   ]
  },
  {
   "cell_type": "code",
   "execution_count": null,
   "metadata": {},
   "outputs": [],
   "source": [
    "from mpl_toolkits.mplot3d import Axes3D\n",
    "from matplotlib import cm\n",
    "import itertools\n",
    "\n",
    "A = np.matrix([[3.0, 2.0], [2.0, 6.0]])\n",
    "b = np.matrix([[2.0], [-8.0]]) \n",
    "c = 0.0\n",
    "\n",
    "def f(x, A, b, c):\n",
    "    return float(0.5 * x.T * A * x - b.T * x + c)\n",
    "\n",
    "def figura1(A, b, c):\n",
    "    #fig = plt.figure(figsize=(10,8))\n",
    "    #qf = fig.gca(projection='3d')\n",
    "    size = 20\n",
    "    x1 = list(np.linspace(-6, 6, size))\n",
    "    x2 = list(np.linspace(-6, 6, size))\n",
    "    x1, x2 = np.meshgrid(x1, x2)\n",
    "    zs = np.zeros((size, size))\n",
    "    for i in range(size):\n",
    "        for j in range(size):\n",
    "            x = np.matrix([[x1[i,j]], [x2[i,j]]])\n",
    "            zs[i,j] = f(x, A, b, c)\n",
    "    #qf.plot_surface(x1, x2, zs, rstride=1, cstride=1, cmap=cm.coolwarm, linewidth=0)\n",
    "    return x1, x2, zs\n"
   ]
  },
  {
   "cell_type": "code",
   "execution_count": null,
   "metadata": {},
   "outputs": [],
   "source": [
    "x1, x2, zs = figura1(A, b, c)"
   ]
  },
  {
   "cell_type": "code",
   "execution_count": null,
   "metadata": {},
   "outputs": [],
   "source": [
    "def pasosContornos(x1, x2, zs, pasos=None):\n",
    "    fig = plt.figure(figsize=(6,6))\n",
    "    cp = plt.contour(x1, x2, zs, 10)\n",
    "    plt.clabel(cp, inline=1, fontsize=10)\n",
    "    if pasos is not None:\n",
    "        pasos = np.matrix(pasos)\n",
    "        plt.plot(pasos[:,0], pasos[:,1], '-o')\n",
    "    fig.show()"
   ]
  },
  {
   "cell_type": "markdown",
   "metadata": {},
   "source": [
    "El algoritmo planteado en el problema:"
   ]
  },
  {
   "cell_type": "code",
   "execution_count": null,
   "metadata": {},
   "outputs": [],
   "source": [
    "x = np.matrix([[-2.0],[-2.0]])\n",
    "pasos = [(-2.0, -2.0)]\n",
    "i = 0\n",
    "imax = 10\n",
    "eps = 0.01\n",
    "r = b - A * x\n",
    "delta = r.T * r\n",
    "delta0 = delta\n",
    "while i < imax and delta > eps**2 * delta0:\n",
    "    alpha = float(delta / (r.T * (A * r)))\n",
    "    x = x + alpha * r\n",
    "    pasos.append((x[0,0], x[1,0])) \n",
    "    r = b - A * x\n",
    "    delta = r.T * r\n",
    "    i += 1"
   ]
  },
  {
   "cell_type": "code",
   "execution_count": null,
   "metadata": {},
   "outputs": [],
   "source": [
    "pasosContornos(x1, x2, zs, pasos)"
   ]
  },
  {
   "cell_type": "markdown",
   "metadata": {},
   "source": [
    "5. En este ejercicio usaremos el script `dArbol.py` y el conjunto de datos `party.data`. Usando el algoritmo ID3 en esta sección construimo un árbol de decisiones orientado a la clasificación para decidir qué hacer por la noche, en un conjunto de datos que enumera todo lo que hemos hecho durante los últimos 10 días. Calcula la entropía y encuentra qué característica tiene la máxima ganancia de información. Realiza el mismo procedimiento con el conjunto de datos `tennis.csv`."
   ]
  },
  {
   "cell_type": "code",
   "execution_count": null,
   "metadata": {},
   "outputs": [],
   "source": [
    "import dArbol\n",
    "\n",
    "arbol = dArbol.dArbol()\n",
    "fiesta,clases,caracteristicas = arbol.leer_data('party.data')\n",
    "t=arbol.construye_arbol(fiesta,clases,caracteristicas)\n",
    "arbol.imprimeArbol(t,' ')\n",
    "\n",
    "print(arbol.clasificarTodo(t,fiesta))\n",
    "\n",
    "for i in range(len(fiesta)):\n",
    "    arbol.clasificar(t,fiesta[i])"
   ]
  },
  {
   "cell_type": "markdown",
   "metadata": {},
   "source": [
    "El valor de la entropia es $1.6855$. Si $S$ representa el conjunto de ejemplos, entonces $Gain(S, Fecha) = 0.5345, Gain(S, Fiesta) = 1.0, Gain(S, Desocupado) = 0.21$.\n",
    "\n",
    "Por lo tanto, el nodo raíz será la característica `Fiesta`, que tiene dos valores de característica (`si` y `no`), por lo que tendrá dos ramas. Cuando miramos la rama `si`, vemos que en los cinco casos en los que había una `Fiesta`, fuimos a ella, por lo que simplemente pusimos un nodo de hoja allí, diciendo `Fiesta`. Para la rama `no`, de los cinco casos hay tres resultados diferentes, por lo que ahora debemos elegir otra función. \n",
    "\n",
    "Hemos utilizado la característica `Fiesta`, por lo que solo necesitamos calcular la ganancia de información de los otros dos en los ejemplos restantes:\n",
    "\n",
    "$Gain(S, Fecha) = 0.971, Gain(S, Desocupado) = 0.1710$."
   ]
  },
  {
   "cell_type": "markdown",
   "metadata": {},
   "source": [
    "6. Realiza una comparación de Naive Bayes multinomiales y gaussianos, para ello utiliza la documentación [sklearn.naive_bayes.MultinomialNB](https://scikit-learn.org/stable/modules/generated/sklearn.naive_bayes.MultinomialNB.html) y [sklearn.naive_bayes.GaussianNB](https://scikit-learn.org/stable/modules/generated/sklearn.naive_bayes.GaussianNB.html) y el conjunto de datos `diabetes.csv`. Explica tus resultados."
   ]
  },
  {
   "cell_type": "code",
   "execution_count": null,
   "metadata": {},
   "outputs": [],
   "source": [
    "import pandas as pd\n",
    "\n",
    "pima = pd.read_csv('diabetes.csv', index_col = 0)\n",
    "pima.head()"
   ]
  },
  {
   "cell_type": "code",
   "execution_count": null,
   "metadata": {},
   "outputs": [],
   "source": [
    "X = pima.drop('Outcome', axis=1)\n",
    "y = pima.Outcome"
   ]
  },
  {
   "cell_type": "code",
   "execution_count": null,
   "metadata": {},
   "outputs": [],
   "source": [
    "from sklearn.model_selection  import train_test_split\n",
    "X_train, X_test, y_train, y_test = train_test_split(X, y, random_state=1)\n",
    "from sklearn.naive_bayes import MultinomialNB, GaussianNB\n",
    "from sklearn import metrics\n",
    "mnb = MultinomialNB()\n",
    "mnb.fit(X_train, y_train)\n",
    "y_pred_class = mnb.predict(X_test)\n",
    "\n",
    "metrics.accuracy_score(y_test, y_pred_class)"
   ]
  },
  {
   "cell_type": "code",
   "execution_count": null,
   "metadata": {},
   "outputs": [],
   "source": [
    "gnb = GaussianNB()\n",
    "gnb.fit(X_train, y_train)\n",
    "y_pred_class = gnb.predict(X_test)\n",
    "\n",
    "metrics.accuracy_score(y_test, y_pred_class)"
   ]
  },
  {
   "cell_type": "markdown",
   "metadata": {},
   "source": [
    "Cuando aplicamos la clasificación Naive Bayes a un conjunto de datos con características continuas, es mejor utilizar `Gauss Naive Bayes` que `Multinomial Naive Bayes`. Este último es adecuado para conjuntos de datos que contienen características discretas (por ejemplo, conteo de palabras)."
   ]
  },
  {
   "cell_type": "markdown",
   "metadata": {},
   "source": [
    "7. Carga los valores $x$, $y$ de $20$ puntos de datos del archivo `xydata.dat`. Ajusta una línea recta a través de los datos usando la función `linregress` de `scipy.stats`. Ten en cuenta que la función `linregress` devuelve otros $3$ valores más allá de la pendiente y la intersección (use linregress?. Traza los datos y la línea recta ajustada. Agrega una leyenda. Agrega el RMSE como título del gráfico. Imprime los valores óptimos para la pendiente y la intersección de la línea recta en la pantalla.\n",
    "\n",
    "    Realiza el procedimiento anterior con un polinomio de segundo grado (una parábola) a través de los datos usando la función `np.polyfit`.¿Mejoró el RMSE? \n",
    "\n",
    "    Ahora realiza el mismo procedimiento con la función `f(x)=Aexp (ax) + b` a través de los datos usando la función `curve_fit` de `scipy.optimize`. ¿Mejoró el MSE?\n",
    "\n",
    "     Calcula los valores óptimos (en el sentido de mínimos cuadrados) de $a$ y $b$ usando la suma de errores cuadrados (usando las matrices `xdata` e `ydata` para los tres puntos dados:\n",
    "\n",
    "    ```\n",
    "    xdata = np.array([5.0, 10.0, 15.0])\n",
    "    ydata = np.array([3.0, 6.0, 7.0])\n",
    "    ```\n",
    "      A continuación, usa la función `linregress` del paquete `scipy.stats` para calcular los valores óptimos y verifique que la función `linregress` dé las mismas respuestas. Crea una gráfica que muestra los tres puntos de datos y la línea recta ajustada.\n",
    "      \n",
    "Sugerencia: se puede utilizar `np.loadtxt('xydata.dat')` para cargar los datos. "
   ]
  },
  {
   "cell_type": "code",
   "execution_count": null,
   "metadata": {},
   "outputs": [],
   "source": [
    "from scipy.stats import linregress\n",
    "x, y = np.loadtxt('xydata.dat')\n",
    "pendiente, intercept, r_valor, p_valor, std_err = linregress(x, y)\n",
    "yfit = pendiente * x + intercept\n",
    "plt.figure()\n",
    "plt.plot(x, y, 'bo', label='observado')\n",
    "plt.plot(x, yfit, 'r', label='ajustado')\n",
    "rmse = np.sqrt(np.sum((yfit - y) ** 2) / len(y))\n",
    "plt.title('RMSE: '+str(rmse))\n",
    "plt.legend(loc='best')\n",
    "print('pendiente, intercepto:', pendiente, intercept)"
   ]
  },
  {
   "cell_type": "code",
   "execution_count": null,
   "metadata": {},
   "outputs": [],
   "source": [
    "x, y = np.loadtxt('xydata.dat')\n",
    "a, b, c = np.polyfit(x, y, 2)\n",
    "yfit = a * x ** 2 + b * x + c\n",
    "plt.figure()\n",
    "plt.plot(x, y, 'bo', label='observado')\n",
    "plt.plot(x, yfit, 'r', label='fijado')\n",
    "rmse = np.sqrt(np.sum((yfit - y) ** 2) / len(y))\n",
    "plt.legend(loc='best')\n",
    "plt.title('RMSE: '+str(rmse));"
   ]
  },
  {
   "cell_type": "code",
   "execution_count": null,
   "metadata": {},
   "outputs": [],
   "source": [
    "from scipy.optimize import curve_fit\n",
    "\n",
    "def func(x, A, a, b):\n",
    "    y = A * np.exp(a * x) + b\n",
    "    return y\n",
    "\n",
    "popt, pcov = curve_fit(func, x, y)\n",
    "yfit = func(x, *popt)\n",
    "plt.figure()\n",
    "plt.plot(x, y, 'bo', label='observado')\n",
    "plt.plot(x, yfit, 'r', label='fijado')\n",
    "plt.legend(loc='best')\n",
    "rmse2 = np.sqrt(np.sum((yfit - y) ** 2) / len(y))\n",
    "plt.title('RMSE: '+str(rmse2));"
   ]
  },
  {
   "cell_type": "markdown",
   "metadata": {},
   "source": [
    "Con respecto al último ítem del problema:"
   ]
  },
  {
   "cell_type": "code",
   "execution_count": null,
   "metadata": {},
   "outputs": [],
   "source": [
    "xdata = np.array([5.0, 10.0, 15.0])\n",
    "ydata = np.array([3.0, 6.0, 7.0])\n",
    "plt.plot(xdata, ydata, 'bo', label='observado')\n",
    "plt.legend();"
   ]
  },
  {
   "cell_type": "code",
   "execution_count": null,
   "metadata": {},
   "outputs": [],
   "source": [
    "def sse(a, b, x=xdata, y=ydata):\n",
    "    error = y - (a * x + b)\n",
    "    return np.sum(error ** 2)"
   ]
  },
  {
   "cell_type": "code",
   "execution_count": null,
   "metadata": {},
   "outputs": [],
   "source": [
    "xdata = np.array([5.0, 10.0, 15.0])\n",
    "ydata = np.array([3.0, 6.0, 7.0])\n",
    "N = len(xdata)\n",
    "a = (N * np.sum(xdata * ydata) - np.sum(xdata) * np.sum(ydata) ) / \\\n",
    "    (N * np.sum(xdata ** 2) - np.sum(xdata) * np.sum(xdata))\n",
    "b = np.mean(ydata) - a * np.mean(xdata)\n",
    "print('Valores optimos de a y b:', a, b)\n",
    "print('sse:', sse(a, b))"
   ]
  },
  {
   "cell_type": "code",
   "execution_count": null,
   "metadata": {},
   "outputs": [],
   "source": [
    "from scipy.stats import linregress\n",
    "pendiente, intercept, r, p, s = linregress(xdata, ydata)\n",
    "print('Pendiente e intercepto con respecto a linregress:', pendiente, intercept)"
   ]
  },
  {
   "cell_type": "code",
   "execution_count": null,
   "metadata": {},
   "outputs": [],
   "source": [
    "plt.plot(xdata, ydata, 'bo', label='observado')\n",
    "plt.xlim(0, 20)\n",
    "plt.ylim(0, 10)\n",
    "x = np.linspace(0, 20, 2)\n",
    "yfit = a * x + b\n",
    "plt.plot(x, yfit, 'r', label='fijado')\n",
    "plt.legend(loc='best');"
   ]
  },
  {
   "cell_type": "markdown",
   "metadata": {},
   "source": [
    "8. Opcional (no tiene puntaje): Explora la página [https://aipaygrad.es/](https://aipaygrad.es/)."
   ]
  },
  {
   "cell_type": "code",
   "execution_count": null,
   "metadata": {},
   "outputs": [],
   "source": []
  }
 ],
 "metadata": {
  "kernelspec": {
   "display_name": "Python 3",
   "language": "python",
   "name": "python3"
  },
  "language_info": {
   "codemirror_mode": {
    "name": "ipython",
    "version": 3
   },
   "file_extension": ".py",
   "mimetype": "text/x-python",
   "name": "python",
   "nbconvert_exporter": "python",
   "pygments_lexer": "ipython3",
   "version": "3.7.7"
  }
 },
 "nbformat": 4,
 "nbformat_minor": 4
}

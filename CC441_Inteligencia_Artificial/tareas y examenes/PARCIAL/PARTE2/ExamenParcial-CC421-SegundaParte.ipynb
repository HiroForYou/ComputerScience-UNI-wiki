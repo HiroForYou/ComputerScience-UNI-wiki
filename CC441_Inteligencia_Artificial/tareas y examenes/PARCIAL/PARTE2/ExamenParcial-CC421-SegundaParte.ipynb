{
 "cells": [
  {
   "cell_type": "markdown",
   "metadata": {},
   "source": [
    "## Examen Parcial de Inteligencia Artificial \n",
    "\n",
    "Esta es la segunda parte del examen parcial de Inteligencia Artificial que abarca aspectos teóricos del curso.\n",
    "\n",
    "* Tienes 180 minutos como máximo para responder tantas preguntas como sea posible. No se ́admiten examenes fuera de tiempo. ́\n",
    "\n",
    "* Escribe en este cuaderno todas tus respuestas. No se admiten otros tipos de archivos.\n",
    "\n",
    "* No se admiten copias. Cualquier evidencia de copia de otra fuente no serán consideradas y el puntaje será cero. Si la copia implica varias preguntas (por lo menos dos) se anulará el examen con OA. \n",
    "\n",
    "* Responder las preguntas en orden y coloca comentarios a tu código. Si vas a utilizar código desde otras fuentes indicarlo en los comentarios, pero asegurate de modificarlo o reutilizarlo.\n",
    "\n",
    "* **Solo se puntua si se han respondido todos las ítem de las preguntas, no se tomará en cuenta las preguntas incompletas**.\n",
    "\n",
    "\n",
    "#### Nombre y Apellidos: Cristhian Wiki Sánchez Sauñe"
   ]
  },
  {
   "cell_type": "markdown",
   "metadata": {},
   "source": [
    "1. Considera una elección en la que votarán un millón de personas. $490.000$ personas votarán por el candidato $A$ y $510.000$ personas votarán por el candidato $B$. Un día antes de las elecciones, la compañía 'Z' realiza una encuesta entre $1000$ votantes elegidos al azar. Calcule si 'Z' predecirá el ganador correctamente con una semilla de 2.\n",
    "\n",
    "    Realiza la encuesta $1000$ veces. Cuenta cuántas veces el resultado de la encuesta indica que el candidato $A$ gana y cuántas veces el resultado de la encuesta dice que el candidato $B$ gana. ¿Cuál es la probabilidad de que 'Z' prediga al ganador correcto basándose en estas $1000$ encuestas de $1000$ personas?\n",
    "\n",
    "    Calcula la probabilidad de que 'Z'  prediga al ganador correcto basándose en $1000$ encuestas de $5000$ personas. ¿La probabilidad de que 'Z' prediga al ganador correcto aumenta significativamente cuando se encuesta a $5000$ personas?.\n",
    "    \n",
    "Sugerencia: Revisa el siguiente código, que responde el primer ítem de la pregunta.\n"
   ]
  },
  {
   "cell_type": "code",
   "execution_count": 158,
   "metadata": {},
   "outputs": [],
   "source": [
    "import numpy as np\n",
    "import numpy.random as rnd\n",
    "\n",
    "def predictorZ(encuestados=1000, totales=1000):\n",
    "\n",
    "    rnd.seed(2)\n",
    "    encuesta = rnd.choice([0, 1], encuestados, p=[0.49, 0.51]) \n",
    "\n",
    "    encuesta_A = np.count_nonzero(encuesta == 0)\n",
    "    print(\"Las votaciones de A tienen etiqueta 0, se contaron {} votos\".format(encuesta_A), end=\"\\n\")\n",
    "\n",
    "    encuesta_B = np.count_nonzero(encuesta == 1)\n",
    "    print(\"Las votaciones de B tienen etiqueta 1, se contaron {} votos\".format(encuesta_B), end=\"\\n\\n\")\n",
    "\n",
    "    if encuesta_A > encuestados/2: \n",
    "        print('Z predice el ganador equivocado')\n",
    "        '''\n",
    "        P_a  # prob priori\n",
    "        P_a_b # prob que ocurra 'a' dado 'b', posteriori\n",
    "        P_b_a  # prob que ocurra 'b' dado 'a', likelihood\n",
    "        P_b # prob marginal de 'b'\n",
    "        \n",
    "        \n",
    "        \n",
    "        p_zCorrecto_\n",
    "        '''\n",
    "        \n",
    "    else:\n",
    "        print('Z predice el ganador correcto\\n')\n",
    "        \n",
    "    probabilidad_pedida = encuesta_B / totales\n",
    "    \n",
    "    return encuestados, totales, probabilidad_pedida\n",
    "     "
   ]
  },
  {
   "cell_type": "code",
   "execution_count": 159,
   "metadata": {},
   "outputs": [
    {
     "name": "stdout",
     "output_type": "stream",
     "text": [
      "Las votaciones de A tienen etiqueta 0, se contaron 522 votos\n",
      "Las votaciones de B tienen etiqueta 1, se contaron 478 votos\n",
      "\n",
      "Z predice el ganador equivocado\n",
      "La probabilidad de Z para predecir al ganador correcto con 1000 encuestados de 1000 personas es 0.478 \n",
      "\n",
      "\n",
      "-----------------------------------------------------------------------------------------------\n",
      "\n",
      "\n",
      "Las votaciones de A tienen etiqueta 0, se contaron 522 votos\n",
      "Las votaciones de B tienen etiqueta 1, se contaron 478 votos\n",
      "\n",
      "Z predice el ganador equivocado\n",
      "La probabilidad de Z para predecir al ganador correcto con 1000 encuestados de 5000 personas es 0.0956 \n",
      "\n",
      "\n",
      "--------------------------------------------------------------------------------------------------\n",
      "\n",
      "\n"
     ]
    }
   ],
   "source": [
    "e, t, p = predictorZ(encuestados=1000, totales=1000)\n",
    "print(\"La probabilidad de Z para predecir al ganador correcto con {} encuestados de {} personas es {} \\n\\n\".\n",
    "         format(e, t, p))\n",
    "\n",
    "print(\"-----------------------------------------------------------------------------------------------\\n\\n\")\n",
    "\n",
    "\n",
    "e, t, p = predictorZ(encuestados=1000, totales=5000)\n",
    "print(\"La probabilidad de Z para predecir al ganador correcto con {} encuestados de {} personas es {} \\n\\n\".\n",
    "         format(e, t, p))\n",
    "\n",
    "print(\"--------------------------------------------------------------------------------------------------\\n\\n\")\n",
    "\n"
   ]
  },
  {
   "cell_type": "markdown",
   "metadata": {},
   "source": [
    "2.Carga el conjunto de datos `bank-campaign.csv`\n",
    "\n",
    "Este conjunto de datos es el éxito del marketing de una campaña de promoción telefónica hecha por un banco. El objetivo es predecir el  resultado binario, de que es si un cliente se suscribió a un nuevo producto.\n",
    "\n",
    "Divide los datos en un conjunto de entrenamiento y de prueba usando `train_test_split`. Utiliza la validación cruzada para evaluar un `RandomForestClassifier` en la parte de entrenamiento. Luego use `GridSearchCV` para ajustar los parámetros `max_features` y `max_depth`. Crea un mapa de calor con los resultados de la validación cruzada para todo el grid.\n",
    "\n",
    "Dado que el conjunto de datos es un poco más grande, podría ser útil submuestrear el conjunto de datos, ya sea manualmente o dentro de `train_test_split`. Por lo general, es una buena idea crear un prototipo de tu código con un subconjunto de datos.\n"
   ]
  },
  {
   "cell_type": "code",
   "execution_count": 22,
   "metadata": {},
   "outputs": [
    {
     "data": {
      "text/html": [
       "<div>\n",
       "<style scoped>\n",
       "    .dataframe tbody tr th:only-of-type {\n",
       "        vertical-align: middle;\n",
       "    }\n",
       "\n",
       "    .dataframe tbody tr th {\n",
       "        vertical-align: top;\n",
       "    }\n",
       "\n",
       "    .dataframe thead th {\n",
       "        text-align: right;\n",
       "    }\n",
       "</style>\n",
       "<table border=\"1\" class=\"dataframe\">\n",
       "  <thead>\n",
       "    <tr style=\"text-align: right;\">\n",
       "      <th></th>\n",
       "      <th>age</th>\n",
       "      <th>duration</th>\n",
       "      <th>campaign</th>\n",
       "      <th>pdays</th>\n",
       "      <th>previous</th>\n",
       "      <th>emp.var.rate</th>\n",
       "      <th>cons.price.idx</th>\n",
       "      <th>cons.conf.idx</th>\n",
       "      <th>euribor3m</th>\n",
       "      <th>nr.employed</th>\n",
       "      <th>...</th>\n",
       "      <th>month_sep</th>\n",
       "      <th>day_of_week_fri</th>\n",
       "      <th>day_of_week_mon</th>\n",
       "      <th>day_of_week_thu</th>\n",
       "      <th>day_of_week_tue</th>\n",
       "      <th>day_of_week_wed</th>\n",
       "      <th>poutcome_failure</th>\n",
       "      <th>poutcome_nonexistent</th>\n",
       "      <th>poutcome_success</th>\n",
       "      <th>target</th>\n",
       "    </tr>\n",
       "  </thead>\n",
       "  <tbody>\n",
       "    <tr>\n",
       "      <th>0</th>\n",
       "      <td>56</td>\n",
       "      <td>261</td>\n",
       "      <td>1</td>\n",
       "      <td>999</td>\n",
       "      <td>0</td>\n",
       "      <td>1.1</td>\n",
       "      <td>93.994</td>\n",
       "      <td>-36.4</td>\n",
       "      <td>4.857</td>\n",
       "      <td>5191.0</td>\n",
       "      <td>...</td>\n",
       "      <td>0.0</td>\n",
       "      <td>0.0</td>\n",
       "      <td>1.0</td>\n",
       "      <td>0.0</td>\n",
       "      <td>0.0</td>\n",
       "      <td>0.0</td>\n",
       "      <td>0.0</td>\n",
       "      <td>1.0</td>\n",
       "      <td>0.0</td>\n",
       "      <td>no</td>\n",
       "    </tr>\n",
       "    <tr>\n",
       "      <th>1</th>\n",
       "      <td>57</td>\n",
       "      <td>149</td>\n",
       "      <td>1</td>\n",
       "      <td>999</td>\n",
       "      <td>0</td>\n",
       "      <td>1.1</td>\n",
       "      <td>93.994</td>\n",
       "      <td>-36.4</td>\n",
       "      <td>4.857</td>\n",
       "      <td>5191.0</td>\n",
       "      <td>...</td>\n",
       "      <td>0.0</td>\n",
       "      <td>0.0</td>\n",
       "      <td>1.0</td>\n",
       "      <td>0.0</td>\n",
       "      <td>0.0</td>\n",
       "      <td>0.0</td>\n",
       "      <td>0.0</td>\n",
       "      <td>1.0</td>\n",
       "      <td>0.0</td>\n",
       "      <td>no</td>\n",
       "    </tr>\n",
       "    <tr>\n",
       "      <th>2</th>\n",
       "      <td>37</td>\n",
       "      <td>226</td>\n",
       "      <td>1</td>\n",
       "      <td>999</td>\n",
       "      <td>0</td>\n",
       "      <td>1.1</td>\n",
       "      <td>93.994</td>\n",
       "      <td>-36.4</td>\n",
       "      <td>4.857</td>\n",
       "      <td>5191.0</td>\n",
       "      <td>...</td>\n",
       "      <td>0.0</td>\n",
       "      <td>0.0</td>\n",
       "      <td>1.0</td>\n",
       "      <td>0.0</td>\n",
       "      <td>0.0</td>\n",
       "      <td>0.0</td>\n",
       "      <td>0.0</td>\n",
       "      <td>1.0</td>\n",
       "      <td>0.0</td>\n",
       "      <td>no</td>\n",
       "    </tr>\n",
       "    <tr>\n",
       "      <th>3</th>\n",
       "      <td>40</td>\n",
       "      <td>151</td>\n",
       "      <td>1</td>\n",
       "      <td>999</td>\n",
       "      <td>0</td>\n",
       "      <td>1.1</td>\n",
       "      <td>93.994</td>\n",
       "      <td>-36.4</td>\n",
       "      <td>4.857</td>\n",
       "      <td>5191.0</td>\n",
       "      <td>...</td>\n",
       "      <td>0.0</td>\n",
       "      <td>0.0</td>\n",
       "      <td>1.0</td>\n",
       "      <td>0.0</td>\n",
       "      <td>0.0</td>\n",
       "      <td>0.0</td>\n",
       "      <td>0.0</td>\n",
       "      <td>1.0</td>\n",
       "      <td>0.0</td>\n",
       "      <td>no</td>\n",
       "    </tr>\n",
       "    <tr>\n",
       "      <th>4</th>\n",
       "      <td>56</td>\n",
       "      <td>307</td>\n",
       "      <td>1</td>\n",
       "      <td>999</td>\n",
       "      <td>0</td>\n",
       "      <td>1.1</td>\n",
       "      <td>93.994</td>\n",
       "      <td>-36.4</td>\n",
       "      <td>4.857</td>\n",
       "      <td>5191.0</td>\n",
       "      <td>...</td>\n",
       "      <td>0.0</td>\n",
       "      <td>0.0</td>\n",
       "      <td>1.0</td>\n",
       "      <td>0.0</td>\n",
       "      <td>0.0</td>\n",
       "      <td>0.0</td>\n",
       "      <td>0.0</td>\n",
       "      <td>1.0</td>\n",
       "      <td>0.0</td>\n",
       "      <td>no</td>\n",
       "    </tr>\n",
       "  </tbody>\n",
       "</table>\n",
       "<p>5 rows × 64 columns</p>\n",
       "</div>"
      ],
      "text/plain": [
       "   age  duration  campaign  pdays  previous  emp.var.rate  cons.price.idx  \\\n",
       "0   56       261         1    999         0           1.1          93.994   \n",
       "1   57       149         1    999         0           1.1          93.994   \n",
       "2   37       226         1    999         0           1.1          93.994   \n",
       "3   40       151         1    999         0           1.1          93.994   \n",
       "4   56       307         1    999         0           1.1          93.994   \n",
       "\n",
       "   cons.conf.idx  euribor3m  nr.employed  ...  month_sep  day_of_week_fri  \\\n",
       "0          -36.4      4.857       5191.0  ...        0.0              0.0   \n",
       "1          -36.4      4.857       5191.0  ...        0.0              0.0   \n",
       "2          -36.4      4.857       5191.0  ...        0.0              0.0   \n",
       "3          -36.4      4.857       5191.0  ...        0.0              0.0   \n",
       "4          -36.4      4.857       5191.0  ...        0.0              0.0   \n",
       "\n",
       "   day_of_week_mon  day_of_week_thu  day_of_week_tue  day_of_week_wed  \\\n",
       "0              1.0              0.0              0.0              0.0   \n",
       "1              1.0              0.0              0.0              0.0   \n",
       "2              1.0              0.0              0.0              0.0   \n",
       "3              1.0              0.0              0.0              0.0   \n",
       "4              1.0              0.0              0.0              0.0   \n",
       "\n",
       "   poutcome_failure  poutcome_nonexistent  poutcome_success  target  \n",
       "0               0.0                   1.0               0.0      no  \n",
       "1               0.0                   1.0               0.0      no  \n",
       "2               0.0                   1.0               0.0      no  \n",
       "3               0.0                   1.0               0.0      no  \n",
       "4               0.0                   1.0               0.0      no  \n",
       "\n",
       "[5 rows x 64 columns]"
      ]
     },
     "execution_count": 22,
     "metadata": {},
     "output_type": "execute_result"
    }
   ],
   "source": [
    "import pandas as pd\n",
    "stratify = y\n",
    "\n",
    "bank = pd.read_csv(\"bank-campaign.csv\")\n",
    "\n",
    "# analizaremos un poco los datos\n",
    "bank.head()"
   ]
  },
  {
   "cell_type": "code",
   "execution_count": 23,
   "metadata": {},
   "outputs": [
    {
     "data": {
      "text/html": [
       "<div>\n",
       "<style scoped>\n",
       "    .dataframe tbody tr th:only-of-type {\n",
       "        vertical-align: middle;\n",
       "    }\n",
       "\n",
       "    .dataframe tbody tr th {\n",
       "        vertical-align: top;\n",
       "    }\n",
       "\n",
       "    .dataframe thead th {\n",
       "        text-align: right;\n",
       "    }\n",
       "</style>\n",
       "<table border=\"1\" class=\"dataframe\">\n",
       "  <thead>\n",
       "    <tr style=\"text-align: right;\">\n",
       "      <th></th>\n",
       "      <th>age</th>\n",
       "      <th>duration</th>\n",
       "      <th>campaign</th>\n",
       "      <th>pdays</th>\n",
       "      <th>previous</th>\n",
       "      <th>emp.var.rate</th>\n",
       "      <th>cons.price.idx</th>\n",
       "      <th>cons.conf.idx</th>\n",
       "      <th>euribor3m</th>\n",
       "      <th>nr.employed</th>\n",
       "      <th>...</th>\n",
       "      <th>month_sep</th>\n",
       "      <th>day_of_week_fri</th>\n",
       "      <th>day_of_week_mon</th>\n",
       "      <th>day_of_week_thu</th>\n",
       "      <th>day_of_week_tue</th>\n",
       "      <th>day_of_week_wed</th>\n",
       "      <th>poutcome_failure</th>\n",
       "      <th>poutcome_nonexistent</th>\n",
       "      <th>poutcome_success</th>\n",
       "      <th>target</th>\n",
       "    </tr>\n",
       "  </thead>\n",
       "  <tbody>\n",
       "    <tr>\n",
       "      <th>0</th>\n",
       "      <td>56</td>\n",
       "      <td>261</td>\n",
       "      <td>1</td>\n",
       "      <td>999</td>\n",
       "      <td>0</td>\n",
       "      <td>1.1</td>\n",
       "      <td>93.994</td>\n",
       "      <td>-36.4</td>\n",
       "      <td>4.857</td>\n",
       "      <td>5191.0</td>\n",
       "      <td>...</td>\n",
       "      <td>0.0</td>\n",
       "      <td>0.0</td>\n",
       "      <td>1.0</td>\n",
       "      <td>0.0</td>\n",
       "      <td>0.0</td>\n",
       "      <td>0.0</td>\n",
       "      <td>0.0</td>\n",
       "      <td>1.0</td>\n",
       "      <td>0.0</td>\n",
       "      <td>0</td>\n",
       "    </tr>\n",
       "    <tr>\n",
       "      <th>1</th>\n",
       "      <td>57</td>\n",
       "      <td>149</td>\n",
       "      <td>1</td>\n",
       "      <td>999</td>\n",
       "      <td>0</td>\n",
       "      <td>1.1</td>\n",
       "      <td>93.994</td>\n",
       "      <td>-36.4</td>\n",
       "      <td>4.857</td>\n",
       "      <td>5191.0</td>\n",
       "      <td>...</td>\n",
       "      <td>0.0</td>\n",
       "      <td>0.0</td>\n",
       "      <td>1.0</td>\n",
       "      <td>0.0</td>\n",
       "      <td>0.0</td>\n",
       "      <td>0.0</td>\n",
       "      <td>0.0</td>\n",
       "      <td>1.0</td>\n",
       "      <td>0.0</td>\n",
       "      <td>0</td>\n",
       "    </tr>\n",
       "    <tr>\n",
       "      <th>2</th>\n",
       "      <td>37</td>\n",
       "      <td>226</td>\n",
       "      <td>1</td>\n",
       "      <td>999</td>\n",
       "      <td>0</td>\n",
       "      <td>1.1</td>\n",
       "      <td>93.994</td>\n",
       "      <td>-36.4</td>\n",
       "      <td>4.857</td>\n",
       "      <td>5191.0</td>\n",
       "      <td>...</td>\n",
       "      <td>0.0</td>\n",
       "      <td>0.0</td>\n",
       "      <td>1.0</td>\n",
       "      <td>0.0</td>\n",
       "      <td>0.0</td>\n",
       "      <td>0.0</td>\n",
       "      <td>0.0</td>\n",
       "      <td>1.0</td>\n",
       "      <td>0.0</td>\n",
       "      <td>0</td>\n",
       "    </tr>\n",
       "    <tr>\n",
       "      <th>3</th>\n",
       "      <td>40</td>\n",
       "      <td>151</td>\n",
       "      <td>1</td>\n",
       "      <td>999</td>\n",
       "      <td>0</td>\n",
       "      <td>1.1</td>\n",
       "      <td>93.994</td>\n",
       "      <td>-36.4</td>\n",
       "      <td>4.857</td>\n",
       "      <td>5191.0</td>\n",
       "      <td>...</td>\n",
       "      <td>0.0</td>\n",
       "      <td>0.0</td>\n",
       "      <td>1.0</td>\n",
       "      <td>0.0</td>\n",
       "      <td>0.0</td>\n",
       "      <td>0.0</td>\n",
       "      <td>0.0</td>\n",
       "      <td>1.0</td>\n",
       "      <td>0.0</td>\n",
       "      <td>0</td>\n",
       "    </tr>\n",
       "    <tr>\n",
       "      <th>4</th>\n",
       "      <td>56</td>\n",
       "      <td>307</td>\n",
       "      <td>1</td>\n",
       "      <td>999</td>\n",
       "      <td>0</td>\n",
       "      <td>1.1</td>\n",
       "      <td>93.994</td>\n",
       "      <td>-36.4</td>\n",
       "      <td>4.857</td>\n",
       "      <td>5191.0</td>\n",
       "      <td>...</td>\n",
       "      <td>0.0</td>\n",
       "      <td>0.0</td>\n",
       "      <td>1.0</td>\n",
       "      <td>0.0</td>\n",
       "      <td>0.0</td>\n",
       "      <td>0.0</td>\n",
       "      <td>0.0</td>\n",
       "      <td>1.0</td>\n",
       "      <td>0.0</td>\n",
       "      <td>0</td>\n",
       "    </tr>\n",
       "  </tbody>\n",
       "</table>\n",
       "<p>5 rows × 64 columns</p>\n",
       "</div>"
      ],
      "text/plain": [
       "   age  duration  campaign  pdays  previous  emp.var.rate  cons.price.idx  \\\n",
       "0   56       261         1    999         0           1.1          93.994   \n",
       "1   57       149         1    999         0           1.1          93.994   \n",
       "2   37       226         1    999         0           1.1          93.994   \n",
       "3   40       151         1    999         0           1.1          93.994   \n",
       "4   56       307         1    999         0           1.1          93.994   \n",
       "\n",
       "   cons.conf.idx  euribor3m  nr.employed  ...  month_sep  day_of_week_fri  \\\n",
       "0          -36.4      4.857       5191.0  ...        0.0              0.0   \n",
       "1          -36.4      4.857       5191.0  ...        0.0              0.0   \n",
       "2          -36.4      4.857       5191.0  ...        0.0              0.0   \n",
       "3          -36.4      4.857       5191.0  ...        0.0              0.0   \n",
       "4          -36.4      4.857       5191.0  ...        0.0              0.0   \n",
       "\n",
       "   day_of_week_mon  day_of_week_thu  day_of_week_tue  day_of_week_wed  \\\n",
       "0              1.0              0.0              0.0              0.0   \n",
       "1              1.0              0.0              0.0              0.0   \n",
       "2              1.0              0.0              0.0              0.0   \n",
       "3              1.0              0.0              0.0              0.0   \n",
       "4              1.0              0.0              0.0              0.0   \n",
       "\n",
       "   poutcome_failure  poutcome_nonexistent  poutcome_success  target  \n",
       "0               0.0                   1.0               0.0       0  \n",
       "1               0.0                   1.0               0.0       0  \n",
       "2               0.0                   1.0               0.0       0  \n",
       "3               0.0                   1.0               0.0       0  \n",
       "4               0.0                   1.0               0.0       0  \n",
       "\n",
       "[5 rows x 64 columns]"
      ]
     },
     "execution_count": 23,
     "metadata": {},
     "output_type": "execute_result"
    }
   ],
   "source": [
    "# modificamos los targets\n",
    "\n",
    "bank.target.replace('no', 0, inplace=True)\n",
    "bank.target.replace('yes', 1,  inplace=True)\n",
    "\n",
    "bank.head()"
   ]
  },
  {
   "cell_type": "code",
   "execution_count": 24,
   "metadata": {},
   "outputs": [],
   "source": [
    "X = bank.drop(\"target\", axis=1).values\n",
    "y = bank.target.values"
   ]
  },
  {
   "cell_type": "code",
   "execution_count": 25,
   "metadata": {},
   "outputs": [
    {
     "data": {
      "text/html": [
       "<div>\n",
       "<style scoped>\n",
       "    .dataframe tbody tr th:only-of-type {\n",
       "        vertical-align: middle;\n",
       "    }\n",
       "\n",
       "    .dataframe tbody tr th {\n",
       "        vertical-align: top;\n",
       "    }\n",
       "\n",
       "    .dataframe thead th {\n",
       "        text-align: right;\n",
       "    }\n",
       "</style>\n",
       "<table border=\"1\" class=\"dataframe\">\n",
       "  <thead>\n",
       "    <tr style=\"text-align: right;\">\n",
       "      <th></th>\n",
       "      <th>fit_time</th>\n",
       "      <th>score_time</th>\n",
       "      <th>test_accuracy</th>\n",
       "      <th>train_accuracy</th>\n",
       "      <th>test_average_precision</th>\n",
       "      <th>train_average_precision</th>\n",
       "      <th>test_recall_macro</th>\n",
       "      <th>train_recall_macro</th>\n",
       "    </tr>\n",
       "  </thead>\n",
       "  <tbody>\n",
       "    <tr>\n",
       "      <th>0</th>\n",
       "      <td>8.544011</td>\n",
       "      <td>0.716929</td>\n",
       "      <td>0.911474</td>\n",
       "      <td>1.0</td>\n",
       "      <td>0.638023</td>\n",
       "      <td>1.0</td>\n",
       "      <td>0.696518</td>\n",
       "      <td>1.0</td>\n",
       "    </tr>\n",
       "    <tr>\n",
       "      <th>1</th>\n",
       "      <td>7.996587</td>\n",
       "      <td>0.621045</td>\n",
       "      <td>0.913726</td>\n",
       "      <td>1.0</td>\n",
       "      <td>0.647820</td>\n",
       "      <td>1.0</td>\n",
       "      <td>0.712194</td>\n",
       "      <td>1.0</td>\n",
       "    </tr>\n",
       "    <tr>\n",
       "      <th>2</th>\n",
       "      <td>7.978943</td>\n",
       "      <td>0.779604</td>\n",
       "      <td>0.907413</td>\n",
       "      <td>1.0</td>\n",
       "      <td>0.594880</td>\n",
       "      <td>1.0</td>\n",
       "      <td>0.701346</td>\n",
       "      <td>1.0</td>\n",
       "    </tr>\n",
       "    <tr>\n",
       "      <th>3</th>\n",
       "      <td>8.397194</td>\n",
       "      <td>0.679849</td>\n",
       "      <td>0.907737</td>\n",
       "      <td>1.0</td>\n",
       "      <td>0.630767</td>\n",
       "      <td>1.0</td>\n",
       "      <td>0.688985</td>\n",
       "      <td>1.0</td>\n",
       "    </tr>\n",
       "    <tr>\n",
       "      <th>4</th>\n",
       "      <td>7.732730</td>\n",
       "      <td>0.743220</td>\n",
       "      <td>0.914859</td>\n",
       "      <td>1.0</td>\n",
       "      <td>0.653375</td>\n",
       "      <td>1.0</td>\n",
       "      <td>0.710559</td>\n",
       "      <td>1.0</td>\n",
       "    </tr>\n",
       "  </tbody>\n",
       "</table>\n",
       "</div>"
      ],
      "text/plain": [
       "   fit_time  score_time  test_accuracy  train_accuracy  \\\n",
       "0  8.544011    0.716929       0.911474             1.0   \n",
       "1  7.996587    0.621045       0.913726             1.0   \n",
       "2  7.978943    0.779604       0.907413             1.0   \n",
       "3  8.397194    0.679849       0.907737             1.0   \n",
       "4  7.732730    0.743220       0.914859             1.0   \n",
       "\n",
       "   test_average_precision  train_average_precision  test_recall_macro  \\\n",
       "0                0.638023                      1.0           0.696518   \n",
       "1                0.647820                      1.0           0.712194   \n",
       "2                0.594880                      1.0           0.701346   \n",
       "3                0.630767                      1.0           0.688985   \n",
       "4                0.653375                      1.0           0.710559   \n",
       "\n",
       "   train_recall_macro  \n",
       "0                 1.0  \n",
       "1                 1.0  \n",
       "2                 1.0  \n",
       "3                 1.0  \n",
       "4                 1.0  "
      ]
     },
     "execution_count": 25,
     "metadata": {},
     "output_type": "execute_result"
    }
   ],
   "source": [
    "# división de los datos\n",
    "from sklearn.model_selection import train_test_split\n",
    "\n",
    "X_train, X_test, y_train, y_test = train_test_split(X, y, test_size = 0.25, random_state=0)\n",
    "\n",
    "# Usando validación cruzada en el bosque aleatorio\n",
    "from sklearn.ensemble import RandomForestClassifier\n",
    "from sklearn.model_selection import cross_validate\n",
    "\n",
    "rfc = RandomForestClassifier(random_state=0).fit(X_train, y_train)\n",
    "\n",
    "cross_val = cross_validate(rfc, X_train, y_train,\n",
    "                     scoring=[\"accuracy\", \"average_precision\", \"recall_macro\"],\n",
    "                     return_train_score=True, cv=5)\n",
    "\n",
    "pd.DataFrame(cross_val)"
   ]
  },
  {
   "cell_type": "code",
   "execution_count": 26,
   "metadata": {},
   "outputs": [
    {
     "name": "stdout",
     "output_type": "stream",
     "text": [
      "input:  [[ 5.5000e+01  2.4800e+02  2.0000e+00  9.9900e+02  0.0000e+00 -1.8000e+00\n",
      "   9.3075e+01 -4.7100e+01  1.4050e+00  5.0991e+03  0.0000e+00  1.0000e+00\n",
      "   0.0000e+00  0.0000e+00  0.0000e+00  0.0000e+00  0.0000e+00  0.0000e+00\n",
      "   0.0000e+00  0.0000e+00  0.0000e+00  0.0000e+00  0.0000e+00  1.0000e+00\n",
      "   0.0000e+00  0.0000e+00  1.0000e+00  0.0000e+00  0.0000e+00  0.0000e+00\n",
      "   0.0000e+00  0.0000e+00  0.0000e+00  0.0000e+00  1.0000e+00  0.0000e+00\n",
      "   0.0000e+00  0.0000e+00  0.0000e+00  1.0000e+00  1.0000e+00  0.0000e+00\n",
      "   0.0000e+00  1.0000e+00  0.0000e+00  1.0000e+00  0.0000e+00  0.0000e+00\n",
      "   0.0000e+00  0.0000e+00  0.0000e+00  0.0000e+00  0.0000e+00  0.0000e+00\n",
      "   0.0000e+00  1.0000e+00  0.0000e+00  0.0000e+00  0.0000e+00  0.0000e+00\n",
      "   0.0000e+00  1.0000e+00  0.0000e+00]]\n",
      "target:  [0]\n",
      "predicción:  [0]\n"
     ]
    }
   ],
   "source": [
    "# hacemos una predicción\n",
    "\n",
    "print(\"input: \", X_test[1:2])\n",
    "print(\"target: \", y_test[1:2])\n",
    "print(\"predicción: \", rfc.predict(X_test[1:2]))"
   ]
  },
  {
   "cell_type": "code",
   "execution_count": 27,
   "metadata": {},
   "outputs": [
    {
     "name": "stdout",
     "output_type": "stream",
     "text": [
      "Puntaje en el conjunto de entrenamiento: 0.999968\n",
      "Puntaje en el conjunto de prueba: 0.913081\n"
     ]
    },
    {
     "data": {
      "text/plain": [
       "'Concluimos que no se sobreajusta tanto en el conjunto de prueba (aunque 0.99 en el data de \\nentrenamiento si sugiere un sobreajuste que debemos tratar). Necesitamos añadir algunas otras técnicas de regularización'"
      ]
     },
     "execution_count": 27,
     "metadata": {},
     "output_type": "execute_result"
    }
   ],
   "source": [
    "print(\"Puntaje en el conjunto de entrenamiento: %f\" % rfc.score(X_train, y_train))\n",
    "print(\"Puntaje en el conjunto de prueba: %f\" % rfc.score(X_test, y_test))\n",
    "\n",
    "'''Concluimos que no se sobreajusta tanto en el conjunto de prueba (aunque 0.99 en el data de \n",
    "entrenamiento si sugiere un sobreajuste que debemos tratar). Necesitamos añadir algunas otras técnicas de regularización'''"
   ]
  },
  {
   "cell_type": "code",
   "execution_count": 28,
   "metadata": {},
   "outputs": [
    {
     "data": {
      "text/plain": [
       "GridSearchCV(cv=5, estimator=RandomForestClassifier(random_state=0),\n",
       "             param_grid={'max_depth': [3, 6, 9, 12],\n",
       "                         'max_features': [50, 100, 150, 180, 200]})"
      ]
     },
     "execution_count": 28,
     "metadata": {},
     "output_type": "execute_result"
    }
   ],
   "source": [
    "import warnings\n",
    "warnings.filterwarnings(\"ignore\")\n",
    "\n",
    "# ahora realizamos la búsqueda grid\n",
    "from sklearn.model_selection import GridSearchCV\n",
    "\n",
    "param_grid_rfc = {'max_features': [50, 100, 150, 180, 200],\n",
    "             'max_depth': [3, 6, 9, 12]}\n",
    "\n",
    "# instanciamos la búsqueda grid\n",
    "grid_rfc = GridSearchCV(rfc, param_grid=param_grid_rfc, cv=5)\n",
    "\n",
    "# ahora entrenamos\n",
    "grid_rfc.fit(X_train, y_train)"
   ]
  },
  {
   "cell_type": "code",
   "execution_count": 29,
   "metadata": {},
   "outputs": [
    {
     "name": "stdout",
     "output_type": "stream",
     "text": [
      "Puntaje en el conjunto de entrenamiento: 0.942864\n",
      "Puntaje en el conjunto de prueba: 0.921531\n",
      "Mejores hiperparametros:  {'max_depth': 9, 'max_features': 50}\n"
     ]
    }
   ],
   "source": [
    "print(\"Puntaje en el conjunto de entrenamiento: %f\" % grid_rfc.score(X_train, y_train))\n",
    "print(\"Puntaje en el conjunto de prueba: %f\" % grid_rfc.score(X_test, y_test))\n",
    "print(\"Mejores hiperparametros: \", grid_rfc.best_params_)"
   ]
  },
  {
   "cell_type": "code",
   "execution_count": null,
   "metadata": {},
   "outputs": [],
   "source": [
    "# podemos ver que no se presentan señales de un sobreajuste"
   ]
  },
  {
   "cell_type": "markdown",
   "metadata": {},
   "source": [
    "3. Programa alguno de los siguientes algoritmos, BSF, DSF, búsqueda de costo uniforme o A* en el lenguaje de tu elección y realiza una prueba con el ejemplo de 8-puzzle dado en en las notas de clase."
   ]
  },
  {
   "cell_type": "markdown",
   "metadata": {},
   "source": [
    "Usaré para este caso, la búsqueda BSF. Es un algoritmo para recorrer o buscar estructuras de datos de árbol o gráfico. Comienza en la raíz del árbol (o algún nodo arbitrario de un gráfico, a veces denominado 'clave de búsqueda'), y explora todos los nodos vecinos en la profundidad actual antes de pasar a los nodos del siguiente nivel de profundidad.\n",
    "\n",
    "\n",
    "<p align=\"center\">\n",
    "  <img src=\"https://github.com/memoodm/AI-Search-8Puzzle/raw/master/images/BFS.gif\" />\n",
    "</p>\n",
    "\n",
    "\n",
    "\n",
    "Utiliza la estrategia opuesta a la búsqueda en profundidad, que en su lugar explora los nodos de mayor profundidad antes de verse obligado a retroceder y expandir los nodos menos profundos."
   ]
  },
  {
   "cell_type": "code",
   "execution_count": 28,
   "metadata": {},
   "outputs": [],
   "source": [
    "import argparse\n",
    "import time\n",
    "import timeit\n",
    "from collections import deque\n",
    "\n",
    "\n",
    "#Información *****************************************************\n",
    "class PuzzleState:\n",
    "    def __init__(self, state, parent, move, depth, cost, key):\n",
    "        self.state = state\n",
    "        self.parent = parent\n",
    "        self.move = move\n",
    "        self.depth = depth\n",
    "        self.cost = cost\n",
    "        self.key = key\n",
    "        if self.state:\n",
    "            self.map = ''.join(str(e) for e in self.state)\n",
    "    def __eq__(self, other):\n",
    "        return self.map == other.map\n",
    "    def __lt__(self, other):\n",
    "        return self.map < other.map\n",
    "    def __str__(self):\n",
    "        return str(self.map)    \n",
    "\n",
    "#variables globales***********************************************\n",
    "GoalState = [0, 1, 2, 3, 4, 5, 6, 7, 8]\n",
    "GoalNode = None # Para encontrar una solución\n",
    "NodesExpanded = 0 #nodos totales visitados\n",
    "MaxSearchDeep = 0 #profundidad máxima\n",
    "MaxFrontier = 0 # frontera máxima\n",
    "\n",
    "\n",
    "#BFS**************************************************************\n",
    "def bfs(startState):\n",
    "\n",
    "    global MaxFrontier, GoalNode, MaxSearchDeep\n",
    "\n",
    "    boardVisited= set()\n",
    "    Queue = deque([PuzzleState(startState, None, None, 0, 0, 0)])\n",
    "\n",
    "    while Queue:\n",
    "        node = Queue.popleft()\n",
    "        boardVisited.add(node.map)\n",
    "        if node.state == GoalState:\n",
    "            GoalNode = node\n",
    "            return Queue\n",
    "        posiblePaths = subNodes(node)\n",
    "        for path in posiblePaths:\n",
    "            if path.map not in boardVisited:\n",
    "                Queue.append(path)\n",
    "                boardVisited.add(path.map)\n",
    "                if path.depth > MaxSearchDeep:\n",
    "                    MaxSearchDeep = MaxSearchDeep + 1\n",
    "        if len(Queue) > MaxFrontier:\n",
    "            QueueSize = len(Queue)\n",
    "            MaxFrontier = QueueSize\n",
    "        \n",
    "        \n",
    "#Heuristica: distancia a los números raíz\n",
    "values_0 = [0,1,2,1,2,3,2,3,4]\n",
    "values_1 = [1,0,1,2,1,2,3,2,3]\n",
    "values_2 = [2,1,0,3,2,1,4,3,2]\n",
    "values_3 = [1,2,3,0,1,2,1,2,3]\n",
    "values_4 = [2,1,2,1,0,1,2,1,2]\n",
    "values_5 = [3,2,1,2,1,0,3,2,1]\n",
    "values_6 = [2,3,4,1,2,3,0,1,2]\n",
    "values_7 = [3,2,3,2,1,2,1,0,1]\n",
    "values_8 = [4,3,2,3,2,1,2,1,0]\n",
    "\n",
    "def Heuristic(node):\n",
    "\n",
    "    global values_0,values_1,values_2,values_3,values_4,values_5,values_6,values_7,values_8   \n",
    "    v0=values_0[node.index(\"0\")]\n",
    "    v1=values_1[node.index(\"1\")]\n",
    "    v2=values_2[node.index(\"2\")]\n",
    "    v3=values_3[node.index(\"3\")]\n",
    "    v4=values_4[node.index(\"4\")]\n",
    "    v5=values_5[node.index(\"5\")]\n",
    "    v6=values_6[node.index(\"6\")]\n",
    "    v7=values_7[node.index(\"7\")]\n",
    "    v8=values_8[node.index(\"8\")]\n",
    "    valorTotal = v0+v1+v2+v3+v4+v5+v6+v7+v8\n",
    "    return valorTotal\n",
    "    \n",
    "        \n",
    "\n",
    "    \n",
    "#Obtenemos los Sub Nodos********************************************************\n",
    "def subNodes(node):\n",
    "\n",
    "    global NodesExpanded\n",
    "    NodesExpanded = NodesExpanded+1\n",
    "\n",
    "    nextPaths = []\n",
    "    nextPaths.append(PuzzleState(move(node.state, 1), node, 1, node.depth + 1, node.cost + 1, 0))\n",
    "    nextPaths.append(PuzzleState(move(node.state, 2), node, 2, node.depth + 1, node.cost + 1, 0))\n",
    "    nextPaths.append(PuzzleState(move(node.state, 3), node, 3, node.depth + 1, node.cost + 1, 0))\n",
    "    nextPaths.append(PuzzleState(move(node.state, 4), node, 4, node.depth + 1, node.cost + 1, 0))\n",
    "    nodes=[]\n",
    "    for procPaths in nextPaths:\n",
    "        if(procPaths.state!=None):\n",
    "            nodes.append(procPaths)\n",
    "    return nodes\n",
    "\n",
    "#Paso siguiente **************************************************************\n",
    "def move(state, direction):\n",
    "    #generamos una copia\n",
    "    newState = state[:]\n",
    "    \n",
    "    # obtenemos la posición de 0\n",
    "    index = newState.index(0)\n",
    "\n",
    "    if(index==0):\n",
    "        if(direction==1):\n",
    "            return None\n",
    "        if(direction==2):\n",
    "            temp=newState[0]\n",
    "            newState[0]=newState[3]\n",
    "            newState[3]=temp\n",
    "        if(direction==3):\n",
    "            return None\n",
    "        if(direction==4):\n",
    "            temp=newState[0]\n",
    "            newState[0]=newState[1]\n",
    "            newState[1]=temp\n",
    "        return newState      \n",
    "    if(index==1):\n",
    "        if(direction==1):\n",
    "            return None\n",
    "        if(direction==2):\n",
    "            temp=newState[1]\n",
    "            newState[1]=newState[4]\n",
    "            newState[4]=temp\n",
    "        if(direction==3):\n",
    "            temp=newState[1]\n",
    "            newState[1]=newState[0]\n",
    "            newState[0]=temp\n",
    "        if(direction==4):\n",
    "            temp=newState[1]\n",
    "            newState[1]=newState[2]\n",
    "            newState[2]=temp\n",
    "        return newState    \n",
    "    if(index==2):\n",
    "        if(direction==1):\n",
    "            return None\n",
    "        if(direction==2):\n",
    "            temp=newState[2]\n",
    "            newState[2]=newState[5]\n",
    "            newState[5]=temp\n",
    "        if(direction==3):\n",
    "            temp=newState[2]\n",
    "            newState[2]=newState[1]\n",
    "            newState[1]=temp\n",
    "        if(direction==4):\n",
    "            return None\n",
    "        return newState\n",
    "    if(index==3):\n",
    "        if(direction==1):\n",
    "            temp=newState[3]\n",
    "            newState[3]=newState[0]\n",
    "            newState[0]=temp\n",
    "        if(direction==2):\n",
    "            temp=newState[3]\n",
    "            newState[3]=newState[6]\n",
    "            newState[6]=temp\n",
    "        if(direction==3):\n",
    "            return None\n",
    "        if(direction==4):\n",
    "            temp=newState[3]\n",
    "            newState[3]=newState[4]\n",
    "            newState[4]=temp\n",
    "        return newState\n",
    "    if(index==4):\n",
    "        if(direction==1):\n",
    "            temp=newState[4]\n",
    "            newState[4]=newState[1]\n",
    "            newState[1]=temp\n",
    "        if(direction==2):\n",
    "            temp=newState[4]\n",
    "            newState[4]=newState[7]\n",
    "            newState[7]=temp\n",
    "        if(direction==3):\n",
    "            temp=newState[4]\n",
    "            newState[4]=newState[3]\n",
    "            newState[3]=temp\n",
    "        if(direction==4):\n",
    "            temp=newState[4]\n",
    "            newState[4]=newState[5]\n",
    "            newState[5]=temp\n",
    "        return newState\n",
    "    if(index==5):\n",
    "        if(direction==1):\n",
    "            temp=newState[5]\n",
    "            newState[5]=newState[2]\n",
    "            newState[2]=temp\n",
    "        if(direction==2):\n",
    "            temp=newState[5]\n",
    "            newState[5]=newState[8]\n",
    "            newState[8]=temp\n",
    "        if(direction==3):\n",
    "            temp=newState[5]\n",
    "            newState[5]=newState[4]\n",
    "            newState[4]=temp\n",
    "        if(direction==4):\n",
    "            return None\n",
    "        return newState\n",
    "    if(index==6):\n",
    "        if(direction==1):\n",
    "            temp=newState[6]\n",
    "            newState[6]=newState[3]\n",
    "            newState[3]=temp\n",
    "        if(direction==2):\n",
    "            return None\n",
    "        if(direction==3):\n",
    "            return None\n",
    "        if(direction==4):\n",
    "            temp=newState[6]\n",
    "            newState[6]=newState[7]\n",
    "            newState[7]=temp\n",
    "        return newState\n",
    "    if(index==7):\n",
    "        if(direction==1):\n",
    "            temp=newState[7]\n",
    "            newState[7]=newState[4]\n",
    "            newState[4]=temp\n",
    "        if(direction==2):\n",
    "            return None\n",
    "        if(direction==3):\n",
    "            temp=newState[7]\n",
    "            newState[7]=newState[6]\n",
    "            newState[6]=temp\n",
    "        if(direction==4):\n",
    "            temp=newState[7]\n",
    "            newState[7]=newState[8]\n",
    "            newState[8]=temp\n",
    "        return newState\n",
    "    if(index==8):\n",
    "        if(direction==1):\n",
    "            temp=newState[8]\n",
    "            newState[8]=newState[5]\n",
    "            newState[5]=temp\n",
    "        if(direction==2):\n",
    "            return None\n",
    "        if(direction==3):\n",
    "            temp=newState[8]\n",
    "            newState[8]=newState[7]\n",
    "            newState[7]=temp\n",
    "        if(direction==4):\n",
    "            return None\n",
    "        return newState\n",
    "    \n",
    "# función principal**************************************************************\n",
    "def main():\n",
    "\n",
    "    global GoalNode\n",
    "\n",
    "    #a = [1,8,2,3,4,5,6,7,0]\n",
    "    #point=Heuristic(a)\n",
    "    #print(point)\n",
    "    #return\n",
    "    \n",
    "    #info = \"6,1,8,4,0,2,7,3,5\" #20\n",
    "    info = \"8,6,4,2,1,3,5,7,0\" #26\n",
    "    \n",
    "    data = info.split(\",\")  # estos serán nuestros datos de entrada\n",
    "\n",
    "    #Build initial board state\n",
    "    InitialState = []\n",
    "    InitialState.append(int(data[0]))\n",
    "    InitialState.append(int(data[1]))\n",
    "    InitialState.append(int(data[2]))\n",
    "    InitialState.append(int(data[3]))\n",
    "    InitialState.append(int(data[4]))\n",
    "    InitialState.append(int(data[5]))\n",
    "    InitialState.append(int(data[6]))\n",
    "    InitialState.append(int(data[7]))\n",
    "    InitialState.append(int(data[8]))\n",
    "\n",
    "    # comenzamos la búsqueda\n",
    "    start = timeit.default_timer()\n",
    "\n",
    "    bfs(InitialState)\n",
    "\n",
    "    stop = timeit.default_timer()\n",
    "    time = stop-start\n",
    "\n",
    "    # guardamos el resultado de la ruta total\n",
    "    deep=GoalNode.depth\n",
    "    moves = []\n",
    "    while InitialState != GoalNode.state:\n",
    "        if GoalNode.move == 1:\n",
    "            path = 'Up'\n",
    "        if GoalNode.move == 2:\n",
    "            path = 'Down'\n",
    "        if GoalNode.move == 3:\n",
    "            path = 'Left'\n",
    "        if GoalNode.move == 4:\n",
    "            path = 'Right'\n",
    "        moves.insert(0, path)\n",
    "        GoalNode = GoalNode.parent\n",
    "\n",
    "    #'''\n",
    "    print(\"ruta: \",moves, \" \\n\")\n",
    "    print(\"coste: \",len(moves))\n",
    "    print(\"nodos expandidos: \",str(NodesExpanded))\n",
    "    print(\"profundidad: \",str(deep))\n",
    "    print(\"profundidad máxima de búsqueda: \",str(MaxSearchDeep))\n",
    "    print(\"tiempo de ejecución: \",format(time, '.8f'), \" seg\")\n",
    "    #'''"
   ]
  },
  {
   "cell_type": "code",
   "execution_count": 29,
   "metadata": {},
   "outputs": [
    {
     "name": "stdout",
     "output_type": "stream",
     "text": [
      "ruta:  ['Left', 'Up', 'Up', 'Left', 'Down', 'Right', 'Down', 'Left', 'Up', 'Right', 'Right', 'Up', 'Left', 'Left', 'Down', 'Right', 'Right', 'Up', 'Left', 'Down', 'Down', 'Right', 'Up', 'Left', 'Up', 'Left']  \n",
      "\n",
      "coste:  26\n",
      "nodos expandidos:  166786\n",
      "profundidad:  26\n",
      "profundidad máxima de búsqueda:  27\n",
      "tiempo de ejecución:  7.54538910  seg\n"
     ]
    }
   ],
   "source": [
    "main()"
   ]
  },
  {
   "cell_type": "markdown",
   "metadata": {},
   "source": [
    "4. Dadas las entradas,$A, b$,  un valor inicial $x$, un número máximo de iteraciones $i_{\\max}$, y una tolerancia de error $\\epsilon < 1$, implementa el siguiente pseudocódigo (puedes acoplar a algunas cambios), tomada desde el tutorial de `An Introduction to the Conjugate Gradient Method Without the Agonizing Pain` de Jonathan Richard Shewchuk.\n",
    "\n",
    "![](GD.png)\n",
    "\n",
    "Este algoritmo termina cuando se excede el número máximo de iteraciones $i_{\\max}$ o cuando $\\Vert r_{(i)}\\Vert \\leq \\epsilon \\Vert r_{(0)}\\Vert$."
   ]
  },
  {
   "cell_type": "code",
   "execution_count": 129,
   "metadata": {},
   "outputs": [
    {
     "name": "stdout",
     "output_type": "stream",
     "text": [
      "\tIteración 1 -->  Loss : 17.727292478512233\n",
      "\tIteración 2 -->  Loss : 0.052347557583519735\n",
      "\tIteración 3 -->  Loss : 0.04012519394111751\n",
      "\tIteración 4 -->  Loss : 0.0001184871239039472\n",
      "\n",
      "La solución aproximada es :  [[1.01538867 1.000404  ]]\n",
      "\n",
      "La solución exacta es :  [[1 1]]\n"
     ]
    }
   ],
   "source": [
    "import numpy as np\n",
    "\n",
    "\n",
    "# sea f(x) una superficie cuadrátrica, el punto mínimo de esta superficie es la solución a Ax=b\n",
    "\n",
    "\n",
    "# definimos los valores iniciales\n",
    "i_max = 100\n",
    "epsilon = 0.01   # < 1\n",
    "\n",
    "# definimos los valores de la ecuación Ax=b\n",
    "A = np.array([[1, 3], [2, 3]])   \n",
    "b = np.array([[4, 5]]).T\n",
    "solution =  np.array([[1, 1]]).T\n",
    "\n",
    "\n",
    "# --> la solución a dicho sistema sería x = [1, 1].T\n",
    "# comenzamos inicializando los valores de x = x0\n",
    "x = np.random.normal(2, 2.5, size=(1, 2)).T    # iniciamos de forma aleatoria normal los valores de x\n",
    "\n",
    "\n",
    "i = 0\n",
    "r = b - np.matmul(A, x)  # elegimos la dirección en la que f disminuye más rápidamente, que es la dirección -f'\n",
    "delta = np.matmul(r.T, r)\n",
    "delta_cero = delta\n",
    "\n",
    "\n",
    "\n",
    "while i < i_max and delta > (epsilon**2)*delta_cero:\n",
    "    q = np.matmul(A, r)\n",
    "    alfa = delta / np.matmul(r.T, q)\n",
    "    x = x + alfa*r\n",
    "    \n",
    "    if i % 50 == 0:   # factor de correción coma flotante\n",
    "        r = b - np.matmul(A, x)\n",
    "    else:\n",
    "        r = r - alfa*q\n",
    "    \n",
    "    delta = np.matmul(r.T, r)\n",
    "    i = i + 1\n",
    "    \n",
    "    \n",
    "    loss = np.sum((x - solution)**2 ) / len(x)\n",
    "    print(\"\\tIteración {} --> \".format(i), end=\" \")\n",
    "    print(\"Loss : {}\".format(loss), end=\"\\n\")\n",
    "    \n",
    "    \n",
    "    \n",
    "print(\"\\nLa solución aproximada es : \", x.T)\n",
    "print(\"\\nLa solución exacta es : \", solution.T)"
   ]
  },
  {
   "cell_type": "markdown",
   "metadata": {},
   "source": [
    "#### IMPORTANTE: \n",
    "El método anterior puede dar resultados diferentes si se vuelve a ejecutar la celda, en el sentido de que aveces diverge, y esto se debe principalmente a que los valores iniciales de **x** pueden variar."
   ]
  },
  {
   "cell_type": "markdown",
   "metadata": {},
   "source": [
    "5. En este ejercicio usaremos el script `dArbol.py` y el conjunto de datos `party.data`. Usando el algoritmo ID3 en esta sección construimo un árbol de decisiones orientado a la clasificación para decidir qué hacer por la noche, en un conjunto de datos que enumera todo lo que hemos hecho durante los últimos 10 días. Calcula la entropía y encuentra qué característica tiene la máxima ganancia de información. Realiza el mismo procedimiento con el conjunto de datos `tennis.csv`."
   ]
  },
  {
   "cell_type": "code",
   "execution_count": 145,
   "metadata": {},
   "outputs": [
    {
     "data": {
      "text/html": [
       "<div>\n",
       "<style scoped>\n",
       "    .dataframe tbody tr th:only-of-type {\n",
       "        vertical-align: middle;\n",
       "    }\n",
       "\n",
       "    .dataframe tbody tr th {\n",
       "        vertical-align: top;\n",
       "    }\n",
       "\n",
       "    .dataframe thead th {\n",
       "        text-align: right;\n",
       "    }\n",
       "</style>\n",
       "<table border=\"1\" class=\"dataframe\">\n",
       "  <thead>\n",
       "    <tr style=\"text-align: right;\">\n",
       "      <th></th>\n",
       "      <th>outlook</th>\n",
       "      <th>temp</th>\n",
       "      <th>humidity</th>\n",
       "      <th>wind</th>\n",
       "      <th>juega</th>\n",
       "    </tr>\n",
       "    <tr>\n",
       "      <th>day</th>\n",
       "      <th></th>\n",
       "      <th></th>\n",
       "      <th></th>\n",
       "      <th></th>\n",
       "      <th></th>\n",
       "    </tr>\n",
       "  </thead>\n",
       "  <tbody>\n",
       "    <tr>\n",
       "      <th>D1</th>\n",
       "      <td>Soleado</td>\n",
       "      <td>Hot</td>\n",
       "      <td>High</td>\n",
       "      <td>Weak</td>\n",
       "      <td>No</td>\n",
       "    </tr>\n",
       "    <tr>\n",
       "      <th>D2</th>\n",
       "      <td>Soleado</td>\n",
       "      <td>Hot</td>\n",
       "      <td>High</td>\n",
       "      <td>Strong</td>\n",
       "      <td>No</td>\n",
       "    </tr>\n",
       "    <tr>\n",
       "      <th>D3</th>\n",
       "      <td>Overcast</td>\n",
       "      <td>Hot</td>\n",
       "      <td>High</td>\n",
       "      <td>Weak</td>\n",
       "      <td>Si</td>\n",
       "    </tr>\n",
       "    <tr>\n",
       "      <th>D4</th>\n",
       "      <td>Rain</td>\n",
       "      <td>Mild</td>\n",
       "      <td>High</td>\n",
       "      <td>Weak</td>\n",
       "      <td>Si</td>\n",
       "    </tr>\n",
       "    <tr>\n",
       "      <th>D5</th>\n",
       "      <td>Rain</td>\n",
       "      <td>Cool</td>\n",
       "      <td>Normal</td>\n",
       "      <td>Weak</td>\n",
       "      <td>Si</td>\n",
       "    </tr>\n",
       "  </tbody>\n",
       "</table>\n",
       "</div>"
      ],
      "text/plain": [
       "      outlook  temp humidity    wind juega\n",
       "day                                       \n",
       "D1    Soleado   Hot     High    Weak    No\n",
       "D2    Soleado   Hot     High  Strong    No\n",
       "D3   Overcast   Hot     High    Weak    Si\n",
       "D4       Rain  Mild     High    Weak    Si\n",
       "D5       Rain  Cool   Normal    Weak    Si"
      ]
     },
     "execution_count": 145,
     "metadata": {},
     "output_type": "execute_result"
    }
   ],
   "source": [
    "import pandas as pd\n",
    "from sklearn import preprocessing\n",
    "\n",
    "labelEncoder = preprocessing.LabelEncoder()\n",
    "\n",
    "df_tennis = pd.read_csv(\"tennis.csv\", index_col=0)\n",
    "df_tennis.head()"
   ]
  },
  {
   "cell_type": "code",
   "execution_count": 146,
   "metadata": {},
   "outputs": [
    {
     "data": {
      "text/html": [
       "<div>\n",
       "<style scoped>\n",
       "    .dataframe tbody tr th:only-of-type {\n",
       "        vertical-align: middle;\n",
       "    }\n",
       "\n",
       "    .dataframe tbody tr th {\n",
       "        vertical-align: top;\n",
       "    }\n",
       "\n",
       "    .dataframe thead th {\n",
       "        text-align: right;\n",
       "    }\n",
       "</style>\n",
       "<table border=\"1\" class=\"dataframe\">\n",
       "  <thead>\n",
       "    <tr style=\"text-align: right;\">\n",
       "      <th></th>\n",
       "      <th>outlook</th>\n",
       "      <th>temp</th>\n",
       "      <th>humidity</th>\n",
       "      <th>wind</th>\n",
       "      <th>juega</th>\n",
       "    </tr>\n",
       "    <tr>\n",
       "      <th>day</th>\n",
       "      <th></th>\n",
       "      <th></th>\n",
       "      <th></th>\n",
       "      <th></th>\n",
       "      <th></th>\n",
       "    </tr>\n",
       "  </thead>\n",
       "  <tbody>\n",
       "    <tr>\n",
       "      <th>D1</th>\n",
       "      <td>2</td>\n",
       "      <td>1</td>\n",
       "      <td>0</td>\n",
       "      <td>1</td>\n",
       "      <td>0</td>\n",
       "    </tr>\n",
       "    <tr>\n",
       "      <th>D2</th>\n",
       "      <td>2</td>\n",
       "      <td>1</td>\n",
       "      <td>0</td>\n",
       "      <td>0</td>\n",
       "      <td>0</td>\n",
       "    </tr>\n",
       "    <tr>\n",
       "      <th>D3</th>\n",
       "      <td>0</td>\n",
       "      <td>1</td>\n",
       "      <td>0</td>\n",
       "      <td>1</td>\n",
       "      <td>1</td>\n",
       "    </tr>\n",
       "    <tr>\n",
       "      <th>D4</th>\n",
       "      <td>1</td>\n",
       "      <td>2</td>\n",
       "      <td>0</td>\n",
       "      <td>1</td>\n",
       "      <td>1</td>\n",
       "    </tr>\n",
       "    <tr>\n",
       "      <th>D5</th>\n",
       "      <td>1</td>\n",
       "      <td>0</td>\n",
       "      <td>1</td>\n",
       "      <td>1</td>\n",
       "      <td>1</td>\n",
       "    </tr>\n",
       "  </tbody>\n",
       "</table>\n",
       "</div>"
      ],
      "text/plain": [
       "     outlook  temp  humidity  wind  juega\n",
       "day                                      \n",
       "D1         2     1         0     1      0\n",
       "D2         2     1         0     0      0\n",
       "D3         0     1         0     1      1\n",
       "D4         1     2         0     1      1\n",
       "D5         1     0         1     1      1"
      ]
     },
     "execution_count": 146,
     "metadata": {},
     "output_type": "execute_result"
    }
   ],
   "source": [
    "# ahora categorizamos las variables\n",
    "\n",
    "\n",
    "df_tennis['outlook'] = labelEncoder.fit_transform(df_tennis['outlook'])\n",
    "df_tennis['temp'] = labelEncoder.fit_transform(df_tennis['temp'])\n",
    "df_tennis['humidity'] = labelEncoder.fit_transform(df_tennis['humidity'])\n",
    "df_tennis['wind'] = labelEncoder.fit_transform(df_tennis['wind'])\n",
    "df_tennis['juega'] = labelEncoder.fit_transform(df_tennis['juega'])\n",
    "\n",
    "df_tennis.head()"
   ]
  },
  {
   "cell_type": "code",
   "execution_count": 147,
   "metadata": {},
   "outputs": [
    {
     "name": "stdout",
     "output_type": "stream",
     "text": [
      "<class 'pandas.core.frame.DataFrame'>\n",
      "Index: 14 entries, D1 to D14\n",
      "Data columns (total 5 columns):\n",
      " #   Column    Non-Null Count  Dtype\n",
      "---  ------    --------------  -----\n",
      " 0   outlook   14 non-null     int32\n",
      " 1   temp      14 non-null     int32\n",
      " 2   humidity  14 non-null     int32\n",
      " 3   wind      14 non-null     int32\n",
      " 4   juega     14 non-null     int32\n",
      "dtypes: int32(5)\n",
      "memory usage: 392.0+ bytes\n"
     ]
    }
   ],
   "source": [
    "df_tennis.info()"
   ]
  },
  {
   "cell_type": "code",
   "execution_count": 150,
   "metadata": {},
   "outputs": [],
   "source": [
    "X = df_tennis.drop(\"juega\", axis=1).values\n",
    "y = df_tennis.juega.values\n",
    "\n",
    "\n",
    "from sklearn.model_selection import train_test_split\n",
    "\n",
    "tennisTrain, tennisTest, ObjTrain, ObjTest = train_test_split(X, y, test_size=0.1, random_state=42)\n"
   ]
  },
  {
   "cell_type": "code",
   "execution_count": 153,
   "metadata": {},
   "outputs": [],
   "source": [
    "from sklearn.tree import DecisionTreeClassifier\n",
    "from sklearn import tree\n",
    "\n",
    "dtlTennis = DecisionTreeClassifier(criterion=\"entropy\")\n",
    "dtlTennis = dtlTennis.fit(tennisTrain, ObjTrain)"
   ]
  },
  {
   "cell_type": "code",
   "execution_count": 154,
   "metadata": {},
   "outputs": [
    {
     "data": {
      "text/plain": [
       "[Text(148.8, 195.696, 'X[0] <= 0.5\\nentropy = 0.98\\nsamples = 12\\nvalue = [5, 7]'),\n",
       " Text(111.60000000000001, 152.208, 'entropy = 0.0\\nsamples = 3\\nvalue = [0, 3]'),\n",
       " Text(186.0, 152.208, 'X[2] <= 0.5\\nentropy = 0.991\\nsamples = 9\\nvalue = [5, 4]'),\n",
       " Text(111.60000000000001, 108.72, 'X[0] <= 1.5\\nentropy = 0.722\\nsamples = 5\\nvalue = [4, 1]'),\n",
       " Text(74.4, 65.232, 'X[3] <= 0.5\\nentropy = 1.0\\nsamples = 2\\nvalue = [1, 1]'),\n",
       " Text(37.2, 21.744, 'entropy = 0.0\\nsamples = 1\\nvalue = [1, 0]'),\n",
       " Text(111.60000000000001, 21.744, 'entropy = 0.0\\nsamples = 1\\nvalue = [0, 1]'),\n",
       " Text(148.8, 65.232, 'entropy = 0.0\\nsamples = 3\\nvalue = [3, 0]'),\n",
       " Text(260.40000000000003, 108.72, 'X[3] <= 0.5\\nentropy = 0.811\\nsamples = 4\\nvalue = [1, 3]'),\n",
       " Text(223.20000000000002, 65.232, 'X[1] <= 1.0\\nentropy = 1.0\\nsamples = 2\\nvalue = [1, 1]'),\n",
       " Text(186.0, 21.744, 'entropy = 0.0\\nsamples = 1\\nvalue = [1, 0]'),\n",
       " Text(260.40000000000003, 21.744, 'entropy = 0.0\\nsamples = 1\\nvalue = [0, 1]'),\n",
       " Text(297.6, 65.232, 'entropy = 0.0\\nsamples = 2\\nvalue = [0, 2]')]"
      ]
     },
     "execution_count": 154,
     "metadata": {},
     "output_type": "execute_result"
    },
    {
     "data": {
      "image/png": "[encoded data removed]",
      "text/plain": [
       "<Figure size 432x288 with 1 Axes>"
      ]
     },
     "metadata": {
      "needs_background": "light"
     },
     "output_type": "display_data"
    }
   ],
   "source": [
    "tree.plot_tree(dtlTennis)"
   ]
  },
  {
   "cell_type": "markdown",
   "metadata": {},
   "source": [
    "6. Realiza una comparación de Naive Bayes multinomiales y gaussianos, para ello utiliza la documentación [sklearn.naive_bayes.MultinomialNB](https://scikit-learn.org/stable/modules/generated/sklearn.naive_bayes.MultinomialNB.html) y [sklearn.naive_bayes.GaussianNB](https://scikit-learn.org/stable/modules/generated/sklearn.naive_bayes.GaussianNB.html) y el conjunto de datos `diabetes.csv`. Explica tus resultados."
   ]
  },
  {
   "cell_type": "code",
   "execution_count": 10,
   "metadata": {},
   "outputs": [
    {
     "data": {
      "text/html": [
       "<div>\n",
       "<style scoped>\n",
       "    .dataframe tbody tr th:only-of-type {\n",
       "        vertical-align: middle;\n",
       "    }\n",
       "\n",
       "    .dataframe tbody tr th {\n",
       "        vertical-align: top;\n",
       "    }\n",
       "\n",
       "    .dataframe thead th {\n",
       "        text-align: right;\n",
       "    }\n",
       "</style>\n",
       "<table border=\"1\" class=\"dataframe\">\n",
       "  <thead>\n",
       "    <tr style=\"text-align: right;\">\n",
       "      <th></th>\n",
       "      <th>Glucose</th>\n",
       "      <th>BloodPressure</th>\n",
       "      <th>SkinThickness</th>\n",
       "      <th>Insulin</th>\n",
       "      <th>BMI</th>\n",
       "      <th>DiabetesPedigreeFunction</th>\n",
       "      <th>Age</th>\n",
       "      <th>Outcome</th>\n",
       "    </tr>\n",
       "    <tr>\n",
       "      <th>Pregnancies</th>\n",
       "      <th></th>\n",
       "      <th></th>\n",
       "      <th></th>\n",
       "      <th></th>\n",
       "      <th></th>\n",
       "      <th></th>\n",
       "      <th></th>\n",
       "      <th></th>\n",
       "    </tr>\n",
       "  </thead>\n",
       "  <tbody>\n",
       "    <tr>\n",
       "      <th>6</th>\n",
       "      <td>148</td>\n",
       "      <td>72</td>\n",
       "      <td>35</td>\n",
       "      <td>0</td>\n",
       "      <td>33.6</td>\n",
       "      <td>0.627</td>\n",
       "      <td>50</td>\n",
       "      <td>1</td>\n",
       "    </tr>\n",
       "    <tr>\n",
       "      <th>1</th>\n",
       "      <td>85</td>\n",
       "      <td>66</td>\n",
       "      <td>29</td>\n",
       "      <td>0</td>\n",
       "      <td>26.6</td>\n",
       "      <td>0.351</td>\n",
       "      <td>31</td>\n",
       "      <td>0</td>\n",
       "    </tr>\n",
       "    <tr>\n",
       "      <th>8</th>\n",
       "      <td>183</td>\n",
       "      <td>64</td>\n",
       "      <td>0</td>\n",
       "      <td>0</td>\n",
       "      <td>23.3</td>\n",
       "      <td>0.672</td>\n",
       "      <td>32</td>\n",
       "      <td>1</td>\n",
       "    </tr>\n",
       "    <tr>\n",
       "      <th>1</th>\n",
       "      <td>89</td>\n",
       "      <td>66</td>\n",
       "      <td>23</td>\n",
       "      <td>94</td>\n",
       "      <td>28.1</td>\n",
       "      <td>0.167</td>\n",
       "      <td>21</td>\n",
       "      <td>0</td>\n",
       "    </tr>\n",
       "    <tr>\n",
       "      <th>0</th>\n",
       "      <td>137</td>\n",
       "      <td>40</td>\n",
       "      <td>35</td>\n",
       "      <td>168</td>\n",
       "      <td>43.1</td>\n",
       "      <td>2.288</td>\n",
       "      <td>33</td>\n",
       "      <td>1</td>\n",
       "    </tr>\n",
       "  </tbody>\n",
       "</table>\n",
       "</div>"
      ],
      "text/plain": [
       "             Glucose  BloodPressure  SkinThickness  Insulin   BMI  \\\n",
       "Pregnancies                                                         \n",
       "6                148             72             35        0  33.6   \n",
       "1                 85             66             29        0  26.6   \n",
       "8                183             64              0        0  23.3   \n",
       "1                 89             66             23       94  28.1   \n",
       "0                137             40             35      168  43.1   \n",
       "\n",
       "             DiabetesPedigreeFunction  Age  Outcome  \n",
       "Pregnancies                                          \n",
       "6                               0.627   50        1  \n",
       "1                               0.351   31        0  \n",
       "8                               0.672   32        1  \n",
       "1                               0.167   21        0  \n",
       "0                               2.288   33        1  "
      ]
     },
     "execution_count": 10,
     "metadata": {},
     "output_type": "execute_result"
    }
   ],
   "source": [
    "import pandas as pd\n",
    "\n",
    "pima = pd.read_csv('diabetes.csv', index_col = 0)\n",
    "pima.head()"
   ]
  },
  {
   "cell_type": "code",
   "execution_count": 11,
   "metadata": {},
   "outputs": [
    {
     "name": "stdout",
     "output_type": "stream",
     "text": [
      "<class 'pandas.core.frame.DataFrame'>\n",
      "Int64Index: 768 entries, 6 to 1\n",
      "Data columns (total 8 columns):\n",
      " #   Column                    Non-Null Count  Dtype  \n",
      "---  ------                    --------------  -----  \n",
      " 0   Glucose                   768 non-null    int64  \n",
      " 1   BloodPressure             768 non-null    int64  \n",
      " 2   SkinThickness             768 non-null    int64  \n",
      " 3   Insulin                   768 non-null    int64  \n",
      " 4   BMI                       768 non-null    float64\n",
      " 5   DiabetesPedigreeFunction  768 non-null    float64\n",
      " 6   Age                       768 non-null    int64  \n",
      " 7   Outcome                   768 non-null    int64  \n",
      "dtypes: float64(2), int64(6)\n",
      "memory usage: 54.0 KB\n"
     ]
    }
   ],
   "source": [
    "pima.info()"
   ]
  },
  {
   "cell_type": "code",
   "execution_count": 14,
   "metadata": {},
   "outputs": [],
   "source": [
    "X = pima.drop(\"Outcome\", axis=1).values\n",
    "y = pima.Outcome.values"
   ]
  },
  {
   "cell_type": "code",
   "execution_count": 15,
   "metadata": {},
   "outputs": [],
   "source": [
    "# división de los datos\n",
    "X_train, X_test, y_train, y_test = train_test_split(X, y, test_size = 0.30, random_state=0)"
   ]
  },
  {
   "cell_type": "code",
   "execution_count": 18,
   "metadata": {},
   "outputs": [
    {
     "data": {
      "text/plain": [
       "MultinomialNB()"
      ]
     },
     "execution_count": 18,
     "metadata": {},
     "output_type": "execute_result"
    }
   ],
   "source": [
    "from sklearn.naive_bayes import MultinomialNB\n",
    "mNB = MultinomialNB()\n",
    "mNB.fit(X_train, y_train)"
   ]
  },
  {
   "cell_type": "code",
   "execution_count": 20,
   "metadata": {},
   "outputs": [
    {
     "name": "stdout",
     "output_type": "stream",
     "text": [
      "MultinomialNB() : \n",
      "Puntaje en el conjunto de entrenamiento: 0.588454\n",
      "Puntaje en el conjunto de prueba: 0.640693\n"
     ]
    }
   ],
   "source": [
    "print(\"MultinomialNB() : \")\n",
    "\n",
    "print(\"Puntaje en el conjunto de entrenamiento: %f\" % mNB.score(X_train, y_train))\n",
    "print(\"Puntaje en el conjunto de prueba: %f\" % mNB.score(X_test, y_test))"
   ]
  },
  {
   "cell_type": "code",
   "execution_count": 32,
   "metadata": {},
   "outputs": [
    {
     "data": {
      "text/plain": [
       "{'alpha': 1.0, 'class_prior': None, 'fit_prior': True}"
      ]
     },
     "execution_count": 32,
     "metadata": {},
     "output_type": "execute_result"
    }
   ],
   "source": [
    "mNB.get_params()"
   ]
  },
  {
   "cell_type": "code",
   "execution_count": 19,
   "metadata": {},
   "outputs": [
    {
     "data": {
      "text/plain": [
       "GaussianNB()"
      ]
     },
     "execution_count": 19,
     "metadata": {},
     "output_type": "execute_result"
    }
   ],
   "source": [
    "from sklearn.naive_bayes import GaussianNB\n",
    "gNB = GaussianNB()\n",
    "gNB.fit(X_train, y_train)"
   ]
  },
  {
   "cell_type": "code",
   "execution_count": 21,
   "metadata": {},
   "outputs": [
    {
     "name": "stdout",
     "output_type": "stream",
     "text": [
      "GaussianNB() : \n",
      "Puntaje en el conjunto de entrenamiento: 0.757914\n",
      "Puntaje en el conjunto de prueba: 0.744589\n"
     ]
    }
   ],
   "source": [
    "print(\"GaussianNB() : \")\n",
    "\n",
    "print(\"Puntaje en el conjunto de entrenamiento: %f\" % gNB.score(X_train, y_train))\n",
    "print(\"Puntaje en el conjunto de prueba: %f\" % gNB.score(X_test, y_test))"
   ]
  },
  {
   "cell_type": "code",
   "execution_count": 30,
   "metadata": {},
   "outputs": [
    {
     "data": {
      "text/plain": [
       "{'priors': None, 'var_smoothing': 1e-09}"
      ]
     },
     "execution_count": 30,
     "metadata": {},
     "output_type": "execute_result"
    }
   ],
   "source": [
    "gNB.get_params()"
   ]
  },
  {
   "cell_type": "markdown",
   "metadata": {},
   "source": [
    "MultinomialNB es útil para modelar vectores de entidades donde cada valor representa, por ejemplo, el número de apariciones de un término o su frecuencia relativa. Suele trabajar con variables discretas (como el conteo de palabras para clasificación de textto, en NLP).\n",
    "\n",
    "GaussianNB es útil cuando se trabaja con valores continuos que se pueden modelar con una distribución gaussiana. \n",
    "\n",
    "La razón principal por la que el segundo modelo tiene mayor ventaja, es debido a que la mayoría las columnas de nuestro dataframe tienen o tienden (porque son pocos datos) a tener una distribución normal, y modelo se ajusta mucho mejor. \n",
    "\n",
    "A continuación vamos a graficar unos histogramas que nos darán más información de la distribución de los datos."
   ]
  },
  {
   "cell_type": "code",
   "execution_count": 35,
   "metadata": {},
   "outputs": [
    {
     "data": {
      "text/plain": [
       "['Glucose',\n",
       " 'BloodPressure',\n",
       " 'SkinThickness',\n",
       " 'Insulin',\n",
       " 'BMI',\n",
       " 'DiabetesPedigreeFunction',\n",
       " 'Age',\n",
       " 'Outcome']"
      ]
     },
     "execution_count": 35,
     "metadata": {},
     "output_type": "execute_result"
    }
   ],
   "source": [
    "cols = pima.columns.tolist()\n",
    "cols"
   ]
  },
  {
   "cell_type": "code",
   "execution_count": 37,
   "metadata": {},
   "outputs": [
    {
     "data": {
      "text/plain": [
       "<AxesSubplot:ylabel='Frequency'>"
      ]
     },
     "execution_count": 37,
     "metadata": {},
     "output_type": "execute_result"
    },
    {
     "data": {
      "image/png": "[encoded data removed]",
      "text/plain": [
       "<Figure size 432x288 with 1 Axes>"
      ]
     },
     "metadata": {
      "needs_background": "light"
     },
     "output_type": "display_data"
    }
   ],
   "source": [
    "pima['Glucose'].plot.hist(bins=12, alpha=0.5)"
   ]
  },
  {
   "cell_type": "code",
   "execution_count": 38,
   "metadata": {},
   "outputs": [
    {
     "data": {
      "text/plain": [
       "<AxesSubplot:ylabel='Frequency'>"
      ]
     },
     "execution_count": 38,
     "metadata": {},
     "output_type": "execute_result"
    },
    {
     "data": {
      "image/png": "[encoded data removed]",
      "text/plain": [
       "<Figure size 432x288 with 1 Axes>"
      ]
     },
     "metadata": {
      "needs_background": "light"
     },
     "output_type": "display_data"
    }
   ],
   "source": [
    "pima['BloodPressure'].plot.hist(bins=12, alpha=0.5)"
   ]
  },
  {
   "cell_type": "code",
   "execution_count": 39,
   "metadata": {},
   "outputs": [
    {
     "data": {
      "text/plain": [
       "<AxesSubplot:ylabel='Frequency'>"
      ]
     },
     "execution_count": 39,
     "metadata": {},
     "output_type": "execute_result"
    },
    {
     "data": {
      "image/png": "[encoded data removed]",
      "text/plain": [
       "<Figure size 432x288 with 1 Axes>"
      ]
     },
     "metadata": {
      "needs_background": "light"
     },
     "output_type": "display_data"
    }
   ],
   "source": [
    "pima['SkinThickness'].plot.hist(bins=12, alpha=0.5)"
   ]
  },
  {
   "cell_type": "code",
   "execution_count": 40,
   "metadata": {},
   "outputs": [
    {
     "data": {
      "text/plain": [
       "<AxesSubplot:ylabel='Frequency'>"
      ]
     },
     "execution_count": 40,
     "metadata": {},
     "output_type": "execute_result"
    },
    {
     "data": {
      "image/png": "[encoded data removed]",
      "text/plain": [
       "<Figure size 432x288 with 1 Axes>"
      ]
     },
     "metadata": {
      "needs_background": "light"
     },
     "output_type": "display_data"
    }
   ],
   "source": [
    "pima['Insulin'].plot.hist(bins=12, alpha=0.5)"
   ]
  },
  {
   "cell_type": "code",
   "execution_count": 41,
   "metadata": {},
   "outputs": [
    {
     "data": {
      "text/plain": [
       "<AxesSubplot:ylabel='Frequency'>"
      ]
     },
     "execution_count": 41,
     "metadata": {},
     "output_type": "execute_result"
    },
    {
     "data": {
      "image/png": "[encoded data removed]",
      "text/plain": [
       "<Figure size 432x288 with 1 Axes>"
      ]
     },
     "metadata": {
      "needs_background": "light"
     },
     "output_type": "display_data"
    }
   ],
   "source": [
    "pima['BMI'].plot.hist(bins=12, alpha=0.5)"
   ]
  },
  {
   "cell_type": "code",
   "execution_count": 42,
   "metadata": {},
   "outputs": [
    {
     "data": {
      "text/plain": [
       "<AxesSubplot:ylabel='Frequency'>"
      ]
     },
     "execution_count": 42,
     "metadata": {},
     "output_type": "execute_result"
    },
    {
     "data": {
      "image/png": "[encoded data removed]",
      "text/plain": [
       "<Figure size 432x288 with 1 Axes>"
      ]
     },
     "metadata": {
      "needs_background": "light"
     },
     "output_type": "display_data"
    }
   ],
   "source": [
    "pima['DiabetesPedigreeFunction'].plot.hist(bins=12, alpha=0.5)"
   ]
  },
  {
   "cell_type": "code",
   "execution_count": 43,
   "metadata": {},
   "outputs": [
    {
     "data": {
      "text/plain": [
       "<AxesSubplot:ylabel='Frequency'>"
      ]
     },
     "execution_count": 43,
     "metadata": {},
     "output_type": "execute_result"
    },
    {
     "data": {
      "image/png": "[encoded data removed]",
      "text/plain": [
       "<Figure size 432x288 with 1 Axes>"
      ]
     },
     "metadata": {
      "needs_background": "light"
     },
     "output_type": "display_data"
    }
   ],
   "source": [
    "pima['Age'].plot.hist(bins=12, alpha=0.5)"
   ]
  },
  {
   "cell_type": "markdown",
   "metadata": {},
   "source": [
    "7. Carga los valores $x$, $y$ de $20$ puntos de datos del archivo `xydata.dat`. Ajusta una línea recta a través de los datos usando la función `linregress` de `scipy.stats`. Ten en cuenta que la función `linregress` devuelve otros $3$ valores más allá de la pendiente y la intersección (use linregress?. Traza los datos y la línea recta ajustada. Agrega una leyenda. Agrega el RMSE como título del gráfico. Imprime los valores óptimos para la pendiente y la intersección de la línea recta en la pantalla.\n",
    "\n",
    "    Realiza el procedimiento anterior con un polinomio de segundo grado (una parábola) a través de los datos usando la función `np.polyfit`.¿Mejoró el RMSE? \n",
    "\n",
    "    Ahora realiza el mismo procedimiento con la función `f(x)=Aexp (ax) + b` a través de los datos usando la función `curve_fit` de `scipy.optimize`. ¿Mejoró el MSE?\n",
    "\n",
    "     Calcula los valores óptimos (en el sentido de mínimos cuadrados) de $a$ y $b$ usando la suma de errores cuadrados (usando las matrices `xdata` e `ydata` para los tres puntos dados:\n",
    "\n",
    "    ```\n",
    "    xdata = np.array([5.0, 10.0, 15.0])\n",
    "    ydata = np.array([3.0, 6.0, 7.0])\n",
    "    ```\n",
    "      A continuación, usa la función `linregress` del paquete `scipy.stats` para calcular los valores óptimos y verifique que la función `linregress` dé las mismas respuestas. Crea una gráfica que muestra los tres puntos de datos y la línea recta ajustada.\n",
    "      \n",
    "Sugerencia: se puede utilizar `np.loadtxt('xydata.dat')` para cargar los datos. "
   ]
  },
  {
   "cell_type": "code",
   "execution_count": 77,
   "metadata": {},
   "outputs": [],
   "source": [
    "import matplotlib.pyplot as plt\n",
    "from scipy import stats"
   ]
  },
  {
   "cell_type": "code",
   "execution_count": 89,
   "metadata": {},
   "outputs": [],
   "source": [
    "data = np.loadtxt('xydata.dat')\n",
    "x, y = data"
   ]
  },
  {
   "cell_type": "code",
   "execution_count": 90,
   "metadata": {},
   "outputs": [
    {
     "name": "stdout",
     "output_type": "stream",
     "text": [
      "pendiente: 6.077444    intercepto: 42.582457\n"
     ]
    }
   ],
   "source": [
    "pendiente, intercepto, r_value, p_value, std_err = stats.linregress(x, y)\n",
    "print(\"pendiente: %f    intercepto: %f\" % (pendiente, intercepto))"
   ]
  },
  {
   "cell_type": "code",
   "execution_count": 91,
   "metadata": {},
   "outputs": [
    {
     "data": {
      "image/png": "[encoded data removed]",
      "text/plain": [
       "<Figure size 432x288 with 1 Axes>"
      ]
     },
     "metadata": {
      "needs_background": "light"
     },
     "output_type": "display_data"
    }
   ],
   "source": [
    "plt.title(\"RMSE\")\n",
    "plt.plot(x, y, 'o', label='datos originales')\n",
    "plt.plot(x, intercepto + pendiente*x, 'r', label='regresión lineal')\n",
    "plt.legend()\n",
    "plt.show()"
   ]
  },
  {
   "cell_type": "code",
   "execution_count": 92,
   "metadata": {},
   "outputs": [
    {
     "name": "stdout",
     "output_type": "stream",
     "text": [
      "Su MSE es: 273.184838\n"
     ]
    }
   ],
   "source": [
    "y_pred = intercepto + pendiente*x\n",
    "mse = np.sum((y_pred - y)**2 ) / len(x)\n",
    "print(\"Su MSE es: %f\" % mse)"
   ]
  },
  {
   "cell_type": "markdown",
   "metadata": {},
   "source": [
    "Ahora lo ajustamos mediante un polinomio de segundo grado"
   ]
  },
  {
   "cell_type": "code",
   "execution_count": 93,
   "metadata": {},
   "outputs": [
    {
     "name": "stdout",
     "output_type": "stream",
     "text": [
      "Los coeficientes del polinomio son:  [ 0.3575729  -1.07401424 65.16600875]\n"
     ]
    }
   ],
   "source": [
    "z = np.polyfit(x, y, 2)\n",
    "print(\"Los coeficientes del polinomio son: \", z)"
   ]
  },
  {
   "cell_type": "code",
   "execution_count": 94,
   "metadata": {},
   "outputs": [
    {
     "data": {
      "image/png": "[encoded data removed]",
      "text/plain": [
       "<Figure size 432x288 with 1 Axes>"
      ]
     },
     "metadata": {
      "needs_background": "light"
     },
     "output_type": "display_data"
    }
   ],
   "source": [
    "# ahora graficamos\n",
    "xp = np.linspace(0, 20, 100)\n",
    "p = np.poly1d(z)\n",
    "plt.title(\"RMSE\")\n",
    "plt.plot(x, y, 'o', label='datos originales')\n",
    "plt.plot(xp, p(xp), '-r', label='regresión polinomial')\n",
    "plt.legend() \n",
    "plt.show()"
   ]
  },
  {
   "cell_type": "code",
   "execution_count": 95,
   "metadata": {},
   "outputs": [
    {
     "name": "stdout",
     "output_type": "stream",
     "text": [
      "Su MSE es: 135.390827\n"
     ]
    }
   ],
   "source": [
    "y_pred = p(x)\n",
    "mse = np.sum((y_pred - y)**2 ) / len(x)\n",
    "print(\"Su MSE es: %f\" % mse)"
   ]
  },
  {
   "cell_type": "code",
   "execution_count": 96,
   "metadata": {},
   "outputs": [],
   "source": [
    "from scipy.optimize import curve_fit\n",
    "\n",
    "def func(x, A, a, b):\n",
    "    return A * np.exp(a * x) + b \n"
   ]
  },
  {
   "cell_type": "code",
   "execution_count": 97,
   "metadata": {},
   "outputs": [
    {
     "name": "stdout",
     "output_type": "stream",
     "text": [
      "[ 9.76933746  0.13389951 52.50074463]\n"
     ]
    }
   ],
   "source": [
    "import warnings\n",
    "warnings.filterwarnings(\"ignore\")\n",
    "\n",
    "\n",
    "# curve_fit usa  mínimos cuadrados no lineales para ajustar una función\n",
    "popt, pcov = curve_fit(func, x, y)\n",
    "print(popt)   # retornamos los valores de 'A', a' y 'b'"
   ]
  },
  {
   "cell_type": "code",
   "execution_count": 98,
   "metadata": {},
   "outputs": [
    {
     "data": {
      "image/png": "[encoded data removed]",
      "text/plain": [
       "<Figure size 432x288 with 1 Axes>"
      ]
     },
     "metadata": {
      "needs_background": "light"
     },
     "output_type": "display_data"
    }
   ],
   "source": [
    "plt.plot(x, y, 'o', label='datos originales')\n",
    "plt.plot(x, func(x, *popt), 'r-',\n",
    "         label='f(x): A=%5.3f, a=%5.3f, b=%5.3f' % tuple(popt))\n",
    "\n",
    "\n",
    "plt.xlabel('x')\n",
    "plt.ylabel('y')\n",
    "plt.legend()\n",
    "plt.show()"
   ]
  },
  {
   "cell_type": "code",
   "execution_count": 99,
   "metadata": {},
   "outputs": [
    {
     "name": "stdout",
     "output_type": "stream",
     "text": [
      "Su MSE es: 119.079423\n"
     ]
    }
   ],
   "source": [
    "y_pred = func(x, *popt)\n",
    "mse = np.sum((y_pred - y)**2 ) / len(x)\n",
    "print(\"Su MSE es: %f\" % mse)"
   ]
  },
  {
   "cell_type": "code",
   "execution_count": 104,
   "metadata": {},
   "outputs": [
    {
     "name": "stdout",
     "output_type": "stream",
     "text": [
      "MSE en el modelo de regresión lineal es: 0.222222\n",
      "MSE en el modelo de regresión no lineal es: 8572.325982\n"
     ]
    }
   ],
   "source": [
    "# ahora para los 3 puntos datos, veremos si el primer o el último modelo se desenpeña mejor;\n",
    "# como métrica tomares el MSE de esos 3 puntos\n",
    "\n",
    "xdata = np.array([5.0, 10.0, 15.0])\n",
    "ydata = np.array([3.0, 6.0, 7.0])\n",
    "\n",
    "\n",
    "\n",
    "y_pred_1 = intercepto + pendiente*xdata\n",
    "mse_1 = np.sum((y_pred_1 - ydata)**2 ) / len(xdata)\n",
    "print(\"MSE en el modelo de regresión lineal es: %f\" % mse_1)\n",
    "\n",
    "y_pred_3 = func(xdata, *popt)\n",
    "mse_3 = np.sum((y_pred_3 - ydata)**2 ) / len(xdata)\n",
    "print(\"MSE en el modelo de regresión no lineal es: %f\" % mse_3)\n"
   ]
  },
  {
   "cell_type": "markdown",
   "metadata": {},
   "source": [
    "#### Conclusiones:\n",
    "Analizando los diferentes MSE, el modelo que mejor se desempeña entre los 3 modelos, es el último en el conjunto de datos de entrenamiento inicial. Sin embargo, para hacer inferencia sobre 3 puntos adicionales, el que tiene un menos MSE es el primer modelo. Esto se debe a que los valores de xdata e ydata son muy menores que los del dataset original con el que se entrenaron los modelos. Se podría escalar los valores para solucionar este pequeño inconveniente."
   ]
  },
  {
   "cell_type": "code",
   "execution_count": 105,
   "metadata": {},
   "outputs": [
    {
     "data": {
      "image/png": "[encoded data removed]",
      "text/plain": [
       "<Figure size 432x288 with 1 Axes>"
      ]
     },
     "metadata": {
      "needs_background": "light"
     },
     "output_type": "display_data"
    }
   ],
   "source": [
    "# Ahora en caso, solo deseemos hacer una nueva regresión lineal sobre esos 3 puntos:\n",
    "pendiente, intercepto, r_value, p_value, std_err = stats.linregress(xdata, ydata)\n",
    "\n",
    "plt.plot(xdata, ydata, 'o', label='datos originales')\n",
    "plt.plot(xdata, intercepto + pendiente*xdata, 'r', label='regresión lineal')\n",
    "plt.legend()\n",
    "plt.show()"
   ]
  },
  {
   "cell_type": "code",
   "execution_count": 106,
   "metadata": {},
   "outputs": [
    {
     "name": "stdout",
     "output_type": "stream",
     "text": [
      "MSE en el modelo de regresión lineal es: 0.222222\n"
     ]
    }
   ],
   "source": [
    "y_pred = intercepto + pendiente*xdata\n",
    "mse_1 = np.sum((y_pred - ydata)**2 ) / len(xdata)\n",
    "print(\"MSE en el modelo de regresión lineal es: %f\" % mse_1)"
   ]
  },
  {
   "cell_type": "markdown",
   "metadata": {},
   "source": [
    "8. Opcional (no tiene puntaje): Explora la página [https://aipaygrad.es/](https://aipaygrad.es/)."
   ]
  },
  {
   "cell_type": "code",
   "execution_count": null,
   "metadata": {},
   "outputs": [],
   "source": []
  }
 ],
 "metadata": {
  "kernelspec": {
   "display_name": "Pytorch",
   "language": "python",
   "name": "pytorch"
  },
  "language_info": {
   "codemirror_mode": {
    "name": "ipython",
    "version": 3
   },
   "file_extension": ".py",
   "mimetype": "text/x-python",
   "name": "python",
   "nbconvert_exporter": "python",
   "pygments_lexer": "ipython3",
   "version": "3.6.10"
  }
 },
 "nbformat": 4,
 "nbformat_minor": 4
}

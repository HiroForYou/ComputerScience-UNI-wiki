{
 "cells": [
  {
   "cell_type": "markdown",
   "metadata": {},
   "source": [
    "## Respuestas a la práctica Calificada de Inteligencia Artificial\n"
   ]
  },
  {
   "cell_type": "markdown",
   "metadata": {},
   "source": [
    "### Lista de ejercicios"
   ]
  },
  {
   "cell_type": "markdown",
   "metadata": {},
   "source": [
    "1. Decide si las siguientes proposiciones son verdaderas o falsas. Si no estas seguro, proporciona una breve explicación a tus respuestas.\n",
    "\n",
    "    * Es posible construir un agente basado en el conocimiento que sea un agente reflejo puro.\n",
    "\n",
    "    * El BFS es completo si el espacio de estados tiene una profundidad infinita pero un factor de ramificación finito.\n",
    "\n",
    "    * Suponga que un rey puede moverse una casilla en cualquier dirección en un tablero de ajedrez (8 direcciones en total). La distancia de Manhattan es entonces una heurística admisible para el problema de mover al rey de la casilla A a la casilla B.\n",
    "\n",
    "    * $(P \\wedge \\neg R) \\Rightarrow (Q \\Rightarrow R)$ puede ser convertida en una cláusula Horn.\n",
    "    \n",
    "    * $[\\forall x \\  P(x)] \\vee [\\forall x \\ \\neg P(x)]$ es una oración válida.\n",
    " "
   ]
  },
  {
   "cell_type": "markdown",
   "metadata": {},
   "source": [
    "<font color='blue'>\n",
    "\n",
    "* Verdadero. Aunque la KB es una memoria, el agente podría usarla solo para mantener reglas reflejos.\n",
    "\n",
    "* Verdadero. No retorna si no hay un objetivo, pero la completitud no requiere esto, ni ningún algoritmo puede garantizar este resultado.\n",
    "\n",
    "* Falso. Para un solo movimiento diagonal, la distancia de Manhattan es $2$.\n",
    "\n",
    "* Verdadero. $P \\wedge Q \\Rightarrow R$.\n",
    "\n",
    "* Falso. La oración es falsa siempre que $P$ sea verdadera a veces, pero no siempre.\n",
    "    \n",
    "</font>"
   ]
  },
  {
   "cell_type": "markdown",
   "metadata": {},
   "source": [
    "2. Resuelve \n",
    "\n",
    "  * Muestra que las oraciones\n",
    "\n",
    "       $$\\forall x\\ [\\forall y\\  P(x, y)] \\Rightarrow Q(x)$$\n",
    "       \n",
    "       y\n",
    "       \n",
    "       $$\\forall x \\ \\exists y\\ [P(x,y) \\Rightarrow Q(x)]$$\n",
    "\n",
    "\n",
    "    son lógicamente equivalentes al convertir cada una en CNF. Muestra cada paso del proceso.\n",
    "\n",
    "   * Presenta interpretaciones para los predicados P y Q de tal modo que la oración del inciso anterior sea (más o menos) verdadera en el mundo real."
   ]
  },
  {
   "cell_type": "markdown",
   "metadata": {},
   "source": [
    "<font color='blue'>\n",
    "\n",
    "* Probamos la equivalencia\n",
    "$$\n",
    "\\begin{align*}\n",
    "\\forall x [\\forall y P(x, y)] \\Rightarrow Q(x) = \\forall x \\neg [\\forall y P (x, y)] \\vee Q(x)\\\\\n",
    "= \\forall x [\\exists y \\neg P (x, y)] \\vee Q(x) &= \\forall x \\exists y \\neg P(x,y) \\vee Q(x)\\\\\n",
    "= \\neg P(x, f(x)) \\vee Q (x)&\n",
    "\\end{align*}\n",
    "$$ \n",
    "\n",
    "\n",
    "$$\\forall x \\exists y [P(x, y) \\Rightarrow Q(x)] = \\forall x \\exists y [\\neg P (x, y) \\vee Q(x)] = \\neg P(x,f(x)) \\vee Q(x)$$\n",
    "\n",
    "* $Envidioso(x, y)$ significa que la persona $x$ envidia a la persona $y$. $Q(x)$ significa que $x$ es un misántropo.\n",
    "    \n",
    "</font>\n"
   ]
  },
  {
   "cell_type": "markdown",
   "metadata": {},
   "source": [
    "3.Supongamos que una base de conocimientos contiene solo las siguientes cláusulas Horn de primer orden:\n",
    "\n",
    "$$\n",
    "\\begin{align*}\n",
    "&Ancestor(M other(x), x) \\\\\n",
    "&Ancestor(x, y)\\wedge Ancestor(y, z) \\Rightarrow Ancestor(x, z)\n",
    "\\end{align*}\n",
    "$$\n",
    "\n",
    "Considera un algoritmo de encadenamiento hacia adelante que, en la j-ésima iteración, termina si la KB contiene una oración que se unifica con la consulta; de lo contrario, agrega a la KB cada oración atómica que se pueda inferir de las oraciones que ya están en la KB después de la iteración $j - 1$.\n",
    "\n",
    "* Para cada una de las siguientes consultas, indica si el algoritmo (1) dará una respuesta (si es así, escriba esa respuesta) o (2) termina sin una respuesta o (3) nunca termina.\n",
    "\n",
    "    - $Ancestor(Mother(y), John)$\n",
    "    - $Ancestor(Mother(Mother(y)), John)$\n",
    "    - $Ancestor(Mother(Mother(Mother(y))), Mother(y))$\n",
    "    - $Ancestor(Mother(John), Mother(Mother(John)))$\n",
    "\n",
    "* ¿Puede un algoritmo de resolución probar a partir de la base de conocimientos original que $\\neg Ancestor(John, John)$? Explica brevemente tu respuesta.\n",
    "* Supongamos que el KB se aumenta con la afirmación de $\\neg (Mother(x) = x)$  y que el algoritmo de resolución incluye reglas de inferencia para la igualdad. ¿Cuál es la respuesta a la pregunta anterior?."
   ]
  },
  {
   "cell_type": "markdown",
   "metadata": {},
   "source": [
    "<font color='blue'>\n",
    "    \n",
    "* Usemos el algoritmo de resolución para responder las aseveraciones:\n",
    "\n",
    " - $Ancestor(Mother(y), John)$. Si (1), $\\{y/John \\}$ (inmediato).\n",
    " - $Ancestor(Mother(Mother(y)), John)$: Si (1) $\\{y/John \\}$ (segunda iteración).\n",
    " -  $Ancestor(Mother(Mother(Mother(y))), Mother(y))$. Si (2), $\\{ \\} $ (segunda iteración).\n",
    " - $Ancestor(Mother(John), Mother(Mother(John)))$ : No termina (3).\n",
    "\n",
    "* Nada en los axiomas excluye la posibilidad de que todo sea antepasado de todo lo demás y aunque la resolución está completa, no puede probar esta aseveración.\n",
    "\n",
    "* Obtenemos la misma respuesta.\n",
    "</font>"
   ]
  },
  {
   "cell_type": "markdown",
   "metadata": {},
   "source": [
    "4.Responde las preguntas relacionadas a lógica inferencial\n",
    "\n",
    "* Proporciona un unificador para cada uno de los siguientes pares de oraciones, si es posible, o escriba \"None\" si no.\n",
    "\n",
    "    - $Between(1,x, 2) \\quad Between(y, F(y), 2)$\n",
    "    - $> (x, y) \\quad < (y,x)$\n",
    "    - $Related(x, Father(x)) \\quad Related(Father(y),y)$\n",
    "    \n",
    "* Sea $C_1$ la cláusula $\\neg At(Father(x), Uni) \\vee At(x, Uni)$ y sea $C_2$ es la cláusula $\\neg At(y, Uni) \\vee Owns(y, BMW) \\vee \\neg Happy(y)$. Escribe el resultado de aplicar resolución a $C_1$ y $C_2$."
   ]
  },
  {
   "cell_type": "markdown",
   "metadata": {},
   "source": [
    "<font color='blue'>\n",
    "\n",
    "* Se proporciona el unificador para los siguientes pares de oraciones\n",
    "\n",
    "   - $\\{ y/1, x/F(1)\\}.$\n",
    "   \n",
    "   - None\n",
    "   \n",
    "   - None\n",
    "   \n",
    "* $\\neg At(Father(x), Uni) \\vee Owns(x, BWM) \\vee \\neg Happy(x)$ , que puede interpretarse como los *estudiantes de la UNI que no poseen BMW no están contentos*.\n",
    "    \n",
    "</font>"
   ]
  },
  {
   "cell_type": "markdown",
   "metadata": {},
   "source": [
    "5 . Estas oraciones siguientes describen el problema de las $n$ reinas, es decir, el problema de colocar reinas en cada fila de un tablero de $n\\times n$ para que no haya dos que puedan capturarse entre sí. (Recuerda que las reinas pueden capturarse entre sí, si están en la misma fila, columna o diagonal).\n",
    "\n",
    "(i) $\\forall i \\ (i \\geq 1 \\wedge i \\leq N) \\Rightarrow \\exists j\\ S(i,j)$\n",
    "\n",
    "(ii) $\\forall i,j  \\ (i \\leq 0 \\vee j \\leq 0 \\vee i > N \\vee j > N) \\Rightarrow \\neg S(i,j)$\n",
    "\n",
    "(iii) $\\forall i,j, k\\ S(i,j) \\wedge S(i,k) \\Rightarrow j =k$\n",
    "\n",
    "(iv) $\\forall i,j, k\\ S(j,i) \\wedge S(k,i) \\Rightarrow j =k$\n",
    "\n",
    "(v) $\\forall i,j, k\\ (S(i,j) \\wedge (S(i + k,j +k) \\vee S(i -k,j -k) \\vee S(i +k, j -k) \\vee S(i -k, j +k)) \\Rightarrow k = 0$.\n",
    "\n",
    "a). Indica lo que debe significar el predicado $S$ y lo que indican las oraciones $i-v$ en cada estado, si es que estas oraciones deben describir el problema de las $n$ reinas.\n",
    "\n",
    "b) Indica si este conjunto de oraciones es válido, satisfactorio pero no válido o insatisfactorio, y explique por qué.\n"
   ]
  },
  {
   "cell_type": "markdown",
   "metadata": {},
   "source": [
    "<font color='blue'>\n",
    "\n",
    "a) $S(i, j)$ significa que el cuadrado de la fila $i$, columna $j$, tiene una reina.\n",
    "\n",
    "  (i) Cada fila tiene una reina, entre las columnas $1$ y $n$.\n",
    "\n",
    "  (ii) No hay reinas fuera de los límites del tablero.\n",
    "\n",
    "  (iii) Solo una reina en cada fila.\n",
    "\n",
    "  (iv) Solo una reina en cada columna.\n",
    "\n",
    "  (v) Solo una reina en diagonal.\n",
    "\n",
    "b) Dado que un modelo puede proporcionar cualquier interpretación para cualquiera de los símbolos, sin mencionar cualquier dominio, el conjunto de oraciones claramente no es válido.\n",
    "\n",
    "Por otro lado, sabemos que hay soluciones al problema de las $8$ reinas, por lo que las oraciones no son insatisfactorias. Debes tener en cuenta también que una reina en un tablero de $1\\times 1$ también es un modelo.\n",
    "\n",
    "Por tanto, el conjunto de oraciones es satisfactorio, pero no válido.\n",
    "</font>"
   ]
  },
  {
   "cell_type": "markdown",
   "metadata": {},
   "source": [
    "6.En esta pregunta practicamos la prueba mediante resolución sobre la siguiente base de conocimientos: O Jessica asistió a la reunión o Jessica no fue invitada. Si el jefe quería a Jessica en la reunión, entonces la invitaron. Jessica no asistió a la reunión. Si el jefe no quería a Jessica allí y el jefe no la invitó allí, entonces la van a despedir. Demuestra que Jessica va a ser despedida."
   ]
  },
  {
   "cell_type": "markdown",
   "metadata": {},
   "source": [
    "<font color='blue'>\n",
    "\n",
    "$\n",
    "\\begin{align*}\n",
    "KB = \\{Asiste \\vee \\neg invitación, \\neg ir \\vee invitación, \\neg asiste,\\\\\n",
    "        ir \\vee invitación \\vee despido \\}\n",
    "\\end{align*}       \n",
    "$\n",
    "\n",
    "$KB'$ = $KB$ + negación de la conclusión\n",
    "\n",
    "$\n",
    "\\begin{align*}\n",
    "=  \\{Asiste  \\vee \\neg invitación, \\neg ir \\vee invitación, \\neg asiste, \\\\\n",
    "        ir \\vee invitación \\vee despido, \\neg  despido \\}\n",
    "\\end{align*}\n",
    "$\n",
    "    \n",
    "</font>\n",
    "\n",
    "![](ArbolKB.png)"
   ]
  },
  {
   "cell_type": "markdown",
   "metadata": {},
   "source": [
    "7.En esta pregunta, consideraremos las KB de Horn, como las siguientes:\n",
    "\n",
    "$$P(F(x)) \\Rightarrow P(x)$$\n",
    "$$Q(x) \\Rightarrow P(F(x))$$\n",
    "$$P(a)$$\n",
    "$$Q(b)$$\n",
    "\n",
    "donde $x$ es una variable y $a$ y $b$ son constantes.\n",
    "\n",
    "Sea $FC$ un algoritmo hacía adelante que repetidamente todas las consecuencias de las reglas actualmente satisfactorias. Sea $BC$ un algoritmo hacía atrás que prueba las cláusulas en el orden indicado en la KB.\n",
    "\n",
    "Indica si es verdadero o falso las siguientes proposiciones: \n",
    "\n",
    "* $FC$ inferirá el literal $Q(a)$.\n",
    "\n",
    "* $FC$ inferirá el literal $P(b)$.\n",
    "\n",
    "* Si $FC$ no ha podido inferir un literal dado, entonces no está implicado (entailed) por KB.\n",
    "\n",
    "* $BC$ devolverá verdadero dada la consulta $P(b).$\n",
    "\n",
    "* Si $BC$ no devuelve verdadero dado un literal de consulta, entonces no está implicado por $KB$.\n",
    "\n",
    "Explica tus respuestas."
   ]
  },
  {
   "cell_type": "markdown",
   "metadata": {},
   "source": [
    "<font color='blue'>\n",
    "    \n",
    "*  Falso. $Q(a)$ no está implicado.\n",
    "*  Verdadero. Vía $P(F(b))$.\n",
    "*  Verdadero. $FC$ en $BFS$ está completo para bases de conocimiento de Horn .\n",
    "*  Falso. Se forma bucle infinito aplicando la primera regla repetidamente.\n",
    "*  Falso. $P(b)$ es un ejemplo.\n",
    "\n",
    "</font>"
   ]
  },
  {
   "cell_type": "markdown",
   "metadata": {},
   "source": [
    "8.Presenta las solución en el contexto del Laboratorio1 de clase del siguiente problema.\n",
    "\n",
    "Sea el siguiente teorema, donde se cumplen las siguientes restricciones:\n",
    "\n",
    "- Cada número $x$ tiene exactamente un sucesor, que no es igual a $x$.\n",
    "\n",
    "- Cada número es par o impar, pero no ambos.\n",
    "\n",
    "- El sucesor de un número par es impar.\n",
    "\n",
    "- El sucesor de un número impar es par.\n",
    "\n",
    "- Para cada número $x$ el sucesor de $x$ es mayor que $x$.\n",
    "\n",
    "- Propiedad transitiva: si $x$ es mayor que $y$ e $y$ es mayor que $z$, entonces $x$ es mayor que $z$.\n",
    "\n",
    "\n",
    "Entonces tenemos la siguiente consecuencia: *para cada número, hay un número par mayor que él*.\n",
    "\n",
    "\n",
    "Nota: en este problema, *mayor que* es simplemente una relación arbitraria  y no debes asumir que tiene un significado previo. En otras palabras, no asuma cosas como *un número no puede ser mayor que él mismo* a menos que se indique explícitamente.\n",
    "\n",
    "- Completa *ints()* para construir $6$ fórmulas para cada una de las restricciones. La consecuencia se ha completado para ti (consulta el código). Puedes probar tu código usando los siguientes comandos:\n",
    "\n",
    "```\n",
    "    python prueba.py 5a-0\n",
    "    python prueba.py 5a-1\n",
    "    python prueba.py 5a-2\n",
    "    python prueba.py 5a-3\n",
    "    python prueba.py 5a-4\n",
    "    python prueba.py 5a-5\n",
    "    python prueba.py 5a-all  # Prueba la conjuncion de todas las formulas\n",
    "```\n",
    "\n",
    "Para probar el teorema, *tell* las fórmulas a la base de conocimientos y *ask* la consulta  ejecutando la verificación del modelo (en un modelo finito):\n",
    "\n",
    "```\n",
    "  python python.py 5a-run\n",
    "```\n",
    "\n",
    "* (Opcional) Supongamos que agregamos otra restricción: *un número no es mayor que él mismo*. Demuestra que no existe un modelo finito no vacío para el que el conjunto resultante de $7$ restricciones sea consistente."
   ]
  },
  {
   "cell_type": "markdown",
   "metadata": {},
   "source": [
    "<font color = 'blue'>\n",
    "Posible solución: solucion8.txt\n",
    "</font>\n",
    " "
   ]
  },
  {
   "cell_type": "code",
   "execution_count": null,
   "metadata": {},
   "outputs": [],
   "source": []
  }
 ],
 "metadata": {
  "kernelspec": {
   "display_name": "Python 3",
   "language": "python",
   "name": "python3"
  },
  "language_info": {
   "codemirror_mode": {
    "name": "ipython",
    "version": 3
   },
   "file_extension": ".py",
   "mimetype": "text/x-python",
   "name": "python",
   "nbconvert_exporter": "python",
   "pygments_lexer": "ipython3",
   "version": "3.7.6"
  }
 },
 "nbformat": 4,
 "nbformat_minor": 4
}

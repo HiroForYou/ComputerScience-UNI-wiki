{
 "cells": [
  {
   "cell_type": "markdown",
   "metadata": {},
   "source": [
    "## Práctica Calificada de Inteligencia Artificial\n",
    "\n",
    "Nombre y apellidos: Cristhian Wiki Sánchez Sauñe\n",
    "\n",
    "#### Indicaciones:\n",
    "\n",
    "* Entregar en este cuaderno todas tus respuestas teoricas. No se aceptan otro tipo de formato.\n",
    "* En esta tarea hay  programas de codificación. Debes presentar pruebas de tus soluciones como el correcto funcionamiento con distintos ejemplos.\n",
    "* Debes responder todas los ítems de las preguntas.\n",
    "* Todo acto de COPIA implica la nota de $0A$. Evita copiar!. \n",
    "\n",
    "* Todas las lecturas dadas serán tomadas en cuenta en esta evaluación.\n"
   ]
  },
  {
   "cell_type": "markdown",
   "metadata": {},
   "source": [
    "### Lista de ejercicios"
   ]
  },
  {
   "cell_type": "markdown",
   "metadata": {},
   "source": [
    "1. Decide si las siguientes proposiciones son verdaderas o falsas. Si no estas seguro, proporciona una breve explicación a tus respuestas.\n",
    "\n",
    "    * Es posible construir un agente basado en el conocimiento que sea un agente reflejo puro.\n",
    "\n",
    "    * El BFS es completo si el espacio de estados tiene una profundidad infinita pero un factor de ramificación finito.\n",
    "\n",
    "    * Suponga que un rey puede moverse una casilla en cualquier dirección en un tablero de ajedrez (8 direcciones en total). La distancia de Manhattan es entonces una heurística admisible para el problema de mover al rey de la casilla A a la casilla B.\n",
    "\n",
    "    * $(P \\wedge \\neg R) \\Rightarrow (Q \\Rightarrow R)$ puede ser convertida en una cláusula Horn.\n",
    "    \n",
    "    * $[\\forall x \\  P(x)] \\vee [\\forall x \\ \\neg P(x)]$ es una oración válida.\n",
    " "
   ]
  },
  {
   "cell_type": "markdown",
   "metadata": {},
   "source": [
    "# Tu solucion\n",
    "a) FALSO: Los agentes reflejos puros no son lo suficientemente eficientes en la mayoría de las situaciones, ni son muy inteligentes, ni con frecuencia tienen éxito. Cualquier cosa en la que se requiera memoria para funcionar bien frustrará a un agente reflejo. Los buenos agentes necesitan conocimiento sobre su entorno. <br>\n",
    "Estas dos definiciones son opuestas, pues para tener un agente basado en conocimiento se requiere que no sea un agente reflejo puro, sino que aprenda en el proceso conforme analiza el entorno. \n",
    "\n",
    "b) VERDADERO: Un método de búsqueda se considera completo si se garantiza que encontrará un estado de objetivo si existe. Cuando se aplica a grafos infinitos o finitos representados implícitamente, BFS eventualmente encontrará el estado del objetivo.\n",
    "\n",
    "c) VERDADERO: La heurística estándar para una cuadrícula es la distancia de Manhattan. El objetivo es tener un costo mínimo D para moverse de un espacio a un espacio adyacente. En este caso el rey se mueve 1 casilla a la vez en cualquier dirección, por lo que la distancia de Manhattan no sobreestimará el número de movimientos hacia la meta. A diferencia de por ejemplo, los movimiento del caballo.\n",
    "\n",
    "d) VERDADERO: Usando equivalencias lógicas se obtiene $P \\wedge Q \\Rightarrow R$\n",
    "\n",
    "e) FALSO: P podría ser cierto a veces, pero no siempre se dará el caso"
   ]
  },
  {
   "cell_type": "markdown",
   "metadata": {},
   "source": [
    "2. Resuelve \n",
    "\n",
    "  * Muestra que las oraciones\n",
    "\n",
    "       $$\\forall x\\ [\\forall y\\  P(x, y)] \\Rightarrow Q(x)$$\n",
    "       \n",
    "       y\n",
    "       \n",
    "       $$\\forall x \\ \\exists y\\ [P(x,y) \\Rightarrow Q(x)]$$\n",
    "\n",
    "\n",
    "    son lógicamente equivalentes al convertir cada una en CNF. Muestra cada paso del proceso.\n",
    "\n",
    "   * Presenta interpretaciones para los predicados P y Q de tal modo que la oración del inciso anterior sea (más o menos) verdadera en el mundo real."
   ]
  },
  {
   "cell_type": "markdown",
   "metadata": {},
   "source": [
    "# Tu solución\n",
    "\n",
    "#### Por un lado tenemos\n",
    "$$\\forall x\\ [\\forall y\\  P(x, y)] \\Rightarrow Q(x)$$\n",
    "$$\\forall x\\ \\exists y\\ \\neg P(x, y) \\vee Q(x)$$\n",
    "$$\\forall x\\ \\neg P(x, H(x)) \\vee Q(x)$$  donde H es un una función Skolem\n",
    "$$\\neg P(x, H(x)) \\vee Q(x)$$  \n",
    "\n",
    "#### Mientras que la segunda oración \n",
    "\n",
    "$$\\forall x \\ \\exists y\\ [P(x,y) \\Rightarrow Q(x)]$$\n",
    "$$\\forall x \\ \\exists y \\neg P(x, y) \\vee Q(x)$$\n",
    "$$\\forall x \\ \\neg P(x, H(x)) \\vee Q(x)$$ donde H es un una función Skolem\n",
    "$$\\neg P(x, H(x)) \\vee Q(x)$$\n"
   ]
  },
  {
   "cell_type": "markdown",
   "metadata": {},
   "source": [
    "3.Supongamos que una base de conocimientos contiene solo las siguientes cláusulas Horn de primer orden:\n",
    "\n",
    "$$\n",
    "\\begin{align*}\n",
    "&Ancestor(M other(x), x) \\\\\n",
    "&Ancestor(x, y)\\wedge Ancestor(y, z) \\Rightarrow Ancestor(x, z)\n",
    "\\end{align*}\n",
    "$$\n",
    "\n",
    "Considera un algoritmo de encadenamiento hacia adelante que, en la j-ésima iteración, termina si la KB contiene una oración que se unifica con la consulta; de lo contrario, agrega a la KB cada oración atómica que se pueda inferir de las oraciones que ya están en la KB después de la iteración $j - 1$.\n",
    "\n",
    "* Para cada una de las siguientes consultas, indica si el algoritmo (1) dará una respuesta (si es así, escriba esa respuesta) o (2) termina sin una respuesta o (3) nunca termina.\n",
    "\n",
    "    - $Ancestor(Mother(y), John)$\n",
    "    - $Ancestor(Mother(Mother(y)), John)$\n",
    "    - $Ancestor(Mother(Mother(Mother(y))), Mother(y))$\n",
    "    - $Ancestor(Mother(John), Mother(Mother(John)))$\n",
    "\n",
    "* ¿Puede un algoritmo de resolución probar a partir de la base de conocimientos original que $\\neg Ancestor(John, John)$? Explica brevemente tu respuesta.\n",
    "* Supongamos que el KB se aumenta con la afirmación de $\\neg (Mother(x) = x)$  y que el algoritmo de resolución incluye reglas de inferencia para la igualdad. ¿Cuál es la respuesta a la pregunta anterior?."
   ]
  },
  {
   "cell_type": "markdown",
   "metadata": {},
   "source": [
    "# Tu solución\n",
    "\n",
    "a) <br>\n",
    "i- El algoritmo dará una respuesta a la primera iteración, de la forma {y/john}<br>\n",
    "ii- El algoritmo produce la misma respuesta que i ({y/john}), pero en la segunda iteración<br>\n",
    "iii- El algoritmo produce una oración vacía {} en la segunda iteración.<br>\n",
    "iv- El algoritmo nunca termina<br><br>\n",
    "\n",
    "b) <br>Si bien la resolución es completa, no puede probarse ¬𝐴𝑛𝑐𝑒𝑠𝑡𝑜𝑟(𝐽𝑜ℎ𝑛,𝐽𝑜ℎ𝑛). No debemos excluir el hecho de que todo sea un '𝐴𝑛𝑐𝑒𝑠𝑡𝑜𝑟' de todo lo demás.<br><br>\n",
    "c) <br>\n",
    "Se obtendrá la misma respuesta que en la resolución previa. No se ve afectada la conclusión\n",
    "\n",
    "\n"
   ]
  },
  {
   "cell_type": "markdown",
   "metadata": {},
   "source": [
    "4.Responde las preguntas relacionadas a lógica inferencial\n",
    "\n",
    "* Proporciona un unificador para cada uno de los siguientes pares de oraciones, si es posible, o escriba \"None\" si no.\n",
    "\n",
    "    - $Between(1,x, 2) \\quad Between(y, F(y), 2)$\n",
    "    - $> (x, y) \\quad < (y,x)$\n",
    "    - $Related(x, Father(x)) \\quad Related(Father(y),y)$\n",
    "    \n",
    "* Sea $C_1$ la cláusula $\\neg At(Father(x), Uni) \\vee At(x, Uni)$ y sea $C_2$ es la cláusula $\\neg At(y, Uni) \\vee Owns(y, BMW) \\vee \\neg Happy(y)$. Escribe el resultado de aplicar resolución a $C_1$ y $C_2$."
   ]
  },
  {
   "cell_type": "markdown",
   "metadata": {},
   "source": [
    "# Tu solución\n",
    "\n",
    "### a) \n",
    "   - $\\{y=1, x/F(1)\\}$\n",
    "   - None\n",
    "   - $\\{y/b, x/f(b), f(x)/b\\}$\n",
    "\n",
    "\n",
    "### b)\n",
    "\n",
    "#### Tenemos lo siguiente para C1: \n",
    "$\\neg At(Father(x), Uni) \\vee At(x, Uni)$\n",
    "\n",
    "Sea p: At(Father(x), Uni) <br>\n",
    "&emsp;&emsp;    q: At(x, Uni)\n",
    "\n",
    "#### Mientras que para C2: \n",
    "\n",
    "$\\neg At(y, Uni) \\vee Owns(y, BMW) \\vee \\neg Happy(y)$\n",
    "\n",
    "Sea q: $\\neg$ At(x, Uni)<br>\n",
    "&emsp;&emsp; r: Owns(y, BMW)<br>\n",
    "&emsp;&emsp; s: $\\neg$ Happy(y)<br>\n",
    "\n",
    "Entonces: <br>\n",
    "&emsp;&emsp;  \\[\\{$\\neg$p, q\\}; \\{$\\neg$q, r, s\\}\\]<br>\n",
    "&emsp;&emsp;  \\[\\{$\\neg$p, r, s\\}\\]<br>\n",
    "&emsp;&emsp;"
   ]
  },
  {
   "cell_type": "markdown",
   "metadata": {},
   "source": [
    "5 . Estas oraciones siguientes describen el problema de las $n$ reinas, es decir, el problema de colocar reinas en cada fila de un tablero de $n\\times n$ para que no haya dos que puedan capturarse entre sí. (Recuerda que las reinas pueden capturarse entre sí, si están en la misma fila, columna o diagonal).\n",
    "\n",
    "(i) $\\forall i \\ (i \\geq 1 \\wedge i \\leq N) \\Rightarrow \\exists j\\ S(i,j)$\n",
    "\n",
    "(ii) $\\forall i,j  \\ (i \\leq 0 \\vee j \\leq 0 \\vee i > N \\vee j > N) \\Rightarrow \\neg S(i,j)$\n",
    "\n",
    "(iii) $\\forall i,j, k\\ S(i,j) \\wedge S(i,k) \\Rightarrow j =k$\n",
    "\n",
    "(iv) $\\forall i,j, k\\ S(j,i) \\wedge S(k,i) \\Rightarrow j =k$\n",
    "\n",
    "(v) $\\forall i,j, k\\ (S(i,j) \\wedge (S(i + k,j +k) \\vee S(i -k,j -k) \\vee S(i +k, j -k) \\vee S(i -k, j +k)) \\Rightarrow k = 0$.\n",
    "\n",
    "a). Indica lo que debe significar el predicado $S$ y lo que indican las oraciones $i-v$ en cada estado, si es que estas oraciones deben describir el problema de las $n$ reinas.\n",
    "\n",
    "b) Indica si este conjunto de oraciones es válido, satisfactorio pero no válido o insatisfactorio, y explique por qué.\n"
   ]
  },
  {
   "cell_type": "code",
   "execution_count": null,
   "metadata": {},
   "outputs": [],
   "source": [
    "# Tu solucion"
   ]
  },
  {
   "cell_type": "markdown",
   "metadata": {},
   "source": [
    "6.En esta pregunta practicamos la prueba mediante resolución sobre la siguiente base de conocimientos: O Jessica asistió a la reunión o Jessica no fue invitada. Si el jefe quería a Jessica en la reunión, entonces la invitaron. Jessica no asistió a la reunión. Si el jefe no quería a Jessica allí y el jefe no la invitó allí, entonces la van a despedir. Demuestra que Jessica va a ser despedida."
   ]
  },
  {
   "cell_type": "markdown",
   "metadata": {},
   "source": [
    "# Tu solucion\n",
    "A: Jessica asistió a la reunión <br>\n",
    "I: Jessica fue invitada a la reunión <br>\n",
    "Q: El jefe queria a Jessica en la reunión <br>\n",
    "D: Jessica va a ser despedida <br><br>\n",
    "\n",
    "\n",
    "    a. A OR NOT I     Premisa\n",
    "  \n",
    "    b. NOT Q OR I     Premisa   (Q THEN I)\n",
    "  \n",
    "    c. NOT A          Premisa\n",
    "  \n",
    "    d. Q OR I OR D    Premisa    (( NOT Q AND NOT I) THEN D)\n",
    "  \n",
    "    e. NOT D          Negación de conclusión\n",
    "  \n",
    "    f. Q OR I         d, e, resolución\n",
    "  \n",
    "    g. I              b, f, resolución, idempotencia\n",
    "  \n",
    "    e. A              a, g, resolución\n",
    "  \n",
    "    h. FALSE          c, e, resolución\n",
    "  \n"
   ]
  },
  {
   "cell_type": "markdown",
   "metadata": {},
   "source": [
    "7.En esta pregunta, consideraremos las KB de Horn, como las siguientes:\n",
    "\n",
    "$$P(F(x)) \\Rightarrow P(x)$$\n",
    "$$Q(x) \\Rightarrow P(F(x))$$\n",
    "$$P(a)$$\n",
    "$$Q(b)$$\n",
    "\n",
    "donde $x$ es una variable y $a$ y $b$ son constantes.\n",
    "\n",
    "Sea $FC$ un algoritmo hacía adelante que repetidamente todas las consecuencias de las reglas actualmente satisfactorias. Sea $BC$ un algoritmo hacía atrás que prueba las cláusulas en el orden indicado en la KB.\n",
    "\n",
    "Indica si es verdadero o falso las siguientes proposiciones: \n",
    "\n",
    "* $FC$ inferirá el literal $Q(a)$.\n",
    "\n",
    "* $FC$ inferirá el literal $P(b)$.\n",
    "\n",
    "* Si $FC$ no ha podido inferir un literal dado, entonces no está implicado (entailed) por KB.\n",
    "\n",
    "* $BC$ devolverá verdadero dada la consulta $P(b).$\n",
    "\n",
    "* Si $BC$ no devuelve verdadero dado un literal de consulta, entonces no está implicado por $KB$.\n",
    "\n",
    "Explica tus respuestas."
   ]
  },
  {
   "cell_type": "code",
   "execution_count": null,
   "metadata": {},
   "outputs": [],
   "source": [
    "# Tu solución"
   ]
  },
  {
   "cell_type": "markdown",
   "metadata": {},
   "source": [
    "8.Presenta las solución en el contexto del Laboratorio1 de clase del siguiente problema.\n",
    "\n",
    "Sea el siguiente teorema, donde se cumplen las siguientes restricciones:\n",
    "\n",
    "- Cada número $x$ tiene exactamente un sucesor, que no es igual a $x$.\n",
    "\n",
    "- Cada número es par o impar, pero no ambos.\n",
    "\n",
    "- El sucesor de un número par es impar.\n",
    "\n",
    "- El sucesor de un número impar es par.\n",
    "\n",
    "- Para cada número $x$ el sucesor de $x$ es mayor que $x$.\n",
    "\n",
    "- Propiedad transitiva: si $x$ es mayor que $y$ e $y$ es mayor que $z$, entonces $x$ es mayor que $z$.\n",
    "\n",
    "\n",
    "Entonces tenemos la siguiente consecuencia: *para cada número, hay un número par mayor que él*.\n",
    "\n",
    "\n",
    "Nota: en este problema, *mayor que* es simplemente una relación arbitraria  y no debes asumir que tiene un significado previo. En otras palabras, no asuma cosas como *un número no puede ser mayor que él mismo* a menos que se indique explícitamente.\n",
    "\n",
    "- Completa *ints()* para construir $6$ fórmulas para cada una de las restricciones. La consecuencia se ha completado para ti (consulta el código). Puedes probar tu código usando los siguientes comandos:\n",
    "\n",
    "```\n",
    "    python prueba.py 5a-0\n",
    "    python prueba.py 5a-1\n",
    "    python prueba.py 5a-2\n",
    "    python prueba.py 5a-3\n",
    "    python prueba.py 5a-4\n",
    "    python prueba.py 5a-5\n",
    "    python prueba.py 5a-all  # Prueba la conjuncion de todas las formulas\n",
    "```\n",
    "\n",
    "Para probar el teorema, *tell* las fórmulas a la base de conocimientos y *ask* la consulta  ejecutando la verificación del modelo (en un modelo finito):\n",
    "\n",
    "```\n",
    "  python python.py 5a-run\n",
    "```\n",
    "\n",
    "* (Opcional) Supongamos que agregamos otra restricción: *un número no es mayor que él mismo*. Demuestra que no existe un modelo finito no vacío para el que el conjunto resultante de $7$ restricciones sea consistente."
   ]
  },
  {
   "cell_type": "code",
   "execution_count": null,
   "metadata": {},
   "outputs": [],
   "source": [
    "# Tu solución.\n",
    "def ints():\n",
    "    def Even(x): return Atom('Even', x)\n",
    "    def Odd(x): return Atom('Odd', x)\n",
    "    def Successor(x, y): return Atom('Successor', x, y)\n",
    "    def Larger(x, y): return Atom('Larger', x, y)\n",
    "    # Nota: todos los objetos son numeros, no necesitas definir Number como un\n",
    "    # predicado explicito\n",
    "    formulas = []\n",
    "    # Nota: presta atencion al orden de argumentos de Successor y Larger.\n",
    "    formulas.append(\n",
    "        Forall('$x',And(Exists('$y', And(Successor('$x', '$y'), Not(Equals('$x', '$y')))), Forall(\n",
    "               '$y', Forall('$z', Implies(And(Successor('$x', '$y'), Successor('$x', '$z')), Equals('$y', '$z')))))))\n",
    "    \n",
    "    formulas.append(Forall('$x', Not(Equiv(Even('$x'), Odd('$x')))))\n",
    "    \n",
    "    formulas.append(Forall('$x', Implies( Even('$x'), Forall('$y', Implies(Successor('$x', '$y'), Odd('$y'))))))\n",
    "    \n",
    "    formulas.append( Forall('$x', Implies(Odd('$x'), Forall('$y', Implies(Successor('$x', '$y'), Even('$y'))))))\n",
    "    \n",
    "    formulas.append(Forall('$x', Forall('$y', Implies(Successor('$x', '$y'), Larger('$y', '$x')))))\n",
    "    \n",
    "    formulas.append(Forall('$x', Forall('$y', Forall('$z', Implies(And(Larger('$x', '$y'), Larger('$z', '$x')),\n",
    "                    Larger('$z', '$y'))))))\n",
    "    \n",
    "    query = Forall('$x', Exists('$y', And(Even('$y'), Larger('$y', '$x'))))\n",
    "\n",
    "    return (formulas, query)"
   ]
  },
  {
   "cell_type": "code",
   "execution_count": null,
   "metadata": {},
   "outputs": [],
   "source": []
  }
 ],
 "metadata": {
  "kernelspec": {
   "display_name": "Python 3",
   "language": "python",
   "name": "python3"
  },
  "language_info": {
   "codemirror_mode": {
    "name": "ipython",
    "version": 3
   },
   "file_extension": ".py",
   "mimetype": "text/x-python",
   "name": "python",
   "nbconvert_exporter": "python",
   "pygments_lexer": "ipython3",
   "version": "3.6.9"
  }
 },
 "nbformat": 4,
 "nbformat_minor": 4
}

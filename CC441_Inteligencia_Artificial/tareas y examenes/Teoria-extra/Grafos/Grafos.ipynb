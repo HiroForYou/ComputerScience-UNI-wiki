{
 "cells": [
  {
   "cell_type": "markdown",
   "metadata": {},
   "source": [
    "## Teoria de grafos  para el curso de Inteligencia Artificial\n",
    "\n",
    "### Definiciones \n",
    "\n",
    "Un grafo proporciona una forma compacta de representar relaciones binarias entre un conjunto de objetos. Los grafos generalmente se representan gráficamente. Los objetos se representan como círculos u óvalos y las relaciones como líneas o flechas.\n",
    "\n",
    "![](Grafos.png)\n",
    "\n",
    "Hay dos tipos básicos de grafos: grafos no dirigidos y grafos dirigidos. \n",
    "\n",
    "A continuación, formalizamos las definiciones de grafos dirigidos y no dirigidos. Dado $V$, un conjunto no vacío, una relación binaria $E \\subseteq V \\times V$ sobre $V$ es un conjunto de pares ordenados, $(V_j, V_k)$, tales que $V_j \\in V$ y $V_k \\in V$. Un grafo o dígrafo dirigido es un par ordenado, $G = (V, E)$, donde $V$ es un conjunto de vértices o nodos y $E$ es un conjunto de arcos que representan una relación binaria en $V$. Observa el gráfico anterior (b). Los grafos dirigidos representan relaciones antisimétricas entre objetos, por ejemplo, la relación *padre*. \n",
    "\n",
    "Un grafo no dirigido es un par ordenado, $G = (V, E)$, donde $V$ es un conjunto de vértices o nodos y $E$ es un conjunto de aristas que representan relaciones binarias simétricas: $(V_j, V_k) \\in E \\rightarrow (V_k, V_j) \\in E$. Los grafos no dirigidos representan relaciones simétricas entre objetos, por ejemplo, la relación *hermano*. bserva el gráfico anterior (a).\n",
    "\n",
    "Si hay un borde $E_i(V_j, V_k)$ entre los nodos $j$ y $k$, entonces $V_j$ es adyacente a $V_k$. El grado de un nodo es el número de bordes que inciden en ese nodo. En la figura anterior (a), el nodo superior tiene un grado de $2$ y los dos nodos inferiores tienen un grado de $1$. \n",
    "\n",
    "Se dice que dos aristas asociadas al mismo par de vértices son aristas paralelas, un borde que incide en un solo vértice es un ciclo y un vértice que no es un punto final de ninguna arista es un vértice aislado y tiene grado $0$. Estos se ilustran en la siguiente figura.\n",
    "\n",
    "![](Grafos-paralelos-ciclos-aislados.png)\n",
    "\n",
    "En un grafo dirigido, el número de arcos que apuntan a un nodo es su grado de entrada (*in-degree*) y el número de aristas que apuntan hacia afuera de un nodo es su grado de salida (out-degree). En la figura anterior (b), los dos nodos superiores tienen un grado de entrada de cero y un grado de salida de dos, mientras que los dos nodos inferiores tienen un grado de entrada de dos y un grado de salida de cero. \n",
    "\n",
    "Dado un grafo $G = (V, E)$, un subgrafo $G^{'} = (V^{'}, E^{'})$ de $G$, es un grafo tal que $V^{'} \\subseteq V$ y $E^{'} \\subseteq E$, en el que cada borde en $E^{'}$ incide sobre los vértices de $V$.  Por ejemplo, si eliminamos la dirección de los bordes en el grafo de la figura anterior (b) (se convirte en un grafo no dirigido), entonces el grafo de la figura anterior (a) es un subgrafo de la misma figura (b). \n"
   ]
  },
  {
   "cell_type": "code",
   "execution_count": 2,
   "metadata": {
    "id": "UzRs7SMl8Caw"
   },
   "outputs": [],
   "source": [
    "import networkx as nx\n",
    "import pandas as pd\n",
    "import numpy as np\n",
    "import matplotlib.pyplot as plt\n",
    "plt.rcParams.update({\n",
    "    'figure.figsize': (7.5, 7.5),\n",
    "    'axes.spines.right': False,\n",
    "    'axes.spines.left': False,\n",
    "    'axes.spines.top': False,\n",
    "    'axes.spines.bottom': False})"
   ]
  },
  {
   "cell_type": "markdown",
   "metadata": {
    "id": "DA6KQuTyNhlm"
   },
   "source": [
    "### Creando un primer grafo"
   ]
  },
  {
   "cell_type": "code",
   "execution_count": 3,
   "metadata": {
    "colab": {
     "base_uri": "https://localhost:8080/",
     "height": 439
    },
    "id": "lQlfwXWBNpuB",
    "outputId": "582acf8d-4e1a-437d-daf8-5c29c871583a"
   },
   "outputs": [
    {
     "data": {
      "image/png": "[encoded data removed]",
      "text/plain": [
       "<Figure size 540x540 with 1 Axes>"
      ]
     },
     "metadata": {},
     "output_type": "display_data"
    }
   ],
   "source": [
    "G = nx.Graph()\n",
    "G.add_node('A')\n",
    "G.add_nodes_from(['B', 'C'])\n",
    "G.add_edge('A', 'B')\n",
    "G.add_edges_from([('B', 'C'), ('A', 'C')])\n",
    "plt.figure(figsize=(7.5, 7.5))\n",
    "nx.draw_networkx(G)"
   ]
  },
  {
   "cell_type": "markdown",
   "metadata": {
    "id": "V-TbmLEtO2VR"
   },
   "source": [
    "### Creación de un grafo a partir de un data frame de pandas\n",
    "\n",
    "Otra forma de definir un grafo con parámetros de borde es a través de la función `from_pandas_dataframe()`, que nos permite, leer un data frame de datos donde cada fila corresponde a un borde y cada columna adicional a un atributo."
   ]
  },
  {
   "cell_type": "code",
   "execution_count": 4,
   "metadata": {
    "colab": {
     "base_uri": "https://localhost:8080/",
     "height": 175
    },
    "id": "OnA6nEUWQ3lc",
    "outputId": "661da041-1807-404b-b364-3fae4b48ed80"
   },
   "outputs": [
    {
     "data": {
      "text/html": [
       "<div>\n",
       "<style scoped>\n",
       "    .dataframe tbody tr th:only-of-type {\n",
       "        vertical-align: middle;\n",
       "    }\n",
       "\n",
       "    .dataframe tbody tr th {\n",
       "        vertical-align: top;\n",
       "    }\n",
       "\n",
       "    .dataframe thead th {\n",
       "        text-align: right;\n",
       "    }\n",
       "</style>\n",
       "<table border=\"1\" class=\"dataframe\">\n",
       "  <thead>\n",
       "    <tr style=\"text-align: right;\">\n",
       "      <th></th>\n",
       "      <th>n1</th>\n",
       "      <th>n2</th>\n",
       "      <th>color</th>\n",
       "      <th>peso</th>\n",
       "    </tr>\n",
       "  </thead>\n",
       "  <tbody>\n",
       "    <tr>\n",
       "      <th>0</th>\n",
       "      <td>1</td>\n",
       "      <td>2</td>\n",
       "      <td>azul</td>\n",
       "      <td>1</td>\n",
       "    </tr>\n",
       "    <tr>\n",
       "      <th>1</th>\n",
       "      <td>2</td>\n",
       "      <td>3</td>\n",
       "      <td>verde</td>\n",
       "      <td>2</td>\n",
       "    </tr>\n",
       "    <tr>\n",
       "      <th>2</th>\n",
       "      <td>2</td>\n",
       "      <td>4</td>\n",
       "      <td>azul</td>\n",
       "      <td>3</td>\n",
       "    </tr>\n",
       "    <tr>\n",
       "      <th>3</th>\n",
       "      <td>3</td>\n",
       "      <td>4</td>\n",
       "      <td>anaranjado</td>\n",
       "      <td>4</td>\n",
       "    </tr>\n",
       "  </tbody>\n",
       "</table>\n",
       "</div>"
      ],
      "text/plain": [
       "   n1  n2       color  peso\n",
       "0   1   2        azul     1\n",
       "1   2   3       verde     2\n",
       "2   2   4        azul     3\n",
       "3   3   4  anaranjado     4"
      ]
     },
     "execution_count": 4,
     "metadata": {},
     "output_type": "execute_result"
    }
   ],
   "source": [
    "import pandas as pd\n",
    "\n",
    "df = pd.DataFrame({ 'n1' : [1, 2, 2, 3],\n",
    "                    'n2' : [2, 3, 4, 4],\n",
    "                    'color' : [\"azul\",\"verde\",\"azul\",\"anaranjado\"],\n",
    "                    'peso' : [1, 2, 3, 4] })\n",
    "df"
   ]
  },
  {
   "cell_type": "markdown",
   "metadata": {
    "id": "8WU-JvMqRMDb"
   },
   "source": [
    "En base a este data frame, podemos crear un grafo con el color del atributo de borde de la siguiente manera:"
   ]
  },
  {
   "cell_type": "code",
   "execution_count": 5,
   "metadata": {
    "colab": {
     "base_uri": "https://localhost:8080/",
     "height": 35
    },
    "id": "0nw6k___RC7Y",
    "outputId": "f95111bb-7ca9-45f3-805d-ef36730e4de7"
   },
   "outputs": [
    {
     "data": {
      "text/plain": [
       "EdgeDataView([(1, 2, {'color': 'azul'}), (2, 3, {'color': 'verde'}), (2, 4, {'color': 'azul'}), (3, 4, {'color': 'anaranjado'})])"
      ]
     },
     "execution_count": 5,
     "metadata": {},
     "output_type": "execute_result"
    }
   ],
   "source": [
    "G = nx.from_pandas_edgelist(df, 'n1', 'n2', edge_attr=['color'] )\n",
    "G.edges(data=True)"
   ]
  },
  {
   "cell_type": "markdown",
   "metadata": {
    "id": "sx3mOlZ0SLKV"
   },
   "source": [
    "Si quisiéramos agregar todas las columnas de la tabla como atributo de borde, podemos hacerlo especificando `edge_attr = True:`"
   ]
  },
  {
   "cell_type": "code",
   "execution_count": 6,
   "metadata": {
    "colab": {
     "base_uri": "https://localhost:8080/",
     "height": 55
    },
    "id": "_I1IDTO4S0xT",
    "outputId": "e846208b-1a3c-4454-f9ff-a7b2632ec821"
   },
   "outputs": [
    {
     "data": {
      "text/plain": [
       "EdgeDataView([(1, 2, {'color': 'azul', 'peso': 1}), (2, 3, {'color': 'verde', 'peso': 2}), (2, 4, {'color': 'azul', 'peso': 3}), (3, 4, {'color': 'anaranjado', 'peso': 4})])"
      ]
     },
     "execution_count": 6,
     "metadata": {},
     "output_type": "execute_result"
    }
   ],
   "source": [
    "G = nx.from_pandas_edgelist(df, 'n1', 'n2', edge_attr=True )\n",
    "G.edges(data=True)"
   ]
  },
  {
   "cell_type": "markdown",
   "metadata": {
    "id": "VY5gUzjRU97Z"
   },
   "source": [
    "### Agregar bordes y nodos a un grafo existente\n",
    "\n",
    "Una vez que hemos creado un grafo, podemos agregar bordes y nodos adicionales. Para demostrar esto, comenzamos desde un grafo vacío y subsecuentemente agregamos bordes y nodos. Ten en cuenta que al agregar bordes, los nodos necesarios se agregan automáticamente."
   ]
  },
  {
   "cell_type": "code",
   "execution_count": 7,
   "metadata": {
    "colab": {
     "base_uri": "https://localhost:8080/",
     "height": 35
    },
    "id": "gYglo3_iVOhq",
    "outputId": "0f1f7438-0880-4fcf-fb6f-61cc54327988"
   },
   "outputs": [
    {
     "data": {
      "text/plain": [
       "EdgeView([('A', 'B'), ('B', 'C')])"
      ]
     },
     "execution_count": 7,
     "metadata": {},
     "output_type": "execute_result"
    }
   ],
   "source": [
    "G = nx.Graph()\n",
    "G.add_edge('A', 'B')\n",
    "G.add_edge('B', 'C')\n",
    "G.edges()"
   ]
  },
  {
   "cell_type": "markdown",
   "metadata": {
    "id": "wvM2iBl-VUas"
   },
   "source": [
    "También podemos agregar bordes con atributos adicionales. Ten en cuenta que no es necesario que los bordes ya existentes tengan este atributo establecido de antemano. En el ejempo, agregamos un borde con dos atributos al grafo. Posteriormente, los atributos respectivos aún no existen para los nodos previamente existentes.\n"
   ]
  },
  {
   "cell_type": "code",
   "execution_count": 8,
   "metadata": {
    "colab": {
     "base_uri": "https://localhost:8080/",
     "height": 35
    },
    "id": "zX-0dtpgVmuF",
    "outputId": "c82f4d02-80ed-4f38-ab6e-fd7fa7d625c1"
   },
   "outputs": [
    {
     "data": {
      "text/plain": [
       "EdgeDataView([('A', 'B', {}), ('B', 'C', {}), ('B', 'D', {'peso': 6, 'signo': '+'})])"
      ]
     },
     "execution_count": 8,
     "metadata": {},
     "output_type": "execute_result"
    }
   ],
   "source": [
    "G.add_edge('B', 'D', peso=6, signo='+')\n",
    "G.edges(data=True)"
   ]
  },
  {
   "cell_type": "markdown",
   "metadata": {
    "id": "dScwmZenVv6n"
   },
   "source": [
    "Si queremos agregar varios bordes a la vez, podemos usar la función `add_edges_from()`:"
   ]
  },
  {
   "cell_type": "code",
   "execution_count": 9,
   "metadata": {
    "colab": {
     "base_uri": "https://localhost:8080/",
     "height": 35
    },
    "id": "Iyeb8-txV0Dd",
    "outputId": "4cdc4fb7-3d5f-4e5a-a1fe-fbb42daa2271"
   },
   "outputs": [
    {
     "data": {
      "text/plain": [
       "EdgeView([('A', 'B'), ('A', 'C'), ('A', 'D'), ('B', 'C'), ('B', 'D')])"
      ]
     },
     "execution_count": 9,
     "metadata": {},
     "output_type": "execute_result"
    }
   ],
   "source": [
    "G.add_edges_from([('A', 'C'), ('A', 'D')])\n",
    "G.edges()"
   ]
  },
  {
   "cell_type": "markdown",
   "metadata": {
    "id": "8VJz4krnWC4B"
   },
   "source": [
    "También podemos agregar un vértice sin bordes:"
   ]
  },
  {
   "cell_type": "code",
   "execution_count": 10,
   "metadata": {
    "colab": {
     "base_uri": "https://localhost:8080/",
     "height": 54
    },
    "id": "r0qkaROPWfeT",
    "outputId": "2656b41e-779c-4087-b9d2-716c04972781"
   },
   "outputs": [
    {
     "name": "stdout",
     "output_type": "stream",
     "text": [
      "['A', 'B', 'C', 'D']\n",
      "['A', 'B', 'C', 'D', 'X', 'Y']\n"
     ]
    }
   ],
   "source": [
    "print(G.nodes())\n",
    "G.add_nodes_from(['X', 'Y'])\n",
    "print(G.nodes())"
   ]
  },
  {
   "cell_type": "markdown",
   "metadata": {
    "id": "2rkUdij6Wy9f"
   },
   "source": [
    "### Visualización"
   ]
  },
  {
   "cell_type": "code",
   "execution_count": 11,
   "metadata": {
    "id": "-bkrT_5ZW26Z"
   },
   "outputs": [],
   "source": [
    "G.add_edges_from([('X', 'B'), ('Y', 'B')])"
   ]
  },
  {
   "cell_type": "markdown",
   "metadata": {
    "id": "k7-N1R6PXB07"
   },
   "source": [
    "La forma más básica de trazar es usar la función `nx.draw_networkx()`. Esto dibuja la red tratando de hacer que todos los bordes tengan aproximadamente la misma longitud."
   ]
  },
  {
   "cell_type": "code",
   "execution_count": 12,
   "metadata": {
    "colab": {
     "base_uri": "https://localhost:8080/",
     "height": 248
    },
    "id": "Xgcu_oa5W7bs",
    "outputId": "4d4c2861-a481-4349-e4e2-294f0c54e94b"
   },
   "outputs": [
    {
     "data": {
      "image/png": "[encoded data removed]",
      "text/plain": [
       "<Figure size 540x540 with 1 Axes>"
      ]
     },
     "metadata": {},
     "output_type": "display_data"
    }
   ],
   "source": [
    "nx.draw_networkx(G)"
   ]
  },
  {
   "cell_type": "code",
   "execution_count": 13,
   "metadata": {
    "colab": {
     "base_uri": "https://localhost:8080/",
     "height": 248
    },
    "id": "cjFgkvJ7XQyd",
    "outputId": "d442fb5d-ca46-4c40-9560-0ef11343249a"
   },
   "outputs": [
    {
     "data": {
      "image/png": "[encoded data removed]",
      "text/plain": [
       "<Figure size 540x540 with 1 Axes>"
      ]
     },
     "metadata": {},
     "output_type": "display_data"
    }
   ],
   "source": [
    "nx.draw_networkx(G)"
   ]
  },
  {
   "cell_type": "markdown",
   "metadata": {
    "id": "Mssc2_HKXhxF"
   },
   "source": [
    "Ten en cuenta que las posiciones se determinan al azar y cambian cada vez. Si queremos arreglar esas posiciones, podemos pasarlas como parámetros a la función de plotting. Para demostrar esto, primero se usa la función `random_layout()` para producir un diccionario de posiciones  para G:"
   ]
  },
  {
   "cell_type": "code",
   "execution_count": 14,
   "metadata": {
    "colab": {
     "base_uri": "https://localhost:8080/",
     "height": 55
    },
    "id": "lhAz4BS4YfAf",
    "outputId": "ec53a3fd-038f-40b2-aefa-e2a4cef71730"
   },
   "outputs": [
    {
     "name": "stdout",
     "output_type": "stream",
     "text": [
      "{'A': array([0.6025329, 0.8866764], dtype=float32), 'B': array([0.5618769, 0.4251884], dtype=float32), 'C': array([0.01766642, 0.07126117], dtype=float32), 'D': array([0.94767827, 0.7605239 ], dtype=float32), 'X': array([0.83731794, 0.26924452], dtype=float32), 'Y': array([0.8598499 , 0.27686718], dtype=float32)}\n"
     ]
    }
   ],
   "source": [
    "pos = nx.random_layout(G)\n",
    "print(pos)"
   ]
  },
  {
   "cell_type": "markdown",
   "metadata": {
    "id": "5etT39RWYrZC"
   },
   "source": [
    "Utilizamos los comandos matplotlib para desactivar el eje.\n"
   ]
  },
  {
   "cell_type": "code",
   "execution_count": 15,
   "metadata": {
    "colab": {
     "base_uri": "https://localhost:8080/",
     "height": 248
    },
    "id": "TTgLqqguYmqH",
    "outputId": "2eda572e-5f76-424b-d4cc-e46962acbafa"
   },
   "outputs": [
    {
     "data": {
      "image/png": "[encoded data removed]",
      "text/plain": [
       "<Figure size 540x540 with 1 Axes>"
      ]
     },
     "metadata": {},
     "output_type": "display_data"
    }
   ],
   "source": [
    "plt.axis('off')\n",
    "nx.draw_networkx(G, pos)"
   ]
  },
  {
   "cell_type": "markdown",
   "metadata": {
    "id": "UTp2KivBZaeT"
   },
   "source": [
    "También podemos dibujar los grafos con un diseño circular. Al usar el diseño circular, podemos usar una relación de aspecto de `1: 1('equal')` para hacer que el grafo parezca \"más circular\". Ten en cuenta que, en contraste con `draw_networkx()`, `draw_circular()` por defecto no muestra los nombres de los nodos.\n",
    "\n",
    "Para mostrar los nombres de los nodos, se usa `with_labels = True`. También ten  en cuenta que el comportamiento predeterminado de `draw_circular` es cambiar del eje."
   ]
  },
  {
   "cell_type": "code",
   "execution_count": 16,
   "metadata": {
    "colab": {
     "base_uri": "https://localhost:8080/",
     "height": 248
    },
    "id": "rvotB44UaPzV",
    "outputId": "a9613507-b22a-4abc-f60e-85aef0981fe7"
   },
   "outputs": [
    {
     "data": {
      "image/png": "[encoded data removed]",
      "text/plain": [
       "<Figure size 540x540 with 1 Axes>"
      ]
     },
     "metadata": {},
     "output_type": "display_data"
    }
   ],
   "source": [
    "ax = plt.gca()\n",
    "ax.set_aspect('equal')\n",
    "nx.draw_circular(G, with_labels=True)"
   ]
  },
  {
   "cell_type": "markdown",
   "metadata": {},
   "source": [
    "### Tipos de grafos\n",
    "\n",
    "Además de los dos grafos básicos, dirigidos y no dirigidos, existen otros tipos de grafos, como: \n",
    "\n",
    "- Grafo de cadena: un grafo híbrido que tiene bordes dirigidos y no dirigidos. \n",
    "\n",
    "- Grafo simple: grafo que no incluye ciclos ni arcos paralelos. \n",
    "\n",
    "- Multigrafo: un grafo con varios componentes (subgrafos), de manera que cada componente no tiene bordes con respecto al resto de componentes, es decir, están desconectados. \n",
    "\n",
    "- Grafo completo: un grafo que tiene un borde entre cada par de vértices.\n",
    "\n",
    "- Grafo bipartito: un grafo en el que los vértices se dividen en dos subconjuntos, $G_1$, $G_2$, de modo que todas los bordes conectan un vértice en $G_1$ con un vértice en $G_2$, es decir, no hay bordes entre los nodos de cada subconjunto. \n",
    "\n",
    "- Grafo ponderado: grafo que tiene pesos asociados a sus bordes y/o vértices. \n",
    "\n",
    "En la figura siguiente se muestran ejemplos de estos tipos de grafos.\n",
    "\n",
    "![](Tipos-grafos.png)\n"
   ]
  },
  {
   "cell_type": "markdown",
   "metadata": {},
   "source": [
    "### Trayectorias y circuitos\n",
    "\n",
    "Una trayectoria es una secuencia de bordes, $E_1$, $E_2,\\dots,E_n$ tal que el vértice final de cada borde coincide con el vértice inicial del borde siguiente en la secuencia (excepto por el vértice final); es decir, $E_i(V_j, V_k), E_{i + 1}(V_k, V_l)$, para $i = 1$ a $i = n -1$. Una trayectoria simple no incluye el mismo borde dos o más veces, una trayectoria elemental no incide en el mismo vértice más de una vez. En la figura siguiente se ilustran ejemplos de diferentes trayectorias. \n",
    "\n",
    "![](Trayectorias.png)\n",
    "\n",
    "En la figura se indica una trayectoria que es simple pero no elemental (a) y una trayectoria simple y elemental (b).\n",
    "\n",
    "Un grafo $G$ está conectado si hay una trayectoria entre cada par de vértices distintos en $G$. Si un grafo $G$ no está conectado, cada parte que está conectada se llama componente de $G$. Un circuito es una trayectoria tal que el vértice final coincide con el inicial, es decir, es una *trayectoria cerrada*. De forma análoga a las trayectorias, podemos definir circuitos simples y elementales. La figura siguiente muestra un ejemplo de circuito que es simple pero no elemental. \n",
    "\n",
    "![](Circuito.png)\n",
    "\n",
    "Un tipo importante de grafo para el curso es un grafo acíclico dirigido (DAG). Un DAG es un grafo dirigido que no tiene circuitos dirigidos (un circuito dirigido es un circuito en el que todos los bordes de la secuencia siguen las direcciones de las flechas). Por ejemplo, la figura siguiente es un DAG usando networkx:"
   ]
  },
  {
   "cell_type": "code",
   "execution_count": 17,
   "metadata": {},
   "outputs": [
    {
     "data": {
      "image/png": "[encoded data removed]",
      "text/plain": [
       "<Figure size 540x540 with 1 Axes>"
      ]
     },
     "metadata": {},
     "output_type": "display_data"
    }
   ],
   "source": [
    "graph = nx.DiGraph()\n",
    "graph.add_edges_from([(\"R\", \"a\"), (\"a\", \"b\"), (\"a\", \"e\"), (\"b\", \"c\"), (\"b\", \"d\"), (\"d\", \"e\")])\n",
    "nx.draw_networkx(graph)"
   ]
  },
  {
   "cell_type": "code",
   "execution_count": 18,
   "metadata": {},
   "outputs": [
    {
     "data": {
      "text/plain": [
       "True"
      ]
     },
     "execution_count": 18,
     "metadata": {},
     "output_type": "execute_result"
    }
   ],
   "source": [
    "nx.is_directed_acyclic_graph(graph)"
   ]
  },
  {
   "cell_type": "markdown",
   "metadata": {
    "id": "wsrzQ-XZAMos"
   },
   "source": [
    "#### Multigrafos\n",
    "\n",
    "Es un grafo que puede almacenar multibordes. Las multibordes son bordes múltiples entre dos nodos. Es diferente del hipergrafo, donde un borde se puede conectar cualquier número de nodos y no solo dos.\n",
    "\n",
    "En el ejemplo, vemos que si el tipo de grafo no se define correctamente, las funcionalidades, como el cálculo de grados, pueden arrojar un valor incorrecto."
   ]
  },
  {
   "cell_type": "code",
   "execution_count": 19,
   "metadata": {
    "colab": {
     "base_uri": "https://localhost:8080/",
     "height": 54
    },
    "id": "NRzPl7vK8NOM",
    "outputId": "94cbc26b-ad6d-4aa3-9e52-cd4904d9d5b9"
   },
   "outputs": [
    {
     "name": "stdout",
     "output_type": "stream",
     "text": [
      "[(1, 3), (2, 2), (3, 1)]\n",
      "[(1, 2), (2, 1), (3, 1)]\n"
     ]
    }
   ],
   "source": [
    "G = nx.MultiGraph()\n",
    "G.add_nodes_from([1, 2, 3])\n",
    "G.add_edges_from([(1, 2), (1, 3), (1, 2)])\n",
    "\n",
    "print(G.degree())\n",
    "H = nx.Graph()\n",
    "H.add_nodes_from([1, 2, 3])\n",
    "H.add_edges_from([(1, 2), (1, 3), (1, 2)])\n",
    "\n",
    "print(H.degree())\n"
   ]
  },
  {
   "cell_type": "markdown",
   "metadata": {
    "id": "U-7Va7P0BvaJ"
   },
   "source": [
    "Pandas es una herramienta importante para todo científico de datos, por lo que, naturalmente, sería una buena idea crear un grafo a partir de un data frame  de pandas. Al revés también es posible. \n",
    "\n",
    "El siguiente ejemplo muestra cómo crear un multigrafo a partir de un data frame de pandas donde cada borde tiene una propiedad de peso."
   ]
  },
  {
   "cell_type": "code",
   "execution_count": 20,
   "metadata": {
    "colab": {
     "base_uri": "https://localhost:8080/",
     "height": 109
    },
    "id": "_1ZalxPz-AT2",
    "outputId": "e8328182-70c6-408d-979c-cb3323967295"
   },
   "outputs": [
    {
     "name": "stdout",
     "output_type": "stream",
     "text": [
      "   Entrada  salida  peso\n",
      "0        1       1     4\n",
      "1        2       1     5\n",
      "2        3       2     6\n",
      "3        1       1     3\n"
     ]
    }
   ],
   "source": [
    "df = pd.DataFrame([[1, 1, 4], [2, 1, 5], [3, 2, 6], [1, 1, 3]], columns=['Entrada', 'salida', 'peso'])\n",
    "print(df)"
   ]
  },
  {
   "cell_type": "code",
   "execution_count": 21,
   "metadata": {
    "colab": {
     "base_uri": "https://localhost:8080/",
     "height": 109
    },
    "id": "BZ_eA-WK-Kx1",
    "outputId": "1892e1d5-97e8-4ea9-eeec-f787d96633b8"
   },
   "outputs": [
    {
     "name": "stdout",
     "output_type": "stream",
     "text": [
      "Name: \n",
      "Type: MultiGraph\n",
      "Number of nodes: 3\n",
      "Number of edges: 4\n",
      "Average degree:   2.6667\n"
     ]
    }
   ],
   "source": [
    "G = nx.from_pandas_edgelist(df, 'Entrada', 'salida', ['peso'], create_using=nx.MultiGraph)\n",
    "\n",
    "print(nx.info(G))"
   ]
  },
  {
   "cell_type": "markdown",
   "metadata": {},
   "source": [
    "### Isomorfismo de grafos \n",
    "\n",
    "Dos grafos son isomorfos si existe una correspondencia biunívoca entre sus vértices y bordes, de modo que se mantengan las incidencias. Dados dos grafos, $G_1$ y $G_2$, hay tres tipos básicos de isomorfismos:\n",
    "\n",
    "- Isomorfismo de grafo. Los grafos $G_1$ y $G_2$ son isomorfos.\n",
    "\n",
    "- Isomorfismo de subgrafo. El grafo $G_1$ es isomorfo a un subgrafo de $G_2$ (o viceversa). \n",
    "\n",
    "- Isomorfismo de doble subgrafo. Un subgrafo de $G_1$ es isomorfo a un subgrafo de $G_2$.\n",
    "\n",
    "La figura siguiente muestra un ejemplo de dos grafos que son isomorfos. \n",
    "\n",
    "![](Grafos-isomorfos.png)\n",
    "\n",
    "Determinar si dos grafos son isomorfos es un problema de NP, mientras que los problemas de isomorfismo de subgrafo y subgrafo doble son NP-completos. \n"
   ]
  },
  {
   "cell_type": "markdown",
   "metadata": {},
   "source": [
    "### Árboles\n",
    "\n",
    "Los árboles son un tipo de grafo muy importante en la informática en general, y para el curso en particular. Discutiremos dos tipos de árboles: no dirigidos y dirigidos. Un árbol no dirigido es un grafo conectado que no tiene circuitos simples. La figura siguiente muestra un ejemplo de un árbol no dirigido (es más es un árbol no dirigido, que tiene cinco nodos, tres nodos hoja y dos nodos internos). Hay dos clases de vértices o nodos en un árbol no dirigido: (i) nodos de hoja o terminales, con grado uno, (ii) nodos internos, con grado superior a uno. \n",
    "\n",
    "\n",
    "![](Arbol-nodirigido.png)\n",
    "\n",
    "Algunas propiedades básicas de un árbol son: \n",
    "\n",
    "* Existe una trayectoria simple entre cada par de vértices. \n",
    " \n",
    "* El número de vértices, $\\vert V\\vert$ es igual al número de bordes $\\vert E\\vert$ más uno: $\\vert V\\vert = \\vert E \\vert + 1$. \n",
    "\n",
    "* Un árbol con dos o más vértices tiene al menos dos nodos de hojas.\n",
    "\n",
    "Un árbol dirigido es un grafo dirigido conectado de manera que solo hay una trayectoria dirigida única entre cada par de nodos (también se conoce como un grafo dirigido conectado de forma simple). Hay dos tipos de árboles dirigidos: (i) un árbol con raíz (o simplemente un árbol), (ii) un polytree. Un árbol con raíz tiene un solo nodo con un grado de cero (el nodo raíz) y el resto tiene un grado de uno. Un polytree puede tener más de un nodo con un grado cero (raíces) y ciertos nodos (cero o más) con un grado interno mayor que uno (llamados nodos de padres múltiples). Si quitamos la dirección de los bordes en un polytree, se transforma en un árbol no dirigido. Podemos pensar en un árbol como un caso especial de un polytree. En la figura siguiente se muestra un ejemplo de un árbol con raíz y de un polytree. \n",
    "\n",
    "![](Arbol-polytree.png)\n",
    "\n",
    "Algunas terminologías relevantes para árboles dirigidos son las siguientes. \n",
    "\n",
    "- Raíz: un nodo con grado interno igual a cero.\n",
    "- Hoja: un nodo con un grado de salida igual a cero. \n",
    "- Nodo interno: un nodo con un grado de salida mayor que cero.\n",
    "\n",
    "- Padre/hijo: si hay un arco dirigido de A a B, A es padre de B y B es hijo de A. \n",
    "\n",
    "- Hermanos: dos o más nodos son hermanos si tienen el mismo padre. \n",
    "\n",
    "- Ascendientes/descendientes: si hay una trayectoria dirigida de A a B, A es un ascendente de B y B es un descendiente de A. \n",
    "\n",
    "- Subárbol con raíz A: un subárbol con A como raíz. \n",
    "\n",
    "- Subárbol de A: un subárbol con un hijo de A como raíz. \n",
    "\n",
    "- Árbol K-ary: un árbol en el que cada nodo interno tiene como máximo $K$ hijos. Es un árbol regular si cada nodo interno tiene $K$ hijos. \n",
    "\n",
    "- Árbol binario: un árbol en el que cada nodo interno tiene como máximo dos hijos.\n",
    "\n",
    "Por ejemplo, en el árbol de la siguiente figura:\n",
    "\n",
    "![](Arbol-binario.png)\n",
    "\n",
    "(i) A es un nodo raíz, (ii) C, D, F, G son nodos hoja, (iii) B, E son nodos internos, (iv) A es padre de B y B es hijo de A, (v ) B y C son hermanos, (vi) A es un ascendente de F y F es un descendiente de A, (vii) el subárbol B, D, E, F, G es un subárbol con raíz B, (viii) el subárbol E, F, G es un subárbol de B. El árbol de la figura es un árbol binario no regular. \n"
   ]
  },
  {
   "cell_type": "code",
   "execution_count": 28,
   "metadata": {},
   "outputs": [
    {
     "ename": "FileNotFoundError",
     "evalue": "[WinError 2] \"dot\" not found in path.",
     "output_type": "error",
     "traceback": [
      "\u001b[1;31m---------------------------------------------------------------------------\u001b[0m",
      "\u001b[1;31mFileNotFoundError\u001b[0m                         Traceback (most recent call last)",
      "\u001b[1;32mD:\\ANACONDA\\envs\\Pytorch\\lib\\site-packages\\pydot.py\u001b[0m in \u001b[0;36mcreate\u001b[1;34m(self, prog, format, encoding)\u001b[0m\n\u001b[0;32m   1914\u001b[0m                 \u001b[0marguments\u001b[0m\u001b[1;33m=\u001b[0m\u001b[0marguments\u001b[0m\u001b[1;33m,\u001b[0m\u001b[1;33m\u001b[0m\u001b[1;33m\u001b[0m\u001b[0m\n\u001b[1;32m-> 1915\u001b[1;33m                 \u001b[0mworking_dir\u001b[0m\u001b[1;33m=\u001b[0m\u001b[0mtmp_dir\u001b[0m\u001b[1;33m,\u001b[0m\u001b[1;33m\u001b[0m\u001b[1;33m\u001b[0m\u001b[0m\n\u001b[0m\u001b[0;32m   1916\u001b[0m             )\n",
      "\u001b[1;32mD:\\ANACONDA\\envs\\Pytorch\\lib\\site-packages\\pydot.py\u001b[0m in \u001b[0;36mcall_graphviz\u001b[1;34m(program, arguments, working_dir, **kwargs)\u001b[0m\n\u001b[0;32m    135\u001b[0m         \u001b[0mstdout\u001b[0m\u001b[1;33m=\u001b[0m\u001b[0msubprocess\u001b[0m\u001b[1;33m.\u001b[0m\u001b[0mPIPE\u001b[0m\u001b[1;33m,\u001b[0m\u001b[1;33m\u001b[0m\u001b[1;33m\u001b[0m\u001b[0m\n\u001b[1;32m--> 136\u001b[1;33m         \u001b[1;33m**\u001b[0m\u001b[0mkwargs\u001b[0m\u001b[1;33m\u001b[0m\u001b[1;33m\u001b[0m\u001b[0m\n\u001b[0m\u001b[0;32m    137\u001b[0m     )\n",
      "\u001b[1;32mD:\\ANACONDA\\envs\\Pytorch\\lib\\subprocess.py\u001b[0m in \u001b[0;36m__init__\u001b[1;34m(self, args, bufsize, executable, stdin, stdout, stderr, preexec_fn, close_fds, shell, cwd, env, universal_newlines, startupinfo, creationflags, restore_signals, start_new_session, pass_fds, encoding, errors)\u001b[0m\n\u001b[0;32m    728\u001b[0m                                 \u001b[0merrread\u001b[0m\u001b[1;33m,\u001b[0m \u001b[0merrwrite\u001b[0m\u001b[1;33m,\u001b[0m\u001b[1;33m\u001b[0m\u001b[1;33m\u001b[0m\u001b[0m\n\u001b[1;32m--> 729\u001b[1;33m                                 restore_signals, start_new_session)\n\u001b[0m\u001b[0;32m    730\u001b[0m         \u001b[1;32mexcept\u001b[0m\u001b[1;33m:\u001b[0m\u001b[1;33m\u001b[0m\u001b[1;33m\u001b[0m\u001b[0m\n",
      "\u001b[1;32mD:\\ANACONDA\\envs\\Pytorch\\lib\\subprocess.py\u001b[0m in \u001b[0;36m_execute_child\u001b[1;34m(self, args, executable, preexec_fn, close_fds, pass_fds, cwd, env, startupinfo, creationflags, shell, p2cread, p2cwrite, c2pread, c2pwrite, errread, errwrite, unused_restore_signals, unused_start_new_session)\u001b[0m\n\u001b[0;32m   1016\u001b[0m                                          \u001b[0mos\u001b[0m\u001b[1;33m.\u001b[0m\u001b[0mfspath\u001b[0m\u001b[1;33m(\u001b[0m\u001b[0mcwd\u001b[0m\u001b[1;33m)\u001b[0m \u001b[1;32mif\u001b[0m \u001b[0mcwd\u001b[0m \u001b[1;32mis\u001b[0m \u001b[1;32mnot\u001b[0m \u001b[1;32mNone\u001b[0m \u001b[1;32melse\u001b[0m \u001b[1;32mNone\u001b[0m\u001b[1;33m,\u001b[0m\u001b[1;33m\u001b[0m\u001b[1;33m\u001b[0m\u001b[0m\n\u001b[1;32m-> 1017\u001b[1;33m                                          startupinfo)\n\u001b[0m\u001b[0;32m   1018\u001b[0m             \u001b[1;32mfinally\u001b[0m\u001b[1;33m:\u001b[0m\u001b[1;33m\u001b[0m\u001b[1;33m\u001b[0m\u001b[0m\n",
      "\u001b[1;31mFileNotFoundError\u001b[0m: [WinError 2] El sistema no puede encontrar el archivo especificado",
      "\nDuring handling of the above exception, another exception occurred:\n",
      "\u001b[1;31mFileNotFoundError\u001b[0m                         Traceback (most recent call last)",
      "\u001b[1;32m<ipython-input-28-fb3f7cd3e581>\u001b[0m in \u001b[0;36m<module>\u001b[1;34m\u001b[0m\n\u001b[0;32m      7\u001b[0m                   (4,10), (5,11), (5,12), (6,13)])\n\u001b[0;32m      8\u001b[0m \u001b[0mp\u001b[0m\u001b[1;33m=\u001b[0m\u001b[0mnx\u001b[0m\u001b[1;33m.\u001b[0m\u001b[0mdrawing\u001b[0m\u001b[1;33m.\u001b[0m\u001b[0mnx_pydot\u001b[0m\u001b[1;33m.\u001b[0m\u001b[0mto_pydot\u001b[0m\u001b[1;33m(\u001b[0m\u001b[0mg\u001b[0m\u001b[1;33m)\u001b[0m\u001b[1;33m\u001b[0m\u001b[1;33m\u001b[0m\u001b[0m\n\u001b[1;32m----> 9\u001b[1;33m \u001b[0mp\u001b[0m\u001b[1;33m.\u001b[0m\u001b[0mwrite_png\u001b[0m\u001b[1;33m(\u001b[0m\u001b[1;34m\"arbol.png\"\u001b[0m\u001b[1;33m)\u001b[0m\u001b[1;33m\u001b[0m\u001b[1;33m\u001b[0m\u001b[0m\n\u001b[0m",
      "\u001b[1;32mD:\\ANACONDA\\envs\\Pytorch\\lib\\site-packages\\pydot.py\u001b[0m in \u001b[0;36mnew_method\u001b[1;34m(path, f, prog, encoding)\u001b[0m\n\u001b[0;32m   1732\u001b[0m                 self.write(\n\u001b[0;32m   1733\u001b[0m                     \u001b[0mpath\u001b[0m\u001b[1;33m,\u001b[0m \u001b[0mformat\u001b[0m\u001b[1;33m=\u001b[0m\u001b[0mf\u001b[0m\u001b[1;33m,\u001b[0m \u001b[0mprog\u001b[0m\u001b[1;33m=\u001b[0m\u001b[0mprog\u001b[0m\u001b[1;33m,\u001b[0m\u001b[1;33m\u001b[0m\u001b[1;33m\u001b[0m\u001b[0m\n\u001b[1;32m-> 1734\u001b[1;33m                     encoding=encoding)\n\u001b[0m\u001b[0;32m   1735\u001b[0m             \u001b[0mname\u001b[0m \u001b[1;33m=\u001b[0m \u001b[1;34m'write_{fmt}'\u001b[0m\u001b[1;33m.\u001b[0m\u001b[0mformat\u001b[0m\u001b[1;33m(\u001b[0m\u001b[0mfmt\u001b[0m\u001b[1;33m=\u001b[0m\u001b[0mfrmt\u001b[0m\u001b[1;33m)\u001b[0m\u001b[1;33m\u001b[0m\u001b[1;33m\u001b[0m\u001b[0m\n\u001b[0;32m   1736\u001b[0m             \u001b[0mself\u001b[0m\u001b[1;33m.\u001b[0m\u001b[0m__setattr__\u001b[0m\u001b[1;33m(\u001b[0m\u001b[0mname\u001b[0m\u001b[1;33m,\u001b[0m \u001b[0mnew_method\u001b[0m\u001b[1;33m)\u001b[0m\u001b[1;33m\u001b[0m\u001b[1;33m\u001b[0m\u001b[0m\n",
      "\u001b[1;32mD:\\ANACONDA\\envs\\Pytorch\\lib\\site-packages\\pydot.py\u001b[0m in \u001b[0;36mwrite\u001b[1;34m(self, path, prog, format, encoding)\u001b[0m\n\u001b[0;32m   1815\u001b[0m                 \u001b[0mf\u001b[0m\u001b[1;33m.\u001b[0m\u001b[0mwrite\u001b[0m\u001b[1;33m(\u001b[0m\u001b[0ms\u001b[0m\u001b[1;33m)\u001b[0m\u001b[1;33m\u001b[0m\u001b[1;33m\u001b[0m\u001b[0m\n\u001b[0;32m   1816\u001b[0m         \u001b[1;32melse\u001b[0m\u001b[1;33m:\u001b[0m\u001b[1;33m\u001b[0m\u001b[1;33m\u001b[0m\u001b[0m\n\u001b[1;32m-> 1817\u001b[1;33m             \u001b[0ms\u001b[0m \u001b[1;33m=\u001b[0m \u001b[0mself\u001b[0m\u001b[1;33m.\u001b[0m\u001b[0mcreate\u001b[0m\u001b[1;33m(\u001b[0m\u001b[0mprog\u001b[0m\u001b[1;33m,\u001b[0m \u001b[0mformat\u001b[0m\u001b[1;33m,\u001b[0m \u001b[0mencoding\u001b[0m\u001b[1;33m=\u001b[0m\u001b[0mencoding\u001b[0m\u001b[1;33m)\u001b[0m\u001b[1;33m\u001b[0m\u001b[1;33m\u001b[0m\u001b[0m\n\u001b[0m\u001b[0;32m   1818\u001b[0m             \u001b[1;32mwith\u001b[0m \u001b[0mio\u001b[0m\u001b[1;33m.\u001b[0m\u001b[0mopen\u001b[0m\u001b[1;33m(\u001b[0m\u001b[0mpath\u001b[0m\u001b[1;33m,\u001b[0m \u001b[0mmode\u001b[0m\u001b[1;33m=\u001b[0m\u001b[1;34m'wb'\u001b[0m\u001b[1;33m)\u001b[0m \u001b[1;32mas\u001b[0m \u001b[0mf\u001b[0m\u001b[1;33m:\u001b[0m\u001b[1;33m\u001b[0m\u001b[1;33m\u001b[0m\u001b[0m\n\u001b[0;32m   1819\u001b[0m                 \u001b[0mf\u001b[0m\u001b[1;33m.\u001b[0m\u001b[0mwrite\u001b[0m\u001b[1;33m(\u001b[0m\u001b[0ms\u001b[0m\u001b[1;33m)\u001b[0m\u001b[1;33m\u001b[0m\u001b[1;33m\u001b[0m\u001b[0m\n",
      "\u001b[1;32mD:\\ANACONDA\\envs\\Pytorch\\lib\\site-packages\\pydot.py\u001b[0m in \u001b[0;36mcreate\u001b[1;34m(self, prog, format, encoding)\u001b[0m\n\u001b[0;32m   1920\u001b[0m                 args[1] = '\"{prog}\" not found in path.'.format(\n\u001b[0;32m   1921\u001b[0m                     prog=prog)\n\u001b[1;32m-> 1922\u001b[1;33m                 \u001b[1;32mraise\u001b[0m \u001b[0mOSError\u001b[0m\u001b[1;33m(\u001b[0m\u001b[1;33m*\u001b[0m\u001b[0margs\u001b[0m\u001b[1;33m)\u001b[0m\u001b[1;33m\u001b[0m\u001b[1;33m\u001b[0m\u001b[0m\n\u001b[0m\u001b[0;32m   1923\u001b[0m             \u001b[1;32melse\u001b[0m\u001b[1;33m:\u001b[0m\u001b[1;33m\u001b[0m\u001b[1;33m\u001b[0m\u001b[0m\n\u001b[0;32m   1924\u001b[0m                 \u001b[1;32mraise\u001b[0m\u001b[1;33m\u001b[0m\u001b[1;33m\u001b[0m\u001b[0m\n",
      "\u001b[1;31mFileNotFoundError\u001b[0m: [WinError 2] \"dot\" not found in path."
     ]
    }
   ],
   "source": [
    "# conda install -c anaconda pydot\n",
    "\n",
    "import networkx as nx\n",
    "\n",
    "g=nx.DiGraph()\n",
    "g.add_edges_from([(1,2), (1,3), (1,4), (2,5), (2,6), (2,7), (3,8), (3,9),\n",
    "                  (4,10), (5,11), (5,12), (6,13)])\n",
    "p=nx.drawing.nx_pydot.to_pydot(g)\n",
    "#p.write_png(\"arbol.png\")"
   ]
  },
  {
   "cell_type": "markdown",
   "metadata": {},
   "source": [
    "![](arbol.png)"
   ]
  },
  {
   "cell_type": "markdown",
   "metadata": {},
   "source": [
    "### Cliques\n",
    "\n",
    "Un grafo completo es un grafo $G_c$, en el que cada par de nodos es adyacente, es decir, hay un borde entre cada par de nodos. Un conjunto completo, $W_c$ es un subconjunto de $G$ que induce un subgrafo completo de $G$. Esto es un subconjunto de vértices de $G$ de modo que cada par de nodos en este subgrafo es adyacente. Un clique $C$, es un subconjunto de un grafo G tal que es un conjunto completo que es máximo, es decir, no hay otro conjunto completo en G que contenga C. El grafo de la figura siguiente tiene cinco cliques (resaltados), uno con cuatro nodos, uno con tres nodos y tres con dos nodos. Observa que cada nodo en un grafo es parte de al menos un clique, por tanto, el conjunto de cliques de un grafo siempre cubre V. \n",
    "\n",
    "![](clique.png)\n"
   ]
  },
  {
   "cell_type": "markdown",
   "metadata": {
    "id": "DrRFu4gZCaV5"
   },
   "source": [
    "### Generadores de grafos\n",
    "\n",
    "Una de las características interesantes y poderosas de Networkx, es el  interfaz del generador de grafos que permite crear varios tipos, solo con una línea de código. Algunos de los grafo son deterministas dado un parámetro (por ejemplo, el grafo completo de k nodos), mientras que algunos son aleatorios (por ejemplo, grafo binomial). \n",
    "\n",
    "Presentamos algunos ejemplos de grafos deterministas y aleatorios:\n",
    "\n",
    "* Grafo completo: crea un grafo con n nodos y un borde entre cada dos nodos.\n",
    "\n",
    "* Grafo vacío: crea un grafo con n nodos y sin aristas.\n",
    "\n",
    "* Grafo de estrella: crea un grafo con un nodo central conectado a n nodos externos.\n"
   ]
  },
  {
   "cell_type": "code",
   "execution_count": null,
   "metadata": {
    "colab": {
     "base_uri": "https://localhost:8080/",
     "height": 337
    },
    "id": "vzFZcK8Q-cVu",
    "outputId": "0f606061-e390-4048-962f-97b7cb05cdfc"
   },
   "outputs": [],
   "source": [
    "G = nx.complete_graph(n=9)\n",
    "\n",
    "print(len(G.edges()), len(G.nodes()))\n",
    "nx.draw(G)\n",
    "plt.show()\n",
    "\n"
   ]
  },
  {
   "cell_type": "code",
   "execution_count": null,
   "metadata": {
    "colab": {
     "base_uri": "https://localhost:8080/",
     "height": 35
    },
    "id": "dMq4pLxSEWFn",
    "outputId": "3e1fcfd9-e4ea-411d-df1b-0f2af010990d"
   },
   "outputs": [],
   "source": [
    "H = nx.complete_graph(n=9, create_using=nx.DiGraph)\n",
    "print(len(H.edges()), len(H.nodes()))"
   ]
  },
  {
   "cell_type": "code",
   "execution_count": null,
   "metadata": {
    "colab": {
     "base_uri": "https://localhost:8080/",
     "height": 337
    },
    "id": "LI4bKfQkEwcq",
    "outputId": "a9083206-ae50-4329-c692-52e76ae2ac4c"
   },
   "outputs": [],
   "source": [
    "J = nx.empty_graph(n=9)\n",
    "print(len(J.edges()), len(J.nodes()))\n",
    "\n",
    "nx.draw(J)\n",
    "plt.show()"
   ]
  },
  {
   "cell_type": "code",
   "execution_count": null,
   "metadata": {
    "colab": {
     "base_uri": "https://localhost:8080/",
     "height": 337
    },
    "id": "o4AQw5ZaE_bY",
    "outputId": "d1e9f3db-2368-4129-ea87-cf7883302e70"
   },
   "outputs": [],
   "source": [
    "K = nx.star_graph(n=9)\n",
    "print(len(K.edges()), len(K.nodes()))\n",
    "nx.draw(K)\n",
    "plt.show()"
   ]
  },
  {
   "cell_type": "markdown",
   "metadata": {
    "id": "OtyKg-wEEv7y"
   },
   "source": [
    "#### Grafo binomial\n",
    "\n",
    "Es un grafo con n nodos y cada borde se crea con probabilidad p."
   ]
  },
  {
   "cell_type": "code",
   "execution_count": null,
   "metadata": {
    "colab": {
     "base_uri": "https://localhost:8080/",
     "height": 35
    },
    "id": "g0sqgWQM-qHn",
    "outputId": "073a1a52-406f-4c72-bbca-c4f46f405cbd"
   },
   "outputs": [],
   "source": [
    "G1 = nx.binomial_graph(n=9, p=0.5, seed=1)\n",
    "G2 = nx.binomial_graph(n=9, p=0.5, seed=1)\n",
    "\n",
    "G3 = nx.binomial_graph(n=9, p=0.5)\n",
    "print(G1.edges()==G2.edges(), G1.edges()==G3.edges())"
   ]
  },
  {
   "cell_type": "code",
   "execution_count": null,
   "metadata": {
    "colab": {
     "base_uri": "https://localhost:8080/",
     "height": 319
    },
    "id": "LdNKgKG1-5eP",
    "outputId": "be8b879b-a98e-43c0-80f6-a456882e5be6"
   },
   "outputs": [],
   "source": [
    "G = nx.random_regular_graph(d=4, n=10)\n",
    "\n",
    "nx.draw(G)\n",
    "plt.show()"
   ]
  },
  {
   "cell_type": "code",
   "execution_count": null,
   "metadata": {
    "colab": {
     "base_uri": "https://localhost:8080/",
     "height": 319
    },
    "id": "7Rl_Z9FX_AiQ",
    "outputId": "1f4e74f8-e945-4e05-d3bc-18ca567e2538"
   },
   "outputs": [],
   "source": [
    "T = nx.random_tree(n=10)\n",
    "nx.draw(T)\n",
    "plt.show()"
   ]
  },
  {
   "cell_type": "markdown",
   "metadata": {
    "id": "h7TFsBcjM0NK"
   },
   "source": [
    "### Hipercubos\n",
    "\n",
    "Una red de $n$-cubos, llamada también hipercubo, consta de $N = 2^n$ nodos. Donde  $n$ se llama la dimensión del hipercubo. Cuando las direcciones del nodo se consideran las esquinas de un cubo n-dimensional, la red conecta cada nodo a sus $n$ vecinos. En un $n$-cubo, los nodos individuales se identifican por direcciones de $n$ bits que van de $0$ a $N-1$. Dado un nodo con la dirección binaria $d$, este nodo está conectado a todos los nodos cuyas direcciones binarias difieren de $d$ en exactamente 1 bit."
   ]
  },
  {
   "cell_type": "code",
   "execution_count": null,
   "metadata": {
    "colab": {
     "base_uri": "https://localhost:8080/",
     "height": 319
    },
    "id": "vfvX1QtP_XRi",
    "outputId": "d1949966-42f3-4bd0-ed40-cf0a6bc1b396"
   },
   "outputs": [],
   "source": [
    "H = nx.hypercube_graph(n = 4)\n",
    "nx.draw(H)\n",
    "plt.show()"
   ]
  },
  {
   "cell_type": "markdown",
   "metadata": {
    "id": "Q4Vmhgh4MmXP"
   },
   "source": [
    "Revisar: [Graph generators](https://networkx.github.io/documentation/latest/reference/generators.html)."
   ]
  },
  {
   "cell_type": "markdown",
   "metadata": {
    "id": "UhDxivlnKYb9"
   },
   "source": [
    "### Características importantes de un grafo\n",
    "\n",
    "* Excentricidad: para un nodo $n$ en un grafo G, la excentricidad de $n$ es la mayor distancia de camino más corta posible entre $n$ y todos los demás nodos.\n",
    "\n",
    "* Diámetro: es la distancia más corta máxima entre un par de nodos en un grafo G. Es el mayor valor de excentricidad posible de un nodo.\n",
    "\n",
    "* Radio: es el valor mínimo de excentricidad de un nodo.\n",
    "\n",
    "* Periferia: es el conjunto de nodos que tienen su excentricidad igual a su diámetro.\n",
    "\n",
    "* Centro: El centro de un grafo es el conjunto de nodos cuya excentricidad es igual al radio del grafo.\n"
   ]
  },
  {
   "cell_type": "code",
   "execution_count": null,
   "metadata": {
    "colab": {
     "base_uri": "https://localhost:8080/",
     "height": 612
    },
    "id": "YfFED62ViiFH",
    "outputId": "b40af723-8a5d-472a-b780-df407bd796d6"
   },
   "outputs": [],
   "source": [
    "G = nx.Graph() \n",
    "G.add_edges_from([('A', 'B'), ('A', 'K'), ('B', 'K'), ('A', 'C'),  \n",
    "                  ('B', 'C'), ('C', 'F'), ('F', 'G'), ('C', 'E'),  \n",
    "                  ('E', 'F'), ('E', 'D'), ('E', 'H'), ('H', 'I'), ('I', 'J')]) \n",
    "  \n",
    "plt.figure(figsize =(9, 9)) \n",
    "nx.draw_networkx(G, with_labels = True) \n",
    "  \n",
    "print(\"Excentricidad: \", nx.eccentricity(G)) \n",
    "print(\"Diametro: \", nx.diameter(G)) \n",
    "print(\"Radio: \", nx.radius(G)) \n",
    "print(\"Periferia: \", list(nx.periphery(G))) \n",
    "print(\"Centro: \", list(nx.center(G))) "
   ]
  },
  {
   "cell_type": "markdown",
   "metadata": {
    "id": "9Y2Mf_UhMmGe"
   },
   "source": [
    "Networkx proporciona una serie de funciones integradas para verificar las diversas características de conectividad de un grafo, como la conectividad de nodo y borde."
   ]
  },
  {
   "cell_type": "code",
   "execution_count": null,
   "metadata": {
    "colab": {
     "base_uri": "https://localhost:8080/",
     "height": 358
    },
    "id": "kwT4fVNaixHW",
    "outputId": "6bd7a25b-7b2a-4ec1-9fb5-15f2cc1dbb26"
   },
   "outputs": [],
   "source": [
    "G = nx.Graph() \n",
    "  \n",
    "G.add_edges_from([('A', 'B'), ('A', 'K'), ('B', 'K'), ('A', 'C'),  \n",
    "                  ('B', 'C'), ('C', 'F'), ('F', 'G'), ('C', 'E'),  \n",
    "                  ('E', 'F'), ('E', 'D'), ('E', 'H'), ('I', 'J')]) \n",
    "  \n",
    "nx.draw_networkx(G, with_labels = True) \n",
    "  \n",
    "print(nx.is_connected(G)) \n",
    "print(nx.number_connected_components(G)) \n",
    "print(list(nx.connected_components(G))) \n",
    "  \n",
    "print(nx.node_connected_component(G, 'I')) \n",
    "  \n",
    "print(nx.node_connectivity(G)) \n",
    "  \n",
    "print(nx.edge_connectivity(G)) \n"
   ]
  },
  {
   "cell_type": "markdown",
   "metadata": {
    "id": "zHJNLCx_M2DB"
   },
   "source": [
    "Referencia: [Python | Clustering, Connectivity and other Graph properties using Networkx.](https://www.geeksforgeeks.org/python-clustering-connectivity-and-other-graph-properties-using-networkx/)"
   ]
  },
  {
   "cell_type": "markdown",
   "metadata": {
    "id": "J_L4Gtu-P7hn"
   },
   "source": [
    "### DFS\n"
   ]
  },
  {
   "cell_type": "code",
   "execution_count": null,
   "metadata": {
    "id": "o2emq6G2l9qm"
   },
   "outputs": [],
   "source": [
    "G = nx.Graph() \n",
    "G.add_node(1)\n",
    "G.add_node(2)\n",
    "G.add_node(3)\n",
    "G.add_node(4)\n",
    "G.add_node(5)\n",
    "\n",
    "G.add_nodes_from([6,7,8,9])"
   ]
  },
  {
   "cell_type": "markdown",
   "metadata": {
    "id": "06YZYvINQieo"
   },
   "source": [
    "Ahora que hemos agregado todos los nodos, definamos los bordes entre estos nodos."
   ]
  },
  {
   "cell_type": "code",
   "execution_count": null,
   "metadata": {
    "id": "OfFZHdApQc1o"
   },
   "outputs": [],
   "source": [
    "G.add_edge(5,8)\n",
    "G.add_edge(5,4)\n",
    "G.add_edge(5,7)\n",
    "G.add_edge(8,2)\n",
    "G.add_edge(4,3)\n",
    "G.add_edge(4,1)\n",
    "G.add_edge(7,6)\n",
    "\n",
    "G.add_edge(6,9)"
   ]
  },
  {
   "cell_type": "markdown",
   "metadata": {
    "id": "Te6GWpozRDoX"
   },
   "source": [
    "Visualización:"
   ]
  },
  {
   "cell_type": "code",
   "execution_count": null,
   "metadata": {
    "colab": {
     "base_uri": "https://localhost:8080/",
     "height": 319
    },
    "id": "fhva2jBPQ0ha",
    "outputId": "e2b81ce4-44c3-4648-f6e3-59c63b5dc8c9"
   },
   "outputs": [],
   "source": [
    "nx.draw(G, with_labels=True, font_weight='bold')\n",
    "plt.show()"
   ]
  },
  {
   "cell_type": "markdown",
   "metadata": {
    "id": "PR130ahiRZG9"
   },
   "source": [
    "Networkx ofrece una variedad de métodos para recorrer el gráfico de diferentes maneras. Utilizaremos el método `dfs_preorder_nodes()` para analizar el grafo con el método DFS.\n",
    "\n",
    "El orden esperado debe ser: `5, 8, 2, 4, 3, 1, 7, 6, 9`\n",
    "\n",
    "Llamemos al método y veamos en qué orden imprime los nodos."
   ]
  },
  {
   "cell_type": "code",
   "execution_count": null,
   "metadata": {
    "colab": {
     "base_uri": "https://localhost:8080/",
     "height": 35
    },
    "id": "aMuV7loqRFyb",
    "outputId": "aa08aafd-050a-4d40-f332-1e7aba36666f"
   },
   "outputs": [],
   "source": [
    "dfs_ = list(nx.dfs_preorder_nodes(G, source=5))\n",
    "print(dfs_)"
   ]
  },
  {
   "cell_type": "markdown",
   "metadata": {
    "id": "yiwXPHmgYeN5"
   },
   "source": [
    "### Ejercicios\n",
    "\n",
    "* Estudiar por lo menos 3 grafos dados en la documentación de networkx: [Graph generators.](https://networkx.github.io/documentation/stable/reference/generators.html)\n",
    "\n",
    "* Estudiar por lo menos 3 grafos aleatorios dados en la  documentación de networkx: [Graph generators.](https://networkx.github.io/documentation/stable/reference/generators.html)\n",
    "\n",
    "* Hacer lo mismo para el caso de grafos dirigidos, incluidos grafos de red en crecimiento(GN) y grafos sin escala.\n",
    "\n",
    "* Del resultado, analiza las diferencias propiedades de los grafos, como la conectividad de nodo y borde, diamétro.\n",
    "\n"
   ]
  },
  {
   "cell_type": "code",
   "execution_count": null,
   "metadata": {
    "colab": {
     "base_uri": "https://localhost:8080/",
     "height": 862
    },
    "id": "kGs-nDIMSSJI",
    "outputId": "32ae3f97-d58f-436d-c191-c68d9479ca0a"
   },
   "outputs": [],
   "source": [
    "p = [0.1, 0.4, 0.6, 0.8]\n",
    "graphs = [nx.gnp_random_graph(10,i) for i in p]\n",
    "\n",
    "fig, axes = plt.subplots(nrows=2, ncols=2, figsize=(15,15))\n",
    "ax = axes.flatten()\n",
    "\n",
    "for i in range(4):\n",
    "    nx.draw_networkx(graphs[i], ax=ax[i])\n",
    "    ax[i].set_axis_off()\n",
    "    ax[i].set_title('Grafos aleatorios con probabilidad {}'.format(p[i]))\n",
    "    \n",
    "plt.show()"
   ]
  },
  {
   "cell_type": "markdown",
   "metadata": {
    "id": "Pt29bMEWgyaJ"
   },
   "source": [
    "* Explica el siguiente resultado:"
   ]
  },
  {
   "cell_type": "code",
   "execution_count": null,
   "metadata": {
    "colab": {
     "base_uri": "https://localhost:8080/",
     "height": 319
    },
    "id": "AhG9AEo1fTwy",
    "outputId": "8a9f70da-21f0-487b-a437-def32851dc57"
   },
   "outputs": [],
   "source": [
    "G_pref = nx.barabasi_albert_graph(n=30, m=2)\n",
    "nx.draw_circular(G_pref)"
   ]
  },
  {
   "cell_type": "markdown",
   "metadata": {
    "id": "Qx4wB64IhEq7"
   },
   "source": [
    "* ¿Qué es PAG (Preferential attachment graph)?\n",
    "\n",
    "* Menciona las diferencias entre los siguientes grafos:\n"
   ]
  },
  {
   "cell_type": "code",
   "execution_count": null,
   "metadata": {
    "colab": {
     "base_uri": "https://localhost:8080/",
     "height": 591
    },
    "id": "XSA-YCeIg7oP",
    "outputId": "86b00ae1-f47e-4432-ff37-afd325d48221"
   },
   "outputs": [],
   "source": [
    "graphs = [nx.gnp_random_graph(50,0.2), nx.barabasi_albert_graph(n=50, m=2)]\n",
    "names = ['Grafo aleatorio', 'PAG']\n",
    "\n",
    "fig, axes = plt.subplots(nrows=1, ncols=2, figsize=(20,10))\n",
    "ax = axes.flatten()\n",
    "for i in range(2):\n",
    "    nx.draw_circular(graphs[i], ax=ax[i])\n",
    "    ax[i].set_axis_off()\n",
    "    ax[i].set_title(names[i])\n",
    "\n",
    "plt.show()"
   ]
  },
  {
   "cell_type": "markdown",
   "metadata": {
    "id": "uzYZyu4Hiat_"
   },
   "source": [
    "* Estudia y resuelve el algoritmo CPP (Chinese Postman Problem) usando networkx."
   ]
  },
  {
   "cell_type": "markdown",
   "metadata": {},
   "source": [
    "### Orden perfecto \n",
    "\n",
    "Un ordenamiento de los nodos en un grafo consiste en asignar un número entero a cada vértice. Dado un grafo $G =(V, E)$, con $n$ vértices, $\\alpha = [V_1, V_2,\\dots, Vn]$  es entonces un orden del grafo,  $V_i$ está antes de $V_j$ de acuerdo con este orden, si $i <j$. \n",
    "\n",
    "Un orden $\\alpha$ de un grafo $G = (V, E)$ es un ordenamiento perfecto si todos los vértices adyacentes de cada vértice $V_i$ que están antes de $Vi$, de acuerdo con ese orden, están completamente conectados. Es decir, para todo $i$, $Adj(V_i) \\cup \\{V_1, V_2,\\dots, V_{i-1}\\}$ es un subgrafo completo de $G$. $Adj(V_i)$ es el subconjunto de nodos en $G$ adyacente a $V_i$ . La figura siguiente muestra un ejemplo de ordenación perfecta, donde los nodos tienen un orden perfecto, y el orden de los cliques satisfacen la propiedad de intersección en ejecución.\n",
    "\n",
    "![](Ordenacion-perfecta.png)\n",
    "\n",
    "\n",
    "Considera el conjunto de cliques $C_1, C_2, \\dots, C_p$ de un grafo conectado no dirigido $G$. De manera análoga al orden de los nodos, podemos definir un orden de cliques, $β = [C_1, C_2,\\dots, C_p]$. Un orden $\\beta$ de los cliques tiene la propiedad de intersección continua, si todos los nodos comunes de cada clique $C_i$ con los cliques anteriores de acuerdo con este orden están contenidos en un clique $C_j$,  $C_j$ es el padre de $C_i$. En otras palabras, para cada clique $i> 1$ existe un clique $j <i$ tal que $C_i \\cap \\{C_1, C_2,\\dots, C_{i-1}\\} \\subseteq C_j$. \n",
    "\n",
    "Es posible que un clique tenga más de un padre. Los cliques $C_1$, $C_2$ y $C_3$ de la figura anterior tienen un orden perfecto. En este ejemplo, $C_1$ es el padre de $C_2$ y $C_1$ y $C_2$ son los padres de $C_3$. \n",
    "\n",
    "un grafo G se triangula si cada circuito simple de longitud mayor que tres en G tiene un acorde. Un acorde es una borde que conecta dos de los vértices del circuito y no forma parte de ese circuito. Por ejemplo, en la figura anterior el circuito formado por los vértices $1$, $2$, $4$, $3$, $1$ tiene un acorde que conecta los nodos $2$ y $3$. El grafo de la figura anterior está triangulado. \n",
    "\n",
    "En la figura siguiente se muestra un ejemplo de un grafo que no está triangulado.\n",
    "\n",
    "![](grafo-no-triangulado.png)\n",
    "\n",
    "Aunque visualmente este grafo pueda parecer triangulado, hay un circuito $1$, $2$, $5$, $4$, $1$ que no tiene ningún acorde. Una condición para lograr un orden perfecto de los vértices, y tener un orden de los cliques que satisfaga la propiedad de intersección en ejecución, es que el grafo esté triangulado. "
   ]
  },
  {
   "cell_type": "code",
   "execution_count": null,
   "metadata": {},
   "outputs": [],
   "source": []
  }
 ],
 "metadata": {
  "colab": {
   "collapsed_sections": [],
   "name": "Grafos.ipynb",
   "provenance": []
  },
  "kernelspec": {
   "display_name": "Pytorch",
   "language": "python",
   "name": "pytorch"
  },
  "language_info": {
   "codemirror_mode": {
    "name": "ipython",
    "version": 3
   },
   "file_extension": ".py",
   "mimetype": "text/x-python",
   "name": "python",
   "nbconvert_exporter": "python",
   "pygments_lexer": "ipython3",
   "version": "3.6.10"
  }
 },
 "nbformat": 4,
 "nbformat_minor": 1
}

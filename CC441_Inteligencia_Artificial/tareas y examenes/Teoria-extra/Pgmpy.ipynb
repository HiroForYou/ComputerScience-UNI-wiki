{
  "nbformat": 4,
  "nbformat_minor": 0,
  "metadata": {
    "kernelspec": {
      "display_name": "Python 3",
      "language": "python",
      "name": "python3"
    },
    "language_info": {
      "codemirror_mode": {
        "name": "ipython",
        "version": 3
      },
      "file_extension": ".py",
      "mimetype": "text/x-python",
      "name": "python",
      "nbconvert_exporter": "python",
      "pygments_lexer": "ipython3",
      "version": "3.7.7"
    },
    "colab": {
      "name": "Pgmpy.ipynb",
      "provenance": []
    }
  },
  "cells": [
    {
      "cell_type": "markdown",
      "metadata": {
        "id": "I6CsBUmnLdR1"
      },
      "source": [
        "##  Redes Bayesianas con pgmpy\n",
        "\n",
        "### Importando la librería pgmpy"
      ]
    },
    {
      "cell_type": "code",
      "metadata": {
        "id": "W9qC1E5oTDgT",
        "outputId": "61f82534-6e7b-48f6-8a2d-3f12cae7c51c",
        "colab": {
          "base_uri": "https://localhost:8080/"
        }
      },
      "source": [
        "!pip install pgmpy"
      ],
      "execution_count": 4,
      "outputs": [
        {
          "output_type": "stream",
          "text": [
            "Requirement already satisfied: pgmpy in /usr/local/lib/python3.6/dist-packages (0.1.13)\n",
            "Requirement already satisfied: joblib in /usr/local/lib/python3.6/dist-packages (from pgmpy) (1.0.0)\n",
            "Requirement already satisfied: tqdm in /usr/local/lib/python3.6/dist-packages (from pgmpy) (4.41.1)\n",
            "Requirement already satisfied: scikit-learn in /usr/local/lib/python3.6/dist-packages (from pgmpy) (0.22.2.post1)\n",
            "Requirement already satisfied: pandas in /usr/local/lib/python3.6/dist-packages (from pgmpy) (1.1.5)\n",
            "Requirement already satisfied: networkx in /usr/local/lib/python3.6/dist-packages (from pgmpy) (2.5)\n",
            "Requirement already satisfied: torch in /usr/local/lib/python3.6/dist-packages (from pgmpy) (1.7.0+cu101)\n",
            "Requirement already satisfied: statsmodels in /usr/local/lib/python3.6/dist-packages (from pgmpy) (0.10.2)\n",
            "Requirement already satisfied: numpy in /usr/local/lib/python3.6/dist-packages (from pgmpy) (1.19.4)\n",
            "Requirement already satisfied: pyparsing in /usr/local/lib/python3.6/dist-packages (from pgmpy) (2.4.7)\n",
            "Requirement already satisfied: scipy in /usr/local/lib/python3.6/dist-packages (from pgmpy) (1.4.1)\n",
            "Requirement already satisfied: python-dateutil>=2.7.3 in /usr/local/lib/python3.6/dist-packages (from pandas->pgmpy) (2.8.1)\n",
            "Requirement already satisfied: pytz>=2017.2 in /usr/local/lib/python3.6/dist-packages (from pandas->pgmpy) (2018.9)\n",
            "Requirement already satisfied: decorator>=4.3.0 in /usr/local/lib/python3.6/dist-packages (from networkx->pgmpy) (4.4.2)\n",
            "Requirement already satisfied: future in /usr/local/lib/python3.6/dist-packages (from torch->pgmpy) (0.16.0)\n",
            "Requirement already satisfied: dataclasses in /usr/local/lib/python3.6/dist-packages (from torch->pgmpy) (0.8)\n",
            "Requirement already satisfied: typing-extensions in /usr/local/lib/python3.6/dist-packages (from torch->pgmpy) (3.7.4.3)\n",
            "Requirement already satisfied: patsy>=0.4.0 in /usr/local/lib/python3.6/dist-packages (from statsmodels->pgmpy) (0.5.1)\n",
            "Requirement already satisfied: six>=1.5 in /usr/local/lib/python3.6/dist-packages (from python-dateutil>=2.7.3->pandas->pgmpy) (1.15.0)\n"
          ],
          "name": "stdout"
        }
      ]
    },
    {
      "cell_type": "code",
      "metadata": {
        "id": "jjPgNNNgLdSF"
      },
      "source": [
        "from pgmpy.models import BayesianModel"
      ],
      "execution_count": 5,
      "outputs": []
    },
    {
      "cell_type": "markdown",
      "metadata": {
        "id": "1P5MQ_t2LdSH"
      },
      "source": [
        "Creando un modelo PGM y agregamos todos nodos y bordes al modelo."
      ]
    },
    {
      "cell_type": "code",
      "metadata": {
        "id": "8RXY0TM3LdSI"
      },
      "source": [
        "G=BayesianModel()\n",
        "G.add_edges_from([('Polucion','Cancer'),('Cancer','Ambos'),('Fumar','Pulmones'),('Fumar','Bronquios'),('Pulmones','Ambos'),('Ambos','Xray'),('Ambos','Disnea'),('Bronquios','Disnea')])"
      ],
      "execution_count": 6,
      "outputs": []
    },
    {
      "cell_type": "markdown",
      "metadata": {
        "id": "j-mwpjVgLdSJ"
      },
      "source": [
        "Dibujamos todos los nodos y bordes del modelo."
      ]
    },
    {
      "cell_type": "code",
      "metadata": {
        "id": "5EoxpMngLdSK",
        "outputId": "52fa877f-f0bc-4279-9a83-9f640763354d",
        "colab": {
          "base_uri": "https://localhost:8080/",
          "height": 319
        }
      },
      "source": [
        "import networkx as nx\n",
        "import matplotlib.pyplot as plt\n",
        "\n",
        "\n",
        "nx.draw(G, with_labels=True,node_size=2000,node_color='pink',linewidths=1)\n",
        "plt.show()"
      ],
      "execution_count": 7,
      "outputs": [
        {
          "output_type": "display_data",
          "data": {
            "image/png": "[encoded data removed]",
            "text/plain": [
              "<Figure size 432x288 with 1 Axes>"
            ]
          },
          "metadata": {
            "tags": []
          }
        }
      ]
    },
    {
      "cell_type": "markdown",
      "metadata": {
        "id": "v_D4BdySLdSL"
      },
      "source": [
        "### Tablas de distribuciones de  probabilidad condicional"
      ]
    },
    {
      "cell_type": "code",
      "metadata": {
        "id": "d2aXKcTQLdSM"
      },
      "source": [
        "from pgmpy.factors.discrete.CPD import TabularCPD"
      ],
      "execution_count": 8,
      "outputs": []
    },
    {
      "cell_type": "code",
      "metadata": {
        "id": "oF9rUseALdSN"
      },
      "source": [
        "cpd_polucion = TabularCPD('Polucion',2,values=[[0.01],[0.99]])\n",
        "\n",
        "cpd_cancer = TabularCPD('Cancer',2,values=[[0.05,0.01],[0.95,0.99]],evidence=['Polucion'],evidence_card=[2])\n",
        "\n",
        "cpd_fumar = TabularCPD('Fumar',2,values=[[0.5],[0.5]])\n",
        "\n",
        "cpd_pulmones = TabularCPD('Pulmones',2,values=[[0.1,0.01],[0.9,0.99]],evidence=['Fumar'],evidence_card=[2])\n",
        "\n",
        "cpd_bronquios = TabularCPD('Bronquios',2,values=[[0.6,0.3],[0.4,0.7]],evidence=['Fumar'],evidence_card=[2])\n",
        "\n",
        "cpd_ambos = TabularCPD('Ambos',2,values=[[1,1,1,0],[0,0,0,1]],evidence=['Pulmones','Cancer'],evidence_card=[2,2])\n",
        "\n",
        "cpd_xray = TabularCPD('Xray',2,values=[[0.98,0.05],[0.02,0.95]],evidence=['Ambos'],evidence_card=[2])\n",
        "\n",
        "cpd_disnea = TabularCPD('Disnea',2,values=[[0.9,0.7,0.8,0.1],[0.1,0.3,0.2,0.9]],evidence=['Bronquios','Ambos'],evidence_card=[2,2])"
      ],
      "execution_count": 9,
      "outputs": []
    },
    {
      "cell_type": "code",
      "metadata": {
        "id": "5ADKhWgKLdSO"
      },
      "source": [
        "G.add_cpds(cpd_polucion, cpd_fumar, cpd_cancer, cpd_pulmones, cpd_bronquios, cpd_ambos, cpd_xray, cpd_disnea)"
      ],
      "execution_count": 10,
      "outputs": []
    },
    {
      "cell_type": "markdown",
      "metadata": {
        "id": "Q-5Bq8wxLdSP"
      },
      "source": [
        "Verificamos si los cpds son válidos para el modelo."
      ]
    },
    {
      "cell_type": "code",
      "metadata": {
        "id": "HVmEUvmxLdSQ",
        "outputId": "d735a318-a1aa-45b5-eebf-e92f6da087ee",
        "colab": {
          "base_uri": "https://localhost:8080/"
        }
      },
      "source": [
        "G.check_model()"
      ],
      "execution_count": 11,
      "outputs": [
        {
          "output_type": "execute_result",
          "data": {
            "text/plain": [
              "True"
            ]
          },
          "metadata": {
            "tags": []
          },
          "execution_count": 11
        }
      ]
    },
    {
      "cell_type": "markdown",
      "metadata": {
        "id": "VUwPzpNpLdSQ"
      },
      "source": [
        "#### Consultas a la red creada"
      ]
    },
    {
      "cell_type": "code",
      "metadata": {
        "id": "7_pirfVCLdSR",
        "outputId": "7e4398bb-370a-4d71-d994-a42b177c195e",
        "colab": {
          "base_uri": "https://localhost:8080/"
        }
      },
      "source": [
        "G.is_active_trail('Polucion', 'Fumar')\n"
      ],
      "execution_count": 12,
      "outputs": [
        {
          "output_type": "execute_result",
          "data": {
            "text/plain": [
              "False"
            ]
          },
          "metadata": {
            "tags": []
          },
          "execution_count": 12
        }
      ]
    },
    {
      "cell_type": "code",
      "metadata": {
        "id": "awMCXzTTLdSS",
        "outputId": "20d782ab-c60f-4c95-e3a1-bedea9b9038e",
        "colab": {
          "base_uri": "https://localhost:8080/"
        }
      },
      "source": [
        "G.is_active_trail('Polucion', 'Fumar', observed=['Cancer'])"
      ],
      "execution_count": 13,
      "outputs": [
        {
          "output_type": "execute_result",
          "data": {
            "text/plain": [
              "False"
            ]
          },
          "metadata": {
            "tags": []
          },
          "execution_count": 13
        }
      ]
    },
    {
      "cell_type": "code",
      "metadata": {
        "id": "ddXoQcyjLdSS",
        "outputId": "2f3cbe94-fc64-42ae-c10c-5e7c03e0882a",
        "colab": {
          "base_uri": "https://localhost:8080/"
        }
      },
      "source": [
        "G.get_independencies()"
      ],
      "execution_count": 14,
      "outputs": [
        {
          "output_type": "execute_result",
          "data": {
            "text/plain": [
              "(Polucion _|_ Bronquios, Pulmones, Fumar)\n",
              "(Polucion _|_ Pulmones, Fumar | Bronquios)\n",
              "(Polucion _|_ Bronquios, Pulmones | Fumar)\n",
              "(Polucion _|_ Bronquios, Fumar | Pulmones)\n",
              "(Polucion _|_ Pulmones, Disnea, Bronquios, Xray, Fumar, Ambos | Cancer)\n",
              "(Polucion _|_ Xray | Ambos)\n",
              "(Polucion _|_ Pulmones, Bronquios, Xray, Fumar, Ambos | Disnea, Cancer)\n",
              "(Polucion _|_ Xray | Disnea, Ambos)\n",
              "(Polucion _|_ Pulmones | Bronquios, Fumar)\n",
              "(Polucion _|_ Fumar | Bronquios, Pulmones)\n",
              "(Polucion _|_ Pulmones, Disnea, Xray, Fumar, Ambos | Bronquios, Cancer)\n",
              "(Polucion _|_ Xray, Disnea | Bronquios, Ambos)\n",
              "(Polucion _|_ Bronquios | Pulmones, Fumar)\n",
              "(Polucion _|_ Pulmones, Disnea, Bronquios, Xray, Ambos | Fumar, Cancer)\n",
              "(Polucion _|_ Bronquios | Xray, Fumar)\n",
              "(Polucion _|_ Bronquios, Xray, Disnea | Fumar, Ambos)\n",
              "(Polucion _|_ Disnea, Bronquios, Xray, Fumar, Ambos | Pulmones, Cancer)\n",
              "(Polucion _|_ Bronquios, Fumar | Xray, Pulmones)\n",
              "(Polucion _|_ Bronquios, Xray, Disnea, Fumar | Pulmones, Ambos)\n",
              "(Polucion _|_ Pulmones, Disnea, Bronquios, Fumar, Ambos | Xray, Cancer)\n",
              "(Polucion _|_ Pulmones, Disnea, Bronquios, Xray, Fumar | Ambos, Cancer)\n",
              "(Polucion _|_ Fumar | Bronquios, Pulmones, Disnea)\n",
              "(Polucion _|_ Pulmones, Xray, Fumar, Ambos | Bronquios, Disnea, Cancer)\n",
              "(Polucion _|_ Xray | Bronquios, Disnea, Ambos)\n",
              "(Polucion _|_ Bronquios, Pulmones, Xray, Ambos | Disnea, Fumar, Cancer)\n",
              "(Polucion _|_ Bronquios, Xray | Disnea, Fumar, Ambos)\n",
              "(Polucion _|_ Bronquios, Xray, Fumar, Ambos | Pulmones, Disnea, Cancer)\n",
              "(Polucion _|_ Bronquios, Xray, Fumar | Pulmones, Disnea, Ambos)\n",
              "(Polucion _|_ Bronquios, Pulmones, Fumar, Ambos | Xray, Disnea, Cancer)\n",
              "(Polucion _|_ Bronquios, Pulmones, Xray, Fumar | Ambos, Disnea, Cancer)\n",
              "(Polucion _|_ Pulmones, Xray, Disnea, Ambos | Bronquios, Fumar, Cancer)\n",
              "(Polucion _|_ Xray, Disnea | Bronquios, Fumar, Ambos)\n",
              "(Polucion _|_ Xray, Disnea, Fumar, Ambos | Bronquios, Pulmones, Cancer)\n",
              "(Polucion _|_ Fumar | Bronquios, Xray, Pulmones)\n",
              "(Polucion _|_ Xray, Disnea, Fumar | Bronquios, Pulmones, Ambos)\n",
              "(Polucion _|_ Pulmones, Disnea, Fumar, Ambos | Bronquios, Xray, Cancer)\n",
              "(Polucion _|_ Pulmones, Xray, Disnea, Fumar | Bronquios, Ambos, Cancer)\n",
              "(Polucion _|_ Disnea | Bronquios, Xray, Ambos)\n",
              "(Polucion _|_ Bronquios, Xray, Disnea, Ambos | Pulmones, Fumar, Cancer)\n",
              "(Polucion _|_ Bronquios | Xray, Pulmones, Fumar)\n",
              "(Polucion _|_ Bronquios, Xray, Disnea | Pulmones, Fumar, Ambos)\n",
              "(Polucion _|_ Bronquios, Pulmones, Disnea, Ambos | Xray, Fumar, Cancer)\n",
              "(Polucion _|_ Bronquios, Pulmones, Xray, Disnea | Ambos, Fumar, Cancer)\n",
              "(Polucion _|_ Bronquios, Disnea | Xray, Fumar, Ambos)\n",
              "(Polucion _|_ Bronquios, Disnea, Fumar, Ambos | Xray, Pulmones, Cancer)\n",
              "(Polucion _|_ Bronquios, Xray, Disnea, Fumar | Ambos, Pulmones, Cancer)\n",
              "(Polucion _|_ Bronquios, Disnea, Fumar | Xray, Pulmones, Ambos)\n",
              "(Polucion _|_ Bronquios, Pulmones, Disnea, Fumar | Ambos, Xray, Cancer)\n",
              "(Polucion _|_ Pulmones, Xray, Ambos | Bronquios, Disnea, Fumar, Cancer)\n",
              "(Polucion _|_ Xray | Bronquios, Disnea, Fumar, Ambos)\n",
              "(Polucion _|_ Xray, Fumar, Ambos | Bronquios, Pulmones, Disnea, Cancer)\n",
              "(Polucion _|_ Fumar | Bronquios, Xray, Pulmones, Disnea)\n",
              "(Polucion _|_ Xray, Fumar | Bronquios, Pulmones, Disnea, Ambos)\n",
              "(Polucion _|_ Pulmones, Fumar, Ambos | Bronquios, Xray, Disnea, Cancer)\n",
              "(Polucion _|_ Pulmones, Xray, Fumar | Bronquios, Ambos, Disnea, Cancer)\n",
              "(Polucion _|_ Bronquios, Xray, Ambos | Pulmones, Disnea, Fumar, Cancer)\n",
              "(Polucion _|_ Bronquios, Xray | Pulmones, Disnea, Fumar, Ambos)\n",
              "(Polucion _|_ Bronquios, Pulmones, Ambos | Xray, Disnea, Fumar, Cancer)\n",
              "(Polucion _|_ Bronquios, Pulmones, Xray | Ambos, Disnea, Fumar, Cancer)\n",
              "(Polucion _|_ Bronquios | Xray, Disnea, Fumar, Ambos)\n",
              "(Polucion _|_ Bronquios, Fumar, Ambos | Xray, Pulmones, Disnea, Cancer)\n",
              "(Polucion _|_ Bronquios, Xray, Fumar | Ambos, Pulmones, Disnea, Cancer)\n",
              "(Polucion _|_ Bronquios, Fumar | Xray, Pulmones, Disnea, Ambos)\n",
              "(Polucion _|_ Bronquios, Pulmones, Fumar | Ambos, Xray, Disnea, Cancer)\n",
              "(Polucion _|_ Xray, Disnea, Ambos | Bronquios, Pulmones, Fumar, Cancer)\n",
              "(Polucion _|_ Xray, Disnea | Bronquios, Pulmones, Fumar, Ambos)\n",
              "(Polucion _|_ Pulmones, Disnea, Ambos | Bronquios, Xray, Fumar, Cancer)\n",
              "(Polucion _|_ Pulmones, Xray, Disnea | Bronquios, Ambos, Fumar, Cancer)\n",
              "(Polucion _|_ Disnea | Bronquios, Xray, Fumar, Ambos)\n",
              "(Polucion _|_ Disnea, Fumar, Ambos | Bronquios, Xray, Pulmones, Cancer)\n",
              "(Polucion _|_ Xray, Disnea, Fumar | Bronquios, Ambos, Pulmones, Cancer)\n",
              "(Polucion _|_ Disnea, Fumar | Bronquios, Xray, Pulmones, Ambos)\n",
              "(Polucion _|_ Pulmones, Disnea, Fumar | Bronquios, Ambos, Xray, Cancer)\n",
              "(Polucion _|_ Bronquios, Disnea, Ambos | Xray, Pulmones, Fumar, Cancer)\n",
              "(Polucion _|_ Bronquios, Xray, Disnea | Ambos, Pulmones, Fumar, Cancer)\n",
              "(Polucion _|_ Bronquios, Disnea | Xray, Pulmones, Fumar, Ambos)\n",
              "(Polucion _|_ Bronquios, Pulmones, Disnea | Ambos, Xray, Fumar, Cancer)\n",
              "(Polucion _|_ Bronquios, Disnea, Fumar | Ambos, Xray, Pulmones, Cancer)\n",
              "(Polucion _|_ Xray, Ambos | Disnea, Bronquios, Fumar, Pulmones, Cancer)\n",
              "(Polucion _|_ Xray | Disnea, Bronquios, Fumar, Pulmones, Ambos)\n",
              "(Polucion _|_ Pulmones, Ambos | Disnea, Bronquios, Fumar, Xray, Cancer)\n",
              "(Polucion _|_ Pulmones, Xray | Disnea, Bronquios, Fumar, Cancer, Ambos)\n",
              "(Polucion _|_ Fumar, Ambos | Disnea, Bronquios, Pulmones, Xray, Cancer)\n",
              "(Polucion _|_ Xray, Fumar | Disnea, Bronquios, Pulmones, Cancer, Ambos)\n",
              "(Polucion _|_ Fumar | Disnea, Bronquios, Pulmones, Xray, Ambos)\n",
              "(Polucion _|_ Pulmones, Fumar | Disnea, Bronquios, Cancer, Xray, Ambos)\n",
              "(Polucion _|_ Bronquios, Ambos | Disnea, Fumar, Pulmones, Xray, Cancer)\n",
              "(Polucion _|_ Bronquios, Xray | Disnea, Fumar, Pulmones, Cancer, Ambos)\n",
              "(Polucion _|_ Bronquios | Disnea, Fumar, Pulmones, Xray, Ambos)\n",
              "(Polucion _|_ Bronquios, Pulmones | Disnea, Fumar, Cancer, Xray, Ambos)\n",
              "(Polucion _|_ Bronquios, Fumar | Disnea, Pulmones, Cancer, Xray, Ambos)\n",
              "(Polucion _|_ Disnea, Ambos | Bronquios, Fumar, Pulmones, Xray, Cancer)\n",
              "(Polucion _|_ Xray, Disnea | Bronquios, Fumar, Pulmones, Cancer, Ambos)\n",
              "(Polucion _|_ Disnea | Bronquios, Fumar, Pulmones, Xray, Ambos)\n",
              "(Polucion _|_ Pulmones, Disnea | Bronquios, Fumar, Cancer, Xray, Ambos)\n",
              "(Polucion _|_ Disnea, Fumar | Bronquios, Pulmones, Cancer, Xray, Ambos)\n",
              "(Polucion _|_ Bronquios, Disnea | Fumar, Pulmones, Cancer, Xray, Ambos)\n",
              "(Polucion _|_ Ambos | Disnea, Bronquios, Fumar, Pulmones, Xray, Cancer)\n",
              "(Polucion _|_ Xray | Disnea, Bronquios, Fumar, Pulmones, Ambos, Cancer)\n",
              "(Polucion _|_ Pulmones | Disnea, Bronquios, Fumar, Ambos, Xray, Cancer)\n",
              "(Polucion _|_ Fumar | Disnea, Bronquios, Pulmones, Ambos, Xray, Cancer)\n",
              "(Polucion _|_ Bronquios | Disnea, Fumar, Pulmones, Ambos, Xray, Cancer)\n",
              "(Polucion _|_ Disnea | Bronquios, Fumar, Pulmones, Ambos, Xray, Cancer)\n",
              "(Cancer _|_ Bronquios, Pulmones, Fumar)\n",
              "(Cancer _|_ Bronquios, Pulmones, Fumar | Polucion)\n",
              "(Cancer _|_ Pulmones, Fumar | Bronquios)\n",
              "(Cancer _|_ Bronquios, Pulmones | Fumar)\n",
              "(Cancer _|_ Bronquios, Fumar | Pulmones)\n",
              "(Cancer _|_ Xray | Ambos)\n",
              "(Cancer _|_ Xray | Disnea, Ambos)\n",
              "(Cancer _|_ Pulmones, Fumar | Bronquios, Polucion)\n",
              "(Cancer _|_ Bronquios, Pulmones | Fumar, Polucion)\n",
              "(Cancer _|_ Bronquios, Fumar | Pulmones, Polucion)\n",
              "(Cancer _|_ Xray | Ambos, Polucion)\n",
              "(Cancer _|_ Pulmones | Bronquios, Fumar)\n",
              "(Cancer _|_ Fumar | Bronquios, Pulmones)\n",
              "(Cancer _|_ Xray, Disnea | Bronquios, Ambos)\n",
              "(Cancer _|_ Bronquios | Pulmones, Fumar)\n",
              "(Cancer _|_ Bronquios | Xray, Fumar)\n",
              "(Cancer _|_ Bronquios, Xray, Disnea | Fumar, Ambos)\n",
              "(Cancer _|_ Bronquios, Fumar | Xray, Pulmones)\n",
              "(Cancer _|_ Bronquios, Xray, Disnea, Fumar | Pulmones, Ambos)\n",
              "(Cancer _|_ Xray | Ambos, Disnea, Polucion)\n",
              "(Cancer _|_ Fumar | Bronquios, Pulmones, Disnea)\n",
              "(Cancer _|_ Xray | Bronquios, Disnea, Ambos)\n",
              "(Cancer _|_ Bronquios, Xray | Disnea, Fumar, Ambos)\n",
              "(Cancer _|_ Bronquios, Xray, Fumar | Pulmones, Disnea, Ambos)\n",
              "(Cancer _|_ Pulmones | Bronquios, Fumar, Polucion)\n",
              "(Cancer _|_ Fumar | Bronquios, Pulmones, Polucion)\n",
              "(Cancer _|_ Xray, Disnea | Bronquios, Ambos, Polucion)\n",
              "(Cancer _|_ Bronquios | Pulmones, Fumar, Polucion)\n",
              "(Cancer _|_ Bronquios | Xray, Fumar, Polucion)\n",
              "(Cancer _|_ Bronquios, Xray, Disnea | Ambos, Fumar, Polucion)\n",
              "(Cancer _|_ Bronquios, Fumar | Xray, Pulmones, Polucion)\n",
              "(Cancer _|_ Bronquios, Xray, Disnea, Fumar | Ambos, Pulmones, Polucion)\n",
              "(Cancer _|_ Xray, Disnea | Bronquios, Fumar, Ambos)\n",
              "(Cancer _|_ Fumar | Bronquios, Xray, Pulmones)\n",
              "(Cancer _|_ Xray, Disnea, Fumar | Bronquios, Pulmones, Ambos)\n",
              "(Cancer _|_ Disnea | Bronquios, Xray, Ambos)\n",
              "(Cancer _|_ Bronquios | Xray, Pulmones, Fumar)\n",
              "(Cancer _|_ Bronquios, Xray, Disnea | Pulmones, Fumar, Ambos)\n",
              "(Cancer _|_ Bronquios, Disnea | Xray, Fumar, Ambos)\n",
              "(Cancer _|_ Bronquios, Disnea, Fumar | Xray, Pulmones, Ambos)\n",
              "(Cancer _|_ Fumar | Bronquios, Pulmones, Disnea, Polucion)\n",
              "(Cancer _|_ Xray | Bronquios, Ambos, Disnea, Polucion)\n",
              "(Cancer _|_ Bronquios, Xray | Ambos, Disnea, Fumar, Polucion)\n",
              "(Cancer _|_ Bronquios, Xray, Fumar | Ambos, Pulmones, Disnea, Polucion)\n",
              "(Cancer _|_ Xray | Bronquios, Disnea, Fumar, Ambos)\n",
              "(Cancer _|_ Fumar | Bronquios, Xray, Pulmones, Disnea)\n",
              "(Cancer _|_ Xray, Fumar | Bronquios, Pulmones, Disnea, Ambos)\n",
              "(Cancer _|_ Bronquios, Xray | Pulmones, Disnea, Fumar, Ambos)\n",
              "(Cancer _|_ Bronquios | Xray, Disnea, Fumar, Ambos)\n",
              "(Cancer _|_ Bronquios, Fumar | Xray, Pulmones, Disnea, Ambos)\n",
              "(Cancer _|_ Xray, Disnea | Bronquios, Ambos, Fumar, Polucion)\n",
              "(Cancer _|_ Fumar | Bronquios, Xray, Pulmones, Polucion)\n",
              "(Cancer _|_ Xray, Disnea, Fumar | Bronquios, Ambos, Pulmones, Polucion)\n",
              "(Cancer _|_ Disnea | Bronquios, Ambos, Xray, Polucion)\n",
              "(Cancer _|_ Bronquios | Xray, Pulmones, Fumar, Polucion)\n",
              "(Cancer _|_ Bronquios, Xray, Disnea | Ambos, Pulmones, Fumar, Polucion)\n",
              "(Cancer _|_ Bronquios, Disnea | Ambos, Xray, Fumar, Polucion)\n",
              "(Cancer _|_ Bronquios, Disnea, Fumar | Ambos, Xray, Pulmones, Polucion)\n",
              "(Cancer _|_ Xray, Disnea | Bronquios, Pulmones, Fumar, Ambos)\n",
              "(Cancer _|_ Disnea | Bronquios, Xray, Fumar, Ambos)\n",
              "(Cancer _|_ Disnea, Fumar | Bronquios, Xray, Pulmones, Ambos)\n",
              "(Cancer _|_ Bronquios, Disnea | Xray, Pulmones, Fumar, Ambos)\n",
              "(Cancer _|_ Xray | Disnea, Polucion, Bronquios, Fumar, Ambos)\n",
              "(Cancer _|_ Fumar | Disnea, Polucion, Bronquios, Pulmones, Xray)\n",
              "(Cancer _|_ Xray, Fumar | Disnea, Polucion, Bronquios, Pulmones, Ambos)\n",
              "(Cancer _|_ Bronquios, Xray | Disnea, Polucion, Fumar, Pulmones, Ambos)\n",
              "(Cancer _|_ Bronquios | Disnea, Polucion, Fumar, Xray, Ambos)\n",
              "(Cancer _|_ Bronquios, Fumar | Disnea, Polucion, Pulmones, Xray, Ambos)\n",
              "(Cancer _|_ Xray | Disnea, Bronquios, Fumar, Pulmones, Ambos)\n",
              "(Cancer _|_ Fumar | Disnea, Bronquios, Pulmones, Xray, Ambos)\n",
              "(Cancer _|_ Bronquios | Disnea, Fumar, Pulmones, Xray, Ambos)\n",
              "(Cancer _|_ Xray, Disnea | Polucion, Bronquios, Fumar, Pulmones, Ambos)\n",
              "(Cancer _|_ Disnea | Polucion, Bronquios, Fumar, Xray, Ambos)\n",
              "(Cancer _|_ Disnea, Fumar | Polucion, Bronquios, Pulmones, Xray, Ambos)\n",
              "(Cancer _|_ Bronquios, Disnea | Polucion, Fumar, Pulmones, Xray, Ambos)\n",
              "(Cancer _|_ Disnea | Bronquios, Fumar, Pulmones, Xray, Ambos)\n",
              "(Cancer _|_ Xray | Disnea, Polucion, Bronquios, Fumar, Pulmones, Ambos)\n",
              "(Cancer _|_ Fumar | Disnea, Polucion, Bronquios, Pulmones, Xray, Ambos)\n",
              "(Cancer _|_ Bronquios | Disnea, Polucion, Fumar, Pulmones, Xray, Ambos)\n",
              "(Cancer _|_ Disnea | Polucion, Bronquios, Fumar, Pulmones, Xray, Ambos)\n",
              "(Ambos _|_ Bronquios | Fumar)\n",
              "(Ambos _|_ Bronquios, Fumar | Pulmones)\n",
              "(Ambos _|_ Polucion | Cancer)\n",
              "(Ambos _|_ Polucion | Disnea, Cancer)\n",
              "(Ambos _|_ Bronquios | Fumar, Polucion)\n",
              "(Ambos _|_ Bronquios, Fumar | Pulmones, Polucion)\n",
              "(Ambos _|_ Fumar | Bronquios, Pulmones)\n",
              "(Ambos _|_ Polucion | Bronquios, Cancer)\n",
              "(Ambos _|_ Bronquios | Pulmones, Fumar)\n",
              "(Ambos _|_ Bronquios, Polucion | Fumar, Cancer)\n",
              "(Ambos _|_ Bronquios | Xray, Fumar)\n",
              "(Ambos _|_ Bronquios, Fumar, Polucion | Pulmones, Cancer)\n",
              "(Ambos _|_ Bronquios, Fumar | Xray, Pulmones)\n",
              "(Ambos _|_ Polucion | Xray, Cancer)\n",
              "(Ambos _|_ Fumar | Bronquios, Pulmones, Disnea)\n",
              "(Ambos _|_ Polucion | Bronquios, Disnea, Cancer)\n",
              "(Ambos _|_ Polucion | Disnea, Fumar, Cancer)\n",
              "(Ambos _|_ Polucion | Pulmones, Disnea, Cancer)\n",
              "(Ambos _|_ Polucion | Xray, Disnea, Cancer)\n",
              "(Ambos _|_ Fumar | Bronquios, Pulmones, Polucion)\n",
              "(Ambos _|_ Bronquios | Pulmones, Fumar, Polucion)\n",
              "(Ambos _|_ Bronquios | Cancer, Fumar, Polucion)\n",
              "(Ambos _|_ Bronquios | Xray, Fumar, Polucion)\n",
              "(Ambos _|_ Bronquios, Fumar | Cancer, Pulmones, Polucion)\n",
              "(Ambos _|_ Bronquios, Fumar | Xray, Pulmones, Polucion)\n",
              "(Ambos _|_ Polucion | Bronquios, Fumar, Cancer)\n",
              "(Ambos _|_ Fumar, Polucion | Bronquios, Pulmones, Cancer)\n",
              "(Ambos _|_ Fumar | Bronquios, Xray, Pulmones)\n",
              "(Ambos _|_ Polucion | Bronquios, Xray, Cancer)\n",
              "(Ambos _|_ Bronquios, Polucion | Pulmones, Fumar, Cancer)\n",
              "(Ambos _|_ Bronquios | Xray, Pulmones, Fumar)\n",
              "(Ambos _|_ Bronquios, Polucion | Xray, Fumar, Cancer)\n",
              "(Ambos _|_ Bronquios, Fumar, Polucion | Xray, Pulmones, Cancer)\n",
              "(Ambos _|_ Fumar | Bronquios, Pulmones, Disnea, Polucion)\n",
              "(Ambos _|_ Polucion | Bronquios, Disnea, Fumar, Cancer)\n",
              "(Ambos _|_ Fumar, Polucion | Bronquios, Pulmones, Disnea, Cancer)\n",
              "(Ambos _|_ Fumar | Bronquios, Xray, Pulmones, Disnea)\n",
              "(Ambos _|_ Polucion | Bronquios, Xray, Disnea, Cancer)\n",
              "(Ambos _|_ Polucion | Pulmones, Disnea, Fumar, Cancer)\n",
              "(Ambos _|_ Polucion | Xray, Disnea, Fumar, Cancer)\n",
              "(Ambos _|_ Polucion | Xray, Pulmones, Disnea, Cancer)\n",
              "(Ambos _|_ Fumar | Bronquios, Cancer, Pulmones, Polucion)\n",
              "(Ambos _|_ Fumar | Bronquios, Xray, Pulmones, Polucion)\n",
              "(Ambos _|_ Bronquios | Cancer, Pulmones, Fumar, Polucion)\n",
              "(Ambos _|_ Bronquios | Xray, Pulmones, Fumar, Polucion)\n",
              "(Ambos _|_ Bronquios | Cancer, Xray, Fumar, Polucion)\n",
              "(Ambos _|_ Bronquios, Fumar | Xray, Cancer, Pulmones, Polucion)\n",
              "(Ambos _|_ Polucion | Bronquios, Pulmones, Fumar, Cancer)\n",
              "(Ambos _|_ Polucion | Bronquios, Xray, Fumar, Cancer)\n",
              "(Ambos _|_ Fumar, Polucion | Bronquios, Xray, Pulmones, Cancer)\n",
              "(Ambos _|_ Bronquios, Polucion | Xray, Pulmones, Fumar, Cancer)\n",
              "(Ambos _|_ Fumar | Disnea, Polucion, Bronquios, Pulmones, Cancer)\n",
              "(Ambos _|_ Fumar | Disnea, Polucion, Bronquios, Pulmones, Xray)\n",
              "(Ambos _|_ Polucion | Disnea, Bronquios, Fumar, Pulmones, Cancer)\n",
              "(Ambos _|_ Polucion | Disnea, Bronquios, Fumar, Xray, Cancer)\n",
              "(Ambos _|_ Fumar, Polucion | Disnea, Bronquios, Pulmones, Xray, Cancer)\n",
              "(Ambos _|_ Polucion | Disnea, Fumar, Pulmones, Xray, Cancer)\n",
              "(Ambos _|_ Fumar | Polucion, Bronquios, Pulmones, Xray, Cancer)\n",
              "(Ambos _|_ Bronquios | Polucion, Fumar, Pulmones, Xray, Cancer)\n",
              "(Ambos _|_ Polucion | Bronquios, Fumar, Pulmones, Xray, Cancer)\n",
              "(Ambos _|_ Fumar | Disnea, Polucion, Bronquios, Pulmones, Xray, Cancer)\n",
              "(Ambos _|_ Polucion | Disnea, Bronquios, Fumar, Pulmones, Xray, Cancer)\n",
              "(Fumar _|_ Cancer, Polucion)\n",
              "(Fumar _|_ Cancer | Polucion)\n",
              "(Fumar _|_ Cancer, Polucion | Bronquios)\n",
              "(Fumar _|_ Ambos, Cancer, Xray, Polucion | Pulmones)\n",
              "(Fumar _|_ Polucion | Cancer)\n",
              "(Fumar _|_ Xray | Ambos)\n",
              "(Fumar _|_ Polucion | Disnea, Cancer)\n",
              "(Fumar _|_ Xray | Disnea, Ambos)\n",
              "(Fumar _|_ Cancer | Bronquios, Polucion)\n",
              "(Fumar _|_ Ambos, Xray, Cancer | Pulmones, Polucion)\n",
              "(Fumar _|_ Xray | Ambos, Polucion)\n",
              "(Fumar _|_ Disnea, Polucion, Ambos, Xray, Cancer | Bronquios, Pulmones)\n",
              "(Fumar _|_ Polucion | Bronquios, Cancer)\n",
              "(Fumar _|_ Xray, Disnea | Bronquios, Ambos)\n",
              "(Fumar _|_ Ambos, Xray, Polucion | Pulmones, Cancer)\n",
              "(Fumar _|_ Ambos, Cancer, Polucion | Xray, Pulmones)\n",
              "(Fumar _|_ Cancer, Xray, Polucion | Pulmones, Ambos)\n",
              "(Fumar _|_ Polucion | Xray, Cancer)\n",
              "(Fumar _|_ Xray, Polucion | Ambos, Cancer)\n",
              "(Fumar _|_ Xray | Ambos, Disnea, Polucion)\n",
              "(Fumar _|_ Polucion, Cancer, Xray, Ambos | Bronquios, Pulmones, Disnea)\n",
              "(Fumar _|_ Polucion | Bronquios, Disnea, Cancer)\n",
              "(Fumar _|_ Xray | Bronquios, Disnea, Ambos)\n",
              "(Fumar _|_ Polucion | Pulmones, Disnea, Cancer)\n",
              "(Fumar _|_ Polucion, Xray, Cancer | Pulmones, Disnea, Ambos)\n",
              "(Fumar _|_ Polucion | Xray, Disnea, Cancer)\n",
              "(Fumar _|_ Xray, Polucion | Ambos, Disnea, Cancer)\n",
              "(Fumar _|_ Cancer, Xray, Disnea, Ambos | Bronquios, Pulmones, Polucion)\n",
              "(Fumar _|_ Xray, Disnea | Bronquios, Ambos, Polucion)\n",
              "(Fumar _|_ Xray, Ambos | Cancer, Pulmones, Polucion)\n",
              "(Fumar _|_ Cancer, Ambos | Xray, Pulmones, Polucion)\n",
              "(Fumar _|_ Xray, Cancer | Ambos, Pulmones, Polucion)\n",
              "(Fumar _|_ Xray | Ambos, Cancer, Polucion)\n",
              "(Fumar _|_ Polucion, Xray, Disnea, Ambos | Bronquios, Pulmones, Cancer)\n",
              "(Fumar _|_ Polucion, Cancer, Disnea, Ambos | Bronquios, Xray, Pulmones)\n",
              "(Fumar _|_ Polucion, Xray, Disnea, Cancer | Bronquios, Pulmones, Ambos)\n",
              "(Fumar _|_ Polucion | Bronquios, Xray, Cancer)\n",
              "(Fumar _|_ Xray, Disnea, Polucion | Bronquios, Ambos, Cancer)\n",
              "(Fumar _|_ Disnea | Bronquios, Xray, Ambos)\n",
              "(Fumar _|_ Polucion, Ambos | Xray, Pulmones, Cancer)\n",
              "(Fumar _|_ Xray, Polucion | Ambos, Pulmones, Cancer)\n",
              "(Fumar _|_ Polucion, Cancer | Xray, Pulmones, Ambos)\n",
              "(Fumar _|_ Polucion | Ambos, Xray, Cancer)\n",
              "(Fumar _|_ Cancer, Xray, Ambos | Bronquios, Pulmones, Disnea, Polucion)\n",
              "(Fumar _|_ Xray | Bronquios, Ambos, Disnea, Polucion)\n",
              "(Fumar _|_ Xray, Cancer | Ambos, Pulmones, Disnea, Polucion)\n",
              "(Fumar _|_ Xray | Ambos, Cancer, Disnea, Polucion)\n",
              "(Fumar _|_ Polucion, Xray, Ambos | Bronquios, Pulmones, Disnea, Cancer)\n",
              "(Fumar _|_ Polucion, Cancer, Ambos | Bronquios, Xray, Pulmones, Disnea)\n",
              "(Fumar _|_ Polucion, Xray, Cancer | Bronquios, Pulmones, Disnea, Ambos)\n",
              "(Fumar _|_ Polucion | Bronquios, Xray, Disnea, Cancer)\n",
              "(Fumar _|_ Xray, Polucion | Bronquios, Ambos, Disnea, Cancer)\n",
              "(Fumar _|_ Polucion | Xray, Pulmones, Disnea, Cancer)\n",
              "(Fumar _|_ Xray, Polucion | Ambos, Pulmones, Disnea, Cancer)\n",
              "(Fumar _|_ Polucion, Cancer | Xray, Pulmones, Disnea, Ambos)\n",
              "(Fumar _|_ Polucion | Ambos, Xray, Disnea, Cancer)\n",
              "(Fumar _|_ Xray, Disnea, Ambos | Bronquios, Cancer, Pulmones, Polucion)\n",
              "(Fumar _|_ Cancer, Disnea, Ambos | Bronquios, Xray, Pulmones, Polucion)\n",
              "(Fumar _|_ Xray, Disnea, Cancer | Bronquios, Ambos, Pulmones, Polucion)\n",
              "(Fumar _|_ Xray, Disnea | Bronquios, Ambos, Cancer, Polucion)\n",
              "(Fumar _|_ Disnea | Bronquios, Ambos, Xray, Polucion)\n",
              "(Fumar _|_ Ambos | Xray, Cancer, Pulmones, Polucion)\n",
              "(Fumar _|_ Xray | Ambos, Cancer, Pulmones, Polucion)\n",
              "(Fumar _|_ Cancer | Ambos, Xray, Pulmones, Polucion)\n",
              "(Fumar _|_ Polucion, Disnea, Ambos | Bronquios, Xray, Pulmones, Cancer)\n",
              "(Fumar _|_ Xray, Disnea, Polucion | Bronquios, Ambos, Pulmones, Cancer)\n",
              "(Fumar _|_ Polucion, Disnea, Cancer | Bronquios, Xray, Pulmones, Ambos)\n",
              "(Fumar _|_ Disnea, Polucion | Bronquios, Ambos, Xray, Cancer)\n",
              "(Fumar _|_ Polucion | Ambos, Xray, Pulmones, Cancer)\n",
              "(Fumar _|_ Xray, Ambos | Disnea, Polucion, Bronquios, Pulmones, Cancer)\n",
              "(Fumar _|_ Cancer, Ambos | Disnea, Polucion, Bronquios, Pulmones, Xray)\n",
              "(Fumar _|_ Xray, Cancer | Disnea, Polucion, Bronquios, Pulmones, Ambos)\n",
              "(Fumar _|_ Xray | Disnea, Polucion, Bronquios, Cancer, Ambos)\n",
              "(Fumar _|_ Xray | Disnea, Polucion, Pulmones, Cancer, Ambos)\n",
              "(Fumar _|_ Cancer | Disnea, Polucion, Pulmones, Xray, Ambos)\n",
              "(Fumar _|_ Polucion, Ambos | Disnea, Bronquios, Pulmones, Xray, Cancer)\n",
              "(Fumar _|_ Xray, Polucion | Disnea, Bronquios, Pulmones, Cancer, Ambos)\n",
              "(Fumar _|_ Polucion, Cancer | Disnea, Bronquios, Pulmones, Xray, Ambos)\n",
              "(Fumar _|_ Polucion | Disnea, Bronquios, Cancer, Xray, Ambos)\n",
              "(Fumar _|_ Polucion | Disnea, Pulmones, Cancer, Xray, Ambos)\n",
              "(Fumar _|_ Disnea, Ambos | Polucion, Bronquios, Pulmones, Xray, Cancer)\n",
              "(Fumar _|_ Xray, Disnea | Polucion, Bronquios, Pulmones, Cancer, Ambos)\n",
              "(Fumar _|_ Disnea, Cancer | Polucion, Bronquios, Pulmones, Xray, Ambos)\n",
              "(Fumar _|_ Disnea | Polucion, Bronquios, Cancer, Xray, Ambos)\n",
              "(Fumar _|_ Disnea, Polucion | Bronquios, Pulmones, Cancer, Xray, Ambos)\n",
              "(Fumar _|_ Ambos | Disnea, Polucion, Bronquios, Pulmones, Xray, Cancer)\n",
              "(Fumar _|_ Xray | Disnea, Polucion, Bronquios, Pulmones, Ambos, Cancer)\n",
              "(Fumar _|_ Cancer | Disnea, Polucion, Bronquios, Pulmones, Xray, Ambos)\n",
              "(Fumar _|_ Polucion | Disnea, Bronquios, Pulmones, Ambos, Xray, Cancer)\n",
              "(Fumar _|_ Disnea | Polucion, Bronquios, Pulmones, Ambos, Xray, Cancer)\n",
              "(Pulmones _|_ Cancer, Polucion)\n",
              "(Pulmones _|_ Cancer | Polucion)\n",
              "(Pulmones _|_ Cancer, Polucion | Bronquios)\n",
              "(Pulmones _|_ Bronquios, Cancer, Polucion | Fumar)\n",
              "(Pulmones _|_ Polucion | Cancer)\n",
              "(Pulmones _|_ Xray | Ambos)\n",
              "(Pulmones _|_ Polucion | Disnea, Cancer)\n",
              "(Pulmones _|_ Xray | Disnea, Ambos)\n",
              "(Pulmones _|_ Cancer | Bronquios, Polucion)\n",
              "(Pulmones _|_ Bronquios, Cancer | Fumar, Polucion)\n",
              "(Pulmones _|_ Xray | Ambos, Polucion)\n",
              "(Pulmones _|_ Cancer, Polucion | Bronquios, Fumar)\n",
              "(Pulmones _|_ Polucion | Bronquios, Cancer)\n",
              "(Pulmones _|_ Xray, Disnea | Bronquios, Ambos)\n",
              "(Pulmones _|_ Bronquios, Polucion | Fumar, Cancer)\n",
              "(Pulmones _|_ Bronquios | Xray, Fumar)\n",
              "(Pulmones _|_ Bronquios, Xray, Disnea | Fumar, Ambos)\n",
              "(Pulmones _|_ Polucion | Xray, Cancer)\n",
              "(Pulmones _|_ Xray, Polucion | Ambos, Cancer)\n",
              "(Pulmones _|_ Xray | Ambos, Disnea, Polucion)\n",
              "(Pulmones _|_ Polucion | Bronquios, Disnea, Cancer)\n",
              "(Pulmones _|_ Xray | Bronquios, Disnea, Ambos)\n",
              "(Pulmones _|_ Polucion | Disnea, Fumar, Cancer)\n",
              "(Pulmones _|_ Bronquios, Xray | Disnea, Fumar, Ambos)\n",
              "(Pulmones _|_ Polucion | Xray, Disnea, Cancer)\n",
              "(Pulmones _|_ Xray, Polucion | Ambos, Disnea, Cancer)\n",
              "(Pulmones _|_ Cancer | Bronquios, Fumar, Polucion)\n",
              "(Pulmones _|_ Xray, Disnea | Bronquios, Ambos, Polucion)\n",
              "(Pulmones _|_ Bronquios | Cancer, Fumar, Polucion)\n",
              "(Pulmones _|_ Bronquios | Xray, Fumar, Polucion)\n",
              "(Pulmones _|_ Bronquios, Xray, Disnea | Ambos, Fumar, Polucion)\n",
              "(Pulmones _|_ Xray | Ambos, Cancer, Polucion)\n",
              "(Pulmones _|_ Polucion | Bronquios, Fumar, Cancer)\n",
              "(Pulmones _|_ Xray, Disnea | Bronquios, Fumar, Ambos)\n",
              "(Pulmones _|_ Polucion | Bronquios, Xray, Cancer)\n",
              "(Pulmones _|_ Xray, Disnea, Polucion | Bronquios, Ambos, Cancer)\n",
              "(Pulmones _|_ Disnea | Bronquios, Xray, Ambos)\n",
              "(Pulmones _|_ Bronquios, Polucion | Xray, Fumar, Cancer)\n",
              "(Pulmones _|_ Bronquios, Xray, Disnea, Polucion | Ambos, Fumar, Cancer)\n",
              "(Pulmones _|_ Bronquios, Disnea | Xray, Fumar, Ambos)\n",
              "(Pulmones _|_ Polucion | Ambos, Xray, Cancer)\n",
              "(Pulmones _|_ Xray | Bronquios, Ambos, Disnea, Polucion)\n",
              "(Pulmones _|_ Bronquios, Xray | Ambos, Disnea, Fumar, Polucion)\n",
              "(Pulmones _|_ Xray | Ambos, Cancer, Disnea, Polucion)\n",
              "(Pulmones _|_ Polucion | Bronquios, Disnea, Fumar, Cancer)\n",
              "(Pulmones _|_ Xray | Bronquios, Disnea, Fumar, Ambos)\n",
              "(Pulmones _|_ Polucion | Bronquios, Xray, Disnea, Cancer)\n",
              "(Pulmones _|_ Xray, Polucion | Bronquios, Ambos, Disnea, Cancer)\n",
              "(Pulmones _|_ Polucion | Xray, Disnea, Fumar, Cancer)\n",
              "(Pulmones _|_ Bronquios, Xray, Polucion | Ambos, Disnea, Fumar, Cancer)\n",
              "(Pulmones _|_ Bronquios | Xray, Disnea, Fumar, Ambos)\n",
              "(Pulmones _|_ Polucion | Ambos, Xray, Disnea, Cancer)\n",
              "(Pulmones _|_ Xray, Disnea | Bronquios, Ambos, Fumar, Polucion)\n",
              "(Pulmones _|_ Xray, Disnea | Bronquios, Ambos, Cancer, Polucion)\n",
              "(Pulmones _|_ Disnea | Bronquios, Ambos, Xray, Polucion)\n",
              "(Pulmones _|_ Bronquios | Cancer, Xray, Fumar, Polucion)\n",
              "(Pulmones _|_ Bronquios, Xray, Disnea | Ambos, Cancer, Fumar, Polucion)\n",
              "(Pulmones _|_ Bronquios, Disnea | Ambos, Xray, Fumar, Polucion)\n",
              "(Pulmones _|_ Polucion | Bronquios, Xray, Fumar, Cancer)\n",
              "(Pulmones _|_ Xray, Disnea, Polucion | Bronquios, Ambos, Fumar, Cancer)\n",
              "(Pulmones _|_ Disnea | Bronquios, Xray, Fumar, Ambos)\n",
              "(Pulmones _|_ Disnea, Polucion | Bronquios, Ambos, Xray, Cancer)\n",
              "(Pulmones _|_ Bronquios, Disnea, Polucion | Ambos, Xray, Fumar, Cancer)\n",
              "(Pulmones _|_ Xray | Disnea, Polucion, Bronquios, Fumar, Ambos)\n",
              "(Pulmones _|_ Xray | Disnea, Polucion, Bronquios, Cancer, Ambos)\n",
              "(Pulmones _|_ Bronquios, Xray | Disnea, Polucion, Fumar, Cancer, Ambos)\n",
              "(Pulmones _|_ Bronquios | Disnea, Polucion, Fumar, Xray, Ambos)\n",
              "(Pulmones _|_ Polucion | Disnea, Bronquios, Fumar, Xray, Cancer)\n",
              "(Pulmones _|_ Xray, Polucion | Disnea, Bronquios, Fumar, Cancer, Ambos)\n",
              "(Pulmones _|_ Polucion | Disnea, Bronquios, Cancer, Xray, Ambos)\n",
              "(Pulmones _|_ Bronquios, Polucion | Disnea, Fumar, Cancer, Xray, Ambos)\n",
              "(Pulmones _|_ Xray, Disnea | Polucion, Bronquios, Fumar, Cancer, Ambos)\n",
              "(Pulmones _|_ Disnea | Polucion, Bronquios, Fumar, Xray, Ambos)\n",
              "(Pulmones _|_ Disnea | Polucion, Bronquios, Cancer, Xray, Ambos)\n",
              "(Pulmones _|_ Bronquios, Disnea | Polucion, Fumar, Cancer, Xray, Ambos)\n",
              "(Pulmones _|_ Disnea, Polucion | Bronquios, Fumar, Cancer, Xray, Ambos)\n",
              "(Pulmones _|_ Xray | Disnea, Polucion, Bronquios, Fumar, Ambos, Cancer)\n",
              "(Pulmones _|_ Bronquios | Disnea, Polucion, Fumar, Ambos, Xray, Cancer)\n",
              "(Pulmones _|_ Polucion | Disnea, Bronquios, Fumar, Ambos, Xray, Cancer)\n",
              "(Pulmones _|_ Disnea | Polucion, Bronquios, Fumar, Ambos, Xray, Cancer)\n",
              "(Bronquios _|_ Cancer, Polucion)\n",
              "(Bronquios _|_ Cancer | Polucion)\n",
              "(Bronquios _|_ Pulmones, Polucion, Ambos, Xray, Cancer | Fumar)\n",
              "(Bronquios _|_ Ambos, Cancer, Xray, Polucion | Pulmones)\n",
              "(Bronquios _|_ Polucion | Cancer)\n",
              "(Bronquios _|_ Xray | Ambos)\n",
              "(Bronquios _|_ Polucion | Disnea, Cancer)\n",
              "(Bronquios _|_ Xray | Disnea, Ambos)\n",
              "(Bronquios _|_ Ambos, Xray, Pulmones, Cancer | Fumar, Polucion)\n",
              "(Bronquios _|_ Ambos, Xray, Cancer | Pulmones, Polucion)\n",
              "(Bronquios _|_ Xray | Ambos, Polucion)\n",
              "(Bronquios _|_ Ambos, Cancer, Xray, Polucion | Pulmones, Fumar)\n",
              "(Bronquios _|_ Ambos, Xray, Pulmones, Polucion | Fumar, Cancer)\n",
              "(Bronquios _|_ Ambos, Cancer, Pulmones, Polucion | Xray, Fumar)\n",
              "(Bronquios _|_ Xray, Cancer, Pulmones, Polucion | Fumar, Ambos)\n",
              "(Bronquios _|_ Ambos, Xray, Polucion | Pulmones, Cancer)\n",
              "(Bronquios _|_ Ambos, Cancer, Polucion | Xray, Pulmones)\n",
              "(Bronquios _|_ Cancer, Xray, Polucion | Pulmones, Ambos)\n",
              "(Bronquios _|_ Polucion | Xray, Cancer)\n",
              "(Bronquios _|_ Xray, Polucion | Ambos, Cancer)\n",
              "(Bronquios _|_ Xray | Ambos, Disnea, Polucion)\n",
              "(Bronquios _|_ Polucion | Disnea, Fumar, Cancer)\n",
              "(Bronquios _|_ Pulmones, Xray, Polucion, Cancer | Disnea, Fumar, Ambos)\n",
              "(Bronquios _|_ Polucion | Pulmones, Disnea, Cancer)\n",
              "(Bronquios _|_ Polucion, Xray, Cancer | Pulmones, Disnea, Ambos)\n",
              "(Bronquios _|_ Polucion | Xray, Disnea, Cancer)\n",
              "(Bronquios _|_ Xray, Polucion | Ambos, Disnea, Cancer)\n",
              "(Bronquios _|_ Cancer, Xray, Ambos | Pulmones, Fumar, Polucion)\n",
              "(Bronquios _|_ Pulmones, Xray, Ambos | Cancer, Fumar, Polucion)\n",
              "(Bronquios _|_ Cancer, Pulmones, Ambos | Xray, Fumar, Polucion)\n",
              "(Bronquios _|_ Pulmones, Xray, Cancer | Ambos, Fumar, Polucion)\n",
              "(Bronquios _|_ Xray, Ambos | Cancer, Pulmones, Polucion)\n",
              "(Bronquios _|_ Cancer, Ambos | Xray, Pulmones, Polucion)\n",
              "(Bronquios _|_ Xray, Cancer | Ambos, Pulmones, Polucion)\n",
              "(Bronquios _|_ Xray | Ambos, Cancer, Polucion)\n",
              "(Bronquios _|_ Polucion, Xray, Ambos | Pulmones, Fumar, Cancer)\n",
              "(Bronquios _|_ Polucion, Cancer, Ambos | Xray, Pulmones, Fumar)\n",
              "(Bronquios _|_ Polucion, Xray, Cancer | Pulmones, Fumar, Ambos)\n",
              "(Bronquios _|_ Polucion, Pulmones, Ambos | Xray, Fumar, Cancer)\n",
              "(Bronquios _|_ Pulmones, Xray, Polucion | Ambos, Fumar, Cancer)\n",
              "(Bronquios _|_ Polucion, Pulmones, Cancer | Xray, Fumar, Ambos)\n",
              "(Bronquios _|_ Polucion, Ambos | Xray, Pulmones, Cancer)\n",
              "(Bronquios _|_ Xray, Polucion | Ambos, Pulmones, Cancer)\n",
              "(Bronquios _|_ Polucion, Cancer | Xray, Pulmones, Ambos)\n",
              "(Bronquios _|_ Polucion | Ambos, Xray, Cancer)\n",
              "(Bronquios _|_ Pulmones, Xray, Cancer | Ambos, Disnea, Fumar, Polucion)\n",
              "(Bronquios _|_ Xray, Cancer | Ambos, Pulmones, Disnea, Polucion)\n",
              "(Bronquios _|_ Xray | Ambos, Cancer, Disnea, Polucion)\n",
              "(Bronquios _|_ Polucion | Pulmones, Disnea, Fumar, Cancer)\n",
              "(Bronquios _|_ Polucion, Xray, Cancer | Pulmones, Disnea, Fumar, Ambos)\n",
              "(Bronquios _|_ Polucion | Xray, Disnea, Fumar, Cancer)\n",
              "(Bronquios _|_ Pulmones, Xray, Polucion | Ambos, Disnea, Fumar, Cancer)\n",
              "(Bronquios _|_ Polucion, Pulmones, Cancer | Xray, Disnea, Fumar, Ambos)\n",
              "(Bronquios _|_ Polucion | Xray, Pulmones, Disnea, Cancer)\n",
              "(Bronquios _|_ Xray, Polucion | Ambos, Pulmones, Disnea, Cancer)\n",
              "(Bronquios _|_ Polucion, Cancer | Xray, Pulmones, Disnea, Ambos)\n",
              "(Bronquios _|_ Polucion | Ambos, Xray, Disnea, Cancer)\n",
              "(Bronquios _|_ Xray, Ambos | Cancer, Pulmones, Fumar, Polucion)\n",
              "(Bronquios _|_ Cancer, Ambos | Xray, Pulmones, Fumar, Polucion)\n",
              "(Bronquios _|_ Xray, Cancer | Ambos, Pulmones, Fumar, Polucion)\n",
              "(Bronquios _|_ Pulmones, Ambos | Cancer, Xray, Fumar, Polucion)\n",
              "(Bronquios _|_ Pulmones, Xray | Ambos, Cancer, Fumar, Polucion)\n",
              "(Bronquios _|_ Pulmones, Cancer | Ambos, Xray, Fumar, Polucion)\n",
              "(Bronquios _|_ Ambos | Xray, Cancer, Pulmones, Polucion)\n",
              "(Bronquios _|_ Xray | Ambos, Cancer, Pulmones, Polucion)\n",
              "(Bronquios _|_ Cancer | Ambos, Xray, Pulmones, Polucion)\n",
              "(Bronquios _|_ Polucion, Ambos | Xray, Pulmones, Fumar, Cancer)\n",
              "(Bronquios _|_ Xray, Polucion | Ambos, Pulmones, Fumar, Cancer)\n",
              "(Bronquios _|_ Polucion, Cancer | Xray, Pulmones, Fumar, Ambos)\n",
              "(Bronquios _|_ Pulmones, Polucion | Ambos, Xray, Fumar, Cancer)\n",
              "(Bronquios _|_ Polucion | Ambos, Xray, Pulmones, Cancer)\n",
              "(Bronquios _|_ Xray, Cancer | Disnea, Polucion, Fumar, Pulmones, Ambos)\n",
              "(Bronquios _|_ Pulmones, Xray | Disnea, Polucion, Fumar, Cancer, Ambos)\n",
              "(Bronquios _|_ Pulmones, Cancer | Disnea, Polucion, Fumar, Xray, Ambos)\n",
              "(Bronquios _|_ Xray | Disnea, Polucion, Pulmones, Cancer, Ambos)\n",
              "(Bronquios _|_ Cancer | Disnea, Polucion, Pulmones, Xray, Ambos)\n",
              "(Bronquios _|_ Polucion | Disnea, Fumar, Pulmones, Xray, Cancer)\n",
              "(Bronquios _|_ Xray, Polucion | Disnea, Fumar, Pulmones, Cancer, Ambos)\n",
              "(Bronquios _|_ Polucion, Cancer | Disnea, Fumar, Pulmones, Xray, Ambos)\n",
              "(Bronquios _|_ Pulmones, Polucion | Disnea, Fumar, Cancer, Xray, Ambos)\n",
              "(Bronquios _|_ Polucion | Disnea, Pulmones, Cancer, Xray, Ambos)\n",
              "(Bronquios _|_ Ambos | Polucion, Fumar, Pulmones, Xray, Cancer)\n",
              "(Bronquios _|_ Xray | Polucion, Fumar, Pulmones, Cancer, Ambos)\n",
              "(Bronquios _|_ Cancer | Polucion, Fumar, Pulmones, Xray, Ambos)\n",
              "(Bronquios _|_ Pulmones | Polucion, Fumar, Cancer, Xray, Ambos)\n",
              "(Bronquios _|_ Polucion | Fumar, Pulmones, Cancer, Xray, Ambos)\n",
              "(Bronquios _|_ Xray | Disnea, Polucion, Fumar, Pulmones, Ambos, Cancer)\n",
              "(Bronquios _|_ Cancer | Disnea, Polucion, Fumar, Pulmones, Xray, Ambos)\n",
              "(Bronquios _|_ Pulmones | Disnea, Polucion, Fumar, Ambos, Xray, Cancer)\n",
              "(Bronquios _|_ Polucion | Disnea, Fumar, Pulmones, Ambos, Xray, Cancer)\n",
              "(Xray _|_ Bronquios | Fumar)\n",
              "(Xray _|_ Bronquios, Fumar | Pulmones)\n",
              "(Xray _|_ Polucion | Cancer)\n",
              "(Xray _|_ Pulmones, Disnea, Polucion, Bronquios, Fumar, Cancer | Ambos)\n",
              "(Xray _|_ Polucion | Disnea, Cancer)\n",
              "(Xray _|_ Pulmones, Polucion, Bronquios, Fumar, Cancer | Disnea, Ambos)\n",
              "(Xray _|_ Bronquios | Fumar, Polucion)\n",
              "(Xray _|_ Bronquios, Fumar | Pulmones, Polucion)\n",
              "(Xray _|_ Pulmones, Disnea, Bronquios, Fumar, Cancer | Ambos, Polucion)\n",
              "(Xray _|_ Fumar | Bronquios, Pulmones)\n",
              "(Xray _|_ Polucion | Bronquios, Cancer)\n",
              "(Xray _|_ Pulmones, Disnea, Polucion, Fumar, Cancer | Bronquios, Ambos)\n",
              "(Xray _|_ Bronquios | Pulmones, Fumar)\n",
              "(Xray _|_ Bronquios, Polucion | Fumar, Cancer)\n",
              "(Xray _|_ Pulmones, Disnea, Polucion, Bronquios, Cancer | Fumar, Ambos)\n",
              "(Xray _|_ Bronquios, Fumar, Polucion | Pulmones, Cancer)\n",
              "(Xray _|_ Disnea, Polucion, Bronquios, Fumar, Cancer | Pulmones, Ambos)\n",
              "(Xray _|_ Pulmones, Disnea, Polucion, Bronquios, Fumar | Ambos, Cancer)\n",
              "(Xray _|_ Bronquios, Pulmones, Fumar, Cancer | Ambos, Disnea, Polucion)\n",
              "(Xray _|_ Fumar | Bronquios, Pulmones, Disnea)\n",
              "(Xray _|_ Polucion | Bronquios, Disnea, Cancer)\n",
              "(Xray _|_ Polucion, Pulmones, Fumar, Cancer | Bronquios, Disnea, Ambos)\n",
              "(Xray _|_ Polucion | Disnea, Fumar, Cancer)\n",
              "(Xray _|_ Bronquios, Pulmones, Polucion, Cancer | Disnea, Fumar, Ambos)\n",
              "(Xray _|_ Polucion | Pulmones, Disnea, Cancer)\n",
              "(Xray _|_ Bronquios, Polucion, Fumar, Cancer | Pulmones, Disnea, Ambos)\n",
              "(Xray _|_ Bronquios, Pulmones, Fumar, Polucion | Ambos, Disnea, Cancer)\n",
              "(Xray _|_ Fumar | Bronquios, Pulmones, Polucion)\n",
              "(Xray _|_ Pulmones, Disnea, Fumar, Cancer | Bronquios, Ambos, Polucion)\n",
              "(Xray _|_ Bronquios | Pulmones, Fumar, Polucion)\n",
              "(Xray _|_ Bronquios | Cancer, Fumar, Polucion)\n",
              "(Xray _|_ Bronquios, Pulmones, Disnea, Cancer | Ambos, Fumar, Polucion)\n",
              "(Xray _|_ Bronquios, Fumar | Cancer, Pulmones, Polucion)\n",
              "(Xray _|_ Bronquios, Disnea, Fumar, Cancer | Ambos, Pulmones, Polucion)\n",
              "(Xray _|_ Bronquios, Pulmones, Disnea, Fumar | Ambos, Cancer, Polucion)\n",
              "(Xray _|_ Polucion | Bronquios, Fumar, Cancer)\n",
              "(Xray _|_ Polucion, Pulmones, Disnea, Cancer | Bronquios, Fumar, Ambos)\n",
              "(Xray _|_ Fumar, Polucion | Bronquios, Pulmones, Cancer)\n",
              "(Xray _|_ Polucion, Disnea, Fumar, Cancer | Bronquios, Pulmones, Ambos)\n",
              "(Xray _|_ Pulmones, Disnea, Fumar, Polucion | Bronquios, Ambos, Cancer)\n",
              "(Xray _|_ Bronquios, Polucion | Pulmones, Fumar, Cancer)\n",
              "(Xray _|_ Bronquios, Disnea, Polucion, Cancer | Pulmones, Fumar, Ambos)\n",
              "(Xray _|_ Bronquios, Pulmones, Disnea, Polucion | Ambos, Fumar, Cancer)\n",
              "(Xray _|_ Bronquios, Disnea, Fumar, Polucion | Ambos, Pulmones, Cancer)\n",
              "(Xray _|_ Fumar | Bronquios, Pulmones, Disnea, Polucion)\n",
              "(Xray _|_ Pulmones, Fumar, Cancer | Bronquios, Ambos, Disnea, Polucion)\n",
              "(Xray _|_ Bronquios, Pulmones, Cancer | Ambos, Disnea, Fumar, Polucion)\n",
              "(Xray _|_ Bronquios, Fumar, Cancer | Ambos, Pulmones, Disnea, Polucion)\n",
              "(Xray _|_ Bronquios, Pulmones, Fumar | Ambos, Cancer, Disnea, Polucion)\n",
              "(Xray _|_ Polucion | Bronquios, Disnea, Fumar, Cancer)\n",
              "(Xray _|_ Polucion, Pulmones, Cancer | Bronquios, Disnea, Fumar, Ambos)\n",
              "(Xray _|_ Fumar, Polucion | Bronquios, Pulmones, Disnea, Cancer)\n",
              "(Xray _|_ Polucion, Fumar, Cancer | Bronquios, Pulmones, Disnea, Ambos)\n",
              "(Xray _|_ Pulmones, Fumar, Polucion | Bronquios, Ambos, Disnea, Cancer)\n",
              "(Xray _|_ Polucion | Pulmones, Disnea, Fumar, Cancer)\n",
              "(Xray _|_ Bronquios, Polucion, Cancer | Pulmones, Disnea, Fumar, Ambos)\n",
              "(Xray _|_ Bronquios, Pulmones, Polucion | Ambos, Disnea, Fumar, Cancer)\n",
              "(Xray _|_ Bronquios, Fumar, Polucion | Ambos, Pulmones, Disnea, Cancer)\n",
              "(Xray _|_ Pulmones, Disnea, Cancer | Bronquios, Ambos, Fumar, Polucion)\n",
              "(Xray _|_ Fumar | Bronquios, Cancer, Pulmones, Polucion)\n",
              "(Xray _|_ Disnea, Fumar, Cancer | Bronquios, Ambos, Pulmones, Polucion)\n",
              "(Xray _|_ Pulmones, Disnea, Fumar | Bronquios, Ambos, Cancer, Polucion)\n",
              "(Xray _|_ Bronquios | Cancer, Pulmones, Fumar, Polucion)\n",
              "(Xray _|_ Bronquios, Disnea, Cancer | Ambos, Pulmones, Fumar, Polucion)\n",
              "(Xray _|_ Bronquios, Pulmones, Disnea | Ambos, Cancer, Fumar, Polucion)\n",
              "(Xray _|_ Bronquios, Disnea, Fumar | Ambos, Cancer, Pulmones, Polucion)\n",
              "(Xray _|_ Polucion | Bronquios, Pulmones, Fumar, Cancer)\n",
              "(Xray _|_ Polucion, Disnea, Cancer | Bronquios, Pulmones, Fumar, Ambos)\n",
              "(Xray _|_ Pulmones, Disnea, Polucion | Bronquios, Ambos, Fumar, Cancer)\n",
              "(Xray _|_ Disnea, Fumar, Polucion | Bronquios, Ambos, Pulmones, Cancer)\n",
              "(Xray _|_ Bronquios, Disnea, Polucion | Ambos, Pulmones, Fumar, Cancer)\n",
              "(Xray _|_ Pulmones, Cancer | Disnea, Polucion, Bronquios, Fumar, Ambos)\n",
              "(Xray _|_ Fumar | Disnea, Polucion, Bronquios, Pulmones, Cancer)\n",
              "(Xray _|_ Fumar, Cancer | Disnea, Polucion, Bronquios, Pulmones, Ambos)\n",
              "(Xray _|_ Pulmones, Fumar | Disnea, Polucion, Bronquios, Cancer, Ambos)\n",
              "(Xray _|_ Bronquios, Cancer | Disnea, Polucion, Fumar, Pulmones, Ambos)\n",
              "(Xray _|_ Bronquios, Pulmones | Disnea, Polucion, Fumar, Cancer, Ambos)\n",
              "(Xray _|_ Bronquios, Fumar | Disnea, Polucion, Pulmones, Cancer, Ambos)\n",
              "(Xray _|_ Polucion | Disnea, Bronquios, Fumar, Pulmones, Cancer)\n",
              "(Xray _|_ Polucion, Cancer | Disnea, Bronquios, Fumar, Pulmones, Ambos)\n",
              "(Xray _|_ Pulmones, Polucion | Disnea, Bronquios, Fumar, Cancer, Ambos)\n",
              "(Xray _|_ Fumar, Polucion | Disnea, Bronquios, Pulmones, Cancer, Ambos)\n",
              "(Xray _|_ Bronquios, Polucion | Disnea, Fumar, Pulmones, Cancer, Ambos)\n",
              "(Xray _|_ Disnea, Cancer | Polucion, Bronquios, Fumar, Pulmones, Ambos)\n",
              "(Xray _|_ Pulmones, Disnea | Polucion, Bronquios, Fumar, Cancer, Ambos)\n",
              "(Xray _|_ Disnea, Fumar | Polucion, Bronquios, Pulmones, Cancer, Ambos)\n",
              "(Xray _|_ Bronquios, Disnea | Polucion, Fumar, Pulmones, Cancer, Ambos)\n",
              "(Xray _|_ Disnea, Polucion | Bronquios, Fumar, Pulmones, Cancer, Ambos)\n",
              "(Xray _|_ Cancer | Disnea, Polucion, Bronquios, Fumar, Pulmones, Ambos)\n",
              "(Xray _|_ Pulmones | Disnea, Polucion, Bronquios, Fumar, Ambos, Cancer)\n",
              "(Xray _|_ Fumar | Disnea, Polucion, Bronquios, Pulmones, Ambos, Cancer)\n",
              "(Xray _|_ Bronquios | Disnea, Polucion, Fumar, Pulmones, Ambos, Cancer)\n",
              "(Xray _|_ Polucion | Disnea, Bronquios, Fumar, Pulmones, Ambos, Cancer)\n",
              "(Xray _|_ Disnea | Polucion, Bronquios, Fumar, Pulmones, Ambos, Cancer)\n",
              "(Disnea _|_ Polucion | Cancer)\n",
              "(Disnea _|_ Xray | Ambos)\n",
              "(Disnea _|_ Xray | Ambos, Polucion)\n",
              "(Disnea _|_ Fumar | Bronquios, Pulmones)\n",
              "(Disnea _|_ Polucion | Bronquios, Cancer)\n",
              "(Disnea _|_ Pulmones, Polucion, Xray, Fumar, Cancer | Bronquios, Ambos)\n",
              "(Disnea _|_ Polucion | Fumar, Cancer)\n",
              "(Disnea _|_ Xray, Cancer, Pulmones, Polucion | Fumar, Ambos)\n",
              "(Disnea _|_ Polucion | Pulmones, Cancer)\n",
              "(Disnea _|_ Cancer, Xray, Polucion | Pulmones, Ambos)\n",
              "(Disnea _|_ Polucion | Xray, Cancer)\n",
              "(Disnea _|_ Xray, Polucion | Ambos, Cancer)\n",
              "(Disnea _|_ Fumar | Bronquios, Pulmones, Polucion)\n",
              "(Disnea _|_ Pulmones, Xray, Fumar, Cancer | Bronquios, Ambos, Polucion)\n",
              "(Disnea _|_ Pulmones, Xray, Cancer | Ambos, Fumar, Polucion)\n",
              "(Disnea _|_ Xray, Cancer | Ambos, Pulmones, Polucion)\n",
              "(Disnea _|_ Xray | Ambos, Cancer, Polucion)\n",
              "(Disnea _|_ Polucion | Bronquios, Fumar, Cancer)\n",
              "(Disnea _|_ Pulmones, Xray, Polucion, Cancer | Bronquios, Fumar, Ambos)\n",
              "(Disnea _|_ Fumar, Polucion | Bronquios, Pulmones, Cancer)\n",
              "(Disnea _|_ Fumar | Bronquios, Xray, Pulmones)\n",
              "(Disnea _|_ Polucion, Xray, Fumar, Cancer | Bronquios, Pulmones, Ambos)\n",
              "(Disnea _|_ Polucion | Bronquios, Xray, Cancer)\n",
              "(Disnea _|_ Pulmones, Xray, Fumar, Polucion | Bronquios, Ambos, Cancer)\n",
              "(Disnea _|_ Polucion, Pulmones, Fumar, Cancer | Bronquios, Xray, Ambos)\n",
              "(Disnea _|_ Polucion | Pulmones, Fumar, Cancer)\n",
              "(Disnea _|_ Polucion, Xray, Cancer | Pulmones, Fumar, Ambos)\n",
              "(Disnea _|_ Polucion | Xray, Fumar, Cancer)\n",
              "(Disnea _|_ Pulmones, Xray, Polucion | Ambos, Fumar, Cancer)\n",
              "(Disnea _|_ Polucion, Pulmones, Cancer | Xray, Fumar, Ambos)\n",
              "(Disnea _|_ Polucion | Xray, Pulmones, Cancer)\n",
              "(Disnea _|_ Xray, Polucion | Ambos, Pulmones, Cancer)\n",
              "(Disnea _|_ Polucion, Cancer | Xray, Pulmones, Ambos)\n",
              "(Disnea _|_ Polucion | Ambos, Xray, Cancer)\n",
              "(Disnea _|_ Pulmones, Xray, Cancer | Bronquios, Ambos, Fumar, Polucion)\n",
              "(Disnea _|_ Fumar | Bronquios, Cancer, Pulmones, Polucion)\n",
              "(Disnea _|_ Fumar | Bronquios, Xray, Pulmones, Polucion)\n",
              "(Disnea _|_ Xray, Fumar, Cancer | Bronquios, Ambos, Pulmones, Polucion)\n",
              "(Disnea _|_ Pulmones, Xray, Fumar | Bronquios, Ambos, Cancer, Polucion)\n",
              "(Disnea _|_ Pulmones, Fumar, Cancer | Bronquios, Ambos, Xray, Polucion)\n",
              "(Disnea _|_ Xray, Cancer | Ambos, Pulmones, Fumar, Polucion)\n",
              "(Disnea _|_ Pulmones, Xray | Ambos, Cancer, Fumar, Polucion)\n",
              "(Disnea _|_ Pulmones, Cancer | Ambos, Xray, Fumar, Polucion)\n",
              "(Disnea _|_ Xray | Ambos, Cancer, Pulmones, Polucion)\n",
              "(Disnea _|_ Cancer | Ambos, Xray, Pulmones, Polucion)\n",
              "(Disnea _|_ Polucion | Bronquios, Pulmones, Fumar, Cancer)\n",
              "(Disnea _|_ Polucion, Xray, Cancer | Bronquios, Pulmones, Fumar, Ambos)\n",
              "(Disnea _|_ Polucion | Bronquios, Xray, Fumar, Cancer)\n",
              "(Disnea _|_ Pulmones, Xray, Polucion | Bronquios, Ambos, Fumar, Cancer)\n",
              "(Disnea _|_ Polucion, Pulmones, Cancer | Bronquios, Xray, Fumar, Ambos)\n",
              "(Disnea _|_ Fumar, Polucion | Bronquios, Xray, Pulmones, Cancer)\n",
              "(Disnea _|_ Xray, Fumar, Polucion | Bronquios, Ambos, Pulmones, Cancer)\n",
              "(Disnea _|_ Polucion, Fumar, Cancer | Bronquios, Xray, Pulmones, Ambos)\n",
              "(Disnea _|_ Pulmones, Fumar, Polucion | Bronquios, Ambos, Xray, Cancer)\n",
              "(Disnea _|_ Polucion | Xray, Pulmones, Fumar, Cancer)\n",
              "(Disnea _|_ Xray, Polucion | Ambos, Pulmones, Fumar, Cancer)\n",
              "(Disnea _|_ Polucion, Cancer | Xray, Pulmones, Fumar, Ambos)\n",
              "(Disnea _|_ Pulmones, Polucion | Ambos, Xray, Fumar, Cancer)\n",
              "(Disnea _|_ Polucion | Ambos, Xray, Pulmones, Cancer)\n",
              "(Disnea _|_ Xray, Cancer | Polucion, Bronquios, Fumar, Pulmones, Ambos)\n",
              "(Disnea _|_ Pulmones, Xray | Polucion, Bronquios, Fumar, Cancer, Ambos)\n",
              "(Disnea _|_ Pulmones, Cancer | Polucion, Bronquios, Fumar, Xray, Ambos)\n",
              "(Disnea _|_ Fumar | Polucion, Bronquios, Pulmones, Xray, Cancer)\n",
              "(Disnea _|_ Xray, Fumar | Polucion, Bronquios, Pulmones, Cancer, Ambos)\n",
              "(Disnea _|_ Fumar, Cancer | Polucion, Bronquios, Pulmones, Xray, Ambos)\n",
              "(Disnea _|_ Pulmones, Fumar | Polucion, Bronquios, Cancer, Xray, Ambos)\n",
              "(Disnea _|_ Xray | Polucion, Fumar, Pulmones, Cancer, Ambos)\n",
              "(Disnea _|_ Cancer | Polucion, Fumar, Pulmones, Xray, Ambos)\n",
              "(Disnea _|_ Pulmones | Polucion, Fumar, Cancer, Xray, Ambos)\n",
              "(Disnea _|_ Polucion | Bronquios, Fumar, Pulmones, Xray, Cancer)\n",
              "(Disnea _|_ Xray, Polucion | Bronquios, Fumar, Pulmones, Cancer, Ambos)\n",
              "(Disnea _|_ Polucion, Cancer | Bronquios, Fumar, Pulmones, Xray, Ambos)\n",
              "(Disnea _|_ Pulmones, Polucion | Bronquios, Fumar, Cancer, Xray, Ambos)\n",
              "(Disnea _|_ Fumar, Polucion | Bronquios, Pulmones, Cancer, Xray, Ambos)\n",
              "(Disnea _|_ Polucion | Fumar, Pulmones, Cancer, Xray, Ambos)\n",
              "(Disnea _|_ Xray | Polucion, Bronquios, Fumar, Pulmones, Ambos, Cancer)\n",
              "(Disnea _|_ Cancer | Polucion, Bronquios, Fumar, Pulmones, Xray, Ambos)\n",
              "(Disnea _|_ Pulmones | Polucion, Bronquios, Fumar, Ambos, Xray, Cancer)\n",
              "(Disnea _|_ Fumar | Polucion, Bronquios, Pulmones, Ambos, Xray, Cancer)\n",
              "(Disnea _|_ Polucion | Bronquios, Fumar, Pulmones, Ambos, Xray, Cancer)"
            ]
          },
          "metadata": {
            "tags": []
          },
          "execution_count": 14
        }
      ]
    },
    {
      "cell_type": "markdown",
      "metadata": {
        "id": "pUcBg72gLdST"
      },
      "source": [
        "### Dibujando las tablas CPD"
      ]
    },
    {
      "cell_type": "code",
      "metadata": {
        "id": "74losAqrLdSU",
        "outputId": "3f067ac0-b48f-480f-9558-764975b98a64",
        "colab": {
          "base_uri": "https://localhost:8080/"
        }
      },
      "source": [
        "for cpd in G.get_cpds():\n",
        "    print(\"\\nCPD de {variable}:\".format(variable=cpd.variable))\n",
        "    print(cpd)"
      ],
      "execution_count": 15,
      "outputs": [
        {
          "output_type": "stream",
          "text": [
            "\n",
            "CPD de Polucion:\n",
            "+-------------+------+\n",
            "| Polucion(0) | 0.01 |\n",
            "+-------------+------+\n",
            "| Polucion(1) | 0.99 |\n",
            "+-------------+------+\n",
            "\n",
            "CPD de Fumar:\n",
            "+----------+-----+\n",
            "| Fumar(0) | 0.5 |\n",
            "+----------+-----+\n",
            "| Fumar(1) | 0.5 |\n",
            "+----------+-----+\n",
            "\n",
            "CPD de Cancer:\n",
            "+-----------+-------------+-------------+\n",
            "| Polucion  | Polucion(0) | Polucion(1) |\n",
            "+-----------+-------------+-------------+\n",
            "| Cancer(0) | 0.05        | 0.01        |\n",
            "+-----------+-------------+-------------+\n",
            "| Cancer(1) | 0.95        | 0.99        |\n",
            "+-----------+-------------+-------------+\n",
            "\n",
            "CPD de Pulmones:\n",
            "+-------------+----------+----------+\n",
            "| Fumar       | Fumar(0) | Fumar(1) |\n",
            "+-------------+----------+----------+\n",
            "| Pulmones(0) | 0.1      | 0.01     |\n",
            "+-------------+----------+----------+\n",
            "| Pulmones(1) | 0.9      | 0.99     |\n",
            "+-------------+----------+----------+\n",
            "\n",
            "CPD de Bronquios:\n",
            "+--------------+----------+----------+\n",
            "| Fumar        | Fumar(0) | Fumar(1) |\n",
            "+--------------+----------+----------+\n",
            "| Bronquios(0) | 0.6      | 0.3      |\n",
            "+--------------+----------+----------+\n",
            "| Bronquios(1) | 0.4      | 0.7      |\n",
            "+--------------+----------+----------+\n",
            "\n",
            "CPD de Ambos:\n",
            "+----------+-------------+-------------+-------------+-------------+\n",
            "| Pulmones | Pulmones(0) | Pulmones(0) | Pulmones(1) | Pulmones(1) |\n",
            "+----------+-------------+-------------+-------------+-------------+\n",
            "| Cancer   | Cancer(0)   | Cancer(1)   | Cancer(0)   | Cancer(1)   |\n",
            "+----------+-------------+-------------+-------------+-------------+\n",
            "| Ambos(0) | 1.0         | 1.0         | 1.0         | 0.0         |\n",
            "+----------+-------------+-------------+-------------+-------------+\n",
            "| Ambos(1) | 0.0         | 0.0         | 0.0         | 1.0         |\n",
            "+----------+-------------+-------------+-------------+-------------+\n",
            "\n",
            "CPD de Xray:\n",
            "+---------+----------+----------+\n",
            "| Ambos   | Ambos(0) | Ambos(1) |\n",
            "+---------+----------+----------+\n",
            "| Xray(0) | 0.98     | 0.05     |\n",
            "+---------+----------+----------+\n",
            "| Xray(1) | 0.02     | 0.95     |\n",
            "+---------+----------+----------+\n",
            "\n",
            "CPD de Disnea:\n",
            "+-----------+--------------+--------------+--------------+--------------+\n",
            "| Bronquios | Bronquios(0) | Bronquios(0) | Bronquios(1) | Bronquios(1) |\n",
            "+-----------+--------------+--------------+--------------+--------------+\n",
            "| Ambos     | Ambos(0)     | Ambos(1)     | Ambos(0)     | Ambos(1)     |\n",
            "+-----------+--------------+--------------+--------------+--------------+\n",
            "| Disnea(0) | 0.9          | 0.7          | 0.8          | 0.1          |\n",
            "+-----------+--------------+--------------+--------------+--------------+\n",
            "| Disnea(1) | 0.1          | 0.3          | 0.2          | 0.9          |\n",
            "+-----------+--------------+--------------+--------------+--------------+\n"
          ],
          "name": "stdout"
        }
      ]
    },
    {
      "cell_type": "markdown",
      "metadata": {
        "id": "lrzFzABILdSU"
      },
      "source": [
        "#### Moralizamos el grafo"
      ]
    },
    {
      "cell_type": "code",
      "metadata": {
        "id": "iRRuP_rrLdSV"
      },
      "source": [
        "moral = G.to_markov_model()\n",
        "triangulate = moral.triangulate()\n",
        "junction_tree = triangulate.to_junction_tree()"
      ],
      "execution_count": 16,
      "outputs": []
    },
    {
      "cell_type": "markdown",
      "metadata": {
        "id": "gpKdN-q0LdSW"
      },
      "source": [
        "#### Generamos el grafo moralizado."
      ]
    },
    {
      "cell_type": "code",
      "metadata": {
        "id": "hH4RqpmvLdSW",
        "outputId": "8a76026b-0225-4781-8131-54e7c2f5bb95",
        "colab": {
          "base_uri": "https://localhost:8080/",
          "height": 0
        }
      },
      "source": [
        "plt.figure(figsize=(7,4))\n",
        "nx.draw(moral,pos=nx.nx_pydot.graphviz_layout(moral), with_labels=True,node_size=2000,node_color='yellow',linewidths=1)\n",
        "plt.show()"
      ],
      "execution_count": 17,
      "outputs": [
        {
          "output_type": "display_data",
          "data": {
            "image/png": "[encoded data removed]",
            "text/plain": [
              "<Figure size 504x288 with 1 Axes>"
            ]
          },
          "metadata": {
            "tags": []
          }
        }
      ]
    },
    {
      "cell_type": "markdown",
      "metadata": {
        "id": "gQ0TnD2BLdSX"
      },
      "source": [
        "#### Visualización de la triángulización del grafo. "
      ]
    },
    {
      "cell_type": "code",
      "metadata": {
        "id": "RCAsEkVrLdSY",
        "outputId": "7a8ec47a-6596-4fa1-8f34-4aa6f6716f6c",
        "colab": {
          "base_uri": "https://localhost:8080/",
          "height": 0
        }
      },
      "source": [
        "plt.figure(figsize=(5,5))\n",
        "nx.draw(triangulate,pos=nx.nx_pydot.graphviz_layout(triangulate,prog='circo'), with_labels=True,node_size=2000,node_color='orange',linewidths=1)\n",
        "plt.show()\n"
      ],
      "execution_count": 18,
      "outputs": [
        {
          "output_type": "display_data",
          "data": {
            "image/png": "[encoded data removed]",
            "text/plain": [
              "<Figure size 360x360 with 1 Axes>"
            ]
          },
          "metadata": {
            "tags": []
          }
        }
      ]
    },
    {
      "cell_type": "markdown",
      "metadata": {
        "id": "5CnQLfsELdSY"
      },
      "source": [
        "### Juntion tree"
      ]
    },
    {
      "cell_type": "code",
      "metadata": {
        "id": "34kanCCoLdSZ",
        "outputId": "ef222231-5750-4792-a310-610e588b2dca",
        "colab": {
          "base_uri": "https://localhost:8080/",
          "height": 319
        }
      },
      "source": [
        "plt.figure(figsize=(4,4))\n",
        "nx.draw(junction_tree, with_labels=True,node_size=2000,node_color='pink',linewidths=1)\n",
        "plt.show()"
      ],
      "execution_count": 19,
      "outputs": [
        {
          "output_type": "display_data",
          "data": {
            "image/png": "[encoded data removed]",
            "text/plain": [
              "<Figure size 288x288 with 1 Axes>"
            ]
          },
          "metadata": {
            "tags": []
          }
        }
      ]
    },
    {
      "cell_type": "code",
      "metadata": {
        "id": "q_bbU8dZLdSa",
        "outputId": "c8a5804e-6ff0-4279-bf25-5ac60f9443fe",
        "colab": {
          "base_uri": "https://localhost:8080/"
        }
      },
      "source": [
        "junction_tree.nodes"
      ],
      "execution_count": 20,
      "outputs": [
        {
          "output_type": "execute_result",
          "data": {
            "text/plain": [
              "NodeView((('Ambos', 'Disnea', 'Bronquios'), ('Ambos', 'Fumar', 'Bronquios'), ('Ambos', 'Fumar', 'Pulmones', 'Cancer'), ('Ambos', 'Fumar', 'Polucion', 'Cancer'), ('Ambos', 'Fumar', 'Polucion', 'Xray')))"
            ]
          },
          "metadata": {
            "tags": []
          },
          "execution_count": 20
        }
      ]
    },
    {
      "cell_type": "markdown",
      "metadata": {
        "id": "lyjrebWTLdSa"
      },
      "source": [
        "### Eliminación de variables\n",
        "\n",
        "\n",
        "Podemos encontrar la probabilidad conjunta de `Cancer = yes, Pulmones = yes, Bronquios = yes`, dada la evidencia de que `Polucion = yes, Xray = yes` usando el algoritmo de transmisión de mensajes."
      ]
    },
    {
      "cell_type": "code",
      "metadata": {
        "id": "K6-TnnU7LdSb"
      },
      "source": [
        "from pgmpy.inference import VariableElimination"
      ],
      "execution_count": 21,
      "outputs": []
    },
    {
      "cell_type": "code",
      "metadata": {
        "id": "KJLadqBLLdSb"
      },
      "source": [
        "infer=VariableElimination(G)"
      ],
      "execution_count": 22,
      "outputs": []
    },
    {
      "cell_type": "code",
      "metadata": {
        "id": "RqZMSYJKLdSc",
        "outputId": "eda2011f-20cb-4a00-def5-d89569c1efe8",
        "colab": {
          "base_uri": "https://localhost:8080/"
        }
      },
      "source": [
        "joint_probability = infer.query(variables=['Cancer','Pulmones','Bronquios'],evidence={'Polucion':0,'Xray':0},joint=True)"
      ],
      "execution_count": 23,
      "outputs": [
        {
          "output_type": "stream",
          "text": [
            "Finding Elimination Order: : 100%|██████████| 3/3 [00:00<00:00, 1381.98it/s]\n",
            "Eliminating: Fumar: 100%|██████████| 3/3 [00:00<00:00, 238.64it/s]\n"
          ],
          "name": "stderr"
        }
      ]
    },
    {
      "cell_type": "code",
      "metadata": {
        "id": "8ookqb07LdSc",
        "outputId": "059afe3d-70b8-405e-82bc-65946bc07dc3",
        "colab": {
          "base_uri": "https://localhost:8080/"
        }
      },
      "source": [
        "print(joint_probability)"
      ],
      "execution_count": 24,
      "outputs": [
        {
          "output_type": "stream",
          "text": [
            "+--------------+-------------+-----------+----------------------------------+\n",
            "| Bronquios    | Pulmones    | Cancer    |   phi(Bronquios,Pulmones,Cancer) |\n",
            "+==============+=============+===========+==================================+\n",
            "| Bronquios(0) | Pulmones(0) | Cancer(0) |                           0.0106 |\n",
            "+--------------+-------------+-----------+----------------------------------+\n",
            "| Bronquios(0) | Pulmones(0) | Cancer(1) |                           0.2021 |\n",
            "+--------------+-------------+-----------+----------------------------------+\n",
            "| Bronquios(0) | Pulmones(1) | Cancer(0) |                           0.1413 |\n",
            "+--------------+-------------+-----------+----------------------------------+\n",
            "| Bronquios(0) | Pulmones(1) | Cancer(1) |                           0.1370 |\n",
            "+--------------+-------------+-----------+----------------------------------+\n",
            "| Bronquios(1) | Pulmones(0) | Cancer(0) |                           0.0079 |\n",
            "+--------------+-------------+-----------+----------------------------------+\n",
            "| Bronquios(1) | Pulmones(0) | Cancer(1) |                           0.1508 |\n",
            "+--------------+-------------+-----------+----------------------------------+\n",
            "| Bronquios(1) | Pulmones(1) | Cancer(0) |                           0.1778 |\n",
            "+--------------+-------------+-----------+----------------------------------+\n",
            "| Bronquios(1) | Pulmones(1) | Cancer(1) |                           0.1724 |\n",
            "+--------------+-------------+-----------+----------------------------------+\n"
          ],
          "name": "stdout"
        }
      ]
    },
    {
      "cell_type": "markdown",
      "metadata": {
        "id": "5LQUhWIOLdSd"
      },
      "source": [
        "¿Podemos inferir de la tabla anterior que el `P(Cancer = si, Pulmones = si, Bronquios = si |Polucion = si,Xray = si)` es ?."
      ]
    },
    {
      "cell_type": "code",
      "metadata": {
        "id": "_nYBt2E7LdSd"
      },
      "source": [
        "# Tu respuesta"
      ],
      "execution_count": 25,
      "outputs": []
    },
    {
      "cell_type": "markdown",
      "metadata": {
        "id": "5sPWbNijLdSe"
      },
      "source": [
        "¿Qué ocurre si realizas el siguiente cambio al código anterior?.\n",
        "\n",
        "```\n",
        "joint_probability = infer.query(variables=['Xray'], evidence={'Fumar': 0, 'Disnea':0, })\n",
        "print(joint_probability['Xray'])\n",
        "```"
      ]
    },
    {
      "cell_type": "code",
      "metadata": {
        "id": "wuFFH874LdSf"
      },
      "source": [
        "# Tu respuesta"
      ],
      "execution_count": 26,
      "outputs": []
    },
    {
      "cell_type": "markdown",
      "metadata": {
        "id": "GvNnxdnwLdSf"
      },
      "source": [
        "#### Generamos los datos de la red Bayesiana"
      ]
    },
    {
      "cell_type": "code",
      "metadata": {
        "id": "5sWMCxeELdSg",
        "outputId": "c90389d7-91cc-4918-9206-dea383c9339a",
        "colab": {
          "base_uri": "https://localhost:8080/"
        }
      },
      "source": [
        "from pgmpy.sampling import BayesianModelSampling\n",
        "\n",
        "inference = BayesianModelSampling(G)\n",
        "df_data = inference.forward_sample(size=10000, return_type='dataframe')\n",
        "print(df_data)\n"
      ],
      "execution_count": 27,
      "outputs": [
        {
          "output_type": "stream",
          "text": [
            "Generating for node: Xray: 100%|██████████| 8/8 [00:00<00:00, 29.47it/s]\n"
          ],
          "name": "stderr"
        },
        {
          "output_type": "stream",
          "text": [
            "      Fumar  Bronquios  Pulmones  Polucion  Cancer  Ambos  Disnea  Xray\n",
            "0         1          1         1         1       1      1       1     1\n",
            "1         1          1         1         1       1      1       1     1\n",
            "2         1          1         1         1       1      1       1     1\n",
            "3         1          1         1         1       1      1       1     1\n",
            "4         0          0         1         1       1      1       0     1\n",
            "...     ...        ...       ...       ...     ...    ...     ...   ...\n",
            "9995      1          1         1         1       1      1       1     1\n",
            "9996      1          1         1         1       1      1       1     1\n",
            "9997      0          0         1         1       1      1       0     1\n",
            "9998      0          0         1         1       1      1       0     1\n",
            "9999      0          0         1         1       1      1       0     1\n",
            "\n",
            "[10000 rows x 8 columns]\n"
          ],
          "name": "stdout"
        }
      ]
    },
    {
      "cell_type": "markdown",
      "metadata": {
        "id": "SrGD67dkLdSg"
      },
      "source": [
        "### Aprendemos la estructura TAN"
      ]
    },
    {
      "cell_type": "code",
      "metadata": {
        "id": "1KaFS_pTLdSh",
        "outputId": "c35deea2-1ea9-490b-c675-deb96819352c",
        "colab": {
          "base_uri": "https://localhost:8080/",
          "height": 392
        }
      },
      "source": [
        "from pgmpy.estimators import TreeSearch\n",
        "\n",
        "est = TreeSearch(df_data, root_node='Fumar')\n",
        "dag = est.estimate(estimator_type=\"tan\", class_node=\"Ambos\")\n",
        "nx.draw_circular(dag, with_labels=True, arrowsize=30, node_size=800, alpha=0.3, font_weight='bold')\n",
        "plt.show()"
      ],
      "execution_count": 28,
      "outputs": [
        {
          "output_type": "stream",
          "text": [
            "/usr/local/lib/python3.6/dist-packages/statsmodels/tools/_testing.py:19: FutureWarning: pandas.util.testing is deprecated. Use the functions in the public API at pandas.testing instead.\n",
            "  import pandas.util.testing as tm\n",
            "Building tree: 100%|██████████| 21/21.0 [00:00<00:00, 272.55it/s]\n"
          ],
          "name": "stderr"
        },
        {
          "output_type": "display_data",
          "data": {
            "image/png": "[encoded data removed]",
            "text/plain": [
              "<Figure size 432x288 with 1 Axes>"
            ]
          },
          "metadata": {
            "tags": []
          }
        }
      ]
    },
    {
      "cell_type": "markdown",
      "metadata": {
        "id": "Byp7SXa_LdSi"
      },
      "source": [
        "#### Parametrización del grafo aprendido a partir de datos"
      ]
    },
    {
      "cell_type": "code",
      "metadata": {
        "id": "ho6GBQxLLdSi",
        "outputId": "8bd28a7a-ba78-43f0-cc1d-45e3b848ca94",
        "colab": {
          "base_uri": "https://localhost:8080/"
        }
      },
      "source": [
        "from pgmpy.estimators import BayesianEstimator\n",
        "\n",
        "modelo = BayesianModel(dag.edges())\n",
        "modelo.fit(df_data, estimator=BayesianEstimator, prior_type='dirichlet', pseudo_counts=0.1)\n",
        "modelo.get_cpds()"
      ],
      "execution_count": 29,
      "outputs": [
        {
          "output_type": "execute_result",
          "data": {
            "text/plain": [
              "[<TabularCPD representing P(Fumar:2 | Ambos:2) at 0x7f5c6911e358>,\n",
              " <TabularCPD representing P(Bronquios:2 | Ambos:2, Fumar:2) at 0x7f5c74060c18>,\n",
              " <TabularCPD representing P(Disnea:2 | Ambos:2, Bronquios:2) at 0x7f5c690d3470>,\n",
              " <TabularCPD representing P(Pulmones:2 | Ambos:2, Disnea:2) at 0x7f5c74060160>,\n",
              " <TabularCPD representing P(Xray:2 | Ambos:2, Pulmones:2) at 0x7f5c690de8d0>,\n",
              " <TabularCPD representing P(Cancer:2 | Ambos:2, Xray:2) at 0x7f5c690cb8d0>,\n",
              " <TabularCPD representing P(Polucion:2 | Ambos:2, Cancer:2) at 0x7f5c690cbba8>,\n",
              " <TabularCPD representing P(Ambos:2) at 0x7f5c690cba58>]"
            ]
          },
          "metadata": {
            "tags": []
          },
          "execution_count": 29
        }
      ]
    },
    {
      "cell_type": "markdown",
      "metadata": {
        "id": "1d5gnpIbLdSj"
      },
      "source": [
        "¿Qué sucede si cambiamos el parámetro ` class_node=\"\"`?. Prueba varios ejemplos. "
      ]
    },
    {
      "cell_type": "code",
      "metadata": {
        "id": "3hOon3T2LdSj"
      },
      "source": [
        "# Tu respuesta"
      ],
      "execution_count": 30,
      "outputs": []
    },
    {
      "cell_type": "markdown",
      "metadata": {
        "id": "vuBURTUmLdSk"
      },
      "source": [
        "### Algoritmo Chow-Liu"
      ]
    },
    {
      "cell_type": "code",
      "metadata": {
        "id": "U6oYuL-qLdSl",
        "outputId": "021e4c4b-5cc3-4f79-d241-36aac9ad4560",
        "colab": {
          "base_uri": "https://localhost:8080/",
          "height": 337
        }
      },
      "source": [
        "from pgmpy.estimators import TreeSearch\n",
        "\n",
        "est1 = TreeSearch(df_data, root_node=\"Polucion\")\n",
        "dag1 = est1.estimate(estimator_type=\"chow-liu\")\n",
        "nx.draw_circular(dag1, with_labels=True, arrowsize=30, node_size=800, alpha=0.3, font_weight='bold')\n",
        "plt.show()"
      ],
      "execution_count": 31,
      "outputs": [
        {
          "output_type": "stream",
          "text": [
            "Building tree: 100%|██████████| 28/28.0 [00:00<00:00, 362.73it/s]\n"
          ],
          "name": "stderr"
        },
        {
          "output_type": "display_data",
          "data": {
            "image/png": "[encoded data removed]",
            "text/plain": [
              "<Figure size 432x288 with 1 Axes>"
            ]
          },
          "metadata": {
            "tags": []
          }
        }
      ]
    },
    {
      "cell_type": "markdown",
      "metadata": {
        "id": "cb2vXmwxLdSl"
      },
      "source": [
        "#### Parametrización del grafo aprendido a partir de datos"
      ]
    },
    {
      "cell_type": "code",
      "metadata": {
        "id": "Otaq146ALdSm",
        "outputId": "4efcc901-0a6a-47b6-b43f-482cd4a4f51c",
        "colab": {
          "base_uri": "https://localhost:8080/"
        }
      },
      "source": [
        "from pgmpy.estimators import BayesianEstimator\n",
        "\n",
        "modelo1 = BayesianModel(dag1.edges())\n",
        "modelo1.fit(df_data, estimator=BayesianEstimator, prior_type='dirichlet', pseudo_counts=0.1)\n",
        "modelo.get_cpds()"
      ],
      "execution_count": 32,
      "outputs": [
        {
          "output_type": "execute_result",
          "data": {
            "text/plain": [
              "[<TabularCPD representing P(Fumar:2 | Ambos:2) at 0x7f5c6911e358>,\n",
              " <TabularCPD representing P(Bronquios:2 | Ambos:2, Fumar:2) at 0x7f5c74060c18>,\n",
              " <TabularCPD representing P(Disnea:2 | Ambos:2, Bronquios:2) at 0x7f5c690d3470>,\n",
              " <TabularCPD representing P(Pulmones:2 | Ambos:2, Disnea:2) at 0x7f5c74060160>,\n",
              " <TabularCPD representing P(Xray:2 | Ambos:2, Pulmones:2) at 0x7f5c690de8d0>,\n",
              " <TabularCPD representing P(Cancer:2 | Ambos:2, Xray:2) at 0x7f5c690cb8d0>,\n",
              " <TabularCPD representing P(Polucion:2 | Ambos:2, Cancer:2) at 0x7f5c690cbba8>,\n",
              " <TabularCPD representing P(Ambos:2) at 0x7f5c690cba58>]"
            ]
          },
          "metadata": {
            "tags": []
          },
          "execution_count": 32
        }
      ]
    },
    {
      "cell_type": "markdown",
      "metadata": {
        "id": "L2vpRjHGLdSm"
      },
      "source": [
        "### Algoritmos de estructuras de aprendizaje"
      ]
    },
    {
      "cell_type": "code",
      "metadata": {
        "id": "XK5YGyENLdSn"
      },
      "source": [
        "from itertools import combinations\n",
        "\n",
        "from pgmpy.estimators import PC, HillClimbSearch, ExhaustiveSearch\n",
        "from pgmpy.estimators import K2Score\n",
        "from pgmpy.utils import get_example_model\n",
        "from pgmpy.sampling import BayesianModelSampling\n"
      ],
      "execution_count": 33,
      "outputs": []
    },
    {
      "cell_type": "code",
      "metadata": {
        "id": "zsWDaFvkLdSo",
        "outputId": "9889ab74-3fb6-48a2-ec07-45a6f6b4c34a",
        "colab": {
          "base_uri": "https://localhost:8080/",
          "height": 268
        }
      },
      "source": [
        "modelo2 = get_example_model('asia')\n",
        "muestras = BayesianModelSampling(modelo2).forward_sample(size=int(1e5))\n",
        "muestras.head()"
      ],
      "execution_count": 34,
      "outputs": [
        {
          "output_type": "stream",
          "text": [
            "Generating for node: bronc:   0%|          | 0/8 [00:00<?, ?it/s]/usr/local/lib/python3.6/dist-packages/pgmpy/factors/discrete/DiscreteFactor.py:519: UserWarning: Found unknown state name. Trying to switch to using all state names as state numbers\n",
            "  \"Found unknown state name. Trying to switch to using all state names as state numbers\"\n",
            "Generating for node: xray: 100%|██████████| 8/8 [00:02<00:00,  3.33it/s]\n"
          ],
          "name": "stderr"
        },
        {
          "output_type": "execute_result",
          "data": {
            "text/html": [
              "<div>\n",
              "<style scoped>\n",
              "    .dataframe tbody tr th:only-of-type {\n",
              "        vertical-align: middle;\n",
              "    }\n",
              "\n",
              "    .dataframe tbody tr th {\n",
              "        vertical-align: top;\n",
              "    }\n",
              "\n",
              "    .dataframe thead th {\n",
              "        text-align: right;\n",
              "    }\n",
              "</style>\n",
              "<table border=\"1\" class=\"dataframe\">\n",
              "  <thead>\n",
              "    <tr style=\"text-align: right;\">\n",
              "      <th></th>\n",
              "      <th>smoke</th>\n",
              "      <th>bronc</th>\n",
              "      <th>lung</th>\n",
              "      <th>asia</th>\n",
              "      <th>tub</th>\n",
              "      <th>either</th>\n",
              "      <th>dysp</th>\n",
              "      <th>xray</th>\n",
              "    </tr>\n",
              "  </thead>\n",
              "  <tbody>\n",
              "    <tr>\n",
              "      <th>0</th>\n",
              "      <td>no</td>\n",
              "      <td>no</td>\n",
              "      <td>no</td>\n",
              "      <td>no</td>\n",
              "      <td>no</td>\n",
              "      <td>no</td>\n",
              "      <td>no</td>\n",
              "      <td>no</td>\n",
              "    </tr>\n",
              "    <tr>\n",
              "      <th>1</th>\n",
              "      <td>yes</td>\n",
              "      <td>no</td>\n",
              "      <td>no</td>\n",
              "      <td>no</td>\n",
              "      <td>no</td>\n",
              "      <td>no</td>\n",
              "      <td>no</td>\n",
              "      <td>no</td>\n",
              "    </tr>\n",
              "    <tr>\n",
              "      <th>2</th>\n",
              "      <td>yes</td>\n",
              "      <td>no</td>\n",
              "      <td>no</td>\n",
              "      <td>no</td>\n",
              "      <td>no</td>\n",
              "      <td>no</td>\n",
              "      <td>no</td>\n",
              "      <td>no</td>\n",
              "    </tr>\n",
              "    <tr>\n",
              "      <th>3</th>\n",
              "      <td>yes</td>\n",
              "      <td>yes</td>\n",
              "      <td>yes</td>\n",
              "      <td>no</td>\n",
              "      <td>no</td>\n",
              "      <td>yes</td>\n",
              "      <td>yes</td>\n",
              "      <td>yes</td>\n",
              "    </tr>\n",
              "    <tr>\n",
              "      <th>4</th>\n",
              "      <td>no</td>\n",
              "      <td>no</td>\n",
              "      <td>no</td>\n",
              "      <td>no</td>\n",
              "      <td>no</td>\n",
              "      <td>no</td>\n",
              "      <td>no</td>\n",
              "      <td>no</td>\n",
              "    </tr>\n",
              "  </tbody>\n",
              "</table>\n",
              "</div>"
            ],
            "text/plain": [
              "  smoke bronc lung asia tub either dysp xray\n",
              "0    no    no   no   no  no     no   no   no\n",
              "1   yes    no   no   no  no     no   no   no\n",
              "2   yes    no   no   no  no     no   no   no\n",
              "3   yes   yes  yes   no  no    yes  yes  yes\n",
              "4    no    no   no   no  no     no   no   no"
            ]
          },
          "metadata": {
            "tags": []
          },
          "execution_count": 34
        }
      ]
    },
    {
      "cell_type": "markdown",
      "metadata": {
        "id": "AutJq-6vLdSo"
      },
      "source": [
        "#### Función para evaluar las estructuras del modelo aprendidas"
      ]
    },
    {
      "cell_type": "code",
      "metadata": {
        "id": "Q2t_Ze7-LdSp"
      },
      "source": [
        "def puntuacion(modelo_estimado, modelo_verdadero):\n",
        "    tp = 0\n",
        "    fn = 0\n",
        "    fp = 0\n",
        "    tn = 0\n",
        "\n",
        "    for borde in combinations(modelo_verdadero.nodes(), 2):\n",
        "        if (borde in modelo_estimado.edges()) and (borde in modelo_verdadero.edges()):\n",
        "            tp += 1\n",
        "        elif (borde in modelo_estimado.edges()) and (not (borde in modelo_verdadero.edges())):\n",
        "            fp += 1\n",
        "        elif (not(borde in modelo_estimado.edges())) and (borde in modelo_verdadero.edges()):\n",
        "            fn += 1\n",
        "        elif (not(borde in modelo_estimado.edges())) and (not(borde in modelo_verdadero.edges())):\n",
        "            tn += 1\n",
        "    print(f\"Total: {tp+fn+fp+tn}. Positive-verdadero: {tp}, Falso-Negativo: {fn}, Falso-Positivo: {fp}, Verdadero-Negativo: {tn}\")\n",
        "    print(f\"Exactitud del borde: {(tp+tn)/(tp+fn+fp+tn)}\")"
      ],
      "execution_count": 35,
      "outputs": []
    },
    {
      "cell_type": "markdown",
      "metadata": {
        "id": "9On8R9QRLdSq"
      },
      "source": [
        "### Aprender la estructura del modelo usando PC"
      ]
    },
    {
      "cell_type": "code",
      "metadata": {
        "id": "1qQKucTeLdSs",
        "outputId": "17d1ab52-5327-438f-bb6b-c6bd181edfa1",
        "colab": {
          "base_uri": "https://localhost:8080/"
        }
      },
      "source": [
        "est1 = PC(data=muestras)\n",
        "modelo_estimado = est1.estimate(variant='stable', max_cond_vars=4)\n",
        "puntuacion(modelo_estimado, modelo2)"
      ],
      "execution_count": 36,
      "outputs": [
        {
          "output_type": "stream",
          "text": [
            "Working for n conditional variables: 4: 100%|██████████| 4/4 [00:02<00:00,  1.82it/s]/usr/local/lib/python3.6/dist-packages/pgmpy/estimators/PC.py:366: UserWarning: Reached maximum number of allowed conditional variables. Exiting\n",
            "  warn(\"Reached maximum number of allowed conditional variables. Exiting\")\n",
            "Working for n conditional variables: 4: 100%|██████████| 4/4 [00:02<00:00,  1.38it/s]"
          ],
          "name": "stderr"
        },
        {
          "output_type": "stream",
          "text": [
            "Total: 28. Positive-verdadero: 7, Falso-Negativo: 1, Falso-Positivo: 0, Verdadero-Negativo: 20\n",
            "Exactitud del borde: 0.9642857142857143\n"
          ],
          "name": "stdout"
        },
        {
          "output_type": "stream",
          "text": [
            "\n"
          ],
          "name": "stderr"
        }
      ]
    },
    {
      "cell_type": "code",
      "metadata": {
        "id": "frZQIif8LdSs",
        "outputId": "147357d4-057a-4e70-f8b4-c3ae5de53131",
        "colab": {
          "base_uri": "https://localhost:8080/"
        }
      },
      "source": [
        "est1 = PC(data=muestras)\n",
        "modelo_estimado = est1.estimate(variant='orig', max_cond_vars=4)\n",
        "puntuacion(modelo_estimado, modelo2)"
      ],
      "execution_count": 37,
      "outputs": [
        {
          "output_type": "stream",
          "text": [
            "Working for n conditional variables: 4: 100%|██████████| 4/4 [00:02<00:00,  1.97it/s]/usr/local/lib/python3.6/dist-packages/pgmpy/estimators/PC.py:366: UserWarning: Reached maximum number of allowed conditional variables. Exiting\n",
            "  warn(\"Reached maximum number of allowed conditional variables. Exiting\")\n",
            "Working for n conditional variables: 4: 100%|██████████| 4/4 [00:02<00:00,  1.53it/s]"
          ],
          "name": "stderr"
        },
        {
          "output_type": "stream",
          "text": [
            "Total: 28. Positive-verdadero: 7, Falso-Negativo: 1, Falso-Positivo: 0, Verdadero-Negativo: 20\n",
            "Exactitud del borde: 0.9642857142857143\n"
          ],
          "name": "stdout"
        },
        {
          "output_type": "stream",
          "text": [
            "\n"
          ],
          "name": "stderr"
        }
      ]
    },
    {
      "cell_type": "markdown",
      "metadata": {
        "id": "TjQB7bUrLdSt"
      },
      "source": [
        "¿Cuál es la diferencia entre los valores del argumento `variant`?. ¿Existen otros aparte de `stable` y `orig`?."
      ]
    },
    {
      "cell_type": "code",
      "metadata": {
        "id": "6362f1-RLdSu"
      },
      "source": [
        "# Tu respuesta"
      ],
      "execution_count": 38,
      "outputs": []
    },
    {
      "cell_type": "code",
      "metadata": {
        "id": "7le4y0CQLdSu"
      },
      "source": [
        ""
      ],
      "execution_count": 38,
      "outputs": []
    }
  ]
}
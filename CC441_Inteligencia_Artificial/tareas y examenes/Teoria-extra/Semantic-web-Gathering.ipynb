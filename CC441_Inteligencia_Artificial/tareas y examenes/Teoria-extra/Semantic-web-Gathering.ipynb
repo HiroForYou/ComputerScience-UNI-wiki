{
  "nbformat": 4,
  "nbformat_minor": 0,
  "metadata": {
    "colab": {
      "name": "Semantic-web.ipynb",
      "provenance": [],
      "collapsed_sections": []
    },
    "kernelspec": {
      "display_name": "Python 3",
      "language": "python",
      "name": "python3"
    },
    "language_info": {
      "codemirror_mode": {
        "name": "ipython",
        "version": 3
      },
      "file_extension": ".py",
      "mimetype": "text/x-python",
      "name": "python",
      "nbconvert_exporter": "python",
      "pygments_lexer": "ipython3",
      "version": "3.7.3"
    },
    "toc": {
      "base_numbering": 1,
      "nav_menu": {},
      "number_sections": true,
      "sideBar": true,
      "skip_h1_title": false,
      "title_cell": "Table of Contents",
      "title_sidebar": "Contents",
      "toc_cell": false,
      "toc_position": {},
      "toc_section_display": true,
      "toc_window_display": false
    }
  },
  "cells": [
    {
      "cell_type": "markdown",
      "metadata": {
        "id": "F0STdRbh6P8n"
      },
      "source": [
        "## Curso: Inteligencia Artificial \n",
        "\n",
        "\"El presente texto ha sido preparado de manera exclusiva para los alumnos del Curso de Inteligencia Artificial, que  forma parte de la Plan de Estudio de la Escuela de Ciencia de Computación,  según  el  artículo  °44  de  la  Ley  sobre  el  Derecho  de  Autor,  D.L.  N°822.  Queda  prohibida  su  difusión  y  reproducción  por  cualquier \n",
        "medio o procedimiento, total o parcialmente fuera del marco del presente curso\".\n",
        "\n",
        "### Magic: The Gatherig\n",
        "\n",
        "Magic: The Gathering es un juego de cartas que combina estrategia y fantasía, que además de su popularidad,  también esconde una complejidad muy elevada. Tal es así, que Alex Churchill, diseñador de juegos de mesa de Cambridge y Stella Biderman, matemática del Instituto de Tecnología de Georgia han publicado un estudio en el portal arxiV donde han catalogado a 'Magic: The Gathering' como el juego más complejo del mundo, computacionalmente hablando: [Magic: The Gathering is Turing Complete\n",
        "](https://arxiv.org/abs/1904.09828).\n",
        "\n",
        "En el paper se utilizan mapas y reglas existentes para dos jugadores, implementaron una máquina de Turing universal, y descubrieron que determinar el ganador en este caso es equivalente al problema de detener esta máquina. Por un lado, por primera vez se muestra un ejemplo de un juego real en el que la definición de una estrategia ganadora no es computable, y por el otro, demuestra la imposibilidad en el caso general de comprobar la equivalencia de diferentes estrategias en un juego dado, que conduce a impacto significativo en los fundamentos de la teoría de juegos, ya que el punto de vista prevaleciente de hoy sugiere que el resultado de cualquier juego debería ser teóricamente computable.\n",
        "\n",
        "Realizamos un grupo de inferencias del juego usando el paquete [RDFLib](https://rdflib.readthedocs.io/en/stable/) de python, teniendo en cuenta las reglas del juego descritas en [Magic: The Gathering Comprehensive Rules](https://blogs.magicjudges.org/rules/cr/)."
      ]
    },
    {
      "cell_type": "code",
      "metadata": {
        "id": "KB_2d_7aQhEo",
        "outputId": "7209c265-46f8-433a-ce76-53f808da6aa3",
        "colab": {
          "base_uri": "https://localhost:8080/",
          "height": 201
        }
      },
      "source": [
        "!pip install rdflib"
      ],
      "execution_count": null,
      "outputs": [
        {
          "output_type": "stream",
          "text": [
            "Collecting rdflib\n",
            "\u001b[?25l  Downloading https://files.pythonhosted.org/packages/3c/fe/630bacb652680f6d481b9febbb3e2c3869194a1a5fc3401a4a41195a2f8f/rdflib-4.2.2-py3-none-any.whl (344kB)\n",
            "\u001b[K     |████████████████████████████████| 348kB 2.8MB/s \n",
            "\u001b[?25hRequirement already satisfied: pyparsing in /usr/local/lib/python3.6/dist-packages (from rdflib) (2.4.2)\n",
            "Collecting isodate (from rdflib)\n",
            "\u001b[?25l  Downloading https://files.pythonhosted.org/packages/9b/9f/b36f7774ff5ea8e428fdcfc4bb332c39ee5b9362ddd3d40d9516a55221b2/isodate-0.6.0-py2.py3-none-any.whl (45kB)\n",
            "\u001b[K     |████████████████████████████████| 51kB 22.7MB/s \n",
            "\u001b[?25hRequirement already satisfied: six in /usr/local/lib/python3.6/dist-packages (from isodate->rdflib) (1.12.0)\n",
            "Installing collected packages: isodate, rdflib\n",
            "Successfully installed isodate-0.6.0 rdflib-4.2.2\n"
          ],
          "name": "stdout"
        }
      ]
    },
    {
      "cell_type": "code",
      "metadata": {
        "ExecuteTime": {
          "end_time": "2019-10-13T00:21:54.228809Z",
          "start_time": "2019-10-13T00:21:54.216846Z"
        },
        "id": "eMByP4fWBSd-"
      },
      "source": [
        "from rdflib import URIRef, BNode, Literal\n",
        "from rdflib import Namespace\n",
        "from rdflib.namespace import RDF, RDFS\n",
        "from rdflib import ConjunctiveGraph\n",
        "import pprint"
      ],
      "execution_count": null,
      "outputs": []
    },
    {
      "cell_type": "markdown",
      "metadata": {
        "id": "6xpiQnKsBSeC"
      },
      "source": [
        "# Modelado del Grafo"
      ]
    },
    {
      "cell_type": "markdown",
      "metadata": {
        "id": "UEfepU5WyU6D"
      },
      "source": [
        "Ingresando las URIs de los sujetos"
      ]
    },
    {
      "cell_type": "markdown",
      "metadata": {
        "id": "dT07NPQKyQoB"
      },
      "source": [
        "Ingresando las URIs de las instancias de la clase maestra: Objeto"
      ]
    },
    {
      "cell_type": "code",
      "metadata": {
        "ExecuteTime": {
          "end_time": "2019-10-13T00:43:03.155889Z",
          "start_time": "2019-10-13T00:43:03.135978Z"
        },
        "id": "J9yguZsFBSeC"
      },
      "source": [
        "serraAngel = URIRef('https://gatherer.wizards.com/Pages/Card/Details.aspx?multiverseid=443459') \n",
        "lesserMasticore = URIRef('https://gatherer.wizards.com/Pages/Card/Details.aspx?multiverseid=464682') \n",
        "priestOfTitania = URIRef('https://gatherer.wizards.com/Pages/Card/Details.aspx?multiverseid=391664')\n",
        "forest = URIRef('https://gatherer.wizards.com/Pages/Card/Details.aspx?multiverseid=473766')\n",
        "swamp = URIRef('https://gatherer.wizards.com/Pages/Card/Details.aspx?multiverseid=473758')\n",
        "island = URIRef('https://gatherer.wizards.com/Pages/Card/Details.aspx?multiverseid=87129')\n",
        "mountain = URIRef('https://gatherer.wizards.com/Pages/Card/Details.aspx?multiverseid=473762')\n",
        "plains = URIRef('https://gatherer.wizards.com/Pages/Card/Details.aspx?multiverseid=158969')\n",
        "worldSlayer = URIRef('https://gatherer.wizards.com/Pages/Card/Details.aspx?multiverseid=265091')\n",
        "faceOfDivinity = URIRef('https://gatherer.wizards.com/Pages/Card/Details.aspx?multiverseid=464465')\n",
        "engineeredPlague = URIRef('https://gatherer.wizards.com/Pages/Card/Details.aspx?multiverseid=12944')\n",
        "rotFarmSkeleton = URIRef('https://gatherer.wizards.com/Pages/Card/Details.aspx?multiverseid=370232')\n",
        "segovianAngel = URIRef('https://gatherer.wizards.com/Pages/Card/Details.aspx?multiverseid=464482')\n",
        "urzaArtificer = URIRef('https://gatherer.wizards.com/Pages/Card/Details.aspx?multiverseid=464024')\n",
        "starCompass = URIRef('https://gatherer.wizards.com/Pages/Card/Details.aspx?multiverseid=165565')\n",
        "avatarOfWoe = URIRef('https://gatherer.wizards.com/Pages/Card/Details.aspx?multiverseid=260729')\n",
        "avatarOfFury = URIRef('https://gatherer.wizards.com/Pages/Card/Details.aspx?multiverseid=260766')\n",
        "yawgmothPhysician = URIRef('https://gatherer.wizards.com/Pages/Card/Details.aspx?multiverseid=464573')\n",
        "basicLand = URIRef('basic_land')\n",
        "adarkarWastes = URIRef('https://gatherer.wizards.com/Pages/Card/Details.aspx?multiverseid=150663')\n",
        "cavesOfKoilos = URIRef('https://gatherer.wizards.com/Pages/Card/Details.aspx?multiverseid=423359')\n",
        "feralAbomination = URIRef('https://gatherer.wizards.com/Pages/Card/Details.aspx?multiverseid=466855')\n",
        "counterspell = URIRef('https://gatherer.wizards.com/pages/card/details.aspx?multiverseid=202437')\n",
        "terror = URIRef('https://gatherer.wizards.com/Pages/Card/Details.aspx?multiverseid=150498')\n",
        "wrathOfGod = URIRef('https://gatherer.wizards.com/Pages/Card/Details.aspx?multiverseid=378372')\n",
        "killSwitch = URIRef('https://gatherer.wizards.com/Pages/Card/Details.aspx?multiverseid=22318')"
      ],
      "execution_count": null,
      "outputs": []
    },
    {
      "cell_type": "code",
      "metadata": {
        "ExecuteTime": {
          "end_time": "2019-10-13T00:43:03.292088Z",
          "start_time": "2019-10-13T00:43:03.285141Z"
        },
        "id": "o9I-VH4LBSeF"
      },
      "source": [
        "n = Namespace(\"https://mtg.gamepedia.com/\")"
      ],
      "execution_count": null,
      "outputs": []
    },
    {
      "cell_type": "markdown",
      "metadata": {
        "id": "Ody2GXhqzSPn"
      },
      "source": [
        "Insertando las URIs de la clase: Características"
      ]
    },
    {
      "cell_type": "code",
      "metadata": {
        "ExecuteTime": {
          "end_time": "2019-10-13T00:43:03.424827Z",
          "start_time": "2019-10-13T00:43:03.415858Z"
        },
        "id": "ulfcl4UXBSeH"
      },
      "source": [
        "power = URIRef('characteristic:power')\n",
        "tougthness = URIRef('characteristic:tougthness')\n",
        "name = URIRef('characteristic:name')\n",
        "color = URIRef('characteristic:color')\n",
        "enchantCreature = URIRef('characteristic:enchantCreature')\n",
        "equip = URIRef('characteristic:equip')"
      ],
      "execution_count": null,
      "outputs": []
    },
    {
      "cell_type": "code",
      "metadata": {
        "ExecuteTime": {
          "end_time": "2019-10-13T00:43:03.570237Z",
          "start_time": "2019-10-13T00:43:03.563262Z"
        },
        "id": "D9eIMsHgBSeJ"
      },
      "source": [
        "g = ConjunctiveGraph()"
      ],
      "execution_count": null,
      "outputs": []
    },
    {
      "cell_type": "markdown",
      "metadata": {
        "id": "Dsqzh8wNzlhq"
      },
      "source": [
        "Creando las subclases de clase maestra: Objeto y subclases sucesoras"
      ]
    },
    {
      "cell_type": "code",
      "metadata": {
        "ExecuteTime": {
          "end_time": "2019-10-13T00:43:03.903452Z",
          "start_time": "2019-10-13T00:43:03.888496Z"
        },
        "id": "k-d2i6q7BSeL"
      },
      "source": [
        "# General categories\n",
        "\n",
        "g.add((n.spell, RDFS.subClassOf, n.object))\n",
        "g.add((n.land, RDFS.subClassOf, n.object))\n",
        "g.add((n.sorcery, RDFS.subClassOf, n.spell))\n",
        "g.add((n.instant, RDFS.subClassOf, n.spell))\n",
        "g.add((n.artifact, RDFS.subClassOf, n.spell))\n",
        "g.add((n.enchantment, RDFS.subClassOf, n.spell))\n",
        "g.add((n.creature, RDFS.subClassOf, n.spell))"
      ],
      "execution_count": null,
      "outputs": []
    },
    {
      "cell_type": "code",
      "metadata": {
        "ExecuteTime": {
          "end_time": "2019-10-13T00:43:04.061060Z",
          "start_time": "2019-10-13T00:43:04.036126Z"
        },
        "id": "lKaF2oWJBSeN"
      },
      "source": [
        "# Sub categories\n",
        "\n",
        "g.add((n.artificer, RDFS.subClassOf, n.creature))\n",
        "g.add((n.cleric, RDFS.subClassOf, n.creature))\n",
        "g.add((n.human, RDFS.subClassOf, n.creature))\n",
        "g.add((n.angel, RDFS.subClassOf, n.creature))\n",
        "g.add((n.elf, RDFS.subClassOf, n.creature))\n",
        "g.add((n.masticore, RDFS.subClassOf, n.creature))\n",
        "g.add((n.plant, RDFS.subClassOf, n.creature))\n",
        "g.add((n.skeleton, RDFS.subClassOf, n.creature))\n",
        "g.add((n.avatar, RDFS.subClassOf, n.creature))\n",
        "g.add((n.thrull, RDFS.subClassOf, n.creature))\n",
        "\n",
        "g.add((n.nonBasicLand, RDFS.subClassOf, n.land))\n",
        "g.add((n.basicLand, RDFS.subClassOf, n.land))\n",
        "\n",
        "g.add((n.equipment, RDFS.subClassOf, n.artifact))\n",
        "\n",
        "g.add((n.aura, RDFS.subClassOf, n.enchantment))"
      ],
      "execution_count": null,
      "outputs": []
    },
    {
      "cell_type": "markdown",
      "metadata": {
        "id": "9mYGud-Az1Fy"
      },
      "source": [
        "Ingresando los tipos de la Clase maestra:Objeto y subclases sucesoras"
      ]
    },
    {
      "cell_type": "code",
      "metadata": {
        "ExecuteTime": {
          "end_time": "2019-10-13T01:13:02.889744Z",
          "start_time": "2019-10-13T01:13:02.882763Z"
        },
        "id": "cVN-kHWMBSeP"
      },
      "source": [
        "# Non creature instances\n",
        "\n",
        "g.add((forest, RDF.type, n.basicLand))\n",
        "g.add((swamp, RDF.type, n.basicLand))\n",
        "g.add((plains, RDF.type, n.basicLand))\n",
        "g.add((mountain, RDF.type, n.basicLand))\n",
        "g.add((island, RDF.type, n.basicLand))\n",
        "\n",
        "g.add((cavesOfKoilos, RDF.type, n.nonBasicLand))\n",
        "g.add((adarkarWastes, RDF.type, n.nonBasicLand))\n",
        "\n",
        "g.add((engineeredPlague, RDF.type, n.enchantment))\n",
        "g.add((engineeredPlague, color, Literal('Black')))\n",
        "g.add((engineeredPlague, name, Literal('Engineered Plague')))\n",
        "\n",
        "g.add((wrathOfGod, RDF.type, n.sorcery))\n",
        "g.add((wrathOfGod, color, Literal('White')))\n",
        "g.add((wrathOfGod, name, Literal('Wrath of God')))\n",
        "\n",
        "g.add((terror, RDF.type, n.instant))\n",
        "g.add((terror, color, Literal('Black')))\n",
        "g.add((terror, name, Literal('Terror')))\n",
        "\n",
        "g.add((counterspell, RDF.type, n.instant))\n",
        "g.add((counterspell, color, Literal('Blue')))\n",
        "g.add((counterspell, name, Literal('Counterspell')))\n",
        "\n",
        "g.add((worldSlayer, RDF.type, n.equipment))\n",
        "g.add((worldSlayer, name, Literal('World Slayer')))\n",
        "g.add((starCompass, RDF.type, n.artifact))\n",
        "g.add((starCompass, name, Literal('Star Compass')))\n",
        "\n",
        "g.add((killSwitch, RDF.type, n.artifact))\n",
        "g.add((killSwitch, name, Literal('Kill Switch')))\n",
        "\n",
        "g.add((faceOfDivinity, RDF.type, n.aura))\n",
        "g.add((faceOfDivinity, color, Literal('White')))\n",
        "g.add((faceOfDivinity, name, Literal('Face of Divinity')))"
      ],
      "execution_count": null,
      "outputs": []
    },
    {
      "cell_type": "markdown",
      "metadata": {
        "id": "7PLHIKan0DQq"
      },
      "source": [
        "Creando Nombres Literales para identificación de las URIs de las instancias"
      ]
    },
    {
      "cell_type": "code",
      "metadata": {
        "ExecuteTime": {
          "end_time": "2019-10-13T02:01:31.973444Z",
          "start_time": "2019-10-13T02:01:31.945531Z"
        },
        "id": "Em0WVEAmBSeS"
      },
      "source": [
        "# Creature instances\n",
        "\n",
        "g.add((lesserMasticore, RDF.type, n.masticore))\n",
        "g.add((lesserMasticore, RDF.type, n.artifact))\n",
        "g.add((lesserMasticore, RDF.type, n.creature))\n",
        "g.add((lesserMasticore, power, Literal('2')))\n",
        "g.add((lesserMasticore, tougthness, Literal('2')))\n",
        "g.add((lesserMasticore, name, Literal('Lesser Masticore')))\n",
        "\n",
        "g.add((serraAngel, RDF.type, n.angel))\n",
        "g.add((serraAngel, color, Literal('White')))\n",
        "g.add((serraAngel, power, Literal('4')))\n",
        "g.add((serraAngel, tougthness, Literal('4')))\n",
        "g.add((serraAngel, name, Literal('Serra Angel')))\n",
        "\n",
        "g.add((segovianAngel, RDF.type, n.angel))\n",
        "g.add((segovianAngel, color, Literal('White')))\n",
        "g.add((segovianAngel, power, Literal('1')))\n",
        "g.add((segovianAngel, tougthness, Literal('1')))\n",
        "g.add((segovianAngel, name, Literal('Segovian Angel')))\n",
        "\n",
        "g.add((priestOfTitania, RDF.type, n.elf))\n",
        "g.add((priestOfTitania, color, Literal('Green')))\n",
        "g.add((priestOfTitania, power, Literal('1')))\n",
        "g.add((priestOfTitania, tougthness, Literal('1')))\n",
        "g.add((priestOfTitania, name, Literal('Priest of Titania')))\n",
        "\n",
        "g.add((rotFarmSkeleton, RDF.type, n.skeleton))\n",
        "g.add((rotFarmSkeleton, RDF.type, n.plant))\n",
        "g.add((rotFarmSkeleton, color, Literal('Green')))\n",
        "g.add((rotFarmSkeleton, color, Literal('Black')))\n",
        "g.add((rotFarmSkeleton, power, Literal('4')))\n",
        "g.add((rotFarmSkeleton, tougthness, Literal('1')))\n",
        "g.add((rotFarmSkeleton, name, Literal('Rot Farm Skeleton')))\n",
        "\n",
        "g.add((avatarOfWoe, RDF.type, n.avatar))\n",
        "g.add((avatarOfWoe, color, Literal('Black')))\n",
        "g.add((avatarOfWoe, power, Literal('6')))\n",
        "g.add((avatarOfWoe, tougthness, Literal('5')))\n",
        "g.add((avatarOfWoe, name, Literal('Avatar of Woe')))\n",
        "\n",
        "g.add((avatarOfFury, RDF.type, n.avatar))\n",
        "g.add((avatarOfFury, color, Literal('Red')))\n",
        "g.add((avatarOfFury, power, Literal('6')))\n",
        "g.add((avatarOfFury, tougthness, Literal('6')))\n",
        "g.add((avatarOfFury, name, Literal('Avatar of Fury')))\n",
        "\n",
        "g.add((yawgmothPhysician, RDF.type, n.human))\n",
        "g.add((yawgmothPhysician, RDF.type, n.cleric))\n",
        "g.add((yawgmothPhysician, color, Literal('Black')))\n",
        "g.add((yawgmothPhysician, power, Literal('2')))\n",
        "g.add((yawgmothPhysician, tougthness, Literal('4')))\n",
        "g.add((yawgmothPhysician, name, Literal('Yawgmoth, Thran Physician')))\n",
        "\n",
        "g.add((urzaArtificer, RDF.type, n.human))\n",
        "g.add((urzaArtificer, RDF.type, n.artificer))\n",
        "g.add((urzaArtificer, color, Literal('Blue')))\n",
        "g.add((urzaArtificer, power, Literal('1')))\n",
        "g.add((urzaArtificer, tougthness, Literal('4')))\n",
        "g.add((urzaArtificer, name, Literal('Urza, Lord High Artificer')))\n",
        "\n",
        "g.add((feralAbomination, RDF.type, n.thrull))\n",
        "g.add((feralAbomination, color, Literal('Black')))\n",
        "g.add((feralAbomination, power, Literal('5')))\n",
        "g.add((feralAbomination, tougthness, Literal('5')))\n",
        "g.add((feralAbomination, name, Literal('Feral Abomination')))"
      ],
      "execution_count": null,
      "outputs": []
    },
    {
      "cell_type": "markdown",
      "metadata": {
        "id": "PgtMBJLx0bid"
      },
      "source": [
        "Ingresando las SubPropiedades de la clase: Características y sucesoras"
      ]
    },
    {
      "cell_type": "code",
      "metadata": {
        "ExecuteTime": {
          "end_time": "2019-10-13T00:43:04.339392Z",
          "start_time": "2019-10-13T00:43:04.320438Z"
        },
        "id": "LMhtcIDEBSeU"
      },
      "source": [
        "# Properties\n",
        "\n",
        "g.add((color, RDFS.subPropertyOf, n.characteristic))\n",
        "g.add((power, RDFS.subPropertyOf, n.characteristic))\n",
        "g.add((tougthness, RDFS.subPropertyOf, n.characteristic))\n",
        "g.add((name, RDFS.subPropertyOf, n.characteristic))\n",
        "\n",
        "g.add((enchantCreature, RDFS.domain, n.aura))\n",
        "g.add((enchantCreature, RDFS.range, n.creature))\n",
        "g.add((enchantCreature, RDFS.subPropertyOf, n.characteristic))\n",
        "g.add((equip, RDFS.domain, n.equipment))\n",
        "g.add((equip, RDFS.range, n.creature))\n",
        "g.add((equip, RDFS.subPropertyOf, n.characteristic))"
      ],
      "execution_count": null,
      "outputs": []
    },
    {
      "cell_type": "code",
      "metadata": {
        "ExecuteTime": {
          "end_time": "2019-10-13T00:43:04.514013Z",
          "start_time": "2019-10-13T00:43:04.502013Z"
        },
        "id": "EXPe0QoQBSeW"
      },
      "source": [
        "# Labels definition\n",
        "\n",
        "g.add((color, RDFS.subPropertyOf, RDFS.label))\n",
        "g.add((power, RDFS.subPropertyOf, RDFS.label))\n",
        "g.add((tougthness, RDFS.subPropertyOf, RDFS.label))\n",
        "g.add((name, RDFS.subPropertyOf, RDFS.label))"
      ],
      "execution_count": null,
      "outputs": []
    },
    {
      "cell_type": "markdown",
      "metadata": {
        "id": "T-m1UvBs2K6E"
      },
      "source": [
        "Ingresando los nombres literales de las propiedades y sub-propiedades"
      ]
    },
    {
      "cell_type": "code",
      "metadata": {
        "ExecuteTime": {
          "end_time": "2019-10-13T01:10:42.902109Z",
          "start_time": "2019-10-13T01:10:42.888147Z"
        },
        "id": "040WoEJvBSeY"
      },
      "source": [
        "# Names\n",
        "\n",
        "g.add((n.object, name, Literal('Object')))\n",
        "g.add((n.sorcery, name, Literal('Sorcery')))\n",
        "g.add((n.enchantment, name, Literal('Enchantment')))\n",
        "g.add((n.creature, name, Literal('Creature')))\n",
        "g.add((n.instant, name, Literal('Instant')))\n",
        "g.add((n.artifact, name, Literal('Artifact')))\n",
        "g.add((n.nonBasicLand, name, Literal('Non Basic Land')))\n",
        "g.add((n.basicLand, name, Literal('Basic Land')))\n",
        "g.add((n.aura, name, Literal('Aura')))\n",
        "g.add((n.equipment, name, Literal('Equipment')))\n",
        "g.add((n.spell, name, Literal('Spell')))\n",
        "g.add((n.elf, name, Literal('Elf')))\n",
        "g.add((n.angel, name, Literal('Angel')))\n",
        "g.add((n.avatar, name, Literal('Avatar')))\n",
        "g.add((n.artificer, name, Literal('Artificer')))\n",
        "g.add((n.skeleton, name, Literal('Skeleton')))\n",
        "g.add((n.human, name, Literal('Human')))\n",
        "g.add((n.land, name, Literal('Land')))\n",
        "g.add((n.cleric, name, Literal('Cleric')))\n",
        "g.add((n.plant, name, Literal('Plant')))\n",
        "g.add((forest, name, Literal('Forest')))\n",
        "g.add((plains, name, Literal('Plains')))\n",
        "g.add((swamp, name, Literal('Swamp')))\n",
        "g.add((mountain, name, Literal('Mountain')))\n",
        "g.add((island, name, Literal('Islands')))\n",
        "g.add((cavesOfKoilos, name, Literal('Caves of Koilos')))\n",
        "g.add((adarkarWastes, name, Literal('Adarkar Wastes')))\n",
        "g.add((n.thrull, name, Literal('Thrull')))\n",
        "g.add((n.masticore, name, Literal('Masticore')))\n",
        "g.add((n.enchantCreature, name, Literal('Enchant Creature')))\n",
        "g.add((feralAbomination, name, Literal('Feral Abomination')))\n",
        "g.add((faceOfDivinity, name, Literal('Face of Divinity')))"
      ],
      "execution_count": null,
      "outputs": []
    },
    {
      "cell_type": "code",
      "metadata": {
        "ExecuteTime": {
          "end_time": "2019-10-13T02:44:59.218743Z",
          "start_time": "2019-10-13T02:44:59.195799Z"
        },
        "id": "4shXMhDGBSea",
        "outputId": "83baee38-1dca-4a2e-a017-795ac8fb4247",
        "colab": {
          "base_uri": "https://localhost:8080/",
          "height": 55
        }
      },
      "source": [
        "print(str(g.serialize(format='xml')).replace('\\\\n', ''))"
      ],
      "execution_count": null,
      "outputs": [
        {
          "output_type": "stream",
          "text": [
            "b'<?xml version=\"1.0\" encoding=\"UTF-8\"?><rdf:RDF   xmlns:ns1=\"characteristic:\"   xmlns:rdf=\"http://www.w3.org/1999/02/22-rdf-syntax-ns#\"   xmlns:rdfs=\"http://www.w3.org/2000/01/rdf-schema#\">  <rdf:Description rdf:about=\"https://mtg.gamepedia.com/artificer\">    <rdfs:subClassOf rdf:resource=\"https://mtg.gamepedia.com/creature\"/>    <ns1:name>Artificer</ns1:name>  </rdf:Description>  <rdf:Description rdf:about=\"https://mtg.gamepedia.com/masticore\">    <rdfs:subClassOf rdf:resource=\"https://mtg.gamepedia.com/creature\"/>    <ns1:name>Masticore</ns1:name>  </rdf:Description>  <rdf:Description rdf:about=\"characteristic:color\">    <rdfs:subPropertyOf rdf:resource=\"http://www.w3.org/2000/01/rdf-schema#label\"/>    <rdfs:subPropertyOf rdf:resource=\"https://mtg.gamepedia.com/characteristic\"/>  </rdf:Description>  <rdf:Description rdf:about=\"https://gatherer.wizards.com/Pages/Card/Details.aspx?multiverseid=466855\">    <ns1:tougthness>5</ns1:tougthness>    <ns1:name>Feral Abomination</ns1:name>    <rdf:type rdf:resource=\"https://mtg.gamepedia.com/thrull\"/>    <ns1:power>5</ns1:power>    <ns1:color>Black</ns1:color>  </rdf:Description>  <rdf:Description rdf:about=\"characteristic:power\">    <rdfs:subPropertyOf rdf:resource=\"http://www.w3.org/2000/01/rdf-schema#label\"/>    <rdfs:subPropertyOf rdf:resource=\"https://mtg.gamepedia.com/characteristic\"/>  </rdf:Description>  <rdf:Description rdf:about=\"https://mtg.gamepedia.com/plant\">    <rdfs:subClassOf rdf:resource=\"https://mtg.gamepedia.com/creature\"/>    <ns1:name>Plant</ns1:name>  </rdf:Description>  <rdf:Description rdf:about=\"https://mtg.gamepedia.com/land\">    <ns1:name>Land</ns1:name>    <rdfs:subClassOf rdf:resource=\"https://mtg.gamepedia.com/object\"/>  </rdf:Description>  <rdf:Description rdf:about=\"https://gatherer.wizards.com/Pages/Card/Details.aspx?multiverseid=165565\">    <rdf:type rdf:resource=\"https://mtg.gamepedia.com/artifact\"/>    <ns1:name>Star Compass</ns1:name>  </rdf:Description>  <rdf:Description rdf:about=\"https://gatherer.wizards.com/Pages/Card/Details.aspx?multiverseid=464682\">    <rdf:type rdf:resource=\"https://mtg.gamepedia.com/artifact\"/>    <ns1:name>Lesser Masticore</ns1:name>    <ns1:power>2</ns1:power>    <rdf:type rdf:resource=\"https://mtg.gamepedia.com/creature\"/>    <rdf:type rdf:resource=\"https://mtg.gamepedia.com/masticore\"/>    <ns1:tougthness>2</ns1:tougthness>  </rdf:Description>  <rdf:Description rdf:about=\"https://mtg.gamepedia.com/spell\">    <rdfs:subClassOf rdf:resource=\"https://mtg.gamepedia.com/object\"/>    <ns1:name>Spell</ns1:name>  </rdf:Description>  <rdf:Description rdf:about=\"https://gatherer.wizards.com/pages/card/details.aspx?multiverseid=202437\">    <ns1:name>Counterspell</ns1:name>    <ns1:color>Blue</ns1:color>    <rdf:type rdf:resource=\"https://mtg.gamepedia.com/instant\"/>  </rdf:Description>  <rdf:Description rdf:about=\"https://mtg.gamepedia.com/equipment\">    <ns1:name>Equipment</ns1:name>    <rdfs:subClassOf rdf:resource=\"https://mtg.gamepedia.com/artifact\"/>  </rdf:Description>  <rdf:Description rdf:about=\"https://gatherer.wizards.com/Pages/Card/Details.aspx?multiverseid=260729\">    <ns1:name>Avatar of Woe</ns1:name>    <ns1:tougthness>5</ns1:tougthness>    <rdf:type rdf:resource=\"https://mtg.gamepedia.com/avatar\"/>    <ns1:color>Black</ns1:color>    <ns1:power>6</ns1:power>  </rdf:Description>  <rdf:Description rdf:about=\"characteristic:enchantCreature\">    <rdfs:subPropertyOf rdf:resource=\"https://mtg.gamepedia.com/characteristic\"/>    <rdfs:domain rdf:resource=\"https://mtg.gamepedia.com/aura\"/>    <rdfs:range rdf:resource=\"https://mtg.gamepedia.com/creature\"/>  </rdf:Description>  <rdf:Description rdf:about=\"https://gatherer.wizards.com/Pages/Card/Details.aspx?multiverseid=464024\">    <rdf:type rdf:resource=\"https://mtg.gamepedia.com/human\"/>    <ns1:name>Urza, Lord High Artificer</ns1:name>    <ns1:power>1</ns1:power>    <rdf:type rdf:resource=\"https://mtg.gamepedia.com/artificer\"/>    <ns1:color>Blue</ns1:color>    <ns1:tougthness>4</ns1:tougthness>  </rdf:Description>  <rdf:Description rdf:about=\"https://gatherer.wizards.com/Pages/Card/Details.aspx?multiverseid=150663\">    <ns1:name>Adarkar Wastes</ns1:name>    <rdf:type rdf:resource=\"https://mtg.gamepedia.com/nonBasicLand\"/>  </rdf:Description>  <rdf:Description rdf:about=\"https://mtg.gamepedia.com/skeleton\">    <ns1:name>Skeleton</ns1:name>    <rdfs:subClassOf rdf:resource=\"https://mtg.gamepedia.com/creature\"/>  </rdf:Description>  <rdf:Description rdf:about=\"https://mtg.gamepedia.com/thrull\">    <ns1:name>Thrull</ns1:name>    <rdfs:subClassOf rdf:resource=\"https://mtg.gamepedia.com/creature\"/>  </rdf:Description>  <rdf:Description rdf:about=\"https://gatherer.wizards.com/Pages/Card/Details.aspx?multiverseid=378372\">    <rdf:type rdf:resource=\"https://mtg.gamepedia.com/sorcery\"/>    <ns1:name>Wrath of God</ns1:name>    <ns1:color>White</ns1:color>  </rdf:Description>  <rdf:Description rdf:about=\"https://mtg.gamepedia.com/creature\">    <rdfs:subClassOf rdf:resource=\"https://mtg.gamepedia.com/spell\"/>    <ns1:name>Creature</ns1:name>  </rdf:Description>  <rdf:Description rdf:about=\"https://gatherer.wizards.com/Pages/Card/Details.aspx?multiverseid=391664\">    <ns1:power>1</ns1:power>    <ns1:name>Priest of Titania</ns1:name>    <ns1:tougthness>1</ns1:tougthness>    <rdf:type rdf:resource=\"https://mtg.gamepedia.com/elf\"/>    <ns1:color>Green</ns1:color>  </rdf:Description>  <rdf:Description rdf:about=\"https://gatherer.wizards.com/Pages/Card/Details.aspx?multiverseid=464482\">    <ns1:name>Segovian Angel</ns1:name>    <ns1:color>White</ns1:color>    <ns1:power>1</ns1:power>    <rdf:type rdf:resource=\"https://mtg.gamepedia.com/angel\"/>    <ns1:tougthness>1</ns1:tougthness>  </rdf:Description>  <rdf:Description rdf:about=\"https://gatherer.wizards.com/Pages/Card/Details.aspx?multiverseid=370232\">    <rdf:type rdf:resource=\"https://mtg.gamepedia.com/skeleton\"/>    <ns1:tougthness>1</ns1:tougthness>    <ns1:power>4</ns1:power>    <ns1:color>Black</ns1:color>    <ns1:color>Green</ns1:color>    <rdf:type rdf:resource=\"https://mtg.gamepedia.com/plant\"/>    <ns1:name>Rot Farm Skeleton</ns1:name>  </rdf:Description>  <rdf:Description rdf:about=\"characteristic:tougthness\">    <rdfs:subPropertyOf rdf:resource=\"http://www.w3.org/2000/01/rdf-schema#label\"/>    <rdfs:subPropertyOf rdf:resource=\"https://mtg.gamepedia.com/characteristic\"/>  </rdf:Description>  <rdf:Description rdf:about=\"https://mtg.gamepedia.com/angel\">    <ns1:name>Angel</ns1:name>    <rdfs:subClassOf rdf:resource=\"https://mtg.gamepedia.com/creature\"/>  </rdf:Description>  <rdf:Description rdf:about=\"https://mtg.gamepedia.com/enchantment\">    <ns1:name>Enchantment</ns1:name>    <rdfs:subClassOf rdf:resource=\"https://mtg.gamepedia.com/spell\"/>  </rdf:Description>  <rdf:Description rdf:about=\"https://mtg.gamepedia.com/avatar\">    <rdfs:subClassOf rdf:resource=\"https://mtg.gamepedia.com/creature\"/>    <ns1:name>Avatar</ns1:name>  </rdf:Description>  <rdf:Description rdf:about=\"https://gatherer.wizards.com/Pages/Card/Details.aspx?multiverseid=87129\">    <ns1:name>Islands</ns1:name>    <rdf:type rdf:resource=\"https://mtg.gamepedia.com/basicLand\"/>  </rdf:Description>  <rdf:Description rdf:about=\"https://mtg.gamepedia.com/human\">    <rdfs:subClassOf rdf:resource=\"https://mtg.gamepedia.com/creature\"/>    <ns1:name>Human</ns1:name>  </rdf:Description>  <rdf:Description rdf:about=\"https://gatherer.wizards.com/Pages/Card/Details.aspx?multiverseid=260766\">    <ns1:color>Red</ns1:color>    <ns1:power>6</ns1:power>    <ns1:tougthness>6</ns1:tougthness>    <ns1:name>Avatar of Fury</ns1:name>    <rdf:type rdf:resource=\"https://mtg.gamepedia.com/avatar\"/>  </rdf:Description>  <rdf:Description rdf:about=\"https://gatherer.wizards.com/Pages/Card/Details.aspx?multiverseid=158969\">    <rdf:type rdf:resource=\"https://mtg.gamepedia.com/basicLand\"/>    <ns1:name>Plains</ns1:name>  </rdf:Description>  <rdf:Description rdf:about=\"https://gatherer.wizards.com/Pages/Card/Details.aspx?multiverseid=473766\">    <ns1:name>Forest</ns1:name>    <rdf:type rdf:resource=\"https://mtg.gamepedia.com/basicLand\"/>  </rdf:Description>  <rdf:Description rdf:about=\"https://gatherer.wizards.com/Pages/Card/Details.aspx?multiverseid=150498\">    <ns1:name>Terror</ns1:name>    <ns1:color>Black</ns1:color>    <rdf:type rdf:resource=\"https://mtg.gamepedia.com/instant\"/>  </rdf:Description>  <rdf:Description rdf:about=\"https://gatherer.wizards.com/Pages/Card/Details.aspx?multiverseid=12944\">    <rdf:type rdf:resource=\"https://mtg.gamepedia.com/enchantment\"/>    <ns1:color>Black</ns1:color>    <ns1:name>Engineered Plague</ns1:name>  </rdf:Description>  <rdf:Description rdf:about=\"https://gatherer.wizards.com/Pages/Card/Details.aspx?multiverseid=464465\">    <rdf:type rdf:resource=\"https://mtg.gamepedia.com/aura\"/>    <ns1:name>Face of Divinity</ns1:name>    <ns1:color>White</ns1:color>  </rdf:Description>  <rdf:Description rdf:about=\"https://gatherer.wizards.com/Pages/Card/Details.aspx?multiverseid=464573\">    <ns1:color>Black</ns1:color>    <rdf:type rdf:resource=\"https://mtg.gamepedia.com/cleric\"/>    <ns1:tougthness>4</ns1:tougthness>    <rdf:type rdf:resource=\"https://mtg.gamepedia.com/human\"/>    <ns1:power>2</ns1:power>    <ns1:name>Yawgmoth, Thran Physician</ns1:name>  </rdf:Description>  <rdf:Description rdf:about=\"https://gatherer.wizards.com/Pages/Card/Details.aspx?multiverseid=443459\">    <ns1:name>Serra Angel</ns1:name>    <ns1:color>White</ns1:color>    <ns1:power>4</ns1:power>    <rdf:type rdf:resource=\"https://mtg.gamepedia.com/angel\"/>    <ns1:tougthness>4</ns1:tougthness>  </rdf:Description>  <rdf:Description rdf:about=\"https://mtg.gamepedia.com/sorcery\">    <ns1:name>Sorcery</ns1:name>    <rdfs:subClassOf rdf:resource=\"https://mtg.gamepedia.com/spell\"/>  </rdf:Description>  <rdf:Description rdf:about=\"https://mtg.gamepedia.com/aura\">    <ns1:name>Aura</ns1:name>    <rdfs:subClassOf rdf:resource=\"https://mtg.gamepedia.com/enchantment\"/>  </rdf:Description>  <rdf:Description rdf:about=\"https://mtg.gamepedia.com/cleric\">    <rdfs:subClassOf rdf:resource=\"https://mtg.gamepedia.com/creature\"/>    <ns1:name>Cleric</ns1:name>  </rdf:Description>  <rdf:Description rdf:about=\"https://gatherer.wizards.com/Pages/Card/Details.aspx?multiverseid=473762\">    <ns1:name>Mountain</ns1:name>    <rdf:type rdf:resource=\"https://mtg.gamepedia.com/basicLand\"/>  </rdf:Description>  <rdf:Description rdf:about=\"https://mtg.gamepedia.com/enchantCreature\">    <ns1:name>Enchant Creature</ns1:name>  </rdf:Description>  <rdf:Description rdf:about=\"https://mtg.gamepedia.com/object\">    <ns1:name>Object</ns1:name>  </rdf:Description>  <rdf:Description rdf:about=\"https://mtg.gamepedia.com/artifact\">    <rdfs:subClassOf rdf:resource=\"https://mtg.gamepedia.com/spell\"/>    <ns1:name>Artifact</ns1:name>  </rdf:Description>  <rdf:Description rdf:about=\"https://gatherer.wizards.com/Pages/Card/Details.aspx?multiverseid=265091\">    <rdf:type rdf:resource=\"https://mtg.gamepedia.com/equipment\"/>    <ns1:name>World Slayer</ns1:name>  </rdf:Description>  <rdf:Description rdf:about=\"https://gatherer.wizards.com/Pages/Card/Details.aspx?multiverseid=473758\">    <rdf:type rdf:resource=\"https://mtg.gamepedia.com/basicLand\"/>    <ns1:name>Swamp</ns1:name>  </rdf:Description>  <rdf:Description rdf:about=\"https://mtg.gamepedia.com/nonBasicLand\">    <ns1:name>Non Basic Land</ns1:name>    <rdfs:subClassOf rdf:resource=\"https://mtg.gamepedia.com/land\"/>  </rdf:Description>  <rdf:Description rdf:about=\"https://gatherer.wizards.com/Pages/Card/Details.aspx?multiverseid=423359\">    <ns1:name>Caves of Koilos</ns1:name>    <rdf:type rdf:resource=\"https://mtg.gamepedia.com/nonBasicLand\"/>  </rdf:Description>  <rdf:Description rdf:about=\"https://mtg.gamepedia.com/basicLand\">    <ns1:name>Basic Land</ns1:name>    <rdfs:subClassOf rdf:resource=\"https://mtg.gamepedia.com/land\"/>  </rdf:Description>  <rdf:Description rdf:about=\"https://mtg.gamepedia.com/instant\">    <rdfs:subClassOf rdf:resource=\"https://mtg.gamepedia.com/spell\"/>    <ns1:name>Instant</ns1:name>  </rdf:Description>  <rdf:Description rdf:about=\"characteristic:equip\">    <rdfs:domain rdf:resource=\"https://mtg.gamepedia.com/equipment\"/>    <rdfs:range rdf:resource=\"https://mtg.gamepedia.com/creature\"/>    <rdfs:subPropertyOf rdf:resource=\"https://mtg.gamepedia.com/characteristic\"/>  </rdf:Description>  <rdf:Description rdf:about=\"characteristic:name\">    <rdfs:subPropertyOf rdf:resource=\"http://www.w3.org/2000/01/rdf-schema#label\"/>    <rdfs:subPropertyOf rdf:resource=\"https://mtg.gamepedia.com/characteristic\"/>  </rdf:Description>  <rdf:Description rdf:about=\"https://gatherer.wizards.com/Pages/Card/Details.aspx?multiverseid=22318\">    <ns1:name>Kill Switch</ns1:name>    <rdf:type rdf:resource=\"https://mtg.gamepedia.com/artifact\"/>  </rdf:Description>  <rdf:Description rdf:about=\"https://mtg.gamepedia.com/elf\">    <rdfs:subClassOf rdf:resource=\"https://mtg.gamepedia.com/creature\"/>    <ns1:name>Elf</ns1:name>  </rdf:Description></rdf:RDF>'\n"
          ],
          "name": "stdout"
        }
      ]
    },
    {
      "cell_type": "code",
      "metadata": {
        "id": "rNqc6ltnQvw6",
        "outputId": "185803bc-dc6f-414a-a8c5-e53221c20bbc",
        "colab": {
          "base_uri": "https://localhost:8080/",
          "height": 1000
        }
      },
      "source": [
        "texto = str(g.serialize(format=\"xml\", encoding='utf-8').decode())\n",
        "for line in texto.splitlines():\n",
        "    print(line)"
      ],
      "execution_count": null,
      "outputs": [
        {
          "output_type": "stream",
          "text": [
            "<?xml version=\"1.0\" encoding=\"UTF-8\"?>\n",
            "<rdf:RDF\n",
            "   xmlns:ns1=\"characteristic:\"\n",
            "   xmlns:rdf=\"http://www.w3.org/1999/02/22-rdf-syntax-ns#\"\n",
            "   xmlns:rdfs=\"http://www.w3.org/2000/01/rdf-schema#\"\n",
            ">\n",
            "  <rdf:Description rdf:about=\"characteristic:name\">\n",
            "    <rdfs:subPropertyOf rdf:resource=\"https://mtg.gamepedia.com/characteristic\"/>\n",
            "    <rdfs:subPropertyOf rdf:resource=\"http://www.w3.org/2000/01/rdf-schema#label\"/>\n",
            "  </rdf:Description>\n",
            "  <rdf:Description rdf:about=\"characteristic:color\">\n",
            "    <rdfs:subPropertyOf rdf:resource=\"https://mtg.gamepedia.com/characteristic\"/>\n",
            "    <rdfs:subPropertyOf rdf:resource=\"http://www.w3.org/2000/01/rdf-schema#label\"/>\n",
            "  </rdf:Description>\n",
            "  <rdf:Description rdf:about=\"https://gatherer.wizards.com/Pages/Card/Details.aspx?multiverseid=464682\">\n",
            "    <ns1:name>Lesser Masticore</ns1:name>\n",
            "    <rdf:type rdf:resource=\"https://mtg.gamepedia.com/masticore\"/>\n",
            "    <ns1:power>2</ns1:power>\n",
            "    <rdf:type rdf:resource=\"https://mtg.gamepedia.com/creature\"/>\n",
            "    <ns1:tougthness>2</ns1:tougthness>\n",
            "    <rdf:type rdf:resource=\"https://mtg.gamepedia.com/artifact\"/>\n",
            "  </rdf:Description>\n",
            "  <rdf:Description rdf:about=\"https://gatherer.wizards.com/Pages/Card/Details.aspx?multiverseid=150498\">\n",
            "    <ns1:name>Terror</ns1:name>\n",
            "    <ns1:color>Black</ns1:color>\n",
            "    <rdf:type rdf:resource=\"https://mtg.gamepedia.com/instant\"/>\n",
            "  </rdf:Description>\n",
            "  <rdf:Description rdf:about=\"https://gatherer.wizards.com/Pages/Card/Details.aspx?multiverseid=464573\">\n",
            "    <rdf:type rdf:resource=\"https://mtg.gamepedia.com/human\"/>\n",
            "    <ns1:color>Black</ns1:color>\n",
            "    <rdf:type rdf:resource=\"https://mtg.gamepedia.com/cleric\"/>\n",
            "    <ns1:tougthness>4</ns1:tougthness>\n",
            "    <ns1:power>2</ns1:power>\n",
            "    <ns1:name>Yawgmoth, Thran Physician</ns1:name>\n",
            "  </rdf:Description>\n",
            "  <rdf:Description rdf:about=\"https://gatherer.wizards.com/Pages/Card/Details.aspx?multiverseid=443459\">\n",
            "    <ns1:name>Serra Angel</ns1:name>\n",
            "    <ns1:power>4</ns1:power>\n",
            "    <rdf:type rdf:resource=\"https://mtg.gamepedia.com/angel\"/>\n",
            "    <ns1:color>White</ns1:color>\n",
            "    <ns1:tougthness>4</ns1:tougthness>\n",
            "  </rdf:Description>\n",
            "  <rdf:Description rdf:about=\"https://gatherer.wizards.com/Pages/Card/Details.aspx?multiverseid=464482\">\n",
            "    <ns1:color>White</ns1:color>\n",
            "    <ns1:power>1</ns1:power>\n",
            "    <ns1:name>Segovian Angel</ns1:name>\n",
            "    <ns1:tougthness>1</ns1:tougthness>\n",
            "    <rdf:type rdf:resource=\"https://mtg.gamepedia.com/angel\"/>\n",
            "  </rdf:Description>\n",
            "  <rdf:Description rdf:about=\"https://gatherer.wizards.com/Pages/Card/Details.aspx?multiverseid=260729\">\n",
            "    <ns1:color>Black</ns1:color>\n",
            "    <ns1:power>6</ns1:power>\n",
            "    <ns1:tougthness>5</ns1:tougthness>\n",
            "    <ns1:name>Avatar of Woe</ns1:name>\n",
            "    <rdf:type rdf:resource=\"https://mtg.gamepedia.com/avatar\"/>\n",
            "  </rdf:Description>\n",
            "  <rdf:Description rdf:about=\"https://mtg.gamepedia.com/elf\">\n",
            "    <ns1:name>Elf</ns1:name>\n",
            "    <rdfs:subClassOf rdf:resource=\"https://mtg.gamepedia.com/creature\"/>\n",
            "  </rdf:Description>\n",
            "  <rdf:Description rdf:about=\"https://gatherer.wizards.com/Pages/Card/Details.aspx?multiverseid=370232\">\n",
            "    <ns1:color>Black</ns1:color>\n",
            "    <ns1:power>4</ns1:power>\n",
            "    <rdf:type rdf:resource=\"https://mtg.gamepedia.com/plant\"/>\n",
            "    <ns1:color>Green</ns1:color>\n",
            "    <ns1:tougthness>1</ns1:tougthness>\n",
            "    <rdf:type rdf:resource=\"https://mtg.gamepedia.com/skeleton\"/>\n",
            "    <ns1:name>Rot Farm Skeleton</ns1:name>\n",
            "  </rdf:Description>\n",
            "  <rdf:Description rdf:about=\"https://gatherer.wizards.com/Pages/Card/Details.aspx?multiverseid=158969\">\n",
            "    <ns1:name>Plains</ns1:name>\n",
            "    <rdf:type rdf:resource=\"https://mtg.gamepedia.com/basicLand\"/>\n",
            "  </rdf:Description>\n",
            "  <rdf:Description rdf:about=\"https://mtg.gamepedia.com/artifact\">\n",
            "    <rdfs:subClassOf rdf:resource=\"https://mtg.gamepedia.com/spell\"/>\n",
            "    <ns1:name>Artifact</ns1:name>\n",
            "  </rdf:Description>\n",
            "  <rdf:Description rdf:about=\"characteristic:equip\">\n",
            "    <rdfs:range rdf:resource=\"https://mtg.gamepedia.com/creature\"/>\n",
            "    <rdfs:subPropertyOf rdf:resource=\"https://mtg.gamepedia.com/characteristic\"/>\n",
            "    <rdfs:domain rdf:resource=\"https://mtg.gamepedia.com/equipment\"/>\n",
            "  </rdf:Description>\n",
            "  <rdf:Description rdf:about=\"https://mtg.gamepedia.com/basicLand\">\n",
            "    <rdfs:subClassOf rdf:resource=\"https://mtg.gamepedia.com/land\"/>\n",
            "    <ns1:name>Basic Land</ns1:name>\n",
            "  </rdf:Description>\n",
            "  <rdf:Description rdf:about=\"https://gatherer.wizards.com/Pages/Card/Details.aspx?multiverseid=12944\">\n",
            "    <rdf:type rdf:resource=\"https://mtg.gamepedia.com/enchantment\"/>\n",
            "    <ns1:color>Black</ns1:color>\n",
            "    <ns1:name>Engineered Plague</ns1:name>\n",
            "  </rdf:Description>\n",
            "  <rdf:Description rdf:about=\"https://gatherer.wizards.com/Pages/Card/Details.aspx?multiverseid=464465\">\n",
            "    <ns1:color>White</ns1:color>\n",
            "    <ns1:name>Face of Divinity</ns1:name>\n",
            "    <rdf:type rdf:resource=\"https://mtg.gamepedia.com/aura\"/>\n",
            "  </rdf:Description>\n",
            "  <rdf:Description rdf:about=\"https://mtg.gamepedia.com/object\">\n",
            "    <ns1:name>Object</ns1:name>\n",
            "  </rdf:Description>\n",
            "  <rdf:Description rdf:about=\"https://mtg.gamepedia.com/creature\">\n",
            "    <ns1:name>Creature</ns1:name>\n",
            "    <rdfs:subClassOf rdf:resource=\"https://mtg.gamepedia.com/spell\"/>\n",
            "  </rdf:Description>\n",
            "  <rdf:Description rdf:about=\"https://mtg.gamepedia.com/angel\">\n",
            "    <rdfs:subClassOf rdf:resource=\"https://mtg.gamepedia.com/creature\"/>\n",
            "    <ns1:name>Angel</ns1:name>\n",
            "  </rdf:Description>\n",
            "  <rdf:Description rdf:about=\"https://gatherer.wizards.com/Pages/Card/Details.aspx?multiverseid=466855\">\n",
            "    <ns1:tougthness>5</ns1:tougthness>\n",
            "    <ns1:name>Feral Abomination</ns1:name>\n",
            "    <ns1:power>5</ns1:power>\n",
            "    <ns1:color>Black</ns1:color>\n",
            "    <rdf:type rdf:resource=\"https://mtg.gamepedia.com/thrull\"/>\n",
            "  </rdf:Description>\n",
            "  <rdf:Description rdf:about=\"https://mtg.gamepedia.com/avatar\">\n",
            "    <ns1:name>Avatar</ns1:name>\n",
            "    <rdfs:subClassOf rdf:resource=\"https://mtg.gamepedia.com/creature\"/>\n",
            "  </rdf:Description>\n",
            "  <rdf:Description rdf:about=\"https://mtg.gamepedia.com/aura\">\n",
            "    <ns1:name>Aura</ns1:name>\n",
            "    <rdfs:subClassOf rdf:resource=\"https://mtg.gamepedia.com/enchantment\"/>\n",
            "  </rdf:Description>\n",
            "  <rdf:Description rdf:about=\"https://gatherer.wizards.com/Pages/Card/Details.aspx?multiverseid=265091\">\n",
            "    <rdf:type rdf:resource=\"https://mtg.gamepedia.com/equipment\"/>\n",
            "    <ns1:name>World Slayer</ns1:name>\n",
            "  </rdf:Description>\n",
            "  <rdf:Description rdf:about=\"https://gatherer.wizards.com/Pages/Card/Details.aspx?multiverseid=391664\">\n",
            "    <ns1:power>1</ns1:power>\n",
            "    <rdf:type rdf:resource=\"https://mtg.gamepedia.com/elf\"/>\n",
            "    <ns1:tougthness>1</ns1:tougthness>\n",
            "    <ns1:name>Priest of Titania</ns1:name>\n",
            "    <ns1:color>Green</ns1:color>\n",
            "  </rdf:Description>\n",
            "  <rdf:Description rdf:about=\"https://gatherer.wizards.com/Pages/Card/Details.aspx?multiverseid=260766\">\n",
            "    <ns1:power>6</ns1:power>\n",
            "    <ns1:color>Red</ns1:color>\n",
            "    <ns1:name>Avatar of Fury</ns1:name>\n",
            "    <ns1:tougthness>6</ns1:tougthness>\n",
            "    <rdf:type rdf:resource=\"https://mtg.gamepedia.com/avatar\"/>\n",
            "  </rdf:Description>\n",
            "  <rdf:Description rdf:about=\"https://gatherer.wizards.com/pages/card/details.aspx?multiverseid=202437\">\n",
            "    <rdf:type rdf:resource=\"https://mtg.gamepedia.com/instant\"/>\n",
            "    <ns1:color>Blue</ns1:color>\n",
            "    <ns1:name>Counterspell</ns1:name>\n",
            "  </rdf:Description>\n",
            "  <rdf:Description rdf:about=\"https://mtg.gamepedia.com/spell\">\n",
            "    <ns1:name>Spell</ns1:name>\n",
            "    <rdfs:subClassOf rdf:resource=\"https://mtg.gamepedia.com/object\"/>\n",
            "  </rdf:Description>\n",
            "  <rdf:Description rdf:about=\"https://mtg.gamepedia.com/sorcery\">\n",
            "    <ns1:name>Sorcery</ns1:name>\n",
            "    <rdfs:subClassOf rdf:resource=\"https://mtg.gamepedia.com/spell\"/>\n",
            "  </rdf:Description>\n",
            "  <rdf:Description rdf:about=\"https://mtg.gamepedia.com/thrull\">\n",
            "    <rdfs:subClassOf rdf:resource=\"https://mtg.gamepedia.com/creature\"/>\n",
            "    <ns1:name>Thrull</ns1:name>\n",
            "  </rdf:Description>\n",
            "  <rdf:Description rdf:about=\"characteristic:enchantCreature\">\n",
            "    <rdfs:range rdf:resource=\"https://mtg.gamepedia.com/creature\"/>\n",
            "    <rdfs:domain rdf:resource=\"https://mtg.gamepedia.com/aura\"/>\n",
            "    <rdfs:subPropertyOf rdf:resource=\"https://mtg.gamepedia.com/characteristic\"/>\n",
            "  </rdf:Description>\n",
            "  <rdf:Description rdf:about=\"https://gatherer.wizards.com/Pages/Card/Details.aspx?multiverseid=423359\">\n",
            "    <rdf:type rdf:resource=\"https://mtg.gamepedia.com/nonBasicLand\"/>\n",
            "    <ns1:name>Caves of Koilos</ns1:name>\n",
            "  </rdf:Description>\n",
            "  <rdf:Description rdf:about=\"https://mtg.gamepedia.com/equipment\">\n",
            "    <ns1:name>Equipment</ns1:name>\n",
            "    <rdfs:subClassOf rdf:resource=\"https://mtg.gamepedia.com/artifact\"/>\n",
            "  </rdf:Description>\n",
            "  <rdf:Description rdf:about=\"characteristic:power\">\n",
            "    <rdfs:subPropertyOf rdf:resource=\"https://mtg.gamepedia.com/characteristic\"/>\n",
            "    <rdfs:subPropertyOf rdf:resource=\"http://www.w3.org/2000/01/rdf-schema#label\"/>\n",
            "  </rdf:Description>\n",
            "  <rdf:Description rdf:about=\"https://gatherer.wizards.com/Pages/Card/Details.aspx?multiverseid=473766\">\n",
            "    <ns1:name>Forest</ns1:name>\n",
            "    <rdf:type rdf:resource=\"https://mtg.gamepedia.com/basicLand\"/>\n",
            "  </rdf:Description>\n",
            "  <rdf:Description rdf:about=\"https://mtg.gamepedia.com/masticore\">\n",
            "    <rdfs:subClassOf rdf:resource=\"https://mtg.gamepedia.com/creature\"/>\n",
            "    <ns1:name>Masticore</ns1:name>\n",
            "  </rdf:Description>\n",
            "  <rdf:Description rdf:about=\"https://mtg.gamepedia.com/enchantment\">\n",
            "    <ns1:name>Enchantment</ns1:name>\n",
            "    <rdfs:subClassOf rdf:resource=\"https://mtg.gamepedia.com/spell\"/>\n",
            "  </rdf:Description>\n",
            "  <rdf:Description rdf:about=\"https://mtg.gamepedia.com/skeleton\">\n",
            "    <ns1:name>Skeleton</ns1:name>\n",
            "    <rdfs:subClassOf rdf:resource=\"https://mtg.gamepedia.com/creature\"/>\n",
            "  </rdf:Description>\n",
            "  <rdf:Description rdf:about=\"https://gatherer.wizards.com/Pages/Card/Details.aspx?multiverseid=473762\">\n",
            "    <rdf:type rdf:resource=\"https://mtg.gamepedia.com/basicLand\"/>\n",
            "    <ns1:name>Mountain</ns1:name>\n",
            "  </rdf:Description>\n",
            "  <rdf:Description rdf:about=\"https://gatherer.wizards.com/Pages/Card/Details.aspx?multiverseid=150663\">\n",
            "    <rdf:type rdf:resource=\"https://mtg.gamepedia.com/nonBasicLand\"/>\n",
            "    <ns1:name>Adarkar Wastes</ns1:name>\n",
            "  </rdf:Description>\n",
            "  <rdf:Description rdf:about=\"https://gatherer.wizards.com/Pages/Card/Details.aspx?multiverseid=378372\">\n",
            "    <rdf:type rdf:resource=\"https://mtg.gamepedia.com/sorcery\"/>\n",
            "    <ns1:color>White</ns1:color>\n",
            "    <ns1:name>Wrath of God</ns1:name>\n",
            "  </rdf:Description>\n",
            "  <rdf:Description rdf:about=\"https://gatherer.wizards.com/Pages/Card/Details.aspx?multiverseid=464024\">\n",
            "    <ns1:name>Urza, Lord High Artificer</ns1:name>\n",
            "    <ns1:tougthness>4</ns1:tougthness>\n",
            "    <ns1:power>1</ns1:power>\n",
            "    <ns1:color>Blue</ns1:color>\n",
            "    <rdf:type rdf:resource=\"https://mtg.gamepedia.com/artificer\"/>\n",
            "    <rdf:type rdf:resource=\"https://mtg.gamepedia.com/human\"/>\n",
            "  </rdf:Description>\n",
            "  <rdf:Description rdf:about=\"https://gatherer.wizards.com/Pages/Card/Details.aspx?multiverseid=165565\">\n",
            "    <rdf:type rdf:resource=\"https://mtg.gamepedia.com/artifact\"/>\n",
            "    <ns1:name>Star Compass</ns1:name>\n",
            "  </rdf:Description>\n",
            "  <rdf:Description rdf:about=\"characteristic:tougthness\">\n",
            "    <rdfs:subPropertyOf rdf:resource=\"http://www.w3.org/2000/01/rdf-schema#label\"/>\n",
            "    <rdfs:subPropertyOf rdf:resource=\"https://mtg.gamepedia.com/characteristic\"/>\n",
            "  </rdf:Description>\n",
            "  <rdf:Description rdf:about=\"https://gatherer.wizards.com/Pages/Card/Details.aspx?multiverseid=87129\">\n",
            "    <ns1:name>Islands</ns1:name>\n",
            "    <rdf:type rdf:resource=\"https://mtg.gamepedia.com/basicLand\"/>\n",
            "  </rdf:Description>\n",
            "  <rdf:Description rdf:about=\"https://mtg.gamepedia.com/artificer\">\n",
            "    <ns1:name>Artificer</ns1:name>\n",
            "    <rdfs:subClassOf rdf:resource=\"https://mtg.gamepedia.com/creature\"/>\n",
            "  </rdf:Description>\n",
            "  <rdf:Description rdf:about=\"https://mtg.gamepedia.com/enchantCreature\">\n",
            "    <ns1:name>Enchant Creature</ns1:name>\n",
            "  </rdf:Description>\n",
            "  <rdf:Description rdf:about=\"https://gatherer.wizards.com/Pages/Card/Details.aspx?multiverseid=473758\">\n",
            "    <ns1:name>Swamp</ns1:name>\n",
            "    <rdf:type rdf:resource=\"https://mtg.gamepedia.com/basicLand\"/>\n",
            "  </rdf:Description>\n",
            "  <rdf:Description rdf:about=\"https://mtg.gamepedia.com/nonBasicLand\">\n",
            "    <rdfs:subClassOf rdf:resource=\"https://mtg.gamepedia.com/land\"/>\n",
            "    <ns1:name>Non Basic Land</ns1:name>\n",
            "  </rdf:Description>\n",
            "  <rdf:Description rdf:about=\"https://mtg.gamepedia.com/land\">\n",
            "    <ns1:name>Land</ns1:name>\n",
            "    <rdfs:subClassOf rdf:resource=\"https://mtg.gamepedia.com/object\"/>\n",
            "  </rdf:Description>\n",
            "  <rdf:Description rdf:about=\"https://mtg.gamepedia.com/cleric\">\n",
            "    <ns1:name>Cleric</ns1:name>\n",
            "    <rdfs:subClassOf rdf:resource=\"https://mtg.gamepedia.com/creature\"/>\n",
            "  </rdf:Description>\n",
            "  <rdf:Description rdf:about=\"https://mtg.gamepedia.com/plant\">\n",
            "    <ns1:name>Plant</ns1:name>\n",
            "    <rdfs:subClassOf rdf:resource=\"https://mtg.gamepedia.com/creature\"/>\n",
            "  </rdf:Description>\n",
            "  <rdf:Description rdf:about=\"https://mtg.gamepedia.com/instant\">\n",
            "    <rdfs:subClassOf rdf:resource=\"https://mtg.gamepedia.com/spell\"/>\n",
            "    <ns1:name>Instant</ns1:name>\n",
            "  </rdf:Description>\n",
            "  <rdf:Description rdf:about=\"https://gatherer.wizards.com/Pages/Card/Details.aspx?multiverseid=22318\">\n",
            "    <rdf:type rdf:resource=\"https://mtg.gamepedia.com/artifact\"/>\n",
            "    <ns1:name>Kill Switch</ns1:name>\n",
            "  </rdf:Description>\n",
            "  <rdf:Description rdf:about=\"https://mtg.gamepedia.com/human\">\n",
            "    <rdfs:subClassOf rdf:resource=\"https://mtg.gamepedia.com/creature\"/>\n",
            "    <ns1:name>Human</ns1:name>\n",
            "  </rdf:Description>\n",
            "</rdf:RDF>\n"
          ],
          "name": "stdout"
        }
      ]
    },
    {
      "cell_type": "code",
      "metadata": {
        "id": "1oX6fgsq59yk"
      },
      "source": [
        "g.serialize(destination='magic.rdf', format='xml')"
      ],
      "execution_count": null,
      "outputs": []
    },
    {
      "cell_type": "markdown",
      "metadata": {
        "id": "ODadXNwgBSed"
      },
      "source": [
        "# Inferencias"
      ]
    },
    {
      "cell_type": "markdown",
      "metadata": {
        "id": "9JrscuHm3TP7"
      },
      "source": [
        "Primera Inferencia: Encontrar las dependencias (subclases) para la sublcase Masticore"
      ]
    },
    {
      "cell_type": "code",
      "metadata": {
        "ExecuteTime": {
          "end_time": "2019-10-13T02:10:56.654693Z",
          "start_time": "2019-10-13T02:10:56.648696Z"
        },
        "id": "c7IbPABoBSeg",
        "outputId": "9466708b-5489-42fa-b19b-27d0f1d95b9b",
        "colab": {
          "base_uri": "https://localhost:8080/",
          "height": 90
        }
      },
      "source": [
        "for s in g.transitive_objects(n.masticore, RDFS.subClassOf):\n",
        "    print(g.value(s, name))"
      ],
      "execution_count": null,
      "outputs": [
        {
          "output_type": "stream",
          "text": [
            "Masticore\n",
            "Creature\n",
            "Spell\n",
            "Object\n"
          ],
          "name": "stdout"
        }
      ]
    },
    {
      "cell_type": "code",
      "metadata": {
        "id": "jMT09ILSw6cj"
      },
      "source": [
        "def isSubClassOf(subClass, superClass, graph):\n",
        "    if subClass == superClass: return True\n",
        "    for parentClass in graph.objects(subClass, RDFS.subClassOf):\n",
        "        if isSubClassOf(parentClass, superClass, graph): return True\n",
        "        else:return False"
      ],
      "execution_count": null,
      "outputs": []
    },
    {
      "cell_type": "code",
      "metadata": {
        "id": "GpXIzrhuxAUy",
        "outputId": "5f6fe678-6412-4df1-9309-6ed9c5f931a6",
        "colab": {
          "base_uri": "https://localhost:8080/",
          "height": 35
        }
      },
      "source": [
        "isSubClassOf(n.artificer, n.creature, g)"
      ],
      "execution_count": null,
      "outputs": [
        {
          "output_type": "execute_result",
          "data": {
            "text/plain": [
              "True"
            ]
          },
          "metadata": {
            "tags": []
          },
          "execution_count": 17
        }
      ]
    },
    {
      "cell_type": "markdown",
      "metadata": {
        "id": "jl8sZN4a3jdr"
      },
      "source": [
        "Segunda Inferencia: Encontrar los tipos asociados a la instancia: urzaArtificer"
      ]
    },
    {
      "cell_type": "code",
      "metadata": {
        "id": "opG7v-6RBSeo",
        "outputId": "67c19d83-d77a-4b04-abcd-514e2fc4f301",
        "colab": {
          "base_uri": "https://localhost:8080/",
          "height": 72
        }
      },
      "source": [
        "for s in g.transitive_objects(urzaArtificer, RDF.type):\n",
        "  print(g.value(s, name))"
      ],
      "execution_count": null,
      "outputs": [
        {
          "output_type": "stream",
          "text": [
            "Urza, Lord High Artificer\n",
            "Artificer\n",
            "Human\n"
          ],
          "name": "stdout"
        }
      ]
    },
    {
      "cell_type": "markdown",
      "metadata": {
        "id": "tpi2Lxdh8keI"
      },
      "source": [
        "Tercera Inferencia: Encontrar todas las dependencias Inferiores pertenecientes o derivadas de Spell. \n",
        "Ejemplo: Spell->Artifact->Masticore,"
      ]
    },
    {
      "cell_type": "code",
      "metadata": {
        "id": "sKV9X_DqxkI_",
        "outputId": "02a9cde7-45b4-4be9-f06b-4932dbcf87b6",
        "colab": {
          "base_uri": "https://localhost:8080/",
          "height": 348
        }
      },
      "source": [
        "for s in g.transitive_subjects (RDFS.subClassOf,n.spell):\n",
        "    print(g.value(s, name))"
      ],
      "execution_count": null,
      "outputs": [
        {
          "output_type": "stream",
          "text": [
            "Spell\n",
            "Sorcery\n",
            "Artifact\n",
            "Equipment\n",
            "Creature\n",
            "Artificer\n",
            "Avatar\n",
            "Human\n",
            "Elf\n",
            "Masticore\n",
            "Thrull\n",
            "Plant\n",
            "Angel\n",
            "Cleric\n",
            "Skeleton\n",
            "Enchantment\n",
            "Aura\n",
            "Instant\n"
          ],
          "name": "stdout"
        }
      ]
    },
    {
      "cell_type": "markdown",
      "metadata": {
        "id": "oBjvO3buHBc_"
      },
      "source": [
        "Cuarta Inferencia: Inferencia de dominio y rango."
      ]
    },
    {
      "cell_type": "code",
      "metadata": {
        "ExecuteTime": {
          "end_time": "2019-10-13T02:40:13.811861Z",
          "start_time": "2019-10-13T02:40:13.806872Z"
        },
        "id": "rhvs6VjfBSei"
      },
      "source": [
        "def DR_inference(x,P,y):\n",
        "    for s,p,o in g.triples((x, RDF.type, None)): category_x = o\n",
        "    lstx = [str(g.value(s,name)) for s in g.transitive_objects(category_x, RDFS.subClassOf)]\n",
        "    \n",
        "    for s,p,o in g.triples((y, RDF.type, None)): category_y = o\n",
        "    lsty = [str(g.value(s,name)) for s in g.transitive_objects(category_y, RDFS.subClassOf)]     \n",
        "        \n",
        "    for s,p,o in g.triples((equip, RDFS.domain,  None)): domainP = str(g.value(o,name))\n",
        "    for s,p,o in g.triples((equip, RDFS.range,  None)): rangeP = str(g.value(o,name))\n",
        "    \n",
        "    if (domainP in lstx) & (rangeP in lsty):\n",
        "        lst = [str(g.value(category_x, name)), str(g.value(category_y, name))]\n",
        "    else:\n",
        "        lst = [\"Error: domain or range mismatch\"]\n",
        "    \n",
        "    return lst"
      ],
      "execution_count": null,
      "outputs": []
    },
    {
      "cell_type": "markdown",
      "metadata": {
        "id": "EUDlR2dN3_rU"
      },
      "source": [
        "En este ejemplo en particular, la propiedad \"equip\" tiene como dominio al World Slayer (artefacto) y como rango al Serra Angel (criatura). En el juego, algunos artefactos cuentan con la posibilidad de ser equipados en criaturas. Cuando ocurre eso, las caracteristicas de la criatura afectada cambian."
      ]
    },
    {
      "cell_type": "code",
      "metadata": {
        "ExecuteTime": {
          "end_time": "2019-10-13T02:40:15.684435Z",
          "start_time": "2019-10-13T02:40:15.679427Z"
        },
        "id": "3Ie_nErABSem",
        "outputId": "efaa86c2-607e-4b5e-bcf5-56eae9946f31",
        "colab": {
          "base_uri": "https://localhost:8080/",
          "height": 35
        }
      },
      "source": [
        "DR_inference(worldSlayer, equip, serraAngel)"
      ],
      "execution_count": null,
      "outputs": [
        {
          "output_type": "execute_result",
          "data": {
            "text/plain": [
              "['Equipment', 'Angel']"
            ]
          },
          "metadata": {
            "tags": []
          },
          "execution_count": 21
        }
      ]
    },
    {
      "cell_type": "markdown",
      "metadata": {
        "id": "8i0j6R_hZsx5"
      },
      "source": [
        "Quinta \"Inferencia\". Inferencia del tipo Unión"
      ]
    },
    {
      "cell_type": "code",
      "metadata": {
        "id": "cZTPfcKWBSeq"
      },
      "source": [
        "def union_inference(x,y):\n",
        "    lst1 = list()\n",
        "    lst2 = list()\n",
        "\n",
        "    for s,p,o in g.triples((x, RDF.type, None)): cl = o\n",
        "    for s in g.transitive_objects(o, RDFS.subClassOf): lst1.append(s)\n",
        "    for s,p,o in g.triples((y, RDF.type, None)): cl = o\n",
        "    for s in g.transitive_objects(o, RDFS.subClassOf): lst2.append(s)\n",
        "\n",
        "    lst = sorted(set(lst1) & set(lst2), key = lst1.index)    \n",
        "    return str(g.value(lst[0],name)) "
      ],
      "execution_count": null,
      "outputs": []
    },
    {
      "cell_type": "code",
      "metadata": {
        "id": "sDA7PIB0AsFc",
        "outputId": "819aa678-c9f8-4924-c724-342429813f1e",
        "colab": {
          "base_uri": "https://localhost:8080/",
          "height": 35
        }
      },
      "source": [
        "union_inference(forest,plains)"
      ],
      "execution_count": null,
      "outputs": [
        {
          "output_type": "execute_result",
          "data": {
            "text/plain": [
              "'Basic Land'"
            ]
          },
          "metadata": {
            "tags": []
          },
          "execution_count": 23
        }
      ]
    },
    {
      "cell_type": "markdown",
      "metadata": {
        "id": "RkhRMCnpqZhz"
      },
      "source": [
        "Sexta Inferencia: Determinar si la carta priestOfTitania pertenece a la Subclase Creature y si forest pertenece a la Subclase land"
      ]
    },
    {
      "cell_type": "code",
      "metadata": {
        "id": "p7MpR6XZr7yb"
      },
      "source": [
        "#Prueba directa sin inferencias, no da respuesta: \n",
        "for s,p,o in g.triples((priestOfTitania,RDFS.subClassOf,n.creature)):\n",
        "    print(s,p,o)"
      ],
      "execution_count": null,
      "outputs": []
    },
    {
      "cell_type": "code",
      "metadata": {
        "id": "C4eTwlG2qYPG"
      },
      "source": [
        "def ExisteEnClase(s,p,o):\n",
        "    m=s\n",
        "    for a,b,c in g.triples((s,None,None)):\n",
        "        for e in g.transitive_objects(c, RDF.type):\n",
        "            for f in g.transitive_objects(e,RDFS.subClassOf):\n",
        "                if (f==c):\n",
        "                    return(g.value(s,name),p,g.value(o,name))\n"
      ],
      "execution_count": null,
      "outputs": []
    },
    {
      "cell_type": "code",
      "metadata": {
        "id": "OcOyZmCmz-bj",
        "outputId": "3124b973-965a-4077-c482-fa4ccfcfb490",
        "colab": {
          "base_uri": "https://localhost:8080/",
          "height": 72
        }
      },
      "source": [
        "ExisteEnClase(priestOfTitania,RDFS.subClassOf,n.creature)"
      ],
      "execution_count": null,
      "outputs": [
        {
          "output_type": "execute_result",
          "data": {
            "text/plain": [
              "(rdflib.term.Literal('Priest of Titania'),\n",
              " rdflib.term.URIRef('http://www.w3.org/2000/01/rdf-schema#subClassOf'),\n",
              " rdflib.term.Literal('Creature'))"
            ]
          },
          "metadata": {
            "tags": []
          },
          "execution_count": 27
        }
      ]
    },
    {
      "cell_type": "code",
      "metadata": {
        "id": "myLxfh233_Wv",
        "outputId": "ad86b1c5-3769-44cc-d2c0-5d3332ea0a2b",
        "colab": {
          "base_uri": "https://localhost:8080/",
          "height": 72
        }
      },
      "source": [
        "ExisteEnClase(forest,RDFS.subClassOf,n.land)"
      ],
      "execution_count": null,
      "outputs": [
        {
          "output_type": "execute_result",
          "data": {
            "text/plain": [
              "(rdflib.term.Literal('Forest'),\n",
              " rdflib.term.URIRef('http://www.w3.org/2000/01/rdf-schema#subClassOf'),\n",
              " rdflib.term.Literal('Land'))"
            ]
          },
          "metadata": {
            "tags": []
          },
          "execution_count": 28
        }
      ]
    },
    {
      "cell_type": "code",
      "metadata": {
        "id": "eJWzg5ZtUDSX"
      },
      "source": [
        "#rotFarmSkeleton\n",
        "def isCreature(carta):\n",
        "    for s in g.transitive_subjects (RDFS.subClassOf, n.creature):\n",
        "        if (g.value(s, name)== g.value(carta)): \n",
        "            return True \n",
        "        else: return False"
      ],
      "execution_count": null,
      "outputs": []
    },
    {
      "cell_type": "code",
      "metadata": {
        "id": "Okd4LAM1alOu",
        "outputId": "ea5c5d57-bb9b-4de2-f4d5-587346888fe4",
        "colab": {
          "base_uri": "https://localhost:8080/",
          "height": 35
        }
      },
      "source": [
        "isCreature(serraAngel)\n",
        "type(serraAngel)"
      ],
      "execution_count": null,
      "outputs": [
        {
          "output_type": "execute_result",
          "data": {
            "text/plain": [
              "rdflib.term.URIRef"
            ]
          },
          "metadata": {
            "tags": []
          },
          "execution_count": 33
        }
      ]
    },
    {
      "cell_type": "code",
      "metadata": {
        "id": "3uutleTOgS14",
        "outputId": "e0e135c4-a713-49c8-91e7-a73960866b9f",
        "colab": {
          "base_uri": "https://localhost:8080/",
          "height": 439
        }
      },
      "source": [
        "for s in g.transitive_subjects(None, n.creature):\n",
        "    print(s, type(s))"
      ],
      "execution_count": null,
      "outputs": [
        {
          "output_type": "stream",
          "text": [
            "https://mtg.gamepedia.com/creature <class 'rdflib.term.URIRef'>\n",
            "https://mtg.gamepedia.com/artificer <class 'rdflib.term.URIRef'>\n",
            "https://gatherer.wizards.com/Pages/Card/Details.aspx?multiverseid=464024 <class 'rdflib.term.URIRef'>\n",
            "https://mtg.gamepedia.com/avatar <class 'rdflib.term.URIRef'>\n",
            "https://gatherer.wizards.com/Pages/Card/Details.aspx?multiverseid=260729 <class 'rdflib.term.URIRef'>\n",
            "https://gatherer.wizards.com/Pages/Card/Details.aspx?multiverseid=260766 <class 'rdflib.term.URIRef'>\n",
            "https://mtg.gamepedia.com/human <class 'rdflib.term.URIRef'>\n",
            "https://gatherer.wizards.com/Pages/Card/Details.aspx?multiverseid=464573 <class 'rdflib.term.URIRef'>\n",
            "https://gatherer.wizards.com/Pages/Card/Details.aspx?multiverseid=464682 <class 'rdflib.term.URIRef'>\n",
            "characteristic:enchantCreature <class 'rdflib.term.URIRef'>\n",
            "https://mtg.gamepedia.com/elf <class 'rdflib.term.URIRef'>\n",
            "https://gatherer.wizards.com/Pages/Card/Details.aspx?multiverseid=391664 <class 'rdflib.term.URIRef'>\n",
            "https://mtg.gamepedia.com/masticore <class 'rdflib.term.URIRef'>\n",
            "https://mtg.gamepedia.com/thrull <class 'rdflib.term.URIRef'>\n",
            "https://gatherer.wizards.com/Pages/Card/Details.aspx?multiverseid=466855 <class 'rdflib.term.URIRef'>\n",
            "https://mtg.gamepedia.com/plant <class 'rdflib.term.URIRef'>\n",
            "https://gatherer.wizards.com/Pages/Card/Details.aspx?multiverseid=370232 <class 'rdflib.term.URIRef'>\n",
            "https://mtg.gamepedia.com/angel <class 'rdflib.term.URIRef'>\n",
            "https://gatherer.wizards.com/Pages/Card/Details.aspx?multiverseid=443459 <class 'rdflib.term.URIRef'>\n",
            "https://gatherer.wizards.com/Pages/Card/Details.aspx?multiverseid=464482 <class 'rdflib.term.URIRef'>\n",
            "characteristic:equip <class 'rdflib.term.URIRef'>\n",
            "https://mtg.gamepedia.com/cleric <class 'rdflib.term.URIRef'>\n",
            "https://mtg.gamepedia.com/skeleton <class 'rdflib.term.URIRef'>\n"
          ],
          "name": "stdout"
        }
      ]
    },
    {
      "cell_type": "markdown",
      "metadata": {
        "id": "3NjATkFQcGDh"
      },
      "source": [
        "Séptima inferencia:"
      ]
    },
    {
      "cell_type": "code",
      "metadata": {
        "id": "iX97HPaVeQMa"
      },
      "source": [
        "def combat(x,y):\n",
        "    for s,p,o in g.triples((x, power, None)): \n",
        "        name1 = g.value(s,name)\n",
        "        power1 = o\n",
        "    for s,p,o in g.triples((x, tougthness, None)): \n",
        "        tougthness1 = o\n",
        "    for s,p,o in g.triples((y, power, None)):\n",
        "        name2 = g.value(s,name)\n",
        "        power2 = o\n",
        "    for s,p,o in g.triples((y, tougthness, None)): \n",
        "        tougthness2 = o\n",
        "\n",
        "    if power1 > tougthness2:\n",
        "        print(name2, \"just died\")\n",
        "    if power2 > tougthness1:\n",
        "        print(name1, \"just died\")\n",
        "    if power1 < tougthness2:\n",
        "        print(name2, \"survived\")\n",
        "    if power2 < tougthness1:\n",
        "        print(name1, \"survived\")"
      ],
      "execution_count": null,
      "outputs": []
    },
    {
      "cell_type": "code",
      "metadata": {
        "id": "kx-gMr-mzKI4",
        "outputId": "edab5651-3079-4d3a-812d-b1ba3f30a999"
      },
      "source": [
        "import ontospy\n",
        "\n",
        "model = ontospy.Ontospy(\"magic.rdf\", verbose=True)"
      ],
      "execution_count": null,
      "outputs": [
        {
          "output_type": "stream",
          "text": [
            "Reading: <magic.rdf>\n",
            ".. trying rdf serialization: <xml>\n",
            "..... success!\n",
            "----------\n",
            "Loaded 148 triples.\n",
            "----------\n",
            "RDF sources loaded successfully: 1 of 1.\n",
            "..... 'magic.rdf'\n",
            "----------\n"
          ],
          "name": "stdout"
        },
        {
          "output_type": "stream",
          "text": [
            "Scanning entities...\n",
            "----------\n",
            "Ontologies.........: 0\n",
            "Classes............: 22\n",
            "Properties.........: 0\n",
            "..annotation.......: 0\n",
            "..datatype.........: 0\n",
            "..object...........: 0\n",
            "Concepts (SKOS)....: 0\n",
            "Shapes (SHACL).....: 0\n",
            "----------\n"
          ],
          "name": "stderr"
        }
      ]
    },
    {
      "cell_type": "code",
      "metadata": {
        "id": "t9kvY5Xu590y"
      },
      "source": [
        ""
      ],
      "execution_count": null,
      "outputs": []
    }
  ]
}
{
  "nbformat": 4,
  "nbformat_minor": 0,
  "metadata": {
    "colab": {
      "name": "AprendizajeRefuerzo2.ipynb",
      "provenance": [],
      "collapsed_sections": []
    },
    "kernelspec": {
      "display_name": "Python 3",
      "name": "python3"
    }
  },
  "cells": [
    {
      "cell_type": "markdown",
      "metadata": {
        "id": "I0cvq1bIls2U"
      },
      "source": [
        "## Curso de Inteligencia Artificial\n",
        "\n",
        "### Algoritmos de aprendizaje por Refuerzo\n",
        "\n",
        "\n",
        "\n"
      ]
    },
    {
      "cell_type": "markdown",
      "metadata": {
        "id": "GxV_JVhqICht"
      },
      "source": [
        "#### Librerías necesarias"
      ]
    },
    {
      "cell_type": "code",
      "metadata": {
        "colab": {
          "base_uri": "https://localhost:8080/"
        },
        "id": "g0_rwGAcBRgk",
        "outputId": "818caa21-b219-47c6-a949-6c4294caa097"
      },
      "source": [
        "!sudo apt-get install -y xvfb ffmpeg \n",
        "!pip install gym\n",
        "!pip install 'imageio==2.4.0'\n",
        "!pip install PILLOW\n",
        "!pip install 'pyglet==1.5.0'\n",
        "!pip install pyvirtualdisplay"
      ],
      "execution_count": null,
      "outputs": [
        {
          "output_type": "stream",
          "text": [
            "Reading package lists... Done\n",
            "Building dependency tree       \n",
            "Reading state information... Done\n",
            "ffmpeg is already the newest version (7:3.4.8-0ubuntu0.2).\n",
            "xvfb is already the newest version (2:1.19.6-1ubuntu4.8).\n",
            "0 upgraded, 0 newly installed, 0 to remove and 13 not upgraded.\n",
            "Requirement already satisfied: gym in /usr/local/lib/python3.6/dist-packages (0.17.3)\n",
            "Requirement already satisfied: numpy>=1.10.4 in /usr/local/lib/python3.6/dist-packages (from gym) (1.19.5)\n",
            "Requirement already satisfied: scipy in /usr/local/lib/python3.6/dist-packages (from gym) (1.4.1)\n",
            "Requirement already satisfied: cloudpickle<1.7.0,>=1.2.0 in /usr/local/lib/python3.6/dist-packages (from gym) (1.3.0)\n",
            "Requirement already satisfied: pyglet<=1.5.0,>=1.4.0 in /usr/local/lib/python3.6/dist-packages (from gym) (1.5.0)\n",
            "Requirement already satisfied: future in /usr/local/lib/python3.6/dist-packages (from pyglet<=1.5.0,>=1.4.0->gym) (0.16.0)\n",
            "Requirement already satisfied: imageio==2.4.0 in /usr/local/lib/python3.6/dist-packages (2.4.0)\n",
            "Requirement already satisfied: numpy in /usr/local/lib/python3.6/dist-packages (from imageio==2.4.0) (1.19.5)\n",
            "Requirement already satisfied: pillow in /usr/local/lib/python3.6/dist-packages (from imageio==2.4.0) (7.0.0)\n",
            "Requirement already satisfied: PILLOW in /usr/local/lib/python3.6/dist-packages (7.0.0)\n",
            "Requirement already satisfied: pyglet==1.5.0 in /usr/local/lib/python3.6/dist-packages (1.5.0)\n",
            "Requirement already satisfied: future in /usr/local/lib/python3.6/dist-packages (from pyglet==1.5.0) (0.16.0)\n",
            "Requirement already satisfied: pyvirtualdisplay in /usr/local/lib/python3.6/dist-packages (2.0)\n",
            "Requirement already satisfied: EasyProcess in /usr/local/lib/python3.6/dist-packages (from pyvirtualdisplay) (0.3)\n"
          ],
          "name": "stdout"
        }
      ]
    },
    {
      "cell_type": "markdown",
      "metadata": {
        "id": "Af_ksUYRI4Ux"
      },
      "source": [
        "### Política de búsqueda aleatoria\n",
        "\n",
        "Empezamos con algunas políticas más complejas para resolver el problema CartPole que las acciones puramente aleatorias. \n",
        "\n",
        "Un enfoque simple, pero efectivo, es mapear una observación en un vector de dos números que representan dos acciones. Se seleccionará la acción con el valor más alto. El mapeo lineal está representado por una matriz de peso cuyo tamaño es $4 \\times 2$ ya que las observaciones son 4-dimensionales en este caso. En cada episodio, el peso se genera aleatoriamente y se usa para calcular la acción para cada paso de este episodio. Luego se calcula la recompensa total. \n",
        "\n",
        "Este proceso se repite para muchos episodios y al final, el peso que permite la recompensa total más alta se convertirá en la política aprendida.  "
      ]
    },
    {
      "cell_type": "code",
      "metadata": {
        "colab": {
          "base_uri": "https://localhost:8080/"
        },
        "id": "GiM5qS2KJqtF",
        "outputId": "ff7331c2-32d0-4565-9a0a-dc9b6e78209a"
      },
      "source": [
        "import gym\n",
        "import torch\n",
        "\n",
        "env = gym.make('CartPole-v0')\n",
        "n_estado = env.observation_space.shape[0]\n",
        "n_accion = env.action_space.n\n",
        "\n",
        "def correr_episodio(env, peso):\n",
        "  estado = env.reset()\n",
        "  recompensa_total = 0\n",
        "  realizado = False\n",
        "  while not realizado:\n",
        "    estado = torch.from_numpy(estado).float()\n",
        "    accion = torch.argmax(torch.matmul(estado, peso))\n",
        "    estado, recompensa, realizado, _ = env.step(accion.item())\n",
        "    recompensa_total += recompensa\n",
        "  return recompensa_total\n",
        "\n",
        "\n",
        "\n",
        "n_episodio = 1000\n",
        "mejor_recompensa_total = 0\n",
        "mejor_peso = None\n",
        "\n",
        "recompensas_totales = []\n",
        "\n",
        "for episodio in range(n_episodio):\n",
        "  peso = torch.rand(n_estado, n_accion)\n",
        "  recompensa_total = correr_episodio(env, peso)\n",
        "  print('Episodio {}: {}'.format(episodio+1, recompensa_total))\n",
        "  if recompensa_total > mejor_recompensa_total:\n",
        "    mejor_peso = peso\n",
        "    mejor_recompensa_total = recompensa_total\n",
        "  recompensas_totales.append(recompensa_total)\n",
        "\n",
        "print('Recompensa total promedio por {} episodio: {}'.format(n_episodio, sum(recompensas_totales) / n_episodio))"
      ],
      "execution_count": null,
      "outputs": [
        {
          "output_type": "stream",
          "text": [
            "Episodio 1: 9.0\n",
            "Episodio 2: 11.0\n",
            "Episodio 3: 164.0\n",
            "Episodio 4: 79.0\n",
            "Episodio 5: 73.0\n",
            "Episodio 6: 200.0\n",
            "Episodio 7: 27.0\n",
            "Episodio 8: 8.0\n",
            "Episodio 9: 20.0\n",
            "Episodio 10: 145.0\n",
            "Episodio 11: 9.0\n",
            "Episodio 12: 10.0\n",
            "Episodio 13: 45.0\n",
            "Episodio 14: 9.0\n",
            "Episodio 15: 10.0\n",
            "Episodio 16: 93.0\n",
            "Episodio 17: 9.0\n",
            "Episodio 18: 10.0\n",
            "Episodio 19: 187.0\n",
            "Episodio 20: 57.0\n",
            "Episodio 21: 200.0\n",
            "Episodio 22: 10.0\n",
            "Episodio 23: 63.0\n",
            "Episodio 24: 168.0\n",
            "Episodio 25: 8.0\n",
            "Episodio 26: 9.0\n",
            "Episodio 27: 9.0\n",
            "Episodio 28: 8.0\n",
            "Episodio 29: 95.0\n",
            "Episodio 30: 11.0\n",
            "Episodio 31: 25.0\n",
            "Episodio 32: 26.0\n",
            "Episodio 33: 21.0\n",
            "Episodio 34: 10.0\n",
            "Episodio 35: 22.0\n",
            "Episodio 36: 37.0\n",
            "Episodio 37: 25.0\n",
            "Episodio 38: 200.0\n",
            "Episodio 39: 40.0\n",
            "Episodio 40: 200.0\n",
            "Episodio 41: 20.0\n",
            "Episodio 42: 33.0\n",
            "Episodio 43: 9.0\n",
            "Episodio 44: 9.0\n",
            "Episodio 45: 10.0\n",
            "Episodio 46: 11.0\n",
            "Episodio 47: 74.0\n",
            "Episodio 48: 63.0\n",
            "Episodio 49: 9.0\n",
            "Episodio 50: 8.0\n",
            "Episodio 51: 9.0\n",
            "Episodio 52: 36.0\n",
            "Episodio 53: 78.0\n",
            "Episodio 54: 200.0\n",
            "Episodio 55: 200.0\n",
            "Episodio 56: 9.0\n",
            "Episodio 57: 9.0\n",
            "Episodio 58: 21.0\n",
            "Episodio 59: 10.0\n",
            "Episodio 60: 8.0\n",
            "Episodio 61: 9.0\n",
            "Episodio 62: 42.0\n",
            "Episodio 63: 53.0\n",
            "Episodio 64: 20.0\n",
            "Episodio 65: 9.0\n",
            "Episodio 66: 24.0\n",
            "Episodio 67: 10.0\n",
            "Episodio 68: 10.0\n",
            "Episodio 69: 9.0\n",
            "Episodio 70: 10.0\n",
            "Episodio 71: 47.0\n",
            "Episodio 72: 66.0\n",
            "Episodio 73: 10.0\n",
            "Episodio 74: 10.0\n",
            "Episodio 75: 70.0\n",
            "Episodio 76: 8.0\n",
            "Episodio 77: 8.0\n",
            "Episodio 78: 10.0\n",
            "Episodio 79: 10.0\n",
            "Episodio 80: 8.0\n",
            "Episodio 81: 9.0\n",
            "Episodio 82: 127.0\n",
            "Episodio 83: 10.0\n",
            "Episodio 84: 34.0\n",
            "Episodio 85: 85.0\n",
            "Episodio 86: 10.0\n",
            "Episodio 87: 10.0\n",
            "Episodio 88: 22.0\n",
            "Episodio 89: 10.0\n",
            "Episodio 90: 9.0\n",
            "Episodio 91: 137.0\n",
            "Episodio 92: 10.0\n",
            "Episodio 93: 9.0\n",
            "Episodio 94: 9.0\n",
            "Episodio 95: 33.0\n",
            "Episodio 96: 8.0\n",
            "Episodio 97: 20.0\n",
            "Episodio 98: 8.0\n",
            "Episodio 99: 10.0\n",
            "Episodio 100: 8.0\n",
            "Episodio 101: 56.0\n",
            "Episodio 102: 21.0\n",
            "Episodio 103: 124.0\n",
            "Episodio 104: 10.0\n",
            "Episodio 105: 57.0\n",
            "Episodio 106: 53.0\n",
            "Episodio 107: 200.0\n",
            "Episodio 108: 46.0\n",
            "Episodio 109: 43.0\n",
            "Episodio 110: 10.0\n",
            "Episodio 111: 53.0\n",
            "Episodio 112: 10.0\n",
            "Episodio 113: 8.0\n",
            "Episodio 114: 61.0\n",
            "Episodio 115: 121.0\n",
            "Episodio 116: 200.0\n",
            "Episodio 117: 9.0\n",
            "Episodio 118: 21.0\n",
            "Episodio 119: 9.0\n",
            "Episodio 120: 9.0\n",
            "Episodio 121: 9.0\n",
            "Episodio 122: 10.0\n",
            "Episodio 123: 10.0\n",
            "Episodio 124: 10.0\n",
            "Episodio 125: 10.0\n",
            "Episodio 126: 10.0\n",
            "Episodio 127: 10.0\n",
            "Episodio 128: 9.0\n",
            "Episodio 129: 10.0\n",
            "Episodio 130: 170.0\n",
            "Episodio 131: 10.0\n",
            "Episodio 132: 8.0\n",
            "Episodio 133: 10.0\n",
            "Episodio 134: 9.0\n",
            "Episodio 135: 9.0\n",
            "Episodio 136: 156.0\n",
            "Episodio 137: 8.0\n",
            "Episodio 138: 104.0\n",
            "Episodio 139: 140.0\n",
            "Episodio 140: 8.0\n",
            "Episodio 141: 10.0\n",
            "Episodio 142: 200.0\n",
            "Episodio 143: 10.0\n",
            "Episodio 144: 124.0\n",
            "Episodio 145: 11.0\n",
            "Episodio 146: 9.0\n",
            "Episodio 147: 43.0\n",
            "Episodio 148: 30.0\n",
            "Episodio 149: 66.0\n",
            "Episodio 150: 9.0\n",
            "Episodio 151: 8.0\n",
            "Episodio 152: 9.0\n",
            "Episodio 153: 8.0\n",
            "Episodio 154: 32.0\n",
            "Episodio 155: 37.0\n",
            "Episodio 156: 107.0\n",
            "Episodio 157: 8.0\n",
            "Episodio 158: 10.0\n",
            "Episodio 159: 180.0\n",
            "Episodio 160: 8.0\n",
            "Episodio 161: 9.0\n",
            "Episodio 162: 200.0\n",
            "Episodio 163: 9.0\n",
            "Episodio 164: 9.0\n",
            "Episodio 165: 60.0\n",
            "Episodio 166: 101.0\n",
            "Episodio 167: 8.0\n",
            "Episodio 168: 10.0\n",
            "Episodio 169: 200.0\n",
            "Episodio 170: 9.0\n",
            "Episodio 171: 8.0\n",
            "Episodio 172: 10.0\n",
            "Episodio 173: 9.0\n",
            "Episodio 174: 8.0\n",
            "Episodio 175: 162.0\n",
            "Episodio 176: 10.0\n",
            "Episodio 177: 10.0\n",
            "Episodio 178: 101.0\n",
            "Episodio 179: 10.0\n",
            "Episodio 180: 43.0\n",
            "Episodio 181: 8.0\n",
            "Episodio 182: 10.0\n",
            "Episodio 183: 10.0\n",
            "Episodio 184: 112.0\n",
            "Episodio 185: 8.0\n",
            "Episodio 186: 65.0\n",
            "Episodio 187: 26.0\n",
            "Episodio 188: 200.0\n",
            "Episodio 189: 114.0\n",
            "Episodio 190: 9.0\n",
            "Episodio 191: 10.0\n",
            "Episodio 192: 9.0\n",
            "Episodio 193: 9.0\n",
            "Episodio 194: 40.0\n",
            "Episodio 195: 10.0\n",
            "Episodio 196: 9.0\n",
            "Episodio 197: 49.0\n",
            "Episodio 198: 200.0\n",
            "Episodio 199: 52.0\n",
            "Episodio 200: 10.0\n",
            "Episodio 201: 200.0\n",
            "Episodio 202: 82.0\n",
            "Episodio 203: 10.0\n",
            "Episodio 204: 62.0\n",
            "Episodio 205: 9.0\n",
            "Episodio 206: 67.0\n",
            "Episodio 207: 59.0\n",
            "Episodio 208: 11.0\n",
            "Episodio 209: 9.0\n",
            "Episodio 210: 10.0\n",
            "Episodio 211: 9.0\n",
            "Episodio 212: 78.0\n",
            "Episodio 213: 9.0\n",
            "Episodio 214: 10.0\n",
            "Episodio 215: 10.0\n",
            "Episodio 216: 10.0\n",
            "Episodio 217: 8.0\n",
            "Episodio 218: 9.0\n",
            "Episodio 219: 9.0\n",
            "Episodio 220: 10.0\n",
            "Episodio 221: 9.0\n",
            "Episodio 222: 144.0\n",
            "Episodio 223: 8.0\n",
            "Episodio 224: 10.0\n",
            "Episodio 225: 25.0\n",
            "Episodio 226: 149.0\n",
            "Episodio 227: 115.0\n",
            "Episodio 228: 11.0\n",
            "Episodio 229: 98.0\n",
            "Episodio 230: 27.0\n",
            "Episodio 231: 51.0\n",
            "Episodio 232: 10.0\n",
            "Episodio 233: 200.0\n",
            "Episodio 234: 9.0\n",
            "Episodio 235: 71.0\n",
            "Episodio 236: 60.0\n",
            "Episodio 237: 78.0\n",
            "Episodio 238: 9.0\n",
            "Episodio 239: 10.0\n",
            "Episodio 240: 56.0\n",
            "Episodio 241: 10.0\n",
            "Episodio 242: 11.0\n",
            "Episodio 243: 63.0\n",
            "Episodio 244: 8.0\n",
            "Episodio 245: 9.0\n",
            "Episodio 246: 175.0\n",
            "Episodio 247: 8.0\n",
            "Episodio 248: 51.0\n",
            "Episodio 249: 200.0\n",
            "Episodio 250: 9.0\n",
            "Episodio 251: 47.0\n",
            "Episodio 252: 114.0\n",
            "Episodio 253: 26.0\n",
            "Episodio 254: 8.0\n",
            "Episodio 255: 120.0\n",
            "Episodio 256: 10.0\n",
            "Episodio 257: 192.0\n",
            "Episodio 258: 9.0\n",
            "Episodio 259: 35.0\n",
            "Episodio 260: 9.0\n",
            "Episodio 261: 9.0\n",
            "Episodio 262: 54.0\n",
            "Episodio 263: 29.0\n",
            "Episodio 264: 43.0\n",
            "Episodio 265: 9.0\n",
            "Episodio 266: 10.0\n",
            "Episodio 267: 28.0\n",
            "Episodio 268: 200.0\n",
            "Episodio 269: 115.0\n",
            "Episodio 270: 11.0\n",
            "Episodio 271: 8.0\n",
            "Episodio 272: 10.0\n",
            "Episodio 273: 10.0\n",
            "Episodio 274: 20.0\n",
            "Episodio 275: 9.0\n",
            "Episodio 276: 10.0\n",
            "Episodio 277: 9.0\n",
            "Episodio 278: 8.0\n",
            "Episodio 279: 9.0\n",
            "Episodio 280: 8.0\n",
            "Episodio 281: 9.0\n",
            "Episodio 282: 10.0\n",
            "Episodio 283: 10.0\n",
            "Episodio 284: 10.0\n",
            "Episodio 285: 59.0\n",
            "Episodio 286: 9.0\n",
            "Episodio 287: 30.0\n",
            "Episodio 288: 9.0\n",
            "Episodio 289: 35.0\n",
            "Episodio 290: 8.0\n",
            "Episodio 291: 29.0\n",
            "Episodio 292: 8.0\n",
            "Episodio 293: 10.0\n",
            "Episodio 294: 10.0\n",
            "Episodio 295: 11.0\n",
            "Episodio 296: 25.0\n",
            "Episodio 297: 200.0\n",
            "Episodio 298: 9.0\n",
            "Episodio 299: 49.0\n",
            "Episodio 300: 9.0\n",
            "Episodio 301: 65.0\n",
            "Episodio 302: 103.0\n",
            "Episodio 303: 56.0\n",
            "Episodio 304: 200.0\n",
            "Episodio 305: 165.0\n",
            "Episodio 306: 8.0\n",
            "Episodio 307: 9.0\n",
            "Episodio 308: 200.0\n",
            "Episodio 309: 189.0\n",
            "Episodio 310: 9.0\n",
            "Episodio 311: 9.0\n",
            "Episodio 312: 40.0\n",
            "Episodio 313: 8.0\n",
            "Episodio 314: 44.0\n",
            "Episodio 315: 9.0\n",
            "Episodio 316: 9.0\n",
            "Episodio 317: 11.0\n",
            "Episodio 318: 45.0\n",
            "Episodio 319: 9.0\n",
            "Episodio 320: 66.0\n",
            "Episodio 321: 11.0\n",
            "Episodio 322: 48.0\n",
            "Episodio 323: 8.0\n",
            "Episodio 324: 27.0\n",
            "Episodio 325: 82.0\n",
            "Episodio 326: 62.0\n",
            "Episodio 327: 9.0\n",
            "Episodio 328: 8.0\n",
            "Episodio 329: 10.0\n",
            "Episodio 330: 10.0\n",
            "Episodio 331: 200.0\n",
            "Episodio 332: 54.0\n",
            "Episodio 333: 103.0\n",
            "Episodio 334: 9.0\n",
            "Episodio 335: 9.0\n",
            "Episodio 336: 8.0\n",
            "Episodio 337: 21.0\n",
            "Episodio 338: 10.0\n",
            "Episodio 339: 10.0\n",
            "Episodio 340: 54.0\n",
            "Episodio 341: 35.0\n",
            "Episodio 342: 9.0\n",
            "Episodio 343: 10.0\n",
            "Episodio 344: 10.0\n",
            "Episodio 345: 10.0\n",
            "Episodio 346: 9.0\n",
            "Episodio 347: 10.0\n",
            "Episodio 348: 9.0\n",
            "Episodio 349: 9.0\n",
            "Episodio 350: 10.0\n",
            "Episodio 351: 185.0\n",
            "Episodio 352: 196.0\n",
            "Episodio 353: 90.0\n",
            "Episodio 354: 9.0\n",
            "Episodio 355: 12.0\n",
            "Episodio 356: 9.0\n",
            "Episodio 357: 10.0\n",
            "Episodio 358: 8.0\n",
            "Episodio 359: 69.0\n",
            "Episodio 360: 200.0\n",
            "Episodio 361: 9.0\n",
            "Episodio 362: 18.0\n",
            "Episodio 363: 9.0\n",
            "Episodio 364: 39.0\n",
            "Episodio 365: 117.0\n",
            "Episodio 366: 35.0\n",
            "Episodio 367: 11.0\n",
            "Episodio 368: 35.0\n",
            "Episodio 369: 200.0\n",
            "Episodio 370: 91.0\n",
            "Episodio 371: 8.0\n",
            "Episodio 372: 10.0\n",
            "Episodio 373: 200.0\n",
            "Episodio 374: 11.0\n",
            "Episodio 375: 32.0\n",
            "Episodio 376: 40.0\n",
            "Episodio 377: 10.0\n",
            "Episodio 378: 200.0\n",
            "Episodio 379: 53.0\n",
            "Episodio 380: 48.0\n",
            "Episodio 381: 32.0\n",
            "Episodio 382: 10.0\n",
            "Episodio 383: 9.0\n",
            "Episodio 384: 9.0\n",
            "Episodio 385: 37.0\n",
            "Episodio 386: 9.0\n",
            "Episodio 387: 41.0\n",
            "Episodio 388: 27.0\n",
            "Episodio 389: 10.0\n",
            "Episodio 390: 10.0\n",
            "Episodio 391: 9.0\n",
            "Episodio 392: 200.0\n",
            "Episodio 393: 8.0\n",
            "Episodio 394: 9.0\n",
            "Episodio 395: 10.0\n",
            "Episodio 396: 200.0\n",
            "Episodio 397: 65.0\n",
            "Episodio 398: 38.0\n",
            "Episodio 399: 9.0\n",
            "Episodio 400: 200.0\n",
            "Episodio 401: 10.0\n",
            "Episodio 402: 10.0\n",
            "Episodio 403: 200.0\n",
            "Episodio 404: 10.0\n",
            "Episodio 405: 200.0\n",
            "Episodio 406: 8.0\n",
            "Episodio 407: 9.0\n",
            "Episodio 408: 76.0\n",
            "Episodio 409: 10.0\n",
            "Episodio 410: 123.0\n",
            "Episodio 411: 10.0\n",
            "Episodio 412: 9.0\n",
            "Episodio 413: 9.0\n",
            "Episodio 414: 10.0\n",
            "Episodio 415: 9.0\n",
            "Episodio 416: 8.0\n",
            "Episodio 417: 8.0\n",
            "Episodio 418: 43.0\n",
            "Episodio 419: 200.0\n",
            "Episodio 420: 152.0\n",
            "Episodio 421: 21.0\n",
            "Episodio 422: 10.0\n",
            "Episodio 423: 12.0\n",
            "Episodio 424: 168.0\n",
            "Episodio 425: 30.0\n",
            "Episodio 426: 24.0\n",
            "Episodio 427: 37.0\n",
            "Episodio 428: 9.0\n",
            "Episodio 429: 8.0\n",
            "Episodio 430: 10.0\n",
            "Episodio 431: 200.0\n",
            "Episodio 432: 9.0\n",
            "Episodio 433: 8.0\n",
            "Episodio 434: 200.0\n",
            "Episodio 435: 10.0\n",
            "Episodio 436: 10.0\n",
            "Episodio 437: 41.0\n",
            "Episodio 438: 77.0\n",
            "Episodio 439: 9.0\n",
            "Episodio 440: 49.0\n",
            "Episodio 441: 77.0\n",
            "Episodio 442: 51.0\n",
            "Episodio 443: 47.0\n",
            "Episodio 444: 8.0\n",
            "Episodio 445: 20.0\n",
            "Episodio 446: 10.0\n",
            "Episodio 447: 10.0\n",
            "Episodio 448: 111.0\n",
            "Episodio 449: 76.0\n",
            "Episodio 450: 10.0\n",
            "Episodio 451: 200.0\n",
            "Episodio 452: 8.0\n",
            "Episodio 453: 96.0\n",
            "Episodio 454: 9.0\n",
            "Episodio 455: 23.0\n",
            "Episodio 456: 10.0\n",
            "Episodio 457: 10.0\n",
            "Episodio 458: 200.0\n",
            "Episodio 459: 200.0\n",
            "Episodio 460: 18.0\n",
            "Episodio 461: 23.0\n",
            "Episodio 462: 36.0\n",
            "Episodio 463: 200.0\n",
            "Episodio 464: 8.0\n",
            "Episodio 465: 13.0\n",
            "Episodio 466: 10.0\n",
            "Episodio 467: 60.0\n",
            "Episodio 468: 9.0\n",
            "Episodio 469: 196.0\n",
            "Episodio 470: 9.0\n",
            "Episodio 471: 9.0\n",
            "Episodio 472: 47.0\n",
            "Episodio 473: 200.0\n",
            "Episodio 474: 10.0\n",
            "Episodio 475: 9.0\n",
            "Episodio 476: 9.0\n",
            "Episodio 477: 8.0\n",
            "Episodio 478: 10.0\n",
            "Episodio 479: 9.0\n",
            "Episodio 480: 9.0\n",
            "Episodio 481: 150.0\n",
            "Episodio 482: 80.0\n",
            "Episodio 483: 10.0\n",
            "Episodio 484: 9.0\n",
            "Episodio 485: 10.0\n",
            "Episodio 486: 9.0\n",
            "Episodio 487: 64.0\n",
            "Episodio 488: 44.0\n",
            "Episodio 489: 10.0\n",
            "Episodio 490: 9.0\n",
            "Episodio 491: 9.0\n",
            "Episodio 492: 112.0\n",
            "Episodio 493: 200.0\n",
            "Episodio 494: 9.0\n",
            "Episodio 495: 11.0\n",
            "Episodio 496: 50.0\n",
            "Episodio 497: 10.0\n",
            "Episodio 498: 78.0\n",
            "Episodio 499: 164.0\n",
            "Episodio 500: 10.0\n",
            "Episodio 501: 31.0\n",
            "Episodio 502: 97.0\n",
            "Episodio 503: 10.0\n",
            "Episodio 504: 22.0\n",
            "Episodio 505: 27.0\n",
            "Episodio 506: 96.0\n",
            "Episodio 507: 9.0\n",
            "Episodio 508: 9.0\n",
            "Episodio 509: 9.0\n",
            "Episodio 510: 8.0\n",
            "Episodio 511: 78.0\n",
            "Episodio 512: 50.0\n",
            "Episodio 513: 19.0\n",
            "Episodio 514: 200.0\n",
            "Episodio 515: 10.0\n",
            "Episodio 516: 200.0\n",
            "Episodio 517: 33.0\n",
            "Episodio 518: 15.0\n",
            "Episodio 519: 22.0\n",
            "Episodio 520: 8.0\n",
            "Episodio 521: 31.0\n",
            "Episodio 522: 195.0\n",
            "Episodio 523: 43.0\n",
            "Episodio 524: 66.0\n",
            "Episodio 525: 18.0\n",
            "Episodio 526: 27.0\n",
            "Episodio 527: 82.0\n",
            "Episodio 528: 51.0\n",
            "Episodio 529: 9.0\n",
            "Episodio 530: 56.0\n",
            "Episodio 531: 200.0\n",
            "Episodio 532: 9.0\n",
            "Episodio 533: 8.0\n",
            "Episodio 534: 9.0\n",
            "Episodio 535: 48.0\n",
            "Episodio 536: 62.0\n",
            "Episodio 537: 9.0\n",
            "Episodio 538: 10.0\n",
            "Episodio 539: 10.0\n",
            "Episodio 540: 15.0\n",
            "Episodio 541: 10.0\n",
            "Episodio 542: 9.0\n",
            "Episodio 543: 200.0\n",
            "Episodio 544: 9.0\n",
            "Episodio 545: 51.0\n",
            "Episodio 546: 10.0\n",
            "Episodio 547: 8.0\n",
            "Episodio 548: 9.0\n",
            "Episodio 549: 10.0\n",
            "Episodio 550: 10.0\n",
            "Episodio 551: 10.0\n",
            "Episodio 552: 11.0\n",
            "Episodio 553: 10.0\n",
            "Episodio 554: 9.0\n",
            "Episodio 555: 9.0\n",
            "Episodio 556: 8.0\n",
            "Episodio 557: 8.0\n",
            "Episodio 558: 9.0\n",
            "Episodio 559: 200.0\n",
            "Episodio 560: 9.0\n",
            "Episodio 561: 11.0\n",
            "Episodio 562: 60.0\n",
            "Episodio 563: 8.0\n",
            "Episodio 564: 69.0\n",
            "Episodio 565: 9.0\n",
            "Episodio 566: 64.0\n",
            "Episodio 567: 78.0\n",
            "Episodio 568: 9.0\n",
            "Episodio 569: 25.0\n",
            "Episodio 570: 9.0\n",
            "Episodio 571: 9.0\n",
            "Episodio 572: 20.0\n",
            "Episodio 573: 10.0\n",
            "Episodio 574: 9.0\n",
            "Episodio 575: 59.0\n",
            "Episodio 576: 9.0\n",
            "Episodio 577: 10.0\n",
            "Episodio 578: 8.0\n",
            "Episodio 579: 45.0\n",
            "Episodio 580: 34.0\n",
            "Episodio 581: 26.0\n",
            "Episodio 582: 8.0\n",
            "Episodio 583: 9.0\n",
            "Episodio 584: 10.0\n",
            "Episodio 585: 58.0\n",
            "Episodio 586: 10.0\n",
            "Episodio 587: 41.0\n",
            "Episodio 588: 9.0\n",
            "Episodio 589: 200.0\n",
            "Episodio 590: 28.0\n",
            "Episodio 591: 9.0\n",
            "Episodio 592: 10.0\n",
            "Episodio 593: 26.0\n",
            "Episodio 594: 10.0\n",
            "Episodio 595: 10.0\n",
            "Episodio 596: 26.0\n",
            "Episodio 597: 46.0\n",
            "Episodio 598: 8.0\n",
            "Episodio 599: 94.0\n",
            "Episodio 600: 8.0\n",
            "Episodio 601: 10.0\n",
            "Episodio 602: 45.0\n",
            "Episodio 603: 150.0\n",
            "Episodio 604: 9.0\n",
            "Episodio 605: 9.0\n",
            "Episodio 606: 54.0\n",
            "Episodio 607: 9.0\n",
            "Episodio 608: 22.0\n",
            "Episodio 609: 97.0\n",
            "Episodio 610: 134.0\n",
            "Episodio 611: 9.0\n",
            "Episodio 612: 10.0\n",
            "Episodio 613: 106.0\n",
            "Episodio 614: 9.0\n",
            "Episodio 615: 9.0\n",
            "Episodio 616: 8.0\n",
            "Episodio 617: 10.0\n",
            "Episodio 618: 200.0\n",
            "Episodio 619: 10.0\n",
            "Episodio 620: 10.0\n",
            "Episodio 621: 93.0\n",
            "Episodio 622: 11.0\n",
            "Episodio 623: 37.0\n",
            "Episodio 624: 10.0\n",
            "Episodio 625: 8.0\n",
            "Episodio 626: 10.0\n",
            "Episodio 627: 9.0\n",
            "Episodio 628: 18.0\n",
            "Episodio 629: 9.0\n",
            "Episodio 630: 9.0\n",
            "Episodio 631: 10.0\n",
            "Episodio 632: 10.0\n",
            "Episodio 633: 33.0\n",
            "Episodio 634: 10.0\n",
            "Episodio 635: 62.0\n",
            "Episodio 636: 20.0\n",
            "Episodio 637: 9.0\n",
            "Episodio 638: 9.0\n",
            "Episodio 639: 8.0\n",
            "Episodio 640: 9.0\n",
            "Episodio 641: 25.0\n",
            "Episodio 642: 71.0\n",
            "Episodio 643: 88.0\n",
            "Episodio 644: 9.0\n",
            "Episodio 645: 10.0\n",
            "Episodio 646: 44.0\n",
            "Episodio 647: 10.0\n",
            "Episodio 648: 9.0\n",
            "Episodio 649: 8.0\n",
            "Episodio 650: 11.0\n",
            "Episodio 651: 9.0\n",
            "Episodio 652: 10.0\n",
            "Episodio 653: 10.0\n",
            "Episodio 654: 10.0\n",
            "Episodio 655: 8.0\n",
            "Episodio 656: 8.0\n",
            "Episodio 657: 8.0\n",
            "Episodio 658: 118.0\n",
            "Episodio 659: 112.0\n",
            "Episodio 660: 10.0\n",
            "Episodio 661: 23.0\n",
            "Episodio 662: 14.0\n",
            "Episodio 663: 42.0\n",
            "Episodio 664: 132.0\n",
            "Episodio 665: 124.0\n",
            "Episodio 666: 59.0\n",
            "Episodio 667: 8.0\n",
            "Episodio 668: 9.0\n",
            "Episodio 669: 33.0\n",
            "Episodio 670: 10.0\n",
            "Episodio 671: 200.0\n",
            "Episodio 672: 10.0\n",
            "Episodio 673: 10.0\n",
            "Episodio 674: 31.0\n",
            "Episodio 675: 8.0\n",
            "Episodio 676: 10.0\n",
            "Episodio 677: 9.0\n",
            "Episodio 678: 56.0\n",
            "Episodio 679: 200.0\n",
            "Episodio 680: 9.0\n",
            "Episodio 681: 92.0\n",
            "Episodio 682: 10.0\n",
            "Episodio 683: 8.0\n",
            "Episodio 684: 196.0\n",
            "Episodio 685: 170.0\n",
            "Episodio 686: 113.0\n",
            "Episodio 687: 9.0\n",
            "Episodio 688: 61.0\n",
            "Episodio 689: 9.0\n",
            "Episodio 690: 130.0\n",
            "Episodio 691: 13.0\n",
            "Episodio 692: 63.0\n",
            "Episodio 693: 10.0\n",
            "Episodio 694: 51.0\n",
            "Episodio 695: 64.0\n",
            "Episodio 696: 81.0\n",
            "Episodio 697: 10.0\n",
            "Episodio 698: 8.0\n",
            "Episodio 699: 134.0\n",
            "Episodio 700: 36.0\n",
            "Episodio 701: 30.0\n",
            "Episodio 702: 36.0\n",
            "Episodio 703: 62.0\n",
            "Episodio 704: 10.0\n",
            "Episodio 705: 47.0\n",
            "Episodio 706: 9.0\n",
            "Episodio 707: 9.0\n",
            "Episodio 708: 9.0\n",
            "Episodio 709: 9.0\n",
            "Episodio 710: 27.0\n",
            "Episodio 711: 10.0\n",
            "Episodio 712: 200.0\n",
            "Episodio 713: 138.0\n",
            "Episodio 714: 8.0\n",
            "Episodio 715: 125.0\n",
            "Episodio 716: 10.0\n",
            "Episodio 717: 10.0\n",
            "Episodio 718: 9.0\n",
            "Episodio 719: 55.0\n",
            "Episodio 720: 9.0\n",
            "Episodio 721: 9.0\n",
            "Episodio 722: 29.0\n",
            "Episodio 723: 45.0\n",
            "Episodio 724: 22.0\n",
            "Episodio 725: 87.0\n",
            "Episodio 726: 10.0\n",
            "Episodio 727: 9.0\n",
            "Episodio 728: 9.0\n",
            "Episodio 729: 13.0\n",
            "Episodio 730: 53.0\n",
            "Episodio 731: 10.0\n",
            "Episodio 732: 9.0\n",
            "Episodio 733: 9.0\n",
            "Episodio 734: 8.0\n",
            "Episodio 735: 200.0\n",
            "Episodio 736: 8.0\n",
            "Episodio 737: 9.0\n",
            "Episodio 738: 23.0\n",
            "Episodio 739: 10.0\n",
            "Episodio 740: 9.0\n",
            "Episodio 741: 23.0\n",
            "Episodio 742: 9.0\n",
            "Episodio 743: 80.0\n",
            "Episodio 744: 9.0\n",
            "Episodio 745: 40.0\n",
            "Episodio 746: 10.0\n",
            "Episodio 747: 9.0\n",
            "Episodio 748: 125.0\n",
            "Episodio 749: 10.0\n",
            "Episodio 750: 52.0\n",
            "Episodio 751: 10.0\n",
            "Episodio 752: 34.0\n",
            "Episodio 753: 88.0\n",
            "Episodio 754: 200.0\n",
            "Episodio 755: 10.0\n",
            "Episodio 756: 10.0\n",
            "Episodio 757: 24.0\n",
            "Episodio 758: 10.0\n",
            "Episodio 759: 138.0\n",
            "Episodio 760: 9.0\n",
            "Episodio 761: 8.0\n",
            "Episodio 762: 8.0\n",
            "Episodio 763: 43.0\n",
            "Episodio 764: 200.0\n",
            "Episodio 765: 200.0\n",
            "Episodio 766: 9.0\n",
            "Episodio 767: 10.0\n",
            "Episodio 768: 73.0\n",
            "Episodio 769: 82.0\n",
            "Episodio 770: 9.0\n",
            "Episodio 771: 61.0\n",
            "Episodio 772: 8.0\n",
            "Episodio 773: 96.0\n",
            "Episodio 774: 10.0\n",
            "Episodio 775: 90.0\n",
            "Episodio 776: 127.0\n",
            "Episodio 777: 9.0\n",
            "Episodio 778: 19.0\n",
            "Episodio 779: 24.0\n",
            "Episodio 780: 10.0\n",
            "Episodio 781: 8.0\n",
            "Episodio 782: 26.0\n",
            "Episodio 783: 38.0\n",
            "Episodio 784: 9.0\n",
            "Episodio 785: 8.0\n",
            "Episodio 786: 8.0\n",
            "Episodio 787: 196.0\n",
            "Episodio 788: 29.0\n",
            "Episodio 789: 46.0\n",
            "Episodio 790: 9.0\n",
            "Episodio 791: 10.0\n",
            "Episodio 792: 10.0\n",
            "Episodio 793: 20.0\n",
            "Episodio 794: 24.0\n",
            "Episodio 795: 10.0\n",
            "Episodio 796: 29.0\n",
            "Episodio 797: 65.0\n",
            "Episodio 798: 72.0\n",
            "Episodio 799: 10.0\n",
            "Episodio 800: 23.0\n",
            "Episodio 801: 9.0\n",
            "Episodio 802: 9.0\n",
            "Episodio 803: 9.0\n",
            "Episodio 804: 10.0\n",
            "Episodio 805: 22.0\n",
            "Episodio 806: 52.0\n",
            "Episodio 807: 10.0\n",
            "Episodio 808: 10.0\n",
            "Episodio 809: 44.0\n",
            "Episodio 810: 118.0\n",
            "Episodio 811: 9.0\n",
            "Episodio 812: 10.0\n",
            "Episodio 813: 120.0\n",
            "Episodio 814: 29.0\n",
            "Episodio 815: 30.0\n",
            "Episodio 816: 10.0\n",
            "Episodio 817: 10.0\n",
            "Episodio 818: 8.0\n",
            "Episodio 819: 10.0\n",
            "Episodio 820: 200.0\n",
            "Episodio 821: 9.0\n",
            "Episodio 822: 9.0\n",
            "Episodio 823: 30.0\n",
            "Episodio 824: 200.0\n",
            "Episodio 825: 10.0\n",
            "Episodio 826: 10.0\n",
            "Episodio 827: 129.0\n",
            "Episodio 828: 10.0\n",
            "Episodio 829: 43.0\n",
            "Episodio 830: 144.0\n",
            "Episodio 831: 9.0\n",
            "Episodio 832: 9.0\n",
            "Episodio 833: 9.0\n",
            "Episodio 834: 64.0\n",
            "Episodio 835: 9.0\n",
            "Episodio 836: 87.0\n",
            "Episodio 837: 66.0\n",
            "Episodio 838: 49.0\n",
            "Episodio 839: 75.0\n",
            "Episodio 840: 8.0\n",
            "Episodio 841: 10.0\n",
            "Episodio 842: 40.0\n",
            "Episodio 843: 9.0\n",
            "Episodio 844: 101.0\n",
            "Episodio 845: 199.0\n",
            "Episodio 846: 10.0\n",
            "Episodio 847: 9.0\n",
            "Episodio 848: 173.0\n",
            "Episodio 849: 9.0\n",
            "Episodio 850: 200.0\n",
            "Episodio 851: 9.0\n",
            "Episodio 852: 9.0\n",
            "Episodio 853: 87.0\n",
            "Episodio 854: 9.0\n",
            "Episodio 855: 33.0\n",
            "Episodio 856: 8.0\n",
            "Episodio 857: 38.0\n",
            "Episodio 858: 9.0\n",
            "Episodio 859: 10.0\n",
            "Episodio 860: 11.0\n",
            "Episodio 861: 200.0\n",
            "Episodio 862: 72.0\n",
            "Episodio 863: 9.0\n",
            "Episodio 864: 70.0\n",
            "Episodio 865: 9.0\n",
            "Episodio 866: 9.0\n",
            "Episodio 867: 39.0\n",
            "Episodio 868: 24.0\n",
            "Episodio 869: 90.0\n",
            "Episodio 870: 9.0\n",
            "Episodio 871: 149.0\n",
            "Episodio 872: 25.0\n",
            "Episodio 873: 8.0\n",
            "Episodio 874: 41.0\n",
            "Episodio 875: 200.0\n",
            "Episodio 876: 9.0\n",
            "Episodio 877: 10.0\n",
            "Episodio 878: 10.0\n",
            "Episodio 879: 9.0\n",
            "Episodio 880: 9.0\n",
            "Episodio 881: 136.0\n",
            "Episodio 882: 9.0\n",
            "Episodio 883: 51.0\n",
            "Episodio 884: 52.0\n",
            "Episodio 885: 200.0\n",
            "Episodio 886: 10.0\n",
            "Episodio 887: 167.0\n",
            "Episodio 888: 10.0\n",
            "Episodio 889: 8.0\n",
            "Episodio 890: 39.0\n",
            "Episodio 891: 10.0\n",
            "Episodio 892: 10.0\n",
            "Episodio 893: 9.0\n",
            "Episodio 894: 10.0\n",
            "Episodio 895: 9.0\n",
            "Episodio 896: 9.0\n",
            "Episodio 897: 190.0\n",
            "Episodio 898: 200.0\n",
            "Episodio 899: 10.0\n",
            "Episodio 900: 9.0\n",
            "Episodio 901: 10.0\n",
            "Episodio 902: 9.0\n",
            "Episodio 903: 27.0\n",
            "Episodio 904: 167.0\n",
            "Episodio 905: 8.0\n",
            "Episodio 906: 200.0\n",
            "Episodio 907: 9.0\n",
            "Episodio 908: 9.0\n",
            "Episodio 909: 9.0\n",
            "Episodio 910: 161.0\n",
            "Episodio 911: 10.0\n",
            "Episodio 912: 124.0\n",
            "Episodio 913: 10.0\n",
            "Episodio 914: 32.0\n",
            "Episodio 915: 9.0\n",
            "Episodio 916: 10.0\n",
            "Episodio 917: 9.0\n",
            "Episodio 918: 10.0\n",
            "Episodio 919: 9.0\n",
            "Episodio 920: 10.0\n",
            "Episodio 921: 53.0\n",
            "Episodio 922: 10.0\n",
            "Episodio 923: 100.0\n",
            "Episodio 924: 8.0\n",
            "Episodio 925: 127.0\n",
            "Episodio 926: 45.0\n",
            "Episodio 927: 187.0\n",
            "Episodio 928: 9.0\n",
            "Episodio 929: 22.0\n",
            "Episodio 930: 200.0\n",
            "Episodio 931: 10.0\n",
            "Episodio 932: 40.0\n",
            "Episodio 933: 31.0\n",
            "Episodio 934: 200.0\n",
            "Episodio 935: 29.0\n",
            "Episodio 936: 142.0\n",
            "Episodio 937: 100.0\n",
            "Episodio 938: 30.0\n",
            "Episodio 939: 9.0\n",
            "Episodio 940: 85.0\n",
            "Episodio 941: 10.0\n",
            "Episodio 942: 9.0\n",
            "Episodio 943: 8.0\n",
            "Episodio 944: 9.0\n",
            "Episodio 945: 9.0\n",
            "Episodio 946: 8.0\n",
            "Episodio 947: 28.0\n",
            "Episodio 948: 42.0\n",
            "Episodio 949: 13.0\n",
            "Episodio 950: 18.0\n",
            "Episodio 951: 10.0\n",
            "Episodio 952: 10.0\n",
            "Episodio 953: 9.0\n",
            "Episodio 954: 10.0\n",
            "Episodio 955: 58.0\n",
            "Episodio 956: 9.0\n",
            "Episodio 957: 10.0\n",
            "Episodio 958: 10.0\n",
            "Episodio 959: 9.0\n",
            "Episodio 960: 44.0\n",
            "Episodio 961: 8.0\n",
            "Episodio 962: 57.0\n",
            "Episodio 963: 32.0\n",
            "Episodio 964: 10.0\n",
            "Episodio 965: 28.0\n",
            "Episodio 966: 8.0\n",
            "Episodio 967: 60.0\n",
            "Episodio 968: 8.0\n",
            "Episodio 969: 10.0\n",
            "Episodio 970: 41.0\n",
            "Episodio 971: 42.0\n",
            "Episodio 972: 134.0\n",
            "Episodio 973: 9.0\n",
            "Episodio 974: 9.0\n",
            "Episodio 975: 200.0\n",
            "Episodio 976: 9.0\n",
            "Episodio 977: 68.0\n",
            "Episodio 978: 9.0\n",
            "Episodio 979: 53.0\n",
            "Episodio 980: 10.0\n",
            "Episodio 981: 54.0\n",
            "Episodio 982: 29.0\n",
            "Episodio 983: 9.0\n",
            "Episodio 984: 81.0\n",
            "Episodio 985: 38.0\n",
            "Episodio 986: 9.0\n",
            "Episodio 987: 9.0\n",
            "Episodio 988: 10.0\n",
            "Episodio 989: 8.0\n",
            "Episodio 990: 49.0\n",
            "Episodio 991: 10.0\n",
            "Episodio 992: 9.0\n",
            "Episodio 993: 57.0\n",
            "Episodio 994: 23.0\n",
            "Episodio 995: 10.0\n",
            "Episodio 996: 10.0\n",
            "Episodio 997: 8.0\n",
            "Episodio 998: 9.0\n",
            "Episodio 999: 9.0\n",
            "Episodio 1000: 9.0\n",
            "Recompensa total promedio por 1000 episodio: 43.878\n"
          ],
          "name": "stdout"
        }
      ]
    },
    {
      "cell_type": "code",
      "metadata": {
        "colab": {
          "base_uri": "https://localhost:8080/",
          "height": 279
        },
        "id": "RbVtC4tQOV32",
        "outputId": "5cd1490c-81cc-48fd-e9ed-d345d94a2245"
      },
      "source": [
        "import matplotlib.pyplot as plt\n",
        "plt.plot(recompensas_totales)\n",
        "plt.xlabel('Episodio')\n",
        "plt.ylabel('Recompensa')\n",
        "plt.show()"
      ],
      "execution_count": null,
      "outputs": [
        {
          "output_type": "display_data",
          "data": {
            "image/png": "[encoded data removed]",
            "text/plain": [
              "<Figure size 432x288 with 1 Axes>"
            ]
          },
          "metadata": {
            "tags": [],
            "needs_background": "light"
          }
        }
      ]
    },
    {
      "cell_type": "markdown",
      "metadata": {
        "id": "h-Xw3zbyON2K"
      },
      "source": [
        "### Ejercicios\n",
        "\n",
        "Escribe líneas  de código para ver cómo funciona la política aprendida en $100$ episodios nuevos."
      ]
    },
    {
      "cell_type": "code",
      "metadata": {
        "id": "nZr1sN-tPWqv"
      },
      "source": [
        "## Tu respuesta"
      ],
      "execution_count": null,
      "outputs": []
    },
    {
      "cell_type": "markdown",
      "metadata": {
        "id": "9k4OVHXtPtOM"
      },
      "source": [
        "Implementa el algoritmo **Hill climbing**, de manera que podamos lograr un rendimiento mucho mejor que con una política de búsqueda aleatoria simplemente agregando ruido adaptativo a cada episodio. \n",
        "\n",
        "Referencia: [Introduction to Hill Climbing | Artificial Intelligence](https://www.geeksforgeeks.org/introduction-hill-climbing-artificial-intelligence/)."
      ]
    },
    {
      "cell_type": "code",
      "metadata": {
        "id": "NuuPdiFIQque"
      },
      "source": [
        "## Tu solucion"
      ],
      "execution_count": null,
      "outputs": []
    },
    {
      "cell_type": "markdown",
      "metadata": {
        "id": "0_gtcEIPQwCX"
      },
      "source": [
        "### Política de gradiente de Monte Carlo\n",
        "\n",
        "En el algoritmo de políticas de gradiente, el peso del modelo se mueve en la dirección del gradiente al final de cada episodio.\n",
        "\n",
        "Además, en cada paso, se muestra una acción de la política en función de las probabilidades calculadas utilizando el estado y el peso. Ya no realiza una acción con certeza, a diferencia de la búsqueda aleatoria y hill climbing (al realizar la acción que obtiene la puntuación más alta. Por tanto, la política cambia de determinista a estocástica.\n",
        "\n",
        "El algoritmo entrena a un agente dando pequeños pasos y actualizando el peso según las recompensas asociadas con esos pasos al final de un episodio. La técnica de hacer que el agente ejecute un episodio completo y luego actualizar la política en función de las recompensas obtenidas se denomina política de Monte Carlo.\n",
        "\n",
        "La acción se selecciona en función de la distribución de probabilidad calculada según el estado actual y el peso del modelo. Por ejemplo, si las probabilidades para las acciones izquierda y derecha son `[0,6, 0,4]`, esto significa que la acción izquierda se selecciona el $60\\%$ del tiempo y no significa que se elija la acción de la izquierda.\n",
        "\n",
        "Si la recompensa es $1$ por cada paso antes de que finalice un episodio. La recompensa futura que usamos para calcular la política de gradiente en cada paso es el número de pasos restantes. Después de cada episodio, alimentamos el historial de gradientes multiplicado por las recompensas futuras para actualizar el peso utilizando el método de ascenso de gradiente estocástico. De esta forma, cuanto más largo sea un episodio, mayor será la actualización del peso.\n",
        "\n",
        "Esto eventualmente aumentará la posibilidad de obtener una recompensa total mayor."
      ]
    },
    {
      "cell_type": "code",
      "metadata": {
        "colab": {
          "base_uri": "https://localhost:8080/"
        },
        "id": "92-FM9sYSi8L",
        "outputId": "47b88a86-f3e3-4d11-b628-ceb47e9dce34"
      },
      "source": [
        "import torch\n",
        "import gym\n",
        "\n",
        "env = gym.make('CartPole-v0')\n",
        "\n",
        "n_estado = env.observation_space.shape[0]\n",
        "n_accion = env.action_space.n\n",
        "\n",
        "def correr_episodio(env, peso):\n",
        "  estado = env.reset()\n",
        "  grads = []\n",
        "  recompensa_total = 0\n",
        "  realizado = False\n",
        "  while not realizado:\n",
        "    estado = torch.from_numpy(estado).float()\n",
        "    z = torch.matmul(estado, peso)\n",
        "    probs = torch.nn.Softmax()(z)\n",
        "    accion = int(torch.bernoulli(probs[1]).item())\n",
        "    d_softmax = torch.diag(probs) - probs.view(-1, 1) * probs\n",
        "    d_log = d_softmax[accion] / probs[accion]\n",
        "    grad = estado.view(-1, 1) * d_log\n",
        "    grads.append(grad)\n",
        "    estado, recompensa, realizado, _ = env.step(accion)\n",
        "    recompensa_total += recompensa\n",
        "    if realizado:\n",
        "      break\n",
        "  return recompensa_total, grads\n",
        "\n",
        "n_episodios = 1000\n",
        "tasa_aprendizaje = 0.001\n",
        "\n",
        "recompensas_totales = []\n",
        "peso = torch.rand(n_estado, n_accion)\n",
        "\n",
        "for episodio in range(n_episodios):\n",
        "  recompensa_total, gradientes = correr_episodio(env, peso)\n",
        "  print('Episodio {}: {}'.format(episodio + 1, recompensa_total))\n",
        "  for i, gradiente in enumerate(gradientes):\n",
        "    peso += tasa_aprendizaje * gradiente * (recompensa_total - i)\n",
        "  recompensas_totales.append(recompensa_total)\n",
        "\n",
        "print('Recompensa total promedio por {} episodio: {}'.format(n_episodios, sum(recompensas_totales)/n_episodios))"
      ],
      "execution_count": null,
      "outputs": [
        {
          "output_type": "stream",
          "text": [
            "/usr/local/lib/python3.6/dist-packages/ipykernel_launcher.py:17: UserWarning: Implicit dimension choice for softmax has been deprecated. Change the call to include dim=X as an argument.\n"
          ],
          "name": "stderr"
        },
        {
          "output_type": "stream",
          "text": [
            "Episodio 1: 28.0\n",
            "Episodio 2: 43.0\n",
            "Episodio 3: 35.0\n",
            "Episodio 4: 17.0\n",
            "Episodio 5: 49.0\n",
            "Episodio 6: 29.0\n",
            "Episodio 7: 38.0\n",
            "Episodio 8: 49.0\n",
            "Episodio 9: 35.0\n",
            "Episodio 10: 19.0\n",
            "Episodio 11: 30.0\n",
            "Episodio 12: 31.0\n",
            "Episodio 13: 30.0\n",
            "Episodio 14: 30.0\n",
            "Episodio 15: 45.0\n",
            "Episodio 16: 32.0\n",
            "Episodio 17: 84.0\n",
            "Episodio 18: 67.0\n",
            "Episodio 19: 50.0\n",
            "Episodio 20: 38.0\n",
            "Episodio 21: 36.0\n",
            "Episodio 22: 41.0\n",
            "Episodio 23: 66.0\n",
            "Episodio 24: 67.0\n",
            "Episodio 25: 37.0\n",
            "Episodio 26: 45.0\n",
            "Episodio 27: 122.0\n",
            "Episodio 28: 26.0\n",
            "Episodio 29: 25.0\n",
            "Episodio 30: 59.0\n",
            "Episodio 31: 59.0\n",
            "Episodio 32: 24.0\n",
            "Episodio 33: 20.0\n",
            "Episodio 34: 36.0\n",
            "Episodio 35: 18.0\n",
            "Episodio 36: 93.0\n",
            "Episodio 37: 18.0\n",
            "Episodio 38: 28.0\n",
            "Episodio 39: 49.0\n",
            "Episodio 40: 19.0\n",
            "Episodio 41: 82.0\n",
            "Episodio 42: 35.0\n",
            "Episodio 43: 41.0\n",
            "Episodio 44: 50.0\n",
            "Episodio 45: 152.0\n",
            "Episodio 46: 46.0\n",
            "Episodio 47: 49.0\n",
            "Episodio 48: 170.0\n",
            "Episodio 49: 70.0\n",
            "Episodio 50: 75.0\n",
            "Episodio 51: 78.0\n",
            "Episodio 52: 53.0\n",
            "Episodio 53: 85.0\n",
            "Episodio 54: 69.0\n",
            "Episodio 55: 110.0\n",
            "Episodio 56: 86.0\n",
            "Episodio 57: 99.0\n",
            "Episodio 58: 86.0\n",
            "Episodio 59: 66.0\n",
            "Episodio 60: 87.0\n",
            "Episodio 61: 77.0\n",
            "Episodio 62: 49.0\n",
            "Episodio 63: 67.0\n",
            "Episodio 64: 146.0\n",
            "Episodio 65: 89.0\n",
            "Episodio 66: 128.0\n",
            "Episodio 67: 150.0\n",
            "Episodio 68: 127.0\n",
            "Episodio 69: 70.0\n",
            "Episodio 70: 111.0\n",
            "Episodio 71: 78.0\n",
            "Episodio 72: 108.0\n",
            "Episodio 73: 149.0\n",
            "Episodio 74: 169.0\n",
            "Episodio 75: 81.0\n",
            "Episodio 76: 26.0\n",
            "Episodio 77: 61.0\n",
            "Episodio 78: 93.0\n",
            "Episodio 79: 97.0\n",
            "Episodio 80: 48.0\n",
            "Episodio 81: 148.0\n",
            "Episodio 82: 166.0\n",
            "Episodio 83: 179.0\n",
            "Episodio 84: 200.0\n",
            "Episodio 85: 78.0\n",
            "Episodio 86: 92.0\n",
            "Episodio 87: 200.0\n",
            "Episodio 88: 189.0\n",
            "Episodio 89: 200.0\n",
            "Episodio 90: 200.0\n",
            "Episodio 91: 106.0\n",
            "Episodio 92: 134.0\n",
            "Episodio 93: 200.0\n",
            "Episodio 94: 200.0\n",
            "Episodio 95: 155.0\n",
            "Episodio 96: 62.0\n",
            "Episodio 97: 101.0\n",
            "Episodio 98: 164.0\n",
            "Episodio 99: 74.0\n",
            "Episodio 100: 85.0\n",
            "Episodio 101: 69.0\n",
            "Episodio 102: 82.0\n",
            "Episodio 103: 57.0\n",
            "Episodio 104: 148.0\n",
            "Episodio 105: 101.0\n",
            "Episodio 106: 60.0\n",
            "Episodio 107: 72.0\n",
            "Episodio 108: 145.0\n",
            "Episodio 109: 83.0\n",
            "Episodio 110: 200.0\n",
            "Episodio 111: 200.0\n",
            "Episodio 112: 115.0\n",
            "Episodio 113: 121.0\n",
            "Episodio 114: 83.0\n",
            "Episodio 115: 141.0\n",
            "Episodio 116: 88.0\n",
            "Episodio 117: 186.0\n",
            "Episodio 118: 144.0\n",
            "Episodio 119: 200.0\n",
            "Episodio 120: 157.0\n",
            "Episodio 121: 138.0\n",
            "Episodio 122: 192.0\n",
            "Episodio 123: 81.0\n",
            "Episodio 124: 141.0\n",
            "Episodio 125: 176.0\n",
            "Episodio 126: 150.0\n",
            "Episodio 127: 144.0\n",
            "Episodio 128: 156.0\n",
            "Episodio 129: 200.0\n",
            "Episodio 130: 194.0\n",
            "Episodio 131: 200.0\n",
            "Episodio 132: 168.0\n",
            "Episodio 133: 153.0\n",
            "Episodio 134: 200.0\n",
            "Episodio 135: 123.0\n",
            "Episodio 136: 92.0\n",
            "Episodio 137: 89.0\n",
            "Episodio 138: 184.0\n",
            "Episodio 139: 185.0\n",
            "Episodio 140: 189.0\n",
            "Episodio 141: 180.0\n",
            "Episodio 142: 170.0\n",
            "Episodio 143: 200.0\n",
            "Episodio 144: 200.0\n",
            "Episodio 145: 200.0\n",
            "Episodio 146: 200.0\n",
            "Episodio 147: 200.0\n",
            "Episodio 148: 200.0\n",
            "Episodio 149: 200.0\n",
            "Episodio 150: 200.0\n",
            "Episodio 151: 200.0\n",
            "Episodio 152: 195.0\n",
            "Episodio 153: 197.0\n",
            "Episodio 154: 155.0\n",
            "Episodio 155: 162.0\n",
            "Episodio 156: 200.0\n",
            "Episodio 157: 200.0\n",
            "Episodio 158: 200.0\n",
            "Episodio 159: 200.0\n",
            "Episodio 160: 164.0\n",
            "Episodio 161: 118.0\n",
            "Episodio 162: 139.0\n",
            "Episodio 163: 175.0\n",
            "Episodio 164: 103.0\n",
            "Episodio 165: 87.0\n",
            "Episodio 166: 146.0\n",
            "Episodio 167: 200.0\n",
            "Episodio 168: 179.0\n",
            "Episodio 169: 138.0\n",
            "Episodio 170: 132.0\n",
            "Episodio 171: 145.0\n",
            "Episodio 172: 117.0\n",
            "Episodio 173: 141.0\n",
            "Episodio 174: 177.0\n",
            "Episodio 175: 79.0\n",
            "Episodio 176: 89.0\n",
            "Episodio 177: 112.0\n",
            "Episodio 178: 150.0\n",
            "Episodio 179: 107.0\n",
            "Episodio 180: 113.0\n",
            "Episodio 181: 142.0\n",
            "Episodio 182: 126.0\n",
            "Episodio 183: 170.0\n",
            "Episodio 184: 134.0\n",
            "Episodio 185: 148.0\n",
            "Episodio 186: 165.0\n",
            "Episodio 187: 148.0\n",
            "Episodio 188: 131.0\n",
            "Episodio 189: 200.0\n",
            "Episodio 190: 136.0\n",
            "Episodio 191: 121.0\n",
            "Episodio 192: 197.0\n",
            "Episodio 193: 186.0\n",
            "Episodio 194: 129.0\n",
            "Episodio 195: 103.0\n",
            "Episodio 196: 113.0\n",
            "Episodio 197: 126.0\n",
            "Episodio 198: 200.0\n",
            "Episodio 199: 113.0\n",
            "Episodio 200: 153.0\n",
            "Episodio 201: 164.0\n",
            "Episodio 202: 113.0\n",
            "Episodio 203: 200.0\n",
            "Episodio 204: 150.0\n",
            "Episodio 205: 184.0\n",
            "Episodio 206: 200.0\n",
            "Episodio 207: 200.0\n",
            "Episodio 208: 200.0\n",
            "Episodio 209: 200.0\n",
            "Episodio 210: 200.0\n",
            "Episodio 211: 200.0\n",
            "Episodio 212: 200.0\n",
            "Episodio 213: 200.0\n",
            "Episodio 214: 200.0\n",
            "Episodio 215: 200.0\n",
            "Episodio 216: 200.0\n",
            "Episodio 217: 200.0\n",
            "Episodio 218: 200.0\n",
            "Episodio 219: 200.0\n",
            "Episodio 220: 200.0\n",
            "Episodio 221: 200.0\n",
            "Episodio 222: 152.0\n",
            "Episodio 223: 181.0\n",
            "Episodio 224: 185.0\n",
            "Episodio 225: 184.0\n",
            "Episodio 226: 184.0\n",
            "Episodio 227: 200.0\n",
            "Episodio 228: 158.0\n",
            "Episodio 229: 139.0\n",
            "Episodio 230: 110.0\n",
            "Episodio 231: 150.0\n",
            "Episodio 232: 113.0\n",
            "Episodio 233: 171.0\n",
            "Episodio 234: 136.0\n",
            "Episodio 235: 128.0\n",
            "Episodio 236: 160.0\n",
            "Episodio 237: 158.0\n",
            "Episodio 238: 182.0\n",
            "Episodio 239: 137.0\n",
            "Episodio 240: 200.0\n",
            "Episodio 241: 150.0\n",
            "Episodio 242: 151.0\n",
            "Episodio 243: 200.0\n",
            "Episodio 244: 200.0\n",
            "Episodio 245: 200.0\n",
            "Episodio 246: 200.0\n",
            "Episodio 247: 200.0\n",
            "Episodio 248: 200.0\n",
            "Episodio 249: 200.0\n",
            "Episodio 250: 200.0\n",
            "Episodio 251: 200.0\n",
            "Episodio 252: 144.0\n",
            "Episodio 253: 188.0\n",
            "Episodio 254: 137.0\n",
            "Episodio 255: 200.0\n",
            "Episodio 256: 200.0\n",
            "Episodio 257: 200.0\n",
            "Episodio 258: 200.0\n",
            "Episodio 259: 147.0\n",
            "Episodio 260: 200.0\n",
            "Episodio 261: 118.0\n",
            "Episodio 262: 121.0\n",
            "Episodio 263: 145.0\n",
            "Episodio 264: 135.0\n",
            "Episodio 265: 200.0\n",
            "Episodio 266: 199.0\n",
            "Episodio 267: 184.0\n",
            "Episodio 268: 151.0\n",
            "Episodio 269: 178.0\n",
            "Episodio 270: 147.0\n",
            "Episodio 271: 200.0\n",
            "Episodio 272: 200.0\n",
            "Episodio 273: 193.0\n",
            "Episodio 274: 200.0\n",
            "Episodio 275: 200.0\n",
            "Episodio 276: 200.0\n",
            "Episodio 277: 200.0\n",
            "Episodio 278: 200.0\n",
            "Episodio 279: 200.0\n",
            "Episodio 280: 200.0\n",
            "Episodio 281: 200.0\n",
            "Episodio 282: 200.0\n",
            "Episodio 283: 200.0\n",
            "Episodio 284: 200.0\n",
            "Episodio 285: 200.0\n",
            "Episodio 286: 185.0\n",
            "Episodio 287: 200.0\n",
            "Episodio 288: 200.0\n",
            "Episodio 289: 200.0\n",
            "Episodio 290: 200.0\n",
            "Episodio 291: 169.0\n",
            "Episodio 292: 200.0\n",
            "Episodio 293: 200.0\n",
            "Episodio 294: 200.0\n",
            "Episodio 295: 195.0\n",
            "Episodio 296: 200.0\n",
            "Episodio 297: 200.0\n",
            "Episodio 298: 200.0\n",
            "Episodio 299: 200.0\n",
            "Episodio 300: 200.0\n",
            "Episodio 301: 200.0\n",
            "Episodio 302: 200.0\n",
            "Episodio 303: 200.0\n",
            "Episodio 304: 200.0\n",
            "Episodio 305: 189.0\n",
            "Episodio 306: 171.0\n",
            "Episodio 307: 200.0\n",
            "Episodio 308: 200.0\n",
            "Episodio 309: 200.0\n",
            "Episodio 310: 200.0\n",
            "Episodio 311: 179.0\n",
            "Episodio 312: 129.0\n",
            "Episodio 313: 200.0\n",
            "Episodio 314: 200.0\n",
            "Episodio 315: 200.0\n",
            "Episodio 316: 173.0\n",
            "Episodio 317: 200.0\n",
            "Episodio 318: 200.0\n",
            "Episodio 319: 200.0\n",
            "Episodio 320: 200.0\n",
            "Episodio 321: 200.0\n",
            "Episodio 322: 200.0\n",
            "Episodio 323: 200.0\n",
            "Episodio 324: 196.0\n",
            "Episodio 325: 200.0\n",
            "Episodio 326: 161.0\n",
            "Episodio 327: 200.0\n",
            "Episodio 328: 175.0\n",
            "Episodio 329: 200.0\n",
            "Episodio 330: 200.0\n",
            "Episodio 331: 200.0\n",
            "Episodio 332: 200.0\n",
            "Episodio 333: 200.0\n",
            "Episodio 334: 200.0\n",
            "Episodio 335: 200.0\n",
            "Episodio 336: 200.0\n",
            "Episodio 337: 200.0\n",
            "Episodio 338: 200.0\n",
            "Episodio 339: 140.0\n",
            "Episodio 340: 200.0\n",
            "Episodio 341: 200.0\n",
            "Episodio 342: 200.0\n",
            "Episodio 343: 200.0\n",
            "Episodio 344: 200.0\n",
            "Episodio 345: 183.0\n",
            "Episodio 346: 200.0\n",
            "Episodio 347: 200.0\n",
            "Episodio 348: 200.0\n",
            "Episodio 349: 200.0\n",
            "Episodio 350: 129.0\n",
            "Episodio 351: 200.0\n",
            "Episodio 352: 200.0\n",
            "Episodio 353: 200.0\n",
            "Episodio 354: 147.0\n",
            "Episodio 355: 200.0\n",
            "Episodio 356: 189.0\n",
            "Episodio 357: 200.0\n",
            "Episodio 358: 200.0\n",
            "Episodio 359: 200.0\n",
            "Episodio 360: 200.0\n",
            "Episodio 361: 170.0\n",
            "Episodio 362: 200.0\n",
            "Episodio 363: 200.0\n",
            "Episodio 364: 200.0\n",
            "Episodio 365: 154.0\n",
            "Episodio 366: 200.0\n",
            "Episodio 367: 200.0\n",
            "Episodio 368: 153.0\n",
            "Episodio 369: 178.0\n",
            "Episodio 370: 200.0\n",
            "Episodio 371: 200.0\n",
            "Episodio 372: 200.0\n",
            "Episodio 373: 200.0\n",
            "Episodio 374: 155.0\n",
            "Episodio 375: 149.0\n",
            "Episodio 376: 193.0\n",
            "Episodio 377: 200.0\n",
            "Episodio 378: 200.0\n",
            "Episodio 379: 200.0\n",
            "Episodio 380: 198.0\n",
            "Episodio 381: 200.0\n",
            "Episodio 382: 200.0\n",
            "Episodio 383: 200.0\n",
            "Episodio 384: 162.0\n",
            "Episodio 385: 183.0\n",
            "Episodio 386: 200.0\n",
            "Episodio 387: 143.0\n",
            "Episodio 388: 165.0\n",
            "Episodio 389: 200.0\n",
            "Episodio 390: 185.0\n",
            "Episodio 391: 200.0\n",
            "Episodio 392: 200.0\n",
            "Episodio 393: 188.0\n",
            "Episodio 394: 196.0\n",
            "Episodio 395: 200.0\n",
            "Episodio 396: 200.0\n",
            "Episodio 397: 200.0\n",
            "Episodio 398: 200.0\n",
            "Episodio 399: 200.0\n",
            "Episodio 400: 200.0\n",
            "Episodio 401: 200.0\n",
            "Episodio 402: 200.0\n",
            "Episodio 403: 156.0\n",
            "Episodio 404: 140.0\n",
            "Episodio 405: 200.0\n",
            "Episodio 406: 173.0\n",
            "Episodio 407: 200.0\n",
            "Episodio 408: 170.0\n",
            "Episodio 409: 156.0\n",
            "Episodio 410: 195.0\n",
            "Episodio 411: 200.0\n",
            "Episodio 412: 168.0\n",
            "Episodio 413: 200.0\n",
            "Episodio 414: 200.0\n",
            "Episodio 415: 200.0\n",
            "Episodio 416: 200.0\n",
            "Episodio 417: 119.0\n",
            "Episodio 418: 200.0\n",
            "Episodio 419: 200.0\n",
            "Episodio 420: 130.0\n",
            "Episodio 421: 110.0\n",
            "Episodio 422: 131.0\n",
            "Episodio 423: 127.0\n",
            "Episodio 424: 200.0\n",
            "Episodio 425: 141.0\n",
            "Episodio 426: 200.0\n",
            "Episodio 427: 196.0\n",
            "Episodio 428: 200.0\n",
            "Episodio 429: 200.0\n",
            "Episodio 430: 200.0\n",
            "Episodio 431: 127.0\n",
            "Episodio 432: 200.0\n",
            "Episodio 433: 200.0\n",
            "Episodio 434: 200.0\n",
            "Episodio 435: 200.0\n",
            "Episodio 436: 200.0\n",
            "Episodio 437: 200.0\n",
            "Episodio 438: 200.0\n",
            "Episodio 439: 200.0\n",
            "Episodio 440: 200.0\n",
            "Episodio 441: 200.0\n",
            "Episodio 442: 200.0\n",
            "Episodio 443: 200.0\n",
            "Episodio 444: 200.0\n",
            "Episodio 445: 194.0\n",
            "Episodio 446: 200.0\n",
            "Episodio 447: 200.0\n",
            "Episodio 448: 176.0\n",
            "Episodio 449: 200.0\n",
            "Episodio 450: 200.0\n",
            "Episodio 451: 200.0\n",
            "Episodio 452: 197.0\n",
            "Episodio 453: 200.0\n",
            "Episodio 454: 151.0\n",
            "Episodio 455: 200.0\n",
            "Episodio 456: 200.0\n",
            "Episodio 457: 185.0\n",
            "Episodio 458: 171.0\n",
            "Episodio 459: 200.0\n",
            "Episodio 460: 200.0\n",
            "Episodio 461: 200.0\n",
            "Episodio 462: 200.0\n",
            "Episodio 463: 200.0\n",
            "Episodio 464: 200.0\n",
            "Episodio 465: 200.0\n",
            "Episodio 466: 200.0\n",
            "Episodio 467: 200.0\n",
            "Episodio 468: 200.0\n",
            "Episodio 469: 200.0\n",
            "Episodio 470: 200.0\n",
            "Episodio 471: 200.0\n",
            "Episodio 472: 200.0\n",
            "Episodio 473: 200.0\n",
            "Episodio 474: 200.0\n",
            "Episodio 475: 200.0\n",
            "Episodio 476: 200.0\n",
            "Episodio 477: 200.0\n",
            "Episodio 478: 200.0\n",
            "Episodio 479: 200.0\n",
            "Episodio 480: 200.0\n",
            "Episodio 481: 200.0\n",
            "Episodio 482: 200.0\n",
            "Episodio 483: 200.0\n",
            "Episodio 484: 200.0\n",
            "Episodio 485: 200.0\n",
            "Episodio 486: 200.0\n",
            "Episodio 487: 200.0\n",
            "Episodio 488: 159.0\n",
            "Episodio 489: 200.0\n",
            "Episodio 490: 155.0\n",
            "Episodio 491: 171.0\n",
            "Episodio 492: 200.0\n",
            "Episodio 493: 164.0\n",
            "Episodio 494: 179.0\n",
            "Episodio 495: 164.0\n",
            "Episodio 496: 156.0\n",
            "Episodio 497: 200.0\n",
            "Episodio 498: 182.0\n",
            "Episodio 499: 200.0\n",
            "Episodio 500: 200.0\n",
            "Episodio 501: 200.0\n",
            "Episodio 502: 200.0\n",
            "Episodio 503: 200.0\n",
            "Episodio 504: 200.0\n",
            "Episodio 505: 200.0\n",
            "Episodio 506: 200.0\n",
            "Episodio 507: 200.0\n",
            "Episodio 508: 200.0\n",
            "Episodio 509: 200.0\n",
            "Episodio 510: 200.0\n",
            "Episodio 511: 200.0\n",
            "Episodio 512: 200.0\n",
            "Episodio 513: 200.0\n",
            "Episodio 514: 200.0\n",
            "Episodio 515: 200.0\n",
            "Episodio 516: 200.0\n",
            "Episodio 517: 200.0\n",
            "Episodio 518: 200.0\n",
            "Episodio 519: 200.0\n",
            "Episodio 520: 200.0\n",
            "Episodio 521: 200.0\n",
            "Episodio 522: 200.0\n",
            "Episodio 523: 200.0\n",
            "Episodio 524: 200.0\n",
            "Episodio 525: 200.0\n",
            "Episodio 526: 200.0\n",
            "Episodio 527: 200.0\n",
            "Episodio 528: 200.0\n",
            "Episodio 529: 200.0\n",
            "Episodio 530: 197.0\n",
            "Episodio 531: 182.0\n",
            "Episodio 532: 189.0\n",
            "Episodio 533: 156.0\n",
            "Episodio 534: 200.0\n",
            "Episodio 535: 200.0\n",
            "Episodio 536: 200.0\n",
            "Episodio 537: 200.0\n",
            "Episodio 538: 200.0\n",
            "Episodio 539: 200.0\n",
            "Episodio 540: 200.0\n",
            "Episodio 541: 200.0\n",
            "Episodio 542: 200.0\n",
            "Episodio 543: 200.0\n",
            "Episodio 544: 200.0\n",
            "Episodio 545: 200.0\n",
            "Episodio 546: 200.0\n",
            "Episodio 547: 200.0\n",
            "Episodio 548: 200.0\n",
            "Episodio 549: 200.0\n",
            "Episodio 550: 200.0\n",
            "Episodio 551: 200.0\n",
            "Episodio 552: 200.0\n",
            "Episodio 553: 200.0\n",
            "Episodio 554: 200.0\n",
            "Episodio 555: 200.0\n",
            "Episodio 556: 200.0\n",
            "Episodio 557: 200.0\n",
            "Episodio 558: 200.0\n",
            "Episodio 559: 200.0\n",
            "Episodio 560: 200.0\n",
            "Episodio 561: 200.0\n",
            "Episodio 562: 200.0\n",
            "Episodio 563: 200.0\n",
            "Episodio 564: 200.0\n",
            "Episodio 565: 200.0\n",
            "Episodio 566: 200.0\n",
            "Episodio 567: 200.0\n",
            "Episodio 568: 200.0\n",
            "Episodio 569: 200.0\n",
            "Episodio 570: 200.0\n",
            "Episodio 571: 200.0\n",
            "Episodio 572: 200.0\n",
            "Episodio 573: 200.0\n",
            "Episodio 574: 200.0\n",
            "Episodio 575: 200.0\n",
            "Episodio 576: 200.0\n",
            "Episodio 577: 200.0\n",
            "Episodio 578: 200.0\n",
            "Episodio 579: 200.0\n",
            "Episodio 580: 200.0\n",
            "Episodio 581: 200.0\n",
            "Episodio 582: 200.0\n",
            "Episodio 583: 200.0\n",
            "Episodio 584: 200.0\n",
            "Episodio 585: 200.0\n",
            "Episodio 586: 200.0\n",
            "Episodio 587: 200.0\n",
            "Episodio 588: 200.0\n",
            "Episodio 589: 200.0\n",
            "Episodio 590: 200.0\n",
            "Episodio 591: 200.0\n",
            "Episodio 592: 200.0\n",
            "Episodio 593: 200.0\n",
            "Episodio 594: 200.0\n",
            "Episodio 595: 200.0\n",
            "Episodio 596: 200.0\n",
            "Episodio 597: 200.0\n",
            "Episodio 598: 200.0\n",
            "Episodio 599: 200.0\n",
            "Episodio 600: 200.0\n",
            "Episodio 601: 200.0\n",
            "Episodio 602: 200.0\n",
            "Episodio 603: 200.0\n",
            "Episodio 604: 200.0\n",
            "Episodio 605: 200.0\n",
            "Episodio 606: 200.0\n",
            "Episodio 607: 200.0\n",
            "Episodio 608: 200.0\n",
            "Episodio 609: 200.0\n",
            "Episodio 610: 200.0\n",
            "Episodio 611: 200.0\n",
            "Episodio 612: 200.0\n",
            "Episodio 613: 200.0\n",
            "Episodio 614: 200.0\n",
            "Episodio 615: 200.0\n",
            "Episodio 616: 200.0\n",
            "Episodio 617: 200.0\n",
            "Episodio 618: 200.0\n",
            "Episodio 619: 200.0\n",
            "Episodio 620: 200.0\n",
            "Episodio 621: 200.0\n",
            "Episodio 622: 200.0\n",
            "Episodio 623: 200.0\n",
            "Episodio 624: 200.0\n",
            "Episodio 625: 200.0\n",
            "Episodio 626: 200.0\n",
            "Episodio 627: 200.0\n",
            "Episodio 628: 200.0\n",
            "Episodio 629: 200.0\n",
            "Episodio 630: 200.0\n",
            "Episodio 631: 200.0\n",
            "Episodio 632: 200.0\n",
            "Episodio 633: 200.0\n",
            "Episodio 634: 200.0\n",
            "Episodio 635: 200.0\n",
            "Episodio 636: 200.0\n",
            "Episodio 637: 200.0\n",
            "Episodio 638: 200.0\n",
            "Episodio 639: 200.0\n",
            "Episodio 640: 200.0\n",
            "Episodio 641: 200.0\n",
            "Episodio 642: 176.0\n",
            "Episodio 643: 200.0\n",
            "Episodio 644: 200.0\n",
            "Episodio 645: 200.0\n",
            "Episodio 646: 200.0\n",
            "Episodio 647: 200.0\n",
            "Episodio 648: 200.0\n",
            "Episodio 649: 200.0\n",
            "Episodio 650: 200.0\n",
            "Episodio 651: 200.0\n",
            "Episodio 652: 200.0\n",
            "Episodio 653: 200.0\n",
            "Episodio 654: 200.0\n",
            "Episodio 655: 200.0\n",
            "Episodio 656: 200.0\n",
            "Episodio 657: 200.0\n",
            "Episodio 658: 200.0\n",
            "Episodio 659: 200.0\n",
            "Episodio 660: 200.0\n",
            "Episodio 661: 200.0\n",
            "Episodio 662: 200.0\n",
            "Episodio 663: 200.0\n",
            "Episodio 664: 200.0\n",
            "Episodio 665: 200.0\n",
            "Episodio 666: 200.0\n",
            "Episodio 667: 200.0\n",
            "Episodio 668: 200.0\n",
            "Episodio 669: 200.0\n",
            "Episodio 670: 200.0\n",
            "Episodio 671: 200.0\n",
            "Episodio 672: 200.0\n",
            "Episodio 673: 200.0\n",
            "Episodio 674: 200.0\n",
            "Episodio 675: 200.0\n",
            "Episodio 676: 119.0\n",
            "Episodio 677: 200.0\n",
            "Episodio 678: 200.0\n",
            "Episodio 679: 200.0\n",
            "Episodio 680: 200.0\n",
            "Episodio 681: 200.0\n",
            "Episodio 682: 200.0\n",
            "Episodio 683: 200.0\n",
            "Episodio 684: 200.0\n",
            "Episodio 685: 200.0\n",
            "Episodio 686: 200.0\n",
            "Episodio 687: 200.0\n",
            "Episodio 688: 200.0\n",
            "Episodio 689: 200.0\n",
            "Episodio 690: 200.0\n",
            "Episodio 691: 200.0\n",
            "Episodio 692: 184.0\n",
            "Episodio 693: 200.0\n",
            "Episodio 694: 200.0\n",
            "Episodio 695: 200.0\n",
            "Episodio 696: 200.0\n",
            "Episodio 697: 200.0\n",
            "Episodio 698: 200.0\n",
            "Episodio 699: 200.0\n",
            "Episodio 700: 189.0\n",
            "Episodio 701: 200.0\n",
            "Episodio 702: 200.0\n",
            "Episodio 703: 200.0\n",
            "Episodio 704: 200.0\n",
            "Episodio 705: 200.0\n",
            "Episodio 706: 200.0\n",
            "Episodio 707: 200.0\n",
            "Episodio 708: 200.0\n",
            "Episodio 709: 200.0\n",
            "Episodio 710: 200.0\n",
            "Episodio 711: 200.0\n",
            "Episodio 712: 200.0\n",
            "Episodio 713: 200.0\n",
            "Episodio 714: 200.0\n",
            "Episodio 715: 200.0\n",
            "Episodio 716: 200.0\n",
            "Episodio 717: 200.0\n",
            "Episodio 718: 200.0\n",
            "Episodio 719: 200.0\n",
            "Episodio 720: 200.0\n",
            "Episodio 721: 200.0\n",
            "Episodio 722: 200.0\n",
            "Episodio 723: 200.0\n",
            "Episodio 724: 200.0\n",
            "Episodio 725: 200.0\n",
            "Episodio 726: 200.0\n",
            "Episodio 727: 200.0\n",
            "Episodio 728: 200.0\n",
            "Episodio 729: 200.0\n",
            "Episodio 730: 200.0\n",
            "Episodio 731: 200.0\n",
            "Episodio 732: 200.0\n",
            "Episodio 733: 200.0\n",
            "Episodio 734: 200.0\n",
            "Episodio 735: 200.0\n",
            "Episodio 736: 200.0\n",
            "Episodio 737: 200.0\n",
            "Episodio 738: 200.0\n",
            "Episodio 739: 198.0\n",
            "Episodio 740: 200.0\n",
            "Episodio 741: 200.0\n",
            "Episodio 742: 200.0\n",
            "Episodio 743: 200.0\n",
            "Episodio 744: 200.0\n",
            "Episodio 745: 200.0\n",
            "Episodio 746: 156.0\n",
            "Episodio 747: 165.0\n",
            "Episodio 748: 200.0\n",
            "Episodio 749: 200.0\n",
            "Episodio 750: 200.0\n",
            "Episodio 751: 200.0\n",
            "Episodio 752: 200.0\n",
            "Episodio 753: 200.0\n",
            "Episodio 754: 200.0\n",
            "Episodio 755: 169.0\n",
            "Episodio 756: 200.0\n",
            "Episodio 757: 200.0\n",
            "Episodio 758: 200.0\n",
            "Episodio 759: 200.0\n",
            "Episodio 760: 200.0\n",
            "Episodio 761: 200.0\n",
            "Episodio 762: 200.0\n",
            "Episodio 763: 200.0\n",
            "Episodio 764: 200.0\n",
            "Episodio 765: 200.0\n",
            "Episodio 766: 200.0\n",
            "Episodio 767: 200.0\n",
            "Episodio 768: 200.0\n",
            "Episodio 769: 200.0\n",
            "Episodio 770: 200.0\n",
            "Episodio 771: 200.0\n",
            "Episodio 772: 200.0\n",
            "Episodio 773: 200.0\n",
            "Episodio 774: 200.0\n",
            "Episodio 775: 200.0\n",
            "Episodio 776: 200.0\n",
            "Episodio 777: 200.0\n",
            "Episodio 778: 200.0\n",
            "Episodio 779: 200.0\n",
            "Episodio 780: 200.0\n",
            "Episodio 781: 200.0\n",
            "Episodio 782: 200.0\n",
            "Episodio 783: 200.0\n",
            "Episodio 784: 200.0\n",
            "Episodio 785: 200.0\n",
            "Episodio 786: 200.0\n",
            "Episodio 787: 200.0\n",
            "Episodio 788: 200.0\n",
            "Episodio 789: 200.0\n",
            "Episodio 790: 200.0\n",
            "Episodio 791: 200.0\n",
            "Episodio 792: 200.0\n",
            "Episodio 793: 132.0\n",
            "Episodio 794: 200.0\n",
            "Episodio 795: 200.0\n",
            "Episodio 796: 200.0\n",
            "Episodio 797: 200.0\n",
            "Episodio 798: 200.0\n",
            "Episodio 799: 200.0\n",
            "Episodio 800: 200.0\n",
            "Episodio 801: 200.0\n",
            "Episodio 802: 200.0\n",
            "Episodio 803: 200.0\n",
            "Episodio 804: 200.0\n",
            "Episodio 805: 200.0\n",
            "Episodio 806: 200.0\n",
            "Episodio 807: 200.0\n",
            "Episodio 808: 200.0\n",
            "Episodio 809: 200.0\n",
            "Episodio 810: 200.0\n",
            "Episodio 811: 200.0\n",
            "Episodio 812: 200.0\n",
            "Episodio 813: 200.0\n",
            "Episodio 814: 200.0\n",
            "Episodio 815: 200.0\n",
            "Episodio 816: 200.0\n",
            "Episodio 817: 200.0\n",
            "Episodio 818: 200.0\n",
            "Episodio 819: 200.0\n",
            "Episodio 820: 200.0\n",
            "Episodio 821: 200.0\n",
            "Episodio 822: 175.0\n",
            "Episodio 823: 157.0\n",
            "Episodio 824: 200.0\n",
            "Episodio 825: 200.0\n",
            "Episodio 826: 200.0\n",
            "Episodio 827: 200.0\n",
            "Episodio 828: 200.0\n",
            "Episodio 829: 200.0\n",
            "Episodio 830: 200.0\n",
            "Episodio 831: 200.0\n",
            "Episodio 832: 200.0\n",
            "Episodio 833: 200.0\n",
            "Episodio 834: 200.0\n",
            "Episodio 835: 200.0\n",
            "Episodio 836: 200.0\n",
            "Episodio 837: 200.0\n",
            "Episodio 838: 200.0\n",
            "Episodio 839: 200.0\n",
            "Episodio 840: 200.0\n",
            "Episodio 841: 200.0\n",
            "Episodio 842: 200.0\n",
            "Episodio 843: 200.0\n",
            "Episodio 844: 200.0\n",
            "Episodio 845: 200.0\n",
            "Episodio 846: 200.0\n",
            "Episodio 847: 200.0\n",
            "Episodio 848: 200.0\n",
            "Episodio 849: 200.0\n",
            "Episodio 850: 200.0\n",
            "Episodio 851: 200.0\n",
            "Episodio 852: 200.0\n",
            "Episodio 853: 200.0\n",
            "Episodio 854: 129.0\n",
            "Episodio 855: 124.0\n",
            "Episodio 856: 195.0\n",
            "Episodio 857: 200.0\n",
            "Episodio 858: 200.0\n",
            "Episodio 859: 200.0\n",
            "Episodio 860: 170.0\n",
            "Episodio 861: 200.0\n",
            "Episodio 862: 200.0\n",
            "Episodio 863: 200.0\n",
            "Episodio 864: 200.0\n",
            "Episodio 865: 200.0\n",
            "Episodio 866: 200.0\n",
            "Episodio 867: 200.0\n",
            "Episodio 868: 200.0\n",
            "Episodio 869: 200.0\n",
            "Episodio 870: 200.0\n",
            "Episodio 871: 200.0\n",
            "Episodio 872: 200.0\n",
            "Episodio 873: 200.0\n",
            "Episodio 874: 200.0\n",
            "Episodio 875: 200.0\n",
            "Episodio 876: 200.0\n",
            "Episodio 877: 200.0\n",
            "Episodio 878: 200.0\n",
            "Episodio 879: 200.0\n",
            "Episodio 880: 200.0\n",
            "Episodio 881: 200.0\n",
            "Episodio 882: 200.0\n",
            "Episodio 883: 200.0\n",
            "Episodio 884: 200.0\n",
            "Episodio 885: 200.0\n",
            "Episodio 886: 200.0\n",
            "Episodio 887: 200.0\n",
            "Episodio 888: 200.0\n",
            "Episodio 889: 200.0\n",
            "Episodio 890: 200.0\n",
            "Episodio 891: 200.0\n",
            "Episodio 892: 200.0\n",
            "Episodio 893: 200.0\n",
            "Episodio 894: 200.0\n",
            "Episodio 895: 200.0\n",
            "Episodio 896: 200.0\n",
            "Episodio 897: 200.0\n",
            "Episodio 898: 200.0\n",
            "Episodio 899: 200.0\n",
            "Episodio 900: 200.0\n",
            "Episodio 901: 196.0\n",
            "Episodio 902: 189.0\n",
            "Episodio 903: 200.0\n",
            "Episodio 904: 200.0\n",
            "Episodio 905: 200.0\n",
            "Episodio 906: 200.0\n",
            "Episodio 907: 200.0\n",
            "Episodio 908: 125.0\n",
            "Episodio 909: 200.0\n",
            "Episodio 910: 200.0\n",
            "Episodio 911: 200.0\n",
            "Episodio 912: 200.0\n",
            "Episodio 913: 200.0\n",
            "Episodio 914: 184.0\n",
            "Episodio 915: 200.0\n",
            "Episodio 916: 200.0\n",
            "Episodio 917: 200.0\n",
            "Episodio 918: 200.0\n",
            "Episodio 919: 200.0\n",
            "Episodio 920: 174.0\n",
            "Episodio 921: 200.0\n",
            "Episodio 922: 181.0\n",
            "Episodio 923: 200.0\n",
            "Episodio 924: 200.0\n",
            "Episodio 925: 200.0\n",
            "Episodio 926: 200.0\n",
            "Episodio 927: 131.0\n",
            "Episodio 928: 200.0\n",
            "Episodio 929: 200.0\n",
            "Episodio 930: 200.0\n",
            "Episodio 931: 200.0\n",
            "Episodio 932: 200.0\n",
            "Episodio 933: 151.0\n",
            "Episodio 934: 200.0\n",
            "Episodio 935: 143.0\n",
            "Episodio 936: 200.0\n",
            "Episodio 937: 200.0\n",
            "Episodio 938: 200.0\n",
            "Episodio 939: 200.0\n",
            "Episodio 940: 200.0\n",
            "Episodio 941: 200.0\n",
            "Episodio 942: 200.0\n",
            "Episodio 943: 200.0\n",
            "Episodio 944: 200.0\n",
            "Episodio 945: 200.0\n",
            "Episodio 946: 200.0\n",
            "Episodio 947: 200.0\n",
            "Episodio 948: 200.0\n",
            "Episodio 949: 200.0\n",
            "Episodio 950: 200.0\n",
            "Episodio 951: 200.0\n",
            "Episodio 952: 200.0\n",
            "Episodio 953: 199.0\n",
            "Episodio 954: 197.0\n",
            "Episodio 955: 200.0\n",
            "Episodio 956: 199.0\n",
            "Episodio 957: 185.0\n",
            "Episodio 958: 200.0\n",
            "Episodio 959: 200.0\n",
            "Episodio 960: 200.0\n",
            "Episodio 961: 200.0\n",
            "Episodio 962: 200.0\n",
            "Episodio 963: 200.0\n",
            "Episodio 964: 200.0\n",
            "Episodio 965: 200.0\n",
            "Episodio 966: 200.0\n",
            "Episodio 967: 194.0\n",
            "Episodio 968: 171.0\n",
            "Episodio 969: 177.0\n",
            "Episodio 970: 200.0\n",
            "Episodio 971: 185.0\n",
            "Episodio 972: 200.0\n",
            "Episodio 973: 200.0\n",
            "Episodio 974: 200.0\n",
            "Episodio 975: 175.0\n",
            "Episodio 976: 200.0\n",
            "Episodio 977: 200.0\n",
            "Episodio 978: 200.0\n",
            "Episodio 979: 200.0\n",
            "Episodio 980: 200.0\n",
            "Episodio 981: 200.0\n",
            "Episodio 982: 200.0\n",
            "Episodio 983: 200.0\n",
            "Episodio 984: 200.0\n",
            "Episodio 985: 200.0\n",
            "Episodio 986: 200.0\n",
            "Episodio 987: 170.0\n",
            "Episodio 988: 200.0\n",
            "Episodio 989: 180.0\n",
            "Episodio 990: 200.0\n",
            "Episodio 991: 200.0\n",
            "Episodio 992: 200.0\n",
            "Episodio 993: 196.0\n",
            "Episodio 994: 200.0\n",
            "Episodio 995: 157.0\n",
            "Episodio 996: 200.0\n",
            "Episodio 997: 200.0\n",
            "Episodio 998: 200.0\n",
            "Episodio 999: 200.0\n",
            "Episodio 1000: 193.0\n",
            "Recompensa total promedio por 1000 episodio: 178.197\n"
          ],
          "name": "stdout"
        }
      ]
    },
    {
      "cell_type": "code",
      "metadata": {
        "colab": {
          "base_uri": "https://localhost:8080/",
          "height": 279
        },
        "id": "4uXMFYWBXF0a",
        "outputId": "03b75de4-ad5f-4b25-9c2c-74b649485a6e"
      },
      "source": [
        "import matplotlib.pyplot as plt\n",
        "plt.plot(recompensas_totales)\n",
        "plt.xlabel('Episodio')\n",
        "plt.ylabel('Recompensa')\n",
        "plt.show()"
      ],
      "execution_count": null,
      "outputs": [
        {
          "output_type": "display_data",
          "data": {
            "image/png": "[encoded data removed]",
            "text/plain": [
              "<Figure size 432x288 with 1 Axes>"
            ]
          },
          "metadata": {
            "tags": [],
            "needs_background": "light"
          }
        }
      ]
    },
    {
      "cell_type": "markdown",
      "metadata": {
        "id": "xucidzjNW_7Z"
      },
      "source": [
        "### Ejercicios\n",
        "\n",
        "* Explica que significa el gráfico anterior\n",
        "* Escribe líneas  de código para ver cómo funciona la política aprendida en $100$ episodios nuevos."
      ]
    },
    {
      "cell_type": "code",
      "metadata": {
        "id": "3dF9aLHDXZNI"
      },
      "source": [
        "# Tu código"
      ],
      "execution_count": null,
      "outputs": []
    },
    {
      "cell_type": "markdown",
      "metadata": {
        "id": "CeeWBY5bXyQI"
      },
      "source": [
        "### MDP\n",
        "\n",
        "Desarrollado sobre una cadena de Markov, un MDP involucra un agente y un proceso de toma de decisiones. Sigamos adelante con el desarrollo de un MDP y el cálculo de la función de valor bajo una política óptima.\n",
        "\n",
        "Además de un conjunto de estados posibles, $S = \\{s_0, s_1, \\dots, s_m\\}$, un MDP se define mediante un conjunto de acciones, $A = \\{a_0, a_1, \\dots, a_n\\}$, un modelo de transición $T(s, a, s')$,  una función de recompensa $R(s)$ y un factor de descuento $\\gamma$. \n",
        "\n",
        "La matriz de transición $T(s, a, s')$ contiene las probabilidades de tomar la acción $a$ desde el estado $s$ y luego aterrizar en $s'$. El factor de descuento $\\gamma$ controla el tradeoff entre las recompensas futuras y las inmediatas. \n",
        "\n",
        "Realicemos un MDP  que tiene dos acciones, `a0 trabajar` y `a1 relajarse`. Construyamos la matriz de transición $3 * 2 * 3$,  `T(s, a, s')` con Pytorch:"
      ]
    },
    {
      "cell_type": "code",
      "metadata": {
        "id": "VDszjMe0F3fm"
      },
      "source": [
        "import torch\n",
        "\n",
        "\n",
        "T = torch.tensor([[[0.8, 0.1, 0.1],\n",
        "                   [0.1, 0.6, 0.3]],\n",
        "                  [[0.7, 0.2, 0.1],\n",
        "                   [0.1, 0.8, 0.1]],\n",
        "                  [[0.6, 0.2, 0.2],\n",
        "                   [0.1, 0.4, 0.5]]]\n",
        "                 )"
      ],
      "execution_count": null,
      "outputs": []
    },
    {
      "cell_type": "markdown",
      "metadata": {
        "id": "JEdtwr55IzMK"
      },
      "source": [
        "Esto significa, por ejemplo, que cuando se toma la acción `a1 relajarse` desde el estado `s0`, hay un $60\\%$ de probabilidad de que se convierta en irse a dormir `s1` (tal vez te canses) y hay un $30\\%$ de probabilidad de que se convierta en jugar juego `s2` (tal vez quieras irte a relajar), y que hay un $10\\%$ de posibilidades de seguir estudiando. Definimos la función de recompensa como $[+1, 0, -1]$ para tres estados, para compensar el trabajo duro.\n",
        "\n",
        "La política óptima, en este caso, es elegir un `a0 trabajo` para cada paso. Además, para empezar, elegimos $0.5$ como factor de descuento. "
      ]
    },
    {
      "cell_type": "markdown",
      "metadata": {
        "id": "IEy8TTRhGN6D"
      },
      "source": [
        "Definimos la función de recompensa y el factor de descuento: "
      ]
    },
    {
      "cell_type": "code",
      "metadata": {
        "id": "14sXxsCvGFvX"
      },
      "source": [
        "R = torch.tensor([1., 0, -1.])\n",
        "gamma = 0.5"
      ],
      "execution_count": null,
      "outputs": []
    },
    {
      "cell_type": "markdown",
      "metadata": {
        "id": "659OiPvaHq7l"
      },
      "source": [
        "La política óptima en este caso es seleccionar la acción a0 en todas las circunstancias: "
      ]
    },
    {
      "cell_type": "code",
      "metadata": {
        "id": "G0xSMmIfKlpx"
      },
      "source": [
        "accion = 0"
      ],
      "execution_count": null,
      "outputs": []
    },
    {
      "cell_type": "markdown",
      "metadata": {
        "id": "H2eXG6ZXKrd9"
      },
      "source": [
        "Calculamos el valor `V` de la política óptima utilizando el\n",
        "método de la matriz de inversión en la siguiente función en Pytorch y el uso de las ecuaciones de Bellman."
      ]
    },
    {
      "cell_type": "code",
      "metadata": {
        "id": "IXMpGsGVK6Ns"
      },
      "source": [
        "def cal_valor_matriz_inversion(gamma, matriz_trans, recompensas):\n",
        "  inv = torch.inverse(torch.eye(recompensas.shape[0]) - gamma * matriz_trans)\n",
        "  V = torch.mm(inv, recompensas.reshape(-1, 1))\n",
        "  return V"
      ],
      "execution_count": null,
      "outputs": []
    },
    {
      "cell_type": "markdown",
      "metadata": {
        "id": "uamQKL0gLQQ8"
      },
      "source": [
        "Alimentamos todas las variables que tenemos a la función, incluidas las probabilidades de transición asociadas con la acción `a0`: "
      ]
    },
    {
      "cell_type": "code",
      "metadata": {
        "colab": {
          "base_uri": "https://localhost:8080/"
        },
        "id": "VA3NPzYOLfnO",
        "outputId": "85289254-2279-416d-d2dd-619e644ba4e9"
      },
      "source": [
        "matriz_trans= T[:, accion]\n",
        "V = cal_valor_matriz_inversion(gamma, matriz_trans, R)\n",
        "print(\"La funcion de valor bajo la politica optima es :\\n{}\".format(V))"
      ],
      "execution_count": null,
      "outputs": [
        {
          "output_type": "stream",
          "text": [
            "La funcion de valor bajo la politica optima es :\n",
            "tensor([[ 1.6787],\n",
            "        [ 0.6260],\n",
            "        [-0.4820]])\n"
          ],
          "name": "stdout"
        }
      ]
    },
    {
      "cell_type": "markdown",
      "metadata": {
        "id": "0QrCCod8NMdh"
      },
      "source": [
        "### Ejercicio\n",
        "\n",
        "Realiza experimentos con diferentes valores de descuento $\\texttt{gamma}$ por lo menos dos. Anota y explica los resultados."
      ]
    },
    {
      "cell_type": "code",
      "metadata": {
        "id": "4jYuOmpdNbJO"
      },
      "source": [
        "## Tus respuestas"
      ],
      "execution_count": null,
      "outputs": []
    },
    {
      "cell_type": "markdown",
      "metadata": {
        "id": "EvrgZXnvMQuY"
      },
      "source": [
        "En este proceso de MDP simplificado, la política óptima, es decir, la política que logra la recompensa total más alta, es elegir la acción `a0` en todos los pasos. \n",
        "\n",
        "Además, las acciones tomadas en pasos individuales no serán necesariamente las mismas. Suelen depender de los estados. Entonces, tendremos que resolver un MDP encontrando la política óptima en casos reales.\n",
        "\n",
        "La función de valor de una política mide qué tan bueno es para un agente estar en cada estado, dada la política que se está siguiendo. Cuanto mayor sea el valor, mejor será el estado.\n",
        "\n"
      ]
    },
    {
      "cell_type": "markdown",
      "metadata": {
        "id": "AL-kyzWTPArS"
      },
      "source": [
        "### Evaluación de políticas\n",
        "\n",
        "La evaluación de políticas es un algoritmo iterativo. Comienza con valores de política arbitrarios y luego actualiza iterativamente los valores según la ecuación de expectativas de Bellman hasta que convergen. En cada iteración, el valor de una política, π, para un estado, s, se actualiza de la siguiente manera:\n",
        "\n",
        "$$V(s)= \\sum_{a}\\pi(s, a)\\biggl[R(s,a) + \\gamma\\sum_{s'}T(s,a, s')V(s')\\biggr]$$\n",
        "\n",
        "Aquí, $\\pi(s, a)$ denota la probabilidad de tomar la acción $a$ en el estado $s$ bajo la política $\\pi$. $T(s, a, s')$ es la probabilidad de transición del estado $s$ al estado $s'$ al realizar la acción $a$ y $R(s, a)$ es la recompensa recibida en el estado $s$ al realizar la acción $a$.\n",
        "\n",
        "Hay dos formas de finalizar un proceso de actualización iterativo. \n",
        "\n",
        "Una es establecer un número fijo de iteraciones, como $1.000$ y $10.000$ que a veces pueden ser difíciles de controlar.\n",
        "\n",
        " Otro implica especificar un umbral (generalmente $0.0001, 0.00001$ o algo similar) y terminar el proceso solo si los valores de todos los estados cambian en un grado menor que el umbral especificado.\n",
        "\n",
        "Este es un enfoque iterativo convergente simple, en la familia de programación dinámica, o para ser más específico deprogramación dinámica aproximada. Comienza con suposiciones aleatorias en cuanto a los valores y luego los actualiza iterativamente de acuerdo con la ecuación de expectativa de Bellman hasta que convergen. "
      ]
    },
    {
      "cell_type": "code",
      "metadata": {
        "id": "_6I5clfySB8P"
      },
      "source": [
        "import torch\n",
        "\n",
        "T = torch.tensor([[[0.8, 0.1, 0.1],\n",
        "                   [0.1, 0.6, 0.3]],\n",
        "                  [[0.7, 0.2, 0.1],\n",
        "                   [0.1, 0.8, 0.1]],\n",
        "                  [[0.6, 0.2, 0.2],\n",
        "                   [0.1, 0.4, 0.5]]]\n",
        "                 )\n",
        "\n",
        "R = torch.tensor([1., 0, -1.])\n",
        "\n",
        "gamma = .5\n",
        "umbral = 0.0001\n",
        "\n",
        "politica_optima = torch.tensor([[1.0, 0.0],\n",
        "                               [1.0, 0.0],\n",
        "                               [1.0, 0.0]])\n"
      ],
      "execution_count": null,
      "outputs": []
    },
    {
      "cell_type": "markdown",
      "metadata": {
        "id": "n1YZpxghSUR4"
      },
      "source": [
        "Desarrolla una función de evaluación de políticas que tome una política, una matriz de transición, recompensas, factor de descuento y un umbral y calcule la función de valor: "
      ]
    },
    {
      "cell_type": "code",
      "metadata": {
        "id": "TbbgtWWNSggn"
      },
      "source": [
        "def evaluacion_politica(politica, matriz_trans, recompensas, gamma, umbral):\n",
        "  n_estado = politica.shape[0]\n",
        "  V = torch.zeros(n_estado)\n",
        "  while True:\n",
        "    V_temp = torch.zeros(n_estado)\n",
        "    for estado, acciones in enumerate(politica):\n",
        "      for accion, prob_accion in enumerate(acciones):\n",
        "        V_temp[estado] += prob_accion* (R[estado] + gamma * torch.dot(matriz_trans[estado, accion], V))\n",
        "    max_delta = torch.max(torch.abs(V - V_temp))\n",
        "    V = V_temp.clone()\n",
        "    if max_delta <= umbral:\n",
        "      break\n",
        "  return V\n"
      ],
      "execution_count": null,
      "outputs": []
    },
    {
      "cell_type": "markdown",
      "metadata": {
        "id": "JqmZDPelW96v"
      },
      "source": [
        "En este paso la función de evaluación de políticas realiza las siguientes tareas: Inicializa los valores de política como todos ceros. Actualiza los valores según la ecuación de expectativas de Bellman.\n",
        "\n",
        "Calcula el cambio máximo de los valores en todos los estados. Si el cambio máximo es mayor que el umbral, sigue actualizando los valores. De lo contrario, finaliza el proceso de evaluación y devuelve los últimos valores. Dado que la evaluación de políticas utiliza una aproximación iterativa, su resultado podría no ser exactamente el mismo que el resultado del método de inversión de matrices, que utiliza el cálculo exacto. \n"
      ]
    },
    {
      "cell_type": "markdown",
      "metadata": {
        "id": "EJ0FAIKgUsh0"
      },
      "source": [
        "Ahora conectemos la política óptima y todas las demás variables: "
      ]
    },
    {
      "cell_type": "code",
      "metadata": {
        "colab": {
          "base_uri": "https://localhost:8080/"
        },
        "id": "1lLMtb_nU9nx",
        "outputId": "2d344547-abba-4d28-e470-96384056bb88"
      },
      "source": [
        "V = evaluacion_politica(politica_optima, T, R, gamma, umbral)\n",
        "print(\"La funcion de valor bajo la politica optimal es:\\n{}\".format(V))"
      ],
      "execution_count": null,
      "outputs": [
        {
          "output_type": "stream",
          "text": [
            "La funcion de valor bajo la politica optimal es:\n",
            "tensor([ 1.6786,  0.6260, -0.4821])\n"
          ],
          "name": "stdout"
        }
      ]
    },
    {
      "cell_type": "markdown",
      "metadata": {
        "id": "KF3zhfq9Vkpp"
      },
      "source": [
        "### Ejercicio \n",
        "\n",
        "Realiza el mismo procedimiento, bajo una política aleatoria."
      ]
    },
    {
      "cell_type": "code",
      "metadata": {
        "id": "earmqEMKVyfo"
      },
      "source": [
        "# Tu respuesta"
      ],
      "execution_count": null,
      "outputs": []
    },
    {
      "cell_type": "markdown",
      "metadata": {
        "id": "fhhhyHNaXdPq"
      },
      "source": [
        "Para mirar más de cerca, también trazamos los valores de las políticas a lo largo de todo el proceso de evaluación. Primero necesitamos registrar el valor de cada iteración en la función `evaluacion_politica`: "
      ]
    },
    {
      "cell_type": "code",
      "metadata": {
        "id": "2Lmp2ohhXzqA"
      },
      "source": [
        "def historia_evaluacion_politica(politica, matriz_trans, recompensas, gamma, umbral):\n",
        "  n_estado = politica.shape[0]\n",
        "  V = torch.zeros(n_estado)\n",
        "  V_his = [V]\n",
        "  i = 0\n",
        "  while True:\n",
        "    V_temp = torch.zeros(n_estado)\n",
        "    i += 1\n",
        "    for estado, acciones in enumerate(politica):\n",
        "      for accion, prob_accion in enumerate(acciones):\n",
        "        V_temp[estado] += prob_accion * (R[estado] + gamma * torch.dot(matriz_trans[estado, accion], V))\n",
        "    max_delta = torch.max(torch.abs(V - V_temp))\n",
        "    V = V_temp.clone()\n",
        "    V_his.append(V)\n",
        "    if max_delta <= umbral:\n",
        "      break\n",
        "  return V, V_his"
      ],
      "execution_count": null,
      "outputs": []
    },
    {
      "cell_type": "code",
      "metadata": {
        "id": "vsZwUuqua2U8"
      },
      "source": [
        "V, V_historia = historia_evaluacion_politica(politica_optima, T, R, gamma, umbral)"
      ],
      "execution_count": null,
      "outputs": []
    },
    {
      "cell_type": "markdown",
      "metadata": {
        "id": "QpOHwHPbaxv5"
      },
      "source": [
        "Luego dibujamos el historial de valores resultante usando las siguientes líneas de código: "
      ]
    },
    {
      "cell_type": "code",
      "metadata": {
        "colab": {
          "base_uri": "https://localhost:8080/",
          "height": 295
        },
        "id": "34LRxqucbpoe",
        "outputId": "3ff438ee-dc92-4b36-fd0a-898bef2b7ac6"
      },
      "source": [
        "import matplotlib.pyplot as plt\n",
        "s0, = plt.plot([v[0] for v in V_historia])\n",
        "s1, = plt.plot([v[1] for v in V_historia])\n",
        "s2, = plt.plot([v[2] for v in V_historia])\n",
        "plt.title('Politica optima con gamma = {}'.format(str(gamma)))\n",
        "plt.xlabel('Iteracion')\n",
        "plt.ylabel('Valores de politica')\n",
        "plt.legend([s0, s1, s2],\n",
        "           [\"Estado s0\",\n",
        "            \"Estado s1\",\n",
        "            \"Estado s2\"], loc=\"upper left\")\n",
        "plt.show()"
      ],
      "execution_count": null,
      "outputs": [
        {
          "output_type": "display_data",
          "data": {
            "image/png": "[encoded data removed]",
            "text/plain": [
              "<Figure size 432x288 with 1 Axes>"
            ]
          },
          "metadata": {
            "tags": [],
            "needs_background": "light"
          }
        }
      ]
    },
    {
      "cell_type": "markdown",
      "metadata": {
        "id": "NnH1I4mvdiz8"
      },
      "source": [
        "### Ejercicio\n",
        "\n",
        "Realiza experimentos con diferentes valores de descuento. ¿ Qué sucede con $\\gamma = 0.99, 0.5$.  Explica tus resultados."
      ]
    },
    {
      "cell_type": "code",
      "metadata": {
        "id": "GS52XFedeUji"
      },
      "source": [
        "## Tus respuestas"
      ],
      "execution_count": null,
      "outputs": []
    },
    {
      "cell_type": "markdown",
      "metadata": {
        "id": "5JuVsy5MiEK0"
      },
      "source": [
        "### FrozenLake\n",
        "\n",
        "Las políticas óptimas para los MDP que hemos tratado hasta ahora son bastante intuitivas. Sin embargo, no será tan sencillo en la mayoría de los casos, como en el entorno `FrozenLake`. \n",
        "\n",
        "FrozenLake es un entorno con un espacio de estado discreto. Se trata de mover a un agente desde la ubicación inicial a la ubicación objetivo en un mundo de cuadrícula y al mismo tiempo, evitar trampas. \n",
        "\n",
        "Ver: [https://gym.openai.com/envs/FrozenLake-v0/](https://gym.openai.com/envs/FrozenLake-v0/)."
      ]
    },
    {
      "cell_type": "code",
      "metadata": {
        "colab": {
          "base_uri": "https://localhost:8080/"
        },
        "id": "YUou2ffjlNt9",
        "outputId": "5044d78a-e06a-4805-b129-a92fc85dcf11"
      },
      "source": [
        "import gym\n",
        "import torch\n",
        "\n",
        "\n",
        "env = gym.make(\"FrozenLake-v0\")\n",
        "n_estado = env.observation_space.n\n",
        "print(n_estado)\n",
        "n_accion = env.action_space.n\n",
        "print(n_accion)\n",
        "\n",
        "env.reset()\n",
        "env.render()\n",
        "\n",
        "nuevo_estado, recompensa, realizado, info = env.step(1)\n",
        "env.render()\n",
        "\n",
        "print(nuevo_estado)\n",
        "print(recompensa)\n",
        "print(realizado)\n",
        "print(info)"
      ],
      "execution_count": null,
      "outputs": [
        {
          "output_type": "stream",
          "text": [
            "16\n",
            "4\n",
            "\n",
            "\u001b[41mS\u001b[0mFFF\n",
            "FHFH\n",
            "FFFH\n",
            "HFFG\n",
            "  (Down)\n",
            "\u001b[41mS\u001b[0mFFF\n",
            "FHFH\n",
            "FFFH\n",
            "HFFG\n",
            "0\n",
            "0.0\n",
            "False\n",
            "{'prob': 0.3333333333333333}\n"
          ],
          "name": "stdout"
        }
      ]
    },
    {
      "cell_type": "markdown",
      "metadata": {
        "id": "kdUH6e9kmvuD"
      },
      "source": [
        "### Iteración de políticas\n",
        "\n",
        "Otro enfoque para resolver un MDP es mediante el uso de un algoritmo de iteración de políticas.\n",
        "\n",
        "Un algoritmo de iteración de políticas se puede subdividir en dos componentes: evaluación de políticas y mejora de políticas. Comienza con una política arbitraria y en cada iteración, primero calcula los valores de la política dada la política más reciente, según la ecuación de expectativas de Bellman, luego extrae una política mejorada de los valores de política resultantes, basándose en la ecuación de optimalidad de Bellman. \n",
        "\n",
        "En la evaluación de políticas, los valores para una política determinada (no la óptima) se calculan con base en la ecuación de expectativas de Bellman hasta que convergen:\n",
        "\n",
        "$$V(s) = \\sum_{s'}T(s,a s')\\biggl[R(s,a, s') + \\gamma V(s') \\biggr]$$\n",
        "\n",
        "Aquí, $a = \\pi(s)$, es la acción tomada bajo la política $\\pi$ en el estado $s$. \n",
        "\n",
        "En la mejora de políticas, la política se actualiza utilizando los valores de política convergentes resultantes, según la ecuación de optimalidad de Bellman:\n",
        "\n",
        "$$V(s) = \\arg \\max_{a}\\sum_{s'}T(s,a s')\\biggl[R(s,a, s') + \\gamma V(s') \\biggr]$$\n",
        "\n",
        "Esto repite los pasos de evaluación y mejora de políticas hasta que la política converge. En la convergencia, la última política y su función de valor son la política óptima y la función de valor óptima \n",
        "\n",
        "\n",
        "Desarrollemos un algoritmo de iteración de políticas y usémoslo para resolver el entorno `FrozenLake`."
      ]
    },
    {
      "cell_type": "code",
      "metadata": {
        "id": "2RUFisrlnLWw"
      },
      "source": [
        "gamma = 0.99\n",
        "umbral = 0.0001\n",
        "\n",
        "def evaluacion_politica(env, politica, gamma, umbral):\n",
        "  n_estado = politica.shape[0]\n",
        "  V = torch.zeros(n_estado)\n",
        "  while True:\n",
        "    V_temp = torch.zeros(n_estado)\n",
        "    for estado in range(n_estado):\n",
        "      accion = politica[estado].item()\n",
        "      for prob_trans, nuevo_estado, recompensa, _ in env.env.P[estado][accion]:\n",
        "        V_temp[estado] += prob_trans * (recompensa + gamma * V[nuevo_estado])\n",
        "    max_delta = torch.max(torch.abs(V - V_temp))\n",
        "    V = V_temp.clone()\n",
        "    if max_delta <= umbral:\n",
        "      break\n",
        "  return V\n"
      ],
      "execution_count": null,
      "outputs": []
    },
    {
      "cell_type": "markdown",
      "metadata": {
        "id": "c7LiesYGrrU3"
      },
      "source": [
        "A continuación, desarrollamos el segundo componente principal del algoritmo de iteración de políticas, la parte de mejora de políticas: "
      ]
    },
    {
      "cell_type": "code",
      "metadata": {
        "id": "RJdJy5jArwLC"
      },
      "source": [
        "def mejora_politicas(env, V, gamma):\n",
        "  n_estado = env.observation_space.n\n",
        "  n_accion = env.action_space.n\n",
        "  politica = torch.zeros(n_estado)\n",
        "  for estado in range(n_estado):\n",
        "    v_acciones = torch.zeros(n_accion)\n",
        "    for accion in range(n_accion):\n",
        "      for prob_trans, nuevo_estado, recompensa, _ in env.env.P[estado][accion]:\n",
        "        v_acciones[accion] += prob_trans * (recompensa + gamma * V[nuevo_estado])\n",
        "    politica[estado] = torch.argmax(v_acciones)\n",
        "  return politica"
      ],
      "execution_count": null,
      "outputs": []
    },
    {
      "cell_type": "markdown",
      "metadata": {
        "id": "WEYpagR_sW_Q"
      },
      "source": [
        "Esto extrae una política mejorada de los valores de política dados, basada en la ecuación de optimalidad de Bellman. Ahora que tenemos ambos componentes listos, desarrollamos el algoritmo de iteración de políticas de la siguiente manera: "
      ]
    },
    {
      "cell_type": "code",
      "metadata": {
        "id": "bjNAuClbtJfx"
      },
      "source": [
        "def iteracion_politica(env, gamma, umbral):\n",
        "  n_estado = env.observation_space.n\n",
        "  n_accion = env.action_space.n\n",
        "  politica = torch.randint(high=n_accion, size=(n_estado,)).float()\n",
        "  while True:\n",
        "    V = evaluacion_politica(env, politica, gamma, umbral)\n",
        "    politica_mejorada = mejora_politicas(env, V, gamma)\n",
        "    if torch.equal(politica_mejorada, politica):\n",
        "      return V, politica_mejorada\n",
        "    politica = politica_mejorada"
      ],
      "execution_count": null,
      "outputs": []
    },
    {
      "cell_type": "markdown",
      "metadata": {
        "id": "71kUMCTBtQvL"
      },
      "source": [
        "Conectamos el entorno, el factor de descuento y el umbral de convergencia. Hemos obtenido los valores óptimos y la política óptima. Echemos un vistazo:"
      ]
    },
    {
      "cell_type": "code",
      "metadata": {
        "colab": {
          "base_uri": "https://localhost:8080/"
        },
        "id": "4psXxVNmtce5",
        "outputId": "be169b8c-836d-4a34-ce9e-495658990961"
      },
      "source": [
        "V_optima, politica_optima = iteracion_politica(env, gamma, umbral)\n",
        "print('Valores optimos:\\n{}'.format(V_optima))\n",
        "print('Politica optima :\\n{}'.format(politica_optima))"
      ],
      "execution_count": null,
      "outputs": [
        {
          "output_type": "stream",
          "text": [
            "Valores optimos:\n",
            "tensor([0.5404, 0.4966, 0.4681, 0.4541, 0.5569, 0.0000, 0.3572, 0.0000, 0.5905,\n",
            "        0.6421, 0.6144, 0.0000, 0.0000, 0.7410, 0.8625, 0.0000])\n",
            "Politica optima :\n",
            "tensor([0., 3., 3., 3., 0., 0., 0., 0., 3., 1., 0., 0., 0., 2., 1., 0.])\n"
          ],
          "name": "stdout"
        }
      ]
    },
    {
      "cell_type": "markdown",
      "metadata": {
        "id": "GoMsVEt3SuOy"
      },
      "source": [
        "### Evaluación de políticas de Monte Carlo\n",
        "\n",
        "\n",
        "Un algoritmo de aprendizaje por refuerzo que necesita un MDP se clasifica como un algoritmo **basado en modelos**. Por otro lado, uno sin el requisito de conocimiento previo de transiciones y recompensas se denomina algoritmo **sin modelo**. El aprendizaje por refuerzo basado en Monte Carlo (MC) es un enfoque sin modelos.\n",
        "\n",
        "En esta sección evaluaremos la función de valor usando el método de Monte Carlo. Usaremos el entorno `FrozenLake` asumiendo que no tenemos acceso a sus matrices de transición y recompensa. Recuerda que los retornos de un proceso, que son las recompensas totales a largo plazo, son los siguientes:\n",
        "\n",
        "$$R_t = \\sum_k \\gamma^k R_{t + k +1}$$\n",
        "\n",
        "La evaluación de la política Montecarlo utiliza el rendimiento medio empírico en lugar del rendimiento esperado para estimar la función de valor. \n",
        "\n",
        "Hay dos formas de realizar la evaluación de políticas de CM. \n",
        "\n",
        "Una es la predicción de MC en la primera visita, que promedia los retornos solo para la primera aparición de un estado `s`, en un episodio. Otro es la predicción MC de cada visita, que promedia los retornos por cada ocurrencia de un estado `s`, en un episodio. \n",
        "\n",
        "Obviamente, la predicción de MC en la primera visita tiene muchos menos cálculos que la versión de cada visita, por lo que se usa con más frecuencia. "
      ]
    },
    {
      "cell_type": "code",
      "metadata": {
        "id": "ei_CnvUdUqm_"
      },
      "source": [
        "import torch\n",
        "import gym\n",
        "\n",
        "env = gym.make('FrozenLake-v0')\n",
        "\n",
        "def correr_episodio(env, politica):\n",
        "  estado = env.reset()\n",
        "  recompensas = []\n",
        "  estados = [estado]\n",
        "  realizado = False\n",
        "  while not realizado:\n",
        "    accion = politica[estado].item()\n",
        "    estado, recompensa, realizado, info = env.step(accion)\n",
        "    estados.append(estado)\n",
        "    recompensas.append(recompensa)\n",
        "    if realizado:\n",
        "      break\n",
        "  estados = torch.tensor(estados)\n",
        "  recompensas = torch.tensor(recompensas)\n",
        "  return estados, recompensas"
      ],
      "execution_count": null,
      "outputs": []
    },
    {
      "cell_type": "markdown",
      "metadata": {
        "id": "BrStsLsjZre_"
      },
      "source": [
        "Nuevamente, en el entorno de Monte Carlo, debemos realizar un seguimiento de los estados y las recompensas de todos los pasos, ya que no tenemos acceso al entorno completo, incluidas las probabilidades de transición y la matriz de recompensas.\n",
        "\n",
        "Ahora, definimos la función que evalúa la política dada con MC de primera visita: \n"
      ]
    },
    {
      "cell_type": "code",
      "metadata": {
        "id": "MP-xBRvxasRi"
      },
      "source": [
        "def prediccion_mc_primera_visita(env, politica, gamma, n_episodio):\n",
        "  n_estado = politica.shape[0]\n",
        "  V = torch.zeros(n_estado)\n",
        "  N = torch.zeros(n_estado)\n",
        "  for episodio in range(n_episodio):\n",
        "    estados_t, recompensas_t = correr_episodio(env, politica)\n",
        "    retorno_t = 0\n",
        "    primera_visita = torch.zeros(n_estado)\n",
        "    R = torch.zeros(n_estado)\n",
        "    for estado_t, recompensa_t in zip(reversed(estados_t)[1:], reversed(recompensas_t)):\n",
        "      retorno_t = gamma * retorno_t + recompensa_t\n",
        "      R[estado_t] = retorno_t\n",
        "      primera_visita[estado_t] = 1\n",
        "    for estado in range(n_estado):\n",
        "      if primera_visita[estado] > 0:\n",
        "        V[estado] += R[estado]\n",
        "        N[estado] += 1\n",
        "  for estado in range(n_estado):\n",
        "    if N[estado] > 0:\n",
        "      V[estado] = V[estado] / N[estado]\n",
        "  return V"
      ],
      "execution_count": null,
      "outputs": []
    },
    {
      "cell_type": "markdown",
      "metadata": {
        "id": "690SwQAzfWNl"
      },
      "source": [
        "Especificamos la tasa de descuento como $1$ para facilitar el cálculo y simulamos $10.000$ episodios y usamos la política óptima calculada y usamos en la función MC de primera visita, junto con otros parámetros:  "
      ]
    },
    {
      "cell_type": "code",
      "metadata": {
        "colab": {
          "base_uri": "https://localhost:8080/"
        },
        "id": "HyCECM2XfaGv",
        "outputId": "a37200f7-4602-43c7-ce15-f347b2bc2508"
      },
      "source": [
        "gamma = 1\n",
        "n_episodio = 10000\n",
        "politica_optima = torch.tensor([0., 3., 3., 3., 0., 3., 2., 3., 3., 1., 0., 3., 3., 2., 1., 3.])\n",
        "valor = prediccion_mc_primera_visita(env, politica_optima, gamma, n_episodio)\n",
        "\n",
        "print('La funcion de valor calculada por la predicción MC en la primera visita:\\n', valor)"
      ],
      "execution_count": null,
      "outputs": [
        {
          "output_type": "stream",
          "text": [
            "La funcion de valor calculada por la predicción MC en la primera visita:\n",
            " tensor([0.7427, 0.5083, 0.5021, 0.4556, 0.7427, 0.0000, 0.3890, 0.0000, 0.7427,\n",
            "        0.7442, 0.6745, 0.0000, 0.0000, 0.8037, 0.8957, 0.0000])\n"
          ],
          "name": "stdout"
        }
      ]
    },
    {
      "cell_type": "markdown",
      "metadata": {
        "id": "cuOovABog7xw"
      },
      "source": [
        "En la predicción basada en MC, no es necesario conocer el modelo completo del entorno. De hecho, en la mayoría de los casos del mundo real, la matriz de transición y la matriz de recompensa no se conocen de antemano o son extremadamente difíciles de obtener. \n",
        "\n",
        "El aprendizaje por refuerzo sin modelos consiste en aprender de la experiencia interactuando con el entorno.\n",
        "\n",
        "En nuestro caso, solo consideramos lo que se pudo observar, que incluía el nuevo estado y la recompensa en cada paso e hicimos predicciones utilizando el método de Monte Carlo. Ten en cuenta que cuantos más episodios simulemos, más predicciones podremos obtener. \n",
        "\n",
        "Decidimos realizar también la predicción de MC de cada visita para la política óptima de FrozenLake."
      ]
    },
    {
      "cell_type": "code",
      "metadata": {
        "id": "32tGAYwviwI3"
      },
      "source": [
        "def prediccion_mc_cada_visita(env, politica, gamma, n_episodio):\n",
        "  n_estado = politica.shape[0]\n",
        "  V = torch.zeros(n_estado)\n",
        "  N = torch.zeros(n_estado)\n",
        "  R = torch.zeros(n_estado)\n",
        "  for episodio in range(n_episodio):\n",
        "    estados_t, recompensas_t = correr_episodio(env, politica)\n",
        "    retorno_t = 0\n",
        "    for estado_t, recompensa_t in zip(reversed(estados_t)[1:], reversed(recompensas_t)):\n",
        "      retorno_t = gamma * retorno_t + recompensa_t\n",
        "      R[estado_t] += retorno_t\n",
        "      N[estado_t] += 1\n",
        "  for estado in range(n_estado):\n",
        "    if N[estado] > 0:\n",
        "      V[estado] = R[estado] / N[estado]\n",
        "  return V"
      ],
      "execution_count": null,
      "outputs": []
    },
    {
      "cell_type": "markdown",
      "metadata": {
        "id": "xBx_g8QrlIT6"
      },
      "source": [
        "Calcula el valor introduciendo la política y otros parámetros en la función: "
      ]
    },
    {
      "cell_type": "code",
      "metadata": {
        "colab": {
          "base_uri": "https://localhost:8080/"
        },
        "id": "ejWzCsM6lI8Z",
        "outputId": "2c2fee06-e6f9-40a8-cf63-53bf74198979"
      },
      "source": [
        "valor = prediccion_mc_cada_visita(env, politica_optima, gamma, n_episodio)\n",
        "print('La funcion de valor calculada por la predicción MC en cada visita:\\n', valor)"
      ],
      "execution_count": null,
      "outputs": [
        {
          "output_type": "stream",
          "text": [
            "La funcion de valor calculada por la predicción MC en cada visita:\n",
            " tensor([0.6156, 0.4283, 0.3790, 0.3258, 0.6182, 0.0000, 0.3654, 0.0000, 0.6389,\n",
            "        0.6766, 0.6387, 0.0000, 0.0000, 0.7659, 0.8759, 0.0000])\n"
          ],
          "name": "stdout"
        }
      ]
    },
    {
      "cell_type": "markdown",
      "metadata": {
        "id": "Y35MgbGOlwlU"
      },
      "source": [
        "### Control de Monte Carlo con política\n",
        "\n",
        "La predicción de Monte Carlo se utiliza para evaluar el valor de una política determinada, mientras que el control de Monte Carlo (control MC) se utiliza para encontrar la política óptima cuando no se proporciona dicha política. \n",
        "\n",
        "Básicamente, existen categorías de control de MC: con política, fuera de política. \n",
        "\n",
        "Los **métodos con políticas** aprenden sobre la política óptima ejecutando la política y evaluándola y mejorándola, mientras que los **métodos fuera de política** aprenden sobre la política óptima utilizando datos generados por otra política. \n",
        "\n",
        "La forma en que funciona el control de MC en la política es bastante similar a la iteración de políticas en la programación dinámica, que tiene dos fases, evaluación y mejora:\n",
        "\n",
        "\n",
        "- En la fase de evaluación, en lugar de evaluar la función de valor (también llamada valor de estado o utilidad), evalúa el para valor-acción. El valor-acción se denomina con más frecuencia Q-función, que es la utilidad de un par de estado-acción, $(s,a)$ al tomar la acción $a$ en el estado $s$ bajo una política determinada. Una vez más, la evaluación se puede realizar en la primera visita o en cada visita.\n",
        "\n",
        "* En la fase de mejora, la política se actualiza asignando la acción óptima a cada estado:\n",
        "\n",
        "$$\\pi(s)= \\arg \\max_{a}Q(s,a)$$\n",
        "\n",
        "La política óptima se obtendrá alternando dos fases para un gran número de iteraciones. "
      ]
    },
    {
      "cell_type": "code",
      "metadata": {
        "id": "014fXDUAprrB"
      },
      "source": [
        "import torch\n",
        "import gym\n",
        "\n",
        "env = gym.make('Blackjack-v0')\n",
        "\n",
        "def correr_episodio(env, Q, n_accion):\n",
        "  estado = env.reset()\n",
        "  recompensas = []\n",
        "  acciones = []\n",
        "  estados = []\n",
        "  realizado = False\n",
        "  accion = torch.randint(0, n_accion, [1]).item()\n",
        "  while not realizado:\n",
        "    acciones.append(accion)\n",
        "    estados.append(estado)\n",
        "    estado, recompensa, realizado, info = env.step(accion)\n",
        "    recompensas.append(recompensa)\n",
        "    if realizado:\n",
        "      break\n",
        "    accion = torch.argmax(Q[estado]).item()\n",
        "  return estados, acciones, recompensas\n"
      ],
      "execution_count": null,
      "outputs": []
    },
    {
      "cell_type": "markdown",
      "metadata": {
        "id": "N0EqOdKOtV0J"
      },
      "source": [
        "Ahora, desarrollamos el algoritmo de control de MC basado en políticas: "
      ]
    },
    {
      "cell_type": "code",
      "metadata": {
        "id": "yimU1DhgvXPR"
      },
      "source": [
        "from collections import defaultdict\n",
        "\n",
        "def mc_control_con_politica(env, gamma, n_episodio):\n",
        "  n_accion = env.action_space.n\n",
        "  R_suma = defaultdict(float)\n",
        "  N = defaultdict(int)\n",
        "  Q = defaultdict(lambda: torch.empty(n_accion))\n",
        "  for episodio in range(n_episodio):\n",
        "    estados_t, acciones_t, recompensas_t = correr_episodio(env, Q, n_accion)\n",
        "    retorno_t = 0\n",
        "    R = {}\n",
        "    for estado_t, accion_t, recompensa_t in zip(estados_t[::-1], acciones_t[::-1], recompensas_t[::-1]):\n",
        "      retorno_t = gamma * retorno_t + recompensa_t\n",
        "      R[(estado_t, accion_t)] = retorno_t\n",
        "    for accion_estado, retorno_t in R.items():\n",
        "      estado, accion = accion_estado\n",
        "      if estado[0] <= 21:\n",
        "        R_suma[accion_estado] += retorno_t\n",
        "        N[accion_estado] += 1\n",
        "        Q[estado][accion] = R_suma[accion_estado] / N[accion_estado]\n",
        "  politica = {}\n",
        "  for estado, acciones in Q.items():\n",
        "    politica[estado] = torch.argmax(acciones).item()\n",
        "  return Q, politica\n"
      ],
      "execution_count": null,
      "outputs": []
    },
    {
      "cell_type": "markdown",
      "metadata": {
        "id": "a88N04Ak1wSf"
      },
      "source": [
        "Realizamos un control de MC con política para obtener la Q-función óptima y la política:"
      ]
    },
    {
      "cell_type": "code",
      "metadata": {
        "colab": {
          "base_uri": "https://localhost:8080/"
        },
        "id": "beEIyrt22Ckp",
        "outputId": "542b66cf-8c42-443c-edbc-516b219e01da"
      },
      "source": [
        "gamma = 1\n",
        "n_episodio = 500000\n",
        "\n",
        "Q_optimo, politica_optima = mc_control_con_politica(env, gamma, n_episodio)\n",
        "print(politica_optima)"
      ],
      "execution_count": null,
      "outputs": [
        {
          "output_type": "stream",
          "text": [
            "{(14, 10, False): 1, (12, 10, False): 1, (13, 4, False): 0, (11, 1, False): 1, (11, 10, False): 1, (13, 6, False): 0, (14, 2, False): 0, (8, 2, False): 1, (13, 10, False): 1, (16, 2, False): 0, (20, 10, False): 0, (10, 5, False): 1, (19, 10, True): 0, (20, 7, False): 0, (20, 3, False): 0, (10, 3, False): 1, (20, 8, False): 0, (14, 9, True): 1, (18, 5, False): 0, (20, 6, False): 0, (12, 6, False): 1, (16, 5, False): 0, (6, 5, False): 1, (21, 10, True): 0, (9, 5, False): 1, (17, 5, False): 0, (15, 5, False): 0, (14, 8, False): 1, (13, 10, True): 1, (16, 8, False): 0, (13, 8, False): 1, (15, 10, False): 1, (17, 1, False): 0, (14, 1, False): 1, (20, 9, False): 0, (10, 8, False): 1, (7, 8, False): 1, (9, 1, False): 1, (21, 9, True): 0, (15, 8, False): 1, (19, 10, False): 0, (7, 6, False): 1, (20, 2, False): 0, (17, 2, False): 0, (19, 5, False): 0, (20, 10, True): 0, (18, 7, True): 0, (15, 3, False): 0, (10, 10, False): 1, (13, 1, False): 1, (17, 6, False): 0, (17, 10, False): 0, (14, 5, False): 0, (7, 10, False): 1, (11, 5, False): 1, (7, 3, False): 1, (5, 8, False): 1, (18, 9, False): 0, (9, 10, False): 1, (11, 3, False): 1, (9, 3, False): 1, (18, 10, False): 0, (17, 10, True): 1, (21, 8, True): 0, (14, 10, True): 1, (17, 7, False): 0, (14, 3, False): 0, (15, 1, False): 1, (16, 7, False): 1, (11, 7, False): 1, (12, 2, False): 1, (19, 8, False): 0, (16, 3, False): 0, (21, 4, True): 0, (14, 4, True): 1, (16, 1, False): 1, (16, 6, False): 0, (5, 1, False): 1, (13, 2, False): 0, (15, 10, True): 1, (11, 4, False): 1, (12, 5, False): 0, (17, 8, False): 0, (19, 7, True): 0, (17, 9, False): 0, (12, 9, False): 1, (14, 4, False): 0, (20, 4, True): 0, (16, 4, False): 0, (14, 1, True): 1, (16, 10, False): 0, (10, 2, False): 1, (13, 5, False): 0, (9, 2, False): 1, (21, 1, True): 0, (16, 1, True): 1, (21, 3, False): 0, (21, 3, True): 0, (20, 6, True): 0, (19, 2, False): 0, (18, 2, False): 0, (13, 3, False): 0, (19, 1, False): 0, (15, 4, False): 0, (12, 8, False): 1, (13, 8, True): 1, (20, 4, False): 0, (12, 4, False): 0, (8, 6, False): 1, (19, 6, False): 0, (10, 6, False): 1, (18, 3, True): 1, (18, 1, False): 0, (17, 7, True): 1, (20, 1, False): 0, (16, 9, False): 1, (21, 6, False): 0, (18, 6, False): 0, (7, 2, False): 1, (8, 4, False): 1, (6, 1, False): 1, (19, 9, False): 0, (9, 6, False): 1, (20, 2, True): 0, (19, 7, False): 0, (14, 7, False): 1, (15, 2, False): 0, (8, 3, False): 1, (6, 3, False): 1, (11, 8, False): 1, (5, 9, False): 1, (13, 9, False): 1, (7, 1, False): 1, (16, 10, True): 1, (11, 9, False): 1, (5, 10, False): 1, (21, 6, True): 0, (19, 5, True): 0, (21, 9, False): 0, (15, 2, True): 1, (5, 3, False): 1, (18, 7, False): 0, (18, 8, False): 0, (7, 4, False): 1, (15, 6, False): 0, (21, 1, False): 0, (4, 4, False): 1, (8, 10, False): 1, (18, 4, False): 0, (12, 1, False): 1, (21, 2, True): 0, (15, 3, True): 1, (11, 6, False): 1, (21, 8, False): 0, (6, 10, False): 1, (9, 7, False): 1, (14, 3, True): 1, (13, 3, True): 1, (14, 7, True): 1, (17, 4, False): 0, (21, 10, False): 0, (12, 10, True): 1, (17, 5, True): 1, (14, 5, True): 1, (15, 7, False): 1, (13, 7, False): 1, (12, 7, False): 1, (14, 9, False): 1, (7, 9, False): 1, (14, 6, False): 0, (20, 5, False): 0, (5, 2, False): 1, (19, 3, False): 0, (11, 2, False): 1, (20, 3, True): 0, (17, 3, False): 0, (16, 6, True): 1, (15, 5, True): 1, (16, 4, True): 1, (8, 8, False): 1, (10, 4, False): 1, (18, 10, True): 1, (20, 9, True): 0, (18, 3, False): 0, (18, 5, True): 0, (8, 1, False): 1, (17, 2, True): 1, (7, 7, False): 1, (17, 3, True): 1, (9, 8, False): 1, (8, 7, False): 1, (21, 5, False): 0, (17, 1, True): 1, (8, 5, False): 1, (18, 6, True): 0, (12, 3, False): 1, (19, 4, True): 0, (15, 4, True): 1, (13, 1, True): 1, (20, 1, True): 0, (12, 2, True): 1, (17, 6, True): 1, (19, 4, False): 0, (14, 8, True): 1, (10, 9, False): 1, (15, 7, True): 1, (14, 6, True): 1, (4, 10, False): 1, (20, 8, True): 0, (21, 7, False): 0, (20, 7, True): 0, (19, 8, True): 0, (21, 5, True): 0, (16, 8, True): 1, (6, 2, False): 1, (5, 5, False): 1, (21, 2, False): 0, (10, 7, False): 1, (12, 5, True): 1, (9, 4, False): 1, (15, 9, False): 1, (9, 9, False): 1, (18, 9, True): 1, (13, 9, True): 1, (19, 6, True): 0, (15, 1, True): 1, (4, 5, False): 0, (16, 5, True): 1, (16, 7, True): 1, (15, 8, True): 1, (12, 8, True): 1, (16, 9, True): 1, (18, 2, True): 0, (18, 4, True): 0, (10, 1, False): 1, (13, 7, True): 1, (6, 8, False): 1, (18, 1, True): 0, (12, 3, True): 1, (17, 4, True): 1, (13, 5, True): 1, (5, 4, False): 1, (7, 5, False): 1, (16, 2, True): 1, (13, 2, True): 1, (16, 3, True): 1, (19, 2, True): 0, (21, 4, False): 0, (8, 9, False): 1, (17, 8, True): 1, (14, 2, True): 1, (21, 7, True): 0, (4, 2, False): 1, (4, 7, False): 1, (6, 6, False): 0, (13, 4, True): 1, (19, 9, True): 0, (15, 6, True): 1, (12, 7, True): 1, (4, 3, False): 1, (18, 8, True): 0, (6, 4, False): 1, (4, 6, False): 1, (19, 1, True): 0, (6, 9, False): 1, (6, 7, False): 1, (20, 5, True): 0, (19, 3, True): 0, (17, 9, True): 1, (5, 7, False): 1, (12, 4, True): 1, (5, 6, False): 1, (4, 1, False): 1, (13, 6, True): 1, (15, 9, True): 1, (12, 9, True): 1, (12, 6, True): 1, (12, 1, True): 1, (4, 8, False): 1, (4, 9, False): 1}\n"
          ],
          "name": "stdout"
        }
      ]
    },
    {
      "cell_type": "markdown",
      "metadata": {
        "id": "vh_D-saV2e9y"
      },
      "source": [
        "También podemos calcular la función de valor de la política óptima e imprimir el valor óptimo de la siguiente manera:"
      ]
    },
    {
      "cell_type": "code",
      "metadata": {
        "colab": {
          "base_uri": "https://localhost:8080/"
        },
        "id": "yiIxe4qa3xYL",
        "outputId": "422d60b4-2fe4-43f8-cf87-0218b2bba662"
      },
      "source": [
        "valor_optimo = defaultdict(float)\n",
        "for estado, accion_valor in Q_optimo.items():\n",
        "  valor_optimo[estado] = torch.max(accion_valor).item()\n",
        "\n",
        "print('La funcion valor de la politica optima es:\\n', valor_optimo)\n"
      ],
      "execution_count": null,
      "outputs": [
        {
          "output_type": "stream",
          "text": [
            "La funcion valor de la politica optima es:\n",
            " defaultdict(<class 'float'>, {(14, 10, False): -0.4922714829444885, (12, 10, False): -0.4272904098033905, (13, 4, False): -0.21922731399536133, (11, 1, False): -0.1403985470533371, (11, 10, False): 0.054242003709077835, (13, 6, False): -0.1771620512008667, (14, 2, False): -0.30506274104118347, (8, 2, False): -0.009600000455975533, (13, 10, False): -0.45511728525161743, (16, 2, False): -0.30158731341362, (20, 10, False): 0.43140530586242676, (10, 5, False): 0.23613962531089783, (19, 10, True): 0.023955773562192917, (20, 7, False): 0.7788109183311462, (20, 3, False): 0.645345151424408, (10, 3, False): 0.23236514627933502, (20, 8, False): 0.7851551175117493, (14, 9, True): -0.003921568859368563, (18, 5, False): 0.2372152954339981, (20, 6, False): 0.7010210752487183, (12, 6, False): -0.1860976666212082, (16, 5, False): -0.1664591133594513, (6, 5, False): 0.0, (21, 10, True): 0.8879533410072327, (9, 5, False): 0.1575433909893036, (17, 5, False): -0.08915864676237106, (15, 5, False): -0.1690901517868042, (14, 8, False): -0.3854796886444092, (13, 10, True): -0.13076923787593842, (16, 8, False): -0.49756744503974915, (13, 8, False): -0.34933561086654663, (15, 10, False): -0.5296438932418823, (17, 1, False): -0.6450304388999939, (14, 1, False): -0.5905963182449341, (20, 9, False): 0.7536959648132324, (10, 8, False): 0.15948276221752167, (7, 8, False): -0.2478991597890854, (9, 1, False): -0.3462532162666321, (21, 9, True): 0.9341463446617126, (15, 8, False): -0.4373699426651001, (19, 10, False): -0.003648915095254779, (7, 6, False): 0.0897703543305397, (20, 2, False): 0.6570982933044434, (17, 2, False): -0.19524617493152618, (19, 5, False): 0.4155188202857971, (20, 10, True): 0.4224185645580292, (18, 7, True): 0.38461539149284363, (15, 3, False): -0.24677419662475586, (10, 10, False): -0.03592493385076523, (13, 1, False): -0.5518791079521179, (17, 6, False): 0.04618643969297409, (17, 10, False): -0.45321032404899597, (14, 5, False): -0.16464181244373322, (7, 10, False): -0.3863636255264282, (11, 5, False): 0.34729981422424316, (7, 3, False): -0.06883364915847778, (5, 8, False): -0.21463415026664734, (18, 9, False): -0.15730337798595428, (9, 10, False): -0.2231718897819519, (11, 3, False): 0.22038567066192627, (9, 3, False): 0.1024390235543251, (18, 10, False): -0.2577438950538635, (17, 10, True): -0.2565406858921051, (21, 8, True): 0.9158459901809692, (14, 10, True): -0.2188715934753418, (17, 7, False): -0.09846266359090805, (14, 3, False): -0.2418244332075119, (15, 1, False): -0.6232380867004395, (16, 7, False): -0.40489640831947327, (11, 7, False): 0.2699551582336426, (12, 2, False): -0.2598896026611328, (19, 8, False): 0.5775359272956848, (16, 3, False): -0.2800672948360443, (21, 4, True): 0.8855679035186768, (14, 4, True): 0.03781512752175331, (16, 1, False): -0.6565965414047241, (16, 6, False): -0.18246346712112427, (5, 1, False): -0.5802469253540039, (13, 2, False): -0.2390572428703308, (15, 10, True): -0.21808014810085297, (11, 4, False): 0.2904929518699646, (12, 5, False): -0.14982269704341888, (17, 8, False): -0.3930804431438446, (19, 7, True): 0.6482758522033691, (17, 9, False): -0.4303293526172638, (12, 9, False): -0.33545106649398804, (14, 4, False): -0.20309950411319733, (20, 4, True): 0.6681416034698486, (16, 4, False): -0.2179645597934723, (14, 1, True): -0.37078651785850525, (16, 10, False): -0.5698055624961853, (10, 2, False): 0.18940937519073486, (13, 5, False): -0.14336127042770386, (9, 2, False): 0.08785529434680939, (21, 1, True): 0.6365957260131836, (16, 1, True): -0.45954692363739014, (21, 3, False): 0.8870662450790405, (21, 3, True): 0.8834869861602783, (20, 6, True): 0.7754629850387573, (19, 2, False): 0.39067450165748596, (18, 2, False): 0.12089738249778748, (13, 3, False): -0.27751195430755615, (19, 1, False): -0.12212589383125305, (15, 4, False): -0.19599999487400055, (12, 8, False): -0.2919062376022339, (13, 8, True): -0.034934498369693756, (20, 4, False): 0.6583517789840698, (12, 4, False): -0.21226415038108826, (8, 6, False): 0.07313195616006851, (19, 6, False): 0.48009154200553894, (10, 6, False): 0.26725083589553833, (18, 3, True): 0.17602041363716125, (18, 1, False): -0.34071922302246094, (17, 7, True): 0.0771428570151329, (20, 1, False): 0.11781127750873566, (16, 9, False): -0.5061632990837097, (21, 6, False): 0.894670844078064, (18, 6, False): 0.2651021182537079, (7, 2, False): -0.15714286267757416, (8, 4, False): 0.06515151262283325, (6, 1, False): -0.4876033067703247, (19, 9, False): 0.2718006670475006, (9, 6, False): 0.21681997179985046, (20, 2, True): 0.6197530627250671, (19, 7, False): 0.5912636518478394, (14, 7, False): -0.30556735396385193, (15, 2, False): -0.3038027584552765, (8, 3, False): -0.03678929805755615, (6, 3, False): -0.0684523805975914, (11, 8, False): 0.20036429166793823, (5, 9, False): -0.2545454502105713, (13, 9, False): -0.3805752396583557, (7, 1, False): -0.5240174531936646, (16, 10, True): -0.21890145540237427, (11, 9, False): 0.15743184089660645, (5, 10, False): -0.3712446391582489, (21, 6, True): 0.9103568196296692, (19, 5, True): 0.44083526730537415, (21, 9, False): 0.9360940456390381, (15, 2, True): 0.029739776626229286, (5, 3, False): -0.1230158731341362, (18, 7, False): 0.40729597210884094, (18, 8, False): 0.09109069406986237, (7, 4, False): -0.13537117838859558, (15, 6, False): -0.13093289732933044, (21, 1, False): 0.6269881725311279, (4, 4, False): 0.00800000037997961, (8, 10, False): -0.2975691556930542, (18, 4, False): 0.20078396797180176, (12, 1, False): -0.5064157247543335, (21, 2, True): 0.8869412541389465, (15, 3, True): 0.0034246575087308884, (11, 6, False): 0.2616226077079773, (21, 8, False): 0.9327957034111023, (6, 10, False): -0.36621716618537903, (9, 7, False): 0.16248348355293274, (14, 3, True): 0.05999999865889549, (13, 3, True): 0.0235294122248888, (14, 7, True): 0.15416666865348816, (17, 4, False): -0.07788944989442825, (21, 10, False): 0.900532603263855, (12, 10, True): -0.1576470583677292, (17, 5, True): 0.03915662690997124, (14, 5, True): 0.03913043439388275, (15, 7, False): -0.33617350459098816, (13, 7, False): -0.2829248011112213, (12, 7, False): -0.25132042169570923, (14, 9, False): -0.4304690659046173, (7, 9, False): -0.28721174597740173, (14, 6, False): -0.14743590354919434, (20, 5, False): 0.6730707883834839, (5, 2, False): -0.10729613900184631, (19, 3, False): 0.3848145008087158, (11, 2, False): 0.18617020547389984, (20, 3, True): 0.6630197167396545, (17, 3, False): -0.09624600410461426, (16, 6, True): 0.07598784565925598, (15, 5, True): 0.1232394352555275, (16, 4, True): 0.05882352963089943, (8, 8, False): -0.03826954960823059, (10, 4, False): 0.22006140649318695, (18, 10, True): -0.17797179520130157, (20, 9, True): 0.7681818008422852, (18, 3, False): 0.14443032443523407, (18, 5, True): 0.16959063708782196, (8, 1, False): -0.41291290521621704, (17, 2, True): -0.017341040074825287, (7, 7, False): -0.07929515093564987, (17, 3, True): 0.1096256673336029, (9, 8, False): 0.0768229141831398, (8, 7, False): 0.1592920422554016, (21, 5, False): 0.8896819949150085, (17, 1, True): -0.3855072557926178, (8, 5, False): 0.07608695328235626, (18, 6, True): 0.19565217196941376, (12, 3, False): -0.2522105276584625, (19, 4, True): 0.4048672616481781, (15, 4, True): 0.00716845877468586, (13, 1, True): -0.3419913351535797, (20, 1, True): 0.17749999463558197, (12, 2, True): 0.11764705926179886, (17, 6, True): 0.12316715717315674, (19, 4, False): 0.44095534086227417, (14, 8, True): 0.028925620019435883, (10, 9, False): 0.11542730033397675, (15, 7, True): 0.04494382068514824, (14, 6, True): 0.12781955301761627, (4, 10, False): -0.3288888931274414, (20, 8, True): 0.8348837494850159, (21, 7, False): 0.9250916838645935, (20, 7, True): 0.7743362784385681, (19, 8, True): 0.6086956262588501, (21, 5, True): 0.8631669282913208, (16, 8, True): -0.10891088843345642, (6, 2, False): -0.14613179862499237, (5, 5, False): -0.03719008341431618, (21, 2, False): 0.8851190209388733, (10, 7, False): 0.2547568678855896, (12, 5, True): 0.15454545617103577, (9, 4, False): 0.1372031718492508, (15, 9, False): -0.46613994240760803, (9, 9, False): -0.05025125667452812, (18, 9, True): -0.12091503292322159, (13, 9, True): -0.12145748734474182, (19, 6, True): 0.5738095045089722, (15, 1, True): -0.36267605423927307, (4, 5, False): 0.0784313753247261, (16, 5, True): -0.06081081181764603, (16, 7, True): 0.0, (15, 8, True): -0.07954545319080353, (12, 8, True): 0.24528302252292633, (16, 9, True): -0.27397260069847107, (18, 2, True): 0.11827956885099411, (18, 4, True): 0.21543408930301666, (10, 1, False): -0.23175965249538422, (13, 7, True): 0.13617020845413208, (6, 8, False): -0.2716417908668518, (18, 1, True): -0.3425605595111847, (12, 3, True): 0.008620689623057842, (17, 4, True): 0.06562499701976776, (13, 5, True): 0.06882590800523758, (5, 4, False): -0.0786026194691658, (7, 5, False): 0.025531914085149765, (16, 2, True): -0.029498524963855743, (13, 2, True): 0.00826446246355772, (16, 3, True): -0.11397058516740799, (19, 2, True): 0.4414634108543396, (21, 4, False): 0.8774113059043884, (8, 9, False): -0.14480409026145935, (17, 8, True): -0.13333334028720856, (14, 2, True): -0.048192769289016724, (21, 7, True): 0.929964542388916, (4, 2, False): 0.08256880939006805, (4, 7, False): -0.1041666641831398, (6, 6, False): -0.14195583760738373, (13, 4, True): -0.004098360426723957, (19, 9, True): 0.26024097204208374, (15, 6, True): 0.016025641933083534, (12, 7, True): 0.12745098769664764, (4, 3, False): -0.17241379618644714, (18, 8, True): 0.05722891539335251, (6, 4, False): -0.10294117778539658, (4, 6, False): 0.025641025975346565, (19, 1, True): -0.1547619104385376, (6, 9, False): -0.31778424978256226, (6, 7, False): -0.12607449293136597, (20, 5, True): 0.6751739978790283, (19, 3, True): 0.3652968108654022, (17, 9, True): -0.15633423626422882, (5, 7, False): -0.12682926654815674, (12, 4, True): 0.0683760717511177, (5, 6, False): 0.0045045046135783195, (4, 1, False): -0.4876033067703247, (13, 6, True): 0.13080169260501862, (15, 9, True): -0.08282208442687988, (12, 9, True): -0.11403508484363556, (12, 6, True): 0.1484375, (12, 1, True): -0.49618321657180786, (4, 8, False): 0.008771929889917374, (4, 9, False): -0.3055555522441864})\n"
          ],
          "name": "stdout"
        }
      ]
    },
    {
      "cell_type": "markdown",
      "metadata": {
        "id": "Mn_z5WlWuASf"
      },
      "source": [
        "### Control Monte Carlo sin política\n",
        "\n",
        "Otro enfoque basado en MC para resolver un MDP es el control sin política.\n",
        "\n",
        "Los métodos sin política optimiza la política de destino $\\pi$, utilizando datos generados por otra política, denominada política de comportamiento `b`. La política objetivo realiza explotación todo el tiempo, mientras que la política de comportamiento es para fines de exploración. Esto significa que la política objetivo es greedy con respecto a su Q-función actual y la política de comportamiento genera un comportamiento para que la política objetivo tenga datos de los que aprender. \n",
        "\n",
        "La política de comportamiento puede ser cualquier cosa siempre que todas las acciones en todos los estados se elijan con probabilidades distintas de cero, lo que garantiza que la política de comportamiento puede explorar todas las posibilidades.\n",
        "\n",
        "Dado que estamos tratando con dos políticas diferentes en el método sin política, solo podemos usar los pasos comunes en los episodios que tienen lugar en ambas políticas. Esto significa que comenzamos con el último paso cuya acción tomada bajo la política de comportamiento es diferente de la acción tomada bajo la política greedy. \n",
        "\n",
        "Y para aprender sobre la política objetivo con otra política, usamos una técnica llamada muestreo por importancia, que se usa comúnmente para estimar el valor esperado bajo una distribución, dadas muestras generadas a partir de una distribución diferente. \n",
        "\n",
        "La importancia ponderada para un par estado-acción se calcula de la siguiente manera:\n",
        "\n",
        "$$w_t = \\sum_{k =t}[\\pi(a_k|s_k)/b(a_k|s_k)]$$\n",
        "\n",
        "Aquí, $\\pi(a_k|s_k)$ es la probabilidad de tomar una acción $a_k$ en el estado $s_k$ bajo la política objetivo,  $b(a_k|s_k)$ es la probabilidad según la política de comportamiento y el peso $w_t$ es la multiplicación de las razones entre esas dos probabilidades desde el paso $t$ hasta el final del episodio. El peso $w_t$ se aplica al retorno en el paso $t$. "
      ]
    },
    {
      "cell_type": "code",
      "metadata": {
        "id": "kxHaWkzewRyv"
      },
      "source": [
        "import torch\n",
        "import gym\n",
        "\n",
        "env = gym.make('Blackjack-v0')\n",
        "\n",
        "\n",
        "def gen_politica_aleatoria(n_accion):\n",
        "  probs = torch.ones(n_accion)/n_accion\n",
        "  def funcion_politica(estado):\n",
        "    return probs\n",
        "  return funcion_politica\n",
        "\n",
        "def correr_episodio(env, politica_comportamiento):\n",
        "  estado = env.reset()\n",
        "  recompensas = []\n",
        "  acciones = []\n",
        "  estados = []\n",
        "  realizado = False\n",
        "  while not realizado:\n",
        "    probs = politica_comportamiento(estado)\n",
        "    accion = torch.multinomial(probs, 1).item()\n",
        "    acciones.append(accion)\n",
        "    estados.append(estado)\n",
        "    estado, recompensa, realizado, info = env.step(accion)\n",
        "    recompensas.append(recompensa)\n",
        "    if realizado:\n",
        "      break\n",
        "  return estados, acciones, recompensas\n",
        "\n",
        "\n"
      ],
      "execution_count": null,
      "outputs": []
    },
    {
      "cell_type": "markdown",
      "metadata": {
        "id": "L_pxfdQF1WpD"
      },
      "source": [
        "\n",
        "Utilizamos el muestreo de importancia ponderada que se diferencia del muestreo de importancia ordinaria en la forma en que promedia los rendimientos. En lugar de simplemente promediar, toma el promedio ponderado de los retornos: \n",
        "\n",
        "$$V_n = (\\sum_{k =1}^nw_kR_k)/\\sum_{k =1}^{n}w_k$$"
      ]
    },
    {
      "cell_type": "code",
      "metadata": {
        "id": "BnVVl69C1wm7"
      },
      "source": [
        "from collections import defaultdict\n",
        "\n",
        "def mc_control_ponderada_sin_politica(env, gamma, n_episodio, politica_comportamiento):\n",
        "  n_accion = env.action_space.n\n",
        "  N = defaultdict(float)\n",
        "  Q = defaultdict(lambda: torch.empty(n_accion))\n",
        "  for episodio in range(n_episodio):\n",
        "    W = 1.\n",
        "    estados_t, acciones_t, recompensas_t = correr_episodio(env, politica_comportamiento)\n",
        "    retorno_t = 0.\n",
        "    for estado_t, accion_t, recomplensa_t in zip(estados_t[::-1], acciones_t[::-1], recompensas_t[::-1]):\n",
        "      retorno_t = gamma * retorno_t + recomplensa_t\n",
        "      N[(estado_t, accion_t)] += W\n",
        "      Q[estado_t][accion_t] += (W / N[(estado_t, accion_t)]) * (retorno_t - Q[estado_t][accion_t])\n",
        "      if accion_t != torch.argmax(Q[estado_t]).item():\n",
        "        break\n",
        "      W *= 1./ politica_comportamiento(estado_t)[accion_t]\n",
        "  politica = {}\n",
        "  for estado, acciones in Q.items():\n",
        "    politica[estado] = torch.argmax(acciones).item()\n",
        "  return Q, politica\n"
      ],
      "execution_count": null,
      "outputs": []
    },
    {
      "cell_type": "markdown",
      "metadata": {
        "id": "GZ1Dc4t25zfS"
      },
      "source": [
        "Realizamos la prueba del método con los siguientes parámetros"
      ]
    },
    {
      "cell_type": "code",
      "metadata": {
        "id": "9EJQii527Zck"
      },
      "source": [
        "gamma = 1\n",
        "n_episodio = 500000\n",
        "politica_aleatoria = gen_politica_aleatoria(env.action_space.n)\n",
        "Q_optimo, politica_optima = mc_control_ponderada_sin_politica(env, gamma, n_episodio, politica_aleatoria)"
      ],
      "execution_count": null,
      "outputs": []
    },
    {
      "cell_type": "markdown",
      "metadata": {
        "id": "eYH41Yn09wjo"
      },
      "source": [
        "Hemos resuelto el problema del Blackjack utilizando el control MC sin política con muestreo de importancia ponderada. Es bastante similar al muestreo de importancia, pero en lugar de escalar los retornos por razones y promediar los resultados, escala los retornos utilizando el promedio ponderado."
      ]
    },
    {
      "cell_type": "code",
      "metadata": {
        "id": "6zio8qPz--x4"
      },
      "source": [
        "def simulacion_episodio(env, politica):\n",
        "  estado = env.reset()\n",
        "  realizado = False\n",
        "  while not realizado:\n",
        "    accion = politica[estado]\n",
        "    estado, recompensa, realizado, info = env.step(accion)\n",
        "  if realizado:\n",
        "    return recompensa"
      ],
      "execution_count": null,
      "outputs": []
    },
    {
      "cell_type": "code",
      "metadata": {
        "colab": {
          "base_uri": "https://localhost:8080/"
        },
        "id": "b4ChIp_JNxcC",
        "outputId": "6f514896-c537-4351-a7af-b1122e8b055f"
      },
      "source": [
        "n_episodio = 100000\n",
        "n_optimo_ganador = 0\n",
        "n_optimo_perdedor = 0\n",
        "\n",
        "for _ in range(n_episodio):\n",
        "  recompensa = simulacion_episodio(env, politica_optima)\n",
        "  if recompensa == 1:\n",
        "    n_optimo_ganador += 1\n",
        "  elif recompensa == -1:\n",
        "    n_optimo_perdedor += 1\n",
        "\n",
        "print('Probabilidad de ganar bajo una politica optima : {}'.format(n_optimo_ganador/n_episodio))\n",
        "print('Probabilidad de perder bajo una política optima: {}'.format(n_optimo_perdedor/n_episodio))"
      ],
      "execution_count": null,
      "outputs": [
        {
          "output_type": "stream",
          "text": [
            "Probabilidad de ganar bajo una politica optima : 0.43132\n",
            "Probabilidad de perder bajo una política optima: 0.47612\n"
          ],
          "name": "stdout"
        }
      ]
    },
    {
      "cell_type": "markdown",
      "metadata": {
        "id": "QPx5E9UEmFLJ"
      },
      "source": [
        "##Diferencia temporal \n",
        "\n",
        "Si utilizamos MDPs mediante el método de Monte Carlo, que es un enfoque de utilizar modelos, que no requiere conocimiento previo del entorno. Sin embargo, en el aprendizaje MC, la función de valor y la q-función generalmente se actualizan hasta el final de un episodio.  Esto podría ser problemático, ya que algunos procesos son muy largos o incluso no terminan. \n",
        "\n",
        "Emplearemos el método de diferencia temporal (TD) para resolver este problema. En el método TD, actualizamos los valores de acción en cada paso de tiempo de un episodio, lo que aumenta significativamente la eficiencia del aprendizaje.\n"
      ]
    },
    {
      "cell_type": "markdown",
      "metadata": {
        "id": "TC8SChINnI-s"
      },
      "source": [
        "### Cliff Walking \n",
        "\n",
        "Es un entorno típico `gym`, con largos episodios sin garantía de terminar. Es un problema de grid con una tabla de `4 * 12`. \n",
        "\n",
        "Un agente hace un movimiento hacia arriba, hacia la derecha, hacia abajo y hacia la izquierda en un paso. La pieza inferior izquierda es el punto de partida para el agente,y abajo a la derecha es el punto ganador donde un episodio terminará si se alcanza. Las piezas restantes en la última fila son acantilados (cliffs) donde el agente se restablecerá a la posición inicial después de pisar cualquiera de ellos, pero el episodio continúa. Cada paso que da el agente incurre en una recompensa de `-1`, con la excepción de pisar los acantilados, donde se incurre en una recompensa de `-100`."
      ]
    },
    {
      "cell_type": "code",
      "metadata": {
        "colab": {
          "base_uri": "https://localhost:8080/"
        },
        "id": "1RjKogAh-cok",
        "outputId": "90f0f1d4-e595-4b65-8a39-336c6cf7bf64"
      },
      "source": [
        "import gym\n",
        "env = gym.make(\"CliffWalking-v0\")\n",
        "\n",
        "n_estado = env.observation_space.n\n",
        "print(n_estado)"
      ],
      "execution_count": null,
      "outputs": [
        {
          "output_type": "stream",
          "text": [
            "48\n"
          ],
          "name": "stdout"
        }
      ]
    },
    {
      "cell_type": "code",
      "metadata": {
        "colab": {
          "base_uri": "https://localhost:8080/"
        },
        "id": "egJdMGYv-xBv",
        "outputId": "dc98464f-0fc1-4382-d365-a01640fb378c"
      },
      "source": [
        "n_accion = env.action_space.n\n",
        "print(n_accion)\n",
        "env.reset()"
      ],
      "execution_count": null,
      "outputs": [
        {
          "output_type": "stream",
          "text": [
            "4\n"
          ],
          "name": "stdout"
        },
        {
          "output_type": "execute_result",
          "data": {
            "text/plain": [
              "36"
            ]
          },
          "metadata": {
            "tags": []
          },
          "execution_count": 43
        }
      ]
    },
    {
      "cell_type": "markdown",
      "metadata": {
        "id": "NduX-2hgoRwp"
      },
      "source": [
        "Reseteamos el entorno"
      ]
    },
    {
      "cell_type": "code",
      "metadata": {
        "colab": {
          "base_uri": "https://localhost:8080/"
        },
        "id": "CQXbmOxa--d-",
        "outputId": "e86b88d5-e9ef-4bd8-e847-1a8444346e1c"
      },
      "source": [
        "env.render()"
      ],
      "execution_count": null,
      "outputs": [
        {
          "output_type": "stream",
          "text": [
            "o  o  o  o  o  o  o  o  o  o  o  o\n",
            "o  o  o  o  o  o  o  o  o  o  o  o\n",
            "o  o  o  o  o  o  o  o  o  o  o  o\n",
            "x  C  C  C  C  C  C  C  C  C  C  T\n",
            "\n"
          ],
          "name": "stdout"
        }
      ]
    },
    {
      "cell_type": "markdown",
      "metadata": {
        "id": "eH2TobGuoZpx"
      },
      "source": [
        "Hagamos ahora un movimiento hacia abajo independientemente, aunque no sea transitable:"
      ]
    },
    {
      "cell_type": "code",
      "metadata": {
        "colab": {
          "base_uri": "https://localhost:8080/"
        },
        "id": "6L7FpMI4_BcA",
        "outputId": "b6b5371b-0d73-432b-885d-32186941f8de"
      },
      "source": [
        "nuevo_estado, recompensa, realizado, info = env.step(2)\n",
        "env.render()"
      ],
      "execution_count": null,
      "outputs": [
        {
          "output_type": "stream",
          "text": [
            "o  o  o  o  o  o  o  o  o  o  o  o\n",
            "o  o  o  o  o  o  o  o  o  o  o  o\n",
            "o  o  o  o  o  o  o  o  o  o  o  o\n",
            "x  C  C  C  C  C  C  C  C  C  C  T\n",
            "\n"
          ],
          "name": "stdout"
        }
      ]
    },
    {
      "cell_type": "markdown",
      "metadata": {
        "id": "9_H7XmA6pRtq"
      },
      "source": [
        "El agente se queda quieto. Ahora imprimimos lo que acabamos de obtener:\n"
      ]
    },
    {
      "cell_type": "code",
      "metadata": {
        "colab": {
          "base_uri": "https://localhost:8080/"
        },
        "id": "YIIaKyi5_Zg-",
        "outputId": "d2c3f772-e8c8-4629-d3e0-c46dce9bf7f2"
      },
      "source": [
        "print(nuevo_estado)"
      ],
      "execution_count": null,
      "outputs": [
        {
          "output_type": "stream",
          "text": [
            "36\n"
          ],
          "name": "stdout"
        }
      ]
    },
    {
      "cell_type": "markdown",
      "metadata": {
        "id": "r_q0hCA8pVhN"
      },
      "source": [
        "Nuevamente, cada movimiento incurre en una recompensa de `-1`:"
      ]
    },
    {
      "cell_type": "code",
      "metadata": {
        "colab": {
          "base_uri": "https://localhost:8080/"
        },
        "id": "-s6NmBWT_djn",
        "outputId": "79309a48-b5ff-46b9-8924-bdaee199dafa"
      },
      "source": [
        "print(realizado)"
      ],
      "execution_count": null,
      "outputs": [
        {
          "output_type": "stream",
          "text": [
            "False\n"
          ],
          "name": "stdout"
        }
      ]
    },
    {
      "cell_type": "markdown",
      "metadata": {
        "id": "ioavGfT1pi2d"
      },
      "source": [
        "El episodio no está realizado ya que el agente aún no ha alcanzado su objetivo. Esto significa que el movimiento es determinista."
      ]
    },
    {
      "cell_type": "code",
      "metadata": {
        "colab": {
          "base_uri": "https://localhost:8080/"
        },
        "id": "U4wjc9Wz_kmz",
        "outputId": "be5cc32a-9803-4853-9ee7-b9002f1ddea6"
      },
      "source": [
        "print(info)"
      ],
      "execution_count": null,
      "outputs": [
        {
          "output_type": "stream",
          "text": [
            "{'prob': 1.0}\n"
          ],
          "name": "stdout"
        }
      ]
    },
    {
      "cell_type": "markdown",
      "metadata": {
        "id": "nczENPLVpuVb"
      },
      "source": [
        "Ahora, realicemos un movimiento hacia arriba ya que es transitable:"
      ]
    },
    {
      "cell_type": "code",
      "metadata": {
        "colab": {
          "base_uri": "https://localhost:8080/"
        },
        "id": "LR96AwqL_sDO",
        "outputId": "1c72f7f6-bde2-451c-9667-53e0ebc2add4"
      },
      "source": [
        "nuevo_estado, recompensa, realizado, info = env.step(0)\n",
        "env.render()"
      ],
      "execution_count": null,
      "outputs": [
        {
          "output_type": "stream",
          "text": [
            "o  o  o  o  o  o  o  o  o  o  o  o\n",
            "o  o  o  o  o  o  o  o  o  o  o  o\n",
            "x  o  o  o  o  o  o  o  o  o  o  o\n",
            "o  C  C  C  C  C  C  C  C  C  C  T\n",
            "\n"
          ],
          "name": "stdout"
        }
      ]
    },
    {
      "cell_type": "code",
      "metadata": {
        "colab": {
          "base_uri": "https://localhost:8080/"
        },
        "id": "EZVrydBA_6ec",
        "outputId": "288fea5a-c61f-4d5e-9442-944c8b64d5e8"
      },
      "source": [
        "print(nuevo_estado)"
      ],
      "execution_count": null,
      "outputs": [
        {
          "output_type": "stream",
          "text": [
            "24\n"
          ],
          "name": "stdout"
        }
      ]
    },
    {
      "cell_type": "markdown",
      "metadata": {
        "id": "_y3ahFBTp0AQ"
      },
      "source": [
        "El agente se mueve hacia arriba:"
      ]
    },
    {
      "cell_type": "code",
      "metadata": {
        "colab": {
          "base_uri": "https://localhost:8080/"
        },
        "id": "23_wWJDE_-gM",
        "outputId": "51743c4f-0a78-4f17-be06-155385957290"
      },
      "source": [
        "print(recompensa)"
      ],
      "execution_count": null,
      "outputs": [
        {
          "output_type": "stream",
          "text": [
            "-1\n"
          ],
          "name": "stdout"
        }
      ]
    },
    {
      "cell_type": "markdown",
      "metadata": {
        "id": "PWLft9Fgp9Mj"
      },
      "source": [
        "Ahora intentemos hacer un movimiento hacia la derecha y hacia abajo:\n"
      ]
    },
    {
      "cell_type": "code",
      "metadata": {
        "colab": {
          "base_uri": "https://localhost:8080/"
        },
        "id": "o7uK2miiADFv",
        "outputId": "b4042fa4-2a83-4372-e9e2-75f2241a227a"
      },
      "source": [
        "nuevo_estado, recompensa, realizado, info = env.step(1)\n",
        "nuevo_estado, recompensa, realizado, info = env.step(2)\n",
        "env.render()"
      ],
      "execution_count": null,
      "outputs": [
        {
          "output_type": "stream",
          "text": [
            "o  o  o  o  o  o  o  o  o  o  o  o\n",
            "o  o  o  o  o  o  o  o  o  o  o  o\n",
            "o  o  o  o  o  o  o  o  o  o  o  o\n",
            "x  C  C  C  C  C  C  C  C  C  C  T\n",
            "\n"
          ],
          "name": "stdout"
        }
      ]
    },
    {
      "cell_type": "markdown",
      "metadata": {
        "id": "xKFgRilYqBNB"
      },
      "source": [
        "El agente pisó el acantilado, por lo que se reinició al punto de partida y recibió una recompensa de `-100`:"
      ]
    },
    {
      "cell_type": "code",
      "metadata": {
        "colab": {
          "base_uri": "https://localhost:8080/"
        },
        "id": "dXRHQ8aHAKa5",
        "outputId": "5796a093-e7ca-4a8b-ecf4-c28754b093ee"
      },
      "source": [
        "print(nuevo_estado)\n",
        "print(recompensa)\n",
        "print(realizado)"
      ],
      "execution_count": null,
      "outputs": [
        {
          "output_type": "stream",
          "text": [
            "36\n",
            "-100\n",
            "False\n"
          ],
          "name": "stdout"
        }
      ]
    },
    {
      "cell_type": "markdown",
      "metadata": {
        "id": "KEZp0hWEqLSz"
      },
      "source": [
        "Finalmente, intentemos tomar el camino más corto para alcanzar la meta:"
      ]
    },
    {
      "cell_type": "code",
      "metadata": {
        "colab": {
          "base_uri": "https://localhost:8080/"
        },
        "id": "74Nr0kj5ATU8",
        "outputId": "ad5a5468-c1b2-4109-bda8-a1e0d5cc53de"
      },
      "source": [
        "nuevo_estado, recompensa, realizado, info = env.step(0)\n",
        "for _ in range(11):\n",
        "  env.step(1)\n",
        "nuevo_estado, recompensa, realizado, info = env.step(2)\n",
        "env.render()"
      ],
      "execution_count": null,
      "outputs": [
        {
          "output_type": "stream",
          "text": [
            "o  o  o  o  o  o  o  o  o  o  o  o\n",
            "o  o  o  o  o  o  o  o  o  o  o  o\n",
            "o  o  o  o  o  o  o  o  o  o  o  o\n",
            "o  C  C  C  C  C  C  C  C  C  C  x\n",
            "\n"
          ],
          "name": "stdout"
        }
      ]
    },
    {
      "cell_type": "code",
      "metadata": {
        "colab": {
          "base_uri": "https://localhost:8080/"
        },
        "id": "BMgZR4xeA7kI",
        "outputId": "788ad687-9038-4090-a5ed-6ed2db6f7390"
      },
      "source": [
        "print(nuevo_estado)\n",
        "print(recompensa)\n",
        "print(realizado)"
      ],
      "execution_count": null,
      "outputs": [
        {
          "output_type": "stream",
          "text": [
            "47\n",
            "-1\n",
            "True\n"
          ],
          "name": "stdout"
        }
      ]
    },
    {
      "cell_type": "markdown",
      "metadata": {
        "id": "DcqYDiFfqXz7"
      },
      "source": [
        "Renderizamos el entorno y se tiene una matriz de `4 * 12`  que representa grid con una pieza inicial `(x)` que indica donde está parado el agente, la pieza  objetivo `(T)`, `10` fichas de acantilado (C) y fichas regulares `(o)`.\n",
        "\n",
        "Se han realizado varios movimientos y vimos los diversos resultados de estos movimientos y las recompensas recibidas. Un episodio de Cliff Walking puede ser muy largo o incluso interminable, ya que pisar un acantilado reiniciará el juego. Y cuanto antes se alcance la meta, mejor, porque cada paso dará como resultado una recompensa de `-1` o `-100`. "
      ]
    },
    {
      "cell_type": "markdown",
      "metadata": {
        "id": "3OtNeR1GBM89"
      },
      "source": [
        "### Algoritmo Q-Learning\n",
        "\n",
        "El aprendizaje por diferencia temporal (TD) también es un algoritmo de aprendizaje sin modelos, al igual que el aprendizaje MC. La q-función  se actualiza al final de todo el episodio en el aprendizaje de MC. \n",
        "\n",
        "La principal ventaja del aprendizaje TD es que actualiza la q-función  para cada paso de un episodio.\n",
        "\n",
        "Q-learning es un algoritmo de aprendizaje fuera de las políticas. Actualiza la q-función basándose en la siguiente ecuación:\n",
        "\n",
        "$$Q(s,a) = Q(s,a)  + \\alpha(r + \\gamma \\max_{a'} Q(s', a') -Q(s,a))$$\n",
        "\n",
        "Aquí, $s'$ es el estado resultante después de realizar una acción  $a$, en el estado $s$, $r$ es la recompensa asociada, $\\alpha$ es la tasa de aprendizaje y $\\gamma$ es el factor de descuento. \n",
        "\n",
        "Además, significa que la política de comportamiento es greedy, donde se selecciona el q-valor  más alto entre los del estado $s'$ para generar datos de aprendizaje. \n",
        "\n",
        "En Q-learning, las acciones se toman de acuerdo con la `política épsilon-greedy`.\n",
        "\n",
        "####  La política épsilon-greedy \n",
        "\n",
        "Consiste en que el agente casi siempre tomará la mejor acción posible dada la información que posee. Sin embargo, de vez en cuando, con una probabilidad de $\\epsilon$, el agente tomará una acción completamente al azar. De esta forma, si tras la primera acción el agente ha obtenido una recompensa positiva, no se quedará atascado escogiendo esa misma acción todo el rato. \n",
        "\n",
        "Con probabilidad $\\epsilon$ el agente explorará otras opciones. Este valor $\\epsilon$ lo decidiremos nosotros y será la forma que tengamos de equilibrar el problema de exploración y explotación. \n"
      ]
    },
    {
      "cell_type": "code",
      "metadata": {
        "colab": {
          "base_uri": "https://localhost:8080/"
        },
        "id": "fFkeuFzvE4sm",
        "outputId": "b59738a2-7b0d-46d1-b309-5cf1a84826e3"
      },
      "source": [
        "import torch\n",
        "import gym\n",
        "\n",
        "env = gym.make('CliffWalking-v0')\n",
        "\n",
        "\n",
        "def gen_politica_epsilon_greedy(n_accion, epsilon):\n",
        "    def funcion_politica(estado, Q):\n",
        "        probs = torch.ones(n_accion) * epsilon / n_accion\n",
        "        mejor_accion = torch.argmax(Q[estado]).item()\n",
        "        probs[mejor_accion] += 1.0 - epsilon\n",
        "        accion = torch.multinomial(probs, 1).item()\n",
        "        return accion\n",
        "    return funcion_politica\n",
        "\n",
        "\n",
        "from collections import defaultdict\n",
        "\n",
        "def q_learning(env, gamma, n_episodios, alpha):\n",
        "    n_accion = env.action_space.n\n",
        "    Q = defaultdict(lambda: torch.zeros(n_accion))\n",
        "    for episodio in range(n_episodios):\n",
        "        estado = env.reset()\n",
        "        realizado = False\n",
        "        while not realizado:\n",
        "\n",
        "            accion = politica_epsilon_greedy(estado, Q)\n",
        "            prox_estado, recompensa, realizado, info = env.step(accion)\n",
        "            td_delta = recompensa + gamma * torch.max(Q[prox_estado]) - Q[estado][accion]\n",
        "            Q[estado][accion] += alpha * td_delta\n",
        "\n",
        "            longitud_episodio[episodio] += 1\n",
        "            recompensa_episodio_total[episodio] += recompensa\n",
        "\n",
        "            if realizado:\n",
        "                break\n",
        "            estado = prox_estado\n",
        "\n",
        "    politica = {}\n",
        "    for estado, acciones in Q.items():\n",
        "        politica[estado] = torch.argmax(acciones).item()\n",
        "    return Q, politica\n",
        "\n",
        "gamma = 1\n",
        "n_episodios = 500\n",
        "alpha = 0.4\n",
        "epsilon = 0.1\n",
        "\n",
        "politica_epsilon_greedy = gen_politica_epsilon_greedy(env.action_space.n, epsilon)\n",
        "\n",
        "longitud_episodio = [0] * n_episodios\n",
        "recompensa_episodio_total = [0] * n_episodios\n",
        "\n",
        "q_optima, politica_optima = q_learning(env, gamma, n_episodios, alpha)\n",
        "print('Politica optima:\\n', politica_optima)"
      ],
      "execution_count": null,
      "outputs": [
        {
          "output_type": "stream",
          "text": [
            "Politica optima:\n",
            " {36: 0, 24: 1, 12: 1, 25: 1, 13: 1, 1: 2, 2: 1, 3: 1, 4: 3, 5: 1, 6: 2, 7: 1, 8: 2, 9: 1, 10: 1, 11: 2, 23: 2, 22: 2, 21: 2, 20: 2, 35: 2, 34: 1, 33: 1, 32: 1, 19: 1, 18: 2, 17: 1, 16: 2, 15: 1, 14: 2, 31: 1, 30: 1, 29: 1, 28: 1, 27: 1, 26: 1, 0: 0, 47: 0}\n"
          ],
          "name": "stdout"
        }
      ]
    },
    {
      "cell_type": "markdown",
      "metadata": {
        "id": "vvB6WQctvxsz"
      },
      "source": [
        "\n",
        "Implementamos la política épsilon-greedy toma un parámetro, $\\epsilon$, con un valor de $0$ a $1$ y $\\vert A \\vert$, el número de acciones posibles. Cada acción se toma con una probabilidad de $\\epsilon/|A|$ y la acción con el valor de acción de estado más alto se elige con una probabilidad de $1-\\epsilon + \\epsilon/|A|$.\n",
        "\n",
        "Luego realizamos Q-learning en las siguientes tareas:\n",
        "\n",
        "* Inicializamos una q-tabla  con todos ceros. \n",
        "\n",
        "* En cada episodio, dejamos que el agente siga la política épsilon-greedy para elegir qué acción tomar. Y actualizamos la q-función para cada paso.\n",
        "\n",
        "* Ejecutamos `n_episodios` episodios.\n",
        "\n",
        "* Obtenemos la política óptima en función de la q-función óptima.\n",
        "\n",
        "\n",
        "Siguiendo la política óptima, el agente comienza en el estado $36$, luego sube al estado $24$ y luego todo el camino a la derecha hasta el estado $35$ y finalmente alcanza la meta bajando.\n"
      ]
    },
    {
      "cell_type": "code",
      "metadata": {
        "colab": {
          "base_uri": "https://localhost:8080/",
          "height": 573
        },
        "id": "JFpYztG2H71O",
        "outputId": "8e1b790f-2d03-4ee1-df11-0cd793bd234e"
      },
      "source": [
        "import matplotlib.pyplot as plt\n",
        "plt.plot(longitud_episodio)\n",
        "plt.title('Duracion de episodio en el tiempo')\n",
        "plt.xlabel('Episodio')\n",
        "plt.ylabel('Longitud')\n",
        "plt.show()\n",
        "\n",
        "\n",
        "plt.plot(recompensa_episodio_total)\n",
        "plt.title('Duracion de episodio en el tiempo')\n",
        "plt.xlabel('Episodio')\n",
        "plt.ylabel('Recompensa Total')\n",
        "plt.show()"
      ],
      "execution_count": null,
      "outputs": [
        {
          "output_type": "display_data",
          "data": {
            "image/png": "[encoded data removed]",
            "text/plain": [
              "<Figure size 432x288 with 1 Axes>"
            ]
          },
          "metadata": {
            "tags": [],
            "needs_background": "light"
          }
        },
        {
          "output_type": "display_data",
          "data": {
            "image/png": "[encoded data removed]",
            "text/plain": [
              "<Figure size 432x288 with 1 Axes>"
            ]
          },
          "metadata": {
            "tags": [],
            "needs_background": "light"
          }
        }
      ]
    },
    {
      "cell_type": "markdown",
      "metadata": {
        "id": "hRsukeBjSNAC"
      },
      "source": [
        "###  SARSA\n",
        "\n",
        " Q-learning es un algoritmo de aprendizaje TD fuera de la política. Ahora resolveremos un MDP con un algoritmo de aprendizaje TD basado en políticas, llamado State-Action-Reward-State-Action (SARSA)(SARSA).\n",
        "\n",
        "Al igual que Q-learning, SARSA se centra en los valores de acción-estado. Actualiza la q-función basándose en la siguiente ecuación:\n",
        "\n",
        "$$ Q(s,a) = Q(s,a)  + \\alpha(r + \\gamma Q(s', a') -Q(s,a))$$\n",
        "\n",
        "Aquí, $s'$ es el estado resultante después de realizar la acción $a$ en el estado $s$, $r$ es la recompensa asociada, $\\alpha$ es la tasa de aprendizaje, y $\\gamma$ es el factor de descuento. \n",
        "\n",
        "En Q-learning, se utiliza una política de comportamiento greedy, para actualizar el q-valor. En SARSA, simplemente retomamos la siguiente acción $a'$, siguiendo también una política épsilon-greedy para actualizar el q-valor  y la acción $a'$ se toma en el siguiente paso. \n",
        "\n",
        "Por lo tanto, SARSA es un algoritmo de política."
      ]
    },
    {
      "cell_type": "code",
      "metadata": {
        "id": "PTpw73zXVloJ"
      },
      "source": [
        "import torch\n",
        "import gym\n",
        "\n",
        "env = gym.make('Taxi-v3')\n",
        "\n",
        "def gen_politica_epsilon_greedy(n_accion, epsilon):\n",
        "    def funcion_politica(estado, Q):\n",
        "        probs = torch.ones(n_accion) * epsilon / n_accion\n",
        "        mejor_accion = torch.argmax(Q[estado]).item()\n",
        "        probs[mejor_accion] += 1.0 - epsilon\n",
        "        accion = torch.multinomial(probs, 1).item()\n",
        "        return accion\n",
        "    return funcion_politica\n",
        "\n",
        "\n",
        "from collections import defaultdict\n",
        "\n",
        "def sarsa(env, gamma, n_episodios, alpha):\n",
        "    n_accion = env.action_space.n\n",
        "    Q = defaultdict(lambda: torch.zeros(n_accion))\n",
        "    for episodio in range(n_episodios):\n",
        "        estado = env.reset()\n",
        "        realizado = False\n",
        "        accion = politica_epsilon_greedy(estado, Q)\n",
        "        while not realizado:\n",
        "            prox_estado, recompensa, realizado, info = env.step(accion)\n",
        "            prox_accion = politica_epsilon_greedy(prox_estado, Q)\n",
        "  \n",
        "            td_delta = recompensa + gamma * Q[prox_estado][prox_accion] - Q[estado][accion]\n",
        "            Q[estado][accion] += alpha * td_delta\n",
        "\n",
        "            longitud_episodio[episodio] += 1\n",
        "            recompensa_episodio_total[episodio] += recompensa\n",
        "\n",
        "            if realizado:\n",
        "                break\n",
        "            estado = prox_estado\n",
        "            accion = prox_accion\n",
        "\n",
        "    politica = {}\n",
        "    for estado, acciones in Q.items():\n",
        "        politica[estado] = torch.argmax(acciones).item()\n",
        "    return Q, politica\n",
        "\n",
        "gamma = 1\n",
        "n_episodios = 500\n",
        "alpha = 0.4\n",
        "epsilon = 0.1\n",
        "\n",
        "politica_epsilon_greedy = gen_politica_epsilon_greedy(env.action_space.n, epsilon)\n",
        "\n",
        "longitud_episodio = [0] * n_episodios\n",
        "recompensa_episodio_total = [0] * n_episodios\n",
        "\n",
        "q_optima, politica_optima = sarsa(env, gamma, n_episodios, alpha)"
      ],
      "execution_count": null,
      "outputs": []
    },
    {
      "cell_type": "markdown",
      "metadata": {
        "id": "tmQ-uktD2Zrx"
      },
      "source": [
        "Realizamos una visualización de los resultados: la duración y la recompensa total de cada episodio a lo largo del tiempo para verificar si el modelo converge y la duración de los episodios a lo largo del tiempo. \n"
      ]
    },
    {
      "cell_type": "code",
      "metadata": {
        "colab": {
          "base_uri": "https://localhost:8080/",
          "height": 573
        },
        "id": "PDXYGphzXECY",
        "outputId": "ebaf9cf6-85b2-44c4-ddd8-68e960ab0b8c"
      },
      "source": [
        "import matplotlib.pyplot as plt\n",
        "plt.plot(longitud_episodio)\n",
        "plt.title('Duracion de episodio en el tiempo')\n",
        "plt.xlabel('Episodio')\n",
        "plt.ylabel('Longitud')\n",
        "plt.show()\n",
        "\n",
        "\n",
        "plt.plot(recompensa_episodio_total)\n",
        "plt.title('Duracion de episodio en el tiempo')\n",
        "plt.xlabel('Episodio')\n",
        "plt.ylabel('Recompensa Total')\n",
        "plt.show()"
      ],
      "execution_count": null,
      "outputs": [
        {
          "output_type": "display_data",
          "data": {
            "image/png": "[encoded data removed]",
            "text/plain": [
              "<Figure size 432x288 with 1 Axes>"
            ]
          },
          "metadata": {
            "tags": [],
            "needs_background": "light"
          }
        },
        {
          "output_type": "display_data",
          "data": {
            "image/png": "[encoded data removed]",
            "text/plain": [
              "<Figure size 432x288 with 1 Axes>"
            ]
          },
          "metadata": {
            "tags": [],
            "needs_background": "light"
          }
        }
      ]
    },
    {
      "cell_type": "markdown",
      "metadata": {
        "id": "HixfOQ863IU3"
      },
      "source": [
        "Este modelo de SARSA funciona bien, pero no es necesariamente el mejor.  El entorno `Taxi` es un problema de red relativamente complejo con $500$ estados discretos y `6` acciones posibles. El algoritmo SARSA optimiza la q-función  en cada paso de un episodio al aprender y optimizar la política objetivo. \n",
        "\n",
        "Obtenemos información sobre el entorno durante el proceso de aprendizaje y usamos esta información para actualizar los valores de inmediato siguiendo la política de épsilon-greedy.\n",
        "\n",
        "La búsqueda grid es una forma programática de encontrar el mejor conjunto de valores para hiperparámetros en el aprendizaje por refuerzo. El rendimiento de cada conjunto de hiperparámetros se mide mediante las siguientes tres métricas:\n",
        "\n",
        "* Recompensa total promedio durante los primeros episodios: queremos obtener la mayor recompensa lo antes posible.\n",
        "\n",
        "* Duración media de los episodios durante los primeros episodios: queremos que el taxi llegue al destino lo más rápido posible.\n",
        "\n",
        "* Recompensa promedio por cada paso de tiempo en los primeros episodios: queremos obtener la máxima recompensa lo más rápido posible.\n"
      ]
    },
    {
      "cell_type": "code",
      "metadata": {
        "colab": {
          "base_uri": "https://localhost:8080/"
        },
        "id": "IFpkjRseXgHl",
        "outputId": "3975e93b-8b27-4cc4-e601-9858cc8f5a59"
      },
      "source": [
        "opciones_alpha = [0.4, 0.5, 0.6]\n",
        "opciones_epsilon = [0.1, 0.03, 0.01]\n",
        "n_episodios = 500\n",
        "\n",
        "for alpha in opciones_alpha:\n",
        "  for epsilon in opciones_epsilon:\n",
        "    longitud_episodio = [0] * n_episodios\n",
        "    recompensa_episodio_total = [0] * n_episodios\n",
        "    sarsa(env, gamma, n_episodios, alpha)\n",
        "    recompensa_por_paso = [recompensa/float(step) for recompensa, step in zip(recompensa_episodio_total, longitud_episodio)]\n",
        "    print('Alpha: {}, epsilon: {}'.format(alpha, epsilon))\n",
        "    print('Recompensa promedio por {} episodios: {}'.format(n_episodios, sum(recompensa_episodio_total) / n_episodios))\n",
        "    print('Duracion promedio de {} los episodios: {}'.format(n_episodios, sum(longitud_episodio) / n_episodios))\n",
        "    print('Recompensa promedio por paso por {} episodios: {}\\n'.format(n_episodios, sum(recompensa_por_paso) / n_episodios))"
      ],
      "execution_count": null,
      "outputs": [
        {
          "output_type": "stream",
          "text": [
            "Alpha: 0.4, epsilon: 0.1\n",
            "Recompensa promedio por 500 episodios: -120.848\n",
            "Duracion promedio de 500 los episodios: 80.126\n",
            "Recompensa promedio por paso por 500 episodios: -0.8317539184220967\n",
            "\n",
            "Alpha: 0.4, epsilon: 0.03\n",
            "Recompensa promedio por 500 episodios: -111.432\n",
            "Duracion promedio de 500 los episodios: 75.27\n",
            "Recompensa promedio por paso por 500 episodios: -0.7749439589410109\n",
            "\n",
            "Alpha: 0.4, epsilon: 0.01\n",
            "Recompensa promedio por 500 episodios: -118.492\n",
            "Duracion promedio de 500 los episodios: 78.43\n",
            "Recompensa promedio por paso por 500 episodios: -0.8133073414395524\n",
            "\n",
            "Alpha: 0.5, epsilon: 0.1\n",
            "Recompensa promedio por 500 episodios: -97.736\n",
            "Duracion promedio de 500 los episodios: 66.314\n",
            "Recompensa promedio por paso por 500 episodios: -0.6677825615518626\n",
            "\n",
            "Alpha: 0.5, epsilon: 0.03\n",
            "Recompensa promedio por 500 episodios: -108.878\n",
            "Duracion promedio de 500 los episodios: 72.164\n",
            "Recompensa promedio por paso por 500 episodios: -0.7886354339232956\n",
            "\n",
            "Alpha: 0.5, epsilon: 0.01\n",
            "Recompensa promedio por 500 episodios: -104.65\n",
            "Duracion promedio de 500 los episodios: 70.6\n",
            "Recompensa promedio por paso por 500 episodios: -0.7567900370829691\n",
            "\n",
            "Alpha: 0.6, epsilon: 0.1\n",
            "Recompensa promedio por 500 episodios: -120.436\n",
            "Duracion promedio de 500 los episodios: 77.776\n",
            "Recompensa promedio por paso por 500 episodios: -0.8141299398864308\n",
            "\n",
            "Alpha: 0.6, epsilon: 0.03\n",
            "Recompensa promedio por 500 episodios: -109.896\n",
            "Duracion promedio de 500 los episodios: 71.97\n",
            "Recompensa promedio por paso por 500 episodios: -0.7815126926181831\n",
            "\n",
            "Alpha: 0.6, epsilon: 0.01\n",
            "Recompensa promedio por 500 episodios: -111.084\n",
            "Duracion promedio de 500 los episodios: 72.852\n",
            "Recompensa promedio por paso por 500 episodios: -0.8262365827230153\n",
            "\n"
          ],
          "name": "stdout"
        }
      ]
    },
    {
      "cell_type": "markdown",
      "metadata": {
        "id": "9-F_f1xW5upo"
      },
      "source": [
        "¿Qué crees que sucede aquí?"
      ]
    },
    {
      "cell_type": "markdown",
      "metadata": {
        "id": "GptS5JAK536-"
      },
      "source": [
        "*Tu respuesta*"
      ]
    },
    {
      "cell_type": "code",
      "metadata": {
        "id": "qJMCLJHw55po"
      },
      "source": [
        ""
      ],
      "execution_count": null,
      "outputs": []
    }
  ]
}
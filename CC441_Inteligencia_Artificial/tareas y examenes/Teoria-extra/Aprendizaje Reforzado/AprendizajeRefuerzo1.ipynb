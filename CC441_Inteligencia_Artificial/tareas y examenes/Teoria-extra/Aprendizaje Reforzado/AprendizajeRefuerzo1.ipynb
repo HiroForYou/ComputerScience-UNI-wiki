{
  "nbformat": 4,
  "nbformat_minor": 0,
  "metadata": {
    "colab": {
      "name": "AprendizajeRefuerzo1.ipynb",
      "provenance": [],
      "collapsed_sections": []
    },
    "kernelspec": {
      "name": "python3",
      "display_name": "Python 3"
    }
  },
  "cells": [
    {
      "cell_type": "markdown",
      "metadata": {
        "id": "I0cvq1bIls2U"
      },
      "source": [
        "## Curso de Inteligencia Artificial\n",
        "\n",
        "### Aprendizaje por Refuerzo\n",
        "\n",
        "\n",
        "El aprendizaje por Refuerzo (RL) es un dominio de inteligencia artificial (IA) que es diferente de los otros formatos de aprendizaje automático. \n",
        "\n",
        "El RL consiste en desarrollar agentes impulsados ​​por objetivos para automatizar la resolución de problemas optimizando sus acciones dentro de un entorno. Esto implica predecir y clasificar los datos disponibles y entrenar a los agentes para ejecutar las tareas con éxito. \n",
        "\n",
        "Se pueden distinguir tres tipos diferentes de aprendizaje por refuerzo:\n",
        "\n",
        "* Basado en valor: una función de valor proporciona una estimación de qué tan bueno es el estado actual del entorno.\n",
        "\n",
        "* Basado en políticas: donde una función determina una acción basada en un estado.\n",
        "\n",
        "* Basado en modelos: un modelo del entorno que incluye transiciones de estado, recompensas y planificación de acciones.\n",
        "\n",
        "Mencionemos los principios fundamentales del aprendizaje por refuerzo. Estos son los cinco principios:\n",
        "\n",
        "* Principio 1: El sistema de entrada y salida\n",
        "* Principio 2: Las recompensas\n",
        "* Principio 3: El entorno de la IA\n",
        "* Principio 4: Los procesos de decisión de Markov\n",
        "* Principio 5: Entrenamiento e inferencia\n",
        "\n",
        "El **agente** es el concepto más importante de cualquier problema de RL. Es la parte del algoritmo RL que procesa la información de entrada para realizar una acción. El agente explora y explota el conocimiento de ensayos repetidos para aprender a maximizar una recompensa.\n",
        "\n",
        "Generalmente, el agente es una entidad que tiene la capacidad de interactuar con un entorno, y el aprendizaje se realiza aplicando retroalimentación en términos de recompensas acumulativas del entorno para informar acciones futuras.\n",
        "\n",
        "El escenario al que tiene que enfrentarse el agente se conoce como **entorno**, mientras que las acciones son los posibles movimientos que puede realizar un agente en un entorno determinado. El retorno de un entorno al realizar una acción se denomina **recompensa**  y el curso de acción que aplica el agente para determinar la siguiente acción en función del estado actual se denomina **política**. El rendimiento esperado a largo plazo con un descuento, a diferencia de la recompensa a corto plazo, se denomina **valor**. El **q-valor** es similar al valor pero tiene un parámetro de acción actual adicional. "
      ]
    },
    {
      "cell_type": "markdown",
      "metadata": {
        "id": "yx2l0Xhd9lOg"
      },
      "source": [
        "### Terminología en RL\n",
        "\n",
        "* Agente: el aprendiz y quien toma las decisiones. \n",
        "* Entorno: donde el agente aprende y decide qué acciones realizar. \n",
        "* Acción: conjunto de acciones que puede realizar el agente. \n",
        "* Estado: el estado del agente en el entorno.\n",
        "* Recompensa: por cada acción seleccionada por el agente, el entorno proporciona una recompensa. Suele ser un valor escalar.\n",
        "* Política: la función de toma de decisiones (estrategia de control) del agente, que representa un mapeo de situaciones a acciones. \n",
        "* Función de valor: mapeo de estados a números reales, donde el valor de un  estado representa la recompensa a largo plazo lograda a partir de ese estado y ejecutando una política en particular. \n",
        "* Aproximador de funciones: se refiere al problema de inducir una función a partir de ejemplos de entrenamiento. Los aproximadores estándar incluyen árboles de decisión, redes neuronales y métodos del vecino más cercano. \n",
        "* Proceso de decisión de Markov (MDP): un modelo probabilístico de un problema de decisión secuencial, donde los estados se pueden percibir exactamente y el estado actual y la acción seleccionada determinan una distribución de probabilidad en estados futuros. Esencialmente, el resultado de aplicar una acción a un estado depende solo de la acción y el estado actuales (y no de las acciones o estados precedentes). \n",
        "*Programación dinámica (DP): es una clase de métodos de solución para resolver problemas de decisiones secuenciales con una estructura de costos de composición. Richard Bellman fue uno de los principales fundadores de este enfoque. \n",
        "* Métodos de Monte Carlo: una clase de métodos para el aprendizaje de funciones de valor, que estima el valor de un estado ejecutando muchas pruebas comenzando en ese estado, luego promedia las recompensas totales recibidas en esas pruebas.\n",
        "* Algoritmos de diferencia temporal (TD): una clase de métodos de aprendizaje, basados ​​en la idea de comparar predicciones sucesivas temporalmente. Posiblemente la idea más fundamental de todo el aprendizaje por refuerzo. \n",
        "* Modelo: la visión del entorno del agente, que asigna pares de acción de estado a distribuciones de probabilidad entre estados. Ten en cuenta que no todos los agentes de aprendizaje por refuerzo utilizan un modelo de su entorno.\n"
      ]
    },
    {
      "cell_type": "markdown",
      "metadata": {
        "id": "d_J1kxLLbovG"
      },
      "source": [
        "### El problema del Bandido multibrazos (MABP)\n",
        "\n",
        "si tenemos un bandido con $N$ brazos y cada brazo tiene una probabilidad distinta de darnos una recompensa positiva. El objetivo es crear un agente que maximice esas recompensas.\n",
        "\n",
        "Si tenemos un bandido de $N=5$ brazos (5-armed bandit) por ejemplo. Si estas son las probabilidades de cada brazo de dar una recompensa positiva: `[0.1, 0.3, 0.05, 0.55, 0.4]`, la mejor acción entre estas cinco es tirar del cuarto brazo. Sin embargo, el agente no dispone de esta información. Por lo tanto, deberá probar a tirar de todos los brazos varias veces, e ir aprendiendo cuál de todos es el mejor. Cuando vaya acumulando más información, empezará a tomar mejores decisiones y a recibir mejores recompensas más frecuentemente.\n"
      ]
    },
    {
      "cell_type": "markdown",
      "metadata": {
        "id": "g8R9BZS6Etro"
      },
      "source": [
        "### Un ejemplo : MABP\n",
        "\n",
        "Usando RL, un agente decide qué página web presentar al usuario. El entorno es un banco de pruebas que proporcionará comentarios a nuestros agentes (hacer clic o no hacer clic). \n",
        "\n",
        "Primero implementaremos nuestro entorno. Estamos considerando esto como un problema *multi-armed bandit*.\n"
      ]
    },
    {
      "cell_type": "code",
      "metadata": {
        "id": "eEj4eApsFJmq"
      },
      "source": [
        "import random\n",
        "import warnings\n",
        "warnings.filterwarnings(\"ignore\")\n",
        "import numpy as np\n",
        "\n",
        "class Bandido:\n",
        "  def __init__(self, K=2, probs=None):\n",
        "    self.K = K\n",
        "    if probs is None:\n",
        "      self.probs = [random.random() for _ in range(self.K)]\n",
        "    else:\n",
        "      assert len(probs) == K\n",
        "      self.probs = probs\n",
        "\n",
        "    self.mejor_probs = max(self.probs)\n",
        "\n",
        "  def play(self, i):\n",
        "    if random.random() < self.probs[i]:\n",
        "      return 1\n",
        "    else:\n",
        "      return 0"
      ],
      "execution_count": null,
      "outputs": []
    },
    {
      "cell_type": "markdown",
      "metadata": {
        "id": "dP1y2oH6GKlo"
      },
      "source": [
        "Implementamos un agente abstracto:"
      ]
    },
    {
      "cell_type": "code",
      "metadata": {
        "id": "Z8B2ffwNGNnJ"
      },
      "source": [
        "class Agente:\n",
        "  def __init__(self, env):\n",
        "    self.env = env\n",
        "    self.oyentes = {}\n",
        "    self.metricas = {}\n",
        "    self.reset()\n",
        "        \n",
        "  def reset(self):\n",
        "    for k in self.metricas:\n",
        "      self.metricas[k] = []\n",
        "\n",
        "  def agrega_oyente(self, nombre, fun):\n",
        "    self.oyentes[nombre] = fun\n",
        "    self.metricas[nombre] = []\n",
        "        \n",
        "  def ejecutar_metricas(self, i):\n",
        "    for key, fun in self.oyentes.items():\n",
        "      fun(self, i, key)\n",
        "\n",
        "  def ejecutar_un_paso(self):\n",
        "    raise NotImplementedError\n",
        "        \n",
        "  def ejecutar(self, n_pasos):\n",
        "    raise NotImplementedError"
      ],
      "execution_count": null,
      "outputs": []
    },
    {
      "cell_type": "markdown",
      "metadata": {
        "id": "p-uG-r-Ea1cr"
      },
      "source": [
        "Cualquier agente necesitará un entorno con el que interactuar. Necesita tomar una sola decisión `(ejecutar_un_paso (self))` y, para ver qué tan buena es su toma de decisiones, necesitaremos ejecutar una simulación `(ejecutar (self, n_pasos))`.\n",
        "\n",
        "El agente contendrá una lista de búsqueda de  métricas y también heredará una funcionalidad de colección de métricas. Podemos ejecutar la colección de métricas a través de la función `ejecutar_metricas(self, i)`."
      ]
    },
    {
      "cell_type": "markdown",
      "metadata": {
        "id": "zgcJVDpPbYP6"
      },
      "source": [
        "### UCB1\n",
        "\n",
        "Como hemos mencionado el MABP, también llamado el problema de los k-bandidos armados, es el problema de la asignación de recursos entre opciones en competencia en una situación, donde los resultados de cada elección se conocen solo parcialmente, pero pueden llegar a ser más conocidos con el tiempo. Cuando se consideran las observaciones del mundo al tomar una decisión, esto se conoce como el **bandido contextual**.\n",
        "\n",
        "En el código hemos utilizado el algoritmo Upper Confidence Bound versión 1 (UCB1) que funciona de la siguiente manera:\n",
        "\n",
        "* Realiza cada acción una vez para obtener estimaciones iniciales de las recompensas medias (fase de exploración).\n",
        "\n",
        "* Para cada ronda $t$, actualiza $Q(a)$ y $N(a)$ y ejecute la acción $a'$ de acuerdo con esta fórmula:\n",
        "\n",
        "$$\\alpha^{'} \\leftarrow \\text{argmax}_{a \\in A} Q(A) + \\sqrt{\\frac{\\alpha \\ln t}{N(a)}}$$\n",
        "\n",
        "\n",
        "donde $Q(a)$ es la tabla de búsqueda para la recompensa media y $N(a)$ es el número de veces que se ha realizado la acción. $\\alpha > 0$ es un parámetro.\n",
        "\n",
        "El segundo término de la ecuación anterior cuantifica la incertidumbre. Cuanto menor sea la incertidumbre, más dependemos de $Q(a)$. La incertidumbre disminuye linealmente con el número de veces que se ha realizado una acción y aumenta logarítmicamente con el número de rondas. \n",
        "\n",
        "El algoritmo `Upper Confidence Bound (UCB)` a menudo se expresa como  ‘optimismo frente a la incertidumbre’. Para comprender por qué, considera  que la función de recompensa de cada brazo puede percibirse como una estimación puntual basada en la tasa promedio de recompensa observada. Extrayendo la intuición de los intervalos de confianza, para cada estimación puntual, podemos incorporar alguna forma de límite de incertidumbre alrededor de la estimación puntual. En ese sentido, tenemos tanto el límite inferior como el límite superior para cada brazo. \n",
        "\n",
        "Utilizamos una variante al material de Lilien Weng :[The Multi-Armed Bandit Problem and Its Solutions](https://lilianweng.github.io/lil-log/2018/01/23/the-multi-armed-bandit-problem-and-its-solutions.html).\n",
        "\n"
      ]
    },
    {
      "cell_type": "code",
      "metadata": {
        "id": "Bv4uxjdzbRGa"
      },
      "source": [
        "class UCB1(Agente):\n",
        "  def __init__(self, env, alpha=2.):\n",
        "    self.alpha = alpha\n",
        "    super(UCB1, self).__init__(env)\n",
        "    \n",
        "  def ejecutar_exploracion(self):\n",
        "    for i in range(self.env.K):\n",
        "      self.estimates[i] = self.env.play(i)\n",
        "      self.counts[i] += 1\n",
        "      self.history.append(i)\n",
        "      self.ejecutar_metricas(i)            \n",
        "      self.t += 1\n",
        "    \n",
        "  def actualiza_estimacion(self, i, r):\n",
        "    self.estimates[i] += (r - self.estimates[i]) / (self.counts[i] + 1)\n",
        "\n",
        "  def reset(self):\n",
        "    self.history = []\n",
        "    self.t = 0\n",
        "    self.counts = [0] * self.env.K\n",
        "    self.estimates = [None] * self.env.K\n",
        "    super(UCB1, self).reset()\n",
        "    \n",
        "  def ejecutar(self, n_pasos):\n",
        "    assert self.env is not None\n",
        "    self.reset()\n",
        "    if self.estimates[0] is None:\n",
        "      self.ejecutar_exploracion()\n",
        "    for _ in range(n_pasos):\n",
        "      i = self.ejecutar_un_paso()\n",
        "      self.counts[i] += 1\n",
        "      self.history.append(i)\n",
        "      self.ejecutar_metricas(i)\n",
        "\n",
        "  def cota_superior(self, i):\n",
        "    return np.sqrt(\n",
        "        self.alpha * np.log(self.t) / (1 + self.counts[i])\n",
        "      )\n",
        "   \n",
        "  def ejecutar_un_paso(self):\n",
        "    i = max(\n",
        "            range(self.env.K),\n",
        "            key=lambda i: self.estimates[i] + self.cota_superior(i)\n",
        "        )\n",
        "    r = self.env.play(i)\n",
        "    self.actualiza_estimacion(i, r)\n",
        "    self.t += 1\n",
        "    return i"
      ],
      "execution_count": null,
      "outputs": []
    },
    {
      "cell_type": "markdown",
      "metadata": {
        "id": "m8hKfCL-dTzl"
      },
      "source": [
        "El agente UCB1 necesita un entorno (un bandido) con el que interactuar y un parámetro alfa único, que sopesa la importancia de explorar acciones (frente a explotar la acción más conocida). El agente mantiene el historial de elecciones a lo largo del tiempo y un registro de estimaciones para cada opción posible.\n",
        "\n",
        "El método `ejecutar_un_paso(self)`, que hace una sola elección al elegir la mejor opción optimista. El método `ejecutar(self, n_pasos)` ejecuta una serie de opciones y recupera la retroalimentación del entorno.\n",
        "\n",
        "Hay dos métricas importantes:`regret` que es la suma de las pérdidas esperadas que se produjeron debido a elecciones subóptimas y  como medida de convergencia de las estimaciones del agente con la configuración real del entorno, la correlación de rango de Spearman (`stats.spearmanr()`)."
      ]
    },
    {
      "cell_type": "code",
      "metadata": {
        "id": "ZChRHI6Kez2n"
      },
      "source": [
        "from scipy import stats\n",
        "\n",
        "def actualiza_regret(agente, i, key):\n",
        "  regret = agente.env.mejor_probs - agente.env.probs[i]\n",
        "  if agente.metricas[key]:\n",
        "    agente.metricas[key].append(\n",
        "            agente.metricas[key][-1] + regret\n",
        "        )\n",
        "  else:\n",
        "    agente.metricas[key] = [regret]\n",
        "        \n",
        "def actualiza_rank_corr(agente, i, key):\n",
        "  if agente.t < agente.env.K:\n",
        "        agente.metricas[key].append(0.0)\n",
        "  else:\n",
        "    agente.metricas[key].append(\n",
        "        stats.spearmanr(agente.env.probs, agente.estimates)[0]\n",
        "        )"
      ],
      "execution_count": null,
      "outputs": []
    },
    {
      "cell_type": "markdown",
      "metadata": {
        "id": "Mg6Af3KbgHPN"
      },
      "source": [
        "Preparemos los gráficos."
      ]
    },
    {
      "cell_type": "code",
      "metadata": {
        "id": "hR1q0qb_gLUQ"
      },
      "source": [
        "%matplotlib inline\n",
        "import pandas as pd\n",
        "import matplotlib.pyplot as plt\n",
        "\n",
        "\n",
        "def dibuja_stats(title):\n",
        "  df = pd.DataFrame(agente.metricas)\n",
        "  df['t'] = list(range(len(df)))\n",
        "  ax = df.plot(x='t', y='regret', legend=False)\n",
        "  ax2 = ax.twinx()\n",
        "  ax.spines['left'].set_color('b')\n",
        "  ax.spines['left'].set_linewidth(1.5)\n",
        "  ax.tick_params(axis='y', colors='b')\n",
        "\n",
        "  df.plot(x='t', y='corr', ax=ax2, legend=False, color=\"r\")\n",
        "  ax.spines['right'].set_color('r')\n",
        "  ax.spines['right'].set_linewidth(1.5)\n",
        "  ax2.tick_params(axis='y', colors='r')\n",
        "\n",
        "  ax.figure.legend(loc='center', bbox_to_anchor=(0.7, 0.5))\n",
        "  plt.title(title)"
      ],
      "execution_count": null,
      "outputs": []
    },
    {
      "cell_type": "markdown",
      "metadata": {
        "id": "HjyMMB-Fg1O0"
      },
      "source": [
        "Ahora podemos rastrear estas métricas para comparar la influencia del parámetro alfa (más o menos exploración). Entonces podemos observar la convergencia y el regret acumulativo a lo largo del tiempo:"
      ]
    },
    {
      "cell_type": "code",
      "metadata": {
        "colab": {
          "base_uri": "https://localhost:8080/",
          "height": 295
        },
        "id": "EDBjdsZvhEYA",
        "outputId": "63600fd4-6679-45c0-cf83-2fb211384cb0"
      },
      "source": [
        "random.seed(42.0)  \n",
        "bandit = Bandido(20)\n",
        "agente = UCB1(bandit, alpha=2.0)\n",
        "agente.agrega_oyente('regret', actualiza_regret)\n",
        "agente.agrega_oyente('corr', actualiza_rank_corr)\n",
        "agente.ejecutar(5000)\n",
        "dibuja_stats('alpha=2.0')"
      ],
      "execution_count": null,
      "outputs": [
        {
          "output_type": "display_data",
          "data": {
            "image/png": "[encoded data removed]",
            "text/plain": [
              "<Figure size 432x288 with 2 Axes>"
            ]
          },
          "metadata": {
            "tags": [],
            "needs_background": "light"
          }
        }
      ]
    },
    {
      "cell_type": "markdown",
      "metadata": {
        "id": "_VlNhh0edSxd"
      },
      "source": [
        "En el algoritmo UCB o UCB1, no asumimos ningún previo en la distribución de recompensas y por lo tanto, tenemos que confiar en la desigualdad de Hoeffding para una estimación muy generalizada. Si podemos conocer la distribución por adelantado, podríamos hacer una mejor estimación de límites.\n"
      ]
    },
    {
      "cell_type": "markdown",
      "metadata": {
        "id": "fU-egalUi4fX"
      },
      "source": [
        "### Ejercicio\n",
        "\n",
        "* Modifica el código anterior, para cuando `alpha = 0.5`. ¿Qué observas?"
      ]
    },
    {
      "cell_type": "code",
      "metadata": {
        "id": "SqKK7p0SjF5e",
        "colab": {
          "base_uri": "https://localhost:8080/",
          "height": 295
        },
        "outputId": "8d584a01-ccce-4aa5-8441-1c749d654854"
      },
      "source": [
        "random.seed(42.0)  \r\n",
        "bandit = Bandido(20)\r\n",
        "agente = UCB1(bandit, alpha=0.5)\r\n",
        "agente.agrega_oyente('regret', actualiza_regret)\r\n",
        "agente.agrega_oyente('corr', actualiza_rank_corr)\r\n",
        "agente.ejecutar(5000)\r\n",
        "dibuja_stats('alpha=0.5')"
      ],
      "execution_count": null,
      "outputs": [
        {
          "output_type": "display_data",
          "data": {
            "image/png": "[encoded data removed]",
            "text/plain": [
              "<Figure size 432x288 with 2 Axes>"
            ]
          },
          "metadata": {
            "tags": [],
            "needs_background": "light"
          }
        }
      ]
    },
    {
      "cell_type": "markdown",
      "metadata": {
        "id": "GdDlSfgkGgCe"
      },
      "source": [
        "#### OpenAI\n",
        "\n",
        "Es una empresa de investigación sin fines de lucro que se centra en la creación de inteligencia artificial general (AGI) segura y en garantizar que beneficie a los humanos. \n",
        "\n",
        "**OpenAI Gym** es un conjunto de herramientas de código abierto para desarrollar y comparar algoritmos de aprendizaje por refuerzo. Proporciona una interfaz para una variedad de simulaciones y tareas de aprendizaje por refuerzo, desde caminar hasta alunizaje, carreras de autos hasta jugar juegos de Atari. \n",
        "\n",
        "Podemos escribir agentes para interactuar con entornos de OpenAI Gym utilizando cualquier libreríía de cálculo numérico, como PyTorch, TensorFlow o Keras . \n"
      ]
    },
    {
      "cell_type": "code",
      "metadata": {
        "id": "uObXjCnsGhYN"
      },
      "source": [
        "!sudo apt-get install -y xvfb ffmpeg \n",
        "!pip install gym\n",
        "!pip install 'imageio==2.4.0'\n",
        "!pip install PILLOW\n",
        "!pip install 'pyglet==1.5.0'\n",
        "!pip install pyvirtualdisplay"
      ],
      "execution_count": null,
      "outputs": []
    },
    {
      "cell_type": "code",
      "metadata": {
        "colab": {
          "base_uri": "https://localhost:8080/"
        },
        "id": "TNlL0fIZGy4n",
        "outputId": "5b42d7a3-b0be-49cb-f536-7a5725c2a742"
      },
      "source": [
        "from pyvirtualdisplay import Display\n",
        "display = Display(visible=0, size=(1400, 900))\n",
        "display.start()"
      ],
      "execution_count": null,
      "outputs": [
        {
          "output_type": "execute_result",
          "data": {
            "text/plain": [
              "<pyvirtualdisplay.display.Display at 0x7f5d7b4b0198>"
            ]
          },
          "metadata": {
            "tags": []
          },
          "execution_count": 9
        }
      ]
    },
    {
      "cell_type": "markdown",
      "metadata": {
        "id": "X81OXYw4pbzb"
      },
      "source": [
        "### Ejemplos en  OpenAI gym - CartPole\n",
        "\n",
        "Aquí, implementaremos dos algoritmos RL diferentes.  Necesitaremos un entorno para ejecutar nuestros algoritmos para que el modelo que creemos tenga una recompensa máxima. \n",
        "\n",
        "Usaremos la biblioteca gym de OpenAI, que es una colección de entornos que podemos usar para entrenar nuestro modelo. \n",
        "\n",
        "CartPole es una tarea de control disponible en OpenAI Gym y se ha estudiado durante muchos años. Aunque es relativamente simple en comparación con otros, contiene todo lo que necesitamos para implementar un algoritmo de aprendizaje por refuerzo."
      ]
    },
    {
      "cell_type": "code",
      "metadata": {
        "colab": {
          "base_uri": "https://localhost:8080/"
        },
        "id": "MglsNI5lG87C",
        "outputId": "ab6fa70b-bdce-4316-bf2f-972a37c0e792"
      },
      "source": [
        "from gym import envs\n",
        "print(envs.registry.all())"
      ],
      "execution_count": null,
      "outputs": [
        {
          "output_type": "stream",
          "text": [
            "dict_values([EnvSpec(Copy-v0), EnvSpec(RepeatCopy-v0), EnvSpec(ReversedAddition-v0), EnvSpec(ReversedAddition3-v0), EnvSpec(DuplicatedInput-v0), EnvSpec(Reverse-v0), EnvSpec(CartPole-v0), EnvSpec(CartPole-v1), EnvSpec(MountainCar-v0), EnvSpec(MountainCarContinuous-v0), EnvSpec(Pendulum-v0), EnvSpec(Acrobot-v1), EnvSpec(LunarLander-v2), EnvSpec(LunarLanderContinuous-v2), EnvSpec(BipedalWalker-v3), EnvSpec(BipedalWalkerHardcore-v3), EnvSpec(CarRacing-v0), EnvSpec(Blackjack-v0), EnvSpec(KellyCoinflip-v0), EnvSpec(KellyCoinflipGeneralized-v0), EnvSpec(FrozenLake-v0), EnvSpec(FrozenLake8x8-v0), EnvSpec(CliffWalking-v0), EnvSpec(NChain-v0), EnvSpec(Roulette-v0), EnvSpec(Taxi-v3), EnvSpec(GuessingGame-v0), EnvSpec(HotterColder-v0), EnvSpec(Reacher-v2), EnvSpec(Pusher-v2), EnvSpec(Thrower-v2), EnvSpec(Striker-v2), EnvSpec(InvertedPendulum-v2), EnvSpec(InvertedDoublePendulum-v2), EnvSpec(HalfCheetah-v2), EnvSpec(HalfCheetah-v3), EnvSpec(Hopper-v2), EnvSpec(Hopper-v3), EnvSpec(Swimmer-v2), EnvSpec(Swimmer-v3), EnvSpec(Walker2d-v2), EnvSpec(Walker2d-v3), EnvSpec(Ant-v2), EnvSpec(Ant-v3), EnvSpec(Humanoid-v2), EnvSpec(Humanoid-v3), EnvSpec(HumanoidStandup-v2), EnvSpec(FetchSlide-v1), EnvSpec(FetchPickAndPlace-v1), EnvSpec(FetchReach-v1), EnvSpec(FetchPush-v1), EnvSpec(HandReach-v0), EnvSpec(HandManipulateBlockRotateZ-v0), EnvSpec(HandManipulateBlockRotateZTouchSensors-v0), EnvSpec(HandManipulateBlockRotateZTouchSensors-v1), EnvSpec(HandManipulateBlockRotateParallel-v0), EnvSpec(HandManipulateBlockRotateParallelTouchSensors-v0), EnvSpec(HandManipulateBlockRotateParallelTouchSensors-v1), EnvSpec(HandManipulateBlockRotateXYZ-v0), EnvSpec(HandManipulateBlockRotateXYZTouchSensors-v0), EnvSpec(HandManipulateBlockRotateXYZTouchSensors-v1), EnvSpec(HandManipulateBlockFull-v0), EnvSpec(HandManipulateBlock-v0), EnvSpec(HandManipulateBlockTouchSensors-v0), EnvSpec(HandManipulateBlockTouchSensors-v1), EnvSpec(HandManipulateEggRotate-v0), EnvSpec(HandManipulateEggRotateTouchSensors-v0), EnvSpec(HandManipulateEggRotateTouchSensors-v1), EnvSpec(HandManipulateEggFull-v0), EnvSpec(HandManipulateEgg-v0), EnvSpec(HandManipulateEggTouchSensors-v0), EnvSpec(HandManipulateEggTouchSensors-v1), EnvSpec(HandManipulatePenRotate-v0), EnvSpec(HandManipulatePenRotateTouchSensors-v0), EnvSpec(HandManipulatePenRotateTouchSensors-v1), EnvSpec(HandManipulatePenFull-v0), EnvSpec(HandManipulatePen-v0), EnvSpec(HandManipulatePenTouchSensors-v0), EnvSpec(HandManipulatePenTouchSensors-v1), EnvSpec(FetchSlideDense-v1), EnvSpec(FetchPickAndPlaceDense-v1), EnvSpec(FetchReachDense-v1), EnvSpec(FetchPushDense-v1), EnvSpec(HandReachDense-v0), EnvSpec(HandManipulateBlockRotateZDense-v0), EnvSpec(HandManipulateBlockRotateZTouchSensorsDense-v0), EnvSpec(HandManipulateBlockRotateZTouchSensorsDense-v1), EnvSpec(HandManipulateBlockRotateParallelDense-v0), EnvSpec(HandManipulateBlockRotateParallelTouchSensorsDense-v0), EnvSpec(HandManipulateBlockRotateParallelTouchSensorsDense-v1), EnvSpec(HandManipulateBlockRotateXYZDense-v0), EnvSpec(HandManipulateBlockRotateXYZTouchSensorsDense-v0), EnvSpec(HandManipulateBlockRotateXYZTouchSensorsDense-v1), EnvSpec(HandManipulateBlockFullDense-v0), EnvSpec(HandManipulateBlockDense-v0), EnvSpec(HandManipulateBlockTouchSensorsDense-v0), EnvSpec(HandManipulateBlockTouchSensorsDense-v1), EnvSpec(HandManipulateEggRotateDense-v0), EnvSpec(HandManipulateEggRotateTouchSensorsDense-v0), EnvSpec(HandManipulateEggRotateTouchSensorsDense-v1), EnvSpec(HandManipulateEggFullDense-v0), EnvSpec(HandManipulateEggDense-v0), EnvSpec(HandManipulateEggTouchSensorsDense-v0), EnvSpec(HandManipulateEggTouchSensorsDense-v1), EnvSpec(HandManipulatePenRotateDense-v0), EnvSpec(HandManipulatePenRotateTouchSensorsDense-v0), EnvSpec(HandManipulatePenRotateTouchSensorsDense-v1), EnvSpec(HandManipulatePenFullDense-v0), EnvSpec(HandManipulatePenDense-v0), EnvSpec(HandManipulatePenTouchSensorsDense-v0), EnvSpec(HandManipulatePenTouchSensorsDense-v1), EnvSpec(Adventure-v0), EnvSpec(Adventure-v4), EnvSpec(AdventureDeterministic-v0), EnvSpec(AdventureDeterministic-v4), EnvSpec(AdventureNoFrameskip-v0), EnvSpec(AdventureNoFrameskip-v4), EnvSpec(Adventure-ram-v0), EnvSpec(Adventure-ram-v4), EnvSpec(Adventure-ramDeterministic-v0), EnvSpec(Adventure-ramDeterministic-v4), EnvSpec(Adventure-ramNoFrameskip-v0), EnvSpec(Adventure-ramNoFrameskip-v4), EnvSpec(AirRaid-v0), EnvSpec(AirRaid-v4), EnvSpec(AirRaidDeterministic-v0), EnvSpec(AirRaidDeterministic-v4), EnvSpec(AirRaidNoFrameskip-v0), EnvSpec(AirRaidNoFrameskip-v4), EnvSpec(AirRaid-ram-v0), EnvSpec(AirRaid-ram-v4), EnvSpec(AirRaid-ramDeterministic-v0), EnvSpec(AirRaid-ramDeterministic-v4), EnvSpec(AirRaid-ramNoFrameskip-v0), EnvSpec(AirRaid-ramNoFrameskip-v4), EnvSpec(Alien-v0), EnvSpec(Alien-v4), EnvSpec(AlienDeterministic-v0), EnvSpec(AlienDeterministic-v4), EnvSpec(AlienNoFrameskip-v0), EnvSpec(AlienNoFrameskip-v4), EnvSpec(Alien-ram-v0), EnvSpec(Alien-ram-v4), EnvSpec(Alien-ramDeterministic-v0), EnvSpec(Alien-ramDeterministic-v4), EnvSpec(Alien-ramNoFrameskip-v0), EnvSpec(Alien-ramNoFrameskip-v4), EnvSpec(Amidar-v0), EnvSpec(Amidar-v4), EnvSpec(AmidarDeterministic-v0), EnvSpec(AmidarDeterministic-v4), EnvSpec(AmidarNoFrameskip-v0), EnvSpec(AmidarNoFrameskip-v4), EnvSpec(Amidar-ram-v0), EnvSpec(Amidar-ram-v4), EnvSpec(Amidar-ramDeterministic-v0), EnvSpec(Amidar-ramDeterministic-v4), EnvSpec(Amidar-ramNoFrameskip-v0), EnvSpec(Amidar-ramNoFrameskip-v4), EnvSpec(Assault-v0), EnvSpec(Assault-v4), EnvSpec(AssaultDeterministic-v0), EnvSpec(AssaultDeterministic-v4), EnvSpec(AssaultNoFrameskip-v0), EnvSpec(AssaultNoFrameskip-v4), EnvSpec(Assault-ram-v0), EnvSpec(Assault-ram-v4), EnvSpec(Assault-ramDeterministic-v0), EnvSpec(Assault-ramDeterministic-v4), EnvSpec(Assault-ramNoFrameskip-v0), EnvSpec(Assault-ramNoFrameskip-v4), EnvSpec(Asterix-v0), EnvSpec(Asterix-v4), EnvSpec(AsterixDeterministic-v0), EnvSpec(AsterixDeterministic-v4), EnvSpec(AsterixNoFrameskip-v0), EnvSpec(AsterixNoFrameskip-v4), EnvSpec(Asterix-ram-v0), EnvSpec(Asterix-ram-v4), EnvSpec(Asterix-ramDeterministic-v0), EnvSpec(Asterix-ramDeterministic-v4), EnvSpec(Asterix-ramNoFrameskip-v0), EnvSpec(Asterix-ramNoFrameskip-v4), EnvSpec(Asteroids-v0), EnvSpec(Asteroids-v4), EnvSpec(AsteroidsDeterministic-v0), EnvSpec(AsteroidsDeterministic-v4), EnvSpec(AsteroidsNoFrameskip-v0), EnvSpec(AsteroidsNoFrameskip-v4), EnvSpec(Asteroids-ram-v0), EnvSpec(Asteroids-ram-v4), EnvSpec(Asteroids-ramDeterministic-v0), EnvSpec(Asteroids-ramDeterministic-v4), EnvSpec(Asteroids-ramNoFrameskip-v0), EnvSpec(Asteroids-ramNoFrameskip-v4), EnvSpec(Atlantis-v0), EnvSpec(Atlantis-v4), EnvSpec(AtlantisDeterministic-v0), EnvSpec(AtlantisDeterministic-v4), EnvSpec(AtlantisNoFrameskip-v0), EnvSpec(AtlantisNoFrameskip-v4), EnvSpec(Atlantis-ram-v0), EnvSpec(Atlantis-ram-v4), EnvSpec(Atlantis-ramDeterministic-v0), EnvSpec(Atlantis-ramDeterministic-v4), EnvSpec(Atlantis-ramNoFrameskip-v0), EnvSpec(Atlantis-ramNoFrameskip-v4), EnvSpec(BankHeist-v0), EnvSpec(BankHeist-v4), EnvSpec(BankHeistDeterministic-v0), EnvSpec(BankHeistDeterministic-v4), EnvSpec(BankHeistNoFrameskip-v0), EnvSpec(BankHeistNoFrameskip-v4), EnvSpec(BankHeist-ram-v0), EnvSpec(BankHeist-ram-v4), EnvSpec(BankHeist-ramDeterministic-v0), EnvSpec(BankHeist-ramDeterministic-v4), EnvSpec(BankHeist-ramNoFrameskip-v0), EnvSpec(BankHeist-ramNoFrameskip-v4), EnvSpec(BattleZone-v0), EnvSpec(BattleZone-v4), EnvSpec(BattleZoneDeterministic-v0), EnvSpec(BattleZoneDeterministic-v4), EnvSpec(BattleZoneNoFrameskip-v0), EnvSpec(BattleZoneNoFrameskip-v4), EnvSpec(BattleZone-ram-v0), EnvSpec(BattleZone-ram-v4), EnvSpec(BattleZone-ramDeterministic-v0), EnvSpec(BattleZone-ramDeterministic-v4), EnvSpec(BattleZone-ramNoFrameskip-v0), EnvSpec(BattleZone-ramNoFrameskip-v4), EnvSpec(BeamRider-v0), EnvSpec(BeamRider-v4), EnvSpec(BeamRiderDeterministic-v0), EnvSpec(BeamRiderDeterministic-v4), EnvSpec(BeamRiderNoFrameskip-v0), EnvSpec(BeamRiderNoFrameskip-v4), EnvSpec(BeamRider-ram-v0), EnvSpec(BeamRider-ram-v4), EnvSpec(BeamRider-ramDeterministic-v0), EnvSpec(BeamRider-ramDeterministic-v4), EnvSpec(BeamRider-ramNoFrameskip-v0), EnvSpec(BeamRider-ramNoFrameskip-v4), EnvSpec(Berzerk-v0), EnvSpec(Berzerk-v4), EnvSpec(BerzerkDeterministic-v0), EnvSpec(BerzerkDeterministic-v4), EnvSpec(BerzerkNoFrameskip-v0), EnvSpec(BerzerkNoFrameskip-v4), EnvSpec(Berzerk-ram-v0), EnvSpec(Berzerk-ram-v4), EnvSpec(Berzerk-ramDeterministic-v0), EnvSpec(Berzerk-ramDeterministic-v4), EnvSpec(Berzerk-ramNoFrameskip-v0), EnvSpec(Berzerk-ramNoFrameskip-v4), EnvSpec(Bowling-v0), EnvSpec(Bowling-v4), EnvSpec(BowlingDeterministic-v0), EnvSpec(BowlingDeterministic-v4), EnvSpec(BowlingNoFrameskip-v0), EnvSpec(BowlingNoFrameskip-v4), EnvSpec(Bowling-ram-v0), EnvSpec(Bowling-ram-v4), EnvSpec(Bowling-ramDeterministic-v0), EnvSpec(Bowling-ramDeterministic-v4), EnvSpec(Bowling-ramNoFrameskip-v0), EnvSpec(Bowling-ramNoFrameskip-v4), EnvSpec(Boxing-v0), EnvSpec(Boxing-v4), EnvSpec(BoxingDeterministic-v0), EnvSpec(BoxingDeterministic-v4), EnvSpec(BoxingNoFrameskip-v0), EnvSpec(BoxingNoFrameskip-v4), EnvSpec(Boxing-ram-v0), EnvSpec(Boxing-ram-v4), EnvSpec(Boxing-ramDeterministic-v0), EnvSpec(Boxing-ramDeterministic-v4), EnvSpec(Boxing-ramNoFrameskip-v0), EnvSpec(Boxing-ramNoFrameskip-v4), EnvSpec(Breakout-v0), EnvSpec(Breakout-v4), EnvSpec(BreakoutDeterministic-v0), EnvSpec(BreakoutDeterministic-v4), EnvSpec(BreakoutNoFrameskip-v0), EnvSpec(BreakoutNoFrameskip-v4), EnvSpec(Breakout-ram-v0), EnvSpec(Breakout-ram-v4), EnvSpec(Breakout-ramDeterministic-v0), EnvSpec(Breakout-ramDeterministic-v4), EnvSpec(Breakout-ramNoFrameskip-v0), EnvSpec(Breakout-ramNoFrameskip-v4), EnvSpec(Carnival-v0), EnvSpec(Carnival-v4), EnvSpec(CarnivalDeterministic-v0), EnvSpec(CarnivalDeterministic-v4), EnvSpec(CarnivalNoFrameskip-v0), EnvSpec(CarnivalNoFrameskip-v4), EnvSpec(Carnival-ram-v0), EnvSpec(Carnival-ram-v4), EnvSpec(Carnival-ramDeterministic-v0), EnvSpec(Carnival-ramDeterministic-v4), EnvSpec(Carnival-ramNoFrameskip-v0), EnvSpec(Carnival-ramNoFrameskip-v4), EnvSpec(Centipede-v0), EnvSpec(Centipede-v4), EnvSpec(CentipedeDeterministic-v0), EnvSpec(CentipedeDeterministic-v4), EnvSpec(CentipedeNoFrameskip-v0), EnvSpec(CentipedeNoFrameskip-v4), EnvSpec(Centipede-ram-v0), EnvSpec(Centipede-ram-v4), EnvSpec(Centipede-ramDeterministic-v0), EnvSpec(Centipede-ramDeterministic-v4), EnvSpec(Centipede-ramNoFrameskip-v0), EnvSpec(Centipede-ramNoFrameskip-v4), EnvSpec(ChopperCommand-v0), EnvSpec(ChopperCommand-v4), EnvSpec(ChopperCommandDeterministic-v0), EnvSpec(ChopperCommandDeterministic-v4), EnvSpec(ChopperCommandNoFrameskip-v0), EnvSpec(ChopperCommandNoFrameskip-v4), EnvSpec(ChopperCommand-ram-v0), EnvSpec(ChopperCommand-ram-v4), EnvSpec(ChopperCommand-ramDeterministic-v0), EnvSpec(ChopperCommand-ramDeterministic-v4), EnvSpec(ChopperCommand-ramNoFrameskip-v0), EnvSpec(ChopperCommand-ramNoFrameskip-v4), EnvSpec(CrazyClimber-v0), EnvSpec(CrazyClimber-v4), EnvSpec(CrazyClimberDeterministic-v0), EnvSpec(CrazyClimberDeterministic-v4), EnvSpec(CrazyClimberNoFrameskip-v0), EnvSpec(CrazyClimberNoFrameskip-v4), EnvSpec(CrazyClimber-ram-v0), EnvSpec(CrazyClimber-ram-v4), EnvSpec(CrazyClimber-ramDeterministic-v0), EnvSpec(CrazyClimber-ramDeterministic-v4), EnvSpec(CrazyClimber-ramNoFrameskip-v0), EnvSpec(CrazyClimber-ramNoFrameskip-v4), EnvSpec(Defender-v0), EnvSpec(Defender-v4), EnvSpec(DefenderDeterministic-v0), EnvSpec(DefenderDeterministic-v4), EnvSpec(DefenderNoFrameskip-v0), EnvSpec(DefenderNoFrameskip-v4), EnvSpec(Defender-ram-v0), EnvSpec(Defender-ram-v4), EnvSpec(Defender-ramDeterministic-v0), EnvSpec(Defender-ramDeterministic-v4), EnvSpec(Defender-ramNoFrameskip-v0), EnvSpec(Defender-ramNoFrameskip-v4), EnvSpec(DemonAttack-v0), EnvSpec(DemonAttack-v4), EnvSpec(DemonAttackDeterministic-v0), EnvSpec(DemonAttackDeterministic-v4), EnvSpec(DemonAttackNoFrameskip-v0), EnvSpec(DemonAttackNoFrameskip-v4), EnvSpec(DemonAttack-ram-v0), EnvSpec(DemonAttack-ram-v4), EnvSpec(DemonAttack-ramDeterministic-v0), EnvSpec(DemonAttack-ramDeterministic-v4), EnvSpec(DemonAttack-ramNoFrameskip-v0), EnvSpec(DemonAttack-ramNoFrameskip-v4), EnvSpec(DoubleDunk-v0), EnvSpec(DoubleDunk-v4), EnvSpec(DoubleDunkDeterministic-v0), EnvSpec(DoubleDunkDeterministic-v4), EnvSpec(DoubleDunkNoFrameskip-v0), EnvSpec(DoubleDunkNoFrameskip-v4), EnvSpec(DoubleDunk-ram-v0), EnvSpec(DoubleDunk-ram-v4), EnvSpec(DoubleDunk-ramDeterministic-v0), EnvSpec(DoubleDunk-ramDeterministic-v4), EnvSpec(DoubleDunk-ramNoFrameskip-v0), EnvSpec(DoubleDunk-ramNoFrameskip-v4), EnvSpec(ElevatorAction-v0), EnvSpec(ElevatorAction-v4), EnvSpec(ElevatorActionDeterministic-v0), EnvSpec(ElevatorActionDeterministic-v4), EnvSpec(ElevatorActionNoFrameskip-v0), EnvSpec(ElevatorActionNoFrameskip-v4), EnvSpec(ElevatorAction-ram-v0), EnvSpec(ElevatorAction-ram-v4), EnvSpec(ElevatorAction-ramDeterministic-v0), EnvSpec(ElevatorAction-ramDeterministic-v4), EnvSpec(ElevatorAction-ramNoFrameskip-v0), EnvSpec(ElevatorAction-ramNoFrameskip-v4), EnvSpec(Enduro-v0), EnvSpec(Enduro-v4), EnvSpec(EnduroDeterministic-v0), EnvSpec(EnduroDeterministic-v4), EnvSpec(EnduroNoFrameskip-v0), EnvSpec(EnduroNoFrameskip-v4), EnvSpec(Enduro-ram-v0), EnvSpec(Enduro-ram-v4), EnvSpec(Enduro-ramDeterministic-v0), EnvSpec(Enduro-ramDeterministic-v4), EnvSpec(Enduro-ramNoFrameskip-v0), EnvSpec(Enduro-ramNoFrameskip-v4), EnvSpec(FishingDerby-v0), EnvSpec(FishingDerby-v4), EnvSpec(FishingDerbyDeterministic-v0), EnvSpec(FishingDerbyDeterministic-v4), EnvSpec(FishingDerbyNoFrameskip-v0), EnvSpec(FishingDerbyNoFrameskip-v4), EnvSpec(FishingDerby-ram-v0), EnvSpec(FishingDerby-ram-v4), EnvSpec(FishingDerby-ramDeterministic-v0), EnvSpec(FishingDerby-ramDeterministic-v4), EnvSpec(FishingDerby-ramNoFrameskip-v0), EnvSpec(FishingDerby-ramNoFrameskip-v4), EnvSpec(Freeway-v0), EnvSpec(Freeway-v4), EnvSpec(FreewayDeterministic-v0), EnvSpec(FreewayDeterministic-v4), EnvSpec(FreewayNoFrameskip-v0), EnvSpec(FreewayNoFrameskip-v4), EnvSpec(Freeway-ram-v0), EnvSpec(Freeway-ram-v4), EnvSpec(Freeway-ramDeterministic-v0), EnvSpec(Freeway-ramDeterministic-v4), EnvSpec(Freeway-ramNoFrameskip-v0), EnvSpec(Freeway-ramNoFrameskip-v4), EnvSpec(Frostbite-v0), EnvSpec(Frostbite-v4), EnvSpec(FrostbiteDeterministic-v0), EnvSpec(FrostbiteDeterministic-v4), EnvSpec(FrostbiteNoFrameskip-v0), EnvSpec(FrostbiteNoFrameskip-v4), EnvSpec(Frostbite-ram-v0), EnvSpec(Frostbite-ram-v4), EnvSpec(Frostbite-ramDeterministic-v0), EnvSpec(Frostbite-ramDeterministic-v4), EnvSpec(Frostbite-ramNoFrameskip-v0), EnvSpec(Frostbite-ramNoFrameskip-v4), EnvSpec(Gopher-v0), EnvSpec(Gopher-v4), EnvSpec(GopherDeterministic-v0), EnvSpec(GopherDeterministic-v4), EnvSpec(GopherNoFrameskip-v0), EnvSpec(GopherNoFrameskip-v4), EnvSpec(Gopher-ram-v0), EnvSpec(Gopher-ram-v4), EnvSpec(Gopher-ramDeterministic-v0), EnvSpec(Gopher-ramDeterministic-v4), EnvSpec(Gopher-ramNoFrameskip-v0), EnvSpec(Gopher-ramNoFrameskip-v4), EnvSpec(Gravitar-v0), EnvSpec(Gravitar-v4), EnvSpec(GravitarDeterministic-v0), EnvSpec(GravitarDeterministic-v4), EnvSpec(GravitarNoFrameskip-v0), EnvSpec(GravitarNoFrameskip-v4), EnvSpec(Gravitar-ram-v0), EnvSpec(Gravitar-ram-v4), EnvSpec(Gravitar-ramDeterministic-v0), EnvSpec(Gravitar-ramDeterministic-v4), EnvSpec(Gravitar-ramNoFrameskip-v0), EnvSpec(Gravitar-ramNoFrameskip-v4), EnvSpec(Hero-v0), EnvSpec(Hero-v4), EnvSpec(HeroDeterministic-v0), EnvSpec(HeroDeterministic-v4), EnvSpec(HeroNoFrameskip-v0), EnvSpec(HeroNoFrameskip-v4), EnvSpec(Hero-ram-v0), EnvSpec(Hero-ram-v4), EnvSpec(Hero-ramDeterministic-v0), EnvSpec(Hero-ramDeterministic-v4), EnvSpec(Hero-ramNoFrameskip-v0), EnvSpec(Hero-ramNoFrameskip-v4), EnvSpec(IceHockey-v0), EnvSpec(IceHockey-v4), EnvSpec(IceHockeyDeterministic-v0), EnvSpec(IceHockeyDeterministic-v4), EnvSpec(IceHockeyNoFrameskip-v0), EnvSpec(IceHockeyNoFrameskip-v4), EnvSpec(IceHockey-ram-v0), EnvSpec(IceHockey-ram-v4), EnvSpec(IceHockey-ramDeterministic-v0), EnvSpec(IceHockey-ramDeterministic-v4), EnvSpec(IceHockey-ramNoFrameskip-v0), EnvSpec(IceHockey-ramNoFrameskip-v4), EnvSpec(Jamesbond-v0), EnvSpec(Jamesbond-v4), EnvSpec(JamesbondDeterministic-v0), EnvSpec(JamesbondDeterministic-v4), EnvSpec(JamesbondNoFrameskip-v0), EnvSpec(JamesbondNoFrameskip-v4), EnvSpec(Jamesbond-ram-v0), EnvSpec(Jamesbond-ram-v4), EnvSpec(Jamesbond-ramDeterministic-v0), EnvSpec(Jamesbond-ramDeterministic-v4), EnvSpec(Jamesbond-ramNoFrameskip-v0), EnvSpec(Jamesbond-ramNoFrameskip-v4), EnvSpec(JourneyEscape-v0), EnvSpec(JourneyEscape-v4), EnvSpec(JourneyEscapeDeterministic-v0), EnvSpec(JourneyEscapeDeterministic-v4), EnvSpec(JourneyEscapeNoFrameskip-v0), EnvSpec(JourneyEscapeNoFrameskip-v4), EnvSpec(JourneyEscape-ram-v0), EnvSpec(JourneyEscape-ram-v4), EnvSpec(JourneyEscape-ramDeterministic-v0), EnvSpec(JourneyEscape-ramDeterministic-v4), EnvSpec(JourneyEscape-ramNoFrameskip-v0), EnvSpec(JourneyEscape-ramNoFrameskip-v4), EnvSpec(Kangaroo-v0), EnvSpec(Kangaroo-v4), EnvSpec(KangarooDeterministic-v0), EnvSpec(KangarooDeterministic-v4), EnvSpec(KangarooNoFrameskip-v0), EnvSpec(KangarooNoFrameskip-v4), EnvSpec(Kangaroo-ram-v0), EnvSpec(Kangaroo-ram-v4), EnvSpec(Kangaroo-ramDeterministic-v0), EnvSpec(Kangaroo-ramDeterministic-v4), EnvSpec(Kangaroo-ramNoFrameskip-v0), EnvSpec(Kangaroo-ramNoFrameskip-v4), EnvSpec(Krull-v0), EnvSpec(Krull-v4), EnvSpec(KrullDeterministic-v0), EnvSpec(KrullDeterministic-v4), EnvSpec(KrullNoFrameskip-v0), EnvSpec(KrullNoFrameskip-v4), EnvSpec(Krull-ram-v0), EnvSpec(Krull-ram-v4), EnvSpec(Krull-ramDeterministic-v0), EnvSpec(Krull-ramDeterministic-v4), EnvSpec(Krull-ramNoFrameskip-v0), EnvSpec(Krull-ramNoFrameskip-v4), EnvSpec(KungFuMaster-v0), EnvSpec(KungFuMaster-v4), EnvSpec(KungFuMasterDeterministic-v0), EnvSpec(KungFuMasterDeterministic-v4), EnvSpec(KungFuMasterNoFrameskip-v0), EnvSpec(KungFuMasterNoFrameskip-v4), EnvSpec(KungFuMaster-ram-v0), EnvSpec(KungFuMaster-ram-v4), EnvSpec(KungFuMaster-ramDeterministic-v0), EnvSpec(KungFuMaster-ramDeterministic-v4), EnvSpec(KungFuMaster-ramNoFrameskip-v0), EnvSpec(KungFuMaster-ramNoFrameskip-v4), EnvSpec(MontezumaRevenge-v0), EnvSpec(MontezumaRevenge-v4), EnvSpec(MontezumaRevengeDeterministic-v0), EnvSpec(MontezumaRevengeDeterministic-v4), EnvSpec(MontezumaRevengeNoFrameskip-v0), EnvSpec(MontezumaRevengeNoFrameskip-v4), EnvSpec(MontezumaRevenge-ram-v0), EnvSpec(MontezumaRevenge-ram-v4), EnvSpec(MontezumaRevenge-ramDeterministic-v0), EnvSpec(MontezumaRevenge-ramDeterministic-v4), EnvSpec(MontezumaRevenge-ramNoFrameskip-v0), EnvSpec(MontezumaRevenge-ramNoFrameskip-v4), EnvSpec(MsPacman-v0), EnvSpec(MsPacman-v4), EnvSpec(MsPacmanDeterministic-v0), EnvSpec(MsPacmanDeterministic-v4), EnvSpec(MsPacmanNoFrameskip-v0), EnvSpec(MsPacmanNoFrameskip-v4), EnvSpec(MsPacman-ram-v0), EnvSpec(MsPacman-ram-v4), EnvSpec(MsPacman-ramDeterministic-v0), EnvSpec(MsPacman-ramDeterministic-v4), EnvSpec(MsPacman-ramNoFrameskip-v0), EnvSpec(MsPacman-ramNoFrameskip-v4), EnvSpec(NameThisGame-v0), EnvSpec(NameThisGame-v4), EnvSpec(NameThisGameDeterministic-v0), EnvSpec(NameThisGameDeterministic-v4), EnvSpec(NameThisGameNoFrameskip-v0), EnvSpec(NameThisGameNoFrameskip-v4), EnvSpec(NameThisGame-ram-v0), EnvSpec(NameThisGame-ram-v4), EnvSpec(NameThisGame-ramDeterministic-v0), EnvSpec(NameThisGame-ramDeterministic-v4), EnvSpec(NameThisGame-ramNoFrameskip-v0), EnvSpec(NameThisGame-ramNoFrameskip-v4), EnvSpec(Phoenix-v0), EnvSpec(Phoenix-v4), EnvSpec(PhoenixDeterministic-v0), EnvSpec(PhoenixDeterministic-v4), EnvSpec(PhoenixNoFrameskip-v0), EnvSpec(PhoenixNoFrameskip-v4), EnvSpec(Phoenix-ram-v0), EnvSpec(Phoenix-ram-v4), EnvSpec(Phoenix-ramDeterministic-v0), EnvSpec(Phoenix-ramDeterministic-v4), EnvSpec(Phoenix-ramNoFrameskip-v0), EnvSpec(Phoenix-ramNoFrameskip-v4), EnvSpec(Pitfall-v0), EnvSpec(Pitfall-v4), EnvSpec(PitfallDeterministic-v0), EnvSpec(PitfallDeterministic-v4), EnvSpec(PitfallNoFrameskip-v0), EnvSpec(PitfallNoFrameskip-v4), EnvSpec(Pitfall-ram-v0), EnvSpec(Pitfall-ram-v4), EnvSpec(Pitfall-ramDeterministic-v0), EnvSpec(Pitfall-ramDeterministic-v4), EnvSpec(Pitfall-ramNoFrameskip-v0), EnvSpec(Pitfall-ramNoFrameskip-v4), EnvSpec(Pong-v0), EnvSpec(Pong-v4), EnvSpec(PongDeterministic-v0), EnvSpec(PongDeterministic-v4), EnvSpec(PongNoFrameskip-v0), EnvSpec(PongNoFrameskip-v4), EnvSpec(Pong-ram-v0), EnvSpec(Pong-ram-v4), EnvSpec(Pong-ramDeterministic-v0), EnvSpec(Pong-ramDeterministic-v4), EnvSpec(Pong-ramNoFrameskip-v0), EnvSpec(Pong-ramNoFrameskip-v4), EnvSpec(Pooyan-v0), EnvSpec(Pooyan-v4), EnvSpec(PooyanDeterministic-v0), EnvSpec(PooyanDeterministic-v4), EnvSpec(PooyanNoFrameskip-v0), EnvSpec(PooyanNoFrameskip-v4), EnvSpec(Pooyan-ram-v0), EnvSpec(Pooyan-ram-v4), EnvSpec(Pooyan-ramDeterministic-v0), EnvSpec(Pooyan-ramDeterministic-v4), EnvSpec(Pooyan-ramNoFrameskip-v0), EnvSpec(Pooyan-ramNoFrameskip-v4), EnvSpec(PrivateEye-v0), EnvSpec(PrivateEye-v4), EnvSpec(PrivateEyeDeterministic-v0), EnvSpec(PrivateEyeDeterministic-v4), EnvSpec(PrivateEyeNoFrameskip-v0), EnvSpec(PrivateEyeNoFrameskip-v4), EnvSpec(PrivateEye-ram-v0), EnvSpec(PrivateEye-ram-v4), EnvSpec(PrivateEye-ramDeterministic-v0), EnvSpec(PrivateEye-ramDeterministic-v4), EnvSpec(PrivateEye-ramNoFrameskip-v0), EnvSpec(PrivateEye-ramNoFrameskip-v4), EnvSpec(Qbert-v0), EnvSpec(Qbert-v4), EnvSpec(QbertDeterministic-v0), EnvSpec(QbertDeterministic-v4), EnvSpec(QbertNoFrameskip-v0), EnvSpec(QbertNoFrameskip-v4), EnvSpec(Qbert-ram-v0), EnvSpec(Qbert-ram-v4), EnvSpec(Qbert-ramDeterministic-v0), EnvSpec(Qbert-ramDeterministic-v4), EnvSpec(Qbert-ramNoFrameskip-v0), EnvSpec(Qbert-ramNoFrameskip-v4), EnvSpec(Riverraid-v0), EnvSpec(Riverraid-v4), EnvSpec(RiverraidDeterministic-v0), EnvSpec(RiverraidDeterministic-v4), EnvSpec(RiverraidNoFrameskip-v0), EnvSpec(RiverraidNoFrameskip-v4), EnvSpec(Riverraid-ram-v0), EnvSpec(Riverraid-ram-v4), EnvSpec(Riverraid-ramDeterministic-v0), EnvSpec(Riverraid-ramDeterministic-v4), EnvSpec(Riverraid-ramNoFrameskip-v0), EnvSpec(Riverraid-ramNoFrameskip-v4), EnvSpec(RoadRunner-v0), EnvSpec(RoadRunner-v4), EnvSpec(RoadRunnerDeterministic-v0), EnvSpec(RoadRunnerDeterministic-v4), EnvSpec(RoadRunnerNoFrameskip-v0), EnvSpec(RoadRunnerNoFrameskip-v4), EnvSpec(RoadRunner-ram-v0), EnvSpec(RoadRunner-ram-v4), EnvSpec(RoadRunner-ramDeterministic-v0), EnvSpec(RoadRunner-ramDeterministic-v4), EnvSpec(RoadRunner-ramNoFrameskip-v0), EnvSpec(RoadRunner-ramNoFrameskip-v4), EnvSpec(Robotank-v0), EnvSpec(Robotank-v4), EnvSpec(RobotankDeterministic-v0), EnvSpec(RobotankDeterministic-v4), EnvSpec(RobotankNoFrameskip-v0), EnvSpec(RobotankNoFrameskip-v4), EnvSpec(Robotank-ram-v0), EnvSpec(Robotank-ram-v4), EnvSpec(Robotank-ramDeterministic-v0), EnvSpec(Robotank-ramDeterministic-v4), EnvSpec(Robotank-ramNoFrameskip-v0), EnvSpec(Robotank-ramNoFrameskip-v4), EnvSpec(Seaquest-v0), EnvSpec(Seaquest-v4), EnvSpec(SeaquestDeterministic-v0), EnvSpec(SeaquestDeterministic-v4), EnvSpec(SeaquestNoFrameskip-v0), EnvSpec(SeaquestNoFrameskip-v4), EnvSpec(Seaquest-ram-v0), EnvSpec(Seaquest-ram-v4), EnvSpec(Seaquest-ramDeterministic-v0), EnvSpec(Seaquest-ramDeterministic-v4), EnvSpec(Seaquest-ramNoFrameskip-v0), EnvSpec(Seaquest-ramNoFrameskip-v4), EnvSpec(Skiing-v0), EnvSpec(Skiing-v4), EnvSpec(SkiingDeterministic-v0), EnvSpec(SkiingDeterministic-v4), EnvSpec(SkiingNoFrameskip-v0), EnvSpec(SkiingNoFrameskip-v4), EnvSpec(Skiing-ram-v0), EnvSpec(Skiing-ram-v4), EnvSpec(Skiing-ramDeterministic-v0), EnvSpec(Skiing-ramDeterministic-v4), EnvSpec(Skiing-ramNoFrameskip-v0), EnvSpec(Skiing-ramNoFrameskip-v4), EnvSpec(Solaris-v0), EnvSpec(Solaris-v4), EnvSpec(SolarisDeterministic-v0), EnvSpec(SolarisDeterministic-v4), EnvSpec(SolarisNoFrameskip-v0), EnvSpec(SolarisNoFrameskip-v4), EnvSpec(Solaris-ram-v0), EnvSpec(Solaris-ram-v4), EnvSpec(Solaris-ramDeterministic-v0), EnvSpec(Solaris-ramDeterministic-v4), EnvSpec(Solaris-ramNoFrameskip-v0), EnvSpec(Solaris-ramNoFrameskip-v4), EnvSpec(SpaceInvaders-v0), EnvSpec(SpaceInvaders-v4), EnvSpec(SpaceInvadersDeterministic-v0), EnvSpec(SpaceInvadersDeterministic-v4), EnvSpec(SpaceInvadersNoFrameskip-v0), EnvSpec(SpaceInvadersNoFrameskip-v4), EnvSpec(SpaceInvaders-ram-v0), EnvSpec(SpaceInvaders-ram-v4), EnvSpec(SpaceInvaders-ramDeterministic-v0), EnvSpec(SpaceInvaders-ramDeterministic-v4), EnvSpec(SpaceInvaders-ramNoFrameskip-v0), EnvSpec(SpaceInvaders-ramNoFrameskip-v4), EnvSpec(StarGunner-v0), EnvSpec(StarGunner-v4), EnvSpec(StarGunnerDeterministic-v0), EnvSpec(StarGunnerDeterministic-v4), EnvSpec(StarGunnerNoFrameskip-v0), EnvSpec(StarGunnerNoFrameskip-v4), EnvSpec(StarGunner-ram-v0), EnvSpec(StarGunner-ram-v4), EnvSpec(StarGunner-ramDeterministic-v0), EnvSpec(StarGunner-ramDeterministic-v4), EnvSpec(StarGunner-ramNoFrameskip-v0), EnvSpec(StarGunner-ramNoFrameskip-v4), EnvSpec(Tennis-v0), EnvSpec(Tennis-v4), EnvSpec(TennisDeterministic-v0), EnvSpec(TennisDeterministic-v4), EnvSpec(TennisNoFrameskip-v0), EnvSpec(TennisNoFrameskip-v4), EnvSpec(Tennis-ram-v0), EnvSpec(Tennis-ram-v4), EnvSpec(Tennis-ramDeterministic-v0), EnvSpec(Tennis-ramDeterministic-v4), EnvSpec(Tennis-ramNoFrameskip-v0), EnvSpec(Tennis-ramNoFrameskip-v4), EnvSpec(TimePilot-v0), EnvSpec(TimePilot-v4), EnvSpec(TimePilotDeterministic-v0), EnvSpec(TimePilotDeterministic-v4), EnvSpec(TimePilotNoFrameskip-v0), EnvSpec(TimePilotNoFrameskip-v4), EnvSpec(TimePilot-ram-v0), EnvSpec(TimePilot-ram-v4), EnvSpec(TimePilot-ramDeterministic-v0), EnvSpec(TimePilot-ramDeterministic-v4), EnvSpec(TimePilot-ramNoFrameskip-v0), EnvSpec(TimePilot-ramNoFrameskip-v4), EnvSpec(Tutankham-v0), EnvSpec(Tutankham-v4), EnvSpec(TutankhamDeterministic-v0), EnvSpec(TutankhamDeterministic-v4), EnvSpec(TutankhamNoFrameskip-v0), EnvSpec(TutankhamNoFrameskip-v4), EnvSpec(Tutankham-ram-v0), EnvSpec(Tutankham-ram-v4), EnvSpec(Tutankham-ramDeterministic-v0), EnvSpec(Tutankham-ramDeterministic-v4), EnvSpec(Tutankham-ramNoFrameskip-v0), EnvSpec(Tutankham-ramNoFrameskip-v4), EnvSpec(UpNDown-v0), EnvSpec(UpNDown-v4), EnvSpec(UpNDownDeterministic-v0), EnvSpec(UpNDownDeterministic-v4), EnvSpec(UpNDownNoFrameskip-v0), EnvSpec(UpNDownNoFrameskip-v4), EnvSpec(UpNDown-ram-v0), EnvSpec(UpNDown-ram-v4), EnvSpec(UpNDown-ramDeterministic-v0), EnvSpec(UpNDown-ramDeterministic-v4), EnvSpec(UpNDown-ramNoFrameskip-v0), EnvSpec(UpNDown-ramNoFrameskip-v4), EnvSpec(Venture-v0), EnvSpec(Venture-v4), EnvSpec(VentureDeterministic-v0), EnvSpec(VentureDeterministic-v4), EnvSpec(VentureNoFrameskip-v0), EnvSpec(VentureNoFrameskip-v4), EnvSpec(Venture-ram-v0), EnvSpec(Venture-ram-v4), EnvSpec(Venture-ramDeterministic-v0), EnvSpec(Venture-ramDeterministic-v4), EnvSpec(Venture-ramNoFrameskip-v0), EnvSpec(Venture-ramNoFrameskip-v4), EnvSpec(VideoPinball-v0), EnvSpec(VideoPinball-v4), EnvSpec(VideoPinballDeterministic-v0), EnvSpec(VideoPinballDeterministic-v4), EnvSpec(VideoPinballNoFrameskip-v0), EnvSpec(VideoPinballNoFrameskip-v4), EnvSpec(VideoPinball-ram-v0), EnvSpec(VideoPinball-ram-v4), EnvSpec(VideoPinball-ramDeterministic-v0), EnvSpec(VideoPinball-ramDeterministic-v4), EnvSpec(VideoPinball-ramNoFrameskip-v0), EnvSpec(VideoPinball-ramNoFrameskip-v4), EnvSpec(WizardOfWor-v0), EnvSpec(WizardOfWor-v4), EnvSpec(WizardOfWorDeterministic-v0), EnvSpec(WizardOfWorDeterministic-v4), EnvSpec(WizardOfWorNoFrameskip-v0), EnvSpec(WizardOfWorNoFrameskip-v4), EnvSpec(WizardOfWor-ram-v0), EnvSpec(WizardOfWor-ram-v4), EnvSpec(WizardOfWor-ramDeterministic-v0), EnvSpec(WizardOfWor-ramDeterministic-v4), EnvSpec(WizardOfWor-ramNoFrameskip-v0), EnvSpec(WizardOfWor-ramNoFrameskip-v4), EnvSpec(YarsRevenge-v0), EnvSpec(YarsRevenge-v4), EnvSpec(YarsRevengeDeterministic-v0), EnvSpec(YarsRevengeDeterministic-v4), EnvSpec(YarsRevengeNoFrameskip-v0), EnvSpec(YarsRevengeNoFrameskip-v4), EnvSpec(YarsRevenge-ram-v0), EnvSpec(YarsRevenge-ram-v4), EnvSpec(YarsRevenge-ramDeterministic-v0), EnvSpec(YarsRevenge-ramDeterministic-v4), EnvSpec(YarsRevenge-ramNoFrameskip-v0), EnvSpec(YarsRevenge-ramNoFrameskip-v4), EnvSpec(Zaxxon-v0), EnvSpec(Zaxxon-v4), EnvSpec(ZaxxonDeterministic-v0), EnvSpec(ZaxxonDeterministic-v4), EnvSpec(ZaxxonNoFrameskip-v0), EnvSpec(ZaxxonNoFrameskip-v4), EnvSpec(Zaxxon-ram-v0), EnvSpec(Zaxxon-ram-v4), EnvSpec(Zaxxon-ramDeterministic-v0), EnvSpec(Zaxxon-ramDeterministic-v4), EnvSpec(Zaxxon-ramNoFrameskip-v0), EnvSpec(Zaxxon-ramNoFrameskip-v4), EnvSpec(CubeCrash-v0), EnvSpec(CubeCrashSparse-v0), EnvSpec(CubeCrashScreenBecomesBlack-v0), EnvSpec(MemorizeDigits-v0)])\n"
          ],
          "name": "stdout"
        }
      ]
    },
    {
      "cell_type": "markdown",
      "metadata": {
        "id": "2fMd3XbcHBAw"
      },
      "source": [
        "### Simulando el entorno ATARI"
      ]
    },
    {
      "cell_type": "code",
      "metadata": {
        "id": "NKB6Yc6oHEA7"
      },
      "source": [
        "!pip install gym[atari]"
      ],
      "execution_count": null,
      "outputs": []
    },
    {
      "cell_type": "code",
      "metadata": {
        "colab": {
          "base_uri": "https://localhost:8080/"
        },
        "id": "3Do1h38PHM3F",
        "outputId": "adf3466f-0018-483a-c5e0-35f2d5ea2982"
      },
      "source": [
        "import gym\n",
        "\n",
        "env = gym.make('SpaceInvaders-v0')\n",
        "env.reset()\n",
        "env.render()"
      ],
      "execution_count": null,
      "outputs": [
        {
          "output_type": "execute_result",
          "data": {
            "text/plain": [
              "True"
            ]
          },
          "metadata": {
            "tags": []
          },
          "execution_count": 12
        }
      ]
    },
    {
      "cell_type": "code",
      "metadata": {
        "colab": {
          "base_uri": "https://localhost:8080/"
        },
        "id": "TdQudTDHHNzM",
        "outputId": "9bf61f31-aa2a-458f-951a-b726fd9d8638"
      },
      "source": [
        "accion = env.action_space.sample()\n",
        "nuevo_estado, recompensa, realizado, info = env.step(accion)\n",
        "print(realizado)"
      ],
      "execution_count": null,
      "outputs": [
        {
          "output_type": "stream",
          "text": [
            "False\n"
          ],
          "name": "stdout"
        }
      ]
    },
    {
      "cell_type": "code",
      "metadata": {
        "colab": {
          "base_uri": "https://localhost:8080/"
        },
        "id": "4mzviqn3HQSz",
        "outputId": "69d90238-d781-4553-e2d8-db2d3838694d"
      },
      "source": [
        "print(info)"
      ],
      "execution_count": null,
      "outputs": [
        {
          "output_type": "stream",
          "text": [
            "{'ale.lives': 3}\n"
          ],
          "name": "stdout"
        }
      ]
    },
    {
      "cell_type": "code",
      "metadata": {
        "colab": {
          "base_uri": "https://localhost:8080/"
        },
        "id": "SwOxIKXLHUv-",
        "outputId": "7de8a541-505b-4c94-d3ac-df9ce37af0a0"
      },
      "source": [
        "env.render()"
      ],
      "execution_count": null,
      "outputs": [
        {
          "output_type": "execute_result",
          "data": {
            "text/plain": [
              "True"
            ]
          },
          "metadata": {
            "tags": []
          },
          "execution_count": 15
        }
      ]
    },
    {
      "cell_type": "code",
      "metadata": {
        "colab": {
          "base_uri": "https://localhost:8080/"
        },
        "id": "Wna75Nz3HYA6",
        "outputId": "38b9d46e-b548-4540-afb2-bc13b8a9f5a5"
      },
      "source": [
        "realizado = False\n",
        "while not realizado:\n",
        "  accion = env.action_space.sample()\n",
        "  nuevo_estado, recompensa, realizado, info = env.step(accion)\n",
        "  print(info)\n",
        "  env.render()"
      ],
      "execution_count": null,
      "outputs": [
        {
          "output_type": "stream",
          "text": [
            "{'ale.lives': 3}\n",
            "{'ale.lives': 3}\n",
            "{'ale.lives': 3}\n",
            "{'ale.lives': 3}\n",
            "{'ale.lives': 3}\n",
            "{'ale.lives': 3}\n",
            "{'ale.lives': 3}\n",
            "{'ale.lives': 3}\n",
            "{'ale.lives': 3}\n",
            "{'ale.lives': 3}\n",
            "{'ale.lives': 3}\n",
            "{'ale.lives': 3}\n",
            "{'ale.lives': 3}\n",
            "{'ale.lives': 3}\n",
            "{'ale.lives': 3}\n",
            "{'ale.lives': 3}\n",
            "{'ale.lives': 3}\n",
            "{'ale.lives': 3}\n",
            "{'ale.lives': 3}\n",
            "{'ale.lives': 3}\n",
            "{'ale.lives': 3}\n",
            "{'ale.lives': 3}\n",
            "{'ale.lives': 3}\n",
            "{'ale.lives': 3}\n",
            "{'ale.lives': 3}\n",
            "{'ale.lives': 3}\n",
            "{'ale.lives': 3}\n",
            "{'ale.lives': 3}\n",
            "{'ale.lives': 3}\n",
            "{'ale.lives': 3}\n",
            "{'ale.lives': 3}\n",
            "{'ale.lives': 3}\n",
            "{'ale.lives': 3}\n",
            "{'ale.lives': 3}\n",
            "{'ale.lives': 3}\n",
            "{'ale.lives': 3}\n",
            "{'ale.lives': 3}\n",
            "{'ale.lives': 3}\n",
            "{'ale.lives': 3}\n",
            "{'ale.lives': 3}\n",
            "{'ale.lives': 3}\n",
            "{'ale.lives': 3}\n",
            "{'ale.lives': 3}\n",
            "{'ale.lives': 3}\n",
            "{'ale.lives': 3}\n",
            "{'ale.lives': 3}\n",
            "{'ale.lives': 3}\n",
            "{'ale.lives': 3}\n",
            "{'ale.lives': 3}\n",
            "{'ale.lives': 3}\n",
            "{'ale.lives': 3}\n",
            "{'ale.lives': 3}\n",
            "{'ale.lives': 3}\n",
            "{'ale.lives': 3}\n",
            "{'ale.lives': 3}\n",
            "{'ale.lives': 3}\n",
            "{'ale.lives': 3}\n",
            "{'ale.lives': 3}\n",
            "{'ale.lives': 3}\n",
            "{'ale.lives': 3}\n",
            "{'ale.lives': 3}\n",
            "{'ale.lives': 3}\n",
            "{'ale.lives': 3}\n",
            "{'ale.lives': 3}\n",
            "{'ale.lives': 3}\n",
            "{'ale.lives': 3}\n",
            "{'ale.lives': 3}\n",
            "{'ale.lives': 3}\n",
            "{'ale.lives': 3}\n",
            "{'ale.lives': 3}\n",
            "{'ale.lives': 3}\n",
            "{'ale.lives': 3}\n",
            "{'ale.lives': 3}\n",
            "{'ale.lives': 3}\n",
            "{'ale.lives': 3}\n",
            "{'ale.lives': 3}\n",
            "{'ale.lives': 3}\n",
            "{'ale.lives': 3}\n",
            "{'ale.lives': 3}\n",
            "{'ale.lives': 3}\n",
            "{'ale.lives': 3}\n",
            "{'ale.lives': 3}\n",
            "{'ale.lives': 3}\n",
            "{'ale.lives': 3}\n",
            "{'ale.lives': 3}\n",
            "{'ale.lives': 3}\n",
            "{'ale.lives': 3}\n",
            "{'ale.lives': 3}\n",
            "{'ale.lives': 3}\n",
            "{'ale.lives': 3}\n",
            "{'ale.lives': 3}\n",
            "{'ale.lives': 3}\n",
            "{'ale.lives': 3}\n",
            "{'ale.lives': 3}\n",
            "{'ale.lives': 3}\n",
            "{'ale.lives': 3}\n",
            "{'ale.lives': 3}\n",
            "{'ale.lives': 3}\n",
            "{'ale.lives': 3}\n",
            "{'ale.lives': 3}\n",
            "{'ale.lives': 3}\n",
            "{'ale.lives': 3}\n",
            "{'ale.lives': 3}\n",
            "{'ale.lives': 3}\n",
            "{'ale.lives': 3}\n",
            "{'ale.lives': 3}\n",
            "{'ale.lives': 3}\n",
            "{'ale.lives': 3}\n",
            "{'ale.lives': 3}\n",
            "{'ale.lives': 3}\n",
            "{'ale.lives': 3}\n",
            "{'ale.lives': 3}\n",
            "{'ale.lives': 3}\n",
            "{'ale.lives': 3}\n",
            "{'ale.lives': 3}\n",
            "{'ale.lives': 3}\n",
            "{'ale.lives': 3}\n",
            "{'ale.lives': 3}\n",
            "{'ale.lives': 3}\n",
            "{'ale.lives': 3}\n",
            "{'ale.lives': 3}\n",
            "{'ale.lives': 3}\n",
            "{'ale.lives': 3}\n",
            "{'ale.lives': 3}\n",
            "{'ale.lives': 3}\n",
            "{'ale.lives': 3}\n",
            "{'ale.lives': 3}\n",
            "{'ale.lives': 3}\n",
            "{'ale.lives': 3}\n",
            "{'ale.lives': 3}\n",
            "{'ale.lives': 3}\n",
            "{'ale.lives': 3}\n",
            "{'ale.lives': 3}\n",
            "{'ale.lives': 3}\n",
            "{'ale.lives': 3}\n",
            "{'ale.lives': 3}\n",
            "{'ale.lives': 3}\n",
            "{'ale.lives': 3}\n",
            "{'ale.lives': 3}\n",
            "{'ale.lives': 3}\n",
            "{'ale.lives': 3}\n",
            "{'ale.lives': 3}\n",
            "{'ale.lives': 3}\n",
            "{'ale.lives': 3}\n",
            "{'ale.lives': 3}\n",
            "{'ale.lives': 3}\n",
            "{'ale.lives': 3}\n",
            "{'ale.lives': 3}\n",
            "{'ale.lives': 3}\n",
            "{'ale.lives': 3}\n",
            "{'ale.lives': 3}\n",
            "{'ale.lives': 3}\n",
            "{'ale.lives': 3}\n",
            "{'ale.lives': 3}\n",
            "{'ale.lives': 3}\n",
            "{'ale.lives': 3}\n",
            "{'ale.lives': 3}\n",
            "{'ale.lives': 3}\n",
            "{'ale.lives': 3}\n",
            "{'ale.lives': 3}\n",
            "{'ale.lives': 3}\n",
            "{'ale.lives': 3}\n",
            "{'ale.lives': 3}\n",
            "{'ale.lives': 3}\n",
            "{'ale.lives': 3}\n",
            "{'ale.lives': 3}\n",
            "{'ale.lives': 3}\n",
            "{'ale.lives': 3}\n",
            "{'ale.lives': 3}\n",
            "{'ale.lives': 3}\n",
            "{'ale.lives': 3}\n",
            "{'ale.lives': 3}\n",
            "{'ale.lives': 3}\n",
            "{'ale.lives': 3}\n",
            "{'ale.lives': 3}\n",
            "{'ale.lives': 3}\n",
            "{'ale.lives': 3}\n",
            "{'ale.lives': 3}\n",
            "{'ale.lives': 3}\n",
            "{'ale.lives': 3}\n",
            "{'ale.lives': 3}\n",
            "{'ale.lives': 3}\n",
            "{'ale.lives': 3}\n",
            "{'ale.lives': 3}\n",
            "{'ale.lives': 3}\n",
            "{'ale.lives': 3}\n",
            "{'ale.lives': 3}\n",
            "{'ale.lives': 3}\n",
            "{'ale.lives': 3}\n",
            "{'ale.lives': 3}\n",
            "{'ale.lives': 3}\n",
            "{'ale.lives': 3}\n",
            "{'ale.lives': 3}\n",
            "{'ale.lives': 3}\n",
            "{'ale.lives': 3}\n",
            "{'ale.lives': 3}\n",
            "{'ale.lives': 3}\n",
            "{'ale.lives': 3}\n",
            "{'ale.lives': 3}\n",
            "{'ale.lives': 3}\n",
            "{'ale.lives': 3}\n",
            "{'ale.lives': 3}\n",
            "{'ale.lives': 3}\n",
            "{'ale.lives': 3}\n",
            "{'ale.lives': 3}\n",
            "{'ale.lives': 3}\n",
            "{'ale.lives': 3}\n",
            "{'ale.lives': 3}\n",
            "{'ale.lives': 3}\n",
            "{'ale.lives': 3}\n",
            "{'ale.lives': 3}\n",
            "{'ale.lives': 3}\n",
            "{'ale.lives': 3}\n",
            "{'ale.lives': 3}\n",
            "{'ale.lives': 3}\n",
            "{'ale.lives': 3}\n",
            "{'ale.lives': 3}\n",
            "{'ale.lives': 3}\n",
            "{'ale.lives': 3}\n",
            "{'ale.lives': 3}\n",
            "{'ale.lives': 3}\n",
            "{'ale.lives': 3}\n",
            "{'ale.lives': 3}\n",
            "{'ale.lives': 3}\n",
            "{'ale.lives': 3}\n",
            "{'ale.lives': 3}\n",
            "{'ale.lives': 3}\n",
            "{'ale.lives': 3}\n",
            "{'ale.lives': 3}\n",
            "{'ale.lives': 3}\n",
            "{'ale.lives': 3}\n",
            "{'ale.lives': 3}\n",
            "{'ale.lives': 3}\n",
            "{'ale.lives': 3}\n",
            "{'ale.lives': 3}\n",
            "{'ale.lives': 3}\n",
            "{'ale.lives': 3}\n",
            "{'ale.lives': 3}\n",
            "{'ale.lives': 3}\n",
            "{'ale.lives': 3}\n",
            "{'ale.lives': 3}\n",
            "{'ale.lives': 3}\n",
            "{'ale.lives': 3}\n",
            "{'ale.lives': 3}\n",
            "{'ale.lives': 3}\n",
            "{'ale.lives': 3}\n",
            "{'ale.lives': 3}\n",
            "{'ale.lives': 3}\n",
            "{'ale.lives': 3}\n",
            "{'ale.lives': 3}\n",
            "{'ale.lives': 3}\n",
            "{'ale.lives': 3}\n",
            "{'ale.lives': 3}\n",
            "{'ale.lives': 3}\n",
            "{'ale.lives': 3}\n",
            "{'ale.lives': 3}\n",
            "{'ale.lives': 3}\n",
            "{'ale.lives': 3}\n",
            "{'ale.lives': 3}\n",
            "{'ale.lives': 3}\n",
            "{'ale.lives': 3}\n",
            "{'ale.lives': 3}\n",
            "{'ale.lives': 3}\n",
            "{'ale.lives': 3}\n",
            "{'ale.lives': 3}\n",
            "{'ale.lives': 3}\n",
            "{'ale.lives': 3}\n",
            "{'ale.lives': 3}\n",
            "{'ale.lives': 3}\n",
            "{'ale.lives': 3}\n",
            "{'ale.lives': 3}\n",
            "{'ale.lives': 3}\n",
            "{'ale.lives': 3}\n",
            "{'ale.lives': 3}\n",
            "{'ale.lives': 3}\n",
            "{'ale.lives': 3}\n",
            "{'ale.lives': 3}\n",
            "{'ale.lives': 3}\n",
            "{'ale.lives': 3}\n",
            "{'ale.lives': 3}\n",
            "{'ale.lives': 3}\n",
            "{'ale.lives': 3}\n",
            "{'ale.lives': 3}\n",
            "{'ale.lives': 3}\n",
            "{'ale.lives': 3}\n",
            "{'ale.lives': 3}\n",
            "{'ale.lives': 3}\n",
            "{'ale.lives': 3}\n",
            "{'ale.lives': 3}\n",
            "{'ale.lives': 3}\n",
            "{'ale.lives': 3}\n",
            "{'ale.lives': 3}\n",
            "{'ale.lives': 3}\n",
            "{'ale.lives': 3}\n",
            "{'ale.lives': 3}\n",
            "{'ale.lives': 3}\n",
            "{'ale.lives': 3}\n",
            "{'ale.lives': 3}\n",
            "{'ale.lives': 3}\n",
            "{'ale.lives': 3}\n",
            "{'ale.lives': 3}\n",
            "{'ale.lives': 3}\n",
            "{'ale.lives': 3}\n",
            "{'ale.lives': 3}\n",
            "{'ale.lives': 3}\n",
            "{'ale.lives': 3}\n",
            "{'ale.lives': 3}\n",
            "{'ale.lives': 3}\n",
            "{'ale.lives': 3}\n",
            "{'ale.lives': 3}\n",
            "{'ale.lives': 3}\n",
            "{'ale.lives': 3}\n",
            "{'ale.lives': 3}\n",
            "{'ale.lives': 3}\n",
            "{'ale.lives': 3}\n",
            "{'ale.lives': 3}\n",
            "{'ale.lives': 3}\n",
            "{'ale.lives': 3}\n",
            "{'ale.lives': 3}\n",
            "{'ale.lives': 3}\n",
            "{'ale.lives': 3}\n",
            "{'ale.lives': 3}\n",
            "{'ale.lives': 3}\n",
            "{'ale.lives': 3}\n",
            "{'ale.lives': 3}\n",
            "{'ale.lives': 3}\n",
            "{'ale.lives': 3}\n",
            "{'ale.lives': 3}\n",
            "{'ale.lives': 3}\n",
            "{'ale.lives': 3}\n",
            "{'ale.lives': 3}\n",
            "{'ale.lives': 3}\n",
            "{'ale.lives': 3}\n",
            "{'ale.lives': 3}\n",
            "{'ale.lives': 3}\n",
            "{'ale.lives': 3}\n",
            "{'ale.lives': 3}\n",
            "{'ale.lives': 3}\n",
            "{'ale.lives': 3}\n",
            "{'ale.lives': 3}\n",
            "{'ale.lives': 3}\n",
            "{'ale.lives': 3}\n",
            "{'ale.lives': 3}\n",
            "{'ale.lives': 3}\n",
            "{'ale.lives': 3}\n",
            "{'ale.lives': 3}\n",
            "{'ale.lives': 3}\n",
            "{'ale.lives': 3}\n",
            "{'ale.lives': 3}\n",
            "{'ale.lives': 3}\n",
            "{'ale.lives': 3}\n",
            "{'ale.lives': 3}\n",
            "{'ale.lives': 3}\n",
            "{'ale.lives': 3}\n",
            "{'ale.lives': 3}\n",
            "{'ale.lives': 3}\n",
            "{'ale.lives': 3}\n",
            "{'ale.lives': 3}\n",
            "{'ale.lives': 3}\n",
            "{'ale.lives': 3}\n",
            "{'ale.lives': 3}\n",
            "{'ale.lives': 3}\n",
            "{'ale.lives': 3}\n",
            "{'ale.lives': 3}\n",
            "{'ale.lives': 3}\n",
            "{'ale.lives': 3}\n",
            "{'ale.lives': 3}\n",
            "{'ale.lives': 3}\n",
            "{'ale.lives': 3}\n",
            "{'ale.lives': 3}\n",
            "{'ale.lives': 3}\n",
            "{'ale.lives': 3}\n",
            "{'ale.lives': 3}\n",
            "{'ale.lives': 3}\n",
            "{'ale.lives': 2}\n",
            "{'ale.lives': 2}\n",
            "{'ale.lives': 2}\n",
            "{'ale.lives': 2}\n",
            "{'ale.lives': 2}\n",
            "{'ale.lives': 2}\n",
            "{'ale.lives': 2}\n",
            "{'ale.lives': 2}\n",
            "{'ale.lives': 2}\n",
            "{'ale.lives': 2}\n",
            "{'ale.lives': 2}\n",
            "{'ale.lives': 2}\n",
            "{'ale.lives': 2}\n",
            "{'ale.lives': 2}\n",
            "{'ale.lives': 2}\n",
            "{'ale.lives': 2}\n",
            "{'ale.lives': 2}\n",
            "{'ale.lives': 2}\n",
            "{'ale.lives': 2}\n",
            "{'ale.lives': 2}\n",
            "{'ale.lives': 2}\n",
            "{'ale.lives': 2}\n",
            "{'ale.lives': 2}\n",
            "{'ale.lives': 2}\n",
            "{'ale.lives': 2}\n",
            "{'ale.lives': 2}\n",
            "{'ale.lives': 2}\n",
            "{'ale.lives': 2}\n",
            "{'ale.lives': 2}\n",
            "{'ale.lives': 2}\n",
            "{'ale.lives': 2}\n",
            "{'ale.lives': 2}\n",
            "{'ale.lives': 2}\n",
            "{'ale.lives': 2}\n",
            "{'ale.lives': 2}\n",
            "{'ale.lives': 2}\n",
            "{'ale.lives': 2}\n",
            "{'ale.lives': 2}\n",
            "{'ale.lives': 2}\n",
            "{'ale.lives': 2}\n",
            "{'ale.lives': 2}\n",
            "{'ale.lives': 2}\n",
            "{'ale.lives': 2}\n",
            "{'ale.lives': 2}\n",
            "{'ale.lives': 2}\n",
            "{'ale.lives': 2}\n",
            "{'ale.lives': 2}\n",
            "{'ale.lives': 2}\n",
            "{'ale.lives': 2}\n",
            "{'ale.lives': 2}\n",
            "{'ale.lives': 2}\n",
            "{'ale.lives': 2}\n",
            "{'ale.lives': 2}\n",
            "{'ale.lives': 2}\n",
            "{'ale.lives': 2}\n",
            "{'ale.lives': 2}\n",
            "{'ale.lives': 2}\n",
            "{'ale.lives': 2}\n",
            "{'ale.lives': 2}\n",
            "{'ale.lives': 2}\n",
            "{'ale.lives': 2}\n",
            "{'ale.lives': 2}\n",
            "{'ale.lives': 2}\n",
            "{'ale.lives': 2}\n",
            "{'ale.lives': 2}\n",
            "{'ale.lives': 2}\n",
            "{'ale.lives': 2}\n",
            "{'ale.lives': 2}\n",
            "{'ale.lives': 2}\n",
            "{'ale.lives': 2}\n",
            "{'ale.lives': 2}\n",
            "{'ale.lives': 2}\n",
            "{'ale.lives': 2}\n",
            "{'ale.lives': 2}\n",
            "{'ale.lives': 2}\n",
            "{'ale.lives': 2}\n",
            "{'ale.lives': 2}\n",
            "{'ale.lives': 2}\n",
            "{'ale.lives': 2}\n",
            "{'ale.lives': 2}\n",
            "{'ale.lives': 2}\n",
            "{'ale.lives': 2}\n",
            "{'ale.lives': 2}\n",
            "{'ale.lives': 2}\n",
            "{'ale.lives': 2}\n",
            "{'ale.lives': 2}\n",
            "{'ale.lives': 2}\n",
            "{'ale.lives': 2}\n",
            "{'ale.lives': 2}\n",
            "{'ale.lives': 2}\n",
            "{'ale.lives': 2}\n",
            "{'ale.lives': 2}\n",
            "{'ale.lives': 2}\n",
            "{'ale.lives': 2}\n",
            "{'ale.lives': 2}\n",
            "{'ale.lives': 2}\n",
            "{'ale.lives': 2}\n",
            "{'ale.lives': 2}\n",
            "{'ale.lives': 2}\n",
            "{'ale.lives': 2}\n",
            "{'ale.lives': 2}\n",
            "{'ale.lives': 2}\n",
            "{'ale.lives': 2}\n",
            "{'ale.lives': 2}\n",
            "{'ale.lives': 2}\n",
            "{'ale.lives': 2}\n",
            "{'ale.lives': 2}\n",
            "{'ale.lives': 2}\n",
            "{'ale.lives': 2}\n",
            "{'ale.lives': 2}\n",
            "{'ale.lives': 2}\n",
            "{'ale.lives': 2}\n",
            "{'ale.lives': 2}\n",
            "{'ale.lives': 2}\n",
            "{'ale.lives': 2}\n",
            "{'ale.lives': 2}\n",
            "{'ale.lives': 2}\n",
            "{'ale.lives': 2}\n",
            "{'ale.lives': 2}\n",
            "{'ale.lives': 2}\n",
            "{'ale.lives': 2}\n",
            "{'ale.lives': 2}\n",
            "{'ale.lives': 2}\n",
            "{'ale.lives': 2}\n",
            "{'ale.lives': 2}\n",
            "{'ale.lives': 2}\n",
            "{'ale.lives': 2}\n",
            "{'ale.lives': 2}\n",
            "{'ale.lives': 2}\n",
            "{'ale.lives': 2}\n",
            "{'ale.lives': 2}\n",
            "{'ale.lives': 2}\n",
            "{'ale.lives': 2}\n",
            "{'ale.lives': 2}\n",
            "{'ale.lives': 2}\n",
            "{'ale.lives': 2}\n",
            "{'ale.lives': 2}\n",
            "{'ale.lives': 2}\n",
            "{'ale.lives': 2}\n",
            "{'ale.lives': 2}\n",
            "{'ale.lives': 2}\n",
            "{'ale.lives': 2}\n",
            "{'ale.lives': 2}\n",
            "{'ale.lives': 2}\n",
            "{'ale.lives': 2}\n",
            "{'ale.lives': 2}\n",
            "{'ale.lives': 2}\n",
            "{'ale.lives': 2}\n",
            "{'ale.lives': 2}\n",
            "{'ale.lives': 2}\n",
            "{'ale.lives': 2}\n",
            "{'ale.lives': 2}\n",
            "{'ale.lives': 2}\n",
            "{'ale.lives': 2}\n",
            "{'ale.lives': 2}\n",
            "{'ale.lives': 2}\n",
            "{'ale.lives': 2}\n",
            "{'ale.lives': 2}\n",
            "{'ale.lives': 2}\n",
            "{'ale.lives': 2}\n",
            "{'ale.lives': 2}\n",
            "{'ale.lives': 2}\n",
            "{'ale.lives': 2}\n",
            "{'ale.lives': 2}\n",
            "{'ale.lives': 2}\n",
            "{'ale.lives': 2}\n",
            "{'ale.lives': 2}\n",
            "{'ale.lives': 2}\n",
            "{'ale.lives': 2}\n",
            "{'ale.lives': 2}\n",
            "{'ale.lives': 2}\n",
            "{'ale.lives': 2}\n",
            "{'ale.lives': 2}\n",
            "{'ale.lives': 2}\n",
            "{'ale.lives': 2}\n",
            "{'ale.lives': 2}\n",
            "{'ale.lives': 2}\n",
            "{'ale.lives': 2}\n",
            "{'ale.lives': 2}\n",
            "{'ale.lives': 2}\n",
            "{'ale.lives': 2}\n",
            "{'ale.lives': 2}\n",
            "{'ale.lives': 2}\n",
            "{'ale.lives': 2}\n",
            "{'ale.lives': 2}\n",
            "{'ale.lives': 2}\n",
            "{'ale.lives': 2}\n",
            "{'ale.lives': 2}\n",
            "{'ale.lives': 2}\n",
            "{'ale.lives': 2}\n",
            "{'ale.lives': 2}\n",
            "{'ale.lives': 2}\n",
            "{'ale.lives': 2}\n",
            "{'ale.lives': 2}\n",
            "{'ale.lives': 2}\n",
            "{'ale.lives': 2}\n",
            "{'ale.lives': 2}\n",
            "{'ale.lives': 2}\n",
            "{'ale.lives': 2}\n",
            "{'ale.lives': 2}\n",
            "{'ale.lives': 2}\n",
            "{'ale.lives': 2}\n",
            "{'ale.lives': 2}\n",
            "{'ale.lives': 2}\n",
            "{'ale.lives': 1}\n",
            "{'ale.lives': 1}\n",
            "{'ale.lives': 1}\n",
            "{'ale.lives': 1}\n",
            "{'ale.lives': 1}\n",
            "{'ale.lives': 1}\n",
            "{'ale.lives': 1}\n",
            "{'ale.lives': 1}\n",
            "{'ale.lives': 1}\n",
            "{'ale.lives': 1}\n",
            "{'ale.lives': 1}\n",
            "{'ale.lives': 1}\n",
            "{'ale.lives': 1}\n",
            "{'ale.lives': 1}\n",
            "{'ale.lives': 1}\n",
            "{'ale.lives': 1}\n",
            "{'ale.lives': 1}\n",
            "{'ale.lives': 1}\n",
            "{'ale.lives': 1}\n",
            "{'ale.lives': 1}\n",
            "{'ale.lives': 1}\n",
            "{'ale.lives': 1}\n",
            "{'ale.lives': 1}\n",
            "{'ale.lives': 1}\n",
            "{'ale.lives': 1}\n",
            "{'ale.lives': 1}\n",
            "{'ale.lives': 1}\n",
            "{'ale.lives': 1}\n",
            "{'ale.lives': 1}\n",
            "{'ale.lives': 1}\n",
            "{'ale.lives': 1}\n",
            "{'ale.lives': 1}\n",
            "{'ale.lives': 1}\n",
            "{'ale.lives': 1}\n",
            "{'ale.lives': 1}\n",
            "{'ale.lives': 1}\n",
            "{'ale.lives': 1}\n",
            "{'ale.lives': 1}\n",
            "{'ale.lives': 1}\n",
            "{'ale.lives': 1}\n",
            "{'ale.lives': 1}\n",
            "{'ale.lives': 1}\n",
            "{'ale.lives': 1}\n",
            "{'ale.lives': 1}\n",
            "{'ale.lives': 1}\n",
            "{'ale.lives': 1}\n",
            "{'ale.lives': 1}\n",
            "{'ale.lives': 1}\n",
            "{'ale.lives': 1}\n",
            "{'ale.lives': 1}\n",
            "{'ale.lives': 1}\n",
            "{'ale.lives': 1}\n",
            "{'ale.lives': 1}\n",
            "{'ale.lives': 1}\n",
            "{'ale.lives': 1}\n",
            "{'ale.lives': 1}\n",
            "{'ale.lives': 1}\n",
            "{'ale.lives': 1}\n",
            "{'ale.lives': 1}\n",
            "{'ale.lives': 1}\n",
            "{'ale.lives': 1}\n",
            "{'ale.lives': 1}\n",
            "{'ale.lives': 1}\n",
            "{'ale.lives': 1}\n",
            "{'ale.lives': 1}\n",
            "{'ale.lives': 1}\n",
            "{'ale.lives': 1}\n",
            "{'ale.lives': 1}\n",
            "{'ale.lives': 1}\n",
            "{'ale.lives': 1}\n",
            "{'ale.lives': 1}\n",
            "{'ale.lives': 1}\n",
            "{'ale.lives': 1}\n",
            "{'ale.lives': 1}\n",
            "{'ale.lives': 1}\n",
            "{'ale.lives': 1}\n",
            "{'ale.lives': 1}\n",
            "{'ale.lives': 1}\n",
            "{'ale.lives': 1}\n",
            "{'ale.lives': 1}\n",
            "{'ale.lives': 1}\n",
            "{'ale.lives': 1}\n",
            "{'ale.lives': 1}\n",
            "{'ale.lives': 1}\n",
            "{'ale.lives': 1}\n",
            "{'ale.lives': 1}\n",
            "{'ale.lives': 1}\n",
            "{'ale.lives': 1}\n",
            "{'ale.lives': 1}\n",
            "{'ale.lives': 1}\n",
            "{'ale.lives': 1}\n",
            "{'ale.lives': 1}\n",
            "{'ale.lives': 1}\n",
            "{'ale.lives': 1}\n",
            "{'ale.lives': 1}\n",
            "{'ale.lives': 1}\n",
            "{'ale.lives': 1}\n",
            "{'ale.lives': 1}\n",
            "{'ale.lives': 1}\n",
            "{'ale.lives': 1}\n",
            "{'ale.lives': 1}\n",
            "{'ale.lives': 1}\n",
            "{'ale.lives': 1}\n",
            "{'ale.lives': 1}\n",
            "{'ale.lives': 1}\n",
            "{'ale.lives': 1}\n",
            "{'ale.lives': 1}\n",
            "{'ale.lives': 1}\n",
            "{'ale.lives': 1}\n",
            "{'ale.lives': 1}\n",
            "{'ale.lives': 1}\n",
            "{'ale.lives': 1}\n",
            "{'ale.lives': 1}\n",
            "{'ale.lives': 1}\n",
            "{'ale.lives': 1}\n",
            "{'ale.lives': 1}\n",
            "{'ale.lives': 1}\n",
            "{'ale.lives': 1}\n",
            "{'ale.lives': 1}\n",
            "{'ale.lives': 1}\n",
            "{'ale.lives': 1}\n",
            "{'ale.lives': 1}\n",
            "{'ale.lives': 1}\n",
            "{'ale.lives': 1}\n",
            "{'ale.lives': 1}\n",
            "{'ale.lives': 1}\n",
            "{'ale.lives': 0}\n"
          ],
          "name": "stdout"
        }
      ]
    },
    {
      "cell_type": "markdown",
      "metadata": {
        "id": "eKalXf9y4nAZ"
      },
      "source": [
        "### REINFORCE\n",
        "\n",
        "Los métodos de políticas de gradiente encuentran una política con un determinado ascenso de gradiente que maximiza las recompensas acumulativas con respecto a los parámetros de la política.  \n",
        "\n",
        "El algoritmo REINFORCE que es método basado en políticas y hace uso de una función de política. La función de política se define sobre un entorno $s$ y una acción $a$ y devuelve la probabilidad de una acción dado un entorno. En el caso de $N$ elecciones discretas, podemos usar la función softmax:\n",
        "\n",
        "$$\\pi(a_t = a_i, s_{t-1}) = \\frac{e^{p(a_j, s_{t -1})}}{\\sum_{j = 0}^N e^{p(a_j, s_{t -1})}}$$\n",
        "\n",
        "Esto es lo que hemos hecho en nuestra red de políticas y nos ayuda a tomar nuestra decisión de acción.\n",
        "\n",
        "La función de valor $Q(a_t, s_t) \\in \\mathbb{R}$ (a veces denotada por $V$) devuelve la recompensa por cualquier acción en un entorno determinado. \n",
        "\n",
        "La actualización de la política se define de la siguiente manera:\n",
        "\n",
        "$$\\nabla \\theta_{t} = \\alpha \\nabla \\theta_{t}\\log \\pi(a_t, s_t)Q(a,s)$$\n",
        "\n",
        "Dónde $\\alpha$ es la tasa de aprendizaje.\n",
        "\n",
        "Después de la inicialización de los parámetros, el algoritmo REINFORCE procede aplicando esta función de actualización cada vez que se ejecuta una acción.\n"
      ]
    },
    {
      "cell_type": "markdown",
      "metadata": {
        "id": "9qusgfMY8EOK"
      },
      "source": [
        "Cargamos el entorno mencionado e imprimimos sus parámetros de la siguiente manera:"
      ]
    },
    {
      "cell_type": "code",
      "metadata": {
        "colab": {
          "base_uri": "https://localhost:8080/"
        },
        "id": "UI_MPqPv5BJe",
        "outputId": "8fb38899-3133-4e4d-ff3f-45433af8118f"
      },
      "source": [
        "import gym\n",
        "\n",
        "env = gym.make('CartPole-v1')\n",
        "print('Espacio observaciones: {}'.format(env.observation_space))\n",
        "print('Acciones: {}'.format(env.action_space.n))"
      ],
      "execution_count": null,
      "outputs": [
        {
          "output_type": "stream",
          "text": [
            "Espacio observaciones: Box(-3.4028234663852886e+38, 3.4028234663852886e+38, (4,), float32)\n",
            "Acciones: 2\n"
          ],
          "name": "stdout"
        }
      ]
    },
    {
      "cell_type": "markdown",
      "metadata": {
        "id": "e9t99QNW9Wbr"
      },
      "source": [
        "#### Construimos una red de políticas"
      ]
    },
    {
      "cell_type": "code",
      "metadata": {
        "id": "4_GeFgXm-T3t"
      },
      "source": [
        "import torch as T\n",
        "import torch.nn as nn\n",
        "import torch.nn.functional as F"
      ],
      "execution_count": null,
      "outputs": []
    },
    {
      "cell_type": "code",
      "metadata": {
        "id": "8wfMZUi88lj4"
      },
      "source": [
        "class redPoliticas(nn.Module):\n",
        "    def __init__(self, lr, n_entradas, n_ocultas, n_acciones):\n",
        "        super(redPoliticas, self).__init__()\n",
        "        self.lr = lr\n",
        "        self.fc1 = nn.Linear(n_entradas, n_ocultas)\n",
        "        self.fc2 = nn.Linear(n_ocultas, n_acciones)\n",
        "        self.optimizador = T.optim.Adam(self.parameters(), lr=self.lr)\n",
        "    \n",
        "        self.device = T.device(\n",
        "            'cuda:0'\n",
        "            if T.cuda.is_available()\n",
        "            else 'cpu:0'\n",
        "        )\n",
        "        self.to(self.device)\n",
        "        \n",
        "    def forward(self, observacion):\n",
        "        x = T.Tensor(\n",
        "            observacion.reshape(-1).astype('float32'),\n",
        "        ).to(self.device)\n",
        "        x = T.Tensor(observacion).to(self.device)\n",
        "        x = F.relu(self.fc1(x))\n",
        "        x = F.softmax(self.fc2(x), dim=0)\n",
        "        return x"
      ],
      "execution_count": null,
      "outputs": []
    },
    {
      "cell_type": "markdown",
      "metadata": {
        "id": "_5Z1hITUBnEk"
      },
      "source": [
        "### Agente\n",
        "\n",
        "Como se ha mencionados los agentes evalúan las políticas para tomar medidas y obtener recompensas. `gamma` es el factor de descuento.\n",
        "\n",
        "Con el método `escoge_accion(self, observacion)`, nuestro agente elige una acción dada una observación. La acción se muestrea de acuerdo con la distribución categórica de nuestra red.\n",
        "\n",
        "El método `ejecutar(self)`  corre una simulación completa en el entorno hasta que se llega al final. Esto es hasta que el poste está a punto de caerse o se alcanzan los `500` pasos (que es el valor predeterminado de `env._max_episode_steps`)."
      ]
    },
    {
      "cell_type": "code",
      "metadata": {
        "id": "8q1WZsBD-YL9"
      },
      "source": [
        "class Agente:\n",
        "  eps = np.finfo(np.float32).eps.item()\n",
        "\n",
        "  def __init__(self, env, lr, params, gamma=0.99, epsilon=0.1):\n",
        "    self.env = env\n",
        "    self.gamma = gamma\n",
        "    self.acciones = []\n",
        "    self.recompensas = []\n",
        "    self.politica =redPoliticas(\n",
        "            lr=lr,\n",
        "            **params\n",
        "        )\n",
        "    \n",
        "  def ejecutar(self):\n",
        "    estado = self.env.reset()\n",
        "    probs = []\n",
        "    recompensas = []\n",
        "    hecho = False\n",
        "    observacion = self.env.reset()\n",
        "    t = 0\n",
        "    while not hecho:\n",
        "      accion, prob = self.escoge_accion(observacion)\n",
        "      probs.append(prob)\n",
        "      observacion, recompensa, hecho, _ = self.env.step(accion)\n",
        "      recompensas.append(recompensa)\n",
        "      t += 1\n",
        "    perdida_politica = []\n",
        "    retornos = []\n",
        "    R = 0\n",
        "    for r in recompensas[::-1]:\n",
        "      R = r + self.gamma * R\n",
        "      retornos.insert(0, R)\n",
        "    retornos = T.tensor(retornos)\n",
        "    retornos = (retornos- retornos.mean()) / (retornos.std() + self.eps)\n",
        "\n",
        "    for log_prob, R in zip(probs, retornos):\n",
        "      perdida_politica.append(-log_prob * R)\n",
        "\n",
        "    if (len(perdida_politica)) > 0:\n",
        "      self.politica.optimizador.zero_grad()\n",
        "      perdida_politica = T.stack(perdida_politica, 0).sum()\n",
        "      perdida_politica.backward()\n",
        "      self.politica.optimizador.step()\n",
        "      return t\n",
        "    \n",
        "  def escoge_accion(self, observacion):\n",
        "    salida = self.politica.forward(observacion)\n",
        "    probs_accion = T.distributions.Categorical(salida)\n",
        "    accion = probs_accion.sample()\n",
        "    log_probs = probs_accion.log_prob(accion)\n",
        "    accion = accion.item()\n",
        "    self.acciones.append(log_probs)\n",
        " \n",
        "    return accion, log_probs"
      ],
      "execution_count": null,
      "outputs": []
    },
    {
      "cell_type": "markdown",
      "metadata": {
        "id": "ZbdhlBAmCe32"
      },
      "source": [
        "Probamos a nuestro agente. Comenzaremos a ejecutar nuestro agente en el entorno simulando interacciones con el entorno. \n",
        "\n",
        "Para obtener una curva más limpia para nuestra tasa de aprendizaje, estableceremos `env._max_episode_steps en 10000`. Esto significa que la simulación se detiene después de `10,000` pasos.  Si lo dejáramos en `500`, el valor predeterminado, el algoritmo se estabilizaría en un determinado rendimiento o su rendimiento se estancaría una vez que se alcancen unos `500` pasos. En cambio, estamos tratando de optimizar un poco más:\n"
      ]
    },
    {
      "cell_type": "code",
      "metadata": {
        "id": "Myyg_PruC4GP"
      },
      "source": [
        "import gym\n",
        "\n",
        "env = gym.make('CartPole-v1')  \n",
        "env._max_episode_steps = 10000\n",
        "dims_entradas = env.observation_space.low.reshape(-1).shape[0]\n",
        "n_acciones = env.action_space.n\n",
        "\n",
        "agente = Agente(\n",
        "    env=env,\n",
        "    lr=0.01,\n",
        "    params=dict(n_entradas=dims_entradas, n_ocultas=10, n_acciones=n_acciones),gamma=0.99,\n",
        ")"
      ],
      "execution_count": null,
      "outputs": []
    },
    {
      "cell_type": "code",
      "metadata": {
        "colab": {
          "base_uri": "https://localhost:8080/"
        },
        "id": "wJx421K3M-fd",
        "outputId": "2ba4e44f-6c9c-411f-dbd4-ac7222cfb31a"
      },
      "source": [
        "intervalo_actualizacion = 100\n",
        "puntuaciones = []\n",
        "puntuacion = 0\n",
        "n_episodios = 25000\n",
        "criterio_detencion = 1000\n",
        "for i in range(n_episodios):\n",
        "  puntuacion_media = np.mean(puntuaciones[-intervalo_actualizacion:])\n",
        "  if (i>0) and (i % intervalo_actualizacion) == 0:\n",
        "    print('Iteraciones {}, puntuacion promedio: {:.3f}'.format(i, puntuacion_media))\n",
        "\n",
        "  puntuacion = agente.ejecutar()\n",
        "  puntuaciones.append(puntuacion)\n",
        "  if puntuacion >= criterio_detencion:\n",
        "    print('Detencion. Iteracion  {}, puntuacion promedio: {:.3f}'.format(i, puntuacion_media))\n",
        "    break"
      ],
      "execution_count": null,
      "outputs": [
        {
          "output_type": "stream",
          "text": [
            "Iteraciones 100, puntuacion promedio: 32.860\n",
            "Detencion. Iteracion  163, puntuacion promedio: 144.160\n"
          ],
          "name": "stdout"
        }
      ]
    },
    {
      "cell_type": "markdown",
      "metadata": {
        "id": "FmlWdQxARkjN"
      },
      "source": [
        "Mientras se realizan las simulaciones, vemos actualizaciones cada 100 iteraciones con puntajes promedio desde la última actualización. Nos detenemos una vez que se alcanza una puntuación de 1.000. Esta es nuestra puntuación a lo largo del tiempo:"
      ]
    },
    {
      "cell_type": "code",
      "metadata": {
        "colab": {
          "base_uri": "https://localhost:8080/",
          "height": 303
        },
        "id": "NU-tVLc0QDBL",
        "outputId": "61702af3-32ef-44c0-a0e5-301598f727a8"
      },
      "source": [
        "%matplotlib inline\n",
        "\n",
        "import matplotlib\n",
        "from matplotlib import pyplot as plt\n",
        "\n",
        "## \n",
        "font = {'weight' : 'bold',\n",
        "        'size'   : 12}\n",
        "\n",
        "matplotlib.rc('font', **font)\n",
        "plt.plot(puntuaciones)\n",
        "plt.xlabel('Iterations')\n",
        "plt.ylabel('Puntuaciones')\n"
      ],
      "execution_count": null,
      "outputs": [
        {
          "output_type": "execute_result",
          "data": {
            "text/plain": [
              "Text(0, 0.5, 'Puntuaciones')"
            ]
          },
          "metadata": {
            "tags": []
          },
          "execution_count": 23
        },
        {
          "output_type": "display_data",
          "data": {
            "image/png": "[encoded data removed]",
            "text/plain": [
              "<Figure size 432x288 with 1 Axes>"
            ]
          },
          "metadata": {
            "tags": [],
            "needs_background": "light"
          }
        }
      ]
    },
    {
      "cell_type": "markdown",
      "metadata": {
        "id": "tkLeg7xLfYZm"
      },
      "source": [
        "¿Qué observas?"
      ]
    },
    {
      "cell_type": "code",
      "metadata": {
        "id": "-gwUTIAk9Nmx"
      },
      "source": [
        "## Tu respuesta"
      ],
      "execution_count": null,
      "outputs": []
    },
    {
      "cell_type": "markdown",
      "metadata": {
        "id": "txaloxazfBWQ"
      },
      "source": [
        "### Implementando  políticas de gradientes \n",
        "\n",
        "Damos una breve implementación de PyTorch de un algoritmo de políticas de gradiente (revisar la segunda presentación de RL de la clase) [https://github.com/openai/spinningup/blob/master/spinup/examples/pytorch/pg_math/1_simple_pg.py](https://github.com/openai/spinningup/blob/master/spinup/examples/pytorch/pg_math/1_simple_pg.py). Tiene solo 128 líneas, por lo que te recomendamos leerlo en profundidad. \n",
        "\n",
        "Explica las siguiente líneas de código:\n",
        "\n",
        "```\n",
        "logits_net = mlp(sizes=[obs_dim]+hidden_sizes+[n_acts])\n",
        "\n",
        "def get_policy(obs):\n",
        "    logits = logits_net(obs)\n",
        "    return Categorical(logits=logits)\n",
        "\n",
        "def get_action(obs):\n",
        "    return get_policy(obs).sample().item()\n",
        "```"
      ]
    },
    {
      "cell_type": "markdown",
      "metadata": {
        "id": "W0OqChQGgIiQ"
      },
      "source": [
        "*Tu respuesta*"
      ]
    },
    {
      "cell_type": "markdown",
      "metadata": {
        "id": "QTC3t-Enf-fD"
      },
      "source": [
        "```\n",
        "def compute_loss(obs, act, weights):\n",
        "    logp = get_policy(obs).log_prob(act)\n",
        "    return -(logp * weights).mean()\n",
        "\n",
        "```"
      ]
    },
    {
      "cell_type": "markdown",
      "metadata": {
        "id": "goVw1zcPgMfY"
      },
      "source": [
        "*Tu respuesta*"
      ]
    },
    {
      "cell_type": "markdown",
      "metadata": {
        "id": "0pN-QmergTs_"
      },
      "source": [
        "```\n",
        "def train_one_epoch():\n",
        "    batch_obs = []          \n",
        "    batch_acts = []         \n",
        "    batch_weights = []      \n",
        "    batch_rets = []         \n",
        "    batch_lens = []         \n",
        "\n",
        "    obs = env.reset()       \n",
        "    done = False            \n",
        "    ep_rews = []          \n",
        "\n",
        "    finished_rendering_this_epoch = False\n",
        "\n",
        "    while True:\n",
        "\n",
        "        if (not finished_rendering_this_epoch) and render:\n",
        "            env.render()\n",
        "\n",
        "        batch_obs.append(obs.copy())\n",
        "\n",
        "        act = get_action(torch.as_tensor(obs, dtype=torch.float32))\n",
        "        obs, rew, done, _ = env.step(act)\n",
        "\n",
        "        batch_acts.append(act)\n",
        "        ep_rews.append(rew)\n",
        "\n",
        "        if done:\n",
        "            ep_ret, ep_len = sum(ep_rews), len(ep_rews)\n",
        "            batch_rets.append(ep_ret)\n",
        "            batch_lens.append(ep_len)\n",
        "\n",
        "            batch_weights += [ep_ret] * ep_len\n",
        "\n",
        "            obs, done, ep_rews = env.reset(), False, []\n",
        "            finished_rendering_this_epoch = True\n",
        "\n",
        "            if len(batch_obs) > batch_size:\n",
        "                break\n",
        "\n",
        "    optimizer.zero_grad()\n",
        "    batch_loss = compute_loss(obs=torch.as_tensor(batch_obs, dtype=torch.float32), act=torch.as_tensor(batch_acts, dtype=torch.int32),\n",
        "    weights=torch.as_tensor(batch_weights, dtype=torch.float32)\n",
        "                              )\n",
        "    batch_loss.backward()\n",
        "    optimizer.step()\n",
        "    return batch_loss, batch_rets, batch_lens\n",
        "```"
      ]
    },
    {
      "cell_type": "markdown",
      "metadata": {
        "id": "iSaBsLqshCJh"
      },
      "source": [
        "*Tu respuesta*"
      ]
    },
    {
      "cell_type": "markdown",
      "metadata": {
        "id": "foLOMEjwhqG2"
      },
      "source": [
        "### Implementación de la política de gradiente de recompensa para llevar \n",
        "\n",
        "Proporcionamos una breve implementación de PyTorch de la política de gradiente de recompensa para llevar: [https://github.com/openai/spinningup/blob/master/spinup/examples/pytorch/pg_math/2_rtg_pg.py](https://github.com/openai/spinningup/blob/master/spinup/examples/pytorch/pg_math/2_rtg_pg.py).\n",
        "\n",
        "Lo único que hemos cambiado de lo anterior, es que ahora usamos diferentes pesos en la función de pérdida. La modificación del código es muy simple: agregamos una nueva función y cambiamos otras dos líneas. \n",
        "\n",
        "La nueva función es:\n",
        "\n",
        "```\n",
        "def reward_to_go(rews):\n",
        "    n = len(rews)\n",
        "    rtgs = np.zeros_like(rews)\n",
        "    for i in reversed(range(n)):\n",
        "        rtgs[i] = rews[i] + (rtgs[i+1] if i+1 < n else 0)\n",
        "    return rtgs\n",
        "``` \n",
        "\n",
        "Explica esos cambios.\n",
        "\n"
      ]
    },
    {
      "cell_type": "markdown",
      "metadata": {
        "id": "tuqjhsBzizeY"
      },
      "source": [
        "*Tu respuesta*"
      ]
    },
    {
      "cell_type": "code",
      "metadata": {
        "id": "om4N4-uXjVAr"
      },
      "source": [
        ""
      ],
      "execution_count": null,
      "outputs": []
    }
  ]
}
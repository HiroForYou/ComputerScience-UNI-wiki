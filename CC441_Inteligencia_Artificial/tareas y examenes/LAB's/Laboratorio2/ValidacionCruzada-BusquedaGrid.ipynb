{
 "cells": [
  {
   "cell_type": "markdown",
   "metadata": {},
   "source": [
    "## Ajuste de hiperparámetros\n",
    "\n",
    "Nombre y apellido:"
   ]
  },
  {
   "cell_type": "markdown",
   "metadata": {},
   "source": [
    "### Validación cruzada"
   ]
  },
  {
   "cell_type": "code",
   "execution_count": 1,
   "metadata": {},
   "outputs": [],
   "source": [
    "%matplotlib inline\n",
    "import matplotlib.pyplot as plt\n",
    "import numpy as np"
   ]
  },
  {
   "cell_type": "code",
   "execution_count": 2,
   "metadata": {},
   "outputs": [],
   "source": [
    "from sklearn.datasets import load_digits\n",
    "from sklearn.model_selection import train_test_split\n",
    "digits = load_digits()\n",
    "X_train, X_test, y_train, y_test = train_test_split(\n",
    "    digits.data, digits.target)"
   ]
  },
  {
   "cell_type": "code",
   "execution_count": 3,
   "metadata": {},
   "outputs": [],
   "source": [
    "from sklearn.model_selection import cross_val_score\n",
    "from sklearn.neighbors import KNeighborsClassifier"
   ]
  },
  {
   "cell_type": "code",
   "execution_count": 4,
   "metadata": {},
   "outputs": [
    {
     "data": {
      "text/plain": [
       "array([0.97777778, 0.97777778, 0.98141264, 0.98513011, 0.98513011])"
      ]
     },
     "execution_count": 4,
     "metadata": {},
     "output_type": "execute_result"
    }
   ],
   "source": [
    "cross_val_score(KNeighborsClassifier(),\n",
    "                X_train, y_train, cv=5)"
   ]
  },
  {
   "cell_type": "code",
   "execution_count": 5,
   "metadata": {},
   "outputs": [],
   "source": [
    "from sklearn.model_selection import KFold, RepeatedStratifiedKFold"
   ]
  },
  {
   "cell_type": "code",
   "execution_count": 6,
   "metadata": {},
   "outputs": [
    {
     "data": {
      "text/plain": [
       "array([0.98518519, 0.98518519, 0.97037037, 0.97777778, 0.97037037,\n",
       "       0.97777778, 0.98518519, 0.99253731, 0.99253731, 1.        ])"
      ]
     },
     "execution_count": 6,
     "metadata": {},
     "output_type": "execute_result"
    }
   ],
   "source": [
    "cross_val_score(KNeighborsClassifier(),\n",
    "                X_train, y_train, cv=KFold(n_splits=10, shuffle=True, random_state=42))"
   ]
  },
  {
   "cell_type": "code",
   "execution_count": 7,
   "metadata": {},
   "outputs": [
    {
     "data": {
      "text/plain": [
       "array([0.97777778, 0.97777778, 0.97777778, 0.98518519, 0.99259259,\n",
       "       0.98518519, 0.98518519, 0.98507463, 0.97761194, 0.99253731,\n",
       "       0.98518519, 0.97777778, 0.99259259, 0.99259259, 0.98518519,\n",
       "       0.97777778, 0.98518519, 0.99253731, 0.97761194, 0.99253731,\n",
       "       0.97777778, 0.98518519, 0.97037037, 0.96296296, 1.        ,\n",
       "       0.99259259, 0.98518519, 0.98507463, 0.99253731, 0.98507463,\n",
       "       0.97037037, 0.98518519, 0.99259259, 0.99259259, 0.99259259,\n",
       "       0.97037037, 0.99259259, 0.99253731, 0.97761194, 0.98507463,\n",
       "       0.99259259, 0.97037037, 1.        , 0.98518519, 1.        ,\n",
       "       0.98518519, 0.99259259, 0.97761194, 0.97761194, 0.98507463,\n",
       "       0.98518519, 0.99259259, 0.99259259, 0.99259259, 0.98518519,\n",
       "       1.        , 0.97037037, 0.98507463, 0.97014925, 0.97014925,\n",
       "       0.99259259, 0.99259259, 0.97777778, 0.98518519, 1.        ,\n",
       "       0.95555556, 0.99259259, 0.99253731, 0.98507463, 0.99253731,\n",
       "       0.99259259, 0.97777778, 0.97777778, 0.97037037, 1.        ,\n",
       "       0.98518519, 0.99259259, 0.98507463, 0.99253731, 0.97014925,\n",
       "       1.        , 0.98518519, 0.97777778, 0.97037037, 0.98518519,\n",
       "       1.        , 0.98518519, 0.98507463, 0.98507463, 1.        ,\n",
       "       1.        , 0.99259259, 0.98518519, 0.99259259, 0.97037037,\n",
       "       0.97777778, 1.        , 0.99253731, 0.97761194, 0.98507463])"
      ]
     },
     "execution_count": 7,
     "metadata": {},
     "output_type": "execute_result"
    }
   ],
   "source": [
    "cross_val_score(KNeighborsClassifier(),\n",
    "                X_train, y_train,\n",
    "                cv=RepeatedStratifiedKFold(n_splits=10, n_repeats=10, random_state=42))"
   ]
  },
  {
   "cell_type": "markdown",
   "metadata": {},
   "source": [
    "### Búsqueda grid"
   ]
  },
  {
   "cell_type": "markdown",
   "metadata": {},
   "source": [
    "Búsqueda grid con validación cruzada incorporada"
   ]
  },
  {
   "cell_type": "code",
   "execution_count": 8,
   "metadata": {},
   "outputs": [],
   "source": [
    "from sklearn.model_selection import GridSearchCV\n",
    "from sklearn.svm import SVC"
   ]
  },
  {
   "cell_type": "markdown",
   "metadata": {},
   "source": [
    "Definimos los paramétros de grid."
   ]
  },
  {
   "cell_type": "code",
   "execution_count": 9,
   "metadata": {},
   "outputs": [
    {
     "name": "stdout",
     "output_type": "stream",
     "text": [
      "{'C': array([  0.001,   0.01 ,   0.1  ,   1.   ,  10.   , 100.   ]), 'gamma': array([0.00001, 0.0001 , 0.001  , 0.01   , 0.1    ])}\n"
     ]
    }
   ],
   "source": [
    "import numpy as np\n",
    "\n",
    "param_grid = {'C': 10. ** np.arange(-3, 3),\n",
    "              'gamma' : 10. ** np.arange(-5, 0)}\n",
    "\n",
    "np.set_printoptions(suppress=True)\n",
    "print(param_grid)"
   ]
  },
  {
   "cell_type": "code",
   "execution_count": 10,
   "metadata": {},
   "outputs": [],
   "source": [
    "grid_search = GridSearchCV(SVC(), param_grid, verbose=3, cv=5)"
   ]
  },
  {
   "cell_type": "markdown",
   "metadata": {},
   "source": [
    "Un objeto `GridSearchCV` se comporta como un clasificador normal."
   ]
  },
  {
   "cell_type": "code",
   "execution_count": 11,
   "metadata": {},
   "outputs": [
    {
     "name": "stdout",
     "output_type": "stream",
     "text": [
      "Fitting 5 folds for each of 30 candidates, totalling 150 fits\n",
      "[CV] C=0.001, gamma=1e-05 ............................................\n"
     ]
    },
    {
     "name": "stderr",
     "output_type": "stream",
     "text": [
      "[Parallel(n_jobs=1)]: Using backend SequentialBackend with 1 concurrent workers.\n"
     ]
    },
    {
     "name": "stdout",
     "output_type": "stream",
     "text": [
      "[CV] ................ C=0.001, gamma=1e-05, score=0.111, total=   0.4s\n",
      "[CV] C=0.001, gamma=1e-05 ............................................\n"
     ]
    },
    {
     "name": "stderr",
     "output_type": "stream",
     "text": [
      "[Parallel(n_jobs=1)]: Done   1 out of   1 | elapsed:    0.4s remaining:    0.0s\n"
     ]
    },
    {
     "name": "stdout",
     "output_type": "stream",
     "text": [
      "[CV] ................ C=0.001, gamma=1e-05, score=0.107, total=   0.3s\n",
      "[CV] C=0.001, gamma=1e-05 ............................................\n"
     ]
    },
    {
     "name": "stderr",
     "output_type": "stream",
     "text": [
      "[Parallel(n_jobs=1)]: Done   2 out of   2 | elapsed:    0.6s remaining:    0.0s\n"
     ]
    },
    {
     "name": "stdout",
     "output_type": "stream",
     "text": [
      "[CV] ................ C=0.001, gamma=1e-05, score=0.108, total=   0.3s\n",
      "[CV] C=0.001, gamma=1e-05 ............................................\n",
      "[CV] ................ C=0.001, gamma=1e-05, score=0.108, total=   0.3s\n",
      "[CV] C=0.001, gamma=1e-05 ............................................\n",
      "[CV] ................ C=0.001, gamma=1e-05, score=0.108, total=   0.3s\n",
      "[CV] C=0.001, gamma=0.0001 ...........................................\n",
      "[CV] ............... C=0.001, gamma=0.0001, score=0.111, total=   0.3s\n",
      "[CV] C=0.001, gamma=0.0001 ...........................................\n",
      "[CV] ............... C=0.001, gamma=0.0001, score=0.107, total=   0.3s\n",
      "[CV] C=0.001, gamma=0.0001 ...........................................\n",
      "[CV] ............... C=0.001, gamma=0.0001, score=0.108, total=   0.3s\n",
      "[CV] C=0.001, gamma=0.0001 ...........................................\n",
      "[CV] ............... C=0.001, gamma=0.0001, score=0.108, total=   0.3s\n",
      "[CV] C=0.001, gamma=0.0001 ...........................................\n",
      "[CV] ............... C=0.001, gamma=0.0001, score=0.108, total=   0.3s\n",
      "[CV] C=0.001, gamma=0.001 ............................................\n",
      "[CV] ................ C=0.001, gamma=0.001, score=0.111, total=   0.3s\n",
      "[CV] C=0.001, gamma=0.001 ............................................\n",
      "[CV] ................ C=0.001, gamma=0.001, score=0.107, total=   0.3s\n",
      "[CV] C=0.001, gamma=0.001 ............................................\n",
      "[CV] ................ C=0.001, gamma=0.001, score=0.108, total=   0.3s\n",
      "[CV] C=0.001, gamma=0.001 ............................................\n",
      "[CV] ................ C=0.001, gamma=0.001, score=0.108, total=   0.3s\n",
      "[CV] C=0.001, gamma=0.001 ............................................\n",
      "[CV] ................ C=0.001, gamma=0.001, score=0.108, total=   0.3s\n",
      "[CV] C=0.001, gamma=0.01 .............................................\n",
      "[CV] ................. C=0.001, gamma=0.01, score=0.111, total=   0.3s\n",
      "[CV] C=0.001, gamma=0.01 .............................................\n",
      "[CV] ................. C=0.001, gamma=0.01, score=0.107, total=   0.3s\n",
      "[CV] C=0.001, gamma=0.01 .............................................\n",
      "[CV] ................. C=0.001, gamma=0.01, score=0.108, total=   0.3s\n",
      "[CV] C=0.001, gamma=0.01 .............................................\n",
      "[CV] ................. C=0.001, gamma=0.01, score=0.108, total=   0.3s\n",
      "[CV] C=0.001, gamma=0.01 .............................................\n",
      "[CV] ................. C=0.001, gamma=0.01, score=0.108, total=   0.3s\n",
      "[CV] C=0.001, gamma=0.1 ..............................................\n",
      "[CV] .................. C=0.001, gamma=0.1, score=0.111, total=   0.3s\n",
      "[CV] C=0.001, gamma=0.1 ..............................................\n",
      "[CV] .................. C=0.001, gamma=0.1, score=0.107, total=   0.3s\n",
      "[CV] C=0.001, gamma=0.1 ..............................................\n",
      "[CV] .................. C=0.001, gamma=0.1, score=0.108, total=   0.3s\n",
      "[CV] C=0.001, gamma=0.1 ..............................................\n",
      "[CV] .................. C=0.001, gamma=0.1, score=0.108, total=   0.3s\n",
      "[CV] C=0.001, gamma=0.1 ..............................................\n",
      "[CV] .................. C=0.001, gamma=0.1, score=0.108, total=   0.3s\n",
      "[CV] C=0.01, gamma=1e-05 .............................................\n",
      "[CV] ................. C=0.01, gamma=1e-05, score=0.111, total=   0.3s\n",
      "[CV] C=0.01, gamma=1e-05 .............................................\n",
      "[CV] ................. C=0.01, gamma=1e-05, score=0.107, total=   0.3s\n",
      "[CV] C=0.01, gamma=1e-05 .............................................\n",
      "[CV] ................. C=0.01, gamma=1e-05, score=0.108, total=   0.3s\n",
      "[CV] C=0.01, gamma=1e-05 .............................................\n",
      "[CV] ................. C=0.01, gamma=1e-05, score=0.108, total=   0.3s\n",
      "[CV] C=0.01, gamma=1e-05 .............................................\n",
      "[CV] ................. C=0.01, gamma=1e-05, score=0.108, total=   0.3s\n",
      "[CV] C=0.01, gamma=0.0001 ............................................\n",
      "[CV] ................ C=0.01, gamma=0.0001, score=0.111, total=   0.3s\n",
      "[CV] C=0.01, gamma=0.0001 ............................................\n",
      "[CV] ................ C=0.01, gamma=0.0001, score=0.107, total=   0.3s\n",
      "[CV] C=0.01, gamma=0.0001 ............................................\n",
      "[CV] ................ C=0.01, gamma=0.0001, score=0.108, total=   0.3s\n",
      "[CV] C=0.01, gamma=0.0001 ............................................\n",
      "[CV] ................ C=0.01, gamma=0.0001, score=0.108, total=   0.3s\n",
      "[CV] C=0.01, gamma=0.0001 ............................................\n",
      "[CV] ................ C=0.01, gamma=0.0001, score=0.108, total=   0.3s\n",
      "[CV] C=0.01, gamma=0.001 .............................................\n",
      "[CV] ................. C=0.01, gamma=0.001, score=0.111, total=   0.4s\n",
      "[CV] C=0.01, gamma=0.001 .............................................\n",
      "[CV] ................. C=0.01, gamma=0.001, score=0.107, total=   0.4s\n",
      "[CV] C=0.01, gamma=0.001 .............................................\n",
      "[CV] ................. C=0.01, gamma=0.001, score=0.108, total=   0.4s\n",
      "[CV] C=0.01, gamma=0.001 .............................................\n",
      "[CV] ................. C=0.01, gamma=0.001, score=0.108, total=   0.3s\n",
      "[CV] C=0.01, gamma=0.001 .............................................\n",
      "[CV] ................. C=0.01, gamma=0.001, score=0.108, total=   0.4s\n",
      "[CV] C=0.01, gamma=0.01 ..............................................\n",
      "[CV] .................. C=0.01, gamma=0.01, score=0.111, total=   0.3s\n",
      "[CV] C=0.01, gamma=0.01 ..............................................\n",
      "[CV] .................. C=0.01, gamma=0.01, score=0.107, total=   0.3s\n",
      "[CV] C=0.01, gamma=0.01 ..............................................\n",
      "[CV] .................. C=0.01, gamma=0.01, score=0.108, total=   0.3s\n",
      "[CV] C=0.01, gamma=0.01 ..............................................\n",
      "[CV] .................. C=0.01, gamma=0.01, score=0.108, total=   0.3s\n",
      "[CV] C=0.01, gamma=0.01 ..............................................\n",
      "[CV] .................. C=0.01, gamma=0.01, score=0.108, total=   0.3s\n",
      "[CV] C=0.01, gamma=0.1 ...............................................\n",
      "[CV] ................... C=0.01, gamma=0.1, score=0.111, total=   0.3s\n",
      "[CV] C=0.01, gamma=0.1 ...............................................\n",
      "[CV] ................... C=0.01, gamma=0.1, score=0.107, total=   0.3s\n",
      "[CV] C=0.01, gamma=0.1 ...............................................\n",
      "[CV] ................... C=0.01, gamma=0.1, score=0.108, total=   0.3s\n",
      "[CV] C=0.01, gamma=0.1 ...............................................\n",
      "[CV] ................... C=0.01, gamma=0.1, score=0.108, total=   0.3s\n",
      "[CV] C=0.01, gamma=0.1 ...............................................\n",
      "[CV] ................... C=0.01, gamma=0.1, score=0.108, total=   0.3s\n",
      "[CV] C=0.1, gamma=1e-05 ..............................................\n",
      "[CV] .................. C=0.1, gamma=1e-05, score=0.111, total=   0.3s\n",
      "[CV] C=0.1, gamma=1e-05 ..............................................\n",
      "[CV] .................. C=0.1, gamma=1e-05, score=0.107, total=   0.3s\n",
      "[CV] C=0.1, gamma=1e-05 ..............................................\n",
      "[CV] .................. C=0.1, gamma=1e-05, score=0.108, total=   0.3s\n",
      "[CV] C=0.1, gamma=1e-05 ..............................................\n",
      "[CV] .................. C=0.1, gamma=1e-05, score=0.108, total=   0.3s\n",
      "[CV] C=0.1, gamma=1e-05 ..............................................\n",
      "[CV] .................. C=0.1, gamma=1e-05, score=0.108, total=   0.3s\n",
      "[CV] C=0.1, gamma=0.0001 .............................................\n",
      "[CV] ................. C=0.1, gamma=0.0001, score=0.844, total=   0.2s\n",
      "[CV] C=0.1, gamma=0.0001 .............................................\n",
      "[CV] ................. C=0.1, gamma=0.0001, score=0.841, total=   0.3s\n",
      "[CV] C=0.1, gamma=0.0001 .............................................\n",
      "[CV] ................. C=0.1, gamma=0.0001, score=0.829, total=   0.3s\n",
      "[CV] C=0.1, gamma=0.0001 .............................................\n",
      "[CV] ................. C=0.1, gamma=0.0001, score=0.799, total=   0.2s\n",
      "[CV] C=0.1, gamma=0.0001 .............................................\n",
      "[CV] ................. C=0.1, gamma=0.0001, score=0.874, total=   0.2s\n",
      "[CV] C=0.1, gamma=0.001 ..............................................\n",
      "[CV] .................. C=0.1, gamma=0.001, score=0.952, total=   0.2s\n",
      "[CV] C=0.1, gamma=0.001 ..............................................\n"
     ]
    },
    {
     "name": "stdout",
     "output_type": "stream",
     "text": [
      "[CV] .................. C=0.1, gamma=0.001, score=0.959, total=   0.2s\n",
      "[CV] C=0.1, gamma=0.001 ..............................................\n",
      "[CV] .................. C=0.1, gamma=0.001, score=0.963, total=   0.2s\n",
      "[CV] C=0.1, gamma=0.001 ..............................................\n",
      "[CV] .................. C=0.1, gamma=0.001, score=0.944, total=   0.2s\n",
      "[CV] C=0.1, gamma=0.001 ..............................................\n",
      "[CV] .................. C=0.1, gamma=0.001, score=0.963, total=   0.2s\n",
      "[CV] C=0.1, gamma=0.01 ...............................................\n",
      "[CV] ................... C=0.1, gamma=0.01, score=0.111, total=   0.3s\n",
      "[CV] C=0.1, gamma=0.01 ...............................................\n",
      "[CV] ................... C=0.1, gamma=0.01, score=0.107, total=   0.3s\n",
      "[CV] C=0.1, gamma=0.01 ...............................................\n",
      "[CV] ................... C=0.1, gamma=0.01, score=0.108, total=   0.3s\n",
      "[CV] C=0.1, gamma=0.01 ...............................................\n",
      "[CV] ................... C=0.1, gamma=0.01, score=0.108, total=   0.3s\n",
      "[CV] C=0.1, gamma=0.01 ...............................................\n",
      "[CV] ................... C=0.1, gamma=0.01, score=0.108, total=   0.3s\n",
      "[CV] C=0.1, gamma=0.1 ................................................\n",
      "[CV] .................... C=0.1, gamma=0.1, score=0.111, total=   0.3s\n",
      "[CV] C=0.1, gamma=0.1 ................................................\n",
      "[CV] .................... C=0.1, gamma=0.1, score=0.107, total=   0.3s\n",
      "[CV] C=0.1, gamma=0.1 ................................................\n",
      "[CV] .................... C=0.1, gamma=0.1, score=0.108, total=   0.3s\n",
      "[CV] C=0.1, gamma=0.1 ................................................\n",
      "[CV] .................... C=0.1, gamma=0.1, score=0.108, total=   0.3s\n",
      "[CV] C=0.1, gamma=0.1 ................................................\n",
      "[CV] .................... C=0.1, gamma=0.1, score=0.108, total=   0.3s\n",
      "[CV] C=1.0, gamma=1e-05 ..............................................\n",
      "[CV] .................. C=1.0, gamma=1e-05, score=0.867, total=   0.2s\n",
      "[CV] C=1.0, gamma=1e-05 ..............................................\n",
      "[CV] .................. C=1.0, gamma=1e-05, score=0.870, total=   0.3s\n",
      "[CV] C=1.0, gamma=1e-05 ..............................................\n",
      "[CV] .................. C=1.0, gamma=1e-05, score=0.862, total=   0.2s\n",
      "[CV] C=1.0, gamma=1e-05 ..............................................\n",
      "[CV] .................. C=1.0, gamma=1e-05, score=0.848, total=   0.2s\n",
      "[CV] C=1.0, gamma=1e-05 ..............................................\n",
      "[CV] .................. C=1.0, gamma=1e-05, score=0.885, total=   0.3s\n",
      "[CV] C=1.0, gamma=0.0001 .............................................\n",
      "[CV] ................. C=1.0, gamma=0.0001, score=0.967, total=   0.1s\n",
      "[CV] C=1.0, gamma=0.0001 .............................................\n",
      "[CV] ................. C=1.0, gamma=0.0001, score=0.967, total=   0.1s\n",
      "[CV] C=1.0, gamma=0.0001 .............................................\n",
      "[CV] ................. C=1.0, gamma=0.0001, score=0.978, total=   0.1s\n",
      "[CV] C=1.0, gamma=0.0001 .............................................\n",
      "[CV] ................. C=1.0, gamma=0.0001, score=0.963, total=   0.1s\n",
      "[CV] C=1.0, gamma=0.0001 .............................................\n",
      "[CV] ................. C=1.0, gamma=0.0001, score=0.967, total=   0.1s\n",
      "[CV] C=1.0, gamma=0.001 ..............................................\n",
      "[CV] .................. C=1.0, gamma=0.001, score=0.989, total=   0.1s\n",
      "[CV] C=1.0, gamma=0.001 ..............................................\n",
      "[CV] .................. C=1.0, gamma=0.001, score=0.989, total=   0.1s\n",
      "[CV] C=1.0, gamma=0.001 ..............................................\n",
      "[CV] .................. C=1.0, gamma=0.001, score=0.989, total=   0.1s\n",
      "[CV] C=1.0, gamma=0.001 ..............................................\n",
      "[CV] .................. C=1.0, gamma=0.001, score=0.996, total=   0.1s\n",
      "[CV] C=1.0, gamma=0.001 ..............................................\n",
      "[CV] .................. C=1.0, gamma=0.001, score=0.993, total=   0.1s\n",
      "[CV] C=1.0, gamma=0.01 ...............................................\n",
      "[CV] ................... C=1.0, gamma=0.01, score=0.770, total=   0.3s\n",
      "[CV] C=1.0, gamma=0.01 ...............................................\n",
      "[CV] ................... C=1.0, gamma=0.01, score=0.804, total=   0.4s\n",
      "[CV] C=1.0, gamma=0.01 ...............................................\n",
      "[CV] ................... C=1.0, gamma=0.01, score=0.736, total=   0.3s\n",
      "[CV] C=1.0, gamma=0.01 ...............................................\n",
      "[CV] ................... C=1.0, gamma=0.01, score=0.762, total=   0.3s\n",
      "[CV] C=1.0, gamma=0.01 ...............................................\n",
      "[CV] ................... C=1.0, gamma=0.01, score=0.818, total=   0.3s\n",
      "[CV] C=1.0, gamma=0.1 ................................................\n",
      "[CV] .................... C=1.0, gamma=0.1, score=0.111, total=   0.3s\n",
      "[CV] C=1.0, gamma=0.1 ................................................\n",
      "[CV] .................... C=1.0, gamma=0.1, score=0.107, total=   0.4s\n",
      "[CV] C=1.0, gamma=0.1 ................................................\n",
      "[CV] .................... C=1.0, gamma=0.1, score=0.108, total=   0.3s\n",
      "[CV] C=1.0, gamma=0.1 ................................................\n",
      "[CV] .................... C=1.0, gamma=0.1, score=0.108, total=   0.4s\n",
      "[CV] C=1.0, gamma=0.1 ................................................\n",
      "[CV] .................... C=1.0, gamma=0.1, score=0.108, total=   0.4s\n",
      "[CV] C=10.0, gamma=1e-05 .............................................\n",
      "[CV] ................. C=10.0, gamma=1e-05, score=0.959, total=   0.1s\n",
      "[CV] C=10.0, gamma=1e-05 .............................................\n",
      "[CV] ................. C=10.0, gamma=1e-05, score=0.967, total=   0.1s\n",
      "[CV] C=10.0, gamma=1e-05 .............................................\n",
      "[CV] ................. C=10.0, gamma=1e-05, score=0.974, total=   0.1s\n",
      "[CV] C=10.0, gamma=1e-05 .............................................\n",
      "[CV] ................. C=10.0, gamma=1e-05, score=0.963, total=   0.1s\n",
      "[CV] C=10.0, gamma=1e-05 .............................................\n",
      "[CV] ................. C=10.0, gamma=1e-05, score=0.970, total=   0.1s\n",
      "[CV] C=10.0, gamma=0.0001 ............................................\n",
      "[CV] ................ C=10.0, gamma=0.0001, score=0.978, total=   0.1s\n",
      "[CV] C=10.0, gamma=0.0001 ............................................\n",
      "[CV] ................ C=10.0, gamma=0.0001, score=0.981, total=   0.1s\n",
      "[CV] C=10.0, gamma=0.0001 ............................................\n",
      "[CV] ................ C=10.0, gamma=0.0001, score=0.985, total=   0.1s\n",
      "[CV] C=10.0, gamma=0.0001 ............................................\n",
      "[CV] ................ C=10.0, gamma=0.0001, score=0.981, total=   0.1s\n",
      "[CV] C=10.0, gamma=0.0001 ............................................\n",
      "[CV] ................ C=10.0, gamma=0.0001, score=0.993, total=   0.1s\n",
      "[CV] C=10.0, gamma=0.001 .............................................\n",
      "[CV] ................. C=10.0, gamma=0.001, score=0.989, total=   0.1s\n",
      "[CV] C=10.0, gamma=0.001 .............................................\n",
      "[CV] ................. C=10.0, gamma=0.001, score=0.989, total=   0.1s\n",
      "[CV] C=10.0, gamma=0.001 .............................................\n",
      "[CV] ................. C=10.0, gamma=0.001, score=0.993, total=   0.1s\n",
      "[CV] C=10.0, gamma=0.001 .............................................\n",
      "[CV] ................. C=10.0, gamma=0.001, score=0.989, total=   0.1s\n",
      "[CV] C=10.0, gamma=0.001 .............................................\n",
      "[CV] ................. C=10.0, gamma=0.001, score=0.985, total=   0.1s\n",
      "[CV] C=10.0, gamma=0.01 ..............................................\n",
      "[CV] .................. C=10.0, gamma=0.01, score=0.778, total=   0.3s\n",
      "[CV] C=10.0, gamma=0.01 ..............................................\n",
      "[CV] .................. C=10.0, gamma=0.01, score=0.822, total=   0.3s\n",
      "[CV] C=10.0, gamma=0.01 ..............................................\n",
      "[CV] .................. C=10.0, gamma=0.01, score=0.747, total=   0.3s\n",
      "[CV] C=10.0, gamma=0.01 ..............................................\n",
      "[CV] .................. C=10.0, gamma=0.01, score=0.784, total=   0.3s\n",
      "[CV] C=10.0, gamma=0.01 ..............................................\n"
     ]
    },
    {
     "name": "stdout",
     "output_type": "stream",
     "text": [
      "[CV] .................. C=10.0, gamma=0.01, score=0.836, total=   0.3s\n",
      "[CV] C=10.0, gamma=0.1 ...............................................\n",
      "[CV] ................... C=10.0, gamma=0.1, score=0.111, total=   0.3s\n",
      "[CV] C=10.0, gamma=0.1 ...............................................\n",
      "[CV] ................... C=10.0, gamma=0.1, score=0.107, total=   0.4s\n",
      "[CV] C=10.0, gamma=0.1 ...............................................\n",
      "[CV] ................... C=10.0, gamma=0.1, score=0.108, total=   0.4s\n",
      "[CV] C=10.0, gamma=0.1 ...............................................\n",
      "[CV] ................... C=10.0, gamma=0.1, score=0.108, total=   0.4s\n",
      "[CV] C=10.0, gamma=0.1 ...............................................\n",
      "[CV] ................... C=10.0, gamma=0.1, score=0.108, total=   0.4s\n",
      "[CV] C=100.0, gamma=1e-05 ............................................\n",
      "[CV] ................ C=100.0, gamma=1e-05, score=0.970, total=   0.1s\n",
      "[CV] C=100.0, gamma=1e-05 ............................................\n",
      "[CV] ................ C=100.0, gamma=1e-05, score=0.981, total=   0.1s\n",
      "[CV] C=100.0, gamma=1e-05 ............................................\n",
      "[CV] ................ C=100.0, gamma=1e-05, score=0.981, total=   0.1s\n",
      "[CV] C=100.0, gamma=1e-05 ............................................\n",
      "[CV] ................ C=100.0, gamma=1e-05, score=0.981, total=   0.1s\n",
      "[CV] C=100.0, gamma=1e-05 ............................................\n",
      "[CV] ................ C=100.0, gamma=1e-05, score=0.985, total=   0.1s\n",
      "[CV] C=100.0, gamma=0.0001 ...........................................\n",
      "[CV] ............... C=100.0, gamma=0.0001, score=0.978, total=   0.1s\n",
      "[CV] C=100.0, gamma=0.0001 ...........................................\n",
      "[CV] ............... C=100.0, gamma=0.0001, score=0.985, total=   0.1s\n",
      "[CV] C=100.0, gamma=0.0001 ...........................................\n",
      "[CV] ............... C=100.0, gamma=0.0001, score=0.989, total=   0.1s\n",
      "[CV] C=100.0, gamma=0.0001 ...........................................\n",
      "[CV] ............... C=100.0, gamma=0.0001, score=0.985, total=   0.1s\n",
      "[CV] C=100.0, gamma=0.0001 ...........................................\n",
      "[CV] ............... C=100.0, gamma=0.0001, score=0.985, total=   0.1s\n",
      "[CV] C=100.0, gamma=0.001 ............................................\n",
      "[CV] ................ C=100.0, gamma=0.001, score=0.989, total=   0.1s\n",
      "[CV] C=100.0, gamma=0.001 ............................................\n",
      "[CV] ................ C=100.0, gamma=0.001, score=0.989, total=   0.1s\n",
      "[CV] C=100.0, gamma=0.001 ............................................\n",
      "[CV] ................ C=100.0, gamma=0.001, score=0.993, total=   0.1s\n",
      "[CV] C=100.0, gamma=0.001 ............................................\n",
      "[CV] ................ C=100.0, gamma=0.001, score=0.989, total=   0.1s\n",
      "[CV] C=100.0, gamma=0.001 ............................................\n",
      "[CV] ................ C=100.0, gamma=0.001, score=0.985, total=   0.1s\n",
      "[CV] C=100.0, gamma=0.01 .............................................\n",
      "[CV] ................. C=100.0, gamma=0.01, score=0.778, total=   0.3s\n",
      "[CV] C=100.0, gamma=0.01 .............................................\n",
      "[CV] ................. C=100.0, gamma=0.01, score=0.822, total=   0.4s\n",
      "[CV] C=100.0, gamma=0.01 .............................................\n",
      "[CV] ................. C=100.0, gamma=0.01, score=0.747, total=   0.3s\n",
      "[CV] C=100.0, gamma=0.01 .............................................\n",
      "[CV] ................. C=100.0, gamma=0.01, score=0.784, total=   0.3s\n",
      "[CV] C=100.0, gamma=0.01 .............................................\n",
      "[CV] ................. C=100.0, gamma=0.01, score=0.836, total=   0.3s\n",
      "[CV] C=100.0, gamma=0.1 ..............................................\n",
      "[CV] .................. C=100.0, gamma=0.1, score=0.111, total=   0.4s\n",
      "[CV] C=100.0, gamma=0.1 ..............................................\n",
      "[CV] .................. C=100.0, gamma=0.1, score=0.107, total=   0.4s\n",
      "[CV] C=100.0, gamma=0.1 ..............................................\n",
      "[CV] .................. C=100.0, gamma=0.1, score=0.108, total=   0.5s\n",
      "[CV] C=100.0, gamma=0.1 ..............................................\n",
      "[CV] .................. C=100.0, gamma=0.1, score=0.108, total=   0.5s\n",
      "[CV] C=100.0, gamma=0.1 ..............................................\n",
      "[CV] .................. C=100.0, gamma=0.1, score=0.108, total=   0.5s\n"
     ]
    },
    {
     "name": "stderr",
     "output_type": "stream",
     "text": [
      "[Parallel(n_jobs=1)]: Done 150 out of 150 | elapsed:   37.6s finished\n"
     ]
    },
    {
     "data": {
      "text/plain": [
       "GridSearchCV(cv=5, error_score=nan,\n",
       "             estimator=SVC(C=1.0, break_ties=False, cache_size=200,\n",
       "                           class_weight=None, coef0=0.0,\n",
       "                           decision_function_shape='ovr', degree=3,\n",
       "                           gamma='scale', kernel='rbf', max_iter=-1,\n",
       "                           probability=False, random_state=None, shrinking=True,\n",
       "                           tol=0.001, verbose=False),\n",
       "             iid='deprecated', n_jobs=None,\n",
       "             param_grid={'C': array([  0.001,   0.01 ,   0.1  ,   1.   ,  10.   , 100.   ]),\n",
       "                         'gamma': array([0.00001, 0.0001 , 0.001  , 0.01   , 0.1    ])},\n",
       "             pre_dispatch='2*n_jobs', refit=True, return_train_score=False,\n",
       "             scoring=None, verbose=3)"
      ]
     },
     "execution_count": 11,
     "metadata": {},
     "output_type": "execute_result"
    }
   ],
   "source": [
    "grid_search.fit(X_train, y_train)"
   ]
  },
  {
   "cell_type": "code",
   "execution_count": 12,
   "metadata": {},
   "outputs": [
    {
     "data": {
      "text/plain": [
       "array([2, 5, 2, 8, 8, 0, 4, 7, 5, 1, 2, 6, 7, 0, 4, 3, 1, 3, 8, 7, 4, 8,\n",
       "       2, 7, 9, 5, 3, 0, 7, 0, 0, 8, 8, 6, 7, 3, 9, 4, 1, 5, 5, 0, 7, 3,\n",
       "       0, 2, 0, 0, 9, 5, 7, 9, 0, 2, 9, 8, 4, 6, 4, 8, 8, 2, 9, 5, 4, 7,\n",
       "       2, 4, 1, 7, 9, 4, 8, 5, 5, 3, 8, 5, 2, 8, 0, 7, 6, 0, 6, 1, 0, 5,\n",
       "       4, 4, 9, 7, 9, 3, 8, 0, 9, 7, 1, 8, 7, 9, 3, 5, 5, 8, 5, 7, 9, 0,\n",
       "       7, 3, 9, 1, 5, 4, 8, 6, 4, 1, 3, 0, 5, 9, 6, 2, 4, 6, 2, 3, 2, 3,\n",
       "       4, 1, 2, 6, 2, 8, 8, 2, 6, 1, 7, 6, 2, 2, 9, 9, 6, 4, 4, 4, 8, 7,\n",
       "       4, 1, 0, 4, 3, 5, 5, 8, 8, 1, 8, 9, 3, 0, 3, 3, 2, 7, 7, 7, 7, 0,\n",
       "       2, 0, 4, 4, 5, 3, 4, 4, 3, 1, 1, 1, 4, 6, 1, 9, 6, 7, 5, 1, 0, 3,\n",
       "       5, 4, 5, 5, 8, 8, 5, 0, 7, 9, 1, 3, 1, 6, 3, 4, 9, 0, 7, 1, 9, 4,\n",
       "       1, 4, 9, 4, 4, 7, 0, 5, 0, 3, 8, 8, 1, 9, 3, 3, 8, 2, 7, 8, 5, 1,\n",
       "       8, 1, 1, 6, 1, 0, 6, 0, 8, 8, 8, 6, 4, 0, 5, 4, 8, 0, 2, 8, 6, 2,\n",
       "       1, 3, 2, 2, 6, 2, 5, 1, 3, 3, 9, 8, 4, 3, 7, 2, 0, 9, 5, 5, 2, 0,\n",
       "       0, 2, 1, 5, 7, 0, 9, 4, 0, 5, 2, 3, 9, 9, 8, 3, 7, 0, 5, 6, 7, 8,\n",
       "       9, 2, 6, 6, 0, 9, 8, 2, 3, 7, 0, 2, 4, 8, 5, 5, 0, 2, 6, 9, 3, 8,\n",
       "       5, 0, 4, 7, 3, 8, 1, 8, 4, 5, 5, 6, 6, 7, 6, 5, 7, 6, 7, 7, 1, 4,\n",
       "       0, 7, 5, 6, 1, 9, 3, 6, 2, 3, 0, 0, 7, 4, 7, 3, 9, 6, 5, 4, 3, 7,\n",
       "       0, 8, 7, 0, 3, 2, 8, 8, 7, 9, 2, 0, 6, 0, 5, 1, 0, 0, 3, 5, 8, 4,\n",
       "       4, 0, 0, 6, 9, 8, 8, 1, 2, 9, 8, 6, 2, 8, 9, 1, 3, 8, 8, 2, 8, 7,\n",
       "       4, 1, 7, 1, 5, 3, 6, 1, 2, 1, 3, 6, 7, 9, 3, 0, 7, 5, 3, 8, 4, 4,\n",
       "       5, 9, 2, 9, 7, 2, 6, 7, 4, 5])"
      ]
     },
     "execution_count": 12,
     "metadata": {},
     "output_type": "execute_result"
    }
   ],
   "source": [
    "grid_search.predict(X_test)"
   ]
  },
  {
   "cell_type": "code",
   "execution_count": 13,
   "metadata": {},
   "outputs": [
    {
     "data": {
      "text/plain": [
       "0.9888888888888889"
      ]
     },
     "execution_count": 13,
     "metadata": {},
     "output_type": "execute_result"
    }
   ],
   "source": [
    "grid_search.score(X_test, y_test)"
   ]
  },
  {
   "cell_type": "code",
   "execution_count": 14,
   "metadata": {},
   "outputs": [
    {
     "data": {
      "text/plain": [
       "{'C': 1.0, 'gamma': 0.001}"
      ]
     },
     "execution_count": 14,
     "metadata": {},
     "output_type": "execute_result"
    }
   ],
   "source": [
    "grid_search.best_params_"
   ]
  },
  {
   "cell_type": "code",
   "execution_count": 15,
   "metadata": {},
   "outputs": [
    {
     "data": {
      "text/plain": [
       "0.9910945890128046"
      ]
     },
     "execution_count": 15,
     "metadata": {},
     "output_type": "execute_result"
    }
   ],
   "source": [
    "grid_search.best_score_"
   ]
  },
  {
   "cell_type": "code",
   "execution_count": 16,
   "metadata": {},
   "outputs": [
    {
     "data": {
      "text/plain": [
       "SVC(C=1.0, break_ties=False, cache_size=200, class_weight=None, coef0=0.0,\n",
       "    decision_function_shape='ovr', degree=3, gamma=0.001, kernel='rbf',\n",
       "    max_iter=-1, probability=False, random_state=None, shrinking=True,\n",
       "    tol=0.001, verbose=False)"
      ]
     },
     "execution_count": 16,
     "metadata": {},
     "output_type": "execute_result"
    }
   ],
   "source": [
    "grid_search.best_estimator_"
   ]
  },
  {
   "cell_type": "code",
   "execution_count": 17,
   "metadata": {},
   "outputs": [
    {
     "data": {
      "image/png": "[encoded data removed]",
      "text/plain": [
       "<Figure size 288x345.6 with 2 Axes>"
      ]
     },
     "metadata": {
      "needs_background": "light"
     },
     "output_type": "display_data"
    }
   ],
   "source": [
    "scores = grid_search.cv_results_['mean_test_score']\n",
    "scores = np.array(scores).reshape(6, 5)\n",
    "\n",
    "plt.matshow(scores)\n",
    "plt.xlabel('gamma')\n",
    "plt.ylabel('C')\n",
    "plt.colorbar()\n",
    "plt.xticks(np.arange(5), param_grid['gamma'])\n",
    "plt.yticks(np.arange(6), param_grid['C']);"
   ]
  },
  {
   "cell_type": "markdown",
   "metadata": {},
   "source": [
    "### Ejercicios\n",
    "\n",
    "1. Usa `GridSearchCV` para ajustar `n_neighbors` de `KNeighborsClassifier`.\n",
    "\n",
    "2. Compara la velocidad  y exactitud de `LogisticRegression`, `LinearSVC` y `SGDClassifier` en el conjunto de datos `bank campaign` y `adult`. Prueba con `LogisticRegression(solver='sag')`"
   ]
  },
  {
   "cell_type": "code",
   "execution_count": 18,
   "metadata": {},
   "outputs": [],
   "source": [
    "## Tus soluciones"
   ]
  },
  {
   "cell_type": "code",
   "execution_count": 19,
   "metadata": {},
   "outputs": [
    {
     "name": "stdout",
     "output_type": "stream",
     "text": [
      "Mejores parametros: {'n_neighbors': 1}\n",
      "Exactitud del conjunto de entrenamiento: 1.0\n",
      "Exactitud del conjunto de pruebas: 0.9888888888888889\n"
     ]
    },
    {
     "data": {
      "text/plain": [
       "<matplotlib.legend.Legend at 0x7f49ed62cc50>"
      ]
     },
     "execution_count": 19,
     "metadata": {},
     "output_type": "execute_result"
    },
    {
     "data": {
      "image/png": "[encoded data removed]",
      "text/plain": [
       "<Figure size 432x288 with 1 Axes>"
      ]
     },
     "metadata": {
      "needs_background": "light"
     },
     "output_type": "display_data"
    }
   ],
   "source": [
    "from sklearn.model_selection import GridSearchCV\n",
    "\n",
    "from sklearn.neighbors import KNeighborsClassifier\n",
    "from sklearn.model_selection import train_test_split\n",
    "\n",
    "param_grid = {'n_neighbors': [1, 3, 5, 7, 10]}\n",
    "\n",
    "grid = GridSearchCV(KNeighborsClassifier(), param_grid=param_grid,\n",
    "                    return_train_score=True)\n",
    "grid.fit(X_train, y_train)\n",
    "\n",
    "print(\"Mejores parametros: %s\" % grid.best_params_)\n",
    "print(\"Exactitud del conjunto de entrenamiento: %s\" % grid.score(X_train, y_train))\n",
    "print(\"Exactitud del conjunto de pruebas: %s\" % grid.score(X_test, y_test))\n",
    "results = grid.cv_results_\n",
    "plt.plot(param_grid['n_neighbors'], results['mean_train_score'], label=\"train\")\n",
    "plt.plot(param_grid['n_neighbors'], results['mean_test_score'], label=\"test\")\n",
    "plt.legend()"
   ]
  },
  {
   "cell_type": "code",
   "execution_count": null,
   "metadata": {},
   "outputs": [],
   "source": []
  }
 ],
 "metadata": {
  "anaconda-cloud": {},
  "kernelspec": {
   "display_name": "Python 3",
   "language": "python",
   "name": "python3"
  },
  "language_info": {
   "codemirror_mode": {
    "name": "ipython",
    "version": 3
   },
   "file_extension": ".py",
   "mimetype": "text/x-python",
   "name": "python",
   "nbconvert_exporter": "python",
   "pygments_lexer": "ipython3",
   "version": "3.7.6"
  }
 },
 "nbformat": 4,
 "nbformat_minor": 2
}

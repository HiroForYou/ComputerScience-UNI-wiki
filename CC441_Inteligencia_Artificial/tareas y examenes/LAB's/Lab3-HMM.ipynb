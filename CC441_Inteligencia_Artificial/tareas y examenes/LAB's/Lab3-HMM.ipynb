{
 "cells": [
  {
   "cell_type": "markdown",
   "metadata": {},
   "source": [
    "## Curso de Inteligencia Artificial\n",
    "\n",
    "### Modelo de Markov\n",
    "\n",
    "Una cadena de Markov (modelo) describe un proceso estocástico donde la probabilidad supuesta de estados futuros depende solo del estado actual del proceso y no de ninguno de los estados que lo precedieron.\n",
    "\n",
    "### ¿Qué es la propiedad de Markov?\n",
    "\n",
    "    \"... un proceso aleatorio donde el futuro es independiente del pasado dado el presente\".\n",
    "\n",
    "Supongamos un juego de lanzamiento de una moneda simplificado con una moneda justa. Nos gustaría predecir la probabilidad de que salga la cara después de $10$ tiros. Bajo el supuesto de dependencia condicional (la moneda tiene memoria de estados pasados  y el estado futuro depende de la secuencia de estados pasados) debemos registrar la secuencia específica que conduce al undécimo lanzamiento y las probabilidades conjuntas de esos lanzamientos. Así que imagina que después de $10$ lanzamientos tenemos una secuencia aleatoria de caras y sellos. \n",
    "\n",
    "La probabilidad conjunta de esa secuencia es $0.5^{10} = 0.0009765625$. Bajo dependencia condicional, la probabilidad de que salga cara en el próximo lanzamiento es $0.0009765625 * 0.5 = 0.00048828125$ .\n",
    "\n",
    "¿Es esa la probabilidad real de que salga cara en el undécimo lanzamiento?\n",
    "\n",
    "Sabemos que el evento de lanzar la moneda no depende del resultado del lanzamiento anterior. La moneda no tiene memoria. El proceso de lanzamientos sucesivos no codifica los resultados anteriores. Cada lanzamiento es un evento único con la misma probabilidad de cara o sello, también conocido como condicionalmente independiente de estados pasados. Esta es la propiedad de Markov.\n",
    "\n",
    "\n",
    "\n",
    "En el ejemplo siguiente, supongamos que deseamos modelar la probabilidad futura de que alguien se encuentra en uno de los tres estados dados del dia y su estado actual de salud. Para hacer esto, necesitamos especificar el espacio de estados, las probabilidades iniciales y las probabilidades de transición.\n",
    "\n",
    "Estableceremos las probabilidades iniciales en $35\\%$, $35\\%$ y $30\\%$ respectivamente."
   ]
  },
  {
   "cell_type": "code",
   "execution_count": null,
   "metadata": {},
   "outputs": [],
   "source": [
    "import numpy as np\n",
    "import pandas as pd\n",
    "import networkx as nx\n",
    "import matplotlib.pyplot as plt\n",
    "%matplotlib inline\n",
    "\n",
    "\n",
    "estados = ['soleado', 'nublado', 'lloviendo']\n",
    "pi = [0.35, 0.35, 0.3]\n",
    "espacio_estados = pd.Series(pi, index=estados, name='estados')\n",
    "print(espacio_estados)\n",
    "print(espacio_estados.sum())"
   ]
  },
  {
   "cell_type": "markdown",
   "metadata": {},
   "source": [
    "El siguiente paso es definir las probabilidades de transición. Son simplemente las probabilidades de permanecer en el mismo estado o pasar a un estado diferente dado el estado actual."
   ]
  },
  {
   "cell_type": "code",
   "execution_count": null,
   "metadata": {},
   "outputs": [],
   "source": [
    "q_df = pd.DataFrame(columns=estados, index=estados)\n",
    "q_df.loc[estados[0]] = [0.4, 0.2, 0.4]\n",
    "q_df.loc[estados[1]] = [0.45, 0.45, 0.1]\n",
    "q_df.loc[estados[2]] = [0.45, 0.25, .3]\n",
    "\n",
    "print(q_df)\n",
    "\n",
    "q = q_df.values\n",
    "print('\\n', q, q.shape, '\\n')\n",
    "print(q_df.sum(axis=1))"
   ]
  },
  {
   "cell_type": "markdown",
   "metadata": {},
   "source": [
    "Ahora que tenemos la configuración de probabilidades inicial y de transición, podemos crear un diagrama de Markov usando el paquete Networkx.\n",
    "\n",
    "En el ejemplo, los posibles estados son los nodos y los bordes son las líneas que conectan los nodos. Las probabilidades de transición son los pesos. Representan la probabilidad de pasar a un estado dado el estado actual.\n",
    "\n",
    "Algo a tener en cuenta es que networkx se ocupa principalmente de objetos de diccionario. Dicho esto, necesitamos crear un objeto de diccionario que contenga nuestros bordes y sus pesos."
   ]
  },
  {
   "cell_type": "code",
   "execution_count": null,
   "metadata": {},
   "outputs": [],
   "source": [
    "from pprint import pprint \n",
    "\n",
    "def _bordes_markov(Q):\n",
    "    bordes = {}\n",
    "    for col in Q.columns:\n",
    "        for idx in Q.index:\n",
    "            bordes[(idx,col)] = Q.loc[idx,col]\n",
    "    return bordes\n",
    "\n",
    "pesos_bordes = _bordes_markov(q_df)\n",
    "pprint(pesos_bordes)"
   ]
  },
  {
   "cell_type": "markdown",
   "metadata": {},
   "source": [
    "Para visualizar un modelo de Markov necesitamos usar `nx.MultiDiGraph()`. Un multidigrafo es simplemente un grafo dirigido que puede tener múltiples arcos de modo que un solo nodo puede ser tanto el origen como el destino.\n",
    "\n",
    "En el siguiente código, creamos el objeto grafo, agregamos los nodos, bordes y etiquetas, luego dibujamos un grafo de networkx (no muy bueno)  mientras generamos nuestro grafo en un archivo `.dot`.\n"
   ]
  },
  {
   "cell_type": "code",
   "execution_count": null,
   "metadata": {},
   "outputs": [],
   "source": [
    "G = nx.MultiDiGraph()\n",
    "\n",
    "G.add_nodes_from(estados)\n",
    "print(f'Nodos:\\n{G.nodes()}\\n')\n",
    "\n",
    "for k, v in pesos_bordes.items():\n",
    "    origen_temporal, destino_temporal = k[0], k[1]\n",
    "    G.add_edge(origen_temporal, destino_temporal, weight=v, label=v)\n",
    "print(f'Bordes:')\n",
    "pprint(G.edges(data=True))    \n",
    "\n",
    "pos = nx.drawing.nx_pydot.graphviz_layout(G, prog='dot')\n",
    "nx.draw_networkx(G, pos)\n",
    "\n",
    "etiquetas_bordes = {(n1,n2):d['label'] for n1,n2,d in G.edges(data=True)}\n",
    "nx.draw_networkx_edge_labels(G , pos, edge_labels=etiquetas_bordes)\n",
    "nx.drawing.nx_pydot.write_dot(G, 'markov.dot')"
   ]
  },
  {
   "cell_type": "markdown",
   "metadata": {},
   "source": [
    "De los resultos, por ejemplo, si está soleado, podemos ver que hay un $40\\%$ de probabilidad de que  siga soleado, un $40\\%$ de probabilidad de que el clima cambie a nublado y un $20\\%$ de probabilidad de que llueva."
   ]
  },
  {
   "cell_type": "markdown",
   "metadata": {},
   "source": [
    "## Modelos Ocultos de Markov\n",
    "\n",
    "Consideramos una situación en la que no conocemos el verdadero estado de alguien (puede ser una enfermedad), por lo que se le oculta. Una forma de modelar esto es asumir que alguien tiene comportamientos observables que representan el verdadero estado oculto. Veamos un ejemplo.\n",
    "\n",
    "Primero creamos nuestro espacio de estado, `saludable` o `enfermo`. Asumimos que son equiprobables."
   ]
  },
  {
   "cell_type": "code",
   "execution_count": null,
   "metadata": {},
   "outputs": [],
   "source": [
    "estados_ocultos = ['saludable', 'enfermo']\n",
    "pi = [0.5, 0.5]\n",
    "espacio_estados = pd.Series(pi, index=estados_ocultos, name='estados')\n",
    "print(espacio_estados)\n",
    "print('\\n', espacio_estados.sum())\n"
   ]
  },
  {
   "cell_type": "markdown",
   "metadata": {},
   "source": [
    "A continuación, creamos nuestra matriz de transición para los estados ocultos."
   ]
  },
  {
   "cell_type": "code",
   "execution_count": null,
   "metadata": {},
   "outputs": [],
   "source": [
    "a_df = pd.DataFrame(columns=estados_ocultos, index=estados_ocultos)\n",
    "a_df.loc[estados_ocultos[0]] = [0.7, 0.3]\n",
    "a_df.loc[estados_ocultos[1]] = [0.4, 0.6]\n",
    "\n",
    "print(a_df)\n",
    "\n",
    "a = a_df.values\n",
    "print('\\n', a, a.shape, '\\n')\n",
    "print(a_df.sum(axis=1))"
   ]
  },
  {
   "cell_type": "markdown",
   "metadata": {},
   "source": [
    "Ahora creamos la matriz de probabilidad de emisión u observación. Esta matriz es de tamaño $M \\times O$ donde $M$ es el número de estados ocultos y $O$ es el número de estados observables posibles.\n",
    "\n",
    "La matriz de emisión nos dice la probabilidad de que alguien esté en uno de los estados ocultos, dado el estado observable actual.\n",
    "\n",
    "Mantengamos los mismos estados observables del ejemplo anterior."
   ]
  },
  {
   "cell_type": "code",
   "execution_count": null,
   "metadata": {},
   "outputs": [],
   "source": [
    "estados_observables = estados\n",
    "\n",
    "b_df = pd.DataFrame(columns=estados_observables, index=estados_ocultos)\n",
    "b_df.loc[estados_ocultos[0]] = [0.2, 0.6, 0.2]\n",
    "b_df.loc[estados_ocultos[1]] = [0.4, 0.1, 0.5]\n",
    "\n",
    "print(b_df)\n",
    "\n",
    "b = b_df.values\n",
    "print('\\n', b, b.shape, '\\n')\n",
    "print(b_df.sum(axis=1))"
   ]
  },
  {
   "cell_type": "markdown",
   "metadata": {},
   "source": [
    "Ahora creamos los bordes del grafo y el objeto grafo."
   ]
  },
  {
   "cell_type": "code",
   "execution_count": null,
   "metadata": {},
   "outputs": [],
   "source": [
    "pesos_bordes_ocultos = _bordes_markov(a_df)\n",
    "pprint(pesos_bordes_ocultos)\n",
    "\n",
    "pesos_bordes_emitido = _bordes_markov(b_df)\n",
    "pprint(pesos_bordes_emitido)"
   ]
  },
  {
   "cell_type": "code",
   "execution_count": null,
   "metadata": {},
   "outputs": [],
   "source": [
    "G = nx.MultiDiGraph()\n",
    "\n",
    "G.add_nodes_from(estados_ocultos)\n",
    "print(f'Nodos:\\n{G.nodes()}\\n')\n",
    "\n",
    "for k, v in pesos_bordes_ocultos.items():\n",
    "    origen_temporal, destino_temporal = k[0], k[1]\n",
    "    G.add_edge(origen_temporal, destino_temporal, weight=v, label=v)\n",
    "\n",
    "for k, v in pesos_bordes_emitido.items():\n",
    "    origen_temporal, destino_temporal = k[0], k[1]\n",
    "    G.add_edge(origen_temporal, destino_temporal, weight=v, label=v)\n",
    "    \n",
    "print(f'Bordes:')\n",
    "pprint(G.edges(data=True))    \n",
    "\n",
    "pos = nx.drawing.nx_pydot.graphviz_layout(G, prog='neato')\n",
    "nx.draw_networkx(G, pos)\n",
    "\n",
    "etiquetas_bordes_emitidos = {(n1,n2):d['label'] for n1,n2,d in G.edges(data=True)}\n",
    "nx.draw_networkx_edge_labels(G , pos, edge_labels=etiquetas_bordes_emitidos)\n",
    "nx.drawing.nx_pydot.write_dot(G, 'markov_oculto.dot')\n"
   ]
  },
  {
   "cell_type": "markdown",
   "metadata": {},
   "source": [
    "El grafo de Markov oculto es un poco más complejo, pero los principios son los mismos. Por ejemplo, cabría esperar que si alguien es saludable hay una alta probabilidad de que esté nublado ($60\\%$) y una probabilidad muy baja de que el alguien esté enfermo ($10\\%$).\n",
    "\n",
    "Ahora, ¿qué pasaría si necesitara discernir la salud de alguien a lo largo del tiempo dada una secuencia de observaciones?"
   ]
  },
  {
   "cell_type": "code",
   "execution_count": null,
   "metadata": {},
   "outputs": [],
   "source": [
    "obs_map = {'lluvioso':0, 'soleado':1, 'nublado':2}\n",
    "obs = np.array([1,1,2,1,0,1,2,1,0,2,2,0,1,0,1])\n",
    "\n",
    "inv_obs_map = dict((v,k) for k, v in obs_map.items())\n",
    "obs_seq = [inv_obs_map[v] for v in list(obs)]\n",
    "\n",
    "print( pd.DataFrame(np.column_stack([obs, obs_seq]), \n",
    "                columns=['Obs_code', 'Obs_seq']) )"
   ]
  },
  {
   "cell_type": "markdown",
   "metadata": {},
   "source": [
    "### Algoritmo de Viterbi\n",
    "\n",
    "Usando el algoritmo de Viterbi podemos identificar la secuencia más probable de estados ocultos dada la secuencia de observaciones.\n",
    "\n",
    "En el nivel alto, el algoritmo de Viterbi incrementa cada paso de tiempo, encontrando la probabilidad máxima de cualquier camino que llegue al estado `i` en el tiempo `t`, que también tiene las observaciones correctas para la secuencia hasta el tiempo `t`.\n",
    "\n",
    "El algoritmo también realiza un seguimiento del estado con mayor probabilidad en cada etapa. Al final de la secuencia, el algoritmo iterará hacia atrás seleccionando el estado que  'ganó' en cada paso de tiempo y así creará la ruta más probable, o la secuencia probable de estados ocultos que llevaron a la secuencia de observaciones."
   ]
  },
  {
   "cell_type": "code",
   "execution_count": null,
   "metadata": {},
   "outputs": [],
   "source": [
    "def viterbi(pi, a, b, obs):\n",
    "    \n",
    "    nEstados = np.shape(b)[0]\n",
    "    T = np.shape(obs)[0]\n",
    "    ruta = np.zeros(T, dtype=int)\n",
    "    # delta --> mayor probabilidad de cualquier ruta que llegue, al estado i\n",
    "    delta = np.zeros((nEstados, T))\n",
    "    # phi --> argmax por paso de tiempo para cada estado\n",
    "    phi = np.zeros((nEstados, T))\n",
    "    \n",
    "    # Inicio delta y  phi \n",
    "    delta[:, 0] = pi * b[:, obs[0]]\n",
    "    phi[:, 0] = 0\n",
    "\n",
    "    print('\\nInicio del Forward\\n')    \n",
    "    # Extension del algoritmo Forward\n",
    "    for t in range(1, T):\n",
    "        for s in range(nEstados):\n",
    "            delta[s, t] = np.max(delta[:, t-1] * a[:, s]) * b[s, obs[t]] \n",
    "            phi[s, t] = np.argmax(delta[:, t-1] * a[:, s])\n",
    "            print('s={s} y t={t}: phi[{s}, {t}] = {phi}'.format(s=s, t=t, phi=phi[s, t]))\n",
    "    \n",
    "    # Encontrando la ruta optima\n",
    "    print('-'*50)\n",
    "    print('Backtrace\\n')\n",
    "    ruta[T-1] = np.argmax(delta[:, T-1])\n",
    "    for t in range(T-2, -1, -1):\n",
    "        ruta[t] = phi[ruta[t+1], [t+1]]\n",
    "        print('ruta[{}] = {}'.format(t, ruta[t]))\n",
    "        \n",
    "    return ruta, delta, phi\n",
    "\n",
    "ruta, delta, phi = viterbi(pi, a, b, obs)\n",
    "print('\\nMejor ruta de estado: \\n', ruta)\n",
    "print('delta:\\n', delta)\n",
    "print('phi:\\n', phi)"
   ]
  },
  {
   "cell_type": "markdown",
   "metadata": {},
   "source": [
    "Echemos un vistazo al resultado:"
   ]
  },
  {
   "cell_type": "code",
   "execution_count": null,
   "metadata": {},
   "outputs": [],
   "source": [
    "mapa_estado = {0:'saludable', 1:'enfermo'}\n",
    "ruta_estado = [mapa_estado[v] for v in ruta]\n",
    "\n",
    "(pd.DataFrame()\n",
    " .assign(Observaciones=obs_seq)\n",
    " .assign(Mejor_ruta=ruta_estado))"
   ]
  },
  {
   "cell_type": "code",
   "execution_count": null,
   "metadata": {},
   "outputs": [],
   "source": []
  }
 ],
 "metadata": {
  "kernelspec": {
   "display_name": "Python 3",
   "language": "python",
   "name": "python3"
  },
  "language_info": {
   "codemirror_mode": {
    "name": "ipython",
    "version": 3
   },
   "file_extension": ".py",
   "mimetype": "text/x-python",
   "name": "python",
   "nbconvert_exporter": "python",
   "pygments_lexer": "ipython3",
   "version": "3.7.6"
  }
 },
 "nbformat": 4,
 "nbformat_minor": 4
}

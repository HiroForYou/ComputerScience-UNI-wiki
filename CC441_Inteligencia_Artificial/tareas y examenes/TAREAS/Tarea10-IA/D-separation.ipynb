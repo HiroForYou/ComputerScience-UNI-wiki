{
 "cells": [
  {
   "cell_type": "markdown",
   "metadata": {},
   "source": [
    "## Curso de Inteligencia Artificial\n",
    "\n",
    "\n",
    "### Tarea 10 \n",
    "\n",
    "**D-separación en redes bayesianas**\n",
    "\n",
    "\n",
    "En esta cuaderno se va a implementar [d-separation](https://cgi.csc.liv.ac.uk/~xiaowei/ai_materials/26-PGM-D-separation.pdf), tema desarrollado en clase.\n",
    "\n",
    "### Ejercicios\n",
    "\n",
    "Implementa las partes que faltan del archivo `Dseparacion.py`, las que tienen todos los comentarios en el código. Puedes ver si obtienes los resultados correctos en una red de estructura `V ` simple. Para obtener más redes de ejemplo, revisa `pruebas.py`.\n",
    "\n"
   ]
  },
  {
   "cell_type": "code",
   "execution_count": null,
   "metadata": {},
   "outputs": [],
   "source": [
    "import Dseparation"
   ]
  },
  {
   "cell_type": "code",
   "execution_count": null,
   "metadata": {},
   "outputs": [],
   "source": [
    "import matplotlib.pyplot as plt\n",
    "import pruebas\n",
    "\n",
    "g = pruebas.bn_v_estructura()\n",
    "g.obtener_accesibles('X', plot=True)\n",
    "plt.show()\n",
    "g.obtener_accesibles('X', ['Z'], plot=True)\n",
    "plt.show()"
   ]
  },
  {
   "cell_type": "code",
   "execution_count": null,
   "metadata": {},
   "outputs": [],
   "source": [
    "### Tus respuesta"
   ]
  }
 ],
 "metadata": {
  "kernelspec": {
   "display_name": "Python 3",
   "language": "python",
   "name": "python3"
  },
  "language_info": {
   "codemirror_mode": {
    "name": "ipython",
    "version": 3
   },
   "file_extension": ".py",
   "mimetype": "text/x-python",
   "name": "python",
   "nbconvert_exporter": "python",
   "pygments_lexer": "ipython3",
   "version": "3.6.9"
  }
 },
 "nbformat": 4,
 "nbformat_minor": 4
}

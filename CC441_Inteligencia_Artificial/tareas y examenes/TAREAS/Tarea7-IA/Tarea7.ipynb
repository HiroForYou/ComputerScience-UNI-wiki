{
 "cells": [
  {
   "cell_type": "markdown",
   "metadata": {},
   "source": [
    "## Tarea 7 \n",
    "\n",
    "* Temas\n",
    "    - Gradient Boosting\n",
    "    - Pipeline\n",
    "    - Métricas de evaluación en clasificación\n",
    "    \n",
    "* Revisa los cuadernos entregados en la tarea para guiarte.\n",
    "\n",
    "* Leer la documentación de [scikit-learn Machine Learning in Python](https://sklearn.org/).\n",
    "\n",
    "* Nombre y apellidos: Sánchez Sauñe Cristhian Wiki\n",
    "\n"
   ]
  },
  {
   "cell_type": "markdown",
   "metadata": {},
   "source": [
    "## Lista de preguntas:"
   ]
  },
  {
   "cell_type": "markdown",
   "metadata": {},
   "source": [
    "1 .Usa `GradientBoostingRegressor` sobre el conjunto de datos `Bike`. Busca  sobre `learning_rate` y `max_depth` usando `GridSearchCV`. ¿ Qué ocurre si se cambia `n_estimators`?\n",
    "\n",
    "Compare la velocidad de `XGBClassifier` con `GradientBoostingRegressor`. ¿Qué tan bien le va a `XGBClassifier` con los valores predeterminados en el conjunto de datos `Bike` ? ¿Puedes hacerlo mejor?"
   ]
  },
  {
   "cell_type": "code",
   "execution_count": 1,
   "metadata": {},
   "outputs": [],
   "source": [
    "# Tu solucion\n",
    "import pandas as pd\n",
    "from sklearn.ensemble import GradientBoostingRegressor\n",
    "from sklearn.model_selection import train_test_split\n",
    "from sklearn.model_selection import GridSearchCV"
   ]
  },
  {
   "cell_type": "code",
   "execution_count": null,
   "metadata": {},
   "outputs": [],
   "source": [
    "bike = pd.read_csv(\"./datos/bike_day_raw.csv\")"
   ]
  },
  {
   "cell_type": "code",
   "execution_count": 11,
   "metadata": {},
   "outputs": [
    {
     "data": {
      "text/html": [
       "<div>\n",
       "<style scoped>\n",
       "    .dataframe tbody tr th:only-of-type {\n",
       "        vertical-align: middle;\n",
       "    }\n",
       "\n",
       "    .dataframe tbody tr th {\n",
       "        vertical-align: top;\n",
       "    }\n",
       "\n",
       "    .dataframe thead th {\n",
       "        text-align: right;\n",
       "    }\n",
       "</style>\n",
       "<table border=\"1\" class=\"dataframe\">\n",
       "  <thead>\n",
       "    <tr style=\"text-align: right;\">\n",
       "      <th></th>\n",
       "      <th>season</th>\n",
       "      <th>mnth</th>\n",
       "      <th>holiday</th>\n",
       "      <th>weekday</th>\n",
       "      <th>workingday</th>\n",
       "      <th>weathersit</th>\n",
       "      <th>temp</th>\n",
       "      <th>atemp</th>\n",
       "      <th>hum</th>\n",
       "      <th>windspeed</th>\n",
       "      <th>cnt</th>\n",
       "    </tr>\n",
       "  </thead>\n",
       "  <tbody>\n",
       "    <tr>\n",
       "      <th>0</th>\n",
       "      <td>1</td>\n",
       "      <td>1</td>\n",
       "      <td>0</td>\n",
       "      <td>6</td>\n",
       "      <td>0</td>\n",
       "      <td>2</td>\n",
       "      <td>0.344167</td>\n",
       "      <td>0.363625</td>\n",
       "      <td>0.805833</td>\n",
       "      <td>0.160446</td>\n",
       "      <td>985</td>\n",
       "    </tr>\n",
       "    <tr>\n",
       "      <th>1</th>\n",
       "      <td>1</td>\n",
       "      <td>1</td>\n",
       "      <td>0</td>\n",
       "      <td>0</td>\n",
       "      <td>0</td>\n",
       "      <td>2</td>\n",
       "      <td>0.363478</td>\n",
       "      <td>0.353739</td>\n",
       "      <td>0.696087</td>\n",
       "      <td>0.248539</td>\n",
       "      <td>801</td>\n",
       "    </tr>\n",
       "    <tr>\n",
       "      <th>2</th>\n",
       "      <td>1</td>\n",
       "      <td>1</td>\n",
       "      <td>0</td>\n",
       "      <td>1</td>\n",
       "      <td>1</td>\n",
       "      <td>1</td>\n",
       "      <td>0.196364</td>\n",
       "      <td>0.189405</td>\n",
       "      <td>0.437273</td>\n",
       "      <td>0.248309</td>\n",
       "      <td>1349</td>\n",
       "    </tr>\n",
       "    <tr>\n",
       "      <th>3</th>\n",
       "      <td>1</td>\n",
       "      <td>1</td>\n",
       "      <td>0</td>\n",
       "      <td>2</td>\n",
       "      <td>1</td>\n",
       "      <td>1</td>\n",
       "      <td>0.200000</td>\n",
       "      <td>0.212122</td>\n",
       "      <td>0.590435</td>\n",
       "      <td>0.160296</td>\n",
       "      <td>1562</td>\n",
       "    </tr>\n",
       "    <tr>\n",
       "      <th>4</th>\n",
       "      <td>1</td>\n",
       "      <td>1</td>\n",
       "      <td>0</td>\n",
       "      <td>3</td>\n",
       "      <td>1</td>\n",
       "      <td>1</td>\n",
       "      <td>0.226957</td>\n",
       "      <td>0.229270</td>\n",
       "      <td>0.436957</td>\n",
       "      <td>0.186900</td>\n",
       "      <td>1600</td>\n",
       "    </tr>\n",
       "  </tbody>\n",
       "</table>\n",
       "</div>"
      ],
      "text/plain": [
       "   season  mnth  holiday  weekday  workingday  weathersit      temp     atemp  \\\n",
       "0       1     1        0        6           0           2  0.344167  0.363625   \n",
       "1       1     1        0        0           0           2  0.363478  0.353739   \n",
       "2       1     1        0        1           1           1  0.196364  0.189405   \n",
       "3       1     1        0        2           1           1  0.200000  0.212122   \n",
       "4       1     1        0        3           1           1  0.226957  0.229270   \n",
       "\n",
       "        hum  windspeed   cnt  \n",
       "0  0.805833   0.160446   985  \n",
       "1  0.696087   0.248539   801  \n",
       "2  0.437273   0.248309  1349  \n",
       "3  0.590435   0.160296  1562  \n",
       "4  0.436957   0.186900  1600  "
      ]
     },
     "execution_count": 11,
     "metadata": {},
     "output_type": "execute_result"
    }
   ],
   "source": [
    "bike.head()"
   ]
  },
  {
   "cell_type": "code",
   "execution_count": 17,
   "metadata": {},
   "outputs": [],
   "source": [
    "# ahora definiremos qué variables considerar importantes. Mirando los datos, queremos predecir el clima (1, 2 o 3), usando\n",
    "# solo las variables 'season', 'mnth', 'temp', 'atemp', 'hum', 'windspeed'. Sobre las demás variables no se encontró mucha\n",
    "# información\n",
    "\n",
    "# prodecemos a hacer crop sobre las columnas no mencionadas\n",
    "delete_list = [\"holiday\", \"weekday\", \"workingday\", \"weathersit\"]\n",
    "X = bike.drop(delete_list, axis=1).values\n",
    "y = bike.cnt.values\n"
   ]
  },
  {
   "cell_type": "code",
   "execution_count": 19,
   "metadata": {},
   "outputs": [
    {
     "data": {
      "text/plain": [
       "GradientBoostingRegressor(random_state=0)"
      ]
     },
     "execution_count": 19,
     "metadata": {},
     "output_type": "execute_result"
    }
   ],
   "source": [
    "# división de lo datos\n",
    "\n",
    "X_train, X_test, y_train, y_test = train_test_split(X, y, test_size = 0.3, random_state=0)\n",
    "reg = GradientBoostingRegressor(random_state=0)\n",
    "\n",
    "\n"
   ]
  },
  {
   "cell_type": "code",
   "execution_count": 29,
   "metadata": {},
   "outputs": [],
   "source": [
    "# definimos los hiperparámetros para la búsqueda GRID\n",
    "param_grid_1 = {'learning_rate': [0.001, 0.01, 0.1, 1, 0.005],\n",
    "             'max_depth': [3, 6, 9, 12]}\n"
   ]
  },
  {
   "cell_type": "code",
   "execution_count": 30,
   "metadata": {},
   "outputs": [
    {
     "data": {
      "text/plain": [
       "GridSearchCV(estimator=GradientBoostingRegressor(random_state=0),\n",
       "             param_grid={'learning_rate': [0.001, 0.01, 0.1, 1, 0.005],\n",
       "                         'max_depth': [3, 6, 9, 12]})"
      ]
     },
     "execution_count": 30,
     "metadata": {},
     "output_type": "execute_result"
    }
   ],
   "source": [
    "# instanciamos la búsqueda grid\n",
    "grid = GridSearchCV(reg, param_grid=param_grid_1)\n",
    "\n",
    "# ahora entrenamos\n",
    "grid.fit(X_train, y_train)"
   ]
  },
  {
   "cell_type": "code",
   "execution_count": 31,
   "metadata": {},
   "outputs": [
    {
     "name": "stdout",
     "output_type": "stream",
     "text": [
      "input:  [[3.       7.       0.75     0.686871 0.65125  0.1592  ]]\n",
      "target:  [1]\n",
      "predicción:  [1.14962339]\n"
     ]
    }
   ],
   "source": [
    "# hacemos una predicción\n",
    "\n",
    "print(\"input: \", X_test[1:2])\n",
    "print(\"target: \", y_test[1:2])\n",
    "print(\"predicción: \", grid.predict(X_test[1:2]))"
   ]
  },
  {
   "cell_type": "code",
   "execution_count": 32,
   "metadata": {},
   "outputs": [
    {
     "data": {
      "text/plain": [
       "0.3762085743615763"
      ]
     },
     "execution_count": 32,
     "metadata": {},
     "output_type": "execute_result"
    }
   ],
   "source": [
    "# evaluamos los puntajes obtenidos en nuestro conjunto de prueba\n",
    "grid.score(X_test, y_test)"
   ]
  },
  {
   "cell_type": "code",
   "execution_count": 33,
   "metadata": {},
   "outputs": [
    {
     "name": "stdout",
     "output_type": "stream",
     "text": [
      "Mejores parametros:  {'learning_rate': 0.1, 'max_depth': 3}\n"
     ]
    }
   ],
   "source": [
    "print(\"Mejores parametros: \", grid.best_params_)"
   ]
  },
  {
   "cell_type": "code",
   "execution_count": 34,
   "metadata": {},
   "outputs": [
    {
     "data": {
      "text/plain": [
       "GridSearchCV(estimator=GradientBoostingRegressor(random_state=0),\n",
       "             param_grid={'learning_rate': [0.001, 0.01, 0.1, 1, 0.005],\n",
       "                         'max_depth': [3, 6, 9, 12],\n",
       "                         'n_estimators': [100, 50, 150, 180, 200]})"
      ]
     },
     "execution_count": 34,
     "metadata": {},
     "output_type": "execute_result"
    }
   ],
   "source": [
    "# extendemos la búsqueda grid\n",
    "param_grid_2 = {'n_estimators': [100, 50, 150, 180, 200],\n",
    "              'learning_rate': [0.001, 0.01, 0.1, 1, 0.005],\n",
    "             'max_depth': [3, 6, 9, 12]}\n",
    "\n",
    "# instanciamos la búsqueda grid\n",
    "grid2 = GridSearchCV(reg, param_grid=param_grid_2)\n",
    "\n",
    "# ahora entrenamos\n",
    "grid2.fit(X_train, y_train)"
   ]
  },
  {
   "cell_type": "code",
   "execution_count": 35,
   "metadata": {},
   "outputs": [
    {
     "data": {
      "text/plain": [
       "0.4177166694465374"
      ]
     },
     "execution_count": 35,
     "metadata": {},
     "output_type": "execute_result"
    }
   ],
   "source": [
    "grid2.score(X_test, y_test)"
   ]
  },
  {
   "cell_type": "code",
   "execution_count": 42,
   "metadata": {},
   "outputs": [
    {
     "name": "stdout",
     "output_type": "stream",
     "text": [
      "Mejores parametros:  {'learning_rate': 0.1, 'max_depth': 3, 'n_estimators': 50}\n"
     ]
    },
    {
     "data": {
      "text/plain": [
       "'Concluimos que n_estimators si influye a que nuestro modelo tenga un mejor resultado, pero sigue siendo bajo'"
      ]
     },
     "execution_count": 42,
     "metadata": {},
     "output_type": "execute_result"
    }
   ],
   "source": [
    "print(\"Mejores hiperparámetros: \", grid2.best_params_)\n",
    "\n",
    "\n",
    "'''Concluimos que n_estimators si influye a que nuestro modelo tenga un mejor resultado, pero sigue siendo bajo'''"
   ]
  },
  {
   "cell_type": "code",
   "execution_count": 45,
   "metadata": {},
   "outputs": [
    {
     "name": "stdout",
     "output_type": "stream",
     "text": [
      "[01:22:12] WARNING: C:/Users/Administrator/workspace/xgboost-win64_release_1.3.0/src/learner.cc:1061: Starting in XGBoost 1.3.0, the default evaluation metric used with the objective 'multi:softprob' was changed from 'merror' to 'mlogloss'. Explicitly set eval_metric if you'd like to restore the old behavior.\n",
      "Puntaje en el conjunto de entrenamiento: 1.000000\n",
      "Puntaje en el conjunto de prueba: 0.727273\n"
     ]
    },
    {
     "data": {
      "text/plain": [
       "'Conclusión: Se obtienen resultados mucho mejores que los resultados previos, y eso sin realizar \\nuna búsqueda grid, esta técnica es muy eficaz. Se podría obtener resultados más que aceptables aplicando \\ngridSearch o randomSearch'"
      ]
     },
     "execution_count": 45,
     "metadata": {},
     "output_type": "execute_result"
    }
   ],
   "source": [
    "from xgboost import XGBClassifier\n",
    "import warnings\n",
    "warnings.filterwarnings(\"ignore\")\n",
    "\n",
    "xgb = XGBClassifier()\n",
    "xgb.fit(X_train, y_train)"
   ]
  },
  {
   "cell_type": "code",
   "execution_count": 46,
   "metadata": {},
   "outputs": [
    {
     "name": "stdout",
     "output_type": "stream",
     "text": [
      "input:  [[3.       7.       0.75     0.686871 0.65125  0.1592  ]]\n",
      "target:  [1]\n",
      "predicción:  [1]\n"
     ]
    }
   ],
   "source": [
    "# hacemos una predicción\n",
    "\n",
    "print(\"input: \", X_test[1:2])\n",
    "print(\"target: \", y_test[1:2])\n",
    "print(\"predicción: \", xgb.predict(X_test[1:2]))"
   ]
  },
  {
   "cell_type": "code",
   "execution_count": 47,
   "metadata": {},
   "outputs": [
    {
     "name": "stdout",
     "output_type": "stream",
     "text": [
      "Puntaje en el conjunto de entrenamiento: 1.000000\n",
      "Puntaje en el conjunto de prueba: 0.727273\n"
     ]
    },
    {
     "data": {
      "text/plain": [
       "'Conclusión: Se obtienen resultados mucho mejores que los resultados previos, y eso sin realizar \\nuna búsqueda grid, esta técnica es muy eficaz. Se podría obtener resultados más que aceptables aplicando \\ngridSearch o randomSearch.'"
      ]
     },
     "execution_count": 47,
     "metadata": {},
     "output_type": "execute_result"
    }
   ],
   "source": [
    "print(\"Puntaje en el conjunto de entrenamiento: %f\" % xgb.score(X_train, y_train))\n",
    "print(\"Puntaje en el conjunto de prueba: %f\" % xgb.score(X_test, y_test))\n",
    "\n",
    "\n",
    "'''Conclusión: Se obtienen resultados mucho mejores que los resultados previos, y eso sin realizar \n",
    "una búsqueda grid, esta técnica es muy eficaz. Se podría obtener resultados más que aceptables aplicando \n",
    "gridSearch o randomSearch. Sin embargo, también se debe tratar el notable sobreajuste'''"
   ]
  },
  {
   "cell_type": "markdown",
   "metadata": {},
   "source": [
    "2 .Carga el conjunto de datos `bank-campaign.csv`. Este conjunto de datos es el éxito de la comercialización de una campaña de marketing de banca telefónica. El objetivo es predecir el objetivo el resultado binario de que si un cliente se suscribió a un nuevo producto.\n",
    "\n",
    "Divide los datos  en conjuntos de entrenamiento y pruebas usando `train_test_split`. Usa `cross-validation` para evaluar un clasificador de bosques aleatorios `RandomForestClassifier` en la parte de entrenamiento. Entonces usa `GridSearchCV` para ajustar los paramétros `max_features` y `max_depth`. Crea un mapa de calor con los resultados de la validación cruzada para todo el  grid.\n",
    "\n",
    "Dibuja la influencia del `max_depth` en tiempo de ejecución."
   ]
  },
  {
   "cell_type": "code",
   "execution_count": 72,
   "metadata": {},
   "outputs": [
    {
     "data": {
      "text/html": [
       "<div>\n",
       "<style scoped>\n",
       "    .dataframe tbody tr th:only-of-type {\n",
       "        vertical-align: middle;\n",
       "    }\n",
       "\n",
       "    .dataframe tbody tr th {\n",
       "        vertical-align: top;\n",
       "    }\n",
       "\n",
       "    .dataframe thead th {\n",
       "        text-align: right;\n",
       "    }\n",
       "</style>\n",
       "<table border=\"1\" class=\"dataframe\">\n",
       "  <thead>\n",
       "    <tr style=\"text-align: right;\">\n",
       "      <th></th>\n",
       "      <th>age</th>\n",
       "      <th>duration</th>\n",
       "      <th>campaign</th>\n",
       "      <th>pdays</th>\n",
       "      <th>previous</th>\n",
       "      <th>emp.var.rate</th>\n",
       "      <th>cons.price.idx</th>\n",
       "      <th>cons.conf.idx</th>\n",
       "      <th>euribor3m</th>\n",
       "      <th>nr.employed</th>\n",
       "      <th>...</th>\n",
       "      <th>month_sep</th>\n",
       "      <th>day_of_week_fri</th>\n",
       "      <th>day_of_week_mon</th>\n",
       "      <th>day_of_week_thu</th>\n",
       "      <th>day_of_week_tue</th>\n",
       "      <th>day_of_week_wed</th>\n",
       "      <th>poutcome_failure</th>\n",
       "      <th>poutcome_nonexistent</th>\n",
       "      <th>poutcome_success</th>\n",
       "      <th>target</th>\n",
       "    </tr>\n",
       "  </thead>\n",
       "  <tbody>\n",
       "    <tr>\n",
       "      <th>0</th>\n",
       "      <td>56</td>\n",
       "      <td>261</td>\n",
       "      <td>1</td>\n",
       "      <td>999</td>\n",
       "      <td>0</td>\n",
       "      <td>1.1</td>\n",
       "      <td>93.994</td>\n",
       "      <td>-36.4</td>\n",
       "      <td>4.857</td>\n",
       "      <td>5191.0</td>\n",
       "      <td>...</td>\n",
       "      <td>0.0</td>\n",
       "      <td>0.0</td>\n",
       "      <td>1.0</td>\n",
       "      <td>0.0</td>\n",
       "      <td>0.0</td>\n",
       "      <td>0.0</td>\n",
       "      <td>0.0</td>\n",
       "      <td>1.0</td>\n",
       "      <td>0.0</td>\n",
       "      <td>no</td>\n",
       "    </tr>\n",
       "    <tr>\n",
       "      <th>1</th>\n",
       "      <td>57</td>\n",
       "      <td>149</td>\n",
       "      <td>1</td>\n",
       "      <td>999</td>\n",
       "      <td>0</td>\n",
       "      <td>1.1</td>\n",
       "      <td>93.994</td>\n",
       "      <td>-36.4</td>\n",
       "      <td>4.857</td>\n",
       "      <td>5191.0</td>\n",
       "      <td>...</td>\n",
       "      <td>0.0</td>\n",
       "      <td>0.0</td>\n",
       "      <td>1.0</td>\n",
       "      <td>0.0</td>\n",
       "      <td>0.0</td>\n",
       "      <td>0.0</td>\n",
       "      <td>0.0</td>\n",
       "      <td>1.0</td>\n",
       "      <td>0.0</td>\n",
       "      <td>no</td>\n",
       "    </tr>\n",
       "    <tr>\n",
       "      <th>2</th>\n",
       "      <td>37</td>\n",
       "      <td>226</td>\n",
       "      <td>1</td>\n",
       "      <td>999</td>\n",
       "      <td>0</td>\n",
       "      <td>1.1</td>\n",
       "      <td>93.994</td>\n",
       "      <td>-36.4</td>\n",
       "      <td>4.857</td>\n",
       "      <td>5191.0</td>\n",
       "      <td>...</td>\n",
       "      <td>0.0</td>\n",
       "      <td>0.0</td>\n",
       "      <td>1.0</td>\n",
       "      <td>0.0</td>\n",
       "      <td>0.0</td>\n",
       "      <td>0.0</td>\n",
       "      <td>0.0</td>\n",
       "      <td>1.0</td>\n",
       "      <td>0.0</td>\n",
       "      <td>no</td>\n",
       "    </tr>\n",
       "    <tr>\n",
       "      <th>3</th>\n",
       "      <td>40</td>\n",
       "      <td>151</td>\n",
       "      <td>1</td>\n",
       "      <td>999</td>\n",
       "      <td>0</td>\n",
       "      <td>1.1</td>\n",
       "      <td>93.994</td>\n",
       "      <td>-36.4</td>\n",
       "      <td>4.857</td>\n",
       "      <td>5191.0</td>\n",
       "      <td>...</td>\n",
       "      <td>0.0</td>\n",
       "      <td>0.0</td>\n",
       "      <td>1.0</td>\n",
       "      <td>0.0</td>\n",
       "      <td>0.0</td>\n",
       "      <td>0.0</td>\n",
       "      <td>0.0</td>\n",
       "      <td>1.0</td>\n",
       "      <td>0.0</td>\n",
       "      <td>no</td>\n",
       "    </tr>\n",
       "    <tr>\n",
       "      <th>4</th>\n",
       "      <td>56</td>\n",
       "      <td>307</td>\n",
       "      <td>1</td>\n",
       "      <td>999</td>\n",
       "      <td>0</td>\n",
       "      <td>1.1</td>\n",
       "      <td>93.994</td>\n",
       "      <td>-36.4</td>\n",
       "      <td>4.857</td>\n",
       "      <td>5191.0</td>\n",
       "      <td>...</td>\n",
       "      <td>0.0</td>\n",
       "      <td>0.0</td>\n",
       "      <td>1.0</td>\n",
       "      <td>0.0</td>\n",
       "      <td>0.0</td>\n",
       "      <td>0.0</td>\n",
       "      <td>0.0</td>\n",
       "      <td>1.0</td>\n",
       "      <td>0.0</td>\n",
       "      <td>no</td>\n",
       "    </tr>\n",
       "  </tbody>\n",
       "</table>\n",
       "<p>5 rows × 64 columns</p>\n",
       "</div>"
      ],
      "text/plain": [
       "   age  duration  campaign  pdays  previous  emp.var.rate  cons.price.idx  \\\n",
       "0   56       261         1    999         0           1.1          93.994   \n",
       "1   57       149         1    999         0           1.1          93.994   \n",
       "2   37       226         1    999         0           1.1          93.994   \n",
       "3   40       151         1    999         0           1.1          93.994   \n",
       "4   56       307         1    999         0           1.1          93.994   \n",
       "\n",
       "   cons.conf.idx  euribor3m  nr.employed  ...  month_sep  day_of_week_fri  \\\n",
       "0          -36.4      4.857       5191.0  ...        0.0              0.0   \n",
       "1          -36.4      4.857       5191.0  ...        0.0              0.0   \n",
       "2          -36.4      4.857       5191.0  ...        0.0              0.0   \n",
       "3          -36.4      4.857       5191.0  ...        0.0              0.0   \n",
       "4          -36.4      4.857       5191.0  ...        0.0              0.0   \n",
       "\n",
       "   day_of_week_mon  day_of_week_thu  day_of_week_tue  day_of_week_wed  \\\n",
       "0              1.0              0.0              0.0              0.0   \n",
       "1              1.0              0.0              0.0              0.0   \n",
       "2              1.0              0.0              0.0              0.0   \n",
       "3              1.0              0.0              0.0              0.0   \n",
       "4              1.0              0.0              0.0              0.0   \n",
       "\n",
       "   poutcome_failure  poutcome_nonexistent  poutcome_success  target  \n",
       "0               0.0                   1.0               0.0      no  \n",
       "1               0.0                   1.0               0.0      no  \n",
       "2               0.0                   1.0               0.0      no  \n",
       "3               0.0                   1.0               0.0      no  \n",
       "4               0.0                   1.0               0.0      no  \n",
       "\n",
       "[5 rows x 64 columns]"
      ]
     },
     "execution_count": 72,
     "metadata": {},
     "output_type": "execute_result"
    }
   ],
   "source": [
    "bank = pd.read_csv(\"./datos/bank-campaign.csv\")\n",
    "\n",
    "# analizaremos un poco los datos\n",
    "bank.head()"
   ]
  },
  {
   "cell_type": "code",
   "execution_count": 60,
   "metadata": {},
   "outputs": [
    {
     "data": {
      "text/html": [
       "<div>\n",
       "<style scoped>\n",
       "    .dataframe tbody tr th:only-of-type {\n",
       "        vertical-align: middle;\n",
       "    }\n",
       "\n",
       "    .dataframe tbody tr th {\n",
       "        vertical-align: top;\n",
       "    }\n",
       "\n",
       "    .dataframe thead th {\n",
       "        text-align: right;\n",
       "    }\n",
       "</style>\n",
       "<table border=\"1\" class=\"dataframe\">\n",
       "  <thead>\n",
       "    <tr style=\"text-align: right;\">\n",
       "      <th></th>\n",
       "      <th>age</th>\n",
       "      <th>duration</th>\n",
       "      <th>campaign</th>\n",
       "      <th>pdays</th>\n",
       "      <th>previous</th>\n",
       "      <th>emp.var.rate</th>\n",
       "      <th>cons.price.idx</th>\n",
       "      <th>cons.conf.idx</th>\n",
       "      <th>euribor3m</th>\n",
       "      <th>nr.employed</th>\n",
       "      <th>...</th>\n",
       "      <th>month_sep</th>\n",
       "      <th>day_of_week_fri</th>\n",
       "      <th>day_of_week_mon</th>\n",
       "      <th>day_of_week_thu</th>\n",
       "      <th>day_of_week_tue</th>\n",
       "      <th>day_of_week_wed</th>\n",
       "      <th>poutcome_failure</th>\n",
       "      <th>poutcome_nonexistent</th>\n",
       "      <th>poutcome_success</th>\n",
       "      <th>target</th>\n",
       "    </tr>\n",
       "  </thead>\n",
       "  <tbody>\n",
       "    <tr>\n",
       "      <th>0</th>\n",
       "      <td>56</td>\n",
       "      <td>261</td>\n",
       "      <td>1</td>\n",
       "      <td>999</td>\n",
       "      <td>0</td>\n",
       "      <td>1.1</td>\n",
       "      <td>93.994</td>\n",
       "      <td>-36.4</td>\n",
       "      <td>4.857</td>\n",
       "      <td>5191.0</td>\n",
       "      <td>...</td>\n",
       "      <td>0.0</td>\n",
       "      <td>0.0</td>\n",
       "      <td>1.0</td>\n",
       "      <td>0.0</td>\n",
       "      <td>0.0</td>\n",
       "      <td>0.0</td>\n",
       "      <td>0.0</td>\n",
       "      <td>1.0</td>\n",
       "      <td>0.0</td>\n",
       "      <td>0</td>\n",
       "    </tr>\n",
       "    <tr>\n",
       "      <th>1</th>\n",
       "      <td>57</td>\n",
       "      <td>149</td>\n",
       "      <td>1</td>\n",
       "      <td>999</td>\n",
       "      <td>0</td>\n",
       "      <td>1.1</td>\n",
       "      <td>93.994</td>\n",
       "      <td>-36.4</td>\n",
       "      <td>4.857</td>\n",
       "      <td>5191.0</td>\n",
       "      <td>...</td>\n",
       "      <td>0.0</td>\n",
       "      <td>0.0</td>\n",
       "      <td>1.0</td>\n",
       "      <td>0.0</td>\n",
       "      <td>0.0</td>\n",
       "      <td>0.0</td>\n",
       "      <td>0.0</td>\n",
       "      <td>1.0</td>\n",
       "      <td>0.0</td>\n",
       "      <td>0</td>\n",
       "    </tr>\n",
       "    <tr>\n",
       "      <th>2</th>\n",
       "      <td>37</td>\n",
       "      <td>226</td>\n",
       "      <td>1</td>\n",
       "      <td>999</td>\n",
       "      <td>0</td>\n",
       "      <td>1.1</td>\n",
       "      <td>93.994</td>\n",
       "      <td>-36.4</td>\n",
       "      <td>4.857</td>\n",
       "      <td>5191.0</td>\n",
       "      <td>...</td>\n",
       "      <td>0.0</td>\n",
       "      <td>0.0</td>\n",
       "      <td>1.0</td>\n",
       "      <td>0.0</td>\n",
       "      <td>0.0</td>\n",
       "      <td>0.0</td>\n",
       "      <td>0.0</td>\n",
       "      <td>1.0</td>\n",
       "      <td>0.0</td>\n",
       "      <td>0</td>\n",
       "    </tr>\n",
       "    <tr>\n",
       "      <th>3</th>\n",
       "      <td>40</td>\n",
       "      <td>151</td>\n",
       "      <td>1</td>\n",
       "      <td>999</td>\n",
       "      <td>0</td>\n",
       "      <td>1.1</td>\n",
       "      <td>93.994</td>\n",
       "      <td>-36.4</td>\n",
       "      <td>4.857</td>\n",
       "      <td>5191.0</td>\n",
       "      <td>...</td>\n",
       "      <td>0.0</td>\n",
       "      <td>0.0</td>\n",
       "      <td>1.0</td>\n",
       "      <td>0.0</td>\n",
       "      <td>0.0</td>\n",
       "      <td>0.0</td>\n",
       "      <td>0.0</td>\n",
       "      <td>1.0</td>\n",
       "      <td>0.0</td>\n",
       "      <td>0</td>\n",
       "    </tr>\n",
       "    <tr>\n",
       "      <th>4</th>\n",
       "      <td>56</td>\n",
       "      <td>307</td>\n",
       "      <td>1</td>\n",
       "      <td>999</td>\n",
       "      <td>0</td>\n",
       "      <td>1.1</td>\n",
       "      <td>93.994</td>\n",
       "      <td>-36.4</td>\n",
       "      <td>4.857</td>\n",
       "      <td>5191.0</td>\n",
       "      <td>...</td>\n",
       "      <td>0.0</td>\n",
       "      <td>0.0</td>\n",
       "      <td>1.0</td>\n",
       "      <td>0.0</td>\n",
       "      <td>0.0</td>\n",
       "      <td>0.0</td>\n",
       "      <td>0.0</td>\n",
       "      <td>1.0</td>\n",
       "      <td>0.0</td>\n",
       "      <td>0</td>\n",
       "    </tr>\n",
       "  </tbody>\n",
       "</table>\n",
       "<p>5 rows × 64 columns</p>\n",
       "</div>"
      ],
      "text/plain": [
       "   age  duration  campaign  pdays  previous  emp.var.rate  cons.price.idx  \\\n",
       "0   56       261         1    999         0           1.1          93.994   \n",
       "1   57       149         1    999         0           1.1          93.994   \n",
       "2   37       226         1    999         0           1.1          93.994   \n",
       "3   40       151         1    999         0           1.1          93.994   \n",
       "4   56       307         1    999         0           1.1          93.994   \n",
       "\n",
       "   cons.conf.idx  euribor3m  nr.employed  ...  month_sep  day_of_week_fri  \\\n",
       "0          -36.4      4.857       5191.0  ...        0.0              0.0   \n",
       "1          -36.4      4.857       5191.0  ...        0.0              0.0   \n",
       "2          -36.4      4.857       5191.0  ...        0.0              0.0   \n",
       "3          -36.4      4.857       5191.0  ...        0.0              0.0   \n",
       "4          -36.4      4.857       5191.0  ...        0.0              0.0   \n",
       "\n",
       "   day_of_week_mon  day_of_week_thu  day_of_week_tue  day_of_week_wed  \\\n",
       "0              1.0              0.0              0.0              0.0   \n",
       "1              1.0              0.0              0.0              0.0   \n",
       "2              1.0              0.0              0.0              0.0   \n",
       "3              1.0              0.0              0.0              0.0   \n",
       "4              1.0              0.0              0.0              0.0   \n",
       "\n",
       "   poutcome_failure  poutcome_nonexistent  poutcome_success  target  \n",
       "0               0.0                   1.0               0.0       0  \n",
       "1               0.0                   1.0               0.0       0  \n",
       "2               0.0                   1.0               0.0       0  \n",
       "3               0.0                   1.0               0.0       0  \n",
       "4               0.0                   1.0               0.0       0  \n",
       "\n",
       "[5 rows x 64 columns]"
      ]
     },
     "execution_count": 60,
     "metadata": {},
     "output_type": "execute_result"
    }
   ],
   "source": [
    "# modificamos los targets\n",
    "\n",
    "bank.target.replace('no', 0,inplace=True)\n",
    "bank.target.replace('yes', 1,inplace=True)\n",
    "\n",
    "bank.head()"
   ]
  },
  {
   "cell_type": "code",
   "execution_count": 73,
   "metadata": {},
   "outputs": [],
   "source": [
    "X = bank.drop(\"target\", axis=1).values\n",
    "y = bank.target.values"
   ]
  },
  {
   "cell_type": "code",
   "execution_count": 68,
   "metadata": {},
   "outputs": [
    {
     "data": {
      "text/html": [
       "<div>\n",
       "<style scoped>\n",
       "    .dataframe tbody tr th:only-of-type {\n",
       "        vertical-align: middle;\n",
       "    }\n",
       "\n",
       "    .dataframe tbody tr th {\n",
       "        vertical-align: top;\n",
       "    }\n",
       "\n",
       "    .dataframe thead th {\n",
       "        text-align: right;\n",
       "    }\n",
       "</style>\n",
       "<table border=\"1\" class=\"dataframe\">\n",
       "  <thead>\n",
       "    <tr style=\"text-align: right;\">\n",
       "      <th></th>\n",
       "      <th>fit_time</th>\n",
       "      <th>score_time</th>\n",
       "      <th>test_accuracy</th>\n",
       "      <th>train_accuracy</th>\n",
       "      <th>test_average_precision</th>\n",
       "      <th>train_average_precision</th>\n",
       "      <th>test_recall_macro</th>\n",
       "      <th>train_recall_macro</th>\n",
       "    </tr>\n",
       "  </thead>\n",
       "  <tbody>\n",
       "    <tr>\n",
       "      <th>0</th>\n",
       "      <td>6.815790</td>\n",
       "      <td>0.603309</td>\n",
       "      <td>0.911474</td>\n",
       "      <td>1.0</td>\n",
       "      <td>0.638023</td>\n",
       "      <td>1.0</td>\n",
       "      <td>0.696518</td>\n",
       "      <td>1.0</td>\n",
       "    </tr>\n",
       "    <tr>\n",
       "      <th>1</th>\n",
       "      <td>6.921550</td>\n",
       "      <td>0.689397</td>\n",
       "      <td>0.913726</td>\n",
       "      <td>1.0</td>\n",
       "      <td>0.647820</td>\n",
       "      <td>1.0</td>\n",
       "      <td>0.712194</td>\n",
       "      <td>1.0</td>\n",
       "    </tr>\n",
       "    <tr>\n",
       "      <th>2</th>\n",
       "      <td>7.025877</td>\n",
       "      <td>0.650263</td>\n",
       "      <td>0.907413</td>\n",
       "      <td>1.0</td>\n",
       "      <td>0.594880</td>\n",
       "      <td>1.0</td>\n",
       "      <td>0.701346</td>\n",
       "      <td>1.0</td>\n",
       "    </tr>\n",
       "    <tr>\n",
       "      <th>3</th>\n",
       "      <td>7.600833</td>\n",
       "      <td>0.638710</td>\n",
       "      <td>0.907737</td>\n",
       "      <td>1.0</td>\n",
       "      <td>0.630767</td>\n",
       "      <td>1.0</td>\n",
       "      <td>0.688985</td>\n",
       "      <td>1.0</td>\n",
       "    </tr>\n",
       "    <tr>\n",
       "      <th>4</th>\n",
       "      <td>7.994208</td>\n",
       "      <td>0.675981</td>\n",
       "      <td>0.914859</td>\n",
       "      <td>1.0</td>\n",
       "      <td>0.653375</td>\n",
       "      <td>1.0</td>\n",
       "      <td>0.710559</td>\n",
       "      <td>1.0</td>\n",
       "    </tr>\n",
       "  </tbody>\n",
       "</table>\n",
       "</div>"
      ],
      "text/plain": [
       "   fit_time  score_time  test_accuracy  train_accuracy  \\\n",
       "0  6.815790    0.603309       0.911474             1.0   \n",
       "1  6.921550    0.689397       0.913726             1.0   \n",
       "2  7.025877    0.650263       0.907413             1.0   \n",
       "3  7.600833    0.638710       0.907737             1.0   \n",
       "4  7.994208    0.675981       0.914859             1.0   \n",
       "\n",
       "   test_average_precision  train_average_precision  test_recall_macro  \\\n",
       "0                0.638023                      1.0           0.696518   \n",
       "1                0.647820                      1.0           0.712194   \n",
       "2                0.594880                      1.0           0.701346   \n",
       "3                0.630767                      1.0           0.688985   \n",
       "4                0.653375                      1.0           0.710559   \n",
       "\n",
       "   train_recall_macro  \n",
       "0                 1.0  \n",
       "1                 1.0  \n",
       "2                 1.0  \n",
       "3                 1.0  \n",
       "4                 1.0  "
      ]
     },
     "execution_count": 68,
     "metadata": {},
     "output_type": "execute_result"
    }
   ],
   "source": [
    "# división de los datos\n",
    "X_train, X_test, y_train, y_test = train_test_split(X, y, test_size = 0.25, random_state=0)\n",
    "\n",
    "# Usando validación cruzada en el bosque aleatorio\n",
    "from sklearn.ensemble import RandomForestClassifier\n",
    "from sklearn.model_selection import cross_validate\n",
    "\n",
    "rfc = RandomForestClassifier(random_state=0).fit(X_train, y_train)\n",
    "\n",
    "cross_val = cross_validate(rfc, X_train, y_train,\n",
    "                     scoring=[\"accuracy\", \"average_precision\", \"recall_macro\"],\n",
    "                     return_train_score=True, cv=5)\n",
    "\n",
    "pd.DataFrame(cross_val)"
   ]
  },
  {
   "cell_type": "code",
   "execution_count": 69,
   "metadata": {},
   "outputs": [
    {
     "name": "stdout",
     "output_type": "stream",
     "text": [
      "input:  [[ 5.5000e+01  2.4800e+02  2.0000e+00  9.9900e+02  0.0000e+00 -1.8000e+00\n",
      "   9.3075e+01 -4.7100e+01  1.4050e+00  5.0991e+03  0.0000e+00  1.0000e+00\n",
      "   0.0000e+00  0.0000e+00  0.0000e+00  0.0000e+00  0.0000e+00  0.0000e+00\n",
      "   0.0000e+00  0.0000e+00  0.0000e+00  0.0000e+00  0.0000e+00  1.0000e+00\n",
      "   0.0000e+00  0.0000e+00  1.0000e+00  0.0000e+00  0.0000e+00  0.0000e+00\n",
      "   0.0000e+00  0.0000e+00  0.0000e+00  0.0000e+00  1.0000e+00  0.0000e+00\n",
      "   0.0000e+00  0.0000e+00  0.0000e+00  1.0000e+00  1.0000e+00  0.0000e+00\n",
      "   0.0000e+00  1.0000e+00  0.0000e+00  1.0000e+00  0.0000e+00  0.0000e+00\n",
      "   0.0000e+00  0.0000e+00  0.0000e+00  0.0000e+00  0.0000e+00  0.0000e+00\n",
      "   0.0000e+00  1.0000e+00  0.0000e+00  0.0000e+00  0.0000e+00  0.0000e+00\n",
      "   0.0000e+00  1.0000e+00  0.0000e+00]]\n",
      "target:  [0]\n",
      "predicción:  [0]\n"
     ]
    }
   ],
   "source": [
    "# hacemos una predicción\n",
    "\n",
    "print(\"input: \", X_test[1:2])\n",
    "print(\"target: \", y_test[1:2])\n",
    "print(\"predicción: \", rfc.predict(X_test[1:2]))"
   ]
  },
  {
   "cell_type": "code",
   "execution_count": 75,
   "metadata": {},
   "outputs": [
    {
     "name": "stdout",
     "output_type": "stream",
     "text": [
      "Puntaje en el conjunto de entrenamiento: 0.999968\n",
      "Puntaje en el conjunto de prueba: 0.913081\n"
     ]
    },
    {
     "data": {
      "text/plain": [
       "'Concluimos que no se sobreajusta tanto en el conjunto de prueba (aunque 0.99 en el data de \\nentrenamiento si sugiere un sobreajuste que debemos tratar). Necesitamos añadir algunas otras técnicas de regularización'"
      ]
     },
     "execution_count": 75,
     "metadata": {},
     "output_type": "execute_result"
    }
   ],
   "source": [
    "print(\"Puntaje en el conjunto de entrenamiento: %f\" % rfc.score(X_train, y_train))\n",
    "print(\"Puntaje en el conjunto de prueba: %f\" % rfc.score(X_test, y_test))\n",
    "\n",
    "'''Concluimos que no se sobreajusta tanto en el conjunto de prueba (aunque 0.99 en el data de \n",
    "entrenamiento si sugiere un sobreajuste que debemos tratar). Necesitamos añadir algunas otras técnicas de regularización'''"
   ]
  },
  {
   "cell_type": "code",
   "execution_count": 74,
   "metadata": {},
   "outputs": [
    {
     "data": {
      "text/plain": [
       "GridSearchCV(cv=5, estimator=RandomForestClassifier(random_state=0),\n",
       "             param_grid={'max_depth': [3, 6, 9, 12],\n",
       "                         'max_features': [50, 100, 150, 180, 200]})"
      ]
     },
     "execution_count": 74,
     "metadata": {},
     "output_type": "execute_result"
    }
   ],
   "source": [
    "# ahora realizamos la búsqueda grid\n",
    "param_grid_rfc = {'max_features': [50, 100, 150, 180, 200],\n",
    "             'max_depth': [3, 6, 9, 12]}\n",
    "\n",
    "# instanciamos la búsqueda grid\n",
    "grid_rfc = GridSearchCV(rfc, param_grid=param_grid_rfc, cv=5)\n",
    "\n",
    "# ahora entrenamos\n",
    "grid_rfc.fit(X_train, y_train)"
   ]
  },
  {
   "cell_type": "code",
   "execution_count": 77,
   "metadata": {},
   "outputs": [
    {
     "name": "stdout",
     "output_type": "stream",
     "text": [
      "Puntaje en el conjunto de entrenamiento: 0.942864\n",
      "Puntaje en el conjunto de prueba: 0.921531\n"
     ]
    }
   ],
   "source": [
    "print(\"Puntaje en el conjunto de entrenamiento: %f\" % grid_rfc.score(X_train, y_train))\n",
    "print(\"Puntaje en el conjunto de prueba: %f\" % grid_rfc.score(X_test, y_test))\n",
    "print(\"Mejores hiperparametros: \", grid_rfc.best_params_)"
   ]
  },
  {
   "cell_type": "markdown",
   "metadata": {},
   "source": [
    "3 .Carga el conjunto de datos `adult.csv`. Crea un pipeline usando `ColumnTransformer`, `OneHotEncoder`, `Scaling`, `polynomial features` y un `linear classifier`.\n",
    "\n",
    "Encuentra las mejores opciones para `polynomial features` junto con la regularización de un modelo lineal.\n",
    "\n",
    "```\n",
    "pd.read_csv(\"datos/adult.csv\", index_col=0).head()\n",
    "```\n",
    "\n",
    "Usa `OneHotEncoder(handle_unknown='ignore')` para ignorar nuevas categorías en el conjunto de pruebas."
   ]
  },
  {
   "cell_type": "code",
   "execution_count": 42,
   "metadata": {},
   "outputs": [
    {
     "data": {
      "text/html": [
       "<div>\n",
       "<style scoped>\n",
       "    .dataframe tbody tr th:only-of-type {\n",
       "        vertical-align: middle;\n",
       "    }\n",
       "\n",
       "    .dataframe tbody tr th {\n",
       "        vertical-align: top;\n",
       "    }\n",
       "\n",
       "    .dataframe thead th {\n",
       "        text-align: right;\n",
       "    }\n",
       "</style>\n",
       "<table border=\"1\" class=\"dataframe\">\n",
       "  <thead>\n",
       "    <tr style=\"text-align: right;\">\n",
       "      <th></th>\n",
       "      <th>Unnamed: 0</th>\n",
       "      <th>age</th>\n",
       "      <th>workclass</th>\n",
       "      <th>education</th>\n",
       "      <th>education-num</th>\n",
       "      <th>marital-status</th>\n",
       "      <th>occupation</th>\n",
       "      <th>relationship</th>\n",
       "      <th>race</th>\n",
       "      <th>gender</th>\n",
       "      <th>capital-gain</th>\n",
       "      <th>capital-loss</th>\n",
       "      <th>hours-per-week</th>\n",
       "      <th>native-country</th>\n",
       "      <th>income</th>\n",
       "    </tr>\n",
       "  </thead>\n",
       "  <tbody>\n",
       "    <tr>\n",
       "      <th>0</th>\n",
       "      <td>0</td>\n",
       "      <td>39</td>\n",
       "      <td>State-gov</td>\n",
       "      <td>Bachelors</td>\n",
       "      <td>13</td>\n",
       "      <td>Never-married</td>\n",
       "      <td>Adm-clerical</td>\n",
       "      <td>Not-in-family</td>\n",
       "      <td>White</td>\n",
       "      <td>Male</td>\n",
       "      <td>2174</td>\n",
       "      <td>0</td>\n",
       "      <td>40</td>\n",
       "      <td>United-States</td>\n",
       "      <td>&lt;=50K</td>\n",
       "    </tr>\n",
       "    <tr>\n",
       "      <th>1</th>\n",
       "      <td>1</td>\n",
       "      <td>50</td>\n",
       "      <td>Self-emp-not-inc</td>\n",
       "      <td>Bachelors</td>\n",
       "      <td>13</td>\n",
       "      <td>Married-civ-spouse</td>\n",
       "      <td>Exec-managerial</td>\n",
       "      <td>Husband</td>\n",
       "      <td>White</td>\n",
       "      <td>Male</td>\n",
       "      <td>0</td>\n",
       "      <td>0</td>\n",
       "      <td>13</td>\n",
       "      <td>United-States</td>\n",
       "      <td>&lt;=50K</td>\n",
       "    </tr>\n",
       "    <tr>\n",
       "      <th>2</th>\n",
       "      <td>2</td>\n",
       "      <td>38</td>\n",
       "      <td>Private</td>\n",
       "      <td>HS-grad</td>\n",
       "      <td>9</td>\n",
       "      <td>Divorced</td>\n",
       "      <td>Handlers-cleaners</td>\n",
       "      <td>Not-in-family</td>\n",
       "      <td>White</td>\n",
       "      <td>Male</td>\n",
       "      <td>0</td>\n",
       "      <td>0</td>\n",
       "      <td>40</td>\n",
       "      <td>United-States</td>\n",
       "      <td>&lt;=50K</td>\n",
       "    </tr>\n",
       "    <tr>\n",
       "      <th>3</th>\n",
       "      <td>3</td>\n",
       "      <td>53</td>\n",
       "      <td>Private</td>\n",
       "      <td>11th</td>\n",
       "      <td>7</td>\n",
       "      <td>Married-civ-spouse</td>\n",
       "      <td>Handlers-cleaners</td>\n",
       "      <td>Husband</td>\n",
       "      <td>Black</td>\n",
       "      <td>Male</td>\n",
       "      <td>0</td>\n",
       "      <td>0</td>\n",
       "      <td>40</td>\n",
       "      <td>United-States</td>\n",
       "      <td>&lt;=50K</td>\n",
       "    </tr>\n",
       "    <tr>\n",
       "      <th>4</th>\n",
       "      <td>4</td>\n",
       "      <td>28</td>\n",
       "      <td>Private</td>\n",
       "      <td>Bachelors</td>\n",
       "      <td>13</td>\n",
       "      <td>Married-civ-spouse</td>\n",
       "      <td>Prof-specialty</td>\n",
       "      <td>Wife</td>\n",
       "      <td>Black</td>\n",
       "      <td>Female</td>\n",
       "      <td>0</td>\n",
       "      <td>0</td>\n",
       "      <td>40</td>\n",
       "      <td>Cuba</td>\n",
       "      <td>&lt;=50K</td>\n",
       "    </tr>\n",
       "  </tbody>\n",
       "</table>\n",
       "</div>"
      ],
      "text/plain": [
       "   Unnamed: 0  age          workclass   education  education-num  \\\n",
       "0           0   39          State-gov   Bachelors             13   \n",
       "1           1   50   Self-emp-not-inc   Bachelors             13   \n",
       "2           2   38            Private     HS-grad              9   \n",
       "3           3   53            Private        11th              7   \n",
       "4           4   28            Private   Bachelors             13   \n",
       "\n",
       "        marital-status          occupation    relationship    race   gender  \\\n",
       "0        Never-married        Adm-clerical   Not-in-family   White     Male   \n",
       "1   Married-civ-spouse     Exec-managerial         Husband   White     Male   \n",
       "2             Divorced   Handlers-cleaners   Not-in-family   White     Male   \n",
       "3   Married-civ-spouse   Handlers-cleaners         Husband   Black     Male   \n",
       "4   Married-civ-spouse      Prof-specialty            Wife   Black   Female   \n",
       "\n",
       "   capital-gain  capital-loss  hours-per-week  native-country  income  \n",
       "0          2174             0              40   United-States   <=50K  \n",
       "1             0             0              13   United-States   <=50K  \n",
       "2             0             0              40   United-States   <=50K  \n",
       "3             0             0              40   United-States   <=50K  \n",
       "4             0             0              40            Cuba   <=50K  "
      ]
     },
     "execution_count": 42,
     "metadata": {},
     "output_type": "execute_result"
    }
   ],
   "source": [
    "adult = pd.read_csv(\"./datos/adult.csv\")\n",
    "\n",
    "# analizaremos un poco los datos\n",
    "adult.head()"
   ]
  },
  {
   "cell_type": "code",
   "execution_count": 43,
   "metadata": {},
   "outputs": [],
   "source": [
    "# corrección de los datos de entrada para que sea manejables por el modelo\n",
    "from sklearn.preprocessing import LabelEncoder\n",
    "# ver https://scikit-learn.org/stable/modules/generated/sklearn.preprocessing.LabelEncoder.html\n",
    "\n",
    "adult.loc[adult['income'] == ' >50K', 'predclase'] = 1\n",
    "adult.loc[adult['income'] == ' <=50K', 'predclase'] = 0\n",
    "\n",
    "adult['education'].replace('Preschool', 'dropout',inplace=True)\n",
    "adult['education'].replace('10th', 'dropout',inplace=True)\n",
    "adult['education'].replace('11th', 'dropout',inplace=True)\n",
    "adult['education'].replace('12th', 'dropout',inplace=True)\n",
    "adult['education'].replace('1st-4th', 'dropout',inplace=True)\n",
    "adult['education'].replace('5th-6th', 'dropout',inplace=True)\n",
    "adult['education'].replace('7th-8th', 'dropout',inplace=True)\n",
    "adult['education'].replace('9th', 'dropout',inplace=True)\n",
    "adult['education'].replace('HS-Grad', 'HighGrad',inplace=True)\n",
    "adult['education'].replace('HS-grad', 'HighGrad',inplace=True)\n",
    "adult['education'].replace('Some-college', 'CommunityCollege',inplace=True)\n",
    "adult['education'].replace('Assoc-acdm', 'CommunityCollege',inplace=True)\n",
    "adult['education'].replace('Assoc-voc', 'CommunityCollege',inplace=True)\n",
    "adult['education'].replace('Bachelors', 'Bachelors',inplace=True)\n",
    "adult['education'].replace('Masters', 'Masters',inplace=True)\n",
    "adult['education'].replace('Prof-school', 'Masters',inplace=True)\n",
    "adult['education'].replace('Doctorate', 'Doctorate',inplace=True)\n",
    "\n",
    "adult['marital-status'].replace('Never-married', 'NotMarried',inplace=True)\n",
    "adult['marital-status'].replace(['Married-AF-spouse'], 'Married',inplace=True)\n",
    "adult['marital-status'].replace(['Married-civ-spouse'], 'Married',inplace=True)\n",
    "adult['marital-status'].replace(['Married-spouse-absent'], 'NotMarried',inplace=True)\n",
    "adult['marital-status'].replace(['Separated'], 'Separated',inplace=True)\n",
    "adult['marital-status'].replace(['Divorced'], 'Separated',inplace=True)\n",
    "adult['marital-status'].replace(['Widowed'], 'Widowed',inplace=True)\n",
    "\n",
    "adult.age = adult.age.astype(float)\n",
    "adult['hours-per-week'] = adult['hours-per-week'].astype(float)\n",
    "\n",
    "numero = LabelEncoder()\n",
    "adult['workclass'] = numero.fit_transform(adult['workclass'])\n",
    "adult['education'] = numero.fit_transform(adult['education'])\n",
    "adult['marital-status'] = numero.fit_transform(adult['marital-status'])\n",
    "adult['occupation'] = numero.fit_transform(adult['occupation'])\n",
    "adult['relationship'] = numero.fit_transform(adult['relationship'])\n",
    "adult['race'] = numero.fit_transform(adult['race'])\n",
    "adult['gender'] = numero.fit_transform(adult['gender'])\n",
    "adult['native-country'] = numero.fit_transform(adult['native-country'])\n",
    "adult['predclase'] = numero.fit_transform(adult['predclase'])\n",
    "\n",
    "adult['age-hours'] = adult['age']*adult['hours-per-week']"
   ]
  },
  {
   "cell_type": "code",
   "execution_count": 44,
   "metadata": {},
   "outputs": [],
   "source": [
    "from sklearn.compose import ColumnTransformer, make_column_transformer\n",
    "from sklearn.pipeline import make_pipeline\n",
    "from sklearn.linear_model import SGDClassifier\n",
    "from sklearn.preprocessing import OneHotEncoder, StandardScaler, PolynomialFeatures\n"
   ]
  },
  {
   "cell_type": "code",
   "execution_count": 45,
   "metadata": {},
   "outputs": [
    {
     "data": {
      "text/html": [
       "<div>\n",
       "<style scoped>\n",
       "    .dataframe tbody tr th:only-of-type {\n",
       "        vertical-align: middle;\n",
       "    }\n",
       "\n",
       "    .dataframe tbody tr th {\n",
       "        vertical-align: top;\n",
       "    }\n",
       "\n",
       "    .dataframe thead th {\n",
       "        text-align: right;\n",
       "    }\n",
       "</style>\n",
       "<table border=\"1\" class=\"dataframe\">\n",
       "  <thead>\n",
       "    <tr style=\"text-align: right;\">\n",
       "      <th></th>\n",
       "      <th>Unnamed: 0</th>\n",
       "      <th>age</th>\n",
       "      <th>workclass</th>\n",
       "      <th>education</th>\n",
       "      <th>education-num</th>\n",
       "      <th>marital-status</th>\n",
       "      <th>occupation</th>\n",
       "      <th>relationship</th>\n",
       "      <th>race</th>\n",
       "      <th>gender</th>\n",
       "      <th>capital-gain</th>\n",
       "      <th>capital-loss</th>\n",
       "      <th>hours-per-week</th>\n",
       "      <th>native-country</th>\n",
       "      <th>income</th>\n",
       "      <th>predclase</th>\n",
       "      <th>age-hours</th>\n",
       "    </tr>\n",
       "  </thead>\n",
       "  <tbody>\n",
       "    <tr>\n",
       "      <th>0</th>\n",
       "      <td>0</td>\n",
       "      <td>39.0</td>\n",
       "      <td>7</td>\n",
       "      <td>9</td>\n",
       "      <td>13</td>\n",
       "      <td>4</td>\n",
       "      <td>1</td>\n",
       "      <td>1</td>\n",
       "      <td>4</td>\n",
       "      <td>1</td>\n",
       "      <td>2174</td>\n",
       "      <td>0</td>\n",
       "      <td>40.0</td>\n",
       "      <td>39</td>\n",
       "      <td>&lt;=50K</td>\n",
       "      <td>0</td>\n",
       "      <td>1560.0</td>\n",
       "    </tr>\n",
       "    <tr>\n",
       "      <th>1</th>\n",
       "      <td>1</td>\n",
       "      <td>50.0</td>\n",
       "      <td>6</td>\n",
       "      <td>9</td>\n",
       "      <td>13</td>\n",
       "      <td>2</td>\n",
       "      <td>4</td>\n",
       "      <td>0</td>\n",
       "      <td>4</td>\n",
       "      <td>1</td>\n",
       "      <td>0</td>\n",
       "      <td>0</td>\n",
       "      <td>13.0</td>\n",
       "      <td>39</td>\n",
       "      <td>&lt;=50K</td>\n",
       "      <td>0</td>\n",
       "      <td>650.0</td>\n",
       "    </tr>\n",
       "    <tr>\n",
       "      <th>2</th>\n",
       "      <td>2</td>\n",
       "      <td>38.0</td>\n",
       "      <td>4</td>\n",
       "      <td>11</td>\n",
       "      <td>9</td>\n",
       "      <td>0</td>\n",
       "      <td>6</td>\n",
       "      <td>1</td>\n",
       "      <td>4</td>\n",
       "      <td>1</td>\n",
       "      <td>0</td>\n",
       "      <td>0</td>\n",
       "      <td>40.0</td>\n",
       "      <td>39</td>\n",
       "      <td>&lt;=50K</td>\n",
       "      <td>0</td>\n",
       "      <td>1520.0</td>\n",
       "    </tr>\n",
       "    <tr>\n",
       "      <th>3</th>\n",
       "      <td>3</td>\n",
       "      <td>53.0</td>\n",
       "      <td>4</td>\n",
       "      <td>1</td>\n",
       "      <td>7</td>\n",
       "      <td>2</td>\n",
       "      <td>6</td>\n",
       "      <td>0</td>\n",
       "      <td>2</td>\n",
       "      <td>1</td>\n",
       "      <td>0</td>\n",
       "      <td>0</td>\n",
       "      <td>40.0</td>\n",
       "      <td>39</td>\n",
       "      <td>&lt;=50K</td>\n",
       "      <td>0</td>\n",
       "      <td>2120.0</td>\n",
       "    </tr>\n",
       "    <tr>\n",
       "      <th>4</th>\n",
       "      <td>4</td>\n",
       "      <td>28.0</td>\n",
       "      <td>4</td>\n",
       "      <td>9</td>\n",
       "      <td>13</td>\n",
       "      <td>2</td>\n",
       "      <td>10</td>\n",
       "      <td>5</td>\n",
       "      <td>2</td>\n",
       "      <td>0</td>\n",
       "      <td>0</td>\n",
       "      <td>0</td>\n",
       "      <td>40.0</td>\n",
       "      <td>5</td>\n",
       "      <td>&lt;=50K</td>\n",
       "      <td>0</td>\n",
       "      <td>1120.0</td>\n",
       "    </tr>\n",
       "  </tbody>\n",
       "</table>\n",
       "</div>"
      ],
      "text/plain": [
       "   Unnamed: 0   age  workclass  education  education-num  marital-status  \\\n",
       "0           0  39.0          7          9             13               4   \n",
       "1           1  50.0          6          9             13               2   \n",
       "2           2  38.0          4         11              9               0   \n",
       "3           3  53.0          4          1              7               2   \n",
       "4           4  28.0          4          9             13               2   \n",
       "\n",
       "   occupation  relationship  race  gender  capital-gain  capital-loss  \\\n",
       "0           1             1     4       1          2174             0   \n",
       "1           4             0     4       1             0             0   \n",
       "2           6             1     4       1             0             0   \n",
       "3           6             0     2       1             0             0   \n",
       "4          10             5     2       0             0             0   \n",
       "\n",
       "   hours-per-week  native-country  income  predclase  age-hours  \n",
       "0            40.0              39   <=50K          0     1560.0  \n",
       "1            13.0              39   <=50K          0      650.0  \n",
       "2            40.0              39   <=50K          0     1520.0  \n",
       "3            40.0              39   <=50K          0     2120.0  \n",
       "4            40.0               5   <=50K          0     1120.0  "
      ]
     },
     "execution_count": 45,
     "metadata": {},
     "output_type": "execute_result"
    }
   ],
   "source": [
    "adult.head()"
   ]
  },
  {
   "cell_type": "code",
   "execution_count": 46,
   "metadata": {},
   "outputs": [],
   "source": [
    "# división de los datos\n",
    "adult = adult.drop([\"Unnamed: 0\", \"income\"], axis=1)\n",
    "X = adult.drop(\"predclase\", axis=1)\n",
    "y = adult.predclase\n",
    "\n",
    "X_train, X_test, y_train, y_test = train_test_split(X, y, test_size = 0.25, random_state=0)\n"
   ]
  },
  {
   "cell_type": "code",
   "execution_count": 47,
   "metadata": {},
   "outputs": [
    {
     "name": "stdout",
     "output_type": "stream",
     "text": [
      "<class 'pandas.core.frame.DataFrame'>\n",
      "RangeIndex: 32561 entries, 0 to 32560\n",
      "Data columns (total 15 columns):\n",
      " #   Column          Non-Null Count  Dtype  \n",
      "---  ------          --------------  -----  \n",
      " 0   age             32561 non-null  float64\n",
      " 1   workclass       32561 non-null  int32  \n",
      " 2   education       32561 non-null  int32  \n",
      " 3   education-num   32561 non-null  int64  \n",
      " 4   marital-status  32561 non-null  int32  \n",
      " 5   occupation      32561 non-null  int32  \n",
      " 6   relationship    32561 non-null  int32  \n",
      " 7   race            32561 non-null  int32  \n",
      " 8   gender          32561 non-null  int32  \n",
      " 9   capital-gain    32561 non-null  int64  \n",
      " 10  capital-loss    32561 non-null  int64  \n",
      " 11  hours-per-week  32561 non-null  float64\n",
      " 12  native-country  32561 non-null  int32  \n",
      " 13  predclase       32561 non-null  int64  \n",
      " 14  age-hours       32561 non-null  float64\n",
      "dtypes: float64(3), int32(8), int64(4)\n",
      "memory usage: 2.7 MB\n"
     ]
    }
   ],
   "source": [
    "adult.info()"
   ]
  },
  {
   "cell_type": "code",
   "execution_count": 48,
   "metadata": {},
   "outputs": [
    {
     "data": {
      "text/html": [
       "<div>\n",
       "<style scoped>\n",
       "    .dataframe tbody tr th:only-of-type {\n",
       "        vertical-align: middle;\n",
       "    }\n",
       "\n",
       "    .dataframe tbody tr th {\n",
       "        vertical-align: top;\n",
       "    }\n",
       "\n",
       "    .dataframe thead th {\n",
       "        text-align: right;\n",
       "    }\n",
       "</style>\n",
       "<table border=\"1\" class=\"dataframe\">\n",
       "  <thead>\n",
       "    <tr style=\"text-align: right;\">\n",
       "      <th></th>\n",
       "      <th>age</th>\n",
       "      <th>workclass</th>\n",
       "      <th>education</th>\n",
       "      <th>education-num</th>\n",
       "      <th>marital-status</th>\n",
       "      <th>occupation</th>\n",
       "      <th>relationship</th>\n",
       "      <th>race</th>\n",
       "      <th>gender</th>\n",
       "      <th>capital-gain</th>\n",
       "      <th>capital-loss</th>\n",
       "      <th>hours-per-week</th>\n",
       "      <th>native-country</th>\n",
       "      <th>age-hours</th>\n",
       "      <th>predclase</th>\n",
       "    </tr>\n",
       "  </thead>\n",
       "  <tbody>\n",
       "    <tr>\n",
       "      <th>0</th>\n",
       "      <td>39.0</td>\n",
       "      <td>7</td>\n",
       "      <td>9</td>\n",
       "      <td>13</td>\n",
       "      <td>4</td>\n",
       "      <td>1</td>\n",
       "      <td>1</td>\n",
       "      <td>4</td>\n",
       "      <td>1</td>\n",
       "      <td>2174</td>\n",
       "      <td>0</td>\n",
       "      <td>40.0</td>\n",
       "      <td>39</td>\n",
       "      <td>1560.0</td>\n",
       "      <td>0</td>\n",
       "    </tr>\n",
       "    <tr>\n",
       "      <th>1</th>\n",
       "      <td>50.0</td>\n",
       "      <td>6</td>\n",
       "      <td>9</td>\n",
       "      <td>13</td>\n",
       "      <td>2</td>\n",
       "      <td>4</td>\n",
       "      <td>0</td>\n",
       "      <td>4</td>\n",
       "      <td>1</td>\n",
       "      <td>0</td>\n",
       "      <td>0</td>\n",
       "      <td>13.0</td>\n",
       "      <td>39</td>\n",
       "      <td>650.0</td>\n",
       "      <td>0</td>\n",
       "    </tr>\n",
       "    <tr>\n",
       "      <th>2</th>\n",
       "      <td>38.0</td>\n",
       "      <td>4</td>\n",
       "      <td>11</td>\n",
       "      <td>9</td>\n",
       "      <td>0</td>\n",
       "      <td>6</td>\n",
       "      <td>1</td>\n",
       "      <td>4</td>\n",
       "      <td>1</td>\n",
       "      <td>0</td>\n",
       "      <td>0</td>\n",
       "      <td>40.0</td>\n",
       "      <td>39</td>\n",
       "      <td>1520.0</td>\n",
       "      <td>0</td>\n",
       "    </tr>\n",
       "    <tr>\n",
       "      <th>3</th>\n",
       "      <td>53.0</td>\n",
       "      <td>4</td>\n",
       "      <td>1</td>\n",
       "      <td>7</td>\n",
       "      <td>2</td>\n",
       "      <td>6</td>\n",
       "      <td>0</td>\n",
       "      <td>2</td>\n",
       "      <td>1</td>\n",
       "      <td>0</td>\n",
       "      <td>0</td>\n",
       "      <td>40.0</td>\n",
       "      <td>39</td>\n",
       "      <td>2120.0</td>\n",
       "      <td>0</td>\n",
       "    </tr>\n",
       "    <tr>\n",
       "      <th>4</th>\n",
       "      <td>28.0</td>\n",
       "      <td>4</td>\n",
       "      <td>9</td>\n",
       "      <td>13</td>\n",
       "      <td>2</td>\n",
       "      <td>10</td>\n",
       "      <td>5</td>\n",
       "      <td>2</td>\n",
       "      <td>0</td>\n",
       "      <td>0</td>\n",
       "      <td>0</td>\n",
       "      <td>40.0</td>\n",
       "      <td>5</td>\n",
       "      <td>1120.0</td>\n",
       "      <td>0</td>\n",
       "    </tr>\n",
       "  </tbody>\n",
       "</table>\n",
       "</div>"
      ],
      "text/plain": [
       "    age  workclass  education  education-num  marital-status  occupation  \\\n",
       "0  39.0          7          9             13               4           1   \n",
       "1  50.0          6          9             13               2           4   \n",
       "2  38.0          4         11              9               0           6   \n",
       "3  53.0          4          1              7               2           6   \n",
       "4  28.0          4          9             13               2          10   \n",
       "\n",
       "   relationship  race  gender  capital-gain  capital-loss  hours-per-week  \\\n",
       "0             1     4       1          2174             0            40.0   \n",
       "1             0     4       1             0             0            13.0   \n",
       "2             1     4       1             0             0            40.0   \n",
       "3             0     2       1             0             0            40.0   \n",
       "4             5     2       0             0             0            40.0   \n",
       "\n",
       "   native-country  age-hours  predclase  \n",
       "0              39     1560.0          0  \n",
       "1              39      650.0          0  \n",
       "2              39     1520.0          0  \n",
       "3              39     2120.0          0  \n",
       "4               5     1120.0          0  "
      ]
     },
     "execution_count": 48,
     "metadata": {},
     "output_type": "execute_result"
    }
   ],
   "source": [
    "# cambiamos el orden de las columnas\n",
    "cols = adult.columns.tolist()\n",
    "\n",
    "cols[14], cols[13] = cols[13], cols[14]\n",
    "cols\n",
    "\n",
    "adult = adult[cols]\n",
    "adult.head()"
   ]
  },
  {
   "cell_type": "code",
   "execution_count": 49,
   "metadata": {},
   "outputs": [
    {
     "data": {
      "text/plain": [
       "Index(['age', 'workclass', 'education', 'education-num', 'marital-status',\n",
       "       'occupation', 'relationship', 'race', 'gender', 'capital-gain',\n",
       "       'capital-loss', 'hours-per-week', 'native-country', 'age-hours'],\n",
       "      dtype='object')"
      ]
     },
     "execution_count": 49,
     "metadata": {},
     "output_type": "execute_result"
    }
   ],
   "source": [
    "# seleccionamos las columnas que vamos a transformar\n",
    "ct_features = adult.columns[:14]\n",
    "ct_features"
   ]
  },
  {
   "cell_type": "code",
   "execution_count": 50,
   "metadata": {},
   "outputs": [],
   "source": [
    "# usamos ColumnTransformer, OneHotEncoder y StandardScaler de acuerdo a como se pide en el problema\n",
    "\n",
    "colTrans = ColumnTransformer([('ohe', OneHotEncoder(handle_unknown='ignore'), ct_features)],\n",
    "                  remainder=StandardScaler())\n"
   ]
  },
  {
   "cell_type": "code",
   "execution_count": 51,
   "metadata": {},
   "outputs": [],
   "source": [
    "from sklearn.linear_model import Ridge\n",
    "\n",
    "\n",
    "pipe = make_pipeline(\n",
    "    colTrans,\n",
    "    PolynomialFeatures(),\n",
    "    Ridge())\n"
   ]
  },
  {
   "cell_type": "code",
   "execution_count": 52,
   "metadata": {},
   "outputs": [
    {
     "data": {
      "text/plain": [
       "Pipeline(steps=[('columntransformer',\n",
       "                 ColumnTransformer(remainder=StandardScaler(),\n",
       "                                   transformers=[('ohe',\n",
       "                                                  OneHotEncoder(handle_unknown='ignore'),\n",
       "                                                  Index(['age', 'workclass', 'education', 'education-num', 'marital-status',\n",
       "       'occupation', 'relationship', 'race', 'gender', 'capital-gain',\n",
       "       'capital-loss', 'hours-per-week', 'native-country', 'age-hours'],\n",
       "      dtype='object'))])),\n",
       "                ('polynomialfeatures', PolynomialFeatures()),\n",
       "                ('ridge', Ridge())])"
      ]
     },
     "execution_count": 52,
     "metadata": {},
     "output_type": "execute_result"
    }
   ],
   "source": [
    "pipe.fit(X_train, y_train)"
   ]
  },
  {
   "cell_type": "code",
   "execution_count": 53,
   "metadata": {},
   "outputs": [
    {
     "name": "stdout",
     "output_type": "stream",
     "text": [
      "Puntaje en el conjunto de entrenamiento: 0.788992\n",
      "Puntaje en el conjunto de prueba: 0.223410\n"
     ]
    }
   ],
   "source": [
    "print(\"Puntaje en el conjunto de entrenamiento: %f\" % pipe.score(X_train, y_train))\n",
    "print(\"Puntaje en el conjunto de prueba: %f\" % pipe.score(X_test, y_test))"
   ]
  },
  {
   "cell_type": "code",
   "execution_count": 59,
   "metadata": {},
   "outputs": [
    {
     "name": "stdout",
     "output_type": "stream",
     "text": [
      "input:  [[2.70e+01 4.00e+00 9.00e+00 1.30e+01 4.00e+00 1.00e+01 1.00e+00 4.00e+00\n",
      "  0.00e+00 0.00e+00 0.00e+00 4.00e+01 3.90e+01 1.08e+03]]\n",
      "target:  [0]\n",
      "predicción:  [-0.05309372]\n"
     ]
    }
   ],
   "source": [
    "# hacemos una predicción\n",
    "\n",
    "print(\"input: \", X_test[1:2].values)\n",
    "print(\"target: \", y_test[1:2].values)\n",
    "print(\"predicción: \", pipe.predict(X_test[1:2]))\n",
    "\n",
    "'''De momento vemos que el modelo inicial es malo (sobreajuste) para las predicciones en el conjunto de prueba'''"
   ]
  },
  {
   "cell_type": "code",
   "execution_count": 81,
   "metadata": {},
   "outputs": [
    {
     "data": {
      "text/plain": [
       "GridSearchCV(estimator=Pipeline(steps=[('columntransformer',\n",
       "                                        ColumnTransformer(remainder=StandardScaler(),\n",
       "                                                          transformers=[('ohe',\n",
       "                                                                         OneHotEncoder(handle_unknown='ignore'),\n",
       "                                                                         Index(['age', 'workclass', 'education', 'education-num', 'marital-status',\n",
       "       'occupation', 'relationship', 'race', 'gender', 'capital-gain',\n",
       "       'capital-loss', 'hours-per-week', 'native-country', 'age-hours'],\n",
       "      dtype='object'))])),\n",
       "                                       ('polynomialfeatures',\n",
       "                                        PolynomialFeatures()),\n",
       "                                       ('ridge', Ridge())]),\n",
       "             param_grid={'ridge__alpha': [0.5, 5, 50]})"
      ]
     },
     "execution_count": 81,
     "metadata": {},
     "output_type": "execute_result"
    }
   ],
   "source": [
    "'''IMPORANTE: Esta celda demora en ejecutarse'''\n",
    "\n",
    "# un valor de alpha (float) grande, indica una mayor regularización del modelo\n",
    "param_grid = {'ridge__alpha': [0.5, 5, 50]}\n",
    "grid = GridSearchCV(pipe, param_grid)\n",
    "grid.fit(X_train, y_train)\n"
   ]
  },
  {
   "cell_type": "code",
   "execution_count": 82,
   "metadata": {},
   "outputs": [
    {
     "name": "stdout",
     "output_type": "stream",
     "text": [
      "Puntaje en el conjunto de entrenamiento: 0.622886\n",
      "Puntaje en el conjunto de prueba: 0.478801\n"
     ]
    }
   ],
   "source": [
    "print(\"Puntaje en el conjunto de entrenamiento: %f\" % grid.score(X_train, y_train))\n",
    "print(\"Puntaje en el conjunto de prueba: %f\" % grid.score(X_test, y_test))"
   ]
  },
  {
   "cell_type": "code",
   "execution_count": 83,
   "metadata": {},
   "outputs": [
    {
     "data": {
      "text/plain": [
       "{'ridge__alpha': 50}"
      ]
     },
     "execution_count": 83,
     "metadata": {},
     "output_type": "execute_result"
    }
   ],
   "source": [
    "# mostrando los mejores hiperparámetros\n",
    "grid.best_params_"
   ]
  },
  {
   "cell_type": "markdown",
   "metadata": {},
   "source": [
    "4 .Carga el conjunto de datos `adult` y realiza una división  en conjunto de entrenamiento y prueba. Aplica `grid-search` al conjunto de entrenamiento, buscando el mejor `C` para una regresión logística usando AUC. Dibuja la curva ROC y la curva precision-recall sobre el mejor modelo del conjunto de pruebas. "
   ]
  },
  {
   "cell_type": "code",
   "execution_count": 65,
   "metadata": {},
   "outputs": [
    {
     "name": "stdout",
     "output_type": "stream",
     "text": [
      "\n",
      "Busqueda grid con AUC\n",
      "Mejores hiperparámetros: {'logisticregression__C': 0.25}\n",
      "Mejor puntaje obtenido en los datos de entrenamiento: 0.8548369597872327\n",
      "Puntaje en los datos de prueba: 0.852\n"
     ]
    }
   ],
   "source": [
    "# Usaremos los mismos datos del ejercicio 3, con la excepción de que no usaremos escalado ni OneHotEncodding\n",
    "\n",
    "# como los datos de entrenamiento y validación ya estan divididos, no hace falta volver a dividirlos\n",
    "\n",
    "# importamos e instanciamos el modelo de regresión\n",
    "from sklearn.linear_model import LogisticRegression\n",
    "logReg = LogisticRegression(max_iter=1000)\n",
    "\n",
    "# C (float >= 0) es un hiperparámetro de soltura, cuando es más grande, se aplica poca regulaización, \n",
    "# y viceversa si se acerca a cero\n",
    "param_grid = {'logisticregression__C': [0.25, 0.5, 1, 5, 10]}\n",
    "\n",
    "model = make_pipeline(StandardScaler(), logReg)\n",
    "\n",
    "# Usando la métrica del área bajo la curva AUC:\n",
    "grid = GridSearchCV(model, param_grid=param_grid,\n",
    "                    scoring=[\"roc_auc\", 'average_precision', 'accuracy'],\n",
    "                    refit='roc_auc')\n",
    "\n",
    "grid.fit(X_train.values, y_train.values)\n",
    "print(\"\\nBusqueda grid con AUC\")\n",
    "print(\"Mejores hiperparámetros:\", grid.best_params_)\n",
    "print(\"Mejor puntaje obtenido en los datos de entrenamiento:\", grid.best_score_)\n",
    "print(\"Puntaje en los datos de prueba: %.3f\" % grid.score(X_test.values, y_test.values))\n"
   ]
  },
  {
   "cell_type": "code",
   "execution_count": 67,
   "metadata": {},
   "outputs": [
    {
     "data": {
      "image/png": "[encoded data removed]",
      "text/plain": [
       "<Figure size 432x288 with 1 Axes>"
      ]
     },
     "metadata": {
      "needs_background": "light"
     },
     "output_type": "display_data"
    }
   ],
   "source": [
    "# Dibujaremos la curva ROC y la curva precision-recall sobre el mejor modelo del conjunto de pruebas.\n",
    "from sklearn.metrics import plot_roc_curve\n",
    "roc_logR = plot_roc_curve(grid, X_test.values, y_test.values)\n"
   ]
  },
  {
   "cell_type": "code",
   "execution_count": 70,
   "metadata": {},
   "outputs": [
    {
     "name": "stdout",
     "output_type": "stream",
     "text": [
      "AUC para la regresión logística: 0.697951\n"
     ]
    }
   ],
   "source": [
    "from sklearn.metrics import roc_auc_score \n",
    "rl_auc = roc_auc_score(y_test.values, grid.predict(X_test.values))\n",
    "print(\"AUC para la regresión logística: %f\" % rl_auc)"
   ]
  },
  {
   "cell_type": "markdown",
   "metadata": {},
   "source": [
    "5 .Compara la velocidad  y exactitud de `LogisticRegression`, `LinearSVC` y `SGDClassifier` en el conjunto de datos `bank campaign` y `adult`. Prueba con `LogisticRegression(solver='sag')`"
   ]
  },
  {
   "cell_type": "code",
   "execution_count": 74,
   "metadata": {},
   "outputs": [
    {
     "name": "stdout",
     "output_type": "stream",
     "text": [
      "X_bank_train: (30891, 63)\n",
      "X_bank_test: (10297, 63)\n",
      "\n",
      "X_adult_traint: (24420, 14)\n",
      "X_bank_test: (10297, 63)\n"
     ]
    }
   ],
   "source": [
    "import time\n",
    "\n",
    "# como ya hemos cargado los dataset previamente..\n",
    "X_bank = bank.drop(\"target\", axis=1).values\n",
    "y_bank = bank.target.values\n",
    "\n",
    "X_adult = adult.drop(\"predclase\", axis=1).values\n",
    "y_adult = adult.predclase.values\n",
    "\n",
    "# dividimos los datasets\n",
    "X_bank_train, X_bank_test, y_bank_train, y_bank_test = train_test_split(X_bank, y_bank, test_size = 0.25, random_state=0)\n",
    "X_adult_train, X_adult_test, y_adult_train, y_adult_test = train_test_split(X_adult, y_adult, test_size = 0.25, random_state=0)\n",
    "\n",
    "\n",
    "print(\"X_bank_train: \" + str(X_bank_train.shape))\n",
    "print(\"X_bank_test: \" + str(X_bank_test.shape))\n",
    "\n",
    "print(\"\\nX_adult_traint: \" + str(X_adult_train.shape))\n",
    "print(\"X_bank_test: \" + str(X_bank_test.shape))"
   ]
  },
  {
   "cell_type": "code",
   "execution_count": 78,
   "metadata": {},
   "outputs": [],
   "source": [
    "import warnings\n",
    "warnings.filterwarnings(\"ignore\")\n",
    "\n",
    "\n",
    "# LogisticRegression\n",
    "lr_bank = LogisticRegression(solver='sag')\n",
    "lr_adult = LogisticRegression(solver='sag')\n",
    "\n",
    "start1 = time.time()\n",
    "lr_bank.fit(X_bank_train, y_bank_train)\n",
    "lr_adult.fit(X_adult_train, y_adult_train)\n",
    "done1 = time.time()\n",
    "elapsed1 = done1 - start1\n",
    "\n",
    "# LinearSVC\n",
    "from sklearn.svm import LinearSVC\n",
    "svc_bank = LinearSVC(random_state=0, tol=1e-5)\n",
    "svc_adult = LinearSVC(random_state=0, tol=1e-5)\n",
    "\n",
    "start2 = time.time()\n",
    "svc_bank.fit(X_bank_train, y_bank_train)\n",
    "svc_adult.fit(X_adult_train, y_adult_train)\n",
    "done2 = time.time()\n",
    "elapsed2 = done2 - start2\n",
    "\n",
    "# SGDClassifier\n",
    "sgd_bank = SGDClassifier(max_iter=1000, tol=1e-3)\n",
    "sgd_adult = SGDClassifier(max_iter=1000, tol=1e-3)\n",
    "\n",
    "start3 = time.time()\n",
    "sgd_bank.fit(X_bank_train, y_bank_train)\n",
    "sgd_adult.fit(X_adult_train, y_adult_train)\n",
    "done3 = time.time()\n",
    "elapsed3 = done3 - start3\n"
   ]
  },
  {
   "cell_type": "code",
   "execution_count": 79,
   "metadata": {},
   "outputs": [
    {
     "name": "stdout",
     "output_type": "stream",
     "text": [
      "LogisticRegression\n",
      "\n",
      "\tTiempo estimado de entrenamiento: 7.981\n",
      "\tPuntaje en el conjunto de prueba banco: 0.906\n",
      "\tPuntaje en el conjunto de prueba adulto: 0.787\n",
      "\n",
      "LinearSVC\n",
      "\n",
      "\tTiempo estimado de entrenamiento: 17.537\n",
      "\tPuntaje en el conjunto de prueba banco: 0.904\n",
      "\tPuntaje en el conjunto de prueba adulto: 0.775\n",
      "\n",
      "SGDClassifier\n",
      "\n",
      "\tTiempo estimado de entrenamiento: 5.235\n",
      "\tPuntaje en el conjunto de prueba banco: 0.902\n",
      "\tPuntaje en el conjunto de prueba adulto: 0.773\n"
     ]
    }
   ],
   "source": [
    "print(\"LogisticRegression\\n\")\n",
    "print(\"\\tTiempo estimado de entrenamiento: {}\".format(round(elapsed1, 3)))\n",
    "print(\"\\tPuntaje en el conjunto de prueba banco: {}\".format(round(lr_bank.score(X_bank_test, y_bank_test), 3)))\n",
    "print(\"\\tPuntaje en el conjunto de prueba adulto: {}\".format(round(lr_adult.score(X_adult_test, y_adult_test), 3)))\n",
    "\n",
    "print(\"\\nLinearSVC\\n\")\n",
    "print(\"\\tTiempo estimado de entrenamiento: {}\".format(round(elapsed2, 3)))\n",
    "print(\"\\tPuntaje en el conjunto de prueba banco: {}\".format(round(svc_bank.score(X_bank_test, y_bank_test), 3)))\n",
    "print(\"\\tPuntaje en el conjunto de prueba adulto: {}\".format(round(svc_adult.score(X_adult_test, y_adult_test), 3)))\n",
    "\n",
    "print(\"\\nSGDClassifier\\n\")\n",
    "print(\"\\tTiempo estimado de entrenamiento: {}\".format(round(elapsed3, 3)))\n",
    "print(\"\\tPuntaje en el conjunto de prueba banco: {}\".format(round(sgd_bank.score(X_bank_test, y_bank_test), 3)))\n",
    "print(\"\\tPuntaje en el conjunto de prueba adulto: {}\".format(round(sgd_adult.score(X_adult_test, y_adult_test), 3)))"
   ]
  },
  {
   "cell_type": "code",
   "execution_count": null,
   "metadata": {},
   "outputs": [],
   "source": []
  }
 ],
 "metadata": {
  "kernelspec": {
   "display_name": "Pytorch",
   "language": "python",
   "name": "pytorch"
  },
  "language_info": {
   "codemirror_mode": {
    "name": "ipython",
    "version": 3
   },
   "file_extension": ".py",
   "mimetype": "text/x-python",
   "name": "python",
   "nbconvert_exporter": "python",
   "pygments_lexer": "ipython3",
   "version": "3.6.10"
  }
 },
 "nbformat": 4,
 "nbformat_minor": 2
}

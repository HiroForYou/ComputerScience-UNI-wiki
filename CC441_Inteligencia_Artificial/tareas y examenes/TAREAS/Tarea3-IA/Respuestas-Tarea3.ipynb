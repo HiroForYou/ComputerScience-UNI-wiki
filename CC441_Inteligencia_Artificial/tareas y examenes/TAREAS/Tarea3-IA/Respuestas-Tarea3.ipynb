{
 "cells": [
  {
   "cell_type": "markdown",
   "metadata": {},
   "source": [
    "## Curso inteligencia Artificial\n",
    "\n",
    "### Tarea 3 \n",
    "\n",
    "\n",
    "* Nombres y apellidos: Cristhian Wiki Sánchez Sauñe\n",
    "\n"
   ]
  },
  {
   "cell_type": "code",
   "execution_count": 10,
   "metadata": {},
   "outputs": [
    {
     "name": "stdout",
     "output_type": "stream",
     "text": [
      "The autoreload extension is already loaded. To reload it, use:\n",
      "  %reload_ext autoreload\n"
     ]
    }
   ],
   "source": [
    "%load_ext autoreload\n",
    "%autoreload 2\n",
    "from respuestas import * "
   ]
  },
  {
   "cell_type": "markdown",
   "metadata": {},
   "source": [
    "#### Problema 1: _Encontrar la última palabra según orden alfabético_"
   ]
  },
  {
   "cell_type": "code",
   "execution_count": 11,
   "metadata": {},
   "outputs": [
    {
     "name": "stdout",
     "output_type": "stream",
     "text": [
      "hola\n"
     ]
    }
   ],
   "source": [
    "# input: 'hola como estas'\n",
    "# output: 'hola'\n",
    "print(encuentraUltimaPalabraAlfabeto('hola como estas'))"
   ]
  },
  {
   "cell_type": "markdown",
   "metadata": {},
   "source": [
    "#### Problema 2 _Distancia euclidiana entre dos puntos_"
   ]
  },
  {
   "cell_type": "code",
   "execution_count": 12,
   "metadata": {},
   "outputs": [
    {
     "name": "stdout",
     "output_type": "stream",
     "text": [
      "8.6\n"
     ]
    }
   ],
   "source": [
    "# input: loc1 = (5, 3) loc2 = (10, 10)\n",
    "# output: 8.6\n",
    "\n",
    "loc1 = (5, 3) \n",
    "loc2 = (10, 10)\n",
    "print(distanciaeuclidiana(loc1, loc2))"
   ]
  },
  {
   "cell_type": "markdown",
   "metadata": {},
   "source": [
    "#### Problema 3 _Oraciones similares_"
   ]
  },
  {
   "cell_type": "code",
   "execution_count": 13,
   "metadata": {},
   "outputs": [
    {
     "name": "stdout",
     "output_type": "stream",
     "text": [
      "['and the cat and the', 'cat and the cat and', 'the cat and the cat', 'the cat and the mouse']\n"
     ]
    }
   ],
   "source": [
    "# input: 'the cat and the mouse'\n",
    "# output: ['and the cat and the', 'the cat and the mouse', 'the cat and the cat', 'cat and the cat and'] No importa el orden\n",
    "\n",
    "sentence = 'the cat and the mouse'\n",
    "print(oracionesSimilares(sentence))"
   ]
  },
  {
   "cell_type": "markdown",
   "metadata": {},
   "source": [
    "#### Problema 4 _Producto escalar entre dos vectores_"
   ]
  },
  {
   "cell_type": "code",
   "execution_count": 6,
   "metadata": {},
   "outputs": [
    {
     "name": "stdout",
     "output_type": "stream",
     "text": [
      "154\n"
     ]
    }
   ],
   "source": [
    "# input: d_float1 = {'a':10,'b':12} y d_float2 = {'a':1,'b':12}\n",
    "# output: 154 = 10*1 + 12*12\n",
    "\n",
    "from collections import defaultdict\n",
    "\n",
    "kwargs1 = {'a':10,'b':12}\n",
    "kwargs2 = {'a':1,'b':12}\n",
    "\n",
    "d_float1 = defaultdict(float, **kwargs1)\n",
    "d_float2 = defaultdict(float, **kwargs2)\n",
    "\n",
    "print(productoEscalarvVectorialdisperso(d_float1, d_float2))"
   ]
  },
  {
   "cell_type": "markdown",
   "metadata": {},
   "source": [
    "#### Problema 5  _Incrementar un vector mediante escalado_"
   ]
  },
  {
   "cell_type": "code",
   "execution_count": 7,
   "metadata": {},
   "outputs": [
    {
     "name": "stdout",
     "output_type": "stream",
     "text": [
      "[12, 36]\n"
     ]
    }
   ],
   "source": [
    "# input: v1 = {'a':10,'b':12}, escala = 2, v2 = {'a':1,'b':12}\n",
    "# output: v1 = v1 + escala*v2  -->  [12, 36]\n",
    "\n",
    "from collections import defaultdict\n",
    "\n",
    "kwargs1 = {'a':10,'b':12}\n",
    "kwargs2 = {'a':1,'b':12}\n",
    "\n",
    "v1 = defaultdict(float, **kwargs1)\n",
    "escala = 2\n",
    "v2 = defaultdict(float, **kwargs2)\n",
    "\n",
    "print(incrementoVectorDisperso(v1, escala, v2))"
   ]
  },
  {
   "cell_type": "markdown",
   "metadata": {},
   "source": [
    "#### Problema 6 _Encontrar las palabras que solo aparecen una vez_"
   ]
  },
  {
   "cell_type": "code",
   "execution_count": 8,
   "metadata": {},
   "outputs": [
    {
     "name": "stdout",
     "output_type": "stream",
     "text": [
      "{'que', 'nada', 'solo'}\n"
     ]
    }
   ],
   "source": [
    "# input: 'yo solo se que yo nada se'\n",
    "# output: {'que', 'nada', 'solo'}\n",
    "\n",
    "sentence = 'yo solo se que yo nada se'\n",
    "print(encontrarUnicaPalabra(sentence))"
   ]
  },
  {
   "cell_type": "markdown",
   "metadata": {},
   "source": [
    "#### Problema 7 _Encontrar la longitud del palíndromo más largo, eliminando caracteres_"
   ]
  },
  {
   "cell_type": "code",
   "execution_count": 9,
   "metadata": {},
   "outputs": [
    {
     "name": "stdout",
     "output_type": "stream",
     "text": [
      "3\n"
     ]
    }
   ],
   "source": [
    "# input: 'animal'\n",
    "# output 'ana' -> len('ana') = 3\n",
    "\n",
    "sentence = 'animal'\n",
    "print(calculaPolindromoMasLargo(sentence))"
   ]
  }
 ],
 "metadata": {
  "kernelspec": {
   "display_name": "Pytorch",
   "language": "python",
   "name": "pytorch"
  },
  "language_info": {
   "codemirror_mode": {
    "name": "ipython",
    "version": 3
   },
   "file_extension": ".py",
   "mimetype": "text/x-python",
   "name": "python",
   "nbconvert_exporter": "python",
   "pygments_lexer": "ipython3",
   "version": "3.6.10"
  }
 },
 "nbformat": 4,
 "nbformat_minor": 4
}

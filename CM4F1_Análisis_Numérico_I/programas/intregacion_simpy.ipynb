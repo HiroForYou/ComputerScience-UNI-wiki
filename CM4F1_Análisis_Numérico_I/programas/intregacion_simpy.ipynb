{
 "cells": [
  {
   "cell_type": "code",
   "execution_count": 3,
   "metadata": {},
   "outputs": [],
   "source": [
    "import pandas as pd\n",
    "import math as mt\n",
    "from sympy import integrate, init_printing\n",
    "from sympy.abc import x"
   ]
  },
  {
   "cell_type": "code",
   "execution_count": 4,
   "metadata": {},
   "outputs": [],
   "source": [
    "def recur(k):\n",
    "    if(k>0):\n",
    "        result=(1/k)-(10*recur(k-1))\n",
    "        return result\n",
    "    else:\n",
    "        result=mt.log(1.1)\n",
    "    return result"
   ]
  },
  {
   "cell_type": "code",
   "execution_count": 5,
   "metadata": {},
   "outputs": [],
   "source": [
    "def truncate(number, digits) -> float:\n",
    "    stepper = 10.0 ** digits\n",
    "    return mt.trunc(stepper * number) / stepper"
   ]
  },
  {
   "cell_type": "code",
   "execution_count": 6,
   "metadata": {},
   "outputs": [
    {
     "name": "stdout",
     "output_type": "stream",
     "text": [
      "f || valor real || valor con algoritmo\n",
      "1 : 0.0468 || 0.0468\n",
      "2 : 0.031 || 0.031\n",
      "3 : 0.0231 || 0.0231\n",
      "4 : 0.0184 || 0.0184\n",
      "5 : 0.0153 || 0.0153\n",
      "6 : 0.0131 || 0.0131\n",
      "7 : 0.0114 || 0.0114\n",
      "8 : 0.0101 || 0.0101\n",
      "9 : 0.0091 || 0.0091\n",
      "10 : 0.0083 || 0.0083\n",
      "11 : 0.0076 || 0.0076\n",
      "12 : 0.007 || 0.0071\n",
      "13 : 0.0065 || 0.0057\n",
      "14 : 0.006 || 0.0135\n",
      "15 : 0.0057 || -0.0691\n",
      "16 : 0.0053 || 0.7537\n",
      "17 : 0.005 || -7.4783\n",
      "18 : 0.0048 || 74.8394\n",
      "19 : 0.0045 || -748.3418\n",
      "20 : 0.0043 || 7483.468\n"
     ]
    }
   ],
   "source": [
    "print('f','||','valor real','||','valor con algoritmo')\n",
    "for f in range(1,21):\n",
    "    r=float(integrate(x**f/(x+10),(x,0,1)))\n",
    "    q=recur(f)\n",
    "    print(f,\":\",truncate(r,4),\"||\",truncate(q,4))"
   ]
  },
  {
   "cell_type": "code",
   "execution_count": null,
   "metadata": {},
   "outputs": [],
   "source": []
  }
 ],
 "metadata": {
  "kernelspec": {
   "display_name": "TF2",
   "language": "python",
   "name": "tf2"
  }
 },
 "nbformat": 4,
 "nbformat_minor": 4
}
